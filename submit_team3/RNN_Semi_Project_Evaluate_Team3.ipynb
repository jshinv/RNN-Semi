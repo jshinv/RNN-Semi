{
 "cells": [
  {
   "cell_type": "code",
   "execution_count": 5,
   "metadata": {},
   "outputs": [],
   "source": [
    "import pandas as pd\n",
    "import numpy as np\n",
    "\n",
    "%matplotlib inline\n",
    "import matplotlib.pyplot as plt\n",
    "\n",
    "from tensorflow.keras.preprocessing.text import Tokenizer\n",
    "from tensorflow.keras.layers import Input, Embedding, LSTM, Dense, Dropout, Conv1D, MaxPooling1D, Flatten\n",
    "from tensorflow.keras.models import Model, Sequential, load_model\n",
    "from tensorflow.keras.callbacks import EarlyStopping, ModelCheckpoint\n",
    "from tensorflow.keras.optimizers import Adam\n",
    "\n",
    "import pickle"
   ]
  },
  {
   "cell_type": "markdown",
   "metadata": {},
   "source": [
    "## LSTM으로 네이버 영화 리뷰 감성 분류"
   ]
  },
  {
   "cell_type": "code",
   "execution_count": 6,
   "metadata": {},
   "outputs": [],
   "source": [
    "np.random.seed(5)"
   ]
  },
  {
   "cell_type": "code",
   "execution_count": 7,
   "metadata": {},
   "outputs": [],
   "source": [
    "X_train = np.load(\"./save/X_train.npy\")\n",
    "X_test = np.load(\"./save/X_test.npy\")\n",
    "y_train = np.load(\"./save/y_train.npy\")\n",
    "y_test = np.load(\"./save/y_test.npy\")\n",
    "with open('./save/vocab_size.p', 'rb') as file:\n",
    "    vocab_size = pickle.load(file)"
   ]
  },
  {
   "cell_type": "code",
   "execution_count": 8,
   "metadata": {},
   "outputs": [
    {
     "name": "stdout",
     "output_type": "stream",
     "text": [
      "Model: \"model\"\n",
      "_________________________________________________________________\n",
      "Layer (type)                 Output Shape              Param #   \n",
      "=================================================================\n",
      "input_2 (InputLayer)         [(None, 30)]              0         \n",
      "_________________________________________________________________\n",
      "embedding_1 (Embedding)      (None, 30, 128)           997376    \n",
      "_________________________________________________________________\n",
      "conv1d_2 (Conv1D)            (None, 30, 128)           65664     \n",
      "_________________________________________________________________\n",
      "max_pooling1d_2 (MaxPooling1 (None, 15, 128)           0         \n",
      "_________________________________________________________________\n",
      "conv1d_3 (Conv1D)            (None, 15, 128)           65664     \n",
      "_________________________________________________________________\n",
      "max_pooling1d_3 (MaxPooling1 (None, 7, 128)            0         \n",
      "_________________________________________________________________\n",
      "lstm_1 (LSTM)                (None, 7, 32)             20608     \n",
      "_________________________________________________________________\n",
      "dense_2 (Dense)              (None, 7, 128)            4224      \n",
      "_________________________________________________________________\n",
      "dense_3 (Dense)              (None, 7, 32)             4128      \n",
      "_________________________________________________________________\n",
      "flatten (Flatten)            (None, 224)               0         \n",
      "_________________________________________________________________\n",
      "dense_4 (Dense)              (None, 1)                 225       \n",
      "=================================================================\n",
      "Total params: 1,157,889\n",
      "Trainable params: 1,157,889\n",
      "Non-trainable params: 0\n",
      "_________________________________________________________________\n"
     ]
    }
   ],
   "source": [
    "model_name = 'model_team3.h5'\n",
    "\n",
    "T = X_train.shape[1]\n",
    "\n",
    "i = Input(shape=(T,))\n",
    "x = Embedding(vocab_size, 128)(i)\n",
    "x = Conv1D(filters=128, kernel_size=4, padding='same', activation='relu')(x)\n",
    "x = MaxPooling1D(pool_size=2)(x)\n",
    "x = Conv1D(filters=128, kernel_size=4, padding='same', activation='relu')(x)\n",
    "x = MaxPooling1D(pool_size=2)(x)\n",
    "x = LSTM(32, return_sequences=True)(x)\n",
    "x = Dense(128, activation='sigmoid')(x)\n",
    "x = Dense(32, activation='sigmoid')(x)\n",
    "x = Flatten()(x)\n",
    "x = Dense(1, activation='sigmoid')(x)\n",
    "\n",
    "model = Model(i, x)\n",
    "model.summary()"
   ]
  },
  {
   "cell_type": "code",
   "execution_count": 9,
   "metadata": {},
   "outputs": [],
   "source": [
    "es = EarlyStopping(monitor='val_loss', mode='min', verbose=1, patience=4)\n",
    "mc = ModelCheckpoint(model_name, monitor='val_acc', mode='max', \n",
    "                     verbose=1, save_best_only=True)"
   ]
  },
  {
   "cell_type": "code",
   "execution_count": 10,
   "metadata": {},
   "outputs": [
    {
     "name": "stdout",
     "output_type": "stream",
     "text": [
      "Train on 21561 samples, validate on 2396 samples\n",
      "Epoch 1/15\n",
      "21480/21561 [============================>.] - ETA: 0s - loss: 0.4143 - accuracy: 0.8195WARNING:tensorflow:Can save best model only with val_acc available, skipping.\n",
      "21561/21561 [==============================] - 14s 666us/sample - loss: 0.4139 - accuracy: 0.8197 - val_loss: 0.3149 - val_accuracy: 0.8694\n",
      "Epoch 2/15\n",
      "21480/21561 [============================>.] - ETA: 0s - loss: 0.2457 - accuracy: 0.9032WARNING:tensorflow:Can save best model only with val_acc available, skipping.\n",
      "21561/21561 [==============================] - 13s 623us/sample - loss: 0.2454 - accuracy: 0.9033 - val_loss: 0.3063 - val_accuracy: 0.8744\n",
      "Epoch 3/15\n",
      "21540/21561 [============================>.] - ETA: 0s - loss: 0.1782 - accuracy: 0.9367WARNING:tensorflow:Can save best model only with val_acc available, skipping.\n",
      "21561/21561 [==============================] - 13s 616us/sample - loss: 0.1781 - accuracy: 0.9367 - val_loss: 0.3150 - val_accuracy: 0.8710\n",
      "Epoch 4/15\n",
      "21540/21561 [============================>.] - ETA: 0s - loss: 0.1316 - accuracy: 0.9565WARNING:tensorflow:Can save best model only with val_acc available, skipping.\n",
      "21561/21561 [==============================] - 14s 630us/sample - loss: 0.1315 - accuracy: 0.9564 - val_loss: 0.3702 - val_accuracy: 0.8681\n",
      "Epoch 5/15\n",
      "21480/21561 [============================>.] - ETA: 0s - loss: 0.1000 - accuracy: 0.9709WARNING:tensorflow:Can save best model only with val_acc available, skipping.\n",
      "21561/21561 [==============================] - 14s 640us/sample - loss: 0.0998 - accuracy: 0.9710 - val_loss: 0.3992 - val_accuracy: 0.8614\n",
      "Epoch 6/15\n",
      "21480/21561 [============================>.] - ETA: 0s - loss: 0.0782 - accuracy: 0.9783WARNING:tensorflow:Can save best model only with val_acc available, skipping.\n",
      "21561/21561 [==============================] - 14s 636us/sample - loss: 0.0785 - accuracy: 0.9782 - val_loss: 0.4390 - val_accuracy: 0.8635\n",
      "Epoch 00006: early stopping\n"
     ]
    }
   ],
   "source": [
    "model.compile(optimizer=Adam(lr=0.002,\n",
    "                             beta_1=0.9,\n",
    "                             beta_2=0.999, \n",
    "                             epsilon=None,\n",
    "                             decay=0.01,\n",
    "                             amsgrad=False),\n",
    "              loss='binary_crossentropy',\n",
    "              metrics=['accuracy'])\n",
    "history = model.fit(X_train, y_train, epochs=15, \n",
    "                    callbacks=[es, mc], batch_size=60, validation_split=0.1)"
   ]
  },
  {
   "cell_type": "code",
   "execution_count": 11,
   "metadata": {},
   "outputs": [],
   "source": [
    "from tensorflow.keras.models import load_model\n",
    "model.save('./save/'+model_name)"
   ]
  },
  {
   "cell_type": "code",
   "execution_count": 12,
   "metadata": {},
   "outputs": [
    {
     "name": "stdout",
     "output_type": "stream",
     "text": [
      "12594/12594 [==============================] - 3s 229us/sample - loss: 0.3300 - accuracy: 0.8980\n",
      "\n",
      " 테스트 정확도: 0.8980\n"
     ]
    }
   ],
   "source": [
    "loaded_model = load_model('./save/'+model_name)\n",
    "print(\"\\n 테스트 정확도: %.4f\" % (loaded_model.evaluate(X_test, y_test)[1]))"
   ]
  },
  {
   "cell_type": "code",
   "execution_count": null,
   "metadata": {},
   "outputs": [],
   "source": []
  }
 ],
 "metadata": {
  "hide_input": false,
  "kernelspec": {
   "display_name": "Python 3",
   "language": "python",
   "name": "python3"
  },
  "language_info": {
   "codemirror_mode": {
    "name": "ipython",
    "version": 3
   },
   "file_extension": ".py",
   "mimetype": "text/x-python",
   "name": "python",
   "nbconvert_exporter": "python",
   "pygments_lexer": "ipython3",
   "version": "3.6.10"
  },
  "toc": {
   "base_numbering": 1,
   "nav_menu": {},
   "number_sections": true,
   "sideBar": true,
   "skip_h1_title": false,
   "title_cell": "Table of Contents",
   "title_sidebar": "Contents",
   "toc_cell": false,
   "toc_position": {},
   "toc_section_display": true,
   "toc_window_display": false
  },
  "varInspector": {
   "cols": {
    "lenName": 16,
    "lenType": 16,
    "lenVar": 40
   },
   "kernels_config": {
    "python": {
     "delete_cmd_postfix": "",
     "delete_cmd_prefix": "del ",
     "library": "var_list.py",
     "varRefreshCmd": "print(var_dic_list())"
    },
    "r": {
     "delete_cmd_postfix": ") ",
     "delete_cmd_prefix": "rm(",
     "library": "var_list.r",
     "varRefreshCmd": "cat(var_dic_list()) "
    }
   },
   "types_to_exclude": [
    "module",
    "function",
    "builtin_function_or_method",
    "instance",
    "_Feature"
   ],
   "window_display": false
  }
 },
 "nbformat": 4,
 "nbformat_minor": 4
}
