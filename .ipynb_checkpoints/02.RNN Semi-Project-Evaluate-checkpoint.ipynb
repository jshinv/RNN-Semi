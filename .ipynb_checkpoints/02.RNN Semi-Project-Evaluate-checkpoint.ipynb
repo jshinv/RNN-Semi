{
 "cells": [
  {
   "cell_type": "code",
   "execution_count": 1,
   "metadata": {},
   "outputs": [],
   "source": [
    "import pandas as pd\n",
    "import urllib.request\n",
    "%matplotlib inline\n",
    "import matplotlib.pyplot as plt\n",
    "import re\n",
    "from konlpy.tag import Okt\n",
    "from tensorflow.keras.preprocessing.text import Tokenizer\n",
    "import numpy as np\n",
    "from tensorflow.keras.preprocessing.sequence import pad_sequences\n",
    "from sklearn.model_selection import train_test_split\n",
    "from tensorflow.keras.layers import Input, Embedding, LSTM, Dense, Dropout, Conv1D, MaxPooling1D, Flatten\n",
    "from tensorflow.keras.models import Sequential\n",
    "from tensorflow.keras.models import Model, load_model\n",
    "from tensorflow.keras.callbacks import EarlyStopping, ModelCheckpoint\n",
    "import pickle"
   ]
  },
  {
   "cell_type": "markdown",
   "metadata": {},
   "source": [
    "## LSTM으로 네이버 영화 리뷰 감성 분류"
   ]
  },
  {
   "cell_type": "code",
   "execution_count": 2,
   "metadata": {},
   "outputs": [],
   "source": [
    "X_train = np.load(\"./save/X_train.npy\")\n",
    "X_test = np.load(\"./save/X_test.npy\")\n",
    "y_train = np.load(\"./save/y_train.npy\")\n",
    "y_test = np.load(\"./save/y_test.npy\")\n",
    "with open('./save/vocab_size.p', 'rb') as file:\n",
    "    vocab_size = pickle.load(file)"
   ]
  },
  {
   "cell_type": "code",
   "execution_count": 3,
   "metadata": {},
   "outputs": [
    {
     "name": "stdout",
     "output_type": "stream",
     "text": [
      "Model: \"model\"\n",
      "_________________________________________________________________\n",
      "Layer (type)                 Output Shape              Param #   \n",
      "=================================================================\n",
      "input_1 (InputLayer)         [(None, 30)]              0         \n",
      "_________________________________________________________________\n",
      "embedding (Embedding)        (None, 30, 120)           935040    \n",
      "_________________________________________________________________\n",
      "conv1d (Conv1D)              (None, 30, 64)            23104     \n",
      "_________________________________________________________________\n",
      "max_pooling1d (MaxPooling1D) (None, 15, 64)            0         \n",
      "_________________________________________________________________\n",
      "dropout (Dropout)            (None, 15, 64)            0         \n",
      "_________________________________________________________________\n",
      "lstm (LSTM)                  (None, 15, 256)           328704    \n",
      "_________________________________________________________________\n",
      "dropout_1 (Dropout)          (None, 15, 256)           0         \n",
      "_________________________________________________________________\n",
      "dense (Dense)                (None, 15, 128)           32896     \n",
      "_________________________________________________________________\n",
      "dense_1 (Dense)              (None, 15, 10)            1290      \n",
      "_________________________________________________________________\n",
      "lstm_1 (LSTM)                (None, 128)               71168     \n",
      "_________________________________________________________________\n",
      "dense_2 (Dense)              (None, 1)                 129       \n",
      "=================================================================\n",
      "Total params: 1,392,331\n",
      "Trainable params: 1,392,331\n",
      "Non-trainable params: 0\n",
      "_________________________________________________________________\n"
     ]
    }
   ],
   "source": [
    "T = X_train.shape[1]\n",
    "i = Input(shape=(T,))\n",
    "\n",
    "## model 1 - teacher's 0.8826\n",
    "# model_name = 'model_1.h5'\n",
    "# x = Embedding(vocab_size, 100)(i)\n",
    "# x = LSTM(128)(x)\n",
    "# x = Dense(1, activation='sigmoid')(x)\n",
    "\n",
    "## model 2 - 0.8949\n",
    "# model_name = 'model_2.h5'\n",
    "# x = Embedding(vocab_size, 120)(i)\n",
    "# x = Conv1D(filters=16, kernel_size=4, padding='same', activation='relu')(x)\n",
    "# x = MaxPooling1D(pool_size=2)(x)\n",
    "# x = LSTM(32, return_sequences=True)(x)\n",
    "# x = Dense(64, activation='sigmoid')(x)\n",
    "# x = Dense(10, activation='sigmoid')(x)\n",
    "# x = LSTM(128, return_sequences=False)(x)\n",
    "# x = Dense(1, activation='sigmoid')(x)\n",
    "\n",
    "## model 3 - 0.8883\n",
    "# model_name = 'model_3.h5'\n",
    "# x = Embedding(vocab_size, 120)(i)\n",
    "# x = Conv1D(filters=16, kernel_size=4, padding='same', activation='relu')(x)\n",
    "# x = MaxPooling1D(pool_size=2)(x)\n",
    "# x = Dropout(0.2)(x)\n",
    "# x = LSTM(32, return_sequences=True)(x)\n",
    "# x = Dropout(0.2)(x)\n",
    "# x = Dense(64, activation='sigmoid')(x)\n",
    "# x = Dense(10, activation='sigmoid')(x)\n",
    "# x = LSTM(128, return_sequences=False)(x)\n",
    "# x = Dense(1, activation='sigmoid')(x)\n",
    "\n",
    "## model 4 - 0.8800\n",
    "# model_name = 'model_4.h5'\n",
    "# x = Embedding(vocab_size, 120)(i)\n",
    "# x = Conv1D(filters=32, kernel_size=5, padding='same', activation='relu')(x)\n",
    "# x = MaxPooling1D(pool_size=2)(x)\n",
    "# x = Dropout(0.2)(x)\n",
    "# x = LSTM(120, return_sequences=True)(x)\n",
    "# x = Dropout(0.2)(x)\n",
    "# x = Dense(64, activation='sigmoid')(x)\n",
    "# x = Dense(10, activation='sigmoid')(x)\n",
    "# x = LSTM(128, return_sequences=False)(x)\n",
    "# x = Dense(1, activation='sigmoid')(x)\n",
    "\n",
    "## model 5 - 0.8907\n",
    "# model_name = 'model_5.h5'\n",
    "# x = Embedding(vocab_size, 120)(i)\n",
    "# x = Conv1D(filters=64, kernel_size=3, padding='same', activation='relu')(x)\n",
    "# x = MaxPooling1D(pool_size=2)(x)\n",
    "# x = Dropout(0.2)(x)\n",
    "# x = LSTM(256, return_sequences=True)(x)\n",
    "# x = Dropout(0.2)(x)\n",
    "# x = Dense(128, activation='sigmoid')(x)\n",
    "# x = Dense(10, activation='sigmoid')(x)\n",
    "# x = LSTM(128, return_sequences=False)(x)\n",
    "# x = Dense(1, activation='sigmoid')(x)\n",
    "\n",
    "## model 6 - 0.8955\n",
    "# model_name = 'model_6.h5'\n",
    "# x = Embedding(vocab_size, 120)(i)\n",
    "# x = Conv1D(filters=16, kernel_size=4, padding='same', activation='relu')(x)\n",
    "# x = MaxPooling1D(pool_size=2)(x)\n",
    "# x = Dropout(0.2)(x)\n",
    "# x = LSTM(120, return_sequences=True)(x)\n",
    "# x = Dropout(0.2)(x)\n",
    "# x = Dense(64, activation='sigmoid')(x)\n",
    "# x = Dense(10, activation='sigmoid')(x)\n",
    "# x = LSTM(128, return_sequences=False)(x)\n",
    "# x = Dense(1, activation='sigmoid')(x)\n",
    "\n",
    "## model 7 - 0.8954\n",
    "# model_name = 'model_7.h5'\n",
    "# x = Embedding(vocab_size, 120)(i)\n",
    "# x = Conv1D(filters=16, kernel_size=4, padding='same', activation='relu')(x)\n",
    "# x = MaxPooling1D(pool_size=2)(x)\n",
    "# x = Dropout(0.2)(x)\n",
    "# x = LSTM(64, return_sequences=True)(x)\n",
    "# x = Dropout(0.2)(x)\n",
    "# x = Dense(32, activation='sigmoid')(x)\n",
    "# x = LSTM(128, return_sequences=False)(x)\n",
    "# x = Dense(1, activation='sigmoid')(x)\n",
    "\n",
    "## model 8 - 0.8937\n",
    "# model_name = 'model_8.h5'\n",
    "# x = Embedding(vocab_size, 120)(i)\n",
    "# x = Conv1D(filters=16, kernel_size=4, padding='same', activation='relu')(x)\n",
    "# x = MaxPooling1D(pool_size=2)(x)\n",
    "# x = Dropout(0.2)(x)\n",
    "# x = LSTM(128, return_sequences=True)(x)\n",
    "# x = Dropout(0.2)(x)\n",
    "# x = Dense(64, activation='sigmoid')(x)\n",
    "# x = Dense(10, activation='sigmoid')(x)\n",
    "# x = LSTM(128, return_sequences=False)(x)\n",
    "# x = Dense(1, activation='sigmoid')(x)\n",
    "\n",
    "## model 9 - 0.8883\n",
    "# model_name = 'model_9.h5'\n",
    "# x = Embedding(vocab_size, 120)(i)\n",
    "# x = Conv1D(filters=16, kernel_size=4, padding='same', activation='relu')(x)\n",
    "# x = MaxPooling1D(pool_size=2)(x)\n",
    "# x = Dropout(0.2)(x)\n",
    "# x = LSTM(128, return_sequences=True)(x)\n",
    "# x = Dropout(0.2)(x)\n",
    "# x = Dense(64, activation='sigmoid')(x)\n",
    "# x = Dense(10, activation='sigmoid')(x)\n",
    "# x = Flatten()(x)\n",
    "# x = Dense(1, activation='sigmoid')(x)\n",
    "\n",
    "## model 10 - 0.8926\n",
    "model_name = 'model_10.h5'\n",
    "x = Embedding(vocab_size, 100)(i)\n",
    "x = Dropout(0.2)(x)\n",
    "x = Conv1D(filters=32, kernel_size=4, padding='same', activation='relu')(x)\n",
    "x = MaxPooling1D(pool_size=2)(x)\n",
    "x = Dropout(0.2)(x)\n",
    "x = LSTM(128, return_sequences=True)(x)\n",
    "x = Dropout(0.2)(x)\n",
    "x = Dense(10, activation='sigmoid')(x)\n",
    "x = LSTM(32, return_sequences=False)(x)\n",
    "x = Dense(1, activation='sigmoid')(x)\n",
    "\n",
    "\n",
    "model = Model(i, x)\n",
    "model.summary()"
   ]
  },
  {
   "cell_type": "code",
   "execution_count": 4,
   "metadata": {},
   "outputs": [],
   "source": [
    "# 검증 데이터 손실(val_loss)이 증가하면, 과적합 징후\n",
    "# 검증 데이터 손실이 4회 증가하면 학습을 조기 종료(Early Stopping)\n",
    "# 검증 데이터의 정확도(val_acc)가 이전보다 좋아질 경우에만 모델을 저장\n",
    "es = EarlyStopping(monitor='val_loss', mode='min', verbose=1, patience=4)\n",
    "mc = ModelCheckpoint('best_model.h5', monitor='val_acc', mode='max', \n",
    "                     verbose=1, save_best_only=True)"
   ]
  },
  {
   "cell_type": "code",
   "execution_count": 5,
   "metadata": {},
   "outputs": [
    {
     "name": "stdout",
     "output_type": "stream",
     "text": [
      "Train on 19165 samples, validate on 4792 samples\n",
      "Epoch 1/15\n",
      "19140/19165 [============================>.] - ETA: 0s - loss: 0.4429 - accuracy: 0.8024WARNING:tensorflow:Can save best model only with val_acc available, skipping.\n",
      "19165/19165 [==============================] - 33s 2ms/sample - loss: 0.4430 - accuracy: 0.8025 - val_loss: 0.3140 - val_accuracy: 0.8675\n",
      "Epoch 2/15\n",
      "19140/19165 [============================>.] - ETA: 0s - loss: 0.2608 - accuracy: 0.8970WARNING:tensorflow:Can save best model only with val_acc available, skipping.\n",
      "19165/19165 [==============================] - 32s 2ms/sample - loss: 0.2608 - accuracy: 0.8970 - val_loss: 0.3000 - val_accuracy: 0.8729\n",
      "Epoch 3/15\n",
      "19140/19165 [============================>.] - ETA: 0s - loss: 0.1855 - accuracy: 0.9303WARNING:tensorflow:Can save best model only with val_acc available, skipping.\n",
      "19165/19165 [==============================] - 34s 2ms/sample - loss: 0.1853 - accuracy: 0.9303 - val_loss: 0.3302 - val_accuracy: 0.8746\n",
      "Epoch 4/15\n",
      "19140/19165 [============================>.] - ETA: 0s - loss: 0.1271 - accuracy: 0.9541 EWARNING:tensorflow:Can save best model only with val_acc available, skipping.\n",
      "19165/19165 [==============================] - 35s 2ms/sample - loss: 0.1271 - accuracy: 0.9541 - val_loss: 0.3590 - val_accuracy: 0.8737\n",
      "Epoch 5/15\n",
      "19140/19165 [============================>.] - ETA: 0s - loss: 0.0831 - accuracy: 0.9717WARNING:tensorflow:Can save best model only with val_acc available, skipping.\n",
      "19165/19165 [==============================] - 34s 2ms/sample - loss: 0.0833 - accuracy: 0.9717 - val_loss: 0.4976 - val_accuracy: 0.8575\n",
      "Epoch 6/15\n",
      "19140/19165 [============================>.] - ETA: 0s - loss: 0.0601 - accuracy: 0.9794WARNING:tensorflow:Can save best model only with val_acc available, skipping.\n",
      "19165/19165 [==============================] - 35s 2ms/sample - loss: 0.0601 - accuracy: 0.9794 - val_loss: 0.5471 - val_accuracy: 0.8539\n",
      "Epoch 00006: early stopping\n"
     ]
    }
   ],
   "source": [
    "model.compile(optimizer='adam', loss='binary_crossentropy', metrics=['accuracy'])\n",
    "history = model.fit(X_train, y_train, epochs=15, \n",
    "                    callbacks=[es, mc], batch_size=60, validation_split=0.2)"
   ]
  },
  {
   "cell_type": "code",
   "execution_count": 6,
   "metadata": {},
   "outputs": [
    {
     "name": "stdout",
     "output_type": "stream",
     "text": [
      "12594/12594 [==============================] - 9s 724us/sample - loss: 0.4161 - accuracy: 0.8907\n",
      "\n",
      " 테스트 정확도: 0.8907\n"
     ]
    }
   ],
   "source": [
    "# loaded_model = load_model('best_model.h5')\n",
    "# print(\"\\n 테스트 정확도: %.4f\" % (loaded_model.evaluate(X_test, y_test)[1]))\n",
    "print(\"\\n 테스트 정확도: %.4f\" % (model.evaluate(X_test, y_test)[1]))"
   ]
  },
  {
   "cell_type": "code",
   "execution_count": null,
   "metadata": {},
   "outputs": [],
   "source": []
  }
 ],
 "metadata": {
  "hide_input": false,
  "kernelspec": {
   "display_name": "Python 3",
   "language": "python",
   "name": "python3"
  },
  "language_info": {
   "codemirror_mode": {
    "name": "ipython",
    "version": 3
   },
   "file_extension": ".py",
   "mimetype": "text/x-python",
   "name": "python",
   "nbconvert_exporter": "python",
   "pygments_lexer": "ipython3",
   "version": "3.6.10"
  },
  "toc": {
   "base_numbering": 1,
   "nav_menu": {},
   "number_sections": true,
   "sideBar": true,
   "skip_h1_title": false,
   "title_cell": "Table of Contents",
   "title_sidebar": "Contents",
   "toc_cell": false,
   "toc_position": {},
   "toc_section_display": true,
   "toc_window_display": false
  },
  "varInspector": {
   "cols": {
    "lenName": 16,
    "lenType": 16,
    "lenVar": 40
   },
   "kernels_config": {
    "python": {
     "delete_cmd_postfix": "",
     "delete_cmd_prefix": "del ",
     "library": "var_list.py",
     "varRefreshCmd": "print(var_dic_list())"
    },
    "r": {
     "delete_cmd_postfix": ") ",
     "delete_cmd_prefix": "rm(",
     "library": "var_list.r",
     "varRefreshCmd": "cat(var_dic_list()) "
    }
   },
   "types_to_exclude": [
    "module",
    "function",
    "builtin_function_or_method",
    "instance",
    "_Feature"
   ],
   "window_display": false
  }
 },
 "nbformat": 4,
 "nbformat_minor": 4
}
