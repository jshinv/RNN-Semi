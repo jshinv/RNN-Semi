{
 "cells": [
  {
   "cell_type": "code",
   "execution_count": 10,
   "metadata": {},
   "outputs": [],
   "source": [
    "import requests\n",
    "from bs4 import BeautifulSoup\n",
    "import pandas as pd\n",
    "from selenium import webdriver\n",
    "import time"
   ]
  },
  {
   "cell_type": "code",
   "execution_count": 102,
   "metadata": {},
   "outputs": [],
   "source": [
    "def get_review2(url_num_list, page_num):\n",
    "    for url_num in url_num_list:\n",
    "        base_url = 'https://movie.naver.com/movie/bi/mi/point.nhn?code='+str(url_num)\n",
    "        print(base_url, 'scraping.....')\n",
    "        # Chrome의 경우 | 아까 받은 chromedriver의 위치를 지정해준다.\n",
    "        #browser = webdriver.Chrome('E:/Util/chromedriver/chromedriver.exe')\n",
    "        # PhantomJS의 경우 | 아까 받은 PhantomJS의 위치를 지정해준다.\n",
    "        browser = webdriver.PhantomJS('E:/Util/phantomjs/phantomjs-2.1.1-windows/bin/phantomjs.exe')\n",
    "\n",
    "        browser.maximize_window()\n",
    "        browser.get(base_url)\n",
    "\n",
    "        browser.switch_to_frame(browser.find_element_by_id('pointAfterListIframe'))\n",
    "\n",
    "        naver_movie = pd.DataFrame({'document':[], 'star':[], 'label':[]})\n",
    "\n",
    "        for page in range(0,page_num):\n",
    "            time.sleep(1)\n",
    "            html0 = browser.page_source\n",
    "            html1 = BeautifulSoup(html0,'html.parser') \n",
    "            html2 = html1.find('div',{'class':'ifr_area basic_ifr'}) \n",
    "            review0 = html2.find('div',{'class':'score_result'}).find_all('li')\n",
    "\n",
    "            for i in range(len(review0)):\n",
    "                star_score = review0[i].find('div',{'class':'star_score'}).find('em').text\n",
    "                review = review0[i].find('div',{'class':'score_reple'}).find('p').text\n",
    "                review = review.replace('\\n', '')\n",
    "                review = review.replace('\\t', '')\n",
    "\n",
    "                star_num = int(star_score) if star_score.strip() else 0\n",
    "                if star_num < 5:\n",
    "                    insert_data = pd.DataFrame({'document':[review],\n",
    "                                            'star':[star_score],\n",
    "                                            'label':[str(0)]})\n",
    "                    naver_movie = naver_movie.append(insert_data)\n",
    "                elif star_num > 6:\n",
    "                    insert_data = pd.DataFrame({'document':[review],\n",
    "                                            'star':[star_score],\n",
    "                                            'label':[str(1)]})\n",
    "                    naver_movie = naver_movie.append(insert_data)\n",
    "\n",
    "            try:\n",
    "                if page == 0:\n",
    "                    browser.find_elements_by_xpath('//*[@class = \"paging\"]/div/a')[10].click()\n",
    "                else:\n",
    "                    browser.find_elements_by_xpath('//*[@class = \"paging\"]/div/a')[11].click()\n",
    "            except:\n",
    "                break\n",
    "\n",
    "\n",
    "        naver_movie.index = range(len(naver_movie))\n",
    "        \n",
    "        save_file_name = './datasets/naver_movie_reviews_' + str(url_num) + '_20200501.csv'\n",
    "        print(save_file_name, 'save.....')\n",
    "        naver_movie.to_csv(save_file_name, mode='w')\n",
    "    return"
   ]
  },
  {
   "cell_type": "code",
   "execution_count": 103,
   "metadata": {
    "scrolled": true
   },
   "outputs": [
    {
     "name": "stdout",
     "output_type": "stream",
     "text": [
      "https://movie.naver.com/movie/bi/mi/point.nhn?code=14448 scraping.....\n"
     ]
    },
    {
     "name": "stderr",
     "output_type": "stream",
     "text": [
      "C:\\Users\\YH\\Anaconda3\\envs\\rnn\\lib\\site-packages\\selenium\\webdriver\\phantomjs\\webdriver.py:49: UserWarning: Selenium support for PhantomJS has been deprecated, please use headless versions of Chrome or Firefox instead\n",
      "  warnings.warn('Selenium support for PhantomJS has been deprecated, please use headless '\n",
      "C:\\Users\\YH\\Anaconda3\\envs\\rnn\\lib\\site-packages\\ipykernel_launcher.py:13: DeprecationWarning: use driver.switch_to.frame instead\n",
      "  del sys.path[0]\n"
     ]
    },
    {
     "name": "stdout",
     "output_type": "stream",
     "text": [
      "./datasets/naver_movie_reviews_14448_20200501.csv save.....\n",
      "https://movie.naver.com/movie/bi/mi/point.nhn?code=172420 scraping.....\n",
      "./datasets/naver_movie_reviews_172420_20200501.csv save.....\n",
      "https://movie.naver.com/movie/bi/mi/point.nhn?code=182014 scraping.....\n",
      "./datasets/naver_movie_reviews_182014_20200501.csv save.....\n",
      "https://movie.naver.com/movie/bi/mi/point.nhn?code=190568 scraping.....\n",
      "./datasets/naver_movie_reviews_190568_20200501.csv save.....\n",
      "https://movie.naver.com/movie/bi/mi/point.nhn?code=134963 scraping.....\n",
      "./datasets/naver_movie_reviews_134963_20200501.csv save.....\n",
      "https://movie.naver.com/movie/bi/mi/point.nhn?code=182015 scraping.....\n",
      "./datasets/naver_movie_reviews_182015_20200501.csv save.....\n",
      "https://movie.naver.com/movie/bi/mi/point.nhn?code=190728 scraping.....\n",
      "./datasets/naver_movie_reviews_190728_20200501.csv save.....\n",
      "https://movie.naver.com/movie/bi/mi/point.nhn?code=189001 scraping.....\n",
      "./datasets/naver_movie_reviews_189001_20200501.csv save.....\n",
      "https://movie.naver.com/movie/bi/mi/point.nhn?code=187321 scraping.....\n",
      "./datasets/naver_movie_reviews_187321_20200501.csv save.....\n",
      "https://movie.naver.com/movie/bi/mi/point.nhn?code=179181 scraping.....\n",
      "./datasets/naver_movie_reviews_179181_20200501.csv save.....\n",
      "https://movie.naver.com/movie/bi/mi/point.nhn?code=186613 scraping.....\n",
      "./datasets/naver_movie_reviews_186613_20200501.csv save.....\n",
      "https://movie.naver.com/movie/bi/mi/point.nhn?code=181925 scraping.....\n",
      "./datasets/naver_movie_reviews_181925_20200501.csv save.....\n",
      "https://movie.naver.com/movie/bi/mi/point.nhn?code=181710 scraping.....\n",
      "./datasets/naver_movie_reviews_181710_20200501.csv save.....\n",
      "https://movie.naver.com/movie/bi/mi/point.nhn?code=181114 scraping.....\n",
      "./datasets/naver_movie_reviews_181114_20200501.csv save.....\n",
      "https://movie.naver.com/movie/bi/mi/point.nhn?code=161967 scraping.....\n",
      "./datasets/naver_movie_reviews_161967_20200501.csv save.....\n",
      "https://movie.naver.com/movie/bi/mi/point.nhn?code=101950 scraping.....\n",
      "./datasets/naver_movie_reviews_101950_20200501.csv save.....\n",
      "https://movie.naver.com/movie/bi/mi/point.nhn?code=172145 scraping.....\n",
      "./datasets/naver_movie_reviews_172145_20200501.csv save.....\n",
      "https://movie.naver.com/movie/bi/mi/point.nhn?code=175318 scraping.....\n",
      "./datasets/naver_movie_reviews_175318_20200501.csv save.....\n",
      "https://movie.naver.com/movie/bi/mi/point.nhn?code=173653 scraping.....\n",
      "./datasets/naver_movie_reviews_173653_20200501.csv save.....\n",
      "https://movie.naver.com/movie/bi/mi/point.nhn?code=150198 scraping.....\n",
      "./datasets/naver_movie_reviews_150198_20200501.csv save.....\n",
      "https://movie.naver.com/movie/bi/mi/point.nhn?code=65998 scraping.....\n",
      "./datasets/naver_movie_reviews_65998_20200501.csv save.....\n",
      "https://movie.naver.com/movie/bi/mi/point.nhn?code=157178 scraping.....\n",
      "./datasets/naver_movie_reviews_157178_20200501.csv save.....\n",
      "https://movie.naver.com/movie/bi/mi/point.nhn?code=25670 scraping.....\n",
      "./datasets/naver_movie_reviews_25670_20200501.csv save.....\n",
      "https://movie.naver.com/movie/bi/mi/point.nhn?code=155123 scraping.....\n",
      "./datasets/naver_movie_reviews_155123_20200501.csv save.....\n",
      "https://movie.naver.com/movie/bi/mi/point.nhn?code=116234 scraping.....\n",
      "./datasets/naver_movie_reviews_116234_20200501.csv save.....\n",
      "https://movie.naver.com/movie/bi/mi/point.nhn?code=41672 scraping.....\n",
      "./datasets/naver_movie_reviews_41672_20200501.csv save.....\n",
      "https://movie.naver.com/movie/bi/mi/point.nhn?code=154449 scraping.....\n",
      "./datasets/naver_movie_reviews_154449_20200501.csv save.....\n",
      "https://movie.naver.com/movie/bi/mi/point.nhn?code=186821 scraping.....\n",
      "./datasets/naver_movie_reviews_186821_20200501.csv save.....\n",
      "https://movie.naver.com/movie/bi/mi/point.nhn?code=86284 scraping.....\n",
      "./datasets/naver_movie_reviews_86284_20200501.csv save.....\n",
      "https://movie.naver.com/movie/bi/mi/point.nhn?code=68196 scraping.....\n",
      "./datasets/naver_movie_reviews_68196_20200501.csv save.....\n"
     ]
    }
   ],
   "source": [
    "#get_review2(url_start, url_end, page_num)\n",
    "movie_list = [14448, 172420, 182014, 190568, 134963, 182015, 190728,\n",
    "             189001, 187321, 179181, 186613, 181925, 181710, 181114,\n",
    "             161967, 101950, 172145, 175318, 173653, 150198, 65998,\n",
    "             157178, 25670, 155123, 116234, 41672, 154449, 186821,\n",
    "             86284, 68196]\n",
    "# 30 * 9 * 100\n",
    "get_review2(movie_list, 100)"
   ]
  },
  {
   "cell_type": "code",
   "execution_count": null,
   "metadata": {},
   "outputs": [],
   "source": []
  }
 ],
 "metadata": {
  "hide_input": false,
  "kernelspec": {
   "display_name": "Python 3",
   "language": "python",
   "name": "python3"
  },
  "language_info": {
   "codemirror_mode": {
    "name": "ipython",
    "version": 3
   },
   "file_extension": ".py",
   "mimetype": "text/x-python",
   "name": "python",
   "nbconvert_exporter": "python",
   "pygments_lexer": "ipython3",
   "version": "3.6.10"
  },
  "toc": {
   "base_numbering": 1,
   "nav_menu": {},
   "number_sections": true,
   "sideBar": true,
   "skip_h1_title": false,
   "title_cell": "Table of Contents",
   "title_sidebar": "Contents",
   "toc_cell": false,
   "toc_position": {},
   "toc_section_display": true,
   "toc_window_display": false
  },
  "varInspector": {
   "cols": {
    "lenName": 16,
    "lenType": 16,
    "lenVar": 40
   },
   "kernels_config": {
    "python": {
     "delete_cmd_postfix": "",
     "delete_cmd_prefix": "del ",
     "library": "var_list.py",
     "varRefreshCmd": "print(var_dic_list())"
    },
    "r": {
     "delete_cmd_postfix": ") ",
     "delete_cmd_prefix": "rm(",
     "library": "var_list.r",
     "varRefreshCmd": "cat(var_dic_list()) "
    }
   },
   "types_to_exclude": [
    "module",
    "function",
    "builtin_function_or_method",
    "instance",
    "_Feature"
   ],
   "window_display": false
  }
 },
 "nbformat": 4,
 "nbformat_minor": 4
}
