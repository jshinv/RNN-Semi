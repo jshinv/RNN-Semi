{
 "cells": [
  {
   "cell_type": "code",
   "execution_count": 20,
   "metadata": {},
   "outputs": [],
   "source": [
    "import pandas as pd\n",
    "import numpy as np\n",
    "import re\n",
    "import csv\n",
    "import pickle\n",
    "\n",
    "\n",
    "import urllib.request\n",
    "%matplotlib inline\n",
    "import matplotlib.pyplot as plt\n",
    "\n",
    "import tensorflow as tf\n",
    "from tensorflow.keras.preprocessing.text import Tokenizer\n",
    "from tensorflow.keras.preprocessing.sequence import pad_sequences\n",
    "from tensorflow.keras.callbacks import EarlyStopping, ModelCheckpoint\n",
    "from tensorflow.keras.optimizers import RMSprop, Adam\n",
    "\n",
    "from tensorflow.keras.layers import Input, Embedding, LSTM, Dense, Dropout, Conv1D, MaxPooling1D, Flatten\n",
    "from tensorflow.keras.models import Model\n",
    "\n",
    "from konlpy.tag import Okt\n",
    "from sklearn.model_selection import train_test_split"
   ]
  },
  {
   "cell_type": "markdown",
   "metadata": {},
   "source": [
    "## LSTM으로 네이버 영화 리뷰 감성 분류"
   ]
  },
  {
   "cell_type": "code",
   "execution_count": 14,
   "metadata": {},
   "outputs": [],
   "source": [
    "X_train = np.load(\"./save/X_train.npy\")\n",
    "X_test = np.load(\"./save/X_test.npy\")\n",
    "y_train = np.load(\"./save/y_train.npy\")\n",
    "y_test = np.load(\"./save/y_test.npy\")\n",
    "with open('./save/vocab_size.p', 'rb') as file:\n",
    "    vocab_size = pickle.load(file)"
   ]
  },
  {
   "cell_type": "code",
   "execution_count": 25,
   "metadata": {},
   "outputs": [
    {
     "name": "stdout",
     "output_type": "stream",
     "text": [
      "Model: \"model_4\"\n",
      "_________________________________________________________________\n",
      "Layer (type)                 Output Shape              Param #   \n",
      "=================================================================\n",
      "input_8 (InputLayer)         [(None, 30)]              0         \n",
      "_________________________________________________________________\n",
      "embedding_7 (Embedding)      (None, 30, 100)           1029900   \n",
      "_________________________________________________________________\n",
      "lstm_6 (LSTM)                (None, 128)               117248    \n",
      "_________________________________________________________________\n",
      "dense_6 (Dense)              (None, 1)                 129       \n",
      "=================================================================\n",
      "Total params: 1,147,277\n",
      "Trainable params: 1,147,277\n",
      "Non-trainable params: 0\n",
      "_________________________________________________________________\n"
     ]
    }
   ],
   "source": [
    "T = X_train.shape[1]\n",
    "i = Input(shape=(T,))\n",
    "\n",
    "\n",
    "x = Embedding(vocab_size, 100)(i)\n",
    "x = LSTM(128)(x)\n",
    "x = Dense(1, activation='sigmoid')(x)\n",
    "model = Model(i, x)\n",
    "model.summary()"
   ]
  },
  {
   "cell_type": "code",
   "execution_count": 7,
   "metadata": {},
   "outputs": [
    {
     "data": {
      "text/plain": [
       "50"
      ]
     },
     "execution_count": 7,
     "metadata": {},
     "output_type": "execute_result"
    }
   ],
   "source": [
    "X_train.shape[1]"
   ]
  },
  {
   "cell_type": "code",
   "execution_count": 28,
   "metadata": {},
   "outputs": [],
   "source": [
    "es = EarlyStopping(monitor='val_loss', mode='min', verbose=1, patience=4)\n",
    "mc = ModelCheckpoint('best_model.h5', monitor='val_acc', mode='max', verbose=1, save_best_only=True)"
   ]
  },
  {
   "cell_type": "code",
   "execution_count": 29,
   "metadata": {
    "collapsed": true,
    "jupyter": {
     "outputs_hidden": true
    }
   },
   "outputs": [
    {
     "name": "stdout",
     "output_type": "stream",
     "text": [
      "Train on 19180 samples, validate on 4796 samples\n",
      "Epoch 1/15\n",
      "19140/19180 [============================>.] - ETA: 0s - loss: 0.7387 - acc: 0.7016\n",
      "Epoch 00001: val_acc improved from -inf to 0.71685, saving model to best_model.h5\n",
      "19180/19180 [==============================] - 43s 2ms/sample - loss: 0.7387 - acc: 0.7015 - val_loss: 0.6629 - val_acc: 0.7168\n",
      "Epoch 2/15\n",
      "19140/19180 [============================>.] - ETA: 0s - loss: 0.6502 - acc: 0.7145\n",
      "Epoch 00002: val_acc improved from 0.71685 to 0.73311, saving model to best_model.h5\n",
      "19180/19180 [==============================] - 38s 2ms/sample - loss: 0.6501 - acc: 0.7145 - val_loss: 0.6105 - val_acc: 0.7331\n",
      "Epoch 3/15\n",
      "19140/19180 [============================>.] - ETA: 0s - loss: 0.6072 - acc: 0.7261\n",
      "Epoch 00003: val_acc improved from 0.73311 to 0.73895, saving model to best_model.h5\n",
      "19180/19180 [==============================] - 39s 2ms/sample - loss: 0.6067 - acc: 0.7263 - val_loss: 0.5804 - val_acc: 0.7389\n",
      "Epoch 4/15\n",
      "19140/19180 [============================>.] - ETA: 0s - loss: 0.5817 - acc: 0.7337\n",
      "Epoch 00004: val_acc improved from 0.73895 to 0.74750, saving model to best_model.h5\n",
      "19180/19180 [==============================] - 40s 2ms/sample - loss: 0.5814 - acc: 0.7337 - val_loss: 0.5615 - val_acc: 0.7475\n",
      "Epoch 5/15\n",
      "19140/19180 [============================>.] - ETA: 0s - loss: 0.5638 - acc: 0.7409\n",
      "Epoch 00005: val_acc improved from 0.74750 to 0.75334, saving model to best_model.h5\n",
      "19180/19180 [==============================] - 40s 2ms/sample - loss: 0.5642 - acc: 0.7408 - val_loss: 0.5494 - val_acc: 0.7533\n",
      "Epoch 6/15\n",
      "19140/19180 [============================>.] - ETA: 0s - loss: 0.5532 - acc: 0.7446\n",
      "Epoch 00006: val_acc improved from 0.75334 to 0.75584, saving model to best_model.h5\n",
      "19180/19180 [==============================] - 41s 2ms/sample - loss: 0.5533 - acc: 0.7447 - val_loss: 0.5420 - val_acc: 0.7558\n",
      "Epoch 7/15\n",
      "19140/19180 [============================>.] - ETA: 0s - loss: 0.5456 - acc: 0.7498\n",
      "Epoch 00007: val_acc improved from 0.75584 to 0.76397, saving model to best_model.h5\n",
      "19180/19180 [==============================] - 40s 2ms/sample - loss: 0.5455 - acc: 0.7499 - val_loss: 0.5347 - val_acc: 0.7640\n",
      "Epoch 8/15\n",
      "19140/19180 [============================>.] - ETA: 0s - loss: 0.5397 - acc: 0.7522\n",
      "Epoch 00008: val_acc improved from 0.76397 to 0.76522, saving model to best_model.h5\n",
      "19180/19180 [==============================] - 40s 2ms/sample - loss: 0.5400 - acc: 0.7520 - val_loss: 0.5307 - val_acc: 0.7652\n",
      "Epoch 9/15\n",
      "19140/19180 [============================>.] - ETA: 0s - loss: 0.5364 - acc: 0.7548\n",
      "Epoch 00009: val_acc improved from 0.76522 to 0.76897, saving model to best_model.h5\n",
      "19180/19180 [==============================] - 42s 2ms/sample - loss: 0.5362 - acc: 0.7550 - val_loss: 0.5264 - val_acc: 0.7690\n",
      "Epoch 10/15\n",
      "19140/19180 [============================>.] - ETA: 0s - loss: 0.5331 - acc: 0.7557\n",
      "Epoch 00010: val_acc improved from 0.76897 to 0.76918, saving model to best_model.h5\n",
      "19180/19180 [==============================] - 48s 3ms/sample - loss: 0.5331 - acc: 0.7557 - val_loss: 0.5244 - val_acc: 0.7692\n",
      "Epoch 11/15\n",
      "19140/19180 [============================>.] - ETA: 0s - loss: 0.5308 - acc: 0.7578\n",
      "Epoch 00011: val_acc improved from 0.76918 to 0.76981, saving model to best_model.h5\n",
      "19180/19180 [==============================] - 41s 2ms/sample - loss: 0.5306 - acc: 0.7580 - val_loss: 0.5219 - val_acc: 0.7698\n",
      "Epoch 12/15\n",
      "19140/19180 [============================>.] - ETA: 0s - loss: 0.5291 - acc: 0.7583\n",
      "Epoch 00012: val_acc improved from 0.76981 to 0.77085, saving model to best_model.h5\n",
      "19180/19180 [==============================] - 42s 2ms/sample - loss: 0.5289 - acc: 0.7583 - val_loss: 0.5207 - val_acc: 0.7709\n",
      "Epoch 13/15\n",
      "19140/19180 [============================>.] - ETA: 0s - loss: 0.5275 - acc: 0.7595\n",
      "Epoch 00013: val_acc improved from 0.77085 to 0.77168, saving model to best_model.h5\n",
      "19180/19180 [==============================] - 46s 2ms/sample - loss: 0.5276 - acc: 0.7593 - val_loss: 0.5195 - val_acc: 0.7717\n",
      "Epoch 14/15\n",
      "19140/19180 [============================>.] - ETA: 0s - loss: 0.5261 - acc: 0.7604\n",
      "Epoch 00014: val_acc improved from 0.77168 to 0.77231, saving model to best_model.h5\n",
      "19180/19180 [==============================] - 44s 2ms/sample - loss: 0.5264 - acc: 0.7603 - val_loss: 0.5193 - val_acc: 0.7723\n",
      "Epoch 15/15\n",
      "19140/19180 [============================>.] - ETA: 0s - loss: 0.5257 - acc: 0.7602\n",
      "Epoch 00015: val_acc improved from 0.77231 to 0.77398, saving model to best_model.h5\n",
      "19180/19180 [==============================] - 44s 2ms/sample - loss: 0.5256 - acc: 0.7603 - val_loss: 0.5188 - val_acc: 0.7740\n"
     ]
    }
   ],
   "source": [
    "model.compile(optimizer='rmsprop', loss='binary_crossentropy', metrics=['acc'])\n",
    "history = model.fit(X_train, y_train, epochs=15, callbacks=[es, mc], batch_size=60, validation_split=0.2)"
   ]
  },
  {
   "cell_type": "code",
   "execution_count": null,
   "metadata": {},
   "outputs": [],
   "source": [
    "loaded_model = load_model('best_model.h5')\n",
    "print(\"\\n 테스트 정확도: %.4f\" % (loaded_model.evaluate(X_test, y_test)[1]))"
   ]
  },
  {
   "cell_type": "code",
   "execution_count": null,
   "metadata": {},
   "outputs": [],
   "source": []
  },
  {
   "cell_type": "code",
   "execution_count": null,
   "metadata": {},
   "outputs": [],
   "source": []
  },
  {
   "cell_type": "code",
   "execution_count": null,
   "metadata": {},
   "outputs": [],
   "source": []
  },
  {
   "cell_type": "code",
   "execution_count": null,
   "metadata": {},
   "outputs": [],
   "source": []
  },
  {
   "cell_type": "code",
   "execution_count": null,
   "metadata": {},
   "outputs": [],
   "source": []
  },
  {
   "cell_type": "code",
   "execution_count": null,
   "metadata": {},
   "outputs": [],
   "source": []
  },
  {
   "cell_type": "code",
   "execution_count": null,
   "metadata": {},
   "outputs": [],
   "source": []
  }
 ],
 "metadata": {
  "hide_input": false,
  "kernelspec": {
   "display_name": "Python 3",
   "language": "python",
   "name": "python3"
  },
  "language_info": {
   "codemirror_mode": {
    "name": "ipython",
    "version": 3
   },
   "file_extension": ".py",
   "mimetype": "text/x-python",
   "name": "python",
   "nbconvert_exporter": "python",
   "pygments_lexer": "ipython3",
   "version": "3.7.7"
  },
  "toc": {
   "base_numbering": 1,
   "nav_menu": {},
   "number_sections": true,
   "sideBar": true,
   "skip_h1_title": false,
   "title_cell": "Table of Contents",
   "title_sidebar": "Contents",
   "toc_cell": false,
   "toc_position": {},
   "toc_section_display": true,
   "toc_window_display": false
  },
  "varInspector": {
   "cols": {
    "lenName": 16,
    "lenType": 16,
    "lenVar": 40
   },
   "kernels_config": {
    "python": {
     "delete_cmd_postfix": "",
     "delete_cmd_prefix": "del ",
     "library": "var_list.py",
     "varRefreshCmd": "print(var_dic_list())"
    },
    "r": {
     "delete_cmd_postfix": ") ",
     "delete_cmd_prefix": "rm(",
     "library": "var_list.r",
     "varRefreshCmd": "cat(var_dic_list()) "
    }
   },
   "types_to_exclude": [
    "module",
    "function",
    "builtin_function_or_method",
    "instance",
    "_Feature"
   ],
   "window_display": false
  }
 },
 "nbformat": 4,
 "nbformat_minor": 4
}
