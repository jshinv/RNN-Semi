{
 "cells": [
  {
   "cell_type": "code",
   "execution_count": 71,
   "metadata": {},
   "outputs": [],
   "source": [
    "import pandas as pd\n",
    "import urllib.request\n",
    "%matplotlib inline\n",
    "import matplotlib.pyplot as plt\n",
    "import re\n",
    "from konlpy.tag import Okt\n",
    "from tensorflow.keras.preprocessing.text import Tokenizer\n",
    "import numpy as np\n",
    "from tensorflow.keras.preprocessing.sequence import pad_sequences\n",
    "from sklearn.model_selection import train_test_split\n",
    "\n",
    "from tensorflow.keras.optimizers import RMSprop, Adam\n",
    "import tensorflow as tf\n",
    "import csv "
   ]
  },
  {
   "cell_type": "code",
   "execution_count": 72,
   "metadata": {},
   "outputs": [
    {
     "name": "stdout",
     "output_type": "stream",
     "text": [
      "(16465, 3)\n"
     ]
    },
    {
     "data": {
      "text/html": [
       "<div>\n",
       "<style scoped>\n",
       "    .dataframe tbody tr th:only-of-type {\n",
       "        vertical-align: middle;\n",
       "    }\n",
       "\n",
       "    .dataframe tbody tr th {\n",
       "        vertical-align: top;\n",
       "    }\n",
       "\n",
       "    .dataframe thead th {\n",
       "        text-align: right;\n",
       "    }\n",
       "</style>\n",
       "<table border=\"1\" class=\"dataframe\">\n",
       "  <thead>\n",
       "    <tr style=\"text-align: right;\">\n",
       "      <th></th>\n",
       "      <th>document</th>\n",
       "      <th>label</th>\n",
       "      <th>star</th>\n",
       "    </tr>\n",
       "  </thead>\n",
       "  <tbody>\n",
       "    <tr>\n",
       "      <th>0</th>\n",
       "      <td>와우</td>\n",
       "      <td>1</td>\n",
       "      <td>10</td>\n",
       "    </tr>\n",
       "    <tr>\n",
       "      <th>1</th>\n",
       "      <td>아이들과 정말 재밌게봤어요~</td>\n",
       "      <td>1</td>\n",
       "      <td>10</td>\n",
       "    </tr>\n",
       "    <tr>\n",
       "      <th>2</th>\n",
       "      <td>진부한 스토리가 예상되고 넷플릭스의 수많은 저질 작품들, 또 나오는 크리스 햄스워스...</td>\n",
       "      <td>1</td>\n",
       "      <td>10</td>\n",
       "    </tr>\n",
       "    <tr>\n",
       "      <th>3</th>\n",
       "      <td>팝콘 먹으러 영화관온거 같음....아.. 맞다.. 푹 자서 내용이 기억이 안나네?</td>\n",
       "      <td>0</td>\n",
       "      <td>1</td>\n",
       "    </tr>\n",
       "    <tr>\n",
       "      <th>4</th>\n",
       "      <td>훌륭합니다. 몰입하게 되는 영화</td>\n",
       "      <td>1</td>\n",
       "      <td>10</td>\n",
       "    </tr>\n",
       "  </tbody>\n",
       "</table>\n",
       "</div>"
      ],
      "text/plain": [
       "                                            document  label  star\n",
       "0                                                와우       1    10\n",
       "1                                   아이들과 정말 재밌게봤어요~       1    10\n",
       "2  진부한 스토리가 예상되고 넷플릭스의 수많은 저질 작품들, 또 나오는 크리스 햄스워스...      1    10\n",
       "3     팝콘 먹으러 영화관온거 같음....아.. 맞다.. 푹 자서 내용이 기억이 안나네?       0     1\n",
       "4                                 훌륭합니다. 몰입하게 되는 영화       1    10"
      ]
     },
     "execution_count": 72,
     "metadata": {},
     "output_type": "execute_result"
    }
   ],
   "source": [
    "data = pd.read_csv('datasets/naver_movie_all.csv')\n",
    "data = data[['document', 'label', 'star']]\n",
    "print(data.shape)\n",
    "data.head()"
   ]
  },
  {
   "cell_type": "code",
   "execution_count": 75,
   "metadata": {},
   "outputs": [],
   "source": [
    "train_data, test_data = train_test_split(data, test_size=0.33, random_state=777)"
   ]
  },
  {
   "cell_type": "code",
   "execution_count": 76,
   "metadata": {},
   "outputs": [
    {
     "name": "stdout",
     "output_type": "stream",
     "text": [
      "훈련용 리뷰 개수 : 11031\n",
      "테스트용 리뷰 개수 : 5434\n"
     ]
    }
   ],
   "source": [
    "print('훈련용 리뷰 개수 :',len(train_data)) # 훈련용 리뷰 개수 출력\n",
    "print('테스트용 리뷰 개수 :',len(test_data)) # 테스트용 리뷰 개수 출력"
   ]
  },
  {
   "cell_type": "code",
   "execution_count": 77,
   "metadata": {},
   "outputs": [
    {
     "data": {
      "text/html": [
       "<div>\n",
       "<style scoped>\n",
       "    .dataframe tbody tr th:only-of-type {\n",
       "        vertical-align: middle;\n",
       "    }\n",
       "\n",
       "    .dataframe tbody tr th {\n",
       "        vertical-align: top;\n",
       "    }\n",
       "\n",
       "    .dataframe thead th {\n",
       "        text-align: right;\n",
       "    }\n",
       "</style>\n",
       "<table border=\"1\" class=\"dataframe\">\n",
       "  <thead>\n",
       "    <tr style=\"text-align: right;\">\n",
       "      <th></th>\n",
       "      <th>document</th>\n",
       "      <th>label</th>\n",
       "      <th>star</th>\n",
       "    </tr>\n",
       "  </thead>\n",
       "  <tbody>\n",
       "    <tr>\n",
       "      <th>11288</th>\n",
       "      <td>엔딩을 보여 \"뭐야 이게 끝이야?\" 라는 반응이 나왔지만 긴장감 하나만큼은 최고. ...</td>\n",
       "      <td>1</td>\n",
       "      <td>8</td>\n",
       "    </tr>\n",
       "    <tr>\n",
       "      <th>1019</th>\n",
       "      <td>진짜 영화 보는 내내 재미있었다.</td>\n",
       "      <td>1</td>\n",
       "      <td>10</td>\n",
       "    </tr>\n",
       "    <tr>\n",
       "      <th>7471</th>\n",
       "      <td>휴... 캐붕에 오유랑 설정이 어긋나는 부분들이 있어서 차라리 오유랑 선 긋고 맘이...</td>\n",
       "      <td>1</td>\n",
       "      <td>8</td>\n",
       "    </tr>\n",
       "    <tr>\n",
       "      <th>14784</th>\n",
       "      <td>솔직히 긴장도 전혀 안 됐다. 긴장도 스토리에서 오는 건데.</td>\n",
       "      <td>0</td>\n",
       "      <td>2</td>\n",
       "    </tr>\n",
       "    <tr>\n",
       "      <th>2690</th>\n",
       "      <td>트롤졸귀다재밋어용ost도좋음</td>\n",
       "      <td>1</td>\n",
       "      <td>10</td>\n",
       "    </tr>\n",
       "  </tbody>\n",
       "</table>\n",
       "</div>"
      ],
      "text/plain": [
       "                                                document  label  star\n",
       "11288  엔딩을 보여 \"뭐야 이게 끝이야?\" 라는 반응이 나왔지만 긴장감 하나만큼은 최고. ...      1     8\n",
       "1019                                 진짜 영화 보는 내내 재미있었다.       1    10\n",
       "7471   휴... 캐붕에 오유랑 설정이 어긋나는 부분들이 있어서 차라리 오유랑 선 긋고 맘이...      1     8\n",
       "14784                 솔직히 긴장도 전혀 안 됐다. 긴장도 스토리에서 오는 건데.       0     2\n",
       "2690                                    트롤졸귀다재밋어용ost도좋음       1    10"
      ]
     },
     "execution_count": 77,
     "metadata": {},
     "output_type": "execute_result"
    }
   ],
   "source": [
    "train_data[:5] # 상위 5개 출력"
   ]
  },
  {
   "cell_type": "code",
   "execution_count": 78,
   "metadata": {},
   "outputs": [
    {
     "name": "stdout",
     "output_type": "stream",
     "text": [
      "테스트용 리뷰 개수 : 5434\n"
     ]
    }
   ],
   "source": [
    "print('테스트용 리뷰 개수 :',len(test_data)) # 테스트용 리뷰 개수 출력"
   ]
  },
  {
   "cell_type": "code",
   "execution_count": 79,
   "metadata": {},
   "outputs": [
    {
     "data": {
      "text/html": [
       "<div>\n",
       "<style scoped>\n",
       "    .dataframe tbody tr th:only-of-type {\n",
       "        vertical-align: middle;\n",
       "    }\n",
       "\n",
       "    .dataframe tbody tr th {\n",
       "        vertical-align: top;\n",
       "    }\n",
       "\n",
       "    .dataframe thead th {\n",
       "        text-align: right;\n",
       "    }\n",
       "</style>\n",
       "<table border=\"1\" class=\"dataframe\">\n",
       "  <thead>\n",
       "    <tr style=\"text-align: right;\">\n",
       "      <th></th>\n",
       "      <th>document</th>\n",
       "      <th>label</th>\n",
       "      <th>star</th>\n",
       "    </tr>\n",
       "  </thead>\n",
       "  <tbody>\n",
       "    <tr>\n",
       "      <th>5233</th>\n",
       "      <td>핵노잼임 절대 보지마세요</td>\n",
       "      <td>0</td>\n",
       "      <td>1</td>\n",
       "    </tr>\n",
       "    <tr>\n",
       "      <th>11751</th>\n",
       "      <td>영화는 정말 개연성 없이 지루하고 맥락 없이 이어지는 데 이상하게 쫄깃하고 이상하게...</td>\n",
       "      <td>1</td>\n",
       "      <td>10</td>\n",
       "    </tr>\n",
       "    <tr>\n",
       "      <th>2758</th>\n",
       "      <td>연출과 그래픽이 볼만한 성인판 헬보이 재밋다.</td>\n",
       "      <td>1</td>\n",
       "      <td>8</td>\n",
       "    </tr>\n",
       "    <tr>\n",
       "      <th>5288</th>\n",
       "      <td>코로나 때문에 극장 개봉 못하고 네플릭스에 판매된건 제작진 입장에서는 최고의 한수 ...</td>\n",
       "      <td>0</td>\n",
       "      <td>3</td>\n",
       "    </tr>\n",
       "    <tr>\n",
       "      <th>8252</th>\n",
       "      <td>여행 갔다가 1일 뒤에 돌아와서 밤에 기대안하고 보러갔는데 진짜 잘만든거 같아요 영...</td>\n",
       "      <td>1</td>\n",
       "      <td>10</td>\n",
       "    </tr>\n",
       "  </tbody>\n",
       "</table>\n",
       "</div>"
      ],
      "text/plain": [
       "                                                document  label  star\n",
       "5233                                      핵노잼임 절대 보지마세요       0     1\n",
       "11751  영화는 정말 개연성 없이 지루하고 맥락 없이 이어지는 데 이상하게 쫄깃하고 이상하게...      1    10\n",
       "2758                          연출과 그래픽이 볼만한 성인판 헬보이 재밋다.       1     8\n",
       "5288   코로나 때문에 극장 개봉 못하고 네플릭스에 판매된건 제작진 입장에서는 최고의 한수 ...      0     3\n",
       "8252   여행 갔다가 1일 뒤에 돌아와서 밤에 기대안하고 보러갔는데 진짜 잘만든거 같아요 영...      1    10"
      ]
     },
     "execution_count": 79,
     "metadata": {},
     "output_type": "execute_result"
    }
   ],
   "source": [
    "test_data[:5]"
   ]
  },
  {
   "cell_type": "markdown",
   "metadata": {},
   "source": [
    "### Preprocessing"
   ]
  },
  {
   "cell_type": "code",
   "execution_count": 80,
   "metadata": {},
   "outputs": [
    {
     "data": {
      "text/plain": [
       "(7806, 2)"
      ]
     },
     "execution_count": 80,
     "metadata": {},
     "output_type": "execute_result"
    }
   ],
   "source": [
    "# 데이터 중복 확인\n",
    "train_data['document'].nunique(), train_data['label'].nunique()"
   ]
  },
  {
   "cell_type": "code",
   "execution_count": 81,
   "metadata": {},
   "outputs": [
    {
     "name": "stderr",
     "output_type": "stream",
     "text": [
      "/Users/jshin/opt/anaconda3/envs/ml2/lib/python3.7/site-packages/ipykernel_launcher.py:2: SettingWithCopyWarning: \n",
      "A value is trying to be set on a copy of a slice from a DataFrame\n",
      "\n",
      "See the caveats in the documentation: https://pandas.pydata.org/pandas-docs/stable/user_guide/indexing.html#returning-a-view-versus-a-copy\n",
      "  \n"
     ]
    }
   ],
   "source": [
    "# document 열에서 중복인 내용이 있다면 중복 제거\n",
    "train_data.drop_duplicates(subset=['document'], inplace=True) "
   ]
  },
  {
   "cell_type": "code",
   "execution_count": 82,
   "metadata": {},
   "outputs": [
    {
     "name": "stdout",
     "output_type": "stream",
     "text": [
      "총 샘플의 수 : 7806\n"
     ]
    }
   ],
   "source": [
    "print('총 샘플의 수 :',len(train_data))"
   ]
  },
  {
   "cell_type": "code",
   "execution_count": 30,
   "metadata": {},
   "outputs": [],
   "source": [
    "# train_data['label'].value_counts().plot(kind = 'bar')"
   ]
  },
  {
   "cell_type": "code",
   "execution_count": 83,
   "metadata": {},
   "outputs": [
    {
     "name": "stdout",
     "output_type": "stream",
     "text": [
      "   label  count\n",
      "0      0   2380\n",
      "1      1   5426\n"
     ]
    }
   ],
   "source": [
    "# 긍정과 부정의 수를 확인한다 (label=0이면 부정, label=1이면 긍정으로 표시한다)\n",
    "\n",
    "# train_data['label'].value_counts()\n",
    "print(train_data.groupby('label').size().reset_index(name = 'count'))"
   ]
  },
  {
   "cell_type": "code",
   "execution_count": 84,
   "metadata": {},
   "outputs": [
    {
     "data": {
      "text/plain": [
       "1    5426\n",
       "0    2380\n",
       "Name: label, dtype: int64"
      ]
     },
     "execution_count": 84,
     "metadata": {},
     "output_type": "execute_result"
    }
   ],
   "source": [
    "train_data['label'].value_counts()"
   ]
  },
  {
   "cell_type": "code",
   "execution_count": 85,
   "metadata": {},
   "outputs": [
    {
     "name": "stdout",
     "output_type": "stream",
     "text": [
      "False\n",
      "document    False\n",
      "label       False\n",
      "star        False\n",
      "dtype: bool\n"
     ]
    }
   ],
   "source": [
    "# 결측치 확인하기 - 나중참고용\n",
    "# print(train_data.isnull().sum())\n",
    "train_data.loc[train_data.document.isnull()]\n",
    "train_data = train_data.dropna(how = 'any') # Null 값이 존재하는 행 제거\n",
    "\n",
    "print(train_data.isnull().values.any()) # Null 값이 존재하는지 확인\n",
    "print(train_data.isnull().any()) # Null 값이 존재하는지 확인\n",
    "# print(len(train_data))"
   ]
  },
  {
   "cell_type": "code",
   "execution_count": 86,
   "metadata": {},
   "outputs": [],
   "source": [
    "# 한글과 공백을 제외하고 모두 제거\n",
    "train_data['document'] = train_data['document'].str.replace(\"[^ㄱ-ㅎㅏ-ㅣ가-힣 ]\",\"\")\n",
    "\n",
    "# 알파벳과 공백을 제외하고 모두 제거(나중에 영어텍스트만 남기고 싶을때 사용)\n",
    "# train_data['document'] = train_data['document'].str.replace(\"[^a-zA-Z ]\",\"\")"
   ]
  },
  {
   "cell_type": "code",
   "execution_count": 35,
   "metadata": {},
   "outputs": [],
   "source": [
    "# https://www.unicode.org/charts/PDF/U3130.pdf\n",
    "# ㄱ ~ ㅎ: 3131 ~ 314E\n",
    "# ㅏ ~ ㅣ: 314F ~ 3163\n",
    "# https://www.unicode.org/charts/PDF/UAC00.pdf\n",
    "# 가 ~ 힣"
   ]
  },
  {
   "cell_type": "code",
   "execution_count": 87,
   "metadata": {},
   "outputs": [
    {
     "data": {
      "text/html": [
       "<div>\n",
       "<style scoped>\n",
       "    .dataframe tbody tr th:only-of-type {\n",
       "        vertical-align: middle;\n",
       "    }\n",
       "\n",
       "    .dataframe tbody tr th {\n",
       "        vertical-align: top;\n",
       "    }\n",
       "\n",
       "    .dataframe thead th {\n",
       "        text-align: right;\n",
       "    }\n",
       "</style>\n",
       "<table border=\"1\" class=\"dataframe\">\n",
       "  <thead>\n",
       "    <tr style=\"text-align: right;\">\n",
       "      <th></th>\n",
       "      <th>document</th>\n",
       "      <th>label</th>\n",
       "      <th>star</th>\n",
       "    </tr>\n",
       "  </thead>\n",
       "  <tbody>\n",
       "    <tr>\n",
       "      <th>11288</th>\n",
       "      <td>엔딩을 보여 뭐야 이게 끝이야 라는 반응이 나왔지만 긴장감 하나만큼은 최고 보는 내...</td>\n",
       "      <td>1</td>\n",
       "      <td>8</td>\n",
       "    </tr>\n",
       "    <tr>\n",
       "      <th>1019</th>\n",
       "      <td>진짜 영화 보는 내내 재미있었다</td>\n",
       "      <td>1</td>\n",
       "      <td>10</td>\n",
       "    </tr>\n",
       "    <tr>\n",
       "      <th>7471</th>\n",
       "      <td>휴 캐붕에 오유랑 설정이 어긋나는 부분들이 있어서 차라리 오유랑 선 긋고 맘이 편합...</td>\n",
       "      <td>1</td>\n",
       "      <td>8</td>\n",
       "    </tr>\n",
       "    <tr>\n",
       "      <th>14784</th>\n",
       "      <td>솔직히 긴장도 전혀 안 됐다 긴장도 스토리에서 오는 건데</td>\n",
       "      <td>0</td>\n",
       "      <td>2</td>\n",
       "    </tr>\n",
       "    <tr>\n",
       "      <th>2690</th>\n",
       "      <td>트롤졸귀다재밋어용도좋음</td>\n",
       "      <td>1</td>\n",
       "      <td>10</td>\n",
       "    </tr>\n",
       "  </tbody>\n",
       "</table>\n",
       "</div>"
      ],
      "text/plain": [
       "                                                document  label  star\n",
       "11288  엔딩을 보여 뭐야 이게 끝이야 라는 반응이 나왔지만 긴장감 하나만큼은 최고 보는 내...      1     8\n",
       "1019                                  진짜 영화 보는 내내 재미있었다       1    10\n",
       "7471   휴 캐붕에 오유랑 설정이 어긋나는 부분들이 있어서 차라리 오유랑 선 긋고 맘이 편합...      1     8\n",
       "14784                   솔직히 긴장도 전혀 안 됐다 긴장도 스토리에서 오는 건데       0     2\n",
       "2690                                       트롤졸귀다재밋어용도좋음       1    10"
      ]
     },
     "execution_count": 87,
     "metadata": {},
     "output_type": "execute_result"
    }
   ],
   "source": [
    "train_data[:5]"
   ]
  },
  {
   "cell_type": "code",
   "execution_count": 88,
   "metadata": {},
   "outputs": [
    {
     "name": "stdout",
     "output_type": "stream",
     "text": [
      "document    0\n",
      "label       0\n",
      "star        0\n",
      "dtype: int64\n"
     ]
    }
   ],
   "source": [
    "# 영어로만 작성된 리뷰도 삭제 됨\n",
    "train_data['document'].replace('', np.nan, inplace=True)\n",
    "print(train_data.isnull().sum())"
   ]
  },
  {
   "cell_type": "code",
   "execution_count": 89,
   "metadata": {},
   "outputs": [
    {
     "data": {
      "text/html": [
       "<div>\n",
       "<style scoped>\n",
       "    .dataframe tbody tr th:only-of-type {\n",
       "        vertical-align: middle;\n",
       "    }\n",
       "\n",
       "    .dataframe tbody tr th {\n",
       "        vertical-align: top;\n",
       "    }\n",
       "\n",
       "    .dataframe thead th {\n",
       "        text-align: right;\n",
       "    }\n",
       "</style>\n",
       "<table border=\"1\" class=\"dataframe\">\n",
       "  <thead>\n",
       "    <tr style=\"text-align: right;\">\n",
       "      <th></th>\n",
       "      <th>document</th>\n",
       "      <th>label</th>\n",
       "      <th>star</th>\n",
       "    </tr>\n",
       "  </thead>\n",
       "  <tbody>\n",
       "  </tbody>\n",
       "</table>\n",
       "</div>"
      ],
      "text/plain": [
       "Empty DataFrame\n",
       "Columns: [document, label, star]\n",
       "Index: []"
      ]
     },
     "execution_count": 89,
     "metadata": {},
     "output_type": "execute_result"
    }
   ],
   "source": [
    "train_data.loc[train_data.document.isnull()][:5]"
   ]
  },
  {
   "cell_type": "code",
   "execution_count": 90,
   "metadata": {},
   "outputs": [
    {
     "name": "stdout",
     "output_type": "stream",
     "text": [
      "7806\n"
     ]
    }
   ],
   "source": [
    "train_data = train_data.dropna(how = 'any')\n",
    "print(len(train_data))"
   ]
  },
  {
   "cell_type": "code",
   "execution_count": 91,
   "metadata": {},
   "outputs": [],
   "source": [
    "save_csv = train_data[:100]\n",
    "save_csv.to_csv('tain_data.csv')"
   ]
  },
  {
   "cell_type": "code",
   "execution_count": 41,
   "metadata": {},
   "outputs": [],
   "source": [
    "### test 데이터 전처리(tain과 동일)"
   ]
  },
  {
   "cell_type": "code",
   "execution_count": 92,
   "metadata": {},
   "outputs": [
    {
     "name": "stdout",
     "output_type": "stream",
     "text": [
      "전처리 후 테스트용 샘플의 개수 : 4648\n"
     ]
    },
    {
     "name": "stderr",
     "output_type": "stream",
     "text": [
      "/Users/jshin/opt/anaconda3/envs/ml2/lib/python3.7/site-packages/ipykernel_launcher.py:1: SettingWithCopyWarning: \n",
      "A value is trying to be set on a copy of a slice from a DataFrame\n",
      "\n",
      "See the caveats in the documentation: https://pandas.pydata.org/pandas-docs/stable/user_guide/indexing.html#returning-a-view-versus-a-copy\n",
      "  \"\"\"Entry point for launching an IPython kernel.\n",
      "/Users/jshin/opt/anaconda3/envs/ml2/lib/python3.7/site-packages/ipykernel_launcher.py:2: SettingWithCopyWarning: \n",
      "A value is trying to be set on a copy of a slice from a DataFrame.\n",
      "Try using .loc[row_indexer,col_indexer] = value instead\n",
      "\n",
      "See the caveats in the documentation: https://pandas.pydata.org/pandas-docs/stable/user_guide/indexing.html#returning-a-view-versus-a-copy\n",
      "  \n",
      "/Users/jshin/opt/anaconda3/envs/ml2/lib/python3.7/site-packages/pandas/core/generic.py:6746: SettingWithCopyWarning: \n",
      "A value is trying to be set on a copy of a slice from a DataFrame\n",
      "\n",
      "See the caveats in the documentation: https://pandas.pydata.org/pandas-docs/stable/user_guide/indexing.html#returning-a-view-versus-a-copy\n",
      "  self._update_inplace(new_data)\n"
     ]
    }
   ],
   "source": [
    "test_data.drop_duplicates(subset = ['document'], inplace=True) # document 열에서 중복인 내용이 있다면 중복 제거\n",
    "test_data['document'] = test_data['document'].str.replace(\"[^ㄱ-ㅎㅏ-ㅣ가-힣 ]\",\"\") # 정규 표현식 수행\n",
    "test_data['document'].replace('', np.nan, inplace=True) # 공백은 Null 값으로 변경\n",
    "test_data = test_data.dropna(how='any') # Null 값 제거\n",
    "print('전처리 후 테스트용 샘플의 개수 :',len(test_data))"
   ]
  },
  {
   "cell_type": "markdown",
   "metadata": {},
   "source": [
    "### Tokenization"
   ]
  },
  {
   "cell_type": "code",
   "execution_count": 93,
   "metadata": {},
   "outputs": [],
   "source": [
    "# 불용어 제거, 한국어의 조사, 접속사 등 -> 지속적으로 검토하면서 추가해서 삭제\n",
    "stopwords = ['의','가','이','은','들','는','좀','잘','걍','과','도','를','으로','자','에','와','한','하다']"
   ]
  },
  {
   "cell_type": "code",
   "execution_count": 94,
   "metadata": {},
   "outputs": [],
   "source": [
    "# 토큰화를 위한 형태소 분석기는 KoNLPy의 Okt\n",
    "okt = Okt()\n",
    "# okt.morphs('2000년이후 최고의 서스펜스... 라고 했지만, 이걸 왜 봤을까', stem = True)"
   ]
  },
  {
   "cell_type": "code",
   "execution_count": 95,
   "metadata": {},
   "outputs": [
    {
     "data": {
      "text/html": [
       "<div>\n",
       "<style scoped>\n",
       "    .dataframe tbody tr th:only-of-type {\n",
       "        vertical-align: middle;\n",
       "    }\n",
       "\n",
       "    .dataframe tbody tr th {\n",
       "        vertical-align: top;\n",
       "    }\n",
       "\n",
       "    .dataframe thead th {\n",
       "        text-align: right;\n",
       "    }\n",
       "</style>\n",
       "<table border=\"1\" class=\"dataframe\">\n",
       "  <thead>\n",
       "    <tr style=\"text-align: right;\">\n",
       "      <th></th>\n",
       "    </tr>\n",
       "    <tr>\n",
       "      <th>아</th>\n",
       "    </tr>\n",
       "  </thead>\n",
       "  <tbody>\n",
       "    <tr>\n",
       "      <th>휴</th>\n",
       "    </tr>\n",
       "    <tr>\n",
       "      <th>아이구</th>\n",
       "    </tr>\n",
       "    <tr>\n",
       "      <th>아이쿠</th>\n",
       "    </tr>\n",
       "    <tr>\n",
       "      <th>아이고</th>\n",
       "    </tr>\n",
       "    <tr>\n",
       "      <th>어</th>\n",
       "    </tr>\n",
       "    <tr>\n",
       "      <th>...</th>\n",
       "    </tr>\n",
       "    <tr>\n",
       "      <th>일곱</th>\n",
       "    </tr>\n",
       "    <tr>\n",
       "      <th>여덟</th>\n",
       "    </tr>\n",
       "    <tr>\n",
       "      <th>아홉</th>\n",
       "    </tr>\n",
       "    <tr>\n",
       "      <th>령</th>\n",
       "    </tr>\n",
       "    <tr>\n",
       "      <th>영</th>\n",
       "    </tr>\n",
       "  </tbody>\n",
       "</table>\n",
       "<p>674 rows × 0 columns</p>\n",
       "</div>"
      ],
      "text/plain": [
       "Empty DataFrame\n",
       "Columns: []\n",
       "Index: [휴, 아이구, 아이쿠, 아이고, 어, 나, 우리, 저희, 따라, 의해, 을, 를, 에, 의, 가, 으로, 로, 에게, 뿐이다, 의거하여, 근거하여, 입각하여, 기준으로, 예하면, 예를 들면, 예를 들자면, 저, 소인, 소생, 저희, 지말고, 하지마, 하지마라, 다른, 물론, 또한, 그리고, 비길수 없다, 해서는 안된다, 뿐만 아니라, 만이 아니다, 만은 아니다, 막론하고, 관계없이, 그치지 않다, 그러나, 그런데, 하지만, 든간에, 논하지 않다, 따지지 않다, 설사, 비록, 더라도, 아니면, 만 못하다, 하는 편이 낫다, 불문하고, 향하여, 향해서, 향하다, 쪽으로, 틈타, 이용하여, 타다, 오르다, 제외하고, 이 외에, 이 밖에, 하여야, 비로소, 한다면 몰라도, 외에도, 이곳, 여기, 부터, 기점으로, 따라서, 할 생각이다, 하려고하다, 이리하여, 그리하여, 그렇게 함으로써, 하지만, 일때, 할때, 앞에서, 중에서, 보는데서, 으로써, 로써, 까지, 해야한다, 일것이다, 반드시, 할줄알다, 할수있다, 할수있어, 임에 틀림없다, 한다면, ...]\n",
       "\n",
       "[674 rows x 0 columns]"
      ]
     },
     "execution_count": 95,
     "metadata": {},
     "output_type": "execute_result"
    }
   ],
   "source": [
    "ko_file = pd.read_csv('ko.csv', index_col=0)\n",
    "ko_file"
   ]
  },
  {
   "cell_type": "code",
   "execution_count": 96,
   "metadata": {},
   "outputs": [
    {
     "data": {
      "text/html": [
       "<div>\n",
       "<style scoped>\n",
       "    .dataframe tbody tr th:only-of-type {\n",
       "        vertical-align: middle;\n",
       "    }\n",
       "\n",
       "    .dataframe tbody tr th {\n",
       "        vertical-align: top;\n",
       "    }\n",
       "\n",
       "    .dataframe thead th {\n",
       "        text-align: right;\n",
       "    }\n",
       "</style>\n",
       "<table border=\"1\" class=\"dataframe\">\n",
       "  <thead>\n",
       "    <tr style=\"text-align: right;\">\n",
       "      <th></th>\n",
       "      <th>document</th>\n",
       "      <th>label</th>\n",
       "      <th>star</th>\n",
       "    </tr>\n",
       "  </thead>\n",
       "  <tbody>\n",
       "    <tr>\n",
       "      <th>11288</th>\n",
       "      <td>엔딩을 보여 뭐야 이게 끝이야 라는 반응이 나왔지만 긴장감 하나만큼은 최고 보는 내...</td>\n",
       "      <td>1</td>\n",
       "      <td>8</td>\n",
       "    </tr>\n",
       "    <tr>\n",
       "      <th>1019</th>\n",
       "      <td>진짜 영화 보는 내내 재미있었다</td>\n",
       "      <td>1</td>\n",
       "      <td>10</td>\n",
       "    </tr>\n",
       "    <tr>\n",
       "      <th>7471</th>\n",
       "      <td>휴 캐붕에 오유랑 설정이 어긋나는 부분들이 있어서 차라리 오유랑 선 긋고 맘이 편합...</td>\n",
       "      <td>1</td>\n",
       "      <td>8</td>\n",
       "    </tr>\n",
       "    <tr>\n",
       "      <th>14784</th>\n",
       "      <td>솔직히 긴장도 전혀 안 됐다 긴장도 스토리에서 오는 건데</td>\n",
       "      <td>0</td>\n",
       "      <td>2</td>\n",
       "    </tr>\n",
       "    <tr>\n",
       "      <th>2690</th>\n",
       "      <td>트롤졸귀다재밋어용도좋음</td>\n",
       "      <td>1</td>\n",
       "      <td>10</td>\n",
       "    </tr>\n",
       "    <tr>\n",
       "      <th>...</th>\n",
       "      <td>...</td>\n",
       "      <td>...</td>\n",
       "      <td>...</td>\n",
       "    </tr>\n",
       "    <tr>\n",
       "      <th>6798</th>\n",
       "      <td>마지막이어서 너무 아쉽지만 ㅜㅜ 그래도 내 대를 책임져준 영화였다  개인적으론 편이...</td>\n",
       "      <td>1</td>\n",
       "      <td>10</td>\n",
       "    </tr>\n",
       "    <tr>\n",
       "      <th>6541</th>\n",
       "      <td>최고다 아무도 모른다 그렇게 아버지가 된다 모두 대단한 작품들</td>\n",
       "      <td>1</td>\n",
       "      <td>10</td>\n",
       "    </tr>\n",
       "    <tr>\n",
       "      <th>11032</th>\n",
       "      <td>감독은 넷플릭스 가서 한 년이상 무료 청소해라 극장 개봉했음 그냥 개폭망작이다 인터...</td>\n",
       "      <td>0</td>\n",
       "      <td>2</td>\n",
       "    </tr>\n",
       "    <tr>\n",
       "      <th>4017</th>\n",
       "      <td>기대하고봤는데도 대만족</td>\n",
       "      <td>1</td>\n",
       "      <td>10</td>\n",
       "    </tr>\n",
       "    <tr>\n",
       "      <th>15931</th>\n",
       "      <td>정글러 피들스틱 누가 키웠냐</td>\n",
       "      <td>1</td>\n",
       "      <td>8</td>\n",
       "    </tr>\n",
       "  </tbody>\n",
       "</table>\n",
       "<p>7806 rows × 3 columns</p>\n",
       "</div>"
      ],
      "text/plain": [
       "                                                document  label  star\n",
       "11288  엔딩을 보여 뭐야 이게 끝이야 라는 반응이 나왔지만 긴장감 하나만큼은 최고 보는 내...      1     8\n",
       "1019                                  진짜 영화 보는 내내 재미있었다       1    10\n",
       "7471   휴 캐붕에 오유랑 설정이 어긋나는 부분들이 있어서 차라리 오유랑 선 긋고 맘이 편합...      1     8\n",
       "14784                   솔직히 긴장도 전혀 안 됐다 긴장도 스토리에서 오는 건데       0     2\n",
       "2690                                       트롤졸귀다재밋어용도좋음       1    10\n",
       "...                                                  ...    ...   ...\n",
       "6798   마지막이어서 너무 아쉽지만 ㅜㅜ 그래도 내 대를 책임져준 영화였다  개인적으론 편이...      1    10\n",
       "6541                 최고다 아무도 모른다 그렇게 아버지가 된다 모두 대단한 작품들       1    10\n",
       "11032  감독은 넷플릭스 가서 한 년이상 무료 청소해라 극장 개봉했음 그냥 개폭망작이다 인터...      0     2\n",
       "4017                                       기대하고봤는데도 대만족       1    10\n",
       "15931                                   정글러 피들스틱 누가 키웠냐       1     8\n",
       "\n",
       "[7806 rows x 3 columns]"
      ]
     },
     "execution_count": 96,
     "metadata": {},
     "output_type": "execute_result"
    }
   ],
   "source": [
    "jdata = train_data\n",
    "\n",
    "jdata"
   ]
  },
  {
   "cell_type": "markdown",
   "metadata": {},
   "source": [
    "### 명사만 추출하기"
   ]
  },
  {
   "cell_type": "code",
   "execution_count": 97,
   "metadata": {},
   "outputs": [],
   "source": [
    "# 불용어 제거\n",
    "# 형태소 토큰화\n",
    "X_train = []\n",
    "for sentence in train_data['document']:\n",
    "    temp_X = []\n",
    "    temp_X = okt.morphs(sentence, stem=True) # 토큰화\n",
    "    temp_X = [word for word in temp_X if not word in ko_file] # 불용어 제거\n",
    "    X_train.append(temp_X)"
   ]
  },
  {
   "cell_type": "code",
   "execution_count": 98,
   "metadata": {
    "collapsed": true,
    "jupyter": {
     "outputs_hidden": true
    }
   },
   "outputs": [
    {
     "data": {
      "text/plain": [
       "['사냥',\n",
       " '감',\n",
       " '이',\n",
       " '되다',\n",
       " '인간',\n",
       " '의',\n",
       " '심리',\n",
       " '를',\n",
       " '자다',\n",
       " '표현',\n",
       " '함',\n",
       " '연기',\n",
       " '와',\n",
       " '미장센',\n",
       " '이',\n",
       " '뛰어나다']"
      ]
     },
     "execution_count": 98,
     "metadata": {},
     "output_type": "execute_result"
    }
   ],
   "source": [
    "X_train[10]"
   ]
  },
  {
   "cell_type": "code",
   "execution_count": 99,
   "metadata": {
    "collapsed": true,
    "jupyter": {
     "outputs_hidden": true
    }
   },
   "outputs": [
    {
     "name": "stdout",
     "output_type": "stream",
     "text": [
      "['엔딩', '을', '보이다', '뭐', '야', '이', '게', '끝', '이야', '라는', '반응', '이', '나오다', '긴장감', '하나', '만큼은', '최고', '보다', '내내', '심장', '이', '빨리', '뛰다', '소위', '말다', '쫄린다', '는', '느낌', '이', '무척', '강하다', '그리고', '살다', '크다', '문제', '에', '맞닥뜨렸', '을', '때', '계속', '피하', '기만', '하다', '어느', '곳', '에서도', '빠지다', '나가다', '수', '없다', '나름', '의', '교훈', '도', '있다', '것', '같다', '전체', '적', '으로', '추천', '하다']\n"
     ]
    }
   ],
   "source": [
    "print(X_train[0])"
   ]
  },
  {
   "cell_type": "code",
   "execution_count": 100,
   "metadata": {},
   "outputs": [],
   "source": [
    "X_test = []\n",
    "for sentence in test_data['document']:\n",
    "    temp_X = []\n",
    "    temp_X = okt.morphs(sentence, stem=True) # 토큰화\n",
    "    temp_X = [word for word in temp_X if not word in ko_file] # 불용어 제거\n",
    "    X_test.append(temp_X)"
   ]
  },
  {
   "cell_type": "code",
   "execution_count": 51,
   "metadata": {},
   "outputs": [],
   "source": [
    "### 정수 인코딩"
   ]
  },
  {
   "cell_type": "code",
   "execution_count": 101,
   "metadata": {},
   "outputs": [],
   "source": [
    "tokenizer = Tokenizer()\n",
    "tokenizer.fit_on_texts(X_train)"
   ]
  },
  {
   "cell_type": "code",
   "execution_count": 102,
   "metadata": {
    "collapsed": true,
    "jupyter": {
     "outputs_hidden": true
    }
   },
   "outputs": [
    {
     "name": "stdout",
     "output_type": "stream",
     "text": [
      "{'이': 1, '하다': 2, '영화': 3, '보다': 4, '에': 5, '의': 6, '가': 7, '을': 8, '들': 9, '도': 10, '는': 11, '은': 12, '를': 13, '있다': 14, '없다': 15, '좋다': 16, '이다': 17, '너무': 18, '스토리': 19, '한': 20, '같다': 21, '으로': 22, '되다': 23, '다': 24, '연기': 25, '에서': 26, '배우': 27, '아니다': 28, '만': 29, '로': 30, '재밌다': 31, '적': 32, '진짜': 33, '긴장감': 34, '과': 35, '것': 36, '생각': 37, '않다': 38, '평점': 39, '시간': 40, '그': 41, '안': 42, '나오다': 43, '만들다': 44, '점': 45, '연출': 46, '사람': 47, '못': 48, '나': 49, '정말': 50, '인': 51, '고': 52, '게': 53, '왜': 54, '내': 55, '더': 56, '까지': 57, '그냥': 58, '감독': 59, '하고': 60, '자다': 61, '수': 62, '보고': 63, '와': 64, '정도': 65, '들다': 66, '때': 67, '액션': 68, '가다': 69, '말': 70, '거': 71, '최고': 72, '싶다': 73, '모르다': 74, '이렇다': 75, '많다': 76, '볼': 77, '그렇다': 78, '주다': 79, '잘': 80, '하나': 81, '오다': 82, '좀': 83, '느낌': 84, '장면': 85, '저': 86, '요': 87, '뭐': 88, '개': 89, '재미있다': 90, '그리고': 91, '내용': 92, 'ㅋㅋ': 93, '알다': 94, '넷플릭스': 95, '사냥': 96, '아쉽다': 97, '이렇게': 98, '처음': 99, '중': 100, '네': 101, '성': 102, '끝': 103, '걸': 104, '많이': 105, '작품': 106, '마지막': 107, '아깝다': 108, '아': 109, '감동': 110, '분': 111, '없이': 112, '임': 113, '인데': 114, '영': 115, '한국': 116, '느끼다': 117, '사랑': 118, 'ㅠㅠ': 119, '주인공': 120, '인생': 121, '총': 122, '듯': 123, '몰입': 124, '님': 125, '다시': 126, '개봉': 127, '남다': 128, '괜찮다': 129, '서': 130, '감': 131, '면': 132, '먹다': 133, '재미': 134, '함': 135, '기대': 136, '맞다': 137, '개연': 138, '나다': 139, '부분': 140, '받다': 141, '지': 142, '년': 143, '하': 144, '때문': 145, '이해': 146, '버리다': 147, '기': 148, '부터': 149, '난': 150, '안되다': 151, '연기력': 152, '돈': 153, '되어다': 154, '영상': 155, '배경': 156, '해주다': 157, '이고': 158, '어떻다': 159, '영화관': 160, '초반': 161, '에게': 162, '낮다': 163, '두': 164, '넘다': 165, '이야기': 166, '이나': 167, 'ㅋㅋㅋ': 168, '크다': 169, '긴장': 170, '라고': 171, '지루하다': 172, '라': 173, '처럼': 174, '근데': 175, '좋아하다': 176, '중간': 177, '극장': 178, '음악': 179, '지금': 180, '꼭': 181, '마음': 182, '높다': 183, '모든': 184, '라는': 185, '내내': 186, '뻔하다': 187, '무슨': 188, '결말': 189, '살다': 190, '또': 191, '끄다': 192, '끝나다': 193, '추천': 194, '죽다': 195, '별': 196, '보기': 197, '상미': 198, '편': 199, '랑': 200, '당하다': 201, '재미없다': 202, '줄': 203, '현실': 204, '우리': 205, '번': 206, '대': 207, '일': 208, '이라': 209, '건': 210, '돼다': 211, 'ㅠ': 212, '이랑': 213, '내다': 214, '차다': 215, '수준': 216, '기대하다': 217, '화': 218, '제': 219, '보여주다': 220, '말다': 221, '무섭다': 222, '명': 223, '미치다': 224, '그래도': 225, '코로나': 226, '명작': 227, '개인': 228, '전': 229, '인지': 230, '애': 231, '다른': 232, '믿다': 233, '속': 234, '알': 235, '봄': 236, 'ㅎㅎ': 237, '대사': 238, '이건': 239, '설정': 240, '대한': 241, '표현': 242, '전개': 243, '이제훈': 244, '급': 245, '오랜': 246, '나름': 247, '한번': 248, '계속': 249, '엔': 250, '모두': 251, '자체': 252, 'ㅋ': 253, '답답하다': 254, '한국영': 255, '쓰레기': 256, '소재': 257, '캐릭터': 258, '노잼': 259, '이유': 260, '에는': 261, '솔직하다': 262, '별로': 263, '력': 264, '친구': 265, '여': 266, '눈': 267, '역시': 268, '건지다': 269, '쓰다': 270, '이상': 271, '뭔가': 272, '몰입도': 273, '야': 274, '인간': 275, '매력': 276, '찍다': 277, '설명': 278, '딱': 279, '느껴지다': 280, '슬프다': 281, '감정': 282, '떨어지다': 283, '기억': 284, '한테': 285, '분위기': 286, '훌륭하다': 287, '밖에': 288, '조금': 289, '눈물': 290, '테러': 291, '최악': 292, '위': 293, '엄청': 294, '시대': 295, '특히': 296, '치다': 297, '극': 298, '하지만': 299, '가장': 300, '모습': 301, '시작': 302, '이런': 303, '아름답다': 304, '이영화': 305, '식': 306, '충분하다': 307, '앞': 308, '재다': 309, '후': 310, '완전': 311, '보지': 312, '연': 313, '해보다': 314, '니': 315, '집': 316, '남자': 317, '자': 318, '미래': 319, '감사하다': 320, '신선하다': 321, '몇': 322, '알바': 323, '나쁘다': 324, '야하다': 325, '빠지다': 326, '마다': 327, '이제': 328, '이라는': 329, '일본': 330, '사실': 331, '여자': 332, '기분': 333, '인가': 334, '이네': 335, '스릴러': 336, '뿐': 337, '시키다': 338, '꾼': 339, '지다': 340, '완벽하다': 341, '킬링타임': 342, '후반': 343, '평가': 344, '뭘': 345, '아무': 346, '이라고': 347, '집중': 348, '찾다': 349, '빼다': 350, '세상': 351, '욕': 352, '상황': 353, '지만': 354, 'ㅋㅋㅋㅋ': 355, '살리다': 356, '냐': 357, '넘치다': 358, '결국': 359, '간만': 360, '파수': 361, '가족': 362, '전혀': 363, '멋지다': 364, '늘다': 365, '놈': 366, '어리다': 367, '보이다': 368, '살': 369, '대단하다': 370, '본': 371, '가슴': 372, '동안': 373, '반전': 374, '허다': 375, '평': 376, '영화로': 377, '짜다': 378, '등': 379, '무엇': 380, '같이': 381, '들이다': 382, '예쁘다': 383, '아이': 384, '절대': 385, '부족하다': 386, '대박': 387, '떡밥': 388, '제대로': 389, '울다': 390, '의미': 391, '얼굴': 392, '따다': 393, '오': 394, '우리나라': 395, '감상': 396, '웃다': 397, '누구': 398, '중반': 399, '관객': 400, '에도': 401, '깊다': 402, '타임': 403, '공포영화': 404, '대다': 405, '다르다': 406, '써다': 407, '죽이다': 408, '인물': 409, '가지': 410, '그렇게': 411, '아주': 412, 'ㅎ': 413, '요즘': 414, '뭔': 415, '용': 416, '삶': 417, '여운': 418, '이상하다': 419, '부': 420, '소리': 421, '신': 422, '스릴': 423, '물': 424, '혼자': 425, '네이버': 426, '라면': 427, '진심': 428, '풀다': 429, '작': 430, '움': 431, '시': 432, '해도': 433, '사회': 434, '함께': 435, '놓다': 436, '상': 437, '드리다': 438, '자신': 439, '디스토피아': 440, '놀라다': 441, '남기다': 442, '멋있다': 443, '씨': 444, '이지만': 445, '얼마나': 446, '분들': 447, '장난': 448, '심장': 449, '원작': 450, '엔딩': 451, '어느': 452, '대해': 453, '노래': 454, '위해': 455, '문제': 456, '형': 457, '그리다': 458, '중국': 459, '생각나다': 460, '인상': 461, '잔잔하다': 462, '이란': 463, '그래서': 464, '힘들다': 465, '뒤': 466, '타다': 467, '시나리오': 468, '쓸다': 469, '기다': 470, '감성': 471, '적다': 472, '꿈': 473, '실망': 474, '담다': 475, '장르': 476, '두다': 477, '아프다': 478, '씬': 479, '기도': 480, '쏘다': 481, '니까': 482, 'ㅜㅜ': 483, '간': 484, '배우다': 485, '귀엽다': 486, '다행': 487, '제목': 488, '제일': 489, '안타깝다': 490, '유치하다': 491, '준': 492, '이지': 493, '들어가다': 494, '댓글': 495, '공포': 496, '제발': 497, '나라': 498, '이후': 499, '일단': 500, '공감': 501, '이르다': 502, '시리즈': 503, '남': 504, '매우': 505, '뛰어나다': 506, '오히려': 507, '날': 508, '그것': 509, '데': 510, '점수': 511, 'ㅡㅡ': 512, '잡다': 513, '도대체': 514, '시절': 515, '사운드': 516, '촬영': 517, '걸리다': 518, '새롭다': 519, '어울리다': 520, '나가다': 521, '기다리다': 522, '미국': 523, '궁금하다': 524, '억': 525, '물론': 526, '손': 527, '너': 528, '잔인하다': 529, '든': 530, '다음': 531, '수작': 532, '액션영화': 533, '망하다': 534, '전쟁': 535, '전부': 536, '엄청나다': 537, '진실': 538, '어': 539, '구': 540, '죽': 541, '넣다': 542, '반': 543, '어설프다': 544, '서다': 545, '그저': 546, '러닝': 547, '소름': 548, '역사': 549, '말고': 550, '얘기': 551, '전체': 552, '훨씬': 553, '즐기다': 554, '질': 555, '건가': 556, '그런': 557, '잊다': 558, '에요': 559, '보다는': 560, '존나': 561, '여기': 562, '차라리': 563, '순간': 564, '가능하다': 565, '드라마': 566, '제작': 567, '당시': 568, '누가': 569, '오늘': 570, '꽤': 571, '그게': 572, '갈다': 573, '후회': 574, '햄': 575, '속편': 576, '편이': 577, '걸다': 578, '떠나다': 579, '약간': 580, '굳이': 581, '바로': 582, '만큼': 583, '그때': 584, '실제': 585, '뜨다': 586, '비': 587, '대한민국': 588, '존재': 589, '박정민': 590, '코미디': 591, '리뷰': 592, '그대로': 593, '출연': 594, '에서도': 595, '싸우다': 596, '판': 597, '넷플': 598, '쉬다': 599, '그나마': 600, '행복하다': 601, '에서는': 602, '예상': 603, '해': 604, '가볍다': 605, '주': 606, '킬러': 607, '등장': 608, '이번': 609, '아직도': 610, '화면': 611, '리얼': 612, '사건': 613, '요소': 614, '어색하다': 615, '거기': 616, '원': 617, '엄마': 618, '음': 619, '더빙': 620, '둘': 621, '만나다': 622, '따르다': 623, '웃기다': 624, '재': 625, '비슷하다': 626, '스럽다': 627, '달다': 628, 'ㅜ': 629, '아무리': 630, '회수': 631, '서로': 632, '보단': 633, '약하다': 634, '세': 635, '어른': 636, '이기다': 637, '여주': 638, '역대': 639, '선택': 640, '박하다': 641, '캐스팅': 642, '식이': 643, '힘': 644, '쯤': 645, '주연': 646, '배': 647, '멀다': 648, '터미네이터': 649, '잘생기다': 650, '돋다': 651, '카메라': 652, '초': 653, '엽문': 654, '포인트': 655, '자기': 656, '세계관': 657, '나이': 658, '터지다': 659, '또한': 660, '쩔다': 661, '짱': 662, '필요하다': 663, '곳': 664, '맘': 665, '필요없다': 666, 'ㄹㅇ': 667, '잃다': 668, '여러': 669, '아쉬움': 670, '머리': 671, '도박장': 672, '크게': 673, '볼때': 674, '깔다': 675, '만으로도': 676, '테이크': 677, '찾아보다': 678, '죽음': 679, '인정': 680, '게임': 681, '싸다': 682, '따뜻하다': 683, '보': 684, '잼': 685, '다만': 686, '관람': 687, '토르': 688, '이딴': 689, '똥': 690, '울': 691, '여성': 692, '이야': 693, '단순하다': 694, '평론가': 695, '굉장하다': 696, '쫄깃': 697, '조': 698, '일이': 699, '최우식': 700, '완성': 701, '언제': 702, '바라다': 703, '충격': 704, '거지': 705, '피': 706, '보내다': 707, '편집': 708, '살아가다': 709, '선': 710, '안보': 711, '생기다': 712, '밉다': 713, '바': 714, '탄탄하다': 715, '터': 716, '화가': 717, '이라도': 718, '힘드다': 719, '찌다': 720, '갈수록': 721, '비다': 722, '거의': 723, '다니다': 724, '최근': 725, '너무나': 726, '진부하다': 727, '떠오르다': 728, '저런': 729, '그걸': 730, '현': 731, '미도': 732, '라도': 733, '맞추다': 734, '땀': 735, '추억': 736, '갑자기': 737, '만하': 738, '다소': 739, '코믹': 740, '역할': 741, '로맨스': 742, '불편하다': 743, '상상': 744, '심하다': 745, '세계': 746, '년대': 747, '아직': 748, '양': 749, '온': 750, '술': 751, '오지': 752, '돋보이다': 753, '돌리다': 754, '가지다': 755, '이름': 756, '거리': 757, '강하다': 758, '의도': 759, '애니': 760, '싸움': 761, '당': 762, '대체': 763, '싫다': 764, '잇다': 765, '통해': 766, '되게': 767, '옛날': 768, '저렇게': 769, '엉': 770, '라서': 771, '걍': 772, '신기하다': 773, '씩': 774, '오락': 775, '상당하다': 776, '노력': 777, '교훈': 778, '트롤': 779, '지나다': 780, '티비': 781, '기생충': 782, '확실하다': 783, '우정': 784, '추격': 785, '에선': 786, '심지어': 787, '수가': 788, '영화인': 789, '도망가다': 790, '이냐': 791, '까지는': 792, '끝내다': 793, '차': 794, 'ㅠㅠㅠ': 795, '발': 796, '즐겁다': 797, '수도': 798, '그거': 799, '타': 800, '그러나': 801, '도망': 802, '틀다': 803, '담배': 804, '마무리': 805, '소중하다': 806, '빨리': 807, '특유': 808, '웃음': 809, '어렵다': 810, '후속작': 811, '올해': 812, '아들': 813, '견자단': 814, '만이': 815, '어쩔': 816, '중요하다': 817, '듣다': 818, '구성': 819, '읽다': 820, '머': 821, '오글거리다': 822, '평범하다': 823, '만점': 824, '나르다': 825, '바꾸다': 826, '류': 827, '클리셰': 828, '강추': 829, '새끼': 830, '법': 831, '최고다': 832, '흥미롭다': 833, '새': 834, '불쌍하다': 835, '상영': 836, '짧다': 837, '인거': 838, '갖다': 839, '시도': 840, '더하다': 841, '그런데': 842, '잘만': 843, '고민': 844, '대충': 845, '애초': 846, '세월호': 847, '행동': 848, '한데': 849, '질질': 850, '메세지': 851, '불다': 852, '시기': 853, '주제': 854, '어디': 855, '히': 856, '사': 857, '줌': 858, '이미': 859, '무': 860, '만에': 861, '자꾸': 862, '다가': 863, '뻔': 864, '아저씨': 865, '연기자': 866, '억지로': 867, '겁나다': 868, '글': 869, '진행': 870, '안좋다': 871, '며': 872, '이리': 873, '굿': 874, '암': 875, '답': 876, '경찰': 877, '각본': 878, '왕': 879, '감탄': 880, '살짝': 881, '순': 882, '예술': 883, '만으로': 884, '사다': 885, '청춘': 886, '색감': 887, '정신': 888, '가치': 889, '발암': 890, '예고편': 891, '쫓기다': 892, '신파': 893, '산': 894, '짐': 895, '이제야': 896, '눈빛': 897, '더욱': 898, '이병헌': 899, '젊다': 900, '정치': 901, '떨다': 902, '포기': 903, '지루함': 904, '안재홍': 905, '시즌': 906, '웃기': 907, '열': 908, '낫다': 909, '무조건': 910, '필요': 911, '진': 912, '스러운': 913, '인하다': 914, '감다': 915, '첨': 916, '성은': 917, '아빠': 918, '현재': 919, '평이': 920, '공': 921, '희망': 922, '실감': 923, '전쟁영화': 924, '더럽다': 925, '덕분': 926, '취향': 927, '딸': 928, '이정': 929, '소': 930, '명의': 931, '전반': 932, '과정': 933, '짜증나다': 934, '만들어지다': 935, '돌아가다': 936, '독특하다': 937, '미안하다': 938, '이며': 939, '실화': 940, '뭐라다': 941, 'ㄷㄷ': 942, '대로': 943, '단': 944, '미가': 945, '는걸': 946, '흥행': 947, '조작': 948, '짓': 949, '롱': 950, '남편': 951, '편하다': 952, '박수': 953, '래': 954, '먼저': 955, '존윅': 956, '한편': 957, '몸': 958, '바다': 959, '이니': 960, '실망하다': 961, '과거': 962, '낭비': 963, '어이없다': 964, '흥미': 965, '설레다': 966, '총기': 967, '국민': 968, '땐': 969, '막': 970, '관계': 971, '아버지': 972, '능력': 973, '목소리': 974, '휴': 975, '치고': 976, '올리다': 977, '흠': 978, '압도': 979, '맛': 980, '신나다': 981, '예산': 982, '역': 983, '한다는': 984, '복수': 985, '소설': 986, '신경': 987, '작가': 988, '이쁘다': 989, '숨다': 990, '분량': 991, '고맙다': 992, '데리다': 993, '입': 994, '맨': 995, '모으다': 996, '멍청하다': 997, '란': 998, '션': 999, '무시': 1000, '몇번': 1001, '넘어가다': 1002, '항상': 1003, '결혼': 1004, '흐르다': 1005, '참고': 1006, '정선': 1007, '거슬리다': 1008, '구멍': 1009, '흥미진진': 1010, '길다': 1011, '낮': 1012, '등장인물': 1013, '적당하다': 1014, '표정': 1015, '허무하다': 1016, '자극': 1017, '외국': 1018, '척': 1019, '간다': 1020, '그렇다고': 1021, '팬': 1022, '어이': 1023, '팔이': 1024, '리': 1025, '놓치다': 1026, '수많다': 1027, '망치다': 1028, '다루다': 1029, '아치': 1030, '데리': 1031, '꿀잼': 1032, '만화': 1033, '잠': 1034, '힐링': 1035, '투자': 1036, '첫': 1037, '희생': 1038, 'ㅈ': 1039, '지리다': 1040, '땜': 1041, '메시지': 1042, '당연하다': 1043, '느와르': 1044, '결론': 1045, '굳다': 1046, '각자': 1047, '죠': 1048, '슬픔': 1049, '사용': 1050, '범죄': 1051, '닿다': 1052, '던지다': 1053, '문': 1054, '다운': 1055, '디테일': 1056, '애니메이션': 1057, '대만': 1058, '마블': 1059, '다큐': 1060, '책': 1061, '괜히': 1062, '음향': 1063, '냥': 1064, '청년': 1065, '화보': 1066, '빈약하다': 1067, '도시': 1068, '판단': 1069, '불': 1070, '에만': 1071, '마치': 1072, '제작비': 1073, '자리': 1074, '시원하다': 1075, '당신': 1076, '억지': 1077, '포스터': 1078, '상태': 1079, '어머니': 1080, '묻다': 1081, '어벤져스': 1082, '나서다': 1083, '스타일': 1084, '마저': 1085, '남녀': 1086, '방': 1087, '지키다': 1088, '이끌다': 1089, '까진': 1090, '점점': 1091, '고생': 1092, '쫓다': 1093, '도망치다': 1094, '거나': 1095, '망작': 1096, '히어로': 1097, '나머지': 1098, '에게는': 1099, '의식': 1100, '내리다': 1101, '으로도': 1102, '귀': 1103, '심리': 1104, '나중': 1105, '누군가': 1106, '오래': 1107, '접': 1108, '후기': 1109, '밤': 1110, '위룡': 1111, '직접': 1112, '롭고': 1113, '의문': 1114, '똑같다': 1115, '예': 1116, '다가오다': 1117, '근': 1118, '성하다': 1119, '노인': 1120, '넷': 1121, '태어나다': 1122, '스럽게': 1123, '감사': 1124, 'ㅈㄴ': 1125, '노': 1126, '빛': 1127, '외': 1128, '엉망': 1129, '백': 1130, '그녀': 1131, '깨다': 1132, '다양하다': 1133, '얻다': 1134, '년전': 1135, '평생': 1136, '아예': 1137, '망': 1138, '대부분': 1139, '후속': 1140, '길': 1141, '무기': 1142, '줍다': 1143, '흘러가다': 1144, '작다': 1145, '만큼은': 1146, '사라지다': 1147, '등등': 1148, '세다': 1149, '이어지다': 1150, '걸작': 1151, '숨': 1152, '옆': 1153, '걱정': 1154, '전형': 1155, '으로는': 1156, '정': 1157, '넘기다': 1158, '총알': 1159, '언제나': 1160, '만의': 1161, '좀더': 1162, '입장': 1163, '피다': 1164, '본인': 1165, '보이': 1166, '성공하다': 1167, '발전': 1168, '흘리다': 1169, '벗어나다': 1170, '반복': 1171, '일어나다': 1172, '바라보다': 1173, '순수하다': 1174, '근래': 1175, '다시다': 1176, '강': 1177, '겠다': 1178, '송': 1179, '라니': 1180, '틈': 1181, '대화': 1182, '드': 1183, '고구마': 1184, '오랫': 1185, '커버': 1186, '서사': 1187, '역겹다': 1188, '선동': 1189, '살인': 1190, '막판': 1191, '가보다': 1192, '존잼': 1193, '준석': 1194, '심': 1195, '잡고': 1196, '자유': 1197, '자본': 1198, '이하': 1199, '께': 1200, '어제': 1201, '지는': 1202, '여러분': 1203, '트랙': 1204, '동': 1205, '막히다': 1206, '채우다': 1207, '전설': 1208, '성도': 1209, '하루': 1210, '이미지': 1211, '배경음악': 1212, '에겐': 1213, '날리다': 1214, '형님': 1215, '부실하다': 1216, '로는': 1217, '연결': 1218, '사랑스럽다': 1219, '그림': 1220, '원하다': 1221, '해석': 1222, '졸작': 1223, '영원하다': 1224, '쓸데없이': 1225, '뽑다': 1226, '왜케': 1227, '지도': 1228, '결과': 1229, '관련': 1230, '박': 1231, '료': 1232, '지나치다': 1233, '액션씬': 1234, '깔끔하다': 1235, '처': 1236, '모': 1237, '닮다': 1238, '올라가다': 1239, '여전하다': 1240, '달': 1241, '감히': 1242, '케미': 1243, '재밋': 1244, '눈물나다': 1245, '싫어하다': 1246, '각': 1247, '찾아오다': 1248, '너무하다': 1249, '개다': 1250, '들어오다': 1251, '익스': 1252, '전도연': 1253, '스포': 1254, '팔': 1255, '무비': 1256, '따라가다': 1257, '비교': 1258, '조차': 1259, '조명': 1260, '겪다': 1261, '화려하다': 1262, '끼리': 1263, '동시': 1264, '비판': 1265, '죄': 1266, '소녀': 1267, '지옥': 1268, '기법': 1269, '제로': 1270, '가면': 1271, '기본': 1272, '참다': 1273, '라인': 1274, '무서움': 1275, '매': 1276, '이라니': 1277, '짜임새': 1278, '기준': 1279, '밝히다': 1280, '보통': 1281, '어디서': 1282, '행복': 1283, '때리다': 1284, '판타지': 1285, '예요': 1286, '웬디': 1287, '평소': 1288, '이면': 1289, '흐름': 1290, '펑펑': 1291, '무난': 1292, '김': 1293, '가깝다': 1294, '장국영': 1295, '탓': 1296, '로써': 1297, '부르다': 1298, '초딩': 1299, '쫒다': 1300, '악평': 1301, 'ㅇㅇ': 1302, '울리다': 1303, '겨우': 1304, '면서': 1305, '김재규': 1306, '공부': 1307, '이루다': 1308, '유발': 1309, '번은': 1310, '사고': 1311, 'ㅠㅠㅠㅠ': 1312, '담기다': 1313, '날다': 1314, '방금': 1315, '장': 1316, '퀄리티': 1317, '핵': 1318, '빛나다': 1319, '꾸다': 1320, '열리다': 1321, '스타워즈': 1322, '표': 1323, '혹시': 1324, '으로서': 1325, '살아나다': 1326, '흔하다': 1327, '에서의': 1328, '군': 1329, '섬세하다': 1330, '플렉스': 1331, '이기': 1332, '부모님': 1333, '참신하다': 1334, '고딩': 1335, '반갑다': 1336, '국내': 1337, '차이': 1338, '채': 1339, '동물': 1340, '파': 1341, '조연': 1342, '예측': 1343, '비극': 1344, '방식': 1345, '관심': 1346, '무너지다': 1347, '유머': 1348, '분명': 1349, '자연': 1350, '맡다': 1351, '연관': 1352, '경제': 1353, '덜': 1354, '키': 1355, '이에요': 1356, 'ㅎㅎㅎ': 1357, '여서': 1358, '악당': 1359, '목숨': 1360, '끼다': 1361, '격전': 1362, '계': 1363, '으론': 1364, '위로': 1365, '월': 1366, '원래': 1367, '천재': 1368, '라라': 1369, '신의': 1370, '계획': 1371, '성장': 1372, '디테': 1373, '인도': 1374, '미화': 1375, '짜증': 1376, '정우성': 1377, '호강': 1378, '부족': 1379, '젤': 1380, '버티다': 1381, '만은': 1382, '학생': 1383, '및': 1384, '아끼다': 1385, '뿌리다': 1386, '왤케': 1387, '예전': 1388, '생활': 1389, '떼다': 1390, '가끔': 1391, '줄거리': 1392, '한마디': 1393, '바람': 1394, '혹평': 1395, '쥐': 1396, '로서': 1397, '어쩌면': 1398, '시점': 1399, '돌려주다': 1400, '좀비': 1401, '하나로': 1402, '스트레스': 1403, 'ㅉㅉ': 1404, '대작': 1405, '지나가다': 1406, '전달': 1407, '지난': 1408, '높이다': 1409, '으로만': 1410, '묘사': 1411, '탈출': 1412, '늙다': 1413, '아마': 1414, '경험': 1415, '유명하다': 1416, '가능': 1417, '용도': 1418, '로운': 1419, '바뀌다': 1420, '잠깐': 1421, '관': 1422, '런가': 1423, '깜짝': 1424, '유쾌하다': 1425, '끊다': 1426, '마냥': 1427, '분명하다': 1428, '다그': 1429, '젠': 1430, '입다': 1431, '악마': 1432, '형제': 1433, '상처': 1434, '정보': 1435, '동화': 1436, '졸라': 1437, '깎다': 1438, '주차장': 1439, '끌다': 1440, '감정이입': 1441, '쥐다': 1442, '정부': 1443, '해외': 1444, '완벽': 1445, '스스로': 1446, '돌아오다': 1447, '해결': 1448, '기회': 1449, '대신': 1450, '빠르다': 1451, '문화': 1452, '시선': 1453, '짱깨': 1454, '연속': 1455, '열심히': 1456, '이래': 1457, '뜻': 1458, '식상하다': 1459, '년도': 1460, '의리': 1461, '안다': 1462, '풍자': 1463, '악역': 1464, '진정하다': 1465, 'ㄷ': 1466, '조커': 1467, '자막': 1468, '나아가다': 1469, '놀래다': 1470, '군인': 1471, '쩐다': 1472, '토': 1473, '레드': 1474, '과연': 1475, '군대': 1476, '깨닫다': 1477, '그만': 1478, '번째': 1479, '빠져들다': 1480, '곱씹다': 1481, '갈등': 1482, '보시': 1483, '누': 1484, '납득': 1485, '스크린': 1486, '쪽': 1487, '그만큼': 1488, '종교': 1489, '어찌': 1490, '띵작': 1491, '드러나다': 1492, '감명': 1493, '탑': 1494, '새벽': 1495, '정서': 1496, '생': 1497, '감각': 1498, '암튼': 1499, '만족': 1500, '편도': 1501, '언': 1502, '뛰다': 1503, '부럽다': 1504, '불구': 1505, '귀신': 1506, '디': 1507, '이소룡': 1508, '어거지': 1509, '국뽕': 1510, '숨막히다': 1511, '숨기다': 1512, '변하다': 1513, '발견': 1514, '앉다': 1515, '인가요': 1516, '병맛': 1517, '루즈': 1518, '주변': 1519, '향': 1520, '그날': 1521, '이만': 1522, '피해자': 1523, '하늘': 1524, '동생': 1525, '순삭': 1526, '갖추다': 1527, '캐': 1528, '빨다': 1529, '만약': 1530, '휘': 1531, '단점': 1532, '피해': 1533, '병원': 1534, '아무튼': 1535, '용기': 1536, '동네': 1537, '아픔': 1538, '홍콩': 1539, '대감': 1540, '얘': 1541, '헐리웃': 1542, '분노': 1543, '범인': 1544, '점주': 1545, '통쾌하다': 1546, '중후': 1547, '이용': 1548, '재앙': 1549, '안해': 1550, '사냥꾼': 1551, '아내': 1552, '이시언': 1553, '들어서다': 1554, '덕': 1555, '대안': 1556, '가득': 1557, '준비': 1558, '뜬금': 1559, '오르다': 1560, '물이': 1561, '때매': 1562, '우연히': 1563, '방해': 1564, '불안하다': 1565, '이라서': 1566, '무겁다': 1567, '톰': 1568, '한참': 1569, '몰다': 1570, '따로': 1571, '지겹다': 1572, '빵': 1573, '존': 1574, '효과': 1575, '기대다': 1576, '응': 1577, '으': 1578, '검찰': 1579, '삼류': 1580, '진지하다': 1581, '저러다': 1582, '이어서': 1583, '구도': 1584, '멈추다': 1585, '봉준호': 1586, '구석': 1587, '말고는': 1588, '빨갛다': 1589, '킬링': 1590, '레알': 1591, '연애': 1592, '그치다': 1593, '레전드': 1594, '한국판': 1595, '정체': 1596, '방법': 1597, '칼': 1598, 'ㅠㅜ': 1599, '쫄려': 1600, '공짜': 1601, '말로': 1602, '겨': 1603, '가득하다': 1604, '얼': 1605, '용이': 1606, '밝혀지다': 1607, '별거': 1608, '빡치다': 1609, '바보': 1610, '상상력': 1611, '왠만하다': 1612, '스케일': 1613, '잊혀지다': 1614, '으로써': 1615, '우': 1616, '깨': 1617, '로만': 1618, '와우': 1619, '따위': 1620, '설마': 1621, '광주': 1622, '봣': 1623, '메': 1624, '정확하다': 1625, '점도': 1626, '까지도': 1627, '오브': 1628, '유지': 1629, '칭찬': 1630, '부로': 1631, '기억나다': 1632, '남성': 1633, '성인': 1634, '때우다': 1635, '부끄럽다': 1636, '체': 1637, '민주주의': 1638, '윤성현': 1639, '없어지다': 1640, '용서': 1641, '풋풋하다': 1642, '고통': 1643, '니깐': 1644, '클레멘타인': 1645, '벨벳': 1646, '성공': 1647, '응원': 1648, '어떤': 1649, '중심': 1650, '떨리다': 1651, '일상': 1652, '의지': 1653, '이자': 1654, '기적': 1655, '호구': 1656, '올': 1657, '한심하다': 1658, '호불호': 1659, '훔치다': 1660, '문재인': 1661, '까지만': 1662, '다시금': 1663, '이상은': 1664, '드물다': 1665, '사이': 1666, '우선': 1667, '비중': 1668, '초점': 1669, '안나': 1670, '일부러': 1671, '희다': 1672, '욕심': 1673, '천만': 1674, '관람객': 1675, '조폭': 1676, '높아지다': 1677, '잘못': 1678, '기존': 1679, '끌': 1680, '만족스럽다': 1681, '미리': 1682, '착하다': 1683, '폭': 1684, '빨': 1685, '쏟다': 1686, '와는': 1687, '서스펜스': 1688, '욕먹다': 1689, '주의': 1690, '보다도': 1691, '완전하다': 1692, '이재훈': 1693, '폭력': 1694, '키우다': 1695, '기만': 1696, '곡': 1697, '하정우': 1698, '로코': 1699, '목': 1700, '실패하다': 1701, '작화': 1702, '배다': 1703, '컨셉': 1704, '장이': 1705, '난무': 1706, '처절하다': 1707, '킹덤': 1708, '평균': 1709, '범벅': 1710, '비추다': 1711, '일으키다': 1712, '핸드폰': 1713, '호흡': 1714, '인기': 1715, '폭발': 1716, '듬': 1717, '단순': 1718, '누르다': 1719, '정권': 1720, '약': 1721, '찝찝하다': 1722, 'ㅅㅂ': 1723, 'ㅡ': 1724, '소소하다': 1725, '난리': 1726, '수고': 1727, '늦다': 1728, '달라': 1729, '잠시': 1730, '엇': 1731, '암울하다': 1732, '마약': 1733, '진상': 1734, '규명': 1735, '거치다': 1736, '짓다': 1737, '결제': 1738, '불친절하다': 1739, '딱하다': 1740, '국가': 1741, '어둡다': 1742, '아련하다': 1743, '데이': 1744, '실수': 1745, '중병': 1746, '모양': 1747, '톤': 1748, '말투': 1749, '우울하다': 1750, '보아': 1751, '영환': 1752, '관계자': 1753, '무한': 1754, '미아': 1755, '찰떡': 1756, '짬뽕': 1757, '나타나다': 1758, '요리': 1759, '정리': 1760, '최선': 1761, '기술': 1762, '굿굿': 1763, '삼': 1764, '겁니다': 1765, '직업': 1766, '개꿀잼': 1767, '씹다': 1768, '와중': 1769, '치': 1770, '해내다': 1771, '실패': 1772, '찬': 1773, '댓글알바': 1774, '가리다': 1775, '워': 1776, '두번째': 1777, '존경': 1778, '좋아지다': 1779, '배그': 1780, '스': 1781, '그린': 1782, '지치다': 1783, '지르다': 1784, '소년': 1785, '과의': 1786, '조합': 1787, '말씀': 1788, '적절하다': 1789, '잡히다': 1790, '구조': 1791, '공간': 1792, '말함': 1793, '밀다': 1794, '만족하다': 1795, '두운': 1796, '오빠': 1797, '맨날': 1798, '주지': 1799, '도전': 1800, '맞서다': 1801, '마동석': 1802, '가방': 1803, '성우': 1804, '중학생': 1805, '울면': 1806, '벌써': 1807, '뛰어넘다': 1808, '생생하다': 1809, '케릭': 1810, '마디': 1811, '제외': 1812, '복잡하다': 1813, '최민식': 1814, '부모': 1815, '트라우마': 1816, '눈치': 1817, '무료': 1818, '개판': 1819, '폰': 1820, '들리다': 1821, '쫄보': 1822, '털': 1823, '이루어지다': 1824, '상대': 1825, '이전': 1826, '관점': 1827, '인류': 1828, '드럽다': 1829, '미술': 1830, '많아지다': 1831, '과장': 1832, '자고': 1833, '세대': 1834, '충': 1835, '만들기': 1836, '늘': 1837, '숨소리': 1838, '의하다': 1839, '군더더기': 1840, '흡입': 1841, '쓰이다': 1842, '자동차': 1843, '화장실': 1844, '맥락': 1845, '단어': 1846, '돌아보다': 1847, '시국': 1848, '펴다': 1849, '억지스럽다': 1850, '미모': 1851, '박다': 1852, '노리다': 1853, '재료': 1854, '밑': 1855, '다해': 1856, '달달': 1857, '부부': 1858, '잠들다': 1859, '저렇다': 1860, '줄다': 1861, '긴박': 1862, '제작자': 1863, '두렵다': 1864, '애기': 1865, '일품': 1866, '맛있다': 1867, '빨갱이': 1868, '느리다': 1869, '따지다': 1870, '각색': 1871, '마르다': 1872, '려고': 1873, '요시': 1874, '할리우드': 1875, '한숨': 1876, '해봤다': 1877, '블랙': 1878, 'ㄷㄷㄷ': 1879, '헐리우드': 1880, '전투씬': 1881, '고스': 1882, '털다': 1883, '추하다': 1884, '잖다': 1885, '악플': 1886, '졸다': 1887, '낳다': 1888, '페미': 1889, '확': 1890, '뭉클하다': 1891, '티': 1892, '괴물': 1893, '가요': 1894, '위대하다': 1895, '끌리다': 1896, '정작': 1897, '조용하다': 1898, '색': 1899, '생략': 1900, '가져오다': 1901, '스킵': 1902, '갓': 1903, '그럭저럭': 1904, '엿': 1905, '짠하다': 1906, '영화계': 1907, '깡': 1908, '켜다': 1909, '만을': 1910, '코': 1911, '형사': 1912, '복선': 1913, '덜덜': 1914, '상업': 1915, '잔뜩': 1916, '리메이크': 1917, '추': 1918, '카': 1919, '풀': 1920, '늘어지다': 1921, '삶다': 1922, '청': 1923, '혼란': 1924, '착각': 1925, '그건': 1926, '미장센': 1927, '다한': 1928, '토록': 1929, '자연스럽다': 1930, '세련되다': 1931, '여기다': 1932, '현장': 1933, '의외로': 1934, '해수': 1935, '추가': 1936, '특별하다': 1937, '총격': 1938, '절절': 1939, '랄': 1940, '붙이다': 1941, '쫌': 1942, '박평': 1943, '끼': 1944, '반드시': 1945, '연인': 1946, '반하다': 1947, '틀': 1948, '딱이다': 1949, '풍경': 1950, '강도': 1951, '설득': 1952, '이선균': 1953, '디지다': 1954, '신파극': 1955, '투성이': 1956, '호': 1957, '반영': 1958, '감안': 1959, '정상': 1960, '뎅': 1961, '조직': 1962, '운': 1963, '악의': 1964, '선생님': 1965, '박정희': 1966, '시각': 1967, '접다': 1968, '선하다': 1969, '다치다': 1970, '불가': 1971, '에게도': 1972, '뿐이다': 1973, '곳곳': 1974, '섬': 1975, '확인': 1976, '우주': 1977, '자주': 1978, '볼거리': 1979, '놀랍다': 1980, '정말로': 1981, '증거': 1982, '크리스': 1983, '선사': 1984, '엥': 1985, '끊기다': 1986, '세기': 1987, '랜드': 1988, '마주': 1989, '아침': 1990, '신분': 1991, '달리다': 1992, '광고': 1993, '씁쓸하다': 1994, '여행': 1995, '부리다': 1996, '도안': 1997, '고양이': 1998, '뜨겁다': 1999, '조사': 2000, '자식': 2001, '개성': 2002, '열연': 2003, '라운드': 2004, '휴대폰': 2005, '맺다': 2006, '연성': 2007, '끝내주다': 2008, '얼마': 2009, '환상': 2010, '미루다': 2011, '그다지': 2012, '지식': 2013, '전세계': 2014, '풀리다': 2015, '대사도': 2016, '이도': 2017, '소름끼치다': 2018, '혐오': 2019, '화중': 2020, '화나다': 2021, '점줌': 2022, '짝': 2023, '구나': 2024, '익숙하다': 2025, '기르다': 2026, '특징': 2027, '무장': 2028, '대의': 2029, '전작': 2030, '감당': 2031, '첫사랑': 2032, '저리': 2033, '충실하다': 2034, '영웅': 2035, '조진웅': 2036, '극장판': 2037, '색다르다': 2038, '타고': 2039, '하니': 2040, '참으로': 2041, '어떠하다': 2042, '편의': 2043, '시청': 2044, '스파이': 2045, '프라이머리': 2046, '대가': 2047, '도저히': 2048, '찾기': 2049, '붙다': 2050, '화끈하다': 2051, '그동안': 2052, '출신': 2053, '두려움': 2054, '마스터피스': 2055, '필': 2056, '깊이': 2057, '시민': 2058, '람보': 2059, '너무나도': 2060, '돌다': 2061, '자본주의': 2062, '친절하다': 2063, '최강': 2064, '대가리': 2065, '온갖': 2066, '메다': 2067, '모이다': 2068, '곧': 2069, '오버': 2070, '부여': 2071, '하이': 2072, '독립영화': 2073, '겁': 2074, '공유': 2075, '챙기다': 2076, '안함': 2077, '회사': 2078, '외모': 2079, '간지': 2080, '대결': 2081, '가정': 2082, '체험': 2083, '반응': 2084, '짜이다': 2085, '이입': 2086, '섞다': 2087, '옮기다': 2088, '반대': 2089, '아카데미': 2090, '확장': 2091, '리지': 2092, '널': 2093, '인걸': 2094, '흑인': 2095, '요약': 2096, '찾아내다': 2097, '한수': 2098, '뮤지컬': 2099, '아이언맨': 2100, '지원': 2101, '천': 2102, '거부': 2103, '극복': 2104, '인지도': 2105, '어휴': 2106, '좌빨': 2107, '쫄리': 2108, '불과하다': 2109, '학교': 2110, '공효진': 2111, '무언가': 2112, '권력': 2113, '여러가지': 2114, '흑백': 2115, '거대': 2116, '소녀시대': 2117, '언급': 2118, '모자라다': 2119, '마': 2120, '유튜브': 2121, '퀄': 2122, '고작': 2123, '뜬금없이': 2124, '부족함': 2125, '바이러스': 2126, '대하': 2127, '통': 2128, '레이': 2129, '어린시절': 2130, '꺼내다': 2131, '빵빵': 2132, '와이프': 2133, '단지': 2134, '웬만하다': 2135, '과는': 2136, '비현실적': 2137, '인게': 2138, '놀다': 2139, '갑': 2140, '드네': 2141, '과학': 2142, '낮추다': 2143, '노무현': 2144, '장점': 2145, '묻히다': 2146, '허세': 2147, '단편영화': 2148, '스타': 2149, '조잡하다': 2150, '차별': 2151, '비용': 2152, '아웃': 2153, '애가': 2154, '바르다': 2155, '인정받다': 2156, '진정': 2157, '왠지': 2158, '빌런': 2159, '추격자': 2160, '갇히다': 2161, '서울': 2162, '폭망': 2163, '주말': 2164, '스럽지': 2165, '저지르다': 2166, '생명': 2167, '푹': 2168, '위험하다': 2169, '금': 2170, '강렬하다': 2171, '여배우': 2172, '상관없다': 2173, '상이': 2174, '우린': 2175, '나누다': 2176, '권': 2177, '죄책감': 2178, '린다': 2179, '황정민': 2180, '지리': 2181, '된거': 2182, '다섯': 2183, '실사': 2184, '심심하다': 2185, '늦추다': 2186, '루프': 2187, '만도': 2188, '혼나다': 2189, '최': 2190, '어둠': 2191, 'ㅇ': 2192, '책임': 2193, '한국인': 2194, '몇몇': 2195, '멍': 2196, '잔인함': 2197, '값': 2198, '꿈꾸다': 2199, '이혼': 2200, '어우러지다': 2201, '최소': 2202, '전하': 2203, '오직': 2204, '상징': 2205, '죄다': 2206, '옷': 2207, '줄이다': 2208, '조선': 2209, '묘': 2210, '뒷': 2211, '성장하다': 2212, '일반': 2213, '모험': 2214, '움직이다': 2215, '선생': 2216, '조성': 2217, '의사': 2218, '시체': 2219, '치가': 2220, '최대': 2221, '아기': 2222, '특이하다': 2223, '쭉': 2224, '회': 2225, '파다': 2226, '맥': 2227, '이여': 2228, '섹시하다': 2229, '호텔': 2230, '범죄자': 2231, '박진': 2232, '꽉': 2233, '과도': 2234, '청소년': 2235, '생애': 2236, 'ㄱ': 2237, '조정': 2238, '게다가': 2239, '하울': 2240, '사람과': 2241, '타짜': 2242, '참혹하다': 2243, '배신': 2244, '웰': 2245, '메이드': 2246, '빚': 2247, '껄': 2248, '편견': 2249, '관객수': 2250, '그간': 2251, '절': 2252, '일반인': 2253, '정의': 2254, '실력': 2255, '외롭다': 2256, '단체': 2257, '고조': 2258, '주기': 2259, '째': 2260, '년생': 2261, '순위': 2262, '졸리다': 2263, '뺏다': 2264, '기승': 2265, '전결': 2266, '공개': 2267, '쓰래': 2268, '보라': 2269, '희망이': 2270, '리즈': 2271, '무척': 2272, '긋다': 2273, '여유': 2274, '미소': 2275, '욕망': 2276, '찌질하다': 2277, '거임': 2278, '지구': 2279, '박살': 2280, '컴퓨터': 2281, '에서만': 2282, '이러하다': 2283, '간의': 2284, '맡기다': 2285, '자살': 2286, '적임': 2287, '고전': 2288, '노예': 2289, '좌파': 2290, '던데': 2291, '환경': 2292, '결코': 2293, '남아': 2294, '호러': 2295, '올라오다': 2296, '론': 2297, '전의': 2298, '홀로': 2299, '후딱': 2300, '바쁘다': 2301, '질문': 2302, '뭐임': 2303, '에서야': 2304, '하라': 2305, '드러내다': 2306, '긴박하다': 2307, '깡패': 2308, '멱살': 2309, '지수': 2310, '밥': 2311, '여정': 2312, '교과서': 2313, '살인마': 2314, '다리': 2315, '간첩': 2316, '지하': 2317, '커서': 2318, '쩌': 2319, '명확하다': 2320, '군데': 2321, '찾아가다': 2322, '차기작': 2323, '도무지': 2324, '넘어서다': 2325, '명예': 2326, '포스': 2327, '낼': 2328, '더불다': 2329, '애매하다': 2330, '습': 2331, '저녁': 2332, '천사': 2333, '운동': 2334, '우와': 2335, '갑툭튀': 2336, '피식': 2337, '한가지': 2338, '돼지': 2339, '젖다': 2340, '알리': 2341, '같잖다': 2342, '똑똑하다': 2343, '께서': 2344, '호아킨': 2345, '피닉스': 2346, '전개도': 2347, '분기점': 2348, '에나': 2349, '와도': 2350, '소화': 2351, '뚝뚝': 2352, '지적': 2353, '가능성': 2354, '박히다': 2355, '몫': 2356, '한순간': 2357, '웹툰': 2358, '심정': 2359, '차리다': 2360, '팀': 2361, '배우진': 2362, '운명': 2363, '내일': 2364, '눕다': 2365, '뼈': 2366, '어쩌': 2367, '언론': 2368, '질감': 2369, '개념': 2370, '아마도': 2371, 'ㅜㅠ': 2372, '크레딧': 2373, '철학': 2374, '높이': 2375, '프랑스': 2376, '쿠키': 2377, '상수': 2378, '발생': 2379, '알리다': 2380, '아무렇다': 2381, '홍보': 2382, '추격씬': 2383, '정직하다': 2384, '오랜만': 2385, '안감': 2386, '세번': 2387, '주제가': 2388, '레옹': 2389, '이념': 2390, '쌓이다': 2391, '대본': 2392, '이니까': 2393, '추악하다': 2394, '이라고는': 2395, '명불허전': 2396, '원인': 2397, '막다': 2398, '린': 2399, '압권': 2400, '머릿속': 2401, '대중': 2402, '끔찍하다': 2403, '너희': 2404, '카지노': 2405, '강동원': 2406, '최후': 2407, '최소한': 2408, '불륜': 2409, '장가': 2410, '하얗다': 2411, '철저하다': 2412, '마음속': 2413, '분장': 2414, '환타지': 2415, '성과': 2416, '행': 2417, '즉': 2418, '열정': 2419, '존잘': 2420, '싹': 2421, '절제': 2422, '내놓다': 2423, '워낙': 2424, '졸리': 2425, '전해지다': 2426, '오래되다': 2427, 'ㅣ': 2428, '버려진': 2429, '봣는데': 2430, '죄송하다': 2431, '받아들이다': 2432, '매끄럽다': 2433, '자세하다': 2434, '경': 2435, '곁': 2436, '앵글': 2437, '안정': 2438, '사태': 2439, '다크': 2440, '지경': 2441, '빌다': 2442, '덥다': 2443, '리오': 2444, '재능': 2445, '손발': 2446, '붉다': 2447, '로봇': 2448, '뇌': 2449, '펼쳐지다': 2450, '일부': 2451, '탕': 2452, '흑': 2453, '민주화': 2454, '고등학교': 2455, '측면': 2456, '떠들다': 2457, '보신': 2458, '포함': 2459, '술함': 2460, '전투': 2461, '세월': 2462, '일찍': 2463, '검색': 2464, '짓거리': 2465, '스릴러물': 2466, '혹은': 2467, '방영': 2468, '속지': 2469, '차원': 2470, '베다': 2471, '유일하다': 2472, '마찬가지': 2473, '명대사': 2474, '따름': 2475, '좌절': 2476, '틴': 2477, '신부': 2478, '고증': 2479, '천국': 2480, '지지': 2481, '잘살다': 2482, '붕괴': 2483, '피우다': 2484, '치히로': 2485, '믿음': 2486, '이래서': 2487, '면도': 2488, '너무도': 2489, '치고는': 2490, '외할머니': 2491, '이기도': 2492, '육아': 2493, '배역': 2494, '햇': 2495, '본능': 2496, '도와주다': 2497, '까지의': 2498, '빌리다': 2499, '거짓말': 2500, '셋': 2501, '캐릭': 2502, '쇼': 2503, '잡': 2504, '집착': 2505, '하여간': 2506, '하아': 2507, '임신': 2508, '소통': 2509, '옛': 2510, '탄생': 2511, '의심': 2512, '트': 2513, '용두사미': 2514, '대륙': 2515, '치유': 2516, '압박': 2517, '타령': 2518, '성룡': 2519, '가뭄': 2520, '단비': 2521, '내면': 2522, '던': 2523, '할렘': 2524, '신랑': 2525, '놀람': 2526, '변화': 2527, '패왕별희': 2528, '본적': 2529, '산만하다': 2530, '경이': 2531, '쌍둥이': 2532, '짜내다': 2533, '꼴': 2534, '필립': 2535, '오열': 2536, '자하': 2537, '한자': 2538, '비주': 2539, '르': 2540, '블랙코미디': 2541, '케': 2542, '삼다': 2543, '물다': 2544, '채다': 2545, '엔딩크레딧': 2546, '묵직하다': 2547, '무릎': 2548, '부재': 2549, '백배': 2550, '방송': 2551, '마스크': 2552, '은행': 2553, '하와이': 2554, '북한': 2555, '박근혜': 2556, '무능하다': 2557, '놀이': 2558, '보고오다': 2559, '추리': 2560, '형식': 2561, '팩트': 2562, '강의': 2563, '망가지다': 2564, '자가': 2565, '약자': 2566, '사상': 2567, '갠': 2568, '차승원': 2569, '가야': 2570, '키스': 2571, '애틋하다': 2572, '담': 2573, '역사상': 2574, '업': 2575, '자라다': 2576, '왜곡': 2577, '자료': 2578, '어케': 2579, '지나': 2580, '악': 2581, '억울하다': 2582, '얼른': 2583, '알아보다': 2584, '할리퀸': 2585, '길거리': 2586, '쓴다': 2587, '미나': 2588, '지브리': 2589, '즐거움': 2590, '중년': 2591, '시원시원하다': 2592, '수록': 2593, '앞뒤': 2594, '킬빌': 2595, '몰아치다': 2596, '헛': 2597, '싸': 2598, '벌리다': 2599, '쓸데없다': 2600, '보정': 2601, '보이지': 2602, '우아하다': 2603, '손익': 2604, '방탄': 2605, '뇌리': 2606, '기자': 2607, '오마주': 2608, '촌스럽다': 2609, '광기': 2610, '부자연스럽다': 2611, '녀석': 2612, '천만다행': 2613, '멜로': 2614, '자랑': 2615, '세바스찬': 2616, '재즈': 2617, '덤': 2618, '들어주다': 2619, '프로': 2620, '반지': 2621, '싸구려': 2622, '기쁨': 2623, '만큼의': 2624, '끊임없다': 2625, '만해': 2626, '날카롭다': 2627, '쉬': 2628, '벌벌': 2629, '진창': 2630, '캐리': 2631, '박찬욱': 2632, '이안': 2633, '전문가': 2634, '계시다': 2635, '심각하다': 2636, '대통령': 2637, '냄새': 2638, '타인': 2639, '울림': 2640, '요새': 2641, '월드': 2642, '중점': 2643, '배틀': 2644, '비디오': 2645, '심오하다': 2646, '트리': 2647, '도르다': 2648, '활약': 2649, '조이다': 2650, '비롯': 2651, '조정석': 2652, '흠잡다': 2653, '또다른': 2654, '반성': 2655, '비급': 2656, '혁명': 2657, '지고': 2658, '지역': 2659, '비행기': 2660, '한지': 2661, '먹히다': 2662, '주지훈': 2663, '논란': 2664, '짜지다': 2665, '성적': 2666, '버전': 2667, '살아오다': 2668, '한몫': 2669, '녹다': 2670, '그나저나': 2671, '오프닝': 2672, '각오': 2673, '아오': 2674, '복싱': 2675, '간결하다': 2676, '마녀': 2677, '풍': 2678, '수십': 2679, '마케팅': 2680, '꽃': 2681, '어차피': 2682, '해소': 2683, '용다': 2684, '뻥': 2685, '망설이다': 2686, '벌어지다': 2687, '채널': 2688, '승부': 2689, '조화': 2690, '불쌍': 2691, '당한': 2692, '연상': 2693, '만남': 2694, '대치': 2695, '별개': 2696, '화의': 2697, '극한': 2698, '구리다': 2699, '나타내다': 2700, '고급': 2701, '줄리': 2702, '외면': 2703, '이별': 2704, '다녀오다': 2705, '비유': 2706, '주가': 2707, '송운화': 2708, '고르다': 2709, '영어': 2710, '솔': 2711, '회상': 2712, '사격': 2713, '늘리다': 2714, '남친': 2715, '테이큰': 2716, '발휘': 2717, '칠': 2718, '표절': 2719, '수사': 2720, '생존': 2721, '아이디어': 2722, '연휴': 2723, '브래드피트': 2724, '타란티노': 2725, '이의': 2726, '활용': 2727, '가게': 2728, '루소': 2729, '스파이더맨': 2730, '훌륭': 2731, '헤어지다': 2732, '직원': 2733, '소스': 2734, '가미': 2735, '야마자키': 2736, '켄토': 2737, '자로': 2738, '감추다': 2739, '조지': 2740, '막장': 2741, '음향효과': 2742, '부턴': 2743, '찡하다': 2744, '철': 2745, '여자친구': 2746, '멀리': 2747, '가까이': 2748, '구경': 2749, '페미니즘': 2750, '종종': 2751, '손예진': 2752, '독재': 2753, '때로는': 2754, '언젠가': 2755, '아역': 2756, '범': 2757, '하하': 2758, '영화사': 2759, '일도': 2760, '휩쓸다': 2761, '내려놓다': 2762, '껏': 2763, '달러': 2764, '웃': 2765, '명품': 2766, '재림': 2767, '기전': 2768, '기획': 2769, '처리': 2770, '난해하다': 2771, '체적': 2772, '벌': 2773, '투': 2774, '무리': 2775, '보임': 2776, '또는': 2777, '감옥': 2778, '올바르다': 2779, '끼우다': 2780, '갈리다': 2781, '화란': 2782, '모성애': 2783, '라이어': 2784, '수의': 2785, '괴롭다': 2786, '결정': 2787, '그만하다': 2788, '헐다': 2789, '핫': 2790, '장소': 2791, '헌': 2792, '성격': 2793, '승리': 2794, '파티': 2795, '이구': 2796, '은유': 2797, '전율': 2798, '구리': 2799, '임용': 2800, '누군지': 2801, '즈': 2802, '추다': 2803, '퓨마': 2804, '집안': 2805, '욕설': 2806, '후유증': 2807, '꺼지다': 2808, '인터뷰': 2809, '졸업': 2810, '위기': 2811, '사투리': 2812, '개그': 2813, '우려': 2814, '임팩트': 2815, 'ㅜㅜㅜ': 2816, '태우다': 2817, '헴스워스': 2818, '이구나': 2819, '비난': 2820, '밝다': 2821, '키드': 2822, '할아버지': 2823, '밖': 2824, '가운데': 2825, '개도': 2826, '포장': 2827, '벌다': 2828, '멍청이': 2829, '찍': 2830, '캡틴': 2831, '클라스': 2832, '보완': 2833, '이따위': 2834, '주위': 2835, '지능': 2836, '이서': 2837, '생동감': 2838, '공포물': 2839, '헷갈리다': 2840, '어필': 2841, '녹이다': 2842, '만듬': 2843, '뭣': 2844, '말아먹다': 2845, '만난': 2846, '컷': 2847, '해피엔딩': 2848, '가수': 2849, '부조리': 2850, '기계': 2851, '송강호': 2852, '우울': 2853, '속이다': 2854, '행운': 2855, '겹': 2856, '괴담': 2857, '나이키': 2858, '박해': 2859, '피하': 2860, '무대': 2861, '긴장도': 2862, '건데': 2863, '졸': 2864, '플러스': 2865, '평론': 2866, '쿡': 2867, '이따': 2868, '써주다': 2869, '다려지다': 2870, '함축': 2871, 'ㅎㅎㅎㅎ': 2872, '매일': 2873, '특성': 2874, '초능력': 2875, '본전': 2876, '기발하다': 2877, '격': 2878, '술래잡기': 2879, '전이': 2880, '오점': 2881, '공허하다': 2882, '나위': 2883, '보상': 2884, '경계': 2885, '간단하다': 2886, '둘째': 2887, '커플': 2888, '어쩌다': 2889, '불필요하다': 2890, '줄기': 2891, '하드캐리': 2892, '발음': 2893, '유사하다': 2894, '단연': 2895, '김지영': 2896, '끈': 2897, '라고는': 2898, '왠': 2899, '덮다': 2900, '천안함': 2901, '대구': 2902, '씌우다': 2903, '가하다': 2904, '게뭐': 2905, '파괴': 2906, '현대': 2907, '주행': 2908, '내주다': 2909, '헛웃음': 2910, '민망하다': 2911, '십': 2912, '화평': 2913, '잔': 2914, '살기': 2915, '분만': 2916, '앙': 2917, '여인': 2918, '화하다': 2919, '쟁이': 2920, '객관': 2921, '앞서': 2922, '구분': 2923, '꾸역꾸역': 2924, '절대로': 2925, '빼놓다': 2926, '선배': 2927, '건물': 2928, '만날': 2929, '아슬아슬하다': 2930, '판매': 2931, '전략': 2932, '고뇌': 2933, '고어': 2934, '니당다': 2935, '도입': 2936, '명연기': 2937, '깨물다': 2938, '쩝': 2939, '이슈': 2940, '미성년': 2941, '후회되다': 2942, '여왕': 2943, '뜯다': 2944, '행보': 2945, '멀쩡하다': 2946, '하디': 2947, '보나': 2948, '미흡하다': 2949, '자격': 2950, '답답': 2951, '수습': 2952, '뽕': 2953, '주장': 2954, 'ㅉ': 2955, '베스트': 2956, '젠장': 2957, '교수': 2958, '색깔': 2959, '캬': 2960, '의아': 2961, '손색': 2962, '지네': 2963, '이신': 2964, '끝내': 2965, '경우': 2966, '만세': 2967, '조던': 2968, '소개': 2969, '급하다': 2970, '로라': 2971, '케빈': 2972, '사연': 2973, '에이미': 2974, '물고기': 2975, '파도': 2976, '에게나': 2977, '나발': 2978, '쿵푸': 2979, '형편': 2980, '충무로': 2981, '의견': 2982, '부터가': 2983, '학살': 2984, '상식': 2985, '펑크': 2986, '엉엉': 2987, '파피': 2988, '투어': 2989, '튀어나오다': 2990, '부다': 2991, '시장': 2992, '각성': 2993, '영국': 2994, '보고서': 2995, '카리스마': 2996, '확신': 2997, '미필': 2998, '일수': 2999, '거지같다': 3000, '노답': 3001, '진짜진짜': 3002, '드림': 3003, '집요하다': 3004, '외로': 3005, '블룸': 3006, '하우스': 3007, '어지럽다': 3008, '마츠코': 3009, '부디': 3010, '애쓰다': 3011, '해오다': 3012, '그닥': 3013, '화이팅': 3014, '왕기': 3015, '예매': 3016, '꼬마': 3017, '거짓': 3018, '한잔': 3019, '한텐': 3020, '데이브': 3021, '바티스타': 3022, '덧': 3023, '쿵후': 3024, '약속': 3025, '옴': 3026, '팝콘': 3027, '고용': 3028, '세우다': 3029, '암시': 3030, '비참하다': 3031, '젊은이': 3032, '송위룡': 3033, '매년': 3034, '동심': 3035, '동정': 3036, '이영애': 3037, '무어': 3038, '끝판': 3039, 'ㅂㅅ': 3040, '튀다': 3041, '숨쉬다': 3042, '삭제': 3043, '화영': 3044, '인척': 3045, '정통': 3046, '날아다니다': 3047, '궁금증': 3048, '그렇지만': 3049, '다크나이트': 3050, '인피니티': 3051, '쫄리면': 3052, '물들다': 3053, '테레사': 3054, '미야자키': 3055, '추적': 3056, '무방': 3057, '늘어나다': 3058, '찬란하다': 3059, '욕구': 3060, '전사': 3061, '건강하다': 3062, '끼치다': 3063, '남발': 3064, '예고': 3065, '추기경': 3066, '배급사': 3067, '자의': 3068, '자녀': 3069, '개미': 3070, '당당하다': 3071, '부하': 3072, '화질': 3073, '에다': 3074, '매번': 3075, '깔리다': 3076, '강아지': 3077, '뒷골목': 3078, '설': 3079, '개망작': 3080, '비공': 3081, '데이터': 3082, '호갱': 3083, '부터는': 3084, '극도': 3085, '악행': 3086, '디카프리오': 3087, '천주교': 3088, '날씨': 3089, '쌍욕': 3090, '집어넣다': 3091, '티나': 3092, '무지': 3093, '마이': 3094, '비트': 3095, '주관': 3096, '중국인': 3097, '맴': 3098, '찢다': 3099, '아디다스': 3100, '물어': 3101, '에바': 3102, '명장': 3103, '사진': 3104, '호평': 3105, '외치다': 3106, '리스': 3107, '파리': 3108, '목적': 3109, '갈망': 3110, '인도영화': 3111, '훈훈하다': 3112, '벽': 3113, '부산': 3114, '쪽팔리다': 3115, '그립다': 3116, '웅장': 3117, '할머니': 3118, '손해': 3119, '질리다': 3120, '나니': 3121, '교육': 3122, '불리다': 3123, '불안': 3124, '참여': 3125, '글쎄': 3126, '논': 3127, '극찬': 3128, '취급': 3129, '독립': 3130, '뿌리': 3131, '털리다': 3132, '거들다': 3133, '싸이코': 3134, '마저도': 3135, '라미란': 3136, '기부': 3137, '성냥': 3138, '영향': 3139, 'ㅎㄷㄷ': 3140, '유치': 3141, '놀란': 3142, '산다': 3143, '이외': 3144, '닥': 3145, '쫄깃쫄깃': 3146, '오가다': 3147, '라인업': 3148, '근본': 3149, '목표': 3150, '벗다': 3151, '흘러나오다': 3152, '고등학생': 3153, '탁월하다': 3154, '인터넷': 3155, '사기': 3156, '장동': 3157, '김씨': 3158, '양산': 3159, '신다': 3160, '세기말': 3161, '에어': 3162, '뒤통수': 3163, '잃어버리다': 3164, '질리': 3165, '하여금': 3166, '겉': 3167, '알맹이': 3168, '조인성': 3169, '가짜': 3170, '뉴스': 3171, '공주': 3172, '배성우': 3173, '집다': 3174, '줄알': 3175, '좆': 3176, '버': 3177, '직전': 3178, '나무': 3179, '빼': 3180, '어물': 3181, '뒤늦다': 3182, '유해진': 3183, '우한': 3184, '차이다': 3185, '안녕': 3186, '말리다': 3187, '한정': 3188, '완': 3189, '배린': 3190, '갱스터': 3191, '대놓고': 3192, '섭외': 3193, '새록새록': 3194, '깨우다': 3195, '전환': 3196, '적어도': 3197, '엄복동': 3198, '어처구니': 3199, '서도': 3200, '째다': 3201, '부정': 3202, '시가지': 3203, '이쯤': 3204, '생일': 3205, '도박': 3206, '계산': 3207, '증명': 3208, '그딴': 3209, '힘내다': 3210, '치면': 3211, '에피소드': 3212, '입히다': 3213, '음식': 3214, '가기': 3215, '짜릿하다': 3216, '번만': 3217, '찰리': 3218, '소식': 3219, '성별': 3220, '안녕하다': 3221, '플롯': 3222, '얽히다': 3223, '먼지': 3224, '병': 3225, '건드리다': 3226, '그야말로': 3227, '싸이코패스': 3228, '푸다': 3229, '긍정': 3230, '바닥': 3231, '정화': 3232, 'ㅅ': 3233, '부업': 3234, '김무열': 3235, '라이': 3236, '미끼': 3237, '실존': 3238, '나아지다': 3239, '여태껏': 3240, '함부로': 3241, '탈': 3242, '신세계': 3243, '때론': 3244, '금융': 3245, '기태': 3246, '실험': 3247, '태양': 3248, '전라도': 3249, '지켜보다': 3250, '운송': 3251, '허구': 3252, '노스': 3253, '스마트폰': 3254, '옥': 3255, '미드': 3256, '금융위기': 3257, '지내다': 3258, '한계': 3259, '다다르다': 3260, '도망자': 3261, '베댓': 3262, '지우다': 3263, '띄다': 3264, '한효주': 3265, '불만': 3266, '디지털': 3267, '보편': 3268, '소송': 3269, '낫': 3270, '경극': 3271, '쌓다': 3272, '염두': 3273, '개구': 3274, '무의미하다': 3275, '커리어': 3276, '어벤저스': 3277, '티키타카': 3278, '어깨': 3279, '개똥': 3280, '몰카': 3281, '아우르다': 3282, '앤': 3283, '샘': 3284, '마크': 3285, '남자배우': 3286, '악하다': 3287, '커다랗다': 3288, '추구': 3289, '향수': 3290, '외계인': 3291, '텐션': 3292, '무적': 3293, '맙시': 3294, '방글라데시': 3295, '역사왜곡': 3296, '자유롭다': 3297, '나약하다': 3298, '음모론': 3299, '프레임': 3300, '물음표': 3301, '이세영': 3302, '거고': 3303, '구원': 3304, '단편': 3305, '언더그라운드': 3306, '본격': 3307, '대답': 3308, '들보': 3309, '려': 3310, '뇌절': 3311, '마이너스': 3312, '독재자': 3313, '천배': 3314, '권총': 3315, '에이': 3316, '그러하다': 3317, '카레': 3318, '스런': 3319, '달리': 3320, '인들': 3321, '둘리': 3322, '전두환': 3323, '업적': 3324, '정치인': 3325, '잡아내다': 3326, '가나': 3327, '애정': 3328, '볼땐': 3329, '프리퀄': 3330, '유명배우': 3331, '경찰차': 3332, '자르다': 3333, '경의': 3334, '위협': 3335, '아아': 3336, '추측': 3337, '끌어당기다': 3338, '겉멋': 3339, '썸': 3340, '진하다': 3341, '주인': 3342, '센스': 3343, '바탕': 3344, '래야': 3345, '개뿔': 3346, '도데': 3347, '감빵': 3348, '변경': 3349, '툼레이더': 3350, '활': 3351, '누리': 3352, '이해도': 3353, '감기': 3354, '런닝타임': 3355, '따라다니다': 3356, '인종': 3357, '마법': 3358, '불량': 3359, '곡성': 3360, '오스카': 3361, '시위': 3362, '종료': 3363, '틀리다': 3364, '덜다': 3365, '구매': 3366, '동기': 3367, '청소': 3368, '오픈': 3369, '사정': 3370, '봉작': 3371, '멤버': 3372, '고자': 3373, '다미': 3374, '봉': 3375, '꽂히다': 3376, '요한슨': 3377, '디자인': 3378, '스펙': 3379, '똥망': 3380, '낯설다': 3381, '뒈지다': 3382, '남지': 3383, '정민': 3384, '멋': 3385, '복': 3386, '잡지': 3387, '테': 3388, '안달': 3389, '제왕': 3390, '양심': 3391, '비싸다': 3392, '밀려오다': 3393, '천천히': 3394, '내려오다': 3395, '들려오다': 3396, '도하': 3397, '게이': 3398, '율': 3399, '영광': 3400, '종일': 3401, '걷다': 3402, '뭡': 3403, '고수': 3404, '가라데': 3405, '수위': 3406, '두근거리다': 3407, '아악': 3408, '치밀다': 3409, '집합': 3410, '몇개': 3411, '일지': 3412, '훌쩍': 3413, '황금': 3414, '딸리다': 3415, '갈릴': 3416, '아동': 3417, '하자': 3418, '그럴듯하다': 3419, '물건': 3420, '하고도': 3421, '거품': 3422, '스워스': 3423, '한두': 3424, '듣기': 3425, '현지': 3426, '유럽': 3427, '꺼': 3428, '렉': 3429, '충성': 3430, '이스트': 3431, '디즈니': 3432, '충족': 3433, '마틴': 3434, '망치': 3435, '만연하다': 3436, '차량': 3437, '편안하다': 3438, '으로서의': 3439, '선량하다': 3440, '베리': 3441, '빽': 3442, '배후': 3443, '수치': 3444, '땅': 3445, '거른다': 3446, '먹음': 3447, '각각': 3448, '곱다': 3449, '매드': 3450, '맥스': 3451, '엔딩씬': 3452, '믄': 3453, '어쨌든': 3454, '지극히': 3455, '사서': 3456, '차지': 3457, '아르': 3458, '무술': 3459, '춤': 3460, 'ㅠㅡㅠ': 3461, '틀어놓다': 3462, '꿀잠': 3463, '집권': 3464, '딥': 3465, '영매': 3466, '상우': 3467, '매다': 3468, '뒤지다': 3469, '간지나다': 3470, '다니엘': 3471, '한없이': 3472, '거대하다': 3473, '소수': 3474, '다듬다': 3475, '쟤': 3476, '취소': 3477, '에너지': 3478, '도나': 3479, 'ㅂ': 3480, '공존': 3481, '쫄아': 3482, '안도': 3483, '은근': 3484, '랑은': 3485, 'ㅆㄹㄱ': 3486, '윌': 3487, '모름': 3488, '경지': 3489, '결': 3490, '빙의': 3491, '분석': 3492, '글구': 3493, '상큼': 3494, '요전': 3495, '세트': 3496, '낚시': 3497, '영화매니아': 3498, '위치': 3499, '여기저기': 3500, '침몰': 3501, '이익': 3502, '관리': 3503, '사토': 3504, '코난': 3505, '외국인': 3506, '필수': 3507, '껌': 3508, '김수환': 3509, '재개': 3510, '봉하': 3511, '김구': 3512, '폐허': 3513, '초등학생': 3514, '손가락': 3515, '슨': 3516, '계약': 3517, '기묘하다': 3518, '시골': 3519, '시험': 3520, '최대한': 3521, '항': 3522, '한석규': 3523, '하나요': 3524, '싱크로': 3525, '차례': 3526, '걸치다': 3527, '사이다': 3528, '성함': 3529, '초등학교': 3530, '임무': 3531, '구로': 3532, '반도': 3533, '범죄영화': 3534, '아찔하다': 3535, '앵거스': 3536, '떠올리다': 3537, '랩': 3538, '태도': 3539, '어린이': 3540, '남겨지다': 3541, '어떡하다': 3542, '정신차리다': 3543, '가도': 3544, '실상': 3545, '보람': 3546, '깜놀': 3547, '꼽': 3548, '앤드류': 3549, '하루하루': 3550, '우리네': 3551, '인연': 3552, '직하다': 3553, '번역': 3554, '수백': 3555, '처벌': 3556, '망각': 3557, '불법': 3558, '친': 3559, '천식': 3560, '포상': 3561, '털때': 3562, '출발': 3563, '낭만': 3564, '변기': 3565, '어딨다': 3566, '가량': 3567, '진지': 3568, '꽁': 3569, '외우다': 3570, '사극': 3571, '무려': 3572, '무자비하다': 3573, '부들': 3574, 'ㅅㄲ': 3575, '예약': 3576, '작전': 3577, '담담하다': 3578, '지독하다': 3579, '부대': 3580, '가시': 3581, '아이고': 3582, '메인': 3583, '쪼': 3584, '에이리언': 3585, '볼걸': 3586, '멘스': 3587, '하고만': 3588, 'ㅈㄹ': 3589, '아누': 3590, '되살리다': 3591, '가라': 3592, '전락': 3593, '브랜드': 3594, '문성우': 3595, '혹': 3596, '이든': 3597, '씻다': 3598, '인식': 3599, '논리': 3600, '대학': 3601, '노소': 3602, '눈가': 3603, '몸부림': 3604, '첨부': 3605, '여당': 3606, '땜시': 3607, '든지': 3608, '짐승': 3609, '혐': 3610, '도중': 3611, 'ㅐ': 3612, '텐데': 3613, '눈감다': 3614, '아무나': 3615, '안톤': 3616, '과소': 3617, '언니': 3618, '연령': 3619, '그로': 3620, '울컥': 3621, '언브레이커블': 3622, '의상': 3623, '효과음': 3624, '역활': 3625, '라지': 3626, '익다': 3627, '아날로그': 3628, '그땐': 3629, '굴복': 3630, '외로움': 3631, '재미나': 3632, '김태희': 3633, '바가지': 3634, '엠마': 3635, '하쿠': 3636, '발상': 3637, '픽션': 3638, '절로': 3639, '할배': 3640, '소비': 3641, '매니아': 3642, '최상': 3643, '나뉘다': 3644, '콧물': 3645, '개쩜': 3646, '구입': 3647, '접함': 3648, '돌': 3649, '알차다': 3650, '깨달음': 3651, '재현': 3652, '꼬리': 3653, '극치': 3654, '조차도': 3655, '모드': 3656, '근거': 3657, '해안가': 3658, '케이스': 3659, '폐렴': 3660, '구심': 3661, '당장': 3662, '적극': 3663, '미스': 3664, '쫄깃하': 3665, 'ㅂㅈ': 3666, '자도': 3667, '옳다': 3668, '장악': 3669, '국군': 3670, '결실': 3671, '설경구': 3672, '건달': 3673, '일인': 3674, '절하': 3675, '정유미': 3676, '거래': 3677, '국적': 3678, '트렌디': 3679, '제자': 3680, '로맨스영화': 3681, '로다주': 3682, '이나마': 3683, '구르다': 3684, '속상하다': 3685, '개월': 3686, '시청자': 3687, '땡기다': 3688, '정이': 3689, '안젤리나': 3690, '처참하다': 3691, '킬': 3692, '황당': 3693, '내지': 3694, '고해': 3695, '요구': 3696, '과격하다': 3697, '민족': 3698, '절정': 3699, '무모하다': 3700, '에서나': 3701, '갚다': 3702, '잘나가다': 3703, '풀이': 3704, '애절하다': 3705, '저희': 3706, '듭니': 3707, '타임머신': 3708, '연발': 3709, '독일': 3710, '극단': 3711, '대책': 3712, '나잇': 3713, '컬러': 3714, '헬': 3715, '쟈': 3716, '가슴속': 3717, '초월': 3718, '권상우': 3719, '여름': 3720, '서양': 3721, '시간여행': 3722, '레이첼': 3723, '윅': 3724, '앞날': 3725, '불로': 3726, '클래식': 3727, '덩어리': 3728, '석': 3729, '나소': 3730, '기괴하다': 3731, '갱': 3732, '거장': 3733, '본성': 3734, '잘봣습니': 3735, '가상': 3736, '성찰': 3737, '주문': 3738, '옹': 3739, '라이언': 3740, '잠수함': 3741, '길이': 3742, '대조': 3743, '궁합': 3744, '뵈다': 3745, '고요': 3746, '패': 3747, '다점': 3748, '접근': 3749, '생기': 3750, '부작': 3751, '연예인': 3752, '울음': 3753, '뼈대': 3754, '눈부시다': 3755, '이보': 3756, '적도': 3757, '다큐멘터리': 3758, '강조': 3759, '부끄러움': 3760, '존중': 3761, '슴': 3762, '가격': 3763, '자신감': 3764, '장군': 3765, '열다': 3766, '필름': 3767, '재회': 3768, '드레스': 3769, '무고': 3770, '변태': 3771, '찢어지다': 3772, '김남길': 3773, '결심': 3774, '흐리다': 3775, '휴지': 3776, '코너': 3777, '프롤로그': 3778, '격감': 3779, '출연자': 3780, '인간미': 3781, '분야': 3782, '남자친구': 3783, '꼬이다': 3784, '훨': 3785, '서툴다': 3786, '상관': 3787, '시인': 3788, '자아': 3789, '달라지다': 3790, '쩔': 3791, '반감': 3792, '천우희': 3793, '집단': 3794, '뉴': 3795, '통한': 3796, '미군': 3797, '주신': 3798, '버금': 3799, '쫄': 3800, '크리스찬': 3801, '프레': 3802, '고개': 3803, '내적': 3804, '토끼': 3805, '알프레드': 3806, '안남': 3807, '만원': 3808, '맥주': 3809, '까먹다': 3810, '스가': 3811, '담백하다': 3812, '상투': 3813, '페이트': 3814, '전문': 3815, '격투': 3816, '발연기': 3817, '끝장': 3818, '다라': 3819, '과언': 3820, '깔깔': 3821, '벌이다': 3822, '고리': 3823, '배드': 3824, '어플': 3825, '앵': 3826, '류작': 3827, '땡큐': 3828, '개막': 3829, '어그': 3830, '뒷모습': 3831, '핵심': 3832, '하나님': 3833, '우범곤': 3834, '문신': 3835, '고어영화': 3836, '어긋나다': 3837, '퍼': 3838, '정돈': 3839, '주옥': 3840, '평보': 3841, '속도': 3842, '진가': 3843, '중독': 3844, '잼남': 3845, '닭': 3846, '파이널': 3847, '내러티브': 3848, '화일': 3849, '억원': 3850, '지게': 3851, '체크': 3852, '루': 3853, 'ㅜㅜㅠ': 3854, '넌': 3855, '도로': 3856, '다나': 3857, '해피': 3858, '어르다': 3859, '시너지': 3860, '푸른': 3861, '베드': 3862, '망상': 3863, '롤': 3864, '시킴': 3865, '틀니': 3866, '종북': 3867, '달려가다': 3868, '끊어지다': 3869, '유추': 3870, '요인': 3871, '천하': 3872, '해지': 3873, '저예산영화': 3874, '주변인': 3875, '말임': 3876, '훈장': 3877, '세력': 3878, '밝혀내다': 3879, '은폐': 3880, '진영': 3881, '그릇되다': 3882, '다다': 3883, '문제점': 3884, '김래원': 3885, '명언': 3886, '인내': 3887, '강약': 3888, '앞서다': 3889, '생사': 3890, '쓸쓸하다': 3891, '프라임': 3892, '쫓아가다': 3893, '수년': 3894, '똥폼': 3895, '남한': 3896, '장난스럽다': 3897, '출중하다': 3898, '이를': 3899, '만드': 3900, '처단': 3901, '블록버스터': 3902, '백두산': 3903, '근접': 3904, '졸이다': 3905, '표면': 3906, '유저': 3907, '열중': 3908, '생산': 3909, '작업': 3910, '악한': 3911, '대규모': 3912, '비쥬': 3913, '혼신': 3914, '키스신': 3915, '더럽히다': 3916, '바이': 3917, '민': 3918, '주시': 3919, '지속': 3920, '고가': 3921, '잡탕': 3922, '저걸': 3923, '누나': 3924, '한동안': 3925, '킹스': 3926, '경쾌하다': 3927, '에다가': 3928, '탄탄': 3929, '국어': 3930, '아리': 3931, '불사조': 3932, '여유롭다': 3933, '진주만': 3934, '폭격': 3935, '훗날': 3936, '잔혹하다': 3937, '미국인': 3938, '평화': 3939, '쿠엔틴': 3940, '연장': 3941, '월일': 3942, '질주': 3943, '조성하': 3944, '덜하다': 3945, '클럽': 3946, '아이큐': 3947, '겨울왕국': 3948, '갈라지다': 3949, '넹': 3950, '박중훈': 3951, '운동권': 3952, '글자': 3953, '더니': 3954, '수상하다': 3955, '우수': 3956, '토나오다': 3957, '강제': 3958, '사형': 3959, '며칠': 3960, '대여': 3961, '춤추다': 3962, '열광하다': 3963, '토마스': 3964, '택': 3965, '반면': 3966, '문득': 3967, '연민': 3968, '가소롭다': 3969, '화판': 3970, '대고': 3971, '예외': 3972, '스칼렛': 3973, '연극': 3974, '서른': 3975, '살이': 3976, '나혼자산다': 3977, '종이': 3978, '적군': 3979, '재난영화': 3980, '케이팝': 3981, '오디션': 3982, '어색': 3983, '웨이': 3984, '찡': 3985, '한일': 3986, '고백': 3987, '리기': 3988, '천장': 3989, '조금씩': 3990, '서서': 3991, '돌아다니다': 3992, '우울증': 3993, '구려': 3994, '매트릭스': 3995, '어쨋': 3996, '로지': 3997, '극혐': 3998, '두근': 3999, '시스템': 4000, '인종차별': 4001, '무미건조하다': 4002, '심해': 4003, '하고는': 4004, '역다': 4005, '스며들다': 4006, '당일': 4007, '직': 4008, '받치다': 4009, '조장': 4010, '아역배우': 4011, '추모': 4012, '방향': 4013, '조끼': 4014, '저만': 4015, '씽': 4016, '배려': 4017, '관계성': 4018, '졸귀': 4019, '콘서트': 4020, '이던': 4021, '멕시코': 4022, '동남아': 4023, '인방': 4024, '년뒤': 4025, '쩌는데': 4026, '성숙하다': 4027, '모티브': 4028, '햐': 4029, '상실': 4030, '가족영화': 4031, '공통': 4032, '두근두근': 4033, '귀가': 4034, '타이타닉': 4035, '레오': 4036, '일본인': 4037, '해드리다': 4038, '다수': 4039, '도구로': 4040, '필자': 4041, '작자': 4042, '이라곤': 4043, '싫어지다': 4044, '밋밋하다': 4045, '재밋는': 4046, '주기도': 4047, '창작': 4048, '하든': 4049, '평상시': 4050, '어떻든': 4051, '전범': 4052, '쏠쏠하다': 4053, '임시완': 4054, '점차': 4055, '한쪽': 4056, '엄정화': 4057, '쫀쫀': 4058, '반일': 4059, '타이밍': 4060, '기반': 4061, '최애': 4062, '파치노': 4063, '투자자': 4064, '뵙다': 4065, '의향': 4066, '야마': 4067, '입덕': 4068, '아차': 4069, '아따': 4070, '크루즈': 4071, '그러면': 4072, '안고': 4073, '부실': 4074, '가사': 4075, '깨우치다': 4076, '급소': 4077, '심연': 4078, '이형': 4079, '실전': 4080, '건강': 4081, '미약': 4082, '이뤄지다': 4083, '성향': 4084, '거구': 4085, '압': 4086, '예수님': 4087, '어중간하다': 4088, '사랑받다': 4089, '소지': 4090, '제라드': 4091, '린지': 4092, '네플릭스': 4093, '전적': 4094, '주작': 4095, '능력자': 4096, '마주치다': 4097, '스님': 4098, '이모': 4099, '모가지': 4100, '아줌마': 4101, '황당하다': 4102, '더욱더': 4103, '블': 4104, '출근': 4105, '영업': 4106, '을해': 4107, '무수': 4108, '올드보이': 4109, '기타': 4110, '자동': 4111, '보안': 4112, '해리포터': 4113, '예언': 4114, '코드': 4115, '중이': 4116, '오타쿠': 4117, '터키': 4118, '다기': 4119, '깍': 4120, '여지': 4121, '과잉': 4122, '강요': 4123, '도면': 4124, '진술': 4125, '유투브': 4126, '후손': 4127, '부담': 4128, '한복': 4129, '뭥미': 4130, '아시아': 4131, '특수': 4132, '스미스': 4133, '갈래': 4134, '플레이': 4135, '세종': 4136, '실': 4137, '서정': 4138, '종교인': 4139, '미셸': 4140, '일요일': 4141, '헤': 4142, '옆집': 4143, '운영': 4144, '재판': 4145, '선물': 4146, '좌': 4147, '썩다': 4148, '교사': 4149, '고난': 4150, '고연': 4151, '찾아다니다': 4152, '오른': 4153, '맞이': 4154, '만화영화': 4155, '연평해전': 4156, '데려오다': 4157, '실체': 4158, '맘대로': 4159, '비록': 4160, '민폐': 4161, '렉스': 4162, '꼬맹이': 4163, '잘나다': 4164, '커녕': 4165, '거르': 4166, '재밋는데': 4167, '금방': 4168, '끓다': 4169, '조준': 4170, '마을': 4171, '연습': 4172, '기간': 4173, '펭귄': 4174, '어메이징': 4175, '복합': 4176, '미묘하다': 4177, '치밀하다': 4178, '수출': 4179, '족구': 4180, '선거': 4181, '국제': 4182, '치부': 4183, '톰과제리': 4184, '죽지': 4185, '경악': 4186, '햇습니': 4187, '무참': 4188, '햇음': 4189, '은밀': 4190, '사과': 4191, '거여': 4192, '태극기': 4193, '전국': 4194, '참담하다': 4195, '교감': 4196, '그리움': 4197, '기기': 4198, '류승범': 4199, '대혁명': 4200, '사투': 4201, '엘리': 4202, '멘트': 4203, '욬': 4204, '애비': 4205, '가을': 4206, '기울이다': 4207, '장사': 4208, '바라지': 4209, '반개': 4210, '순하다': 4211, '감흥': 4212, '가히': 4213, '계기': 4214, '홀랜드': 4215, '남다르다': 4216, '라기': 4217, '거주': 4218, '수장': 4219, '뉴욕': 4220, '선명하다': 4221, '폴': 4222, '앤더슨': 4223, '으로라도': 4224, '쌍': 4225, '없애다': 4226, '룩': 4227, '때깔': 4228, '부의': 4229, '검사': 4230, '오줌': 4231, '시궁창': 4232, '반항': 4233, '하늘나라': 4234, '안치': 4235, '일루미나티': 4236, '이겠다': 4237, '엮어': 4238, '적나라하다': 4239, '작동': 4240, '어느덧다': 4241, '마이클': 4242, '베이': 4243, '찰지다': 4244, '신인': 4245, '대학생': 4246, '기원': 4247, '천년': 4248, '프로메테우스': 4249, '실컷': 4250, '쪼이다': 4251, '빗대다': 4252, '어쩜': 4253, '하나같이': 4254, '휘두르다': 4255, '복제': 4256, '나은': 4257, '인권': 4258, '막상': 4259, '기업': 4260, '엇갈리다': 4261, '옹호': 4262, '일상생활': 4263, '택시': 4264, '민주당': 4265, '드립': 4266, '진중하다': 4267, '층': 4268, '대비': 4269, '연하다': 4270, '일어서다': 4271, '명복': 4272, '남아돌다': 4273, '크리스틴': 4274, '사오다': 4275, '우주선': 4276, '화답': 4277, '명도': 4278, '귀찮다': 4279, '이득': 4280, '고유': 4281, '도둑': 4282, '무게': 4283, '시원': 4284, '개방': 4285, '보증': 4286, '교회': 4287, '기쁘다': 4288, '스피커': 4289, '지푸라기': 4290, '넘사벽': 4291, '윗': 4292, '다분하다': 4293, '제작사': 4294, '지긋지긋하다': 4295, '포르노': 4296, '빵터지다': 4297, '작살': 4298, '쎄다': 4299, '으로가': 4300, '사자': 4301, '쉽다': 4302, '가성': 4303, '천지': 4304, '새다': 4305, '년후': 4306, '영화감독': 4307, '사가다': 4308, '색채': 4309, '뭘말': 4310, '비비다': 4311, '발버둥치다': 4312, '아주아주': 4313, '맨인블랙': 4314, '조화롭다': 4315, '나오니': 4316, '울부짖다': 4317, '납치': 4318, '참사': 4319, '화합': 4320, '사이코': 4321, '달콤하다': 4322, '샷': 4323, '핀처': 4324, '셈': 4325, '길들이다': 4326, '무작정': 4327, '플': 4328, '성당': 4329, '연주': 4330, '어떻': 4331, '미남': 4332, '자전거': 4333, '비리': 4334, '움직': 4335, '퇴보': 4336, '뚫다': 4337, '유행': 4338, '품다': 4339, '파헤치다': 4340, '조종': 4341, '고서': 4342, '짤': 4343, '케이': 4344, '램': 4345, '부치다': 4346, '주고받다': 4347, '온몸': 4348, '깨부수다': 4349, '의외': 4350, 'ㅔ': 4351, '리얼리티': 4352, '파워': 4353, '한창': 4354, '현상': 4355, '친숙하다': 4356, '깜빵': 4357, '뚫리다': 4358, '윤': 4359, '예수': 4360, '진보': 4361, '가르다': 4362, '샤말란': 4363, '버튼': 4364, '퇴마': 4365, '러브스토리': 4366, '엄폐': 4367, '까지가': 4368, '좌우': 4369, '폭탄': 4370, '콤비': 4371, '황': 4372, '안쓰럽다': 4373, '잠듬': 4374, 'ㅗ': 4375, '보태': 4376, '조온나': 4377, '먹이': 4378, '파트': 4379, '비평': 4380, '배달': 4381, '본드': 4382, '작용': 4383, '개별': 4384, '공식': 4385, '노리': 4386, '본분': 4387, '조절': 4388, '가르치다': 4389, '댓': 4390, 'ㅇㅈ': 4391, '아놀드': 4392, '쫄깃함': 4393, '사전': 4394, '낚였다': 4395, '사이트': 4396, '뭉치다': 4397, '스필버그': 4398, '마스터': 4399, '하필': 4400, '야구': 4401, '라디오': 4402, '최애영': 4403, '고치': 4404, '어딘가': 4405, '요점': 4406, '오돌오돌': 4407, '기사': 4408, '부드럽다': 4409, '생체': 4410, '헌터': 4411, '한시': 4412, '쿵쾅': 4413, '영구': 4414, '림': 4415, '스트리머': 4416, '혜원': 4417, '툭툭': 4418, '마치다': 4419, '살림': 4420, '기훈': 4421, '사장': 4422, '농락': 4423, '양념': 4424, '톰크루즈': 4425, '케비어': 4426, '동의': 4427, '인간성': 4428, '단계': 4429, '중학교': 4430, '전역': 4431, '썻': 4432, '질투': 4433, '커지다': 4434, '섬뜩하다': 4435, '마사미': 4436, '고대': 4437, '꽝': 4438, '뽕짝': 4439, '닥치고': 4440, 'ㅗㅗ': 4441, '드랙스': 4442, '무지하다': 4443, '탱크': 4444, '정신과': 4445, '저기': 4446, '한가운데': 4447, '중구': 4448, '난방': 4449, '리즈시절': 4450, '구호': 4451, '숲': 4452, '먹이다': 4453, '소지섭': 4454, '빈틈': 4455, '녀': 4456, '청불': 4457, '래서': 4458, '대표': 4459, '대칭': 4460, '대출': 4461, '나머진': 4462, '분안': 4463, '지루': 4464, '턴': 4465, '불릿': 4466, '띄우다': 4467, '마구': 4468, '패러다임': 4469, '드디어': 4470, '널리': 4471, '나열': 4472, '사명': 4473, '주어지다': 4474, '치자': 4475, '원빈': 4476, '피트': 4477, '소장': 4478, '통일': 4479, '그토록': 4480, '뚜렷하다': 4481, '대대': 4482, '낚': 4483, '힘겹다': 4484, '흑역사': 4485, '꿀': 4486, '행방불명': 4487, '수없이': 4488, '어디가': 4489, '캐비어': 4490, '특출나다': 4491, '동료': 4492, '부인': 4493, '최곤데': 4494, '고귀하다': 4495, '시댁': 4496, '배틀로얄': 4497, '수행': 4498, '영화개봉': 4499, '흥': 4500, '포식자': 4501, '히피': 4502, '참전': 4503, '지대': 4504, '암담하다': 4505, '치열하다': 4506, '클루니': 4507, '포커스': 4508, '폐': 4509, '푼': 4510, '짱개': 4511, '다임': 4512, '꺼리다': 4513, '훈': 4514, '성폭행': 4515, '초인': 4516, '걸레': 4517, '대범하다': 4518, '세심': 4519, '타일러': 4520, '풍기다': 4521, '선의': 4522, '피아노': 4523, '피곤하다': 4524, '러시아': 4525, '현우': 4526, '구마': 4527, '잘리다': 4528, '광팬': 4529, '투영': 4530, '구현': 4531, '반려동물': 4532, '병사': 4533, '수입': 4534, '김성철': 4535, '어려움': 4536, '특수부대': 4537, '트럼프': 4538, '작위': 4539, '당황': 4540, '세명': 4541, '오늘날': 4542, '앗다': 4543, '초집': 4544, '타치': 4545, '특전': 4546, '지방': 4547, '김민희': 4548, '일진': 4549, '양쪽': 4550, '대립': 4551, '샷건': 4552, '조국': 4553, '완결': 4554, '이십': 4555, '발단': 4556, '쫀득': 4557, '대세': 4558, '관대하다': 4559, '유인': 4560, '순식간': 4561, '물리다': 4562, '맛보다': 4563, '으로부터': 4564, '점임': 4565, '신념': 4566, '일방': 4567, '닦다': 4568, '팔뚝': 4569, '배트맨': 4570, '멘탈': 4571, '귀요미': 4572, '고향': 4573, '베트남': 4574, '겸손하다': 4575, '영춘권': 4576, '분간': 4577, '익숙해지다': 4578, '애인': 4579, '일만': 4580, '정무문': 4581, '박지영': 4582, '네티즌': 4583, '살펴보다': 4584, '보장': 4585, '안기다': 4586, '윤희': 4587, '나마': 4588, '발바닥': 4589, '이런저런': 4590, 'ㅆ': 4591, '고시생': 4592, '고기': 4593, '탐욕': 4594, '노출': 4595, '브렌': 4596, '하고프다': 4597, '차분하다': 4598, '차태현': 4599, '사춘기': 4600, '플래쳐': 4601, '토토': 4602, '제의': 4603, '우상': 4604, '심다': 4605, '도움': 4606, '성의': 4607, '평정': 4608, '얼다': 4609, '이서진': 4610, '애교': 4611, '예정': 4612, '김지수': 4613, '제임스': 4614, '나이트메어': 4615, '페이': 4616, '솟다': 4617, '미이라': 4618, '꼼꼼하다': 4619, '윌스미스': 4620, '신의한수': 4621, '저능': 4622, '초록물고기': 4623, '태': 4624, '염력': 4625, '여태': 4626, '슬기': 4627, '다정': 4628, '국': 4629, '억이': 4630, '비약': 4631, '스텝': 4632, '화만': 4633, '부가': 4634, '그래픽': 4635, '김어준': 4636, '홍상수': 4637, '오묘하다': 4638, '망신': 4639, '절반': 4640, '구축': 4641, '베일': 4642, 'ㄴㄴ': 4643, '우드': 4644, '영혼': 4645, '상의': 4646, '임기': 4647, '트랜스포머': 4648, '중딩': 4649, '구세주': 4650, '찌르다': 4651, '무관': 4652, '외다': 4653, '보물': 4654, '작년': 4655, '다이하드': 4656, '정재': 4657, '이라기': 4658, '요강': 4659, '잉': 4660, '어느새다': 4661, '난후': 4662, '섹스': 4663, '김옥빈': 4664, '동해': 4665, '탁': 4666, '로다': 4667, '영웅본색': 4668, '몽롱': 4669, '수영장': 4670, '일텐데': 4671, '후편': 4672, '티켓': 4673, '슈퍼': 4674, '기초': 4675, '나래': 4676, '들먹이다': 4677, '시종일관': 4678, '빙봉': 4679, '노트북': 4680, '각인': 4681, '어버버': 4682, '유리하다': 4683, '오토바이': 4684, '리언': 4685, '되새기다': 4686, '효': 4687, '직장': 4688, '차갑다': 4689, '아리다': 4690, '전제': 4691, '스물': 4692, '마감': 4693, '되돌아보다': 4694, '비우다': 4695, '대기': 4696, '긁다': 4697, '부탁': 4698, '데뷔': 4699, '맞먹다': 4700, '주네': 4701, '매치': 4702, '최고봉': 4703, '깨달': 4704, '스승': 4705, '대리': 4706, '시동': 4707, '묵묵하다': 4708, '간직': 4709, '침': 4710, '물르다': 4711, '슈퍼맨': 4712, '거듭': 4713, '유치원': 4714, '입맛': 4715, '형태': 4716, '징징대다': 4717, '시르다': 4718, '쳐다보다': 4719, '부탁드리다': 4720, '손나은': 4721, '이세': 4722, '이종수': 4723, '미쟝센': 4724, '박효주': 4725, '동막골': 4726, '신앙': 4727, '재난': 4728, '에밀': 4729, '백프로': 4730, '우희': 4731, '불러일으키다': 4732, '이순재': 4733, '의심스럽다': 4734, '충분': 4735, '승희': 4736, '키키': 4737, '그대': 4738, '발성': 4739, '워킹': 4740, '미니': 4741, '섞이다': 4742, '장키': 4743, '헿': 4744, '비아': 4745, '크크': 4746, '널다': 4747, '게속': 4748, '핵폐기물': 4749, '테프론': 4750, '원수': 4751, '오유': 4752, '깨끗이': 4753, '평행': 4754, '마음먹다': 4755, '피로': 4756, '국산': 4757, '신음': 4758, '까메오': 4759, '다야': 4760, '위트': 4761, '호감': 4762, '가식': 4763, '더더': 4764, '사람인': 4765, '따갑다': 4766, '작성': 4767, '작작하다': 4768, '의료기기': 4769, '만수무강': 4770, '빨르다': 4771, '배속': 4772, '멸종': 4773, '시사회': 4774, '손꼽다': 4775, '캐다': 4776, '상반': 4777, '근사하다': 4778, '두둥': 4779, '홍금보': 4780, '냉정하다': 4781, '헤드폰': 4782, '쫄깃해': 4783, '승자': 4784, '패자': 4785, '실속': 4786, '김일성': 4787, '친해지다': 4788, '이어폰': 4789, '피어스': 4790, '손잡다': 4791, '네오': 4792, '불어오다': 4793, '마담': 4794, '정원': 4795, '꺄르르': 4796, '지상': 4797, '이대': 4798, '에로': 4799, '지향': 4800, '볼바': 4801, '아가': 4802, '스케': 4803, '노장': 4804, '건너': 4805, '신천지': 4806, '꿇다': 4807, '상대편': 4808, '댕': 4809, '갈기': 4810, '어슬픈': 4811, '중국어': 4812, '저격': 4813, '스토': 4814, '털이범': 4815, '리도': 4816, '덕지덕지': 4817, '동원': 4818, '컬': 4819, '어지간하다': 4820, '음모': 4821, '지하철': 4822, '소행': 4823, '이명': 4824, '평온하다': 4825, '배경인': 4826, '개밥': 4827, '컨트롤': 4828, '고루': 4829, '간접': 4830, '음주': 4831, '마야문명': 4832, '부패': 4833, '출현': 4834, '나눠지다': 4835, '지배': 4836, '우여곡절': 4837, '방이': 4838, '바랬는데': 4839, '괜': 4840, '델': 4841, '장애인': 4842, '맘껏': 4843, '뮤비': 4844, '안거': 4845, '미스터리': 4846, '어줍다': 4847, '판이': 4848, '가로막다': 4849, '전지현': 4850, '썰렁하다': 4851, '음악가': 4852, '베토벤': 4853, '고흐': 4854, '예술가': 4855, '작곡': 4856, '미우다': 4857, '폭동': 4858, '대남': 4859, '이승': 4860, '원피스': 4861, '강박장애': 4862, '다짐': 4863, '흑우': 4864, '배타': 4865, '저렴하다': 4866, '기저귀': 4867, '차고': 4868, '혼': 4869, '이점': 4870, '이명박': 4871, '지혜': 4872, '주저': 4873, '고통스럽다': 4874, '데드풀': 4875, '짝퉁': 4876, '적응하다': 4877, '완젼': 4878, '한장': 4879, '팔자': 4880, '그라샤': 4881, '고독': 4882, '상품': 4883, '잔인': 4884, '터졌넼': 4885, '딸아이': 4886, '입술': 4887, '주룩': 4888, '겁쟁이': 4889, '요란': 4890, '엔드게임': 4891, '오로지': 4892, '때메': 4893, '히미코': 4894, '근처': 4895, '퍼즐': 4896, '맨손': 4897, '원자폭탄': 4898, '개발': 4899, '헝거게임': 4900, '어우': 4901, '흔': 4902, '펜': 4903, '투표': 4904, '라푼젤': 4905, '일본도': 4906, '중제': 4907, '재밋어': 4908, '소파': 4909, '어유': 4910, '부마': 4911, '계엄': 4912, '날짜': 4913, '햄스워스': 4914, '극악': 4915, '에스': 4916, '저번': 4917, '과제': 4918, '간격': 4919, '어찌나': 4920, '환하다': 4921, '쫄리는맛': 4922, '얼추': 4923, '도리': 4924, '유오성': 4925, '다금바리': 4926, '매운탕': 4927, '가입': 4928, '타입': 4929, '짙다': 4930, '리듬': 4931, '해방': 4932, '으로의': 4933, '윈터': 4934, '솔져': 4935, '온라인': 4936, '풀기': 4937, '서치': 4938, '사악하다': 4939, '여부': 4940, '측': 4941, '게릴라': 4942, '깃': 4943, '밀리터리': 4944, '삼국지': 4945, '허진호': 4946, '마차': 4947, '숨가쁘다': 4948, '우리말': 4949, '강력': 4950, '바인': 4951, '공연': 4952, '회상씬': 4953, '잠기': 4954, '생기지': 4955, '헤븐': 4956, '책상': 4957, '고도': 4958, '아키라': 4959, '평이하다': 4960, '흥얼거리다': 4961, '데미무어': 4962, '김기덕': 4963, '로리': 4964, '물결': 4965, '헤엄': 4966, '맴돌다': 4967, '하리': 4968, '이동': 4969, '에티켓': 4970, '둘이서': 4971, '방가': 4972, '구먼': 4973, '은애': 4974, '깝': 4975, '파고들다': 4976, '사이코패스': 4977, '자존심': 4978, '노숙자': 4979, '혜택': 4980, '일과': 4981, '오달수': 4982, '안일하다': 4983, '아래': 4984, '또잉': 4985, '판권': 4986, '느슨하다': 4987, '돕다': 4988, '사지': 4989, '말장난': 4990, '늘어놓다': 4991, '어수선하다': 4992, '죄수': 4993, '설리': 4994, '거중': 4995, '가담': 4996, '죄값': 4997, '만배': 4998, '광대': 4999, '도구': 5000, '베충': 5001, '불행하다': 5002, '꾸미다': 5003, '불안정하다': 5004, '규격': 5005, '보수': 5006, '롯': 5007, '빠': 5008, '전직': 5009, '그릇': 5010, '열쇠': 5011, '록': 5012, '테크노': 5013, 'ㅎㅅㅎ': 5014, '타이': 5015, '안무': 5016, '특급': 5017, '포드': 5018, '손바닥': 5019, '식히다': 5020, '금수': 5021, '영상통화': 5022, '조마조마하다': 5023, '그물': 5024, '퇴장': 5025, '우스': 5026, '전술': 5027, '안타': 5028, '침대': 5029, '뒹굴': 5030, '신카이': 5031, '마코토': 5032, '인칭': 5033, '중장': 5034, '대장': 5035, '루피': 5036, '진작': 5037, '혀': 5038, '두르다': 5039, '아보': 5040, '빈': 5041, '대지진': 5042, '특공대': 5043, '거야': 5044, 'ㅇㅈㄹ': 5045, '판타스틱': 5046, '첩보': 5047, '후보': 5048, '히트': 5049, '한우': 5050, '점프': 5051, '블레이드': 5052, '욱일기': 5053, '정신병': 5054, '카메론': 5055, '고니': 5056, '불가능하다': 5057, '김강우': 5058, '젠더': 5059, '닼': 5060, '페이크': 5061, '함정': 5062, '펭수': 5063, '불참': 5064, '더록': 5065, '모처럼': 5066, '제이슨': 5067, '한물가다': 5068, '켄': 5069, '이왕': 5070, '만두': 5071, '백억': 5072, 'ㅇㅇㅇ': 5073, '들여다보다': 5074, '반신반의': 5075, '황홀하다': 5076, '공수도': 5077, '정교하다': 5078, '곤지암': 5079, '내심': 5080, '로간': 5081, '즙': 5082, '도아': 5083, '사나이': 5084, '조만간': 5085, '은희': 5086, '파악': 5087, '장기': 5088, '명백하다': 5089, '밴드': 5090, '버틀러': 5091, '알바인': 5092, '사이드': 5093, '비치다': 5094, '노골': 5095, '합의': 5096, '유의': 5097, '진도': 5098, '무렵': 5099, '레이크': 5100, '내려가다': 5101, '뒤로': 5102, '뺨': 5103, '다케시': 5104, '여분': 5105, '도감': 5106, '넘김': 5107, '주목': 5108, '성해': 5109, '계시': 5110, '대공황': 5111, '옴니버스': 5112, '리플리': 5113, '끌어안다': 5114, '안성기': 5115, '아이콘': 5116, '에야': 5117, '클로즈업': 5118, '구시대': 5119, '일어나지': 5120, '참을성': 5121, '돌림': 5122, '맥빠지다': 5123, '장비': 5124, '승화': 5125, '각도': 5126, '수다': 5127, '몽': 5128, '따리': 5129, '웠': 5130, '도합': 5131, '암만': 5132, '원숭이': 5133, '일제강점기': 5134, '패러디': 5135, '시한': 5136, '지니': 5137, '나오미': 5138, '스콧': 5139, '알라딘': 5140, '무빙': 5141, '여윽시': 5142, '감탄사': 5143, '무색': 5144, '뭉클': 5145, '개떡': 5146, '헬조선': 5147, '크러시': 5148, '유': 5149, '뜸금': 5150, '일기장': 5151, '무식하다': 5152, '안개': 5153, '스틸': 5154, '용산': 5155, '롯데': 5156, '어마어마하다': 5157, '이웃': 5158, '종합': 5159, '으으': 5160, 'ㅉㅉㅉ': 5161, '압축': 5162, '작정': 5163, '반지의제왕': 5164, '유년': 5165, '다년': 5166, '어마': 5167, '히치콕': 5168, '더러': 5169, '졸잼': 5170, '활동': 5171, '한과': 5172, '보리': 5173, '조그만': 5174, '보관': 5175, '횟수': 5176, '시네마': 5177, '선천': 5178, '에메랄드': 5179, '자랑스럽다': 5180, '할머님': 5181, '안전': 5182, '흐흐': 5183, '멍하다': 5184, '오랫동안': 5185, '릴': 5186, '구출': 5187, '조각': 5188, '피날레': 5189, '빅픽쳐': 5190, '바라냐': 5191, '생뚱맞': 5192, '오징어': 5193, '조심': 5194, '괴수': 5195, '종류': 5196, '싸가지': 5197, '몰리다': 5198, '언어': 5199, '폼': 5200, '잡음': 5201, '간사': 5202, '시야': 5203, '빠따': 5204, '전등': 5205, '묘미': 5206, '부제': 5207, '신비하다': 5208, '거니': 5209, '실행': 5210, '마력': 5211, '애도': 5212, '리암': 5213, '숟가락': 5214, '압력': 5215, '골든': 5216, '리트리버': 5217, '닥터': 5218, '박보영': 5219, '베그': 5220, '인스타': 5221, '맛집': 5222, '어어': 5223, '고소': 5224, '궈': 5225, '센터': 5226, '한낱': 5227, '중소기업': 5228, '해양사고': 5229, '모로': 5230, '상남자': 5231, '완수': 5232, '심장쫄깃': 5233, '칠하다': 5234, '반의': 5235, '휘날리다': 5236, '이불': 5237, '킥': 5238, '홍콩영화': 5239, '박신양': 5240, '화룡': 5241, '정점': 5242, '장창': 5243, '까맣다': 5244, '세계대전': 5245, '크루소': 5246, '쓰레기통': 5247, '경력': 5248, '전후': 5249, '전성기': 5250, '벌이': 5251, '저지': 5252, '물의': 5253, '적히다': 5254, '심장쫄깃해': 5255, '티셔츠': 5256, '월스트리트': 5257, '일색': 5258, '진수': 5259, '착': 5260, '복고': 5261, '볼라': 5262, '쿠': 5263, '거창하다': 5264, '임금': 5265, '일자리': 5266, '유지태': 5267, '장물': 5268, '퍼포먼스': 5269, '연연하다': 5270, '우연': 5271, '매개': 5272, '로망': 5273, '원제': 5274, '오해': 5275, '구조도': 5276, '망정': 5277, '금지': 5278, '본질': 5279, '주성치': 5280, '디스': 5281, '웬': 5282, '도둑질': 5283, '모자': 5284, '수두': 5285, '붕': 5286, '마리옹': 5287, '꼬띠': 5288, '잘맞다': 5289, '황금기': 5290, '클래스': 5291, '참신': 5292, '공사': 5293, '분발': 5294, '동감': 5295, '드니': 5296, '저혈압': 5297, '기능': 5298, '스토커': 5299, '우뢰': 5300, '볼껄': 5301, '흥겹다': 5302, '강남스타일': 5303, '빔': 5304, '하루빨리': 5305, '퍼지다': 5306, '꼬': 5307, '좌석': 5308, '김전일': 5309, '임마': 5310, '개그맨': 5311, '더러워지다': 5312, '정지': 5313, '엄': 5314, '유승호': 5315, '권선': 5316, '징악': 5317, '여실히': 5318, '군사': 5319, '다행하다': 5320, '전편': 5321, '사귀다': 5322, '백만배': 5323, '넷플리스': 5324, '결과물': 5325, '소규모': 5326, '베이비': 5327, '호들갑': 5328, '첫째': 5329, '자칫': 5330, '간단명료': 5331, '장난없다': 5332, '인력': 5333, '설마설마': 5334, '그까짓': 5335, '마당': 5336, '특색': 5337, '리브': 5338, '떠벌리다': 5339, '명징함': 5340, '런닝': 5341, '성추행': 5342, '잣': 5343, '화폐': 5344, '폭락': 5345, '베네수엘라': 5346, '큐': 5347, '리가': 5348, '홍보팀': 5349, '조승우': 5350, '강도짓': 5351, '서명': 5352, '산업': 5353, '취미': 5354, '미저리': 5355, '잘알다': 5356, '거북하다': 5357, '호랑이': 5358, 'ㄱㄱ': 5359, '다투다': 5360, '외출': 5361, '부장': 5362, '벅차오르다': 5363, '해갈': 5364, '도운': 5365, '용임': 5366, '케바케': 5367, '부들부들': 5368, '정당': 5369, '포화': 5370, '엉뚱하다': 5371, '희한하다': 5372, '골로': 5373, '정면': 5374, '공산당': 5375, '가스': 5376, '굵직하다': 5377, '보이스': 5378, '밸런스': 5379, '김주혁': 5380, '해선': 5381, '스토리텔링': 5382, '쏙': 5383, '유령선': 5384, '명절': 5385, '도루': 5386, '윌리스': 5387, '차차': 5388, '안심': 5389, '관성': 5390, '후퇴': 5391, '오디오': 5392, '막장드라마': 5393, '퉤': 5394, '헐크': 5395, '예의': 5396, '폭풍': 5397, '신자': 5398, '후배': 5399, '정상인': 5400, '알파': 5401, '치노': 5402, '고치다': 5403, '멘붕': 5404, '유전': 5405, '선도': 5406, '오락가락': 5407, '고별': 5408, '로케이션': 5409, '환전': 5410, '분동': 5411, '도록': 5412, '시간대': 5413, '무법천지': 5414, '마돈나': 5415, '구림': 5416, '중력': 5417, '만회': 5418, '엠': 5419, '에프': 5420, '단물': 5421, '헨리': 5422, '정적': 5423, '허용': 5424, '수능': 5425, '환자': 5426, '유효하다': 5427, '행크스': 5428, '우릴': 5429, '비행청소년': 5430, '고함': 5431, '라기보다는': 5432, '아이덴티티': 5433, '내겐': 5434, '합': 5435, '리다': 5436, '가녀리다': 5437, '총구': 5438, '에서조차': 5439, '화류': 5440, '드래곤': 5441, '교전': 5442, '어스': 5443, '데이빗': 5444, '근원': 5445, '명화': 5446, '뜻대로': 5447, '은퇴': 5448, '살인자': 5449, '폐기물': 5450, '난데없이': 5451, '나로': 5452, '제사': 5453, '사운드트랙': 5454, '행위': 5455, '곤': 5456, 'ㄱㅊ': 5457, '사소하다': 5458, '경호원': 5459, '허공': 5460, '패기': 5461, '골': 5462, '수리': 5463, '런': 5464, '댄스': 5465, '막강': 5466, '자동소총': 5467, '숫자': 5468, '세도정치': 5469, '니콜라스': 5470, '제니퍼': 5471, '로그': 5472, '데이지': 5473, '일어나서': 5474, '헤치다': 5475, '어가': 5476, '벅차다': 5477, '부각': 5478, '반작용': 5479, '군상': 5480, '윤감독': 5481, '파라다이스': 5482, '모성': 5483, '낚시터': 5484, '윤수': 5485, '나기': 5486, '라든가': 5487, '라던가': 5488, '브금': 5489, '나락': 5490, '부와': 5491, '발리': 5492, '꼽히다': 5493, '동양인': 5494, '년작': 5495, '버러지': 5496, '합치다': 5497, '안질리다': 5498, '장터': 5499, '세이브': 5500, '불면증': 5501, '신지': 5502, '위안': 5503, '모에': 5504, '이제껏': 5505, '아하': 5506, '쯧': 5507, '이군': 5508, '엄두': 5509, '쇼파': 5510, '컨저링': 5511, '수녀': 5512, '정답': 5513, '호스': 5514, '증': 5515, '요하': 5516, '합성': 5517, '불행': 5518, '사관': 5519, '논픽션': 5520, '검증': 5521, '놀이터': 5522, '오산': 5523, '공조': 5524, '다공': 5525, '회차': 5526, '강석우': 5527, '이미숙': 5528, '즈음': 5529, '차안': 5530, '무니': 5531, '빈약': 5532, '뱀파이어': 5533, '맴도': 5534, '다른사람': 5535, '라나': 5536, '좌충우돌': 5537, '무도': 5538, '세련': 5539, '므': 5540, '떠가다': 5541, '이동휘': 5542, '이라크': 5543, '부시': 5544, '롱샷': 5545, '즘': 5546, '강감': 5547, '중립': 5548, '취하': 5549, '쿠릴렌코': 5550, '그이': 5551, '정해진': 5552, '영국영화': 5553, '리라': 5554, '저급하다': 5555, '사업': 5556, '유년기': 5557, '흔적': 5558, '로고': 5559, '허탈하다': 5560, '간혹': 5561, '상치': 5562, '경쟁': 5563, '훼손': 5564, '넥플릭스': 5565, '덩케르크': 5566, '환': 5567, '학': 5568, '무진장': 5569, '볼일': 5570, '터뜨리다': 5571, '슈': 5572, '왈츠': 5573, '역작': 5574, '패배': 5575, '일베': 5576, '일침': 5577, '독창': 5578, '스티븐': 5579, '박해일': 5580, '개멋': 5581, '몸통': 5582, '스포츠': 5583, '금쪽': 5584, '특': 5585, '꼴통': 5586, '북': 5587, '고래고래': 5588, '바지': 5589, '노고': 5590, '정해': 5591, '김고은': 5592, '민감하다': 5593, '서양인': 5594, '돌뼈': 5595, '음악감독': 5596, '졸업생': 5597, '여도': 5598, '지로': 5599, '에반게리온': 5600, '인조인간': 5601, '금고': 5602, '앞세우다': 5603, '위선': 5604, '쫄면': 5605, '소드': 5606, '개꿀': 5607, '특전사': 5608, '진짝': 5609, '땡': 5610, '칠이': 5611, '실리다': 5612, '업다': 5613, '유한': 5614, '혼잡하다': 5615, '어리숙하다': 5616, '오우': 5617, '톡특': 5618, '사로잡히다': 5619, '고소하다': 5620, '소박하다': 5621, '와이': 5622, '따로따로': 5623, '리턴': 5624, '허허': 5625, '오감': 5626, '급식': 5627, '존댓말': 5628, '개개인': 5629, '덩': 5630, '차기': 5631, '흉내내': 5632, '인위': 5633, '삭막하다': 5634, '막스': 5635, '대학교': 5636, '스쿼드': 5637, '더듬다': 5638, '어보': 5639, '챙': 5640, '연평도': 5641, '우울함': 5642, '진시황': 5643, '만화가': 5644, '하시모토': 5645, '칸나': 5646, '내려다보다': 5647, '잘나오다': 5648, '방탄복': 5649, '만가': 5650, '갈고': 5651, '질병': 5652, '질도': 5653, '마땅하다': 5654, '굴': 5655, '박사': 5656, '물어보다': 5657, '저체온증': 5658, '늑대': 5659, '불교': 5660, '한글': 5661, '기여': 5662, '주체': 5663, '장황하다': 5664, '즐감': 5665, '빗겨': 5666, '자부': 5667, '전화': 5668, '벨': 5669, '신작': 5670, '똥꼬': 5671, '오로라': 5672, '가문': 5673, '아나킨': 5674, '지못미': 5675, '깨어나다': 5676, '항구': 5677, '액기스': 5678, '이태원': 5679, '확정': 5680, '암살자': 5681, '뻑뻑': 5682, '두발': 5683, '쿄쿄': 5684, '쓰기': 5685, '밖에는': 5686, '가만': 5687, '전파': 5688, '미네': 5689, '체감': 5690, '답변': 5691, '사라': 5692, '펼치다': 5693, '이드': 5694, '잭': 5695, '학적': 5696, '죽겠네': 5697, '얼어붙다': 5698, '맥거핀': 5699, '재일': 5700, '타파': 5701, '성실하다': 5702, '이중성': 5703, '만끽': 5704, '한씬': 5705, '마인드': 5706, '뚝': 5707, '간호사': 5708, '비상': 5709, '지엠': 5710, '찍히다': 5711, '골절': 5712, '강원도': 5713, '군생활': 5714, '똥파리': 5715, '성욕': 5716, '하드코어': 5717, '빅': 5718, '제압': 5719, '덫': 5720, '거꾸로': 5721, '죄악': 5722, '초장': 5723, '변질': 5724, '없슴': 5725, '왤다': 5726, '토악질': 5727, '보스': 5728, '필히': 5729, '곽경택': 5730, '촬영감독': 5731, '심장쫄리': 5732, '애물': 5733, '못자다': 5734, '코인': 5735, '파란색': 5736, '로마': 5737, '황제': 5738, '순수': 5739, '험하다': 5740, '미로': 5741, '학년': 5742, '욤': 5743, '평타': 5744, '그러니까': 5745, '백투더퓨처': 5746, '우뢰매': 5747, '퀼': 5748, '아포칼립스': 5749, '괴이': 5750, '랍시고': 5751, '짜깁다': 5752, '따라서': 5753, '브래드': 5754, '악인': 5755, '총격씬': 5756, '간신히': 5757, '서서히': 5758, '면은': 5759, '동영상': 5760, '모시다': 5761, '축산': 5762, '육식': 5763, '회원': 5764, '들이키다': 5765, '사무라이': 5766, '잡아먹다': 5767, '에혀': 5768, '몽글몽글하다': 5769, '주로': 5770, '도피': 5771, '직시': 5772, '바닷가': 5773, '이어도': 5774, '스미다': 5775, '아드레날린': 5776, '딜레마': 5777, '눈요기': 5778, '치킨': 5779, '해치다': 5780, '올려주다': 5781, '맹수': 5782, '설레임': 5783, '아가씨': 5784, '주부': 5785, '알아주다': 5786, '쥰': 5787, '버키': 5788, '넷플오': 5789, '는바': 5790, '유명': 5791, '쓰러지다': 5792, '조건': 5793, '타협': 5794, '먹이사슬': 5795, '왓챠': 5796, '사가': 5797, '화남': 5798, '원본': 5799, '마고': 5800, '로비': 5801, '류승룡': 5802, '재우다': 5803, '선녀': 5804, '뛰어오다': 5805, '지점': 5806, '감방': 5807, '땐뽀': 5808, '보너스': 5809, '아이맥스': 5810, '염': 5811, '치료': 5812, '독보': 5813, '슬럼': 5814, '사치': 5815, '물귀신': 5816, '회색': 5817, '블리자드': 5818, '급감': 5819, '과대': 5820, '제거': 5821, '가출': 5822, '발기다': 5823, '가보': 5824, '컨텐츠': 5825, '쫄렸어': 5826, '영양가': 5827, '상가': 5828, '똘똘': 5829, '팔고': 5830, '합격': 5831, '신봉': 5832, '각종': 5833, '가오': 5834, '즉흥': 5835, '맷': 5836, '데이먼': 5837, '주된': 5838, '허무': 5839, '주민': 5840, '풍부하다': 5841, '부엌': 5842, '와코': 5843, '괴상하다': 5844, '대담하다': 5845, '하찮다': 5846, '오이': 5847, '브루스': 5848, '입사': 5849, '갸우뚱': 5850, '에드': 5851, '사업가': 5852, '본보기': 5853, '소총': 5854, '단발': 5855, '주요': 5856, '명분': 5857, '꼽을수': 5858, '골고루': 5859, '이기만': 5860, '레스토랑': 5861, '식전': 5862, '삘': 5863, '위주': 5864, '헌신': 5865, '봣습니': 5866, '띠': 5867, '상세': 5868, '예비군': 5869, '동이': 5870, '직후': 5871, '노랗다': 5872, '로움': 5873, '보존': 5874, '사르다': 5875, '피디': 5876, '타고나다': 5877, 'ㄴ': 5878, '실사판': 5879, '존버': 5880, '아기자기하다': 5881, '대다수': 5882, '버디': 5883, '엑스트라': 5884, '점왜': 5885, '개지': 5886, '하류': 5887, '상쇄': 5888, '영화제': 5889, '그지같다': 5890, '불가능': 5891, '후려치다': 5892, '광경': 5893, '은우': 5894, '베이스': 5895, '닉': 5896, 'ㅜㅜㅜㅜ': 5897, '싱가포르': 5898, '해설': 5899, '굴리': 5900, '가만히': 5901, '쩔쩔매다': 5902, '장치': 5903, '일대기': 5904, '장하다': 5905, '중화사상': 5906, '사이버펑크': 5907, '둘러대다': 5908, '핀': 5909, '계층': 5910, '침울하다': 5911, '학교폭력': 5912, 'ㅊㅊ': 5913, '돈값': 5914, '번화가': 5915, '싸이버': 5916, '구간': 5917, '십대': 5918, '음가': 5919, '중사': 5920, '사범': 5921, '해병': 5922, '씝': 5923, 'ㅇㅋ': 5924, '이마': 5925, '모욕': 5926, '솔로': 5927, '전무하다': 5928, '히죽': 5929, '헤아리다': 5930, '구지': 5931, '분노하다': 5932, '다카': 5933, '가버리다': 5934, '재밋게봣다': 5935, '마초': 5936, '유료': 5937, '음보': 5938, '쩜': 5939, '강하늘': 5940, '김선아': 5941, '자마자': 5942, '시사': 5943, '잠결': 5944, '숨죽': 5945, '번의': 5946, '창피하다': 5947, '터널': 5948, '애국심': 5949, '최하': 5950, '백성': 5951, '엄지': 5952, '까닭': 5953, '루저': 5954, '잇몸': 5955, '멀티': 5956, '썰다': 5957, '맛깔나다': 5958, '충만': 5959, '명성': 5960, '너머': 5961, '겸': 5962, '부비': 5963, '굿굿굿': 5964, '상과': 5965, '의자': 5966, '시가전': 5967, '넘침': 5968, '나요': 5969, '유토피아': 5970, '셋팅': 5971, '근무': 5972, '울프': 5973, '연구': 5974, '갈증': 5975, '우롱': 5976, '익스트': 5977, '공룡': 5978, '한남': 5979, '조율': 5980, '삭감': 5981, '위험': 5982, '안남다': 5983, '보삼': 5984, '청춘영화': 5985, '유아': 5986, '따라오다': 5987, '크리스마스': 5988, '배두나': 5989, '언론인': 5990, '전장': 5991, '영재': 5992, '허가윤': 5993, '뛰어들다': 5994, '액션연기': 5995, '꾸준하다': 5996, '밀고': 5997, '가세': 5998, '부도': 5999, '참나': 6000, '염정아': 6001, '밍밍': 6002, '아프리카': 6003, '가난': 6004, '허덕이다': 6005, '못지않다': 6006, '버스': 6007, '부류': 6008, '재수없다': 6009, '각기': 6010, '단절': 6011, '로렌스': 6012, '엑스맨': 6013, 'ㄷㄷㄷㅈ': 6014, '능글맞다': 6015, '멎다': 6016, '감싸다': 6017, '시청각': 6018, '살벌하다': 6019, '상병': 6020, '금요일': 6021, '베키': 6022, '윤동주': 6023, 'ㅏ': 6024, '징그럽다': 6025, '입증': 6026, '이구만': 6027, '걔': 6028, '줄어들다': 6029, '수렴': 6030, '쫀득함': 6031, '매기': 6032, '혼영': 6033, '다잡다': 6034, '띵': 6035, '전과': 6036, '진행형': 6037, '시가': 6038, '데이비드': 6039, '눈꼽': 6040, '찌': 6041, '개표': 6042, '폐지': 6043, '특별출연': 6044, '와즈다': 6045, '어서': 6046, '반대편': 6047, '허무맹랑': 6048, '불편': 6049, '쩔어요': 6050, '장안': 6051, '나무라다': 6052, '선호': 6053, '오래오래': 6054, '희노애락': 6055, '끝임': 6056, '재단': 6057, '네덜란드': 6058, '성하': 6059, '파이란': 6060, '둑': 6061, '흰색': 6062, '편협': 6063, '톡톡': 6064, '곰': 6065, '남자라면': 6066, '풍선': 6067, '알라': 6068, '환불': 6069, '알바생': 6070, '퇴근': 6071, '핑크': 6072, '금시': 6073, '보급': 6074, '텔러': 6075, '씨발': 6076, '사냥개': 6077, '자잘하다': 6078, '오온': 6079, '개봉일': 6080, '레오나르도': 6081, '난민': 6082, '편향': 6083, '멜로영화': 6084, '격변': 6085, '공상': 6086, '어쩐지': 6087, '냉소': 6088, '거저': 6089, '것임': 6090, '인사': 6091, '테일러': 6092, '미녀': 6093, '장식': 6094, '매체': 6095, '바다로': 6096, '전도': 6097, '태국': 6098, '클린트': 6099, '진리': 6100, '영역': 6101, '넓어지다': 6102, '하다못해': 6103, '남고': 6104, '삽질': 6105, '개선': 6106, '끝없이': 6107, '계절': 6108, '렌트': 6109, '가디언즈': 6110, '갤럭시': 6111, '망인': 6112, '비포': 6113, '선라이즈': 6114, '선셋': 6115, '미드나잇': 6116, '에디': 6117, '시상식': 6118, '용병': 6119, '가가': 6120, '굴레': 6121, '속박': 6122, '김장': 6123, '순서': 6124, '이역': 6125, '겨땀': 6126, '변신': 6127, '평등': 6128, '쩌구': 6129, '경상도': 6130, '경고': 6131, '축복': 6132, '몽골': 6133, '낯': 6134, '간지럽다': 6135, '데이트': 6136, '한화': 6137, '권장': 6138, '부정부패': 6139, '이광수': 6140, '백미': 6141, '적폐': 6142, '트래블러': 6143, '표방': 6144, '흥분': 6145, '사주다': 6146, '어간': 6147, '파격': 6148, '이대로': 6149, '좀비랜드': 6150, '캔': 6151, '방심하다': 6152, '뒤죽박죽': 6153, '양보': 6154, '울렁거리다': 6155, '찡찡대다': 6156, '댓글달다': 6157, '캡': 6158, '감수': 6159, '바치다': 6160, '소환': 6161, '밀수': 6162, '쌩뚱': 6163, '로안': 6164, '징': 6165, '읭': 6166, '샤를': 6167, '테론': 6168, '자아내다': 6169, '존엄사': 6170, '지침': 6171, '껀': 6172, '토리': 6173, '신선': 6174, '두루': 6175, '카톡': 6176, '찍기': 6177, '반격': 6178, '흥분하다': 6179, '적의': 6180, '훈련': 6181, '정신없이': 6182, '불의': 6183, '엽기': 6184, '괜춘': 6185, '현빈': 6186, '증권': 6187, '타격': 6188, '조미료': 6189, '꼬집다': 6190, '아이러니': 6191, '치네다': 6192, '사단': 6193, '하이라이트': 6194, '심장마비': 6195, '연감': 6196, '흔들리다': 6197, '진의': 6198, '유재': 6199, '갑작스럽다': 6200, '병기': 6201, '뮤': 6202, '위화': 6203, '얕다': 6204, '신아': 6205, '맘충': 6206, '찌푸리다': 6207, '가의': 6208, '박하': 6209, '정도껏해': 6210, '백수': 6211, '빙자': 6212, '후후': 6213, '대처': 6214, '팡': 6215, '자빠지다': 6216, '추강': 6217, '근현대사': 6218, '이예': 6219, '노랑': 6220, '원색': 6221, '뱅': 6222, '일케': 6223, '굴종': 6224, '외교': 6225, '인간관계': 6226, '가해자': 6227, '우화': 6228, '안주': 6229, '주먹': 6230, '촌극': 6231, '아미': 6232, '케이블': 6233, '부스럼': 6234, '고마츠': 6235, '나나': 6236, '카메라맨': 6237, '카리': 6238, '관여': 6239, '김정민': 6240, '무교': 6241, '쪼꼬': 6242, '요란하다': 6243, '듯이': 6244, '원자력': 6245, '개척': 6246, '먹기': 6247, '붙이': 6248, '일치': 6249, '맞닿다': 6250, '착오': 6251, '크랭크': 6252, '역량': 6253, '부어': 6254, '자꾸만': 6255, '획': 6256, '점준': 6257, '오토봇': 6258, '교차': 6259, '로보트': 6260, '풋': 6261, '성취': 6262, '자라': 6263, '올레': 6264, '지면': 6265, '숭고하다': 6266, '에스티': 6267, '둘러싸다': 6268, '세지': 6269, '연희': 6270, '모먼트': 6271, '진국': 6272, '유정': 6273, '인호': 6274, '드라마영화': 6275, '절망': 6276, '눈물샘': 6277, '파묻다': 6278, '오잉': 6279, '러셀': 6280, '크로우': 6281, '방울': 6282, '직장인': 6283, '담뱃불': 6284, '렁': 6285, '우산': 6286, '영화정보': 6287, '쏟아지다': 6288, '팽팽': 6289, '차곡차곡': 6290, '진자': 6291, '담보': 6292, '대기업': 6293, '회의': 6294, '했슴': 6295, '오라버니': 6296, '실소': 6297, '응팔': 6298, '격인': 6299, '감염': 6300, '젊음': 6301, '방황': 6302, '합리화': 6303, '억압': 6304, '갈수': 6305, '수혜': 6306, '잘쓰다': 6307, '권하다': 6308, '무리다': 6309, '마음대로': 6310, '부자': 6311, '대망': 6312, '가안': 6313, '초대': 6314, '밥상': 6315, '천운': 6316, '영화니': 6317, '어여쁘다': 6318, '특정': 6319, '왜구': 6320, '로부터': 6321, '무간도': 6322, '넣기': 6323, '관광': 6324, '밀리다': 6325, '여친': 6326, '교도소': 6327, '바틀렛': 6328, '미만': 6329, '클릭': 6330, '광량': 6331, '막연하다': 6332, '광': 6333, '아이돌': 6334, '난생': 6335, '무책임하다': 6336, '감초': 6337, '아바타': 6338, '티남': 6339, '노출하다': 6340, '몇십': 6341, '위상': 6342, '검다': 6343, '시놉시스': 6344, '인민군': 6345, '군복': 6346, '썸머': 6347, '대입': 6348, '가치관': 6349, '성경': 6350, '좁다': 6351, '뒷받침': 6352, '준수': 6353, '소유': 6354, '사죄': 6355, '공산주의': 6356, '벌렁': 6357, '모형': 6358, '백년': 6359, '유망': 6360, '무협': 6361, '반한': 6362, '김호중': 6363, '친하다': 6364, '밀양': 6365, '사적': 6366, '하여튼': 6367, '징집': 6368, '서민': 6369, '고구려': 6370, '짱짱': 6371, '서러움': 6372, '막막하다': 6373, '고심': 6374, '시대극': 6375, '첩보물': 6376, '소이': 6377, '가구': 6378, '김향기': 6379, '짝사랑': 6380, '로튼토마토': 6381, '샬로': 6382, '빼앗기다': 6383, '흉내': 6384, '분도': 6385, '권위자': 6386, '호주': 6387, '합작': 6388, 'ㄲ': 6389, '무지막지': 6390, '형용': 6391, '계란': 6392, '수현': 6393, '항복': 6394, '큰일': 6395, '배급': 6396, '빅쇼': 6397, '노바': 6398, '적응': 6399, '김윤석': 6400, '개츠비': 6401, '비열하다': 6402, '측정': 6403, '로맨틱': 6404, '차후': 6405, '아수라': 6406, '넘버원': 6407, '동작': 6408, '일본어': 6409, '힝': 6410, '아시': 6411, '시나리오작가': 6412, '시효': 6413, '살의': 6414, '남미': 6415, '탱': 6416, '술병': 6417, '공무원': 6418, '오뎅': 6419, '소문': 6420, '실천': 6421, '기운': 6422, '피로하다': 6423, '선정': 6424, '물리학': 6425, '욥': 6426, '콘스탄틴': 6427, '가브리엘': 6428, '날아가다': 6429, '실종': 6430, '얹다': 6431, '책임지다': 6432, '모던': 6433, '관습': 6434, '덕후': 6435, '슬링': 6436, '로세': 6437, '베드씬': 6438, '막말': 6439, '줄타기': 6440, '난사': 6441, '내기': 6442, '사망': 6443, '아서': 6444, '어린이집': 6445, '올블랙': 6446, '나누어지다': 6447, '미학': 6448, '칸': 6449, '씹덕': 6450, '김동욱': 6451, '리빙': 6452, '수지': 6453, '나열하다': 6454, '박멸': 6455, '표절의혹': 6456, '김치': 6457, '원도': 6458, '강시': 6459, '광활하다': 6460, '개코': 6461, '학원': 6462, '동아리': 6463, '동지': 6464, '암살': 6465, '유지영': 6466, '끼들': 6467, '뭄바이': 6468, '토실': 6469, '끼어들다': 6470, '진입': 6471, '장벽': 6472, '령': 6473, '졸음': 6474, '간담': 6475, '벌새': 6476, '어리둥절하다': 6477, '중정': 6478, '아슬': 6479, '짖다': 6480, '티모시': 6481, '달튼': 6482, '정의감': 6483, '위인': 6484, '드릴': 6485, '유공': 6486, '단짝': 6487, '불어': 6488, '대박나다': 6489, '스톤': 6490, '인크레더블': 6491, '사제': 6492, '안수': 6493, '성령': 6494, '배정남': 6495, '이성': 6496, '외톨이': 6497, '건아': 6498, '균형': 6499, '가로': 6500, '명과': 6501, '그레이드': 6502, '소혜': 6503, '고독감': 6504, 'ㅜㅠㅠ': 6505, '소매치기': 6506, '산채': 6507, '밤새': 6508, '편곡': 6509, '순정만화': 6510, '싱크': 6511, '띠엄': 6512, '소위': 6513, '쫄린다': 6514, '맞닥뜨렸': 6515, '캐붕': 6516, '라울': 6517, '파로': 6518, '로이': 6519, '곤곡': 6520, '다재': 6521, '밋': 6522, '불쾌하다': 6523, '노래방': 6524, '오기': 6525, '대일': 6526, '이시영': 6527, '방한': 6528, '베네딕트': 6529, '슬럼프': 6530, '홰': 6531, '에피': 6532, '방울방울': 6533, '희진': 6534, '털털': 6535, '뤼': 6536, '콜라': 6537, '반짝': 6538, '왜안': 6539, '독일인': 6540, '엘리시움': 6541, '수상작': 6542, '고품격': 6543, '총살': 6544, '생소하다': 6545, '격동': 6546, '화전': 6547, '쫄이면': 6548, '에반스': 6549, '백인': 6550, '재주': 6551, '랄랄라': 6552, '랄라': 6553, '동선': 6554, '장이지': 6555, '이방인': 6556, '한지민': 6557, '이빨': 6558, '매직': 6559, '머임': 6560, '엽': 6561, '자단': 6562, '매탄': 6563, '태극권': 6564, '만종': 6565, '진국곤': 6566, '파랑': 6567, '도화선': 6568, '레': 6569, '출연료': 6570, '나란하다': 6571, '꽉차다': 6572, '차열': 6573, '기차역': 6574, '야니': 6575, '주윤발': 6576, '련': 6577, '유가휘': 6578, '대결씬': 6579, '망고': 6580, '무마': 6581, '적외선': 6582, '슈왈': 6583, '너거': 6584, '프레더터': 6585, '잡기': 6586, '형언': 6587, '먹고살다': 6588, '해지니': 6589, '자손': 6590, '쓰르기': 6591, '껀데': 6592, '불란서': 6593, '임대룸': 6594, '선방': 6595, '인성': 6596, '유머러스하다': 6597, '자넨': 6598, '빅토': 6599, '찔리다': 6600, '미쉘': 6601, '파이다': 6602, '게말': 6603, '송직히': 6604, '역사스페셜': 6605, '에로물': 6606, '김민재': 6607, '만유': 6608, '뭣같다': 6609, '듀오': 6610, '드심멕켄지': 6611, '나탈리': 6612, '스팅': 6613, '고령': 6614, '양자물리학': 6615, '산겨': 6616, '믹싱': 6617, '괴': 6618, '깨빡': 6619, '흔드': 6620, '가카': 6621, '취': 6622, '진성': 6623, '일직선': 6624, '폭주': 6625, '기관차': 6626, '가르침': 6627, '취저': 6628, '오죽하다': 6629, '여자아이': 6630, '범일': 6631, '이이': 6632, '독점': 6633, '백병': 6634, '피지': 6635, '만물': 6636, '영장': 6637, '싸하다': 6638, '이성도': 6639, '허리우드': 6640, '최민수': 6641, '잭니콜슨': 6642, '어뢰': 6643, '좌초설': 6644, '탓입': 6645, '방패': 6646, '도의': 6647, '전기': 6648, '숨은띵작': 6649, '조음': 6650, '넓다': 6651, '마못': 6652, '논술': 6653, '많곸': 6654, '개쩌넼': 6655, '식도': 6656, '신물': 6657, '생물체': 6658, '원리': 6659, '자연환경': 6660, '문명': 6661, '스페인': 6662, '함선': 6663, '침략': 6664, '간식': 6665, '그러기에': 6666, '꽃처럼': 6667, '수춘': 6668, '중국영화': 6669, '억만장자': 6670, '헹': 6671, '글라이더': 6672, '사자후': 6673, '에서와': 6674, '찔끔': 6675, '바둥거린거': 6676, 'ㅍㅋㅋㅋ': 6677, '한자리': 6678, '산성': 6679, '박유천': 6680, '팬심': 6681, '신격화': 6682, '클로드': 6683, '의협': 6684, '스탭': 6685, '똥망작': 6686, '살때': 6687, '아영': 6688, '만듭시': 6689, '큐브': 6690, '므흣하': 6691, '비볏': 6692, '설사': 6693, '초상화': 6694, '먹여주다': 6695, '공원': 6696, '귀머거리': 6697, '괴팍': 6698, '괴팍하다': 6699, '미술가': 6700, '짜증스럽다': 6701, '좌편향': 6702, '반대쪽': 6703, '성역': 6704, '김광주': 6705, '북조선': 6706, '노동당': 6707, '부서': 6708, '난리치다': 6709, '북핵': 6710, '통일한국': 6711, '국방력': 6712, '군사정권': 6713, '무너': 6714, '노태우': 6715, '좌익': 6716, '건국': 6717, '평화협정': 6718, '보상금': 6719, '재건': 6720, '빼박': 6721, '공백': 6722, '발도': 6723, '어렷을적': 6724, '좀감': 6725, '외전': 6726, '배팅': 6727, '선악': 6728, '어케알': 6729, '창고': 6730, '보다만': 6731, '님밑': 6732, '우수하다': 6733, '여하튼': 6734, '더보': 6735, '라이즈': 6736, '스카이워커': 6737, '초창': 6738, '전통': 6739, '제다이': 6740, '성소수자': 6741, '가다가': 6742, '잔당': 6743, '좌지우지': 6744, '보탤': 6745, '유가족': 6746, '생존자': 6747, '박차': 6748, '공장': 6749, '취한': 6750, '평태': 6751, '희롱': 6752, '금새': 6753, '배리': 6754, '쫄깃할까': 6755, '책받침': 6756, '안봣다': 6757, '봣다': 6758, '야합': 6759, '영화포스터': 6760, 'ㅆㅂ': 6761, '꼬아놓': 6762, '빙고': 6763, '쉐어': 6764, '현대인': 6765, '복기': 6766, '드나들다': 6767, '식료품점': 6768, '살포시': 6769, '어루만지다': 6770, '가루': 6771, '살살': 6772, '신영화': 6773, '박새별': 6774, '붙잡다': 6775, '앉히다': 6776, '실명': 6777, '대성통곡': 6778, '소용돌이': 6779, '와닺': 6780, '꽉꽉': 6781, '뒷이야기': 6782, '어쩌려': 6783, '조력자': 6784, '뒷돈': 6785, '시피': 6786, '빠져나가다': 6787, '제약': 6788, '번작': 6789, '척척': 6790, '맨몸': 6791, '부드라운': 6792, '나루토': 6793, '이래도': 6794, '혼쭐났': 6795, '김성규': 6796, '졸지': 6797, '윤상현': 6798, '사임': 6799, '폭죽': 6800, '천정명': 6801, '씬등': 6802, '홍대': 6803, '오무라이스': 6804, '개잼': 6805, '페르시아': 6806, '스파르타': 6807, '마직막': 6808, '참회': 6809, '임저': 6810, '헌법': 6811, '사회주의': 6812, '로컬': 6813, '감개': 6814, '무량': 6815, '함박': 6816, '통금': 6817, '환원': 6818, '오전': 6819, '철수': 6820, '탈북자': 6821, '북송': 6822, '곁가지': 6823, '칼라': 6824, '당췌': 6825, '감미롭다': 6826, '가입자': 6827, '태주': 6828, '물말': 6829, '에잉': 6830, '대변': 6831, '투척': 6832, '내신': 6833, '원망': 6834, '키이라': 6835, '나이틀리': 6836, '웨인': 6837, '먼치킨': 6838, '분전': 6839, '안팔': 6840, '두사부일체': 6841, '썩': 6842, '부터의': 6843, '가박': 6844, '껏음': 6845, '방뇨': 6846, '끓이다': 6847, '소가': 6848, '스토리보드': 6849, '라든지': 6850, '데자뷰': 6851, '벨포트': 6852, '들어맞다': 6853, '이해해': 6854, '소나기': 6855, '간촐하': 6856, '뺴곤': 6857, '정당하다': 6858, '땡처리': 6859, '대폭소': 6860, '별명': 6861, '정치가': 6862, '관계없이': 6863, '전선': 6864, '내해': 6865, '친밀하다': 6866, 'ㅊ': 6867, '강간': 6868, '줄줄이': 6869, '칼빵': 6870, '흐뭇하다': 6871, '독자': 6872, '마블리': 6873, 'ㅇㅗㅏ': 6874, '복구': 6875, '고결': 6876, '청초하다': 6877, '우왕': 6878, '우아': 6879, '곤란하다': 6880, '지심': 6881, '손오공': 6882, '가사도': 6883, '금연': 6884, '쇼팽': 6885, '장송': 6886, '행진곡': 6887, '비긴': 6888, '어게인': 6889, '마자': 6890, '싹싹': 6891, '도서관': 6892, '집앞': 6893, '경적': 6894, '데려가다': 6895, '유증': 6896, '셔젤': 6897, '플래쉬': 6898, '해주': 6899, '론데': 6900, '예능': 6901, '모욕감': 6902, '코스트': 6903, '칭구': 6904, '융합': 6905, '내용정리': 6906, '로사': 6907, '풍족하다': 6908, '조가': 6909, '고요함': 6910, '파르르': 6911, '수조': 6912, '지게차': 6913, '깊숙이': 6914, '잠식': 6915, '닷': 6916, '서준': 6917, '클라이너': 6918, '산만': 6919, '디브이': 6920, '엑소시즘': 6921, '앓다': 6922, '울적하다': 6923, '비버': 6924, '쇳조각': 6925, '윤리학': 6926, '여담': 6927, '제대': 6928, '항하': 6929, '방향성': 6930, '저쩃': 6931, '나앉다': 6932, '전기영': 6933, '던뎅': 6934, '농담': 6935, '자유의지': 6936, '충돌': 6937, '부조화': 6938, '나왓어': 6939, '니쁘': 6940, '꺄': 6941, '아람': 6942, '알바로': 6943, '복지': 6944, '복지사': 6945, '얘넨': 6946, '독전': 6947, '휴식': 6948, '통쾌': 6949, '한국말': 6950, '이지은': 6951, '김갑수': 6952, '다도': 6953, '도보': 6954, '띄엄띄엄': 6955, '대면': 6956, '윌리엄': 6957, '찰톤': 6958, '헤스턴': 6959, '벤허': 6960, '염화': 6961, '헴': 6962, '봤숩니': 6963, '넘어뜨리다': 6964, '부정선거': 6965, '발표': 6966, '들르다': 6967, '응징': 6968, '실라': 6969, '므낄': 6970, '만만하다': 6971, '답시고': 6972, '순진하다': 6973, '친일': 6974, '토왜': 6975, '복도': 6976, '전남편': 6977, '용돈': 6978, '비정상': 6979, '아르바이트': 6980, '혼돈': 6981, '쇼타': 6982, '뛰어내리다': 6983, '통념': 6984, '어감': 6985, '계승': 6986, '살다보면': 6987, '학벌': 6988, '표상': 6989, '제시': 6990, '선구자': 6991, '도화': 6992, '띵작입니': 6993, '단서': 6994, '힌트': 6995, 'ㅅㅇ': 6996, '저스트': 6997, '브랜치': 6998, '벤츠': 6999, '바브': 7000, '다이아몬드': 7001, '가려진': 7002, '넷상': 7003, '아싑': 7004, '졍': 7005, '냉정': 7006, '정사': 7007, '가극장': 7008, '페라리': 7009, '가두다': 7010, '선입견': 7011, '이정재': 7012, '노가다': 7013, '땍띠컬한': 7014, '쪼그라들다': 7015, '유입': 7016, '망은': 7017, '촘촘하': 7018, '주축': 7019, '총공격': 7020, '팬층': 7021, '마다의': 7022, '견디다': 7023, '재결합': 7024, '감신': 7025, '투캅스': 7026, '이성경': 7027, '안정감': 7028, '윤아': 7029, '할리데이비슨': 7030, '본영': 7031, '로미오': 7032, '줄리엣': 7033, '증발': 7034, '산업혁명': 7035, '호모': 7036, '확률': 7037, '신입': 7038, '예여': 7039, '노이즈마케팅': 7040, '헴식이': 7041, '올인': 7042, '끄나풀': 7043, '지은': 7044, '낱낱': 7045, '주르륵': 7046, '레게': 7047, '전투력': 7048, '측정기': 7049, '칠무해': 7050, '킹킹': 7051, '킹콩': 7052, 'ㄹㄱㄴ': 7053, '암흑': 7054, '보탠다': 7055, '졸귀탱': 7056, '자서전': 7057, '용납': 7058, '놧다': 7059, '밍숭맹숭해': 7060, '깡통': 7061, '좇았': 7062, 'ㅁㅊ': 7063, '가난하다': 7064, '한탄': 7065, '도쿄': 7066, '잔해': 7067, '간에이': 7068, '공범': 7069, '연대기': 7070, '똘똘뭉친': 7071, '귿': 7072, '텔레노벨라': 7073, '으아': 7074, '브라이언': 7075, '점클로젯': 7076, '아무래도': 7077, '임시': 7078, '회랑': 7079, '모니터': 7080, '달팽이': 7081, '공기': 7082, '지인': 7083, '항공기': 7084, '우기다': 7085, '몸소': 7086, '위버': 7087, '쥑': 7088, '부랄': 7089, '권력자': 7090, '정해지다': 7091, '갑지': 7092, '트럭': 7093, '쩡쩡하다': 7094, '토이': 7095, '파고': 7096, '스카페이스': 7097, '할인': 7098, '바하': 7099, '다음생': 7100, '아마겟돈': 7101, '김씨표류기': 7102, '엇으': 7103, '만드심': 7104, '더디다': 7105, '러팔로': 7106, '거북목': 7107, '앙다물다': 7108, '세실리아': 7109, '유시': 7110, '스타뎀': 7111, '상반기': 7112, '영정': 7113, '기울어지다': 7114, '운동장': 7115, '감수성': 7116, '할당': 7117, '진실하다': 7118, '난이도': 7119, '어린이날': 7120, '특집': 7121, '간나': 7122, '한도': 7123, '위스키': 7124, '힐난': 7125, '히스': 7126, '단언컨대': 7127, '하위': 7128, '새삼': 7129, '까발리다': 7130, '창동': 7131, '옜날': 7132, '어리석다': 7133, '심벌': 7134, '털보': 7135, '훈훈': 7136, '쉬샤오둥': 7137, '튜브': 7138, '타이슨': 7139, '챔피언': 7140, '구라': 7141, '띄우기': 7142, '분의': 7143, '홀로몬': 7144, '어째': 7145, '스멜': 7146, 'ㄷㄷㄷㄷ': 7147, '런타임': 7148, '산재': 7149, '바랬으': 7150, '전진': 7151, '풀타임': 7152, '띠용': 7153, '무한리필': 7154, '가발': 7155, '잠자다': 7156, '유신': 7157, '부마사태': 7158, '쫄깃했는걸': 7159, '듀란듀란': 7160, '러쉬': 7161, '사바': 7162, '스레드': 7163, '제플린': 7164, '퍼플': 7165, '이스터에그': 7166, '존경어': 7167, '짜릿': 7168, '자서': 7169, '삽입곡': 7170, '주안': 7171, '짊어질': 7172, '이배': 7173, '나영': 7174, '무당': 7175, '어꺠': 7176, '공예': 7177, '미러': 7178, '감특': 7179, '방학': 7180, '속죄': 7181, '갈비뼈': 7182, '부러지다': 7183, '붕대': 7184, '란드': 7185, '담옴': 7186, '기에': 7187, '복도씬': 7188, '몸서리': 7189, '뎁': 7190, '달도': 7191, '감격': 7192, 'ㅠㅜㅜ': 7193, '구역질': 7194, '트이다': 7195, '만치': 7196, '멀어지다': 7197, '성지순례': 7198, '도쿄올림픽': 7199, '각지': 7200, '아키': 7201, '핵에너지': 7202, '흉': 7203, '흉하다': 7204, '퍽': 7205, '정겹다': 7206, '해달라다': 7207, '뉴트구': 7208, '쫌더': 7209, '스타로드': 7210, '심호흡': 7211, '후시': 7212, '녹음': 7213, '별천지': 7214, '폭우': 7215, '댄스씬': 7216, '탭댄스': 7217, '시커멓다': 7218, '핏덩': 7219, '무심하다': 7220, '앨렌': 7221, '페이지': 7222, '집어치우다': 7223, '가엾다': 7224, '가여웠': 7225, '란생': 7226, '중과': 7227, '소모': 7228, '유연하다': 7229, '포근하다': 7230, '비몽': 7231, '원컷씬': 7232, '법도': 7233, '참되다': 7234, '고지식하다': 7235, '김희철': 7236, '나훈아': 7237, '유니쎄프': 7238, '팔팔하다': 7239, '틱': 7240, '낭독': 7241, '몽땅': 7242, '절규': 7243, '아타': 7244, '평안하다': 7245, '미달': 7246, '울보': 7247, '족두리': 7248, '멋대로': 7249, '약혼자': 7250, '우주해적': 7251, '식인': 7252, '돌이': 7253, '거린': 7254, '무술가': 7255, '궤찬': 7256, '자스민': 7257, '술탄': 7258, '자파': 7259, '굳어지다': 7260, '장인': 7261, '가족사': 7262, '츠': 7263, '마부': 7264, '사토시': 7265, '허준호': 7266, '장각': 7267, '인삼': 7268, '장수': 7269, '해당': 7270, '립': 7271, '이즈': 7272, '웰시': 7273, '페이스북': 7274, '윌리엄스': 7275, '앨리스': 7276, '화이': 7277, '쪼려': 7278, '제국': 7279, '역습': 7280, '싱그럽다': 7281, '동거': 7282, '담력': 7283, '도달': 7284, '헬싱': 7285, '드라큘라': 7286, '늑대인간': 7287, '프랑켄슈타인': 7288, '또또': 7289, '같은뎈': 7290, '스튜디오': 7291, '브랜든': 7292, '왜냐하면': 7293, '고제': 7294, '캐바케': 7295, '드림걸스': 7296, '간파': 7297, '탕웨이': 7298, '총상': 7299, '들것': 7300, '토대': 7301, '대도': 7302, '이글': 7303, '누굴까': 7304, '구욷': 7305, '출혈': 7306, '사설': 7307, '하드': 7308, '삼고': 7309, '케루': 7310, '최초': 7311, '카게무샤': 7312, '모노노케히메': 7313, '레드소냐': 7314, '유전병': 7315, '랴': 7316, '다이아': 7317, '사파이어': 7318, '보석': 7319, '알갱이': 7320, '알까기': 7321, '구체': 7322, '뿌듯하다': 7323, '통역': 7324, '수칙': 7325, '대유': 7326, '해감': 7327, '섹슈얼': 7328, '테러리스트': 7329, '대형': 7330, '뎃글알바': 7331, '건젔을지': 7332, '양양': 7333, '고속도로': 7334, '아우토반': 7335, '꽃잎': 7336, '떠내려가다': 7337, '줜': 7338, '직진': 7339, '네이팜탄': 7340, '회복': 7341, '고릴라': 7342, '소리내다': 7343, '셀': 7344, '거미': 7345, '도마뱀': 7346, '브리': 7347, '사무엘': 7348, '잭슨': 7349, '집편임': 7350, '특별': 7351, '깃털': 7352, '담벼락': 7353, '몽둥이': 7354, '자루': 7355, '참내': 7356, '접목': 7357, '닫다': 7358, '풉킼': 7359, '수술': 7360, '다중': 7361, '모해': 7362, '배경음': 7363, '어버이날': 7364, '입금': 7365, '완료': 7366, '시뻘겋다': 7367, '잘잘': 7368, '기럭지': 7369, '범행': 7370, '늠': 7371, '짤막하다': 7372, '게시판': 7373, '연호': 7374, '안내면': 7375, '신기': 7376, '마이걸': 7377, '비밀': 7378, '스트리밍': 7379, '왕호': 7380, '캘리': 7381, '드넓다': 7382, '갯뻘': 7383, '진주': 7384, '리슨': 7385, '듯해': 7386, '쫄깃했': 7387, 'ㅅㅄㅂ': 7388, '탄흔': 7389, '핥다': 7390, '전생': 7391, '피신': 7392, '김영광': 7393, '디저트': 7394, '엘레': 7395, '근다': 7396, '맹점': 7397, '고발': 7398, '자임': 7399, '송신': 7400, '제주': 7401, '기록': 7402, '저장': 7403, '가려지다': 7404, '국회': 7405, '숨지다': 7406, '아야': 7407, '김선': 7408, '저격수': 7409, '지스토리': 7410, '빨간색': 7411, '초록색': 7412, '노란색': 7413, '단색': 7414, '사이비': 7415, '광란': 7416, '활주': 7417, '어쩌다가': 7418, '정말루': 7419, '느걸': 7420, '잔치': 7421, '장례식': 7422, '독수리': 7423, '다인': 7424, '안됫': 7425, '알탕': 7426, '거름': 7427, '회유': 7428, '협박': 7429, '살랑살랑': 7430, '탈수': 7431, '기독교': 7432, '고학년': 7433, '봄낮': 7434, '퇴보하다': 7435, '그림자': 7436, '영국인': 7437, '대전': 7438, '오승욱': 7439, '우스꽝스럽다': 7440, '호연': 7441, '컬트': 7442, '네필': 7443, '브라보': 7444, '잎': 7445, '시놉': 7446, '잘뽑다': 7447, '냉장고': 7448, '마늘': 7449, '아마추어': 7450, '메달리스트': 7451, '복서': 7452, '혈기': 7453, '볼순': 7454, '왕왕': 7455, '어두운곳': 7456, '태식': 7457, '고초': 7458, '시련': 7459, '블럭버스터': 7460, '매초': 7461, '천명': 7462, '투시': 7463, '스트릿': 7464, '패션': 7465, '쾅쾅': 7466, '고충': 7467, '대학가': 7468, '장난스런키스': 7469, '발짝': 7470, '내딛다': 7471, '아멜리아': 7472, '양으로': 7473, '쫄딱': 7474, '음침': 7475, '루카스필름': 7476, '회장': 7477, '문구로': 7478, '포로': 7479, '햄스터': 7480, '엉터리': 7481, '갈리': 7482, '격투씬': 7483, '카체이싱': 7484, '메가폰': 7485, '오리': 7486, '았': 7487, '쿠쿠': 7488, '트론': 7489, '원화': 7490, '파탄': 7491, '노조': 7492, '얌전하다': 7493, '횐': 7494, '차라': 7495, '미쳤슴': 7496, '사려': 7497, '부문': 7498, '네러티브': 7499, '짜장면': 7500, '천원': 7501, '후루룩': 7502, '매튜': 7503, '자레드': 7504, '레토': 7505, '송운': 7506, '뭉치': 7507, '어나더': 7508, '레벨': 7509, '진진': 7510, '파브': 7511, '뤼키': 7512, '비노': 7513, '파리지앵': 7514, '러브코미디': 7515, '동전': 7516, '양면': 7517, '인더': 7518, '수탈': 7519, '성노예': 7520, '보복': 7521, '아포칼립토': 7522, '순도': 7523, '에게서': 7524, '매너': 7525, '매그놀리아': 7526, '넘버': 7527, '영화제작': 7528, '한판': 7529, '토피': 7530, '계급': 7531, '슬렁슬렁': 7532, '다짜고짜': 7533, '꽥꽥': 7534, '정녕': 7535, '남학생': 7536, '공책': 7537, '끄적': 7538, '기력': 7539, '테러범': 7540, '도덕성': 7541, '결여': 7542, '시간이동': 7543, '날것': 7544, '김부': 7545, '에끼': 7546, '낼름': 7547, '세면대': 7548, '양치질': 7549, '티브': 7550, '재밋었어': 7551, '토의': 7552, '넷플없': 7553, '나와라': 7554, '뇌브': 7555, '에러': 7556, '건장하다': 7557, '희미하다': 7558, '세드앤딩': 7559, '케이티': 7560, '선박': 7561, '규모': 7562, '로소': 7563, '일당': 7564, '얼음땡': 7565, '러팅타임': 7566, '페이소스': 7567, '왕가위': 7568, '양조위': 7569, '장만옥': 7570, '채색': 7571, '페르소나': 7572, '정보원': 7573, '스트롱일': 7574, '짐살': 7575, '드림웍스': 7576, '모범': 7577, '든든하다': 7578, '캠': 7579, '패인': 7580, '동탄': 7581, '일전': 7582, '감치': 7583, '기침': 7584, '퍼붓다': 7585, '바짝': 7586, '일후': 7587, '줄때': 7588, '여쭈다': 7589, '굶어죽엇을듯': 7590, '어딧': 7591, '타이틀': 7592, '씯어주': 7593, '변모': 7594, '유쾌': 7595, '상쾌': 7596, '오그': 7597, '아바': 7598, '잔득폼': 7599, '만주': 7600, '적용': 7601, '쟁쟁': 7602, '전방': 7603, '한때': 7604, '신실하다': 7605, '괴로움': 7606, '자구': 7607, '원스': 7608, '어폰': 7609, '희극': 7610, '촉망': 7611, '부시다': 7612, '사요나라': 7613, '콩닥': 7614, '대못': 7615, '창조주': 7616, '과학기술': 7617, '버젼': 7618, '에이즈': 7619, '보드': 7620, '인내심': 7621, '반죽': 7622, '새드앤딩': 7623, '고영': 7624, '봄날': 7625, '현직': 7626, '임상병리사': 7627, '겉모습': 7628, '애묘': 7629, '밍': 7630, '인신공격': 7631, '주사기': 7632, '사용설명서': 7633, '파이트클럽': 7634, '연달': 7635, '연줄': 7636, '시공간': 7637, '빵터트려': 7638, '늑대소년': 7639, '성범죄자': 7640, '조재현': 7641, '방망이': 7642, '출하': 7643, '순차': 7644, '삿대질': 7645, '비중좀높혔으': 7646, '자세': 7647, '글러먹': 7648, '에서까지': 7649, '빈국': 7650, '대중성': 7651, '쾌거': 7652, '똥맛': 7653, 'ㅊㅋㅊㅋ': 7654, '번영': 7655, '인지부조화': 7656, '스모그': 7657, '백화점': 7658, '품사': 7659, 'ㄸㅊ': 7660, '디자이너': 7661, '입시': 7662, '수도권': 7663, '행정': 7664, '학과': 7665, '진학': 7666, '할로우': 7667, '간원': 7668, '절도': 7669, '파멸하다': 7670, '명시': 7671, '감응': 7672, '주력': 7673, '해커': 7674, '탈주': 7675, '잠수병': 7676, '른다': 7677, '호각': 7678, '운전사': 7679, '남산': 7680, '공통점': 7681, '경제력': 7682, '지도자': 7683, '공이': 7684, '과를': 7685, '부풀리다': 7686, '컴플렉스': 7687, '분탕질': 7688, '젤위': 7689, '일생': 7690, '일부분': 7691, '원체': 7692, '제롬': 7693, '살상': 7694, '목격': 7695, '시민군': 7696, '심양': 7697, '윌터': 7698, '퉁판': 7699, '엄습': 7700, '꼴다': 7701, '명곡': 7702, '장산': 7703, '애처롭다': 7704, '권고사직': 7705, '무한도전': 7706, '경매': 7707, '동탄신도시': 7708, '김병준': 7709, '견주어봐': 7710, '박빙': 7711, '김정은': 7712, '발딱': 7713, '스게': 7714, '엄지원': 7715, '기출': 7716, '낙타': 7717, '콧구멍': 7718, '버겁다': 7719, '난재밋게봄': 7720, '이정화': 7721, '겨누': 7722, '산책': 7723, '고지전': 7724, '만족감': 7725, '조루': 7726, '화초': 7727, '돌파': 7728, '하란': 7729, '퍼준다': 7730, '모럴': 7731, '해저드': 7732, '열거': 7733, '따다닥': 7734, '팡팡': 7735, '검열': 7736, '잡혀가다': 7737, '울컥울컥': 7738, '얹혀살다': 7739, '부탄가스': 7740, '해진': 7741, '부강': 7742, '날렵하다': 7743, '김송': 7744, '프로젝터': 7745, '아니렀': 7746, '윅같': 7747, '달전': 7748, '꾸릿꾸릿': 7749, '후뢰할뻠': 7750, '장엄하다': 7751, '특선영화': 7752, '땀날정': 7753, '브르스': 7754, '증인': 7755, '쐇어': 7756, '재밎': 7757, '무예': 7758, '히스토리': 7759, '마여': 7760, '팝': 7761, '품위': 7762, '세친구': 7763, '란초': 7764, '지드': 7765, '거짓말쟁이': 7766, '투슬': 7767, '유익하다': 7768, '중학': 7769, '씌레귀': 7770, '업글': 7771, '와칸': 7772, '스톰브레이커': 7773, '버스터': 7774, '장의사': 7775, '지기': 7776, '난또': 7777, '샅': 7778, '펑점': 7779, '영화배우': 7780, '윤발': 7781, '어눌하다': 7782, '아닌뒙': 7783, '일주': 7784, '베틀': 7785, '타이트': 7786, '잠재우다': 7787, '쩖': 7788, '시퀀스': 7789, '원일': 7790, '뿜는': 7791, '반석': 7792, '절레절레': 7793, '루쏘형제': 7794, '황폐': 7795, '희소가치': 7796, '치안': 7797, '어머': 7798, '표독': 7799, '빈민가': 7800, '여럿': 7801, '올드': 7802, '툭': 7803, '스맛폰': 7804, '계심': 7805, '결점': 7806, '뱉다': 7807, '상도': 7808, '소피아': 7809, '루르': 7810, '두서': 7811, '상대방': 7812, '드레드': 7813, '비슷': 7814, '민낯': 7815, '라스트': 7816, '성차별': 7817, '비서': 7818, '택했다': 7819, '낄낄': 7820, '윌슨': 7821, '모호': 7822, '미래세': 7823, '모호하다': 7824, '잘생겻': 7825, '대서': 7826, '나가야': 7827, '부리고': 7828, '빽빽': 7829, '산악': 7830, '유괴': 7831, '애나': 7832, '치의': 7833, '지짴': 7834, '아수라도': 7835, '심금': 7836, '로케': 7837, '소품': 7838, '한씬한씬': 7839, '축약': 7840, '피터': 7841, '파커': 7842, '무정부상태': 7843, '고영상': 7844, '다날': 7845, '이예지': 7846, '한지호': 7847, '한상철': 7848, '언터처블': 7849, 'ㅅㄹㄱ': 7850, 'ㅇㄱㄹㅇ': 7851, '봄돈': 7852, '으루': 7853, '두세': 7854, '고추가': 7855, '옛말': 7856, '작고': 7857, '체구': 7858, '맷집': 7859, '희희낙락': 7860, '영락': 7861, '최동훈': 7862, '보고또보고': 7863, '멘더스': 7864, '역쉬': 7865, '컨디뉴': 7866, '애플렉': 7867, '톡톡하다': 7868, '일벌': 7869, '쫄아야짘': 7870, '물음': 7871, '유품': 7872, '지불': 7873, '쫑나': 7874, '다분': 7875, '등지': 7876, '제자리': 7877, '인스턴트': 7878, '공화국': 7879, '박지': 7880, '제사상': 7881, '엑스': 7882, '마키': 7883, '장남': 7884, '장녀': 7885, '데스': 7886, '흑백영화': 7887, '웨스': 7888, '프렌치': 7889, '디스패치': 7890, '나와랏': 7891, '굴려': 7892, '팝송': 7893, '삐삐': 7894, '공중전화': 7895, '고모': 7896, '노년기': 7897, '베테': 7898, '카르': 7899, '페': 7900, '디엠': 7901, '어거스트': 7902, '파이프': 7903, '오르간': 7904, '지금껏': 7905, '감성지수': 7906, '내미다': 7907, '그늘': 7908, '전심': 7909, '보듬다': 7910, '줫': 7911, '비긴즈': 7912, '함흥': 7913, '불우하다': 7914, '추적자': 7915, '경찰권': 7916, '상부': 7917, '패배하다': 7918, '떠나가다': 7919, '나불대다': 7920, '단일': 7921, '청원': 7922, '상냥하다': 7923, '심판': 7924, '이엘리야': 7925, '크리': 7926, '호혜중님': 7927, '늘씬하다': 7928, '업자': 7929, '중남미': 7930, '황정리': 7931, '어처구니없다': 7932, '치트키': 7933, '산탄총': 7934, '부리면': 7935, '절명': 7936, '플로렌스': 7937, '퓨': 7938, '왓슨': 7939, '쏘우': 7940, '뷰티풀': 7941, '흑끕흑흗': 7942, '쫄려죽': 7943, '도자기': 7944, '원한': 7945, '가뜩이나': 7946, '말종': 7947, '놨다': 7948, '신하': 7949, '달아나다': 7950, '왕릉': 7951, '선왕': 7952, '조상': 7953, '얹히다': 7954, '누리다': 7955, '김독': 7956, '안티팬': 7957, '애꾸눈': 7958, '더락': 7959, '스트립': 7960, '로페즈': 7961, '퀄부작': 7962, '한솔': 7963, '리들리': 7964, '트리플': 7965, '프런티어': 7966, '유통': 7967, '떄리다': 7968, '퐐': 7969, '진일': 7970, '벌떡': 7971, '두고두고': 7972, '가처분': 7973, '신청': 7974, '보트': 7975, '식은땀': 7976, '흘럿다': 7977, '락덕들': 7978, '오슽': 7979, '스콜피온스': 7980, '대지': 7981, '고정관념': 7982, '새기다': 7983, '정착': 7984, '농': 7985, '좋앜': 7986, '감금': 7987, '민수': 7988, '가닥': 7989, '낭비하다': 7990, '타의': 7991, '상기': 7992, '루실': 7993, '샹들리에': 7994, '합체': 7995, '화학반응': 7996, '롱런': 7997, '읍음': 7998, '커뮤니티': 7999, '어찌어찌': 8000, '맛없다': 8001, '과일': 8002, '맘졸': 8003, '껐네욬': 8004, '카르페디엠': 8005, '항적': 8006, '제혁': 8007, '안방': 8008, '통틀어': 8009, '미숙': 8010, '획일': 8011, '김석': 8012, '맹인': 8013, '갸륵해': 8014, '벌집': 8015, '몰두하다': 8016, '극소': 8017, '축척': 8018, '학력': 8019, '속성': 8020, '등급': 8021, '세로': 8022, '이태리': 8023, '연출럭': 8024, '만렙': 8025, '짱재밋음': 8026, '땔': 8027, '완존': 8028, '폭망폭망': 8029, '단면': 8030, '인용': 8031, '첨으로': 8032, '화산폭발': 8033, '흡사하다': 8034, '남동생': 8035, '귀하다': 8036, '낮아지다': 8037, '루이자': 8038, '안봤슴': 8039, '쯧쯧': 8040, '미비하다': 8041, '쏠땐': 8042, '잘해야': 8043, '견착': 8044, '급발진': 8045, '사활': 8046, '따윈': 8047, '개호갱임': 8048, '문짝': 8049, '볼뻔': 8050, '풀어지다': 8051, '유투': 8052, '핑계': 8053, '삼지': 8054, '감덩': 8055, '반환': 8056, '이분법': 8057, '해제': 8058, '뽰습니': 8059, '말쟁이': 8060, '뎀': 8061, '선비': 8062, '습격': 8063, '머선': 8064, '행크': 8065, '톰이였써': 8066, '발끝': 8067, '길가': 8068, '죽빵': 8069, '주춤': 8070, '틈새': 8071, '공략': 8072, 'ㅅㅌㅊ': 8073, '실시간': 8074, '검색어': 8075, '서든어택': 8076, '고본': 8077, '변호인': 8078, '이노': 8079, '퐝당하': 8080, '조엘': 8081, '킨너': 8082, '필생': 8083, '폴란드': 8084, '밸붕': 8085, '넘어오다': 8086, '둘러쌓다': 8087, '돌진': 8088, '아른': 8089, '거림니': 8090, '물량투입': 8091, '독채': 8092, '인관': 8093, '그런대로': 8094, '도해': 8095, '틀림없다': 8096, '깨지다': 8097, '정가': 8098, '얼간이': 8099, '고간': 8100, '오비다': 8101, '떠밀다': 8102, '아이유': 8103, '야말로': 8104, '흩다': 8105, '체리': 8106, 'ㅍㅎㅎ': 8107, '외제차': 8108, '영화리뷰': 8109, '학도': 8110, '후세인': 8111, '발끼': 8112, '씬시티': 8113, '창의력': 8114, '바람나다': 8115, '대서양': 8116, '마르': 8117, '오버액션': 8118, '플럭스': 8119, '딱어': 8120, '사표': 8121, '잠기다': 8122, '조센징': 8123, '살인의추억': 8124, '독가스': 8125, '소포': 8126, '크러쉬': 8127, '우먼': 8128, '효율': 8129, '뒷맛': 8130, '색꺌': 8131, '노르웨이': 8132, '안터': 8133, '잊힌': 8134, '살피': 8135, '돌이키다': 8136, '디워': 8137, '승민': 8138, '반기다': 8139, '베이직': 8140, '황룡': 8141, '훌룡': 8142, '느꼇': 8143, '스포일러': 8144, '쥐락펴락합니': 8145, '하염없이': 8146, '돌보다': 8147, '뤽': 8148, '베송': 8149, '사이비과학': 8150, '빌뇌브': 8151, '쿼드로': 8152, '여백': 8153, '미코': 8154, '록스': 8155, '탁앤': 8156, '처녀작': 8157, '본업': 8158, '웰컴': 8159, '밀레': 8160, '기해': 8161, '개오지': 8162, '고산': 8163, '루고': 8164, '남초': 8165, '대중문화': 8166, '피스': 8167, '고두심': 8168, '여우': 8169, '엘레베이터': 8170, '접합': 8171, '홈런': 8172, '휙': 8173, '올려다보다': 8174, '몸짓': 8175, '등빨': 8176, '옆통': 8177, '엎': 8178, '씩씩대다': 8179, '와장창': 8180, '승질': 8181, '래미': 8182, '스윗': 8183, '슬포': 8184, '문어': 8185, '폭포': 8186, '스크랩': 8187, '학생운동': 8188, '됫다': 8189, '주사파': 8190, '산사': 8191, '방송국': 8192, '국정원': 8193, '너트': 8194, '해이': 8195, '민노총': 8196, '전교조': 8197, '상공': 8198, '가트': 8199, '렷': 8200, '몸뚱': 8201, '소리치다': 8202, '양해': 8203, '구해': 8204, '귓등': 8205, '컴': 8206, '플레인': 8207, '제재': 8208, '회로': 8209, '실마': 8210, '아앙': 8211, '보다잠듬': 8212, '반추': 8213, '겟': 8214, '스탭들': 8215, '추락': 8216, '여성인권': 8217, '퀸스': 8218, '정사씬': 8219, '여성혐오': 8220, '자립': 8221, '도슨': 8222, '발작': 8223, '단행본': 8224, '직할': 8225, '통솔': 8226, '언스토퍼블': 8227, '전라': 8228, '디언들': 8229, '슬로': 8230, '최상급': 8231, '갈이': 8232, '쿨': 8233, '백작': 8234, '포퓰리즘': 8235, '바랬던': 8236, '에그': 8237, 'ㅠㅜㅜㅜ': 8238, '평끌': 8239, '봤엄': 8240, '봤네욤': 8241, '구별': 8242, 'ㅌㅋㅋㅋ': 8243, '고교시절': 8244, '존쿠': 8245, '삭이다': 8246, '배심원': 8247, '참모': 8248, '쓰리스타': 8249, 'ㅅㅣ': 8250, '이랑은': 8251, '형성': 8252, '화재': 8253, '부조': 8254, '납골당': 8255, '내장': 8256, '관능': 8257, '대상': 8258, '위악': 8259, '난잡하다': 8260, '인적': 8261, '강적': 8262, '대응': 8263, '소의': 8264, '쨔스': 8265, '재정': 8266, '씩씩하다': 8267, '심기': 8268, '농촌': 8269, '몹': 8270, '뱀': 8271, '신여': 8272, '청주': 8273, '착실하다': 8274, '살피다': 8275, '페미니스트': 8276, '자칭': 8277, '무무': 8278, '저저': 8279, '점년': 8280, '획기': 8281, '때때로': 8282, '불공평하다': 8283, '리스크': 8284, '이자나': 8285, '깍지': 8286, '왘': 8287, '존잼임': 8288, '순리': 8289, '음소거': 8290, '학창시절': 8291, '충때': 8292, '재시': 8293, '김재형': 8294, '폐쇠': 8295, '내뱉다': 8296, '스워드': 8297, '목젓': 8298, '미첬다': 8299, '쫙': 8300, '쿠데타': 8301, '아이지': 8302, '온대': 8303, '앞두다': 8304, '낙오': 8305, '질라': 8306, '서해': 8307, '잊지맙시': 8308, '도통': 8309, '대견하다': 8310, '고질라': 8311, '나비효과': 8312, '영영': 8313, '월말': 8314, '아파트': 8315, '떨어뜨리다': 8316, '난걸': 8317, '조리': 8318, '신들리다': 8319, '나용': 8320, '정역': 8321, '씬스틸러였음': 8322, '특촬물': 8323, '나타': 8324, '스카이폴': 8325, '만큼만': 8326, '빅재미': 8327, '심슨': 8328, '어이없이': 8329, '불량하다': 8330, '추세': 8331, '기적처럼': 8332, '징징거리다': 8333, '슬슬': 8334, '푸나': 8335, '졸졸': 8336, '고르이다': 8337, '크리스탈': 8338, '껏습니': 8339, '절실': 8340, '결단': 8341, '뿌시': 8342, '소굴': 8343, '숭유억불정책': 8344, '탄압': 8345, '창제': 8346, '댄싱': 8347, '옵션': 8348, 'ㅠㅠㅋㅋㅋㅋ': 8349, '치욕': 8350, '보석같다': 8351, '성폭력': 8352, '톱': 8353, '투신': 8354, '무책임': 8355, '느긋하다': 8356, '리만': 8357, '스파르탄': 8358, '찬사': 8359, '람보르기니': 8360, '그랜토리노': 8361, '그로테스크': 8362, '말소리': 8363, '녕': 8364, '손에꼽는': 8365, '물임': 8366, '거해': 8367, '퍼펙트': 8368, '영화평론가': 8369, '결혼식': 8370, '두꺼비': 8371, '트페': 8372, '루크': 8373, '팰퍼틴': 8374, '덟히는거': 8375, '닥쵸': 8376, '제스': 8377, '디게': 8378, '알뜰하다': 8379, '쏠때': 8380, '원샷': 8381, '각본가': 8382, '누부': 8383, '뜨솬다': 8384, '개떡같다': 8385, '베태': 8386, '폭력배': 8387, '눈부심': 8388, '썻는': 8389, '폭소': 8390, '준애': 8391, '백과사전': 8392, '무력': 8393, '마누라': 8394, '누란': 8395, '찜찜하다': 8396, '홀가분하다': 8397, '살더': 8398, '타용': 8399, '민주': 8400, '노총': 8401, '투쟁': 8402, '어땟을까': 8403, '추론': 8404, '색체': 8405, '괴리감': 8406, '면모': 8407, '따오다': 8408, '람사': 8409, '대수롭다': 8410, '수면': 8411, '고송': 8412, '움찔': 8413, '떡': 8414, '위노나': 8415, '라이더': 8416, '달치': 8417, '작작': 8418, '어렴풋하다': 8419, '이틀': 8420, '사면': 8421, '직격탄': 8422, '미적분': 8423, '애둘': 8424, '삭': 8425, '절용': 8426, '만용': 8427, '결백': 8428, '관철': 8429, '원아': 8430, '일일': 8431, '킹벤져스': 8432, '꽉쥐': 8433, '흔듬': 8434, '사이즈': 8435, '출동': 8436, '재밋었음': 8437, '올리비아': 8438, '헤집다': 8439, '나빠지다': 8440, '부추기다': 8441, '이태호': 8442, '오래간만': 8443, '뎃글': 8444, '치우치다': 8445, '복병': 8446, '쾌': 8447, '단편소설': 8448, '하이퍼인플레이션': 8449, '우선주': 8450, '도심': 8451, '외곽': 8452, '초고': 8453, '물가': 8454, '요행': 8455, '확행': 8456, '종속': 8457, '위성': 8458, '자초': 8459, '감시': 8460, '공권력': 8461, '소시민': 8462, '안경': 8463, '치명': 8464, '알아채다': 8465, '지림쫄깃쫄깃': 8466, '화점': 8467, '토비': 8468, '맥과이어': 8469, '편집증': 8470, '벌레': 8471, '노동자': 8472, '식비': 8473, '인제': 8474, '원통': 8475, '체력': 8476, '안락하다': 8477, '노후': 8478, '버티고': 8479, '개겨': 8480, '무릅베': 8481, '다년생': 8482, '찬양': 8483, '인구': 8484, '무임': 8485, '승차': 8486, '심심': 8487, '썅': 8488, '난국': 8489, '연설': 8490, '흐': 8491, '상한': 8492, '나비': 8493, '빙': 8494, '파멸': 8495, '지름길': 8496, '무의식': 8497, '루치': 8498, '로우': 8499, '기어': 8500, '미정': 8501, '콤': 8502, '임수정': 8503, '첨밀밀': 8504, '씌': 8505, '국공내전': 8506, '절개': 8507, '앨런': 8508, '튜링': 8509, '얘내': 8510, '적수': 8511, '이뭐병': 8512, '이창동': 8513, '종착': 8514, '간도': 8515, '문화센터': 8516, '만추': 8517, '쫓아내다': 8518, '거석': 8519, '열자': 8520, '매너리즘': 8521, '잊어버리다': 8522, '촉구': 8523, '외침': 8524, '하지맙시': 8525, '박통': 8526, '뤽베송': 8527, '니키타': 8528, '에까지': 8529, '뒷목잡다': 8530, '핀트': 8531, '갯지렁이': 8532, '시세': 8533, '전문용어': 8534, '옷벗다': 8535, '남색': 8536, '이치': 8537, '사카모토': 8538, '미스터': 8539, '로렌': 8540, '예술인': 8541, '패곤': 8542, '관리인': 8543, '유심': 8544, '고객': 8545, '종': 8546, '횡': 8547, '유도': 8548, '미띤': 8549, '열한시': 8550, '요정': 8551, '뷁': 8552, '느님': 8553, '욘두': 8554, '트집': 8555, '젖가슴': 8556, '궤변': 8557, '후벼파다': 8558, '같이나': 8559, '김상진': 8560, '연합': 8561, '표지': 8562, '일가': 8563, '어브': 8564, '뮤직': 8565, '접해': 8566, '똑바로': 8567, '해병대': 8568, '교관': 8569, '분무기': 8570, '헛돈': 8571, '오금': 8572, '물길': 8573, '까풀지다': 8574, '한가득': 8575, '타이탄': 8576, '이펙트': 8577, '유전자': 8578, '도축': 8579, '대항': 8580, '업계': 8581, '닭백숙': 8582, '비틀': 8583, '국뽕거': 8584, '방성훈': 8585, '해유': 8586, '어원': 8587, '첨가': 8588, '동양': 8589, '기왕': 8590, '썻으': 8591, '에여': 8592, '오래도록': 8593, '버닝': 8594, '고려': 8595, '라며': 8596, '어딜': 8597, '좇지': 8598, '수영': 8599, '스캇': 8600, '토로': 8601, '신비롭다': 8602, '유난히': 8603, '서글퍼지다': 8604, '맘속': 8605, '군사작전': 8606, '그른': 8607, '흐음': 8608, '멜로디': 8609, '영화광': 8610, '기트': 8611, '소수점': 8612, '회주': 8613, '한게임': 8614, '쪼렙': 8615, '꽁냥꽁': 8616, '지휘': 8617, '샤이닝': 8618, '윤여정': 8619, '신건': 8620, '도니': 8621, '콘': 8622, '페이스오프': 8623, '여느': 8624, '연배': 8625, '이이경': 8626, '정준호': 8627, '달래다': 8628, '줄곧': 8629, '월급': 8630, '동등': 8631, '진급': 8632, '쒯': 8633, '겨울': 8634, '다집': 8635, '선전': 8636, '기류': 8637, '발달': 8638, '씀': 8639, '러시아어': 8640, '전공': 8641, '총성': 8642, '맞붙다': 8643, '식칼': 8644, '설교': 8645, '표값': 8646, '독하다': 8647, '고행': 8648, '픽픽': 8649, '띄엄띄엄별': 8650, '꼽을': 8651, '용훈': 8652, '젓': 8653, '만상': 8654, '심마': 8655, '휼륭하다': 8656, '루이비통': 8657, '널린': 8658, '불가사의하다': 8659, '팬티': 8660, '인화': 8661, '인슽하': 8662, '으헝헝': 8663, '패밀리': 8664, '살해': 8665, '중국무협': 8666, '아담': 8667, '편안': 8668, '신나요': 8669, '락트롤': 8670, '호퍼': 8671, '각하': 8672, '폄훼': 8673, '쫄쫄깃': 8674, '쌩뚱맞고': 8675, '잡아당기다': 8676, '대인': 8677, '두리틀': 8678, '무얼': 8679, '눈떳을때': 8680, '불성실하다': 8681, '원동력': 8682, '유미': 8683, '천추': 8684, 'ㅂㄷㅂㄷ': 8685, '시언': 8686, '짝짝': 8687, '맴돔각': 8688, '유열': 8689, '음악앨범': 8690, '힙함': 8691, '깨끗하다': 8692, '할애비': 8693, '후다닥': 8694, '채미': 8695, '치르다': 8696, '갈색': 8697, '넹개띵': 8698, '낑기다': 8699, '피고': 8700, '눙': 8701, '지노': 8702, '치중': 8703, '아까웟다': 8704, '개쌉재밋다': 8705, '튀기다': 8706, '액티비전': 8707, '맹세코': 8708, '휘재': 8709, '재석': 8710, '삼총사': 8711, '냄비': 8712, '우르르': 8713, '기필코': 8714, '똘망똘망': 8715, '기성': 8716, '영화배급사': 8717, '수주고': 8718, '불리': 8719, '카이': 8720, '맑음': 8721, '소녀가장': 8722, '꾀': 8723, '매매': 8724, '연우': 8725, '불모': 8726, '조은지': 8727, '청년회': 8728, '밀회': 8729, '뭉': 8730, '이지혜': 8731, '앵무새': 8732, '준치': 8733, '창의성': 8734, '어긋나게': 8735, '터닝': 8736, '위법': 8737, '독서실': 8738, '장호': 8739, '황량': 8740, '통영': 8741, '스까넣음': 8742, '광신도': 8743, '상호': 8744, '있슴': 8745, '전능': 8746, '설령': 8747, '관통': 8748, '거사': 8749, '역학': 8750, '성질': 8751, '침실': 8752, '애기야': 8753, '것좀': 8754, '성희롱': 8755, '오비': 8756, '유사': 8757, '다간': 8758, '고음': 8759, '순직': 8760, '장병': 8761, '냨': 8762, '심은하': 8763, '메트로': 8764, '강호': 8765, '쿠엔티': 8766, '후예': 8767, '흉내쟁이': 8768, '후자': 8769, '금치': 8770, '에미넴': 8771, '선율': 8772, '쿠로사기': 8773, '미즈시마': 8774, '괴기': 8775, '만큼이나': 8776, '됏': 8777, '조은영': 8778, '섹시뽀짝': 8779, '으스대': 8780, '금은': 8781, '두두': 8782, '토요일': 8783, '시끄럽다': 8784, '거도': 8785, '톰벨': 8786, '게뭘': 8787, '초롱초롱': 8788, '타당': 8789, '메로나': 8790, '사오': 8791, '비누': 8792, '기모찌': 8793, '로스트': 8794, '더스트': 8795, '헌트': 8796, '성문': 8797, '제출': 8798, '석고': 8799, '대죄': 8800, '아지': 8801, '세이': 8802, '조롱': 8803, '솔져스': 8804, '음끝': 8805, '광구': 8806, '배상금': 8807, '공격': 8808, '유족': 8809, '버릇': 8810, '도용': 8811, '사의': 8812, '불치': 8813, '아디오스': 8814, '뚜뚜뚜뚜': 8815, '철두철미': 8816, '부채': 8817, '거절': 8818, '딜칠땐': 8819, '쫘악': 8820, '퍼시픽림': 8821, '차이나': 8822, '사스': 8823, '뭐시': 8824, '기세': 8825, '자문': 8826, '경솔하다': 8827, '템포': 8828, '오만하다': 8829, '무능력하다': 8830, '사시': 8831, '악덕': 8832, '만드길': 8833, '이천희': 8834, '로드': 8835, '태평하다': 8836, '승혜': 8837, '목수': 8838, '아뵤오': 8839, '구형': 8840, '누굴': 8841, '불나방': 8842, '별루': 8843, '스키': 8844, '나른하다': 8845, '블펜': 8846, '멋찜': 8847, '대량': 8848, '장제': 8849, '한지상': 8850, '잘만드': 8851, '년일': 8852, '참이슬': 8853, '빋아': 8854, '무상함': 8855, '스푼': 8856, '방탄소년단': 8857, '싸매다': 8858, '린아': 8859, '니지': 8860, '명쾌하다': 8861, '으로서는': 8862, '이순신장군': 8863, '용맹하다': 8864, '페이즈': 8865, '디딤돌': 8866, '파라': 8867, '미르': 8868, '매그니토': 8869, '영활': 8870, '보셧는': 8871, '카테고리': 8872, '다작': 8873, '눈알': 8874, '경계안스': 8875, '그겋': 8876, '긴런닝타임': 8877, '간분': 8878, '알아듣다': 8879, '일병': 8880, '간장': 8881, '잠영': 8882, '간부': 8883, '총동원': 8884, '빠뜨리다': 8885, '나올걱': 8886, '개졸': 8887, '심리전': 8888, '지급': 8889, '개새': 8890, '자전차': 8891, '유아인': 8892, '호소': 8893, '철처': 8894, '하이큐': 8895, '사쿠사': 8896, '후쿠로': 8897, '득점': 8898, '맘애': 8899, '일직': 8900, '해봣자': 8901, '노튼': 8902, '초콜릿공장': 8903, '애송이': 8904, '병원씬': 8905, '들쑥날쑥': 8906, '파란': 8907, '사로자다': 8908, '러블리': 8909, '흡연': 8910, '왜저': 8911, '한층': 8912, '여전': 8913, '어짜': 8914, '합류': 8915, '견주었': 8916, '이로써': 8917, '스르': 8918, '트라이앵글': 8919, '포': 8920, '헥터': 8921, '숨기': 8922, '사플': 8923, '펌프': 8924, '초크': 8925, '초단': 8926, '늘어서다': 8927, '세밀': 8928, '똥찬': 8929, '선샤인': 8930, '헤어스타일': 8931, '단역': 8932, '초보자': 8933, '업데이트': 8934, '차지철': 8935, '끌어내리다': 8936, '실사영화': 8937, '수뢰': 8938, '인타임': 8939, '리나': 8940, '물란': 8941, '승전': 8942, '사필귀정': 8943, '어드벤쳐': 8944, '딛다': 8945, '나아': 8946, '일환': 8947, '개전': 8948, '무색무취': 8949, '금도': 8950, '왓챠등': 8951, '수트': 8952, '비밀번호': 8953, '늦어지다': 8954, '박병': 8955, '간절하다': 8956, '미국영화': 8957, '배짱': 8958, '승인': 8959, '애국': 8960, '싸이더스': 8961, '대회': 8962, '열두': 8963, '비니': 8964, '그랑프리': 8965, '수아': 8966, '대마시': 8967, '데번셔': 8968, '연대': 8969, '돌격': 8970, '진시황제': 8971, '기한': 8972, '귀여니': 8973, '있나욤': 8974, '해원': 8975, '조한선': 8976, '혼동': 8977, '타임즈': 8978, '주간': 8979, '유독': 8980, '듯함': 8981, '은줄': 8982, '아이즈': 8983, '메카': 8984, '안드': 8985, '외화': 8986, '매겻는': 8987, '애꾸': 8988, '개콘': 8989, '메탈': 8990, '빠일것': 8991, '꿋꿋하다': 8992, '미술사': 8993, '미슐랭': 8994, '표본': 8995, '듯디테일': 8996, '활보': 8997, '고착': 8998, '총대': 8999, '유임': 9000, '닥치다': 9001, '부딪히다': 9002, '김원희': 9003, '커피': 9004, '달랑': 9005, '타브렀': 9006, '발족': 9007, '막눈': 9008, '기성세대': 9009, '배린눈': 9010, '방증임': 9011, '볼륨': 9012, '통화': 9013, '떡락해': 9014, '골목': 9015, '겁내': 9016, '쩌리': 9017, '글렀': 9018, '완존꿀잼': 9019, '콜레라': 9020, 'ㅈㅂ': 9021, '미해병': 9022, '린치': 9023, '부상': 9024, '너프': 9025, '청아': 9026, '온전': 9027, '포심': 9028, '일제사격': 9029, '기일': 9030, '로티플': 9031, '수표로': 9032, '궁': 9033, '탈환': 9034, '박력': 9035, '존윅급': 9036, '대원': 9037, '우럭': 9038, '팔딱팔딱': 9039, '년차': 9040, '지방선거': 9041, '압승': 9042, '쉬이': 9043, '이이이': 9044, '벌럼': 9045, '엔딩크레디트': 9046, '디렉팅': 9047, '탈탈': 9048, '보류': 9049, '세이모어': 9050, '호프만': 9051, '삼대': 9052, '현혹': 9053, '배겨': 9054, '희수': 9055, '븅': 9056, '였슴': 9057, '통함': 9058, '정경': 9059, '답지': 9060, '마음씨': 9061, '놨': 9062, '일본만화': 9063, '통증': 9064, '메우다': 9065, '이음': 9066, '임지연': 9067, '리하나': 9068, '진짴': 9069, '맥시': 9070, '갱단': 9071, '핵사': 9072, '타키': 9073, '개똥망': 9074, '미미하다': 9075, '팍': 9076, '잔잔': 9077, '난링구': 9078, '식초': 9079, '양화': 9080, '뽑기': 9081, '못해': 9082, '드릅': 9083, '맥콜': 9084, '여우주연상': 9085, '섹시': 9086, '쥰내': 9087, '엌': 9088, '시시하다': 9089, '삐': 9090, '린데': 9091, '감우성': 9092, '클레어': 9093, '뭐짘': 9094, '쉈': 9095, '익살': 9096, '만쩜': 9097, '임창정': 9098, '페북': 9099, '갓티븐': 9100, '세포': 9101, '그랬는데': 9102, '기선': 9103, '동려아': 9104, '뭔갈': 9105, '통속': 9106, '룰': 9107, '잠항': 9108, '플하': 9109, '백퍼': 9110, '맥퀸': 9111, '그다음': 9112, '망삘': 9113, '영화장르': 9114, '누드': 9115, '막바지': 9116, '아이피': 9117, '남정': 9118, '쏠': 9119, '엄호': 9120, '불침번': 9121, '불법체류': 9122, '조치': 9123, '선경': 9124, '지명': 9125, '되찾다': 9126, '해상전투': 9127, '이순신': 9128, '지략': 9129, '지모': 9130, '자유도': 9131, '주먹질': 9132, '촤르륵': 9133, '체취': 9134, '온기': 9135, '이내': 9136, '기다림': 9137, '차례차례': 9138, '인후': 9139, '머그': 9140, '쓸모': 9141, '씨부리다': 9142, '뚱땡이': 9143, '소릴': 9144, '유호정': 9145, '장미': 9146, '히말라야': 9147, '토막': 9148, '찌릴때': 9149, 'ㅋㄱㅋㅋ': 9150, '초한지': 9151, '훤히': 9152, '찬찬하다': 9153, '음미': 9154, '비도덕적': 9155, '인색하다': 9156, '면면': 9157, '동창': 9158, '삶일': 9159, '꿈일': 9160, '껄끄러운': 9161, '후대': 9162, '고추': 9163, '뒤틀리다': 9164, '땡땡': 9165, '치우다': 9166, '급임': 9167, '질적': 9168, '으응': 9169, 'ㅇㄱ': 9170, '장난감': 9171, '일견': 9172, '파스': 9173, '스스': 9174, '텔레포트': 9175, '야채': 9176, '또첨': 9177, '야심': 9178, '지끈': 9179, '거릴': 9180, '몽환': 9181, '맹목': 9182, '집행': 9183, '댜': 9184, '잠입': 9185, '레이디스': 9186, '신중하다': 9187, '수당': 9188, '청문회': 9189, '쾌락': 9190, '북해도': 9191, '아른거리다': 9192, '트랩': 9193, '생명력': 9194, '리플': 9195, '하루키': 9196, '알알이': 9197, '연결고리': 9198, '인과관계': 9199, '무신': 9200, '찰스': 9201, '맨슨': 9202, '샤론': 9203, '데이즈': 9204, '브레드': 9205, '히치하이커': 9206, '수석': 9207, '홀리': 9208, '쉿': 9209, '읍': 9210, '우애': 9211, '소수만': 9212, '더군다나': 9213, '타잔': 9214, '뱡': 9215, '개뿜었다': 9216, '저작권': 9217, '디럭스': 9218, '내버리다': 9219, '저변': 9220, '사리': 9221, '싸움씬': 9222, '꼴깞들': 9223, '느그': 9224, '쪼금': 9225, '준열씌': 9226, '종결': 9227, '하드디스크': 9228, '리벤지': 9229, '귀퉁이': 9230, '점정': 9231, '콜': 9232, '랄것': 9233, '무력감': 9234, '나이스': 9235, '투밋추': 9236, '려니': 9237, '철중': 9238, '나짱': 9239, '웅캬캬뾰': 9240, '그레타': 9241, '거윅': 9242, '선입견들': 9243, '무뎌': 9244, '이리저리': 9245, '배고프다': 9246, '사이버': 9247, '짜파게티': 9248, '중파': 9249, '랜션': 9250, '통제': 9251, '장대': 9252, '경주': 9253, '능': 9254, '살곸': 9255, '벨붕': 9256, '속물': 9257, '가스총': 9258, '뽐뿌': 9259, '질옴': 9260, 'ㅣㅆ': 9261, '블로그': 9262, '최윤영': 9263, '정연': 9264, '전시작전권': 9265, '국회의원': 9266, '연봉': 9267, '투탑': 9268, '만년': 9269, '슬로우모션': 9270, '스나이더': 9271, '회전목마': 9272, '빈곤하다': 9273, '웹소설': 9274, '저학년': 9275, '개요': 9276, '이석형': 9277, '제인': 9278, '낮술': 9279, '만듬새': 9280, '리액션': 9281, '납치사건': 9282, '살육': 9283, '무성': 9284, '인형극': 9285, '어불성설': 9286, '식당': 9287, '셜리': 9288, '용무': 9289, '네이비씰': 9290, '레인저': 9291, '연한': 9292, '절감': 9293, '집의': 9294, '소박': 9295, '사유': 9296, '폐닭': 9297, '살인범이다': 9298, '러브레터': 9299, '핑': 9300, '공직자': 9301, '다섯손가락': 9302, '아닠': 9303, '어쩌란거': 9304, '웟단': 9305, '고마웟': 9306, '봉사': 9307, '헀으': 9308, '가위': 9309, '슈카': 9310, '리만브라더스': 9311, '처넌': 9312, '리얼스틸': 9313, '코끼리': 9314, '쌀쌀': 9315, '기장면': 9316, '낭송': 9317, '시집': 9318, '라곤': 9319, '호박고구마': 9320, '박서준': 9321, '육수': 9322, '폐기': 9323, '중이병': 9324, '뽀록나다': 9325, '간섭': 9326, '짬밥': 9327, '의연': 9328, '악보': 9329, '드러머': 9330, '드럼': 9331, '수재': 9332, '넌덜': 9333, '로마시대': 9334, '잔인성': 9335, '칠월': 9336, '어머님': 9337, '압수': 9338, 'ㄴㅈ': 9339, '내적댄스': 9340, '빙판': 9341, '노출씬': 9342, '양상': 9343, '주샨': 9344, '유일': 9345, '벨기에': 9346, '이탈리아': 9347, '덕택': 9348, '내전': 9349, '짠물': 9350, '노틀담': 9351, '모금': 9352, '꼬락서니': 9353, '범주': 9354, '해난사고': 9355, '불친철함': 9356, '로랑': 9357, '박탈': 9358, '똥꾸': 9359, '윤종빈': 9360, '마려운': 9361, '수혜자': 9362, '누지': 9363, '목사': 9364, '무었': 9365, '택할까': 9366, '지니다': 9367, '존속': 9368, '좇는다': 9369, 'ㅠㅠㅜㅠ': 9370, '학원물': 9371, '당첨': 9372, '미스틱': 9373, '둥': 9374, '길가메시': 9375, '팼다구': 9376, '감자칩': 9377, '억배': 9378, '말랑말랑': 9379, '쫄깃쫄깃해': 9380, '지영': 9381, '혈세': 9382, '깜빡': 9383, '뭐합': 9384, '방대하다': 9385, '군번': 9386, '편지': 9387, '군가': 9388, '선임': 9389, '관등': 9390, '성명': 9391, '내무': 9392, '사열': 9393, '중대': 9394, '설문조사': 9395, '중대장': 9396, '쫄지마': 9397, '캠프': 9398, '평일': 9399, '동윤': 9400, '연재': 9401, '앜': 9402, '반올림': 9403, '후쿠시': 9404, '소우': 9405, '여론': 9406, '관해': 9407, '알리바이': 9408, '자작': 9409, '오분': 9410, '대진': 9411, '가물가물': 9412, '흡': 9413, '외쿡인': 9414, '재밋게봄': 9415, '태연하다': 9416, '박명수': 9417, '어록': 9418, '띨빵하': 9419, '도배': 9420, '다발': 9421, '멍충': 9422, '읊는': 9423, '대체로': 9424, '칠면조': 9425, '기로': 9426, '송하윤': 9427, '거덜날': 9428, '프라이버시': 9429, '성형': 9430, '쓸리다': 9431, '터들': 9432, '정립': 9433, '버무릴': 9434, '콩트': 9435, '돌변': 9436, '루키들': 9437, '윌리웡카': 9438, '불화': 9439, '화해': 9440, '중때': 9441, '표주': 9442, '양대': 9443, '산맥': 9444, '스크림': 9445, '카니발': 9446, '듯년': 9447, '번지르르하다': 9448, '언플': 9449, '어두워지다': 9450, '이인': 9451, '문근영': 9452, '재아': 9453, '민공': 9454, '이따금': 9455, '유주': 9456, '게일': 9457, '세븐': 9458, '아픅거': 9459, '굶다': 9460, '비걸': 9461, '시월드': 9462, '전자': 9463, '사전투표': 9464, '문세광': 9465, '오해해': 9466, '휴먼': 9467, '딩클스': 9468, '술집': 9469, '화거': 9470, '샘물': 9471, '아난다': 9472, '관좀': 9473, '불평': 9474, '전체주의': 9475, '갑옷': 9476, '꼭두각시': 9477, '덤벼': 9478, '코치': 9479, '선물거래': 9480, '산화': 9481, '학습': 9482, '왼쪽': 9483, '점퍼': 9484, '미러링': 9485, '기색': 9486, '충의': 9487, '개화': 9488, '세용': 9489, '능가': 9490, '둣': 9491, '파장': 9492, '대군': 9493, 'ㅋㄹㄴ': 9494, '교류': 9495, '참조': 9496, '암스테르담': 9497, '라라비': 9498, '꺄악왜케': 9499, '티키딤': 9500, '지성': 9501, '개혁': 9502, '고급스럽다': 9503, '자유분방하다': 9504, '레몬': 9505, '사탕': 9506, '일말': 9507, '침식': 9508, '뿜었다': 9509, '레베럽': 9510, '어우르다': 9511, '포카': 9512, '예뽀': 9513, '역주행': 9514, '모델': 9515, '확인가능': 9516, '쫄깃할': 9517, '내공': 9518, '요술': 9519, '밋다재밋다재밋': 9520, '말루다': 9521, '턱': 9522, '찬합': 9523, '무궁무진': 9524, '베': 9525, '요청': 9526, '꿀잼햄': 9527, '닌자': 9528, '숨바꼭질': 9529, '여자라서': 9530, '음주운전': 9531, '슈퍼히어로': 9532, '통째': 9533, '섭취': 9534, '타코야끼': 9535, '럽': 9536, '계단': 9537, '햇볕': 9538, '쬐다': 9539, '넷플용': 9540, '스티브': 9541, '장성': 9542, '근접촬영': 9543, '치이다': 9544, '프랑수아': 9545, '시빌': 9546, '토이스토리': 9547, '망토': 9548, '쥐어박다': 9549, '똑같이': 9550, '적함': 9551, '서비스': 9552, '비호': 9553, '꼬꼬': 9554, '군데군데': 9555, '전만': 9556, '권한': 9557, '암치료': 9558, '할껄': 9559, '우매': 9560, '오라클': 9561, '할망구': 9562, '경향': 9563, '여제': 9564, '해밀턴': 9565, '강남': 9566, '빠순이': 9567, '기고': 9568, '리얼리즘': 9569, '주둔': 9570, '물품': 9571, '물자': 9572, '경제성': 9573, '치졸하다': 9574, '스시': 9575, '일본여행': 9576, '본연': 9577, '설킨건': 9578, '쫄리는듯': 9579, '코앞': 9580, '개검': 9581, '흙': 9582, '꼬으는데': 9583, '트위스트': 9584, '꽈배기': 9585, '연변': 9586, '다는데': 9587, '쿨하다': 9588, '조페국': 9589, '턴다면': 9590, '값어치': 9591, '폐국': 9592, '학문': 9593, '박혜수': 9594, '라파스': 9595, '정수': 9596, '환풍기': 9597, '추앙': 9598, '블러디': 9599, '조로': 9600, '힘차다': 9601, '에릭': 9602, '사티': 9603, '재밋다': 9604, '퇴색': 9605, '음울하다': 9606, '콜맨': 9607, '블루베리': 9608, '창피해': 9609, '재생': 9610, '야수': 9611, '망삘나': 9612, '가치판단': 9613, '개돼지': 9614, '들끓다': 9615, '평작': 9616, '콕': 9617, '업업': 9618, '요드': 9619, '여학생': 9620, '활자': 9621, '상언': 9622, '재연': 9623, '여자도': 9624, '고안': 9625, '캣는데': 9626, '가람': 9627, '구절': 9628, '하드보일드': 9629, '바임': 9630, '파크라이': 9631, '갖': 9632, '옹박': 9633, '건네다': 9634, '언덕': 9635, '에로드': 9636, '라마': 9637, '해답': 9638, '마귀': 9639, '모노노케': 9640, '가라앉다': 9641, '앗': 9642, '른': 9643, '부쩍': 9644, '힘쓰다': 9645, '사례': 9646, '개폭망': 9647, '토네이도': 9648, '자이로드롭': 9649, '마련': 9650, '흥얼': 9651, '무리수': 9652, '식음': 9653, 'ㅆㅑㅇㄴ': 9654, '통합': 9655, '예기': 9656, '알아내다': 9657, '바램': 9658, '젛문': 9659, '가바': 9660, '차카': 9661, '게살': 9662, '말기': 9663, '임박': 9664, '딜량': 9665, '격하': 9666, '직관': 9667, '절때': 9668, '초도': 9669, '푸른빛': 9670, '반백': 9671, '맥도먼드': 9672, '쉐이프': 9673, '워터': 9674, '텐텐': 9675, '텐': 9676, '벌렁벌렁': 9677, '켜': 9678, '심힌': 9679, '출산': 9680, '중인': 9681, '불문': 9682, '스나이퍼': 9683, '까짘': 9684, '존윅같': 9685, '잘봤슴돠': 9686, '사실관계': 9687, '별다르다': 9688, '초적': 9689, '질시': 9690, '약점': 9691, '옵니다': 9692, '개존잼': 9693, '블랭키': 9694, '케이프': 9695, '숙이다': 9696, '어쩌나': 9697, '나무아미타불': 9698, '관세음보살': 9699, '이오': 9700, '아토': 9701, '믹': 9702, '블론드': 9703, '래드핏': 9704, '먹듯': 9705, '의욕': 9706, '우디': 9707, '개똥이': 9708, '헤매다': 9709, '눌린': 9710, '자빠빈건': 9711, '호갱짓': 9712, '시켯으': 9713, '잊어얄듯': 9714, '천하다': 9715, '성현': 9716, '애답': 9717, '시월애': 9718, '속출': 9719, '똥찌': 9720, '만리': 9721, '깜둥이': 9722, '읊': 9723, '황금곰상': 9724, '심해지다': 9725, '항문': 9726, '경련': 9727, '괴롭히다': 9728, '졋': 9729, '김대중': 9730, '기름': 9731, '타이어': 9732, '번호판': 9733, '마왕': 9734, '이리샤': 9735, '난자': 9736, '니나': 9737, '반짝반짝하다': 9738, '한개': 9739, '파쇄기': 9740, '갈아': 9741, '백만': 9742, '걸벤져스': 9743, '툐': 9744, '그리드': 9745, '버그': 9746, '오래전': 9747, '화기': 9748, '중시': 9749, '정은채': 9750, '꼬았으': 9751, '용가리': 9752, '모조리': 9753, '빰빰빰': 9754, '유역비': 9755, '코메디': 9756, '역행': 9757, '갱년기': 9758, '화병': 9759, '평온': 9760, '지린다': 9761, '지창욱': 9762, '첨봣는': 9763, '거두다': 9764, '생생': 9765, '개쌈': 9766, '시설': 9767, '최상인': 9768, '배꼽': 9769, '서강준': 9770, '남주혁': 9771, '걷어차다': 9772, '데니': 9773, '공동체': 9774, '청순하다': 9775, '배우자': 9776, 'ㅜㅡㅡ': 9777, '액': 9778, '제도': 9779, '집콕': 9780, '알짝': 9781, '엠버': 9782, '허드': 9783, '히프': 9784, '유신정권': 9785, '집회': 9786, '땅크': 9787, '시그널': 9788, '보화': 9789, '업그레이드': 9790, '존내': 9791, '루지': 9792, '코리안': 9793, '프리미엄': 9794, '퉤퉷': 9795, '장편': 9796, '뇨': 9797, '서인': 9798, '케이티홈즈': 9799, '재능기부': 9800, '쵸': 9801, 'ㄱㅅ': 9802, '업햄': 9803, '속뜻': 9804, '모글': 9805, '라빈': 9806, '추정': 9807, '팬텀': 9808, 'ㅜㅁㅠ': 9809, '찍지마라': 9810, '위산': 9811, '역류': 9812, '부라': 9813, '이본': 9814, '쟈미': 9815, '음중': 9816, '초등': 9817, '쾌감': 9818, '미쳣다': 9819, '나돌다': 9820, '고속': 9821, '마무': 9822, '호의': 9823, '엽떡': 9824, '부쳣': 9825, '햇습': 9826, '로란': 9827, '스틸러': 9828, '심쿵': 9829, '캐치': 9830, '투명인간': 9831, '아마존': 9832, '네네': 9833, '보살': 9834, '낙태': 9835, '엇음': 9836, '독립운동': 9837, '일제': 9838, '순응': 9839, '평택': 9840, '주차': 9841, '메가박스': 9842, '뻘뻘': 9843, '구장': 9844, '오드': 9845, '왜왜': 9846, '희': 9847, '츄': 9848, '콩': 9849, '변형': 9850, '마술': 9851, '앤딩': 9852, '일분': 9853, '호해': 9854, '만만': 9855, '셐': 9856, '철폐': 9857, '타도': 9858, 'ㅡㅜ': 9859, '임도': 9860, '육중': 9861, '밋었': 9862, '던걸': 9863, '까불다': 9864, '반값': 9865, '삐었나봐': 9866, '자선단체': 9867, '미국군': 9868, '툴리역': 9869, '켄지': 9870, '방문': 9871, '꼬치꼬치': 9872, '바리': 9873, '깍이다': 9874, '라이플': 9875, '인플레': 9876, '해안': 9877, '고다': 9878, '정모': 9879, '장보원': 9880, '제공': 9881, '총명하다': 9882, '눈동자': 9883, '욧': 9884, '고여': 9885, '코만도': 9886, '꼰대들땜': 9887, '악플러': 9888, '불한당': 9889, '명확': 9890, '비대': 9891, '넷플영화': 9892, '진연희': 9893, '초조하다': 9894, '비꼬기': 9895, '고위': 9896, '이영환': 9897, '영홥니': 9898, '소마': 9899, '계몽운동': 9900, '저서': 9901, '할리': 9902, '향기': 9903, '인가가': 9904, '불매운동': 9905, '이지무': 9906, '숨보': 9907, '자밌': 9908, '낮누': 9909, '선지': 9910, '못생겻': 9911, '상겻': 9912, '밀당': 9913, '버무러진': 9914, '입틀막함': 9915, '금융인': 9916, '닷컴버블': 9917, '서브프라임': 9918, '쥐뿔': 9919, '부스러기': 9920, '코웃음': 9921, '뚝방전설': 9922, '탄식': 9923, '레이드': 9924, '랏': 9925, '개쫄리': 9926, '아베': 9927, '트맨': 9928, '고담': 9929, '미비': 9930, '포유': 9931, '최우': 9932, '선적': 9933, '탠': 9934, '왕창': 9935, '쉽쥬': 9936, '피칠갑': 9937, '카우보이': 9938, '추악': 9939, '플래쉬몹': 9940, '꾸리다': 9941, '돈벌이': 9942, '눈시울': 9943, '조카': 9944, '거르는': 9945, '국룰': 9946, '본얼티메이텀': 9947, '뺨침': 9948, '할갑다': 9949, '흐미': 9950, '고소공포증': 9951, '똥줄': 9952, '소풍': 9953, '운전자': 9954, '기둥': 9955, '장전': 9956, '갈겨': 9957, '헉헉': 9958, '부고': 9959, '불리하다': 9960, '일어나고': 9961, '판단력': 9962, '중핵교': 9963, '쏠리다': 9964, '어쩌구': 9965, '무방비': 9966, '이글이글': 9967, '거려': 9968, '정비': 9969, '거늘': 9970, '흔들다': 9971, '얄개': 9972, '한인': 9973, '개싸움': 9974, '무보수': 9975, '러브': 9976, '장진영': 9977, '영화음악': 9978, '뮤직비디오': 9979, '확임함': 9980, '대청제국': 9981, '군벌': 9982, '공산': 9983, '귀뚜라미': 9984, '세분': 9985, '슬쩍': 9986, '했더랬는데': 9987, '머뭇거리다': 9988, '호러물': 9989, '이해력': 9990, '워킹데드': 9991, '일주일': 9992, '둠칫둠칫둠칫둠칫': 9993, '유분수': 9994, '갈팡질팡': 9995, '똥덩어리': 9996, '걸스': 9997, '캔두': 9998, '김순자': 9999, '면전': 10000, '발언권': 10001, '내분비계': 10002, '슈팅': 10003, '프롬': 10004, '홈': 10005, '찜': 10006, '남도': 10007, '눈쌀': 10008, '쭈욱': 10009, '탁하다': 10010, '궁금': 10011, '섕각': 10012, '네스': 10013, '암기': 10014, '클로이': 10015, '쏜다': 10016, '오멘': 10017, '짚다': 10018, '서클': 10019, '계열': 10020, '제이크': 10021, '질렌할': 10022, '죽여주다': 10023, '스태프': 10024, '경제위기': 10025, '올드팬': 10026, '목마름': 10027, '채드웍': 10028, '불렛': 10029, '피조': 10030, '모니카': 10031, '벨루치': 10032, '요다음': 10033, '나왓으': 10034, '짱짱하다': 10035, '일곱': 10036, '법성': 10037, '폭행': 10038, '솜방망이': 10039, '남상미': 10040, '웬수': 10041, '시드': 10042, '슬으슨리시뷰슈': 10043, '라사': 10044, '혀셤': 10045, '피시방': 10046, '차도': 10047, '운전': 10048, '신데렐라': 10049, '우기': 10050, '쿨타임': 10051, '돌때': 10052, '위원회': 10053, '불명': 10054, '세금': 10055, '삥땅': 10056, '날수': 10057, '악수': 10058, '비툴': 10059, '어진': 10060, '타케루': 10061, '무표정': 10062, '안비': 10063, '비고': 10064, '비디오테잎': 10065, '동식물': 10066, '소니': 10067, '픽쳐스': 10068, '구만': 10069, '족발': 10070, '구기다': 10071, '얼땡': 10072, '보균자': 10073, '헬기': 10074, '드가': 10075, '와킨': 10076, '증오': 10077, '민좆': 10078, '정겨운': 10079, '이재용': 10080, '롭': 10081, '전무후무': 10082, '쌈': 10083, '팝컴': 10084, '앨범': 10085, '귀환': 10086, '심폐소생술': 10087, '어쩌고해': 10088, '스마트': 10089, '분홍': 10090, '빨강': 10091, '까뜨린느': 10092, '드뇌브': 10093, '축하': 10094, '조성아': 10095, '만지다': 10096, '기용': 10097, '원주고': 10098, '안구': 10099, '상환': 10100, '크롤': 10101, '스포트라이트': 10102, '장영': 10103, '실역': 10104, '평범': 10105, '명나라': 10106, '사대': 10107, '빈정': 10108, '육': 10109, '정중': 10110, '농도': 10111, '뛰어다니다': 10112, '빗나가다': 10113, '알못': 10114, '소은': 10115, '실직': 10116, '아물다': 10117, '흉터': 10118, '에서부터': 10119, '콩깍지': 10120, '씌어': 10121, '삔': 10122, '기점': 10123, '글쎄요': 10124, '일로': 10125, '못마땅하다': 10126, '난젛': 10127, '명연': 10128, '미국빠': 10129, '현란하다': 10130, '다이나믹': 10131, '러시안룰렛': 10132, '문도': 10133, '쇼킹': 10134, '사격씬': 10135, '울트라': 10136, '국회의원선거': 10137, '제기': 10138, '의결': 10139, '놀래기': 10140, '수동': 10141, '오도': 10142, '고번': 10143, '정자': 10144, '김구라': 10145, '김우식': 10146, '긍적적': 10147, '마커': 10148, '람다': 10149, '땔수': 10150, '백윤식': 10151, '재희': 10152, '순환': 10153, '맑다': 10154, '기독교인': 10155, '안내상': 10156, '고마치': 10157, '손버릇': 10158, '각심': 10159, '개쫄림': 10160, '개볼': 10161, '좇': 10162, '신대륙': 10163, '파이어로': 10164, '블랙호크': 10165, '매사': 10166, '라라라': 10167, '단조롭다': 10168, '컨데': 10169, '유출': 10170, '노비': 10171, '비애': 10172, '개체': 10173, '안대': 10174, '신민아': 10175, '띨빵': 10176, '운빨': 10177, '보이시': 10178, '빼어나다': 10179, '콘텐츠': 10180, '초라하다': 10181, '비탄': 10182, '밀덕': 10183, '너넨': 10184, '곸': 10185, '꿀잼작': 10186, '난감하다': 10187, '이상철': 10188, '불분명': 10189, '이등병': 10190, '다다다': 10191, '았음': 10192, '매끈하다': 10193, '뻐덕뻐': 10194, '출품': 10195, '어정쩡하다': 10196, '캡쳐': 10197, '마흔': 10198, '문화생활': 10199, '아이언하이드': 10200, '흡족하다': 10201, '이유진': 10202, '넋': 10203, '화물': 10204, '엉킨': 10205, '방석': 10206, '사마': 10207, '룬': 10208, '어울림': 10209, '하사': 10210, '허드슨': 10211, '부기': 10212, '젠비': 10213, '하차': 10214, '로저': 10215, '쭈구리': 10216, '땀날': 10217, '티라노': 10218, '설상가상': 10219, '낙원': 10220, '깊숙하다': 10221, '호너': 10222, '역경': 10223, '협동': 10224, '자지': 10225, '햇님': 10226, '먹방': 10227, '노이즈': 10228, '넥타이': 10229, '소신': 10230, '걸음': 10231, '개활지': 10232, '놀랏어': 10233, '하물며': 10234, '사슬': 10235, '두시': 10236, '데코': 10237, '로나': 10238, '컨티뉴': 10239, '숏': 10240, '자락': 10241, '말미': 10242, '봄비': 10243, '가차': 10244, '한영': 10245, '강박': 10246, '징애': 10247, '완치': 10248, '임자': 10249, '유부': 10250, '검술': 10251, '액숀': 10252, '이라기보다는': 10253, '강백호': 10254, '겅하': 10255, '소율': 10256, '기꺼이': 10257, '유연석': 10258, '별점왤케': 10259, '식다': 10260, '택했': 10261, '타투': 10262, '피어싱': 10263, '왕실': 10264, '다감': 10265, 'ㅌㅋ': 10266, '백인호': 10267, '설다': 10268, '인하': 10269, '머리색': 10270, '딴': 10271, '짓함': 10272, '텀블러': 10273, '레트로': 10274, '곡선': 10275, '배트': 10276, '모빌': 10277, '아려': 10278, '키시': 10279, '유키': 10280, '쪼끄만데': 10281, '빨래': 10282, '헬렌': 10283, '설리반': 10284, '인도판': 10285, '상속': 10286, '미처': 10287, '관문': 10288, '불씨': 10289, '잉태': 10290, '신성하다': 10291, '성스럽다': 10292, '뚫어지다': 10293, '기진': 10294, '존잼존잼': 10295, '벼르다': 10296, '더봄': 10297, '퇴폐': 10298, '보탬': 10299, '전지': 10300, '당사자': 10301, '워치': 10302, '보컬': 10303, '결판': 10304, '아유': 10305, 'ㅜㅅ': 10306, '빠앗다': 10307, '외계행성': 10308, '행성': 10309, '헬멧': 10310, '뒷산': 10311, '등산': 10312, '세고': 10313, '저건': 10314, '우연이': 10315, '배상': 10316, '이규형': 10317, '몬만': 10318, '자씨': 10319, '갯벌': 10320, '무조': 10321, '트와이스': 10322, '재밋었을까': 10323, '결핍': 10324, '마일': 10325, '최성은': 10326, '마리화나': 10327, '계산기': 10328, '용해': 10329, '핵탄두': 10330, '기타등등': 10331, '귀로': 10332, '탐지': 10333, '닦달': 10334, '이분': 10335, '꼼짝': 10336, '데넘': 10337, '개구리': 10338, '숙면': 10339, '신비': 10340, '같음둠칫둠칫': 10341, '이난': 10342, 'ㅋㅋㅎ': 10343, '하향': 10344, 'ㅏㄹ': 10345, '적재적소': 10346, '자리다': 10347, '깽깽': 10348, '갈매기': 10349, '읍내': 10350, '유리동물원': 10351, '사천': 10352, '선인': 10353, '비굴하다': 10354, '였음': 10355, '줄러': 10356, '접영': 10357, '월날': 10358, '놀수': 10359, '검토': 10360, '바텐더': 10361, '바랬을까그': 10362, '어도': 10363, '요가': 10364, '초때': 10365, '와이어': 10366, '려원': 10367, '바로바로': 10368, '솓구쳤어': 10369, '몹쓸': 10370, '봉화': 10371, '가보리': 10372, '광대버섯': 10373, '마구마구': 10374, '이졔': 10375, '정은경': 10376, '장선': 10377, '다리씬': 10378, '컨테이전': 10379, '이따윈': 10380, '뻥튀기': 10381, '기득권': 10382, '주머니': 10383, '출금': 10384, '굽신굽신': 10385, '별수': 10386, '빚갑': 10387, '한솓밥': 10388, '여의도': 10389, '빌붙다': 10390, '용의': 10391, '설계': 10392, '애잔하다': 10393, '왜냐면': 10394, '오물': 10395, '그레이': 10396, '더볼': 10397, '프레이저': 10398, '뺨칠': 10399, '주의자': 10400, '아이언': 10401, '자이언트': 10402, '주책': 10403, '어째서': 10404, '거보': 10405, '복판': 10406, '탄창': 10407, '임개': 10408, '눈꼽만치': 10409, '년판': 10410, '진땀': 10411, '테크': 10412, '전세': 10413, '이민': 10414, '소용없다': 10415, '만천원': 10416, '물풍선': 10417, '네요': 10418, '개낚였네이': 10419, '갤런': 10420, '대딩': 10421, '뉘집': 10422, '껄껄': 10423, '내비': 10424, '촴': 10425, '칼춤': 10426, '부도수표': 10427, '대숲': 10428, '정숙': 10429, '군모': 10430, '질린다': 10431, '서극': 10432, '국영': 10433, '좋다잉': 10434, '대목': 10435, '릿': 10436, '각목': 10437, '조선로동당': 10438, '노동': 10439, '용역': 10440, '외부': 10441, '좆망': 10442, '넷플로봐': 10443, '특명': 10444, '어벤저': 10445, '오사원': 10446, '콩닥콩닥': 10447, '가산': 10448, '주루룩': 10449, 'ㅋㅋㄱㅋ': 10450, '사기영화': 10451, '원조': 10452, '고퀼': 10453, '오합지졸': 10454, '중화권': 10455, '서점': 10456, '일동': 10457, '헤르페스': 10458, '초년': 10459, '생도': 10460, '그리스': 10461, '로마신화': 10462, '팔다': 10463, '일렬': 10464, '빠따질': 10465, '느낌표': 10466, '박성웅': 10467, '이수민': 10468, '얼탱': 10469, '웟': 10470, '옥자': 10471, '지하공간': 10472, '꽃남': 10473, '중박': 10474, '옵티머스프라임': 10475, '존멋': 10476, '베트맨': 10477, '준걸': 10478, '대부': 10479, '밌': 10480, '견': 10481, '주어': 10482, '노멀': 10483, '저택': 10484, '특이': 10485, '리조': 10486, '사녹': 10487, '맵': 10488, '갓플릭스': 10489, '자비롭다': 10490, '델고와': 10491, '이사회': 10492, '임진왜란': 10493, '정유재란': 10494, '징비록': 10495, '만큼도': 10496, '상당': 10497, '좌좀': 10498, '홍어': 10499, '무명시절': 10500, '이로': 10501, '떡볶이': 10502, '굽다': 10503, '감사히': 10504, '서재': 10505, '밋엇어': 10506, '마침': 10507, '안목': 10508, '뭍힐': 10509, '잡아가다': 10510, '지평': 10511, '넓히다': 10512, 'ㅜㅜㅠㅠ': 10513, '지우개': 10514, '마녀사냥': 10515, '예나': 10516, '토착': 10517, '쫄린건': 10518, '막심': 10519, '마는': 10520, '주님': 10521, '디파티드': 10522, '개꿀딱꿀재므': 10523, '편차': 10524, '히로': 10525, '엮었다': 10526, '배틀씬': 10527, '흐믓했': 10528, '진껀': 10529, '수민': 10530, '보니하니': 10531, '밀러': 10532, '장려': 10533, '박희순': 10534, '특화된': 10535, '통탄': 10536, '없음왜케': 10537, '치인': 10538, '외장하드': 10539, '범위': 10540, '여동생': 10541, '간신': 10542, '섹': 10543, '오차': 10544, '임점': 10545, '두목': 10546, '마담류': 10547, '홀': 10548, '악녀': 10549, '호혜중': 10550, '점좀': 10551, '초등생': 10552, '요미': 10553, '낙담': 10554, '체코': 10555, '판박이': 10556, '최종병기': 10557, '야만': 10558, '사진첩': 10559, '넷플호갱': 10560, '얌': 10561, '기념비': 10562, '여생': 10563, '만능': 10564, '꿈결': 10565, '평남': 10566, '짬': 10567, '힛트했': 10568, '황상': 10569, '굿굿굿굿굿굿': 10570, '으러': 10571, '지젤': 10572, '쇼핑': 10573, '첫등장': 10574, '플랙스': 10575, '이듬': 10576, '야동': 10577, '사색': 10578, '다가가다': 10579, '듬볼': 10580, '염치': 10581, '개슬펏다': 10582, '에게의': 10583, '미련': 10584, '핑거스냅': 10585, '수사물': 10586, '주류': 10587, 'ㅠㅠㅜ': 10588, '심취': 10589, '정봉': 10590, '자타공인': 10591, '뚜껑': 10592, '발롬': 10593, '겜': 10594, '가용': 10595, '태블릿': 10596, '비행선': 10597, '전투복': 10598, '포터': 10599, '개티즌들': 10600, '군필': 10601, '전신': 10602, '미터': 10603, '야기도': 10604, '올려놓다': 10605, '출구': 10606, '유기물질': 10607, '순전하다': 10608, '문외한': 10609, '쏙쏙빼박': 10610, '추출': 10611, '합리': 10612, '솔직': 10613, '단역배우': 10614, '모바일': 10615, '아메리카': 10616, '김희선': 10617, '전면': 10618, '김현주': 10619, '아이엠': 10620, '제겐': 10621, '미쳣따': 10622, '서운하다': 10623, '에어팟': 10624, '경보': 10625, '수거': 10626, '줏': 10627, '즉시': 10628, 'ㅎㅎㅋㅋ': 10629, '지절': 10630, '더블': 10631, '탭': 10632, '데이비': 10633, '존스': 10634, '샘때': 10635, '물롱': 10636, '견줄만함근': 10637, '차이나다': 10638, '뉴트로': 10639, '워드': 10640, '마라톤': 10641, '익히다': 10642, '딱딱하다': 10643, '재의': 10644, '따분하다': 10645, '미제': 10646, '평화롭다': 10647, '탄도': 10648, '장단점': 10649, '도살': 10650, '톰과춤': 10651, '어장': 10652, '갓띵작': 10653, '평가절하': 10654, '하씨': 10655, '유일신': 10656, '지저분하다': 10657, '악질': 10658, '묵비권': 10659, '쿠니': 10660, '유형': 10661, '치사하다': 10662, '종파': 10663, '어부지리': 10664, '에게만': 10665, '간판': 10666, '하느님': 10667, '피토': 10668, '수상': 10669, 'ㅉㄲ': 10670, '틀어막다': 10671, '어둑하다': 10672, '반창꼬': 10673, '정진영': 10674, '양동근': 10675, '물씬': 10676, '바바': 10677, '퓨전': 10678, '기인': 10679, '개엽겹누': 10680, '싸잡다': 10681, '쥬': 10682, '고퀄리티곸': 10683, '통수': 10684, '말끔히': 10685, '거림': 10686, '아이돌스타': 10687, '싸이': 10688, '따라잡다': 10689, '향후': 10690, '판별': 10691, '부잣집': 10692, 'ㅣㅇ': 10693, '여과': 10694, '발랄하다': 10695, '지성인': 10696, '품격': 10697, '은수': 10698, '탈피': 10699, '래드클리프': 10700, '발산': 10701, '텅빈': 10702, '간간히': 10703, '편의점': 10704, '좃': 10705, '앙심': 10706, '트바': 10707, '로티': 10708, '모루': 10709, '수듄': 10710, '소림축구': 10711, '토니': 10712, '덴젤': 10713, '워싱턴': 10714, '아우라': 10715, '후광': 10716, '뿜어져': 10717, '썰리다': 10718, '절벽': 10719, '대갈': 10720, '실제식': 10721, '강한사': 10722, '람': 10723, '쇠': 10724, '쪼가리': 10725, '퉁': 10726, '러하': 10727, '둠칫둠칫': 10728, '롹': 10729, '영자': 10730, '선점': 10731, '퍼줄때': 10732, '건수': 10733, '문채원': 10734, '수줍다': 10735, '신라': 10736, '총선': 10737, '총사': 10738, 'ㅠㅜㅠㅠ': 10739, '끄덕이다': 10740, '의성': 10741, '박자': 10742, '절묘하다': 10743, '군중심리': 10744, '즐비하다': 10745, '드리스': 10746, '룸메이트': 10747, '슴가': 10748, '저주': 10749, '강화': 10750, '위압': 10751, '재화': 10752, '돈셜': 10753, '리박사': 10754, '흐트러짐없는': 10755, '언행': 10756, '시멘트': 10757, '컬쳐쇼크': 10758, '허쉬': 10759, '이또': 10760, '봣거든': 10761, '재밋엇어': 10762, '곧다': 10763, '저력': 10764, '씬들': 10765, '일관': 10766, '수식어': 10767, '생전': 10768, '내쫓다': 10769, '바람결': 10770, '달이다': 10771, '생으로': 10772, '무지개다리': 10773, '건너다': 10774, '대머리': 10775, '셔츠': 10776, '면회': 10777, '외박': 10778, '인터스텔라': 10779, '구성요소': 10780, '갑갑하다': 10781, '카메론디아즈': 10782, '사법고시': 10783, '쇼생': 10784, '부르짖다': 10785, '성찬': 10786, '온건': 10787, '중얼거리다': 10788, '라이트급': 10789, 'ㄹㅔ': 10790, '연태': 10791, '하므다': 10792, '자부심': 10793, '데크': 10794, '세뇌': 10795, '방관': 10796, '구경꾼': 10797, '수단': 10798, '컨드': 10799, '영문': 10800, '한국어': 10801, '아버님': 10802, '시스': 10803, '교도': 10804, '초대형': 10805, '맹활약': 10806, '말고도': 10807, '대우': 10808, '심박수': 10809, '뿌': 10810, '개줫': 10811, '벙째': 10812, '넙치': 10813, '수십억': 10814, '외딴': 10815, '흑의': 10816, '마음가짐': 10817, '만족도': 10818, '첫번쨰': 10819, '위태해': 10820, '연내': 10821, 'ㅡㅡㅡㅡ': 10822, '제품': 10823, '불매': 10824, '미개하다': 10825, '컵라면': 10826, '진행중': 10827, '재촉': 10828, '도발': 10829, '치료받다': 10830, '스또리': 10831, '고삐': 10832, '날뛰다': 10833, '무사': 10834, '걸왜': 10835, '나들이': 10836, '크리스토퍼': 10837, '인신공양': 10838, 'ㅋㄹㅋ': 10839, '캐머런': 10840, '제안': 10841, '방위': 10842, '최고급': 10843, '살생': 10844, '돌고래': 10845, '탈출씬': 10846, '이프': 10847, '극본': 10848, '조윤숙': 10849, '엘리트': 10850, '파국': 10851, '국한': 10852, '동네형': 10853, '푸근하다': 10854, '문선명': 10855, '중뽕': 10856, '재밋뜨': 10857, '본심': 10858, '강인하다': 10859, '휴일': 10860, '오드리': 10861, '헵번': 10862, '전해질': 10863, '체질': 10864, '올리버': 10865, '때내': 10866, '대로의': 10867, '나대다': 10868, '쫄구': 10869, '참치': 10870, '외치': 10871, '중국몽': 10872, '수컷': 10873, '조지나': 10874, '뱅뱅': 10875, '개쩌는데': 10876, '코빅': 10877, '무국': 10878, '효자': 10879, '가져가다': 10880, '어두컴컴': 10881, '축축하다': 10882, '할리웃': 10883, '국보': 10884, '발기': 10885, '신뢰': 10886, '마리안': 10887, '슈트': 10888, '널림': 10889, '하내': 10890, '정석': 10891, '플래시백': 10892, '수업': 10893, '교재': 10894, '종신형': 10895, '구성은': 10896, '다운로드': 10897, '어떠케': 10898, '인질': 10899, '유튜버': 10900, '원료': 10901, '안드레이': 10902, '분리수거': 10903, '와웅': 10904, '패턴': 10905, '퀄를': 10906, '데스티네이션': 10907, '순진무구': 10908, '허투른': 10909, '못만듬': 10910, '극대': 10911, '박훈정': 10912, '하비에르': 10913, '바르뎀': 10914, '김정권': 10915, '재밋네': 10916, '봄때': 10917, '격었': 10918, '매혹': 10919, '등장씬': 10920, '떼거지': 10921, '감임': 10922, '군단': 10923, '서바이벌': 10924, '존망': 10925, '악몽': 10926, '주무시다': 10927, '개취': 10928, '검시관': 10929, '판사': 10930, '박아': 10931, '산족': 10932, '괴리': 10933, '앏아': 10934, '가래': 10935, '안듬': 10936, '싹둑싹둑': 10937, '트와일라잇': 10938, '편중': 10939, '브레이': 10940, '킹': 10941, '존꿀잼': 10942, '미워하다': 10943, '부러워하다': 10944, '동경': 10945, '마침내': 10946, '들려주다': 10947, '비만': 10948, '하기는': 10949, '장재': 10950, '시보': 10951, '띵하다': 10952, '불빛': 10953, '반짝이다': 10954, '조윤희': 10955, '산사나무': 10956, '판테라': 10957, '씨디': 10958, '바사삭': 10959, '뷴': 10960, '머피': 10961, '티스푼': 10962, '구부리': 10963, '작업실': 10964, '유리창': 10965, '부딫히': 10966, '늦': 10967, '펭귀': 10968, '관개': 10969, '버렷': 10970, '놀림': 10971, '엄벅동이': 10972, '뭐해': 10973, '순딩순딩': 10974, '거렸음': 10975, '오케이': 10976, '단정': 10977, '배댓': 10978, '대량학살': 10979, '걸루': 10980, '렸다': 10981, '뚱뚱하다': 10982, '장담': 10983, '노회찬': 10984, '공소': 10985, '효력': 10986, '스무살': 10987, '으앙': 10988, '박한별': 10989, '송지효': 10990, '철민': 10991, '에세이': 10992, '헝그리': 10993, '조디': 10994, '누울': 10995, '몬': 10996, '재탕하다': 10997, '상쇄하': 10998, '뺑반': 10999, '너구리': 11000, '잼있슴': 11001, '조현병': 11002, '병인': 11003, '디시': 11004, '슬래셔': 11005, '이민자': 11006, '빈부격차': 11007, '멸종위기': 11008, '트로피': 11009, '황색언론': 11010, '보도': 11011, '안번거': 11012, '뤼시': 11013, '청각': 11014, '최신': 11015, '구식이다': 11016, '포트폴리오': 11017, '리좀': 11018, '교양': 11019, '싱겁다': 11020, '함장': 11021, '게리': 11022, '바스': 11023, '캐틀링': 11024, '포탑': 11025, '방어': 11026, '인공': 11027, '이러니': 11028, '리더': 11029, '와의': 11030, '척박하다': 11031, '흐트러진다': 11032, '빨게': 11033, '피나': 11034, '생물': 11035, '감성돔': 11036, '에돔': 11037, '돌돔': 11038, '돗돔': 11039, '비리다': 11040, '간이': 11041, '딸바보': 11042, '장시': 11043, '셋업': 11044, '에서만큼은': 11045, '봄폰': 11046, '협곡': 11047, '와드': 11048, '속임수': 11049, '옥중': 11050, '줄평': 11051, '남매': 11052, '청각장애': 11053, '국봉': 11054, '고집': 11055, '밈': 11056, '추방': 11057, '펠퍼틴': 11058, '수퍼맨': 11059, '오비완': 11060, '광선검': 11061, '쪼기': 11062, '채홍': 11063, '그니까': 11064, '적인걸': 11065, '뺴': 11066, '이보영': 11067, '대차다': 11068, '가상현실': 11069, '격세지감': 11070, '수학': 11071, '호기심': 11072, '아뭏튼': 11073, '섹드립': 11074, '일종': 11075, '디텍팅': 11076, '짐작': 11077, '손목': 11078, '육체': 11079, '정설': 11080, '조수': 11081, '채즈': 11082, '혼혈': 11083, '켄타': 11084, '왤케낮음': 11085, '거가': 11086, '일구다': 11087, '학대': 11088, '범작': 11089, '캡사이신': 11090, '러비': 11091, '면역': 11092, '요법': 11093, '잼임': 11094, '용감': 11095, '사주': 11096, '훅': 11097, '정당성': 11098, '저쩌': 11099, '에이스': 11100, '알럽': 11101, '뽀로로': 11102, '의정부': 11103, '행해지다': 11104, '최신영': 11105, '이기선': 11106, '고아성': 11107, '대들다': 11108, '유혈': 11109, '낭자': 11110, '버무린': 11111, '연구소': 11112, '브라질': 11113, '징감': 11114, '드레곤': 11115, '퀘스트': 11116, '굿임': 11117, '휙휙': 11118, '투니버스': 11119, '이누야샤': 11120, '계세': 11121, '콜린': 11122, '파렐': 11123, '디트로이트': 11124, '솟구치다': 11125, '더하기': 11126, '업도': 11127, '생선': 11128, '우유': 11129, '유툽': 11130, '왓더헬스': 11131, '빙산': 11132, '소비자': 11133, '위너': 11134, '개망': 11135, '면제': 11136, '아일랜드': 11137, '로버트': 11138, '체중': 11139, '체격': 11140, '패시': 11141, '진출': 11142, '뉴트': 11143, '힉스': 11144, 'ㅇㅏ': 11145, '어엉엉': 11146, '과외': 11147, '겨끝': 11148, '들뜨다': 11149, '수채화': 11150, '여대생': 11151, '이연희': 11152, '오타루': 11153, '호동': 11154, '어의': 11155, '헤헿': 11156, '파가': 11157, '가조': 11158, '주모': 11159, '고의': 11160, '이태임': 11161, '단무지': 11162, '후라이드': 11163, '건내다': 11164, '꿍': 11165, '조명등': 11166, '턱턱': 11167, '마피아': 11168, '헛소리': 11169, '애니매이션': 11170, '부레': 11171, '비행': 11172, '시리아': 11173, '악독하다': 11174, '봤슈': 11175, '개쩔': 11176, '소시': 11177, '오타': 11178, '기상': 11179, '세영': 11180, '주씨': 11181, '아우': 11182, '사살': 11183, '도덕': 11184, '최면': 11185, '깜냥': 11186, '큰소리': 11187, '친후': 11188, '사계절': 11189, '김태': 11190, '안전하다': 11191, '동조': 11192, '지류': 11193, '해물': 11194, '주둥아리': 11195, '이중인격': 11196, '아슬아슬': 11197, '화이트': 11198, '칙스': 11199, '사탄': 11200, '거더': 11201, '시행착오': 11202, '숨쉬기': 11203, '훠': 11204, '얼씬': 11205, '뜰': 11206, '거뜬하다': 11207, '걱정스럽다': 11208, '평함': 11209, '구태여': 11210, '귀결': 11211, '짜르': 11212, '수정': 11213, '작사가': 11214, '에코': 11215, '자음': 11216, '만으로는': 11217, '훈남': 11218, '해바라기': 11219, '고진부': 11220, '창조': 11221, '노선': 11222, '연출가': 11223, '조선족': 11224, '순교': 11225, 'ㅠㅋ': 11226, '작대기': 11227, '비웃음': 11228, '정당화': 11229, '입양아': 11230, '실낱': 11231, '메스껍다': 11232, '의혹': 11233, '통계': 11234, '스탈린': 11235, '철남이': 11236, '츠키': 11237, '모토': 11238, '신야': 11239, '손꾸락': 11240, '뿌러뜨리': 11241, '나체': 11242, '상관관계': 11243, '마누': 11244, '로그인': 11245, '메이': 11246, '블레어': 11247, '멀미': 11248, '쭈꾸미': 11249, '먀': 11250, '가망': 11251, '중고': 11252, '내보내다': 11253, '연식': 11254, '튜닝': 11255, '할로겐': 11256, '라이트': 11257, '교체': 11258, '땀쥐': 11259, '반적': 11260, '희서': 11261, '전문직': 11262, '직종': 11263, '딸도': 11264, '자상하다': 11265, '집집': 11266, '오르페': 11267, '객기': 11268, '부트캠프': 11269, '옥상': 11270, '머신': 11271, '짦': 11272, '반박': 11273, '봣네': 11274, '덤덤하다': 11275, '리틀': 11276, '깜박이다': 11277, '삼키다': 11278, '쵝오': 11279, '블레이드러너': 11280, '롤러더비': 11281, '드라이브': 11282, '록웰': 11283, '처칠': 11284, '히틀러': 11285, '체임': 11286, '폭포수': 11287, '유창하다': 11288, '하겄다': 11289, '감돈': 11290, '새우다': 11291, '니체': 11292, '샤르트르': 11293, '레디에이터': 11294, '하쥬': 11295, '겁나씡': 11296, '흥이': 11297, '강점': 11298, '낚였네': 11299, '하이힐': 11300, '그라스': 11301, '승무원': 11302, '고락': 11303, '수명': 11304, '안팍': 11305, '우월하다': 11306, '자의식': 11307, '오그라들다': 11308, '읉': 11309, '인트로': 11310, '송위룡송운화': 11311, '탐구': 11312, '검심': 11313, '루킹': 11314, '승': 11315, '엑기스': 11316, '알베르토': 11317, '물정': 11318, '클린': 11319, '미사일': 11320, '종말': 11321, '밀': 11322, '수배': 11323, '왜턴거': 11324, '성애자': 11325, '진실되다': 11326, '관왕': 11327, '얘깃': 11328, '굵다': 11329, '피어': 11330, '전력': 11331, '불허': 11332, '분추': 11333, '뉴비': 11334, '나눔': 11335, '잡념': 11336, '랬': 11337, '박쥐': 11338, '컴퓨터게임': 11339, '페어': 11340, '머스': 11341, '역사영화': 11342, '제제': 11343, '이장면': 11344, '주입': 11345, '몰랏는데': 11346, '호호': 11347, '스콜': 11348, '에든': 11349, '오니': 11350, '군중': 11351, '묵음': 11352, '애정결핍': 11353, '태양빛': 11354, '이교도': 11355, '감쵝오': 11356, '훅훅': 11357, '붉은빛': 11358, '무가': 11359, '떠내다': 11360, 'ㅁㅊㄷ': 11361, '등록': 11362, '울궈': 11363, '라보': 11364, '연결하다': 11365, '전무': 11366, '곤욕': 11367, '해피앤딩': 11368, '징기스': 11369, '정복기': 11370, '드하': 11371, '다다미': 11372, '쇼트': 11373, '빅팬': 11374, '부흥': 11375, '핏': 11376, '여건': 11377, '폄훼하': 11378, '팬클럽': 11379, '평안': 11380, '블루': 11381, '흐뭇다': 11382, '리버': 11383, '눈길': 11384, '아스팔트': 11385, '자릿수': 11386, '라니깐': 11387, '픽': 11388, '홍진경': 11389, '김영희': 11390, '자이언티': 11391, '제국주의': 11392, '카시노': 11393, '브라': 11394, '이스': 11395, '존웍': 11396, '이연걸': 11397, '세라': 11398, '프로그램': 11399, '지갑': 11400, '겸직': 11401, '포트': 11402, '나이트': 11403, '슈팅게임': 11404, '삘받아': 11405, '치매': 11406, '퇴화': 11407, '중함': 11408, '스레': 11409, '상주고': 11410, '폭팔': 11411, '후의': 11412, '텍스트': 11413, '후일담': 11414, '임원희': 11415, '손호준': 11416, '간반': 11417, '라스베가스': 11418, '내포': 11419, '메타포': 11420, '구리지': 11421, '정음': 11422, '기증': 11423, '오나미': 11424, '박지현': 11425, '미스캐스팅': 11426, '우중충하다': 11427, '손승완': 11428, '왕오': 11429, '파이터': 11430, '교육영화': 11431, '중국공산당': 11432, '공로상': 11433, '공수': 11434, '처가': 11435, '으엌': 11436, '천천이': 11437, '이슬람': 11438, '타락': 11439, '려면': 11440, '앓이': 11441, '봄맞이': 11442, '로룬': 11443, '테스트': 11444, '트릴로지': 11445, '열광': 11446, '유산': 11447, '횽': 11448, '롸잇': 11449, '데보': 11450, '자격루': 11451, '워리어': 11452, '느므': 11453, '바이블': 11454, '어른스럽다': 11455, '채영': 11456, '종구': 11457, '옄': 11458, '다양성': 11459, '락앤롤': 11460, '이거지': 11461, '다각도': 11462, '명쪽': 11463, '하룻밤': 11464, '작별인사': 11465, '팅': 11466, '유래': 11467, '확고하다': 11468, '엿같아': 11469, '괝': 11470, '찮아다': 11471, '엄숙하다': 11472, '대초': 11473, '봤슴': 11474, '무심': 11475, '졍말': 11476, '전날': 11477, '애산': 11478, '속인': 11479, '일기': 11480, '말죽거리잔혹사': 11481, '나잘하다': 11482, '틈타다': 11483, '떼': 11484, '검': 11485, '금보': 11486, '총총': 11487, '죠오': 11488, '해애': 11489, '야야': 11490, 'ㅑ': 11491, '아홉': 11492, '군사정변': 11493, '하는둥': 11494, '구게': 11495, '민호': 11496, '최거': 11497, '하등': 11498, '중요': 11499, '지척': 11500, '좇는': 11501, '내레이션': 11502, '바로미터': 11503, '간증': 11504, '얘길': 11505, '꿀잼각': 11506, '사구조': 11507, '한치': 11508, '헌팅': 11509, '릭스': 11510, '내생': 11511, '가필드': 11512, '과극': 11513, '토박이': 11514, '대구시': 11515, '수성구': 11516, '수성': 11517, '인근': 11518, '목요일': 11519, '오후': 11520, '스케줄': 11521, '지워지다': 11522, '안티': 11523, '영진': 11524, '레이싱': 11525, '책임자': 11526, '눈살': 11527, '식스센스': 11528, '강박증': 11529, '해프닝': 11530, '애프터어스': 11531, '블라블라': 11532, '벌린': 11533, '발라': 11534, '케리': 11535, '해적': 11536, '볼리우드': 11537, '감쪽': 11538, '오토릭샤': 11539, '하수': 11540, '살찐': 11541, '무질서': 11542, '당기다': 11543, '부여잡다': 11544, '숨박꼭질': 11545, '디노': 11546, '연합군': 11547, '왜놈': 11548, '떼놈': 11549, '동족상잔': 11550, '매도': 11551, '벙커': 11552, '메롱': 11553, '넼': 11554, '부활': 11555, '힘주다': 11556, '리스트': 11557, '마구잡이': 11558, '나현희': 11559, '봣으': 11560, '유인원': 11561, '말랑말랑하다': 11562, '반발': 11563, '혈안': 11564, '묠디르': 11565, '다관': 11566, '호화': 11567, '워쇼스키': 11568, '해양': 11569, '교통사고': 11570, '고이': 11571, '집념': 11572, '휘황': 11573, '애매': 11574, '렀': 11575, '남아공': 11576, '쪽지': 11577, '방과': 11578, '이참': 11579, '치기': 11580, '회복하다': 11581, '줄리아': 11582, '로버츠': 11583, '그랜트': 11584, '나볼': 11585, '톰리들': 11586, '호러영화': 11587, '털땐': 11588, '쫓아오다': 11589, '삿다': 11590, '왓능': 11591, '옷장': 11592, '거울': 11593, '줄줄': 11594, '힙합': 11595, '정시': 11596, '명사': 11597, '진과': 11598, '점때': 11599, '전인권': 11600, '에가': 11601, '초첨': 11602, '트리스탄': 11603, '장화홍련': 11604, '전정': 11605, '낮잠': 11606, '머물다': 11607, '통통': 11608, '만요': 11609, '똑': 11610, '메기': 11611, '가점': 11612, '멜론': 11613, '경비': 11614, '술해': 11615, '라면서': 11616, '얻지': 11617, '순복음교회': 11618, '에로영화': 11619, '국밥': 11620, '멜로드라마': 11621, '기갑': 11622, '폭도': 11623, '탈취': 11624, '덩치': 11625, '아딘': 11626, '나사': 11627, '요원': 11628, '됫습니': 11629, '색상': 11630, '원활하다': 11631, '못햇': 11632, '폐쇄된': 11633, '월요일': 11634, '십자가': 11635, '매가': 11636, '박스': 11637, '오마쥬': 11638, '리틀빅': 11639, '현명하다': 11640, '중앙': 11641, '레이디가가': 11642, '히트치다': 11643, '기엽': 11644, '개욱김': 11645, '어메': 11646, '리칸': 11647, '냅다': 11648, '그려지다': 11649, '사기꾼': 11650, '판두': 11651, '아동학대': 11652, '탄원서': 11653, '실생활': 11654, '몬스터': 11655, '진부': 11656, '시리': 11657, '개쪽': 11658, '엊그제': 11659, '김봉두': 11660, '자탄': 11661, '양희은': 11662, '엔드': 11663, '이정은': 11664, '지하실': 11665, '응시': 11666, '끝물': 11667, '년초': 11668, '데이라이트': 11669, '면허': 11670, '매료': 11671, '눈앞': 11672, '몸매': 11673, '담당': 11674, '그제야': 11675, '나타남': 11676, '최적': 11677, '이청준': 11678, '병구': 11679, '걔네': 11680, '하진': 11681, '록키': 11682, '우마': 11683, '중지': 11684, '번쨰': 11685, '오드리햅번': 11686, '티피': 11687, '막내': 11688, 'ㄱㅏㅣ': 11689, '달링': 11690, '설치다': 11691, '컴백': 11692, '서리': 11693, '잔행': 11694, '아련감성': 11695, '피폐': 11696, '싹뚝': 11697, '파견': 11698, '여명': 11699, '차오르다': 11700, '명단': 11701, '관료': 11702, '직등': 11703, '말씀드리다': 11704, '파이어': 11705, '정액': 11706, '기범': 11707, '절친': 11708, '심재민': 11709, '싸대기': 11710, '권오석': 11711, '난처하다': 11712, '렸': 11713, '베프': 11714, '웍': 11715, '사둘껄': 11716, '독일어': 11717, '일본해': 11718, '표기': 11719, '데킬러': 11720, '서정시': 11721, '찬미': 11722, '론데저': 11723, '셰': 11724, '호프': 11725, '대끼다': 11726, '베를린': 11727, '음질': 11728, '갱신': 11729, '는커녕': 11730, '펄프픽션': 11731, '굴러가다': 11732, '드투킬': 11733, '그러므로': 11734, '불성': 11735, '설임': 11736, '그리하여': 11737, '인천': 11738, '상륙작전': 11739, '포털': 11740, '똘똘치': 11741, '하듯': 11742, '오우야': 11743, '왕도': 11744, '괴성': 11745, '해대': 11746, '몸싸움': 11747, '예식': 11748, '조심스럽다': 11749, '그루브': 11750, '움직임': 11751, '아가리': 11752, '주더': 11753, '신하균': 11754, '흥건': 11755, '눈갱': 11756, '분해': 11757, '음극': 11758, '총탄': 11759, '모잠비크': 11760, '원더우먼': 11761, '어기': 11762, '날때': 11763, '사주팔자': 11764, '국가대표': 11765, '낚인듯': 11766, '중공군': 11767, '추리물': 11768, '명탐정': 11769, '용한': 11770, '에미': 11771, '련들': 11772, '쪼오끔': 11773, '쪼끔': 11774, '쫄깃쫄깃하': 11775, '마사': 11776, '알록달록': 11777, '아기자기': 11778, '니코': 11779, '추상': 11780, '연개': 11781, '무리하다': 11782, '미안': 11783, '영어학원': 11784, '덕질': 11785, '오아시스': 11786, '안식처': 11787, '이웃집': 11788, '등잔': 11789, '둘러보다': 11790, '영악': 11791, '무거워': 11792, '어우동': 11793, '우동': 11794, '순이': 11795, '날림': 11796, '엿보다': 11797, '경찰청': 11798, '카피': 11799, '필요성': 11800, '그랫': 11801, '움츠리다': 11802, '포지티브': 11803, '뽀록': 11804, '다합': 11805, '는가': 11806, '시계': 11807, '니뽄': 11808, '튼튼하다': 11809, '질색': 11810, '다솔': 11811, '어드밴쳐': 11812, '서사시': 11813, '당혹하다': 11814, '솔스쿼드': 11815, '인스쿼드': 11816, '영횐': 11817, '지아': 11818, '잘불르다': 11819, '발매': 11820, '시급하다': 11821, '불발': 11822, '비운': 11823, '와카': 11824, '메라': 11825, '애하': 11826, '만분': 11827, '기릴수': 11828, '투입': 11829, '넥': 11830, '김유림': 11831, '멸망': 11832, '본거같믐': 11833, '짜쯩': 11834, '이남': 11835, '세팅': 11836, '호킨스': 11837, '경찰서': 11838, '장도': 11839, '영감': 11840, '양립': 11841, '쟁취': 11842, '자화상': 11843, '곱상하다': 11844, '란스': 11845, '득': 11846, '어김없이': 11847, '아킬레스건': 11848, '나쁜사람': 11849, '표시': 11850, '볼때집': 11851, '볼때재': 11852, '저릿하다': 11853, '매트': 11854, '적당': 11855, '년월': 11856, '현생': 11857, '첫날': 11858, '외삼촌': 11859, '늪': 11860, '마사지': 11861, '온화하다': 11862, '싸움판': 11863, '일본군': 11864, '기레기': 11865, '찌라시': 11866, '꼽는다': 11867, '프라잉팬': 11868, '태프론': 11869, '듀폰': 11870, '최공': 11871, '댐': 11872, '딸내미': 11873, '배때': 11874, '갈라': 11875, '창자': 11876, '후르': 11877, '륵': 11878, '낙하산': 11879, '에란겔': 11880, '흩어지다': 11881, '날아오다': 11882, '비명': 11883, '강력하다': 11884, '리방': 11885, '용의자': 11886, '애먼': 11887, '고과': 11888, '쏙쏙': 11889, '농땡': 11890, '쉣킷': 11891, '파이팅': 11892, '정식': 11893, '기복': 11894, '훼': 11895, '이크': 11896, '동아': 11897, '가지런하다': 11898, '뽀삐': 11899, '베리칩': 11900, '블리': 11901, '레즈비언': 11902, '곱': 11903, '스치다': 11904, '튀어': 11905, '김희애': 11906, '주름': 11907, '씨줄': 11908, '날줄': 11909, '유영': 11910, '침체': 11911, '산드라': 11912, '블록': 11913, '번돈': 11914, '전액': 11915, '수용': 11916, '주역': 11917, '란디프': 11918, '엘리제궁': 11919, '남극': 11920, '오르탕스': 11921, '미덕': 11922, 'ㅓ': 11923, 'ㅓㅇ': 11924, '헝헝헝': 11925, '헝으어흐': 11926, '헣': 11927, '헝헝': 11928, 'ㅜㅡㅜ': 11929, '라그': 11930, '럼': 11931, '벌겋다': 11932, '버숭': 11933, '이채': 11934, '분류': 11935, '러너': 11936, '쉰': 11937, '추척': 11938, '남북': 11939, '듬안': 11940, '싸늘하다': 11941, '삶속': 11942, '부작용': 11943, '문장': 11944, '두기': 11945, '고찰': 11946, '극동': 11947, '천문학': 11948, '접촉': 11949, '뽀짝': 11950, '리폼': 11951, '저항': 11952, '밀도': 11953, '땀남꿀잼편': 11954, '악성댓글': 11955, '판빙빙': 11956, '기리': 11957, '후덜': 11958, '장동건': 11959, '진화': 11960, '시시비비': 11961, '모레': 11962, '예순': 11963, '나리': 11964, '갖힌': 11965, '사고력': 11966, '희망고문': 11967, '비법': 11968, '아버': 11969, '부녀': 11970, '퀴즈': 11971, '낭': 11972, '소문나다': 11973, '이기심': 11974, '감상문': 11975, '종특': 11976, '적정': 11977, '센티널': 11978, '불속': 11979, '몰드': 11980, '동심파괴': 11981, '초이': 11982, '판치다': 11983, '구글': 11984, '야후': 11985, '포털사이트': 11986, '티어': 11987, '가랜다': 11988, '기이': 11989, '무심코': 11990, '별미': 11991, '딩씬': 11992, '특정하다': 11993, '쇼꼭': 11994, '콜릴파렐': 11995, '이재': 11996, '경위': 11997, '단디': 11998, '이탈리아인': 11999, '리프': 12000, '레시': 12001, '아작': 12002, '제주도': 12003, '다사': 12004, '건의': 12005, '일련': 12006, '실마리': 12007, '소망': 12008, '풀림': 12009, '년내': 12010, '버드맨': 12011, '제훈': 12012, '어케되는겨': 12013, '체벌': 12014, '액션스탯': 12015, '유탄발사기': 12016, '반찬': 12017, '채소': 12018, '반증': 12019, '킁': 12020, '파서': 12021, '생채기': 12022, '소금': 12023, '안습': 12024, '윤제문': 12025, '줸': 12026, '이상민': 12027, '선균': 12028, '균': 12029, '인나님': 12030, '바로크': 12031, '직감': 12032, '회귀': 12033, '우회': 12034, '철갑': 12035, '혹독하다': 12036, '스즈미': 12037, '하루히': 12038, '소실': 12039, '감점': 12040, '초아': 12041, '사우나': 12042, '근심': 12043, '격리': 12044, '박일': 12045, '적격입니': 12046, '이자벨': 12047, '배부르다': 12048, '인건비': 12049, '단합': 12050, '쌔': 12051, '능지처참': 12052, '슬기롭다': 12053, '만우절': 12054, '장궈룽': 12055, '비보': 12056, '동성애': 12057, '판결': 12058, '돈벌': 12059, '고립': 12060, '환각': 12061, '증세': 12062, '서민이': 12063, '서글프다': 12064, '욯': 12065, '갸웃하다': 12066, '겅겅': 12067, '세얼간이': 12068, '마이네임': 12069, '즈칸': 12070, '바꿔치다': 12071, '로남': 12072, '싹년': 12073, '오이지': 12074, '대성': 12075, '인재': 12076, '효주': 12077, '넉': 12078, '같이도': 12079, '관상': 12080, '더킹': 12081, '류준열': 12082, '여리다': 12083, '인자': 12084, '몰락': 12085, '복귀': 12086, '밑그림': 12087, '피카소': 12088, '저급': 12089, '한류': 12090, '청와대': 12091, '민원': 12092, '정규직': 12093, '회사원': 12094, '불협화음': 12095, '영위': 12096, '불가하다': 12097, '상향': 12098, '갈구다': 12099, '가선': 12100, '허비하다': 12101, '근거리': 12102, '계보': 12103, '급작': 12104, '의중': 12105, '최저': 12106, '패스': 12107, '송승헌': 12108, '일개': 12109, '발언': 12110, '싫어졋다': 12111, '혹자': 12112, '이성민': 12113, '평전': 12114, '한결같다': 12115, '고프다': 12116, '난이': 12117, '담비': 12118, '카드': 12119, '순교자': 12120, '불안감': 12121, '동동': 12122, '개궁금': 12123, '전전긍긍': 12124, '현준': 12125, '허성': 12126, '연락': 12127, '열렬하다': 12128, '하영': 12129, '소희': 12130, '워홀': 12131, '동포': 12132, '의존': 12133, '게점': 12134, '워후': 12135, '게다': 12136, '임나': 12137, '디져트': 12138, '안성맞춤': 12139, '앳킨스': 12140, '김영민': 12141, '기강': 12142, '말금': 12143, '유람': 12144, '윤승아': 12145, '잼남햄': 12146, '부러': 12147, '걸돈': 12148, '멤버십': 12149, '우후죽순': 12150, '향연': 12151, '퀸': 12152, 'ㅠㅅㅠ': 12153, '극기': 12154, '스톰': 12155, '트루퍼': 12156, '예비역': 12157, '날조': 12158, '복원': 12159, '씨앗': 12160, '초록': 12161, '텀': 12162, '중하': 12163, '도오': 12164, '최저임금': 12165, '개폭망작': 12166, '기사도': 12167, '정글': 12168, '러': 12169, '피들스틱': 12170}\n"
     ]
    }
   ],
   "source": [
    "print(tokenizer.word_index)"
   ]
  },
  {
   "cell_type": "code",
   "execution_count": 103,
   "metadata": {},
   "outputs": [],
   "source": [
    "threshold = 2 # 빈도수가 3회 미만은 제거\n",
    "total_cnt = len(tokenizer.word_index) # 단어의 수\n",
    "rare_cnt = 0 # 등장 빈도수가 threshold보다 작은 단어의 개수를 카운트\n",
    "total_freq = 0 # 훈련 데이터의 전체 단어 빈도수 총 합\n",
    "rare_freq = 0 # 등장 빈도수가 threshold보다 작은 단어의 등장 빈도수의 총 합\n",
    "\n",
    "# 단어와 빈도수의 쌍(pair)을 key와 value로 받는다.\n",
    "for key, value in tokenizer.word_counts.items():\n",
    "    total_freq = total_freq + value\n",
    "\n",
    "    # 단어의 등장 빈도수가 threshold보다 작으면\n",
    "    if(value < threshold):\n",
    "        rare_cnt = rare_cnt + 1\n",
    "        rare_freq = rare_freq + value"
   ]
  },
  {
   "cell_type": "code",
   "execution_count": 104,
   "metadata": {},
   "outputs": [
    {
     "name": "stdout",
     "output_type": "stream",
     "text": [
      "단어 집합(vocabulary)의 크기 : 12170\n",
      "등장 빈도가 1번 이하인 희귀 단어의 수: 5658\n",
      "단어 집합에서 희귀 단어의 비율: 46.49137222678718\n",
      "전체 등장 빈도에서 희귀 단어 등장 빈도 비율: 3.104867475168743\n"
     ]
    }
   ],
   "source": [
    "print('단어 집합(vocabulary)의 크기 :',total_cnt)\n",
    "print('등장 빈도가 %s번 이하인 희귀 단어의 수: %s'%(threshold - 1, rare_cnt))\n",
    "print(\"단어 집합에서 희귀 단어의 비율:\", (rare_cnt / total_cnt)*100)\n",
    "print(\"전체 등장 빈도에서 희귀 단어 등장 빈도 비율:\", (rare_freq / total_freq)*100)"
   ]
  },
  {
   "cell_type": "code",
   "execution_count": 105,
   "metadata": {},
   "outputs": [
    {
     "name": "stdout",
     "output_type": "stream",
     "text": [
      "단어 집합의 크기 : 6513\n"
     ]
    }
   ],
   "source": [
    "vocab_size = total_cnt - rare_cnt + 1 # 전체 단어 개수 중 빈도수 2이하인 단어 개수는 제거. 0번 패딩 토큰을 고려하여 +1\n",
    "print('단어 집합의 크기 :',vocab_size)"
   ]
  },
  {
   "cell_type": "code",
   "execution_count": 106,
   "metadata": {},
   "outputs": [],
   "source": [
    "import pickle\n",
    "vocab_size = vocab_size\n",
    "\n",
    "with open('./save/vocab_size.p', 'wb') as file:    # james.p 파일을 바이너리 쓰기 모드(wb)로 열기\n",
    "    pickle.dump(vocab_size, file)"
   ]
  },
  {
   "cell_type": "code",
   "execution_count": 107,
   "metadata": {},
   "outputs": [],
   "source": [
    "# 토크나이저는 텍스트 시퀀스를 숫자 시퀀스로 변환하는 정수 인코딩 과정에서 \n",
    "# 이보다 큰 숫자가 부여된 단어들은 아예 계산하지 않음\n",
    "tokenizer = Tokenizer(vocab_size) \n",
    "tokenizer.fit_on_texts(X_train)\n",
    "X_train = tokenizer.texts_to_sequences(X_train)\n",
    "X_test = tokenizer.texts_to_sequences(X_test)"
   ]
  },
  {
   "cell_type": "code",
   "execution_count": 108,
   "metadata": {},
   "outputs": [
    {
     "name": "stdout",
     "output_type": "stream",
     "text": [
      "[[451, 8, 368, 88, 274, 1, 53, 103, 693, 185, 2084, 1, 43, 34, 81, 1146, 72, 4, 186, 449, 1, 807, 1503, 221, 11, 84, 1, 2272, 758, 91, 190, 169, 456, 5, 8, 67, 249, 2860, 1696, 2, 452, 664, 595, 326, 521, 62, 15, 247, 6, 778, 10, 14, 36, 21, 552, 32, 22, 194, 2], [33, 3, 4, 186, 90], [975, 5, 4752, 200, 240, 1, 3837, 140, 9, 1, 14, 563, 4752, 200, 710, 2273, 665, 1, 952, 142, 142, 130, 75, 746, 710, 680, 2, 62, 15, 1593, 1697, 213, 46, 12, 33, 1697, 213, 46, 1, 196, 132, 563, 4753, 3263, 54, 191, 1926, 1225, 16, 35, 2861, 46, 145, 5, 45, 79, 69, 19, 11, 58, 4754, 746, 51, 104, 30, 37, 2]]\n"
     ]
    }
   ],
   "source": [
    "print(X_train[:3])"
   ]
  },
  {
   "cell_type": "code",
   "execution_count": 109,
   "metadata": {},
   "outputs": [],
   "source": [
    "y_train = np.array(train_data['label'])\n",
    "y_test = np.array(test_data['label'])"
   ]
  },
  {
   "cell_type": "markdown",
   "metadata": {},
   "source": [
    "### 빈 샘플(Empty samples) 제거"
   ]
  },
  {
   "cell_type": "code",
   "execution_count": 110,
   "metadata": {},
   "outputs": [],
   "source": [
    "drop_train = [index for index, sentence in enumerate(X_train) if len(sentence) < 1]\n",
    "drop_test = [index for index, sentence in enumerate(X_test) if len(sentence) < 1]"
   ]
  },
  {
   "cell_type": "code",
   "execution_count": 111,
   "metadata": {},
   "outputs": [
    {
     "name": "stdout",
     "output_type": "stream",
     "text": [
      "7749\n",
      "7749\n"
     ]
    }
   ],
   "source": [
    "# 빈 샘플들을 제거\n",
    "X_train = np.delete(X_train, drop_train, axis=0)\n",
    "y_train = np.delete(y_train, drop_train, axis=0)\n",
    "print(len(X_train))\n",
    "print(len(y_train))"
   ]
  },
  {
   "cell_type": "code",
   "execution_count": 112,
   "metadata": {},
   "outputs": [
    {
     "name": "stdout",
     "output_type": "stream",
     "text": [
      "4618\n",
      "4618\n"
     ]
    }
   ],
   "source": [
    "X_test = np.delete(X_test, drop_test, axis=0)\n",
    "y_test = np.delete(y_test, drop_test, axis=0)\n",
    "print(len(X_test))\n",
    "print(len(y_test))"
   ]
  },
  {
   "cell_type": "code",
   "execution_count": 113,
   "metadata": {},
   "outputs": [],
   "source": [
    "np.save(\"./save/y_train.npy\", y_train)\n",
    "np.save(\"./save/y_test.npy\", y_test)"
   ]
  },
  {
   "cell_type": "markdown",
   "metadata": {},
   "source": [
    "### 패딩"
   ]
  },
  {
   "cell_type": "code",
   "execution_count": 114,
   "metadata": {},
   "outputs": [
    {
     "name": "stdout",
     "output_type": "stream",
     "text": [
      "리뷰의 최대 길이 : 391\n",
      "리뷰의 평균 길이 : 22.786424054716736\n"
     ]
    },
    {
     "data": {
      "image/png": "[encoded data removed]",
      "text/plain": [
       "<Figure size 432x288 with 1 Axes>"
      ]
     },
     "metadata": {
      "needs_background": "light"
     },
     "output_type": "display_data"
    }
   ],
   "source": [
    "print('리뷰의 최대 길이 :',max(len(l) for l in X_train))\n",
    "print('리뷰의 평균 길이 :',sum(map(len, X_train))/len(X_train))\n",
    "plt.hist([len(s) for s in X_train], bins=50)\n",
    "plt.xlabel('length of samples')\n",
    "plt.ylabel('number of samples')\n",
    "plt.show()"
   ]
  },
  {
   "cell_type": "code",
   "execution_count": 115,
   "metadata": {},
   "outputs": [],
   "source": [
    "# 전체 샘플 중 길이가 max_len 이하인 샘플의 비율이 몇 %인지 확인하는 함수\n",
    "def below_threshold_len(max_len, nested_list):\n",
    "    cnt = 0\n",
    "    for s in nested_list:\n",
    "        if(len(s) <= max_len):\n",
    "            cnt = cnt + 1\n",
    "    print('전체 샘플 중 길이가 %s 이하인 샘플의 비율: %s'%(max_len, (cnt / len(nested_list))*100))"
   ]
  },
  {
   "cell_type": "code",
   "execution_count": 116,
   "metadata": {},
   "outputs": [
    {
     "name": "stdout",
     "output_type": "stream",
     "text": [
      "전체 샘플 중 길이가 30 이하인 샘플의 비율: 78.52626145309071\n"
     ]
    }
   ],
   "source": [
    "max_len = 30\n",
    "below_threshold_len(max_len, X_train)"
   ]
  },
  {
   "cell_type": "code",
   "execution_count": 117,
   "metadata": {},
   "outputs": [],
   "source": [
    "X_train = pad_sequences(X_train, maxlen = max_len)\n",
    "X_test = pad_sequences(X_test, maxlen = max_len)"
   ]
  },
  {
   "cell_type": "code",
   "execution_count": 118,
   "metadata": {},
   "outputs": [],
   "source": [
    "np.save(\"./save/X_train.npy\", X_train)\n",
    "np.save(\"./save/X_test.npy\", X_test)"
   ]
  }
 ],
 "metadata": {
  "hide_input": false,
  "kernelspec": {
   "display_name": "Python 3",
   "language": "python",
   "name": "python3"
  },
  "language_info": {
   "codemirror_mode": {
    "name": "ipython",
    "version": 3
   },
   "file_extension": ".py",
   "mimetype": "text/x-python",
   "name": "python",
   "nbconvert_exporter": "python",
   "pygments_lexer": "ipython3",
   "version": "3.7.7"
  },
  "toc": {
   "base_numbering": 1,
   "nav_menu": {},
   "number_sections": true,
   "sideBar": true,
   "skip_h1_title": false,
   "title_cell": "Table of Contents",
   "title_sidebar": "Contents",
   "toc_cell": false,
   "toc_position": {},
   "toc_section_display": true,
   "toc_window_display": false
  },
  "varInspector": {
   "cols": {
    "lenName": 16,
    "lenType": 16,
    "lenVar": 40
   },
   "kernels_config": {
    "python": {
     "delete_cmd_postfix": "",
     "delete_cmd_prefix": "del ",
     "library": "var_list.py",
     "varRefreshCmd": "print(var_dic_list())"
    },
    "r": {
     "delete_cmd_postfix": ") ",
     "delete_cmd_prefix": "rm(",
     "library": "var_list.r",
     "varRefreshCmd": "cat(var_dic_list()) "
    }
   },
   "types_to_exclude": [
    "module",
    "function",
    "builtin_function_or_method",
    "instance",
    "_Feature"
   ],
   "window_display": false
  }
 },
 "nbformat": 4,
 "nbformat_minor": 4
}
