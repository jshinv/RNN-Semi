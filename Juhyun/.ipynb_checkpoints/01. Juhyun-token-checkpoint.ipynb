{
 "cells": [
  {
   "cell_type": "code",
   "execution_count": 1,
   "metadata": {},
   "outputs": [],
   "source": [
    "import pandas as pd\n",
    "import urllib.request\n",
    "%matplotlib inline\n",
    "import matplotlib.pyplot as plt\n",
    "import re\n",
    "from konlpy.tag import Okt\n",
    "from tensorflow.keras.preprocessing.text import Tokenizer\n",
    "import numpy as np\n",
    "from tensorflow.keras.preprocessing.sequence import pad_sequences\n",
    "from sklearn.model_selection import train_test_split\n",
    "\n",
    "from tensorflow.keras.optimizers import RMSprop, Adam\n",
    "import tensorflow as tf\n",
    "import csv "
   ]
  },
  {
   "cell_type": "code",
   "execution_count": 3,
   "metadata": {},
   "outputs": [
    {
     "name": "stdout",
     "output_type": "stream",
     "text": [
      "(40947, 3)\n"
     ]
    },
    {
     "data": {
      "text/html": [
       "<div>\n",
       "<style scoped>\n",
       "    .dataframe tbody tr th:only-of-type {\n",
       "        vertical-align: middle;\n",
       "    }\n",
       "\n",
       "    .dataframe tbody tr th {\n",
       "        vertical-align: top;\n",
       "    }\n",
       "\n",
       "    .dataframe thead th {\n",
       "        text-align: right;\n",
       "    }\n",
       "</style>\n",
       "<table border=\"1\" class=\"dataframe\">\n",
       "  <thead>\n",
       "    <tr style=\"text-align: right;\">\n",
       "      <th></th>\n",
       "      <th>document</th>\n",
       "      <th>label</th>\n",
       "      <th>star</th>\n",
       "    </tr>\n",
       "  </thead>\n",
       "  <tbody>\n",
       "    <tr>\n",
       "      <th>0</th>\n",
       "      <td>'그래도 우리 잘 해냈지?'라고 말하는 듯한 마지막 눈빛교환이 잊혀지질 않는다</td>\n",
       "      <td>1</td>\n",
       "      <td>9</td>\n",
       "    </tr>\n",
       "    <tr>\n",
       "      <th>1</th>\n",
       "      <td>와..그냥 감탄밖엔 안 나온다. 영상미며 음악이며..조폭, 건달, 검사, 신파 좋아...</td>\n",
       "      <td>1</td>\n",
       "      <td>9</td>\n",
       "    </tr>\n",
       "    <tr>\n",
       "      <th>2</th>\n",
       "      <td>처음 들을때는 몰랐다 이 음악이 슬퍼질거란걸</td>\n",
       "      <td>1</td>\n",
       "      <td>7</td>\n",
       "    </tr>\n",
       "    <tr>\n",
       "      <th>3</th>\n",
       "      <td>꿈과 사랑, 우리는 항상 성공인지 실패인지 평가만 해왔다. 하지만 라라랜드는 말해준...</td>\n",
       "      <td>1</td>\n",
       "      <td>10</td>\n",
       "    </tr>\n",
       "    <tr>\n",
       "      <th>4</th>\n",
       "      <td>마지막 회상신에서 처음과 달리 키스신으로 스토리시작될때 진짜 소리지를뻔...</td>\n",
       "      <td>1</td>\n",
       "      <td>9</td>\n",
       "    </tr>\n",
       "  </tbody>\n",
       "</table>\n",
       "</div>"
      ],
      "text/plain": [
       "                                            document  label  star\n",
       "0       '그래도 우리 잘 해냈지?'라고 말하는 듯한 마지막 눈빛교환이 잊혀지질 않는다       1     9\n",
       "1  와..그냥 감탄밖엔 안 나온다. 영상미며 음악이며..조폭, 건달, 검사, 신파 좋아...      1     9\n",
       "2                          처음 들을때는 몰랐다 이 음악이 슬퍼질거란걸       1     7\n",
       "3  꿈과 사랑, 우리는 항상 성공인지 실패인지 평가만 해왔다. 하지만 라라랜드는 말해준...      1    10\n",
       "4        마지막 회상신에서 처음과 달리 키스신으로 스토리시작될때 진짜 소리지를뻔...       1     9"
      ]
     },
     "execution_count": 3,
     "metadata": {},
     "output_type": "execute_result"
    }
   ],
   "source": [
    "data = pd.read_csv('../datasets/naver_movie_all.csv')\n",
    "data = data[['document', 'label', 'star']]\n",
    "print(data.shape)\n",
    "data.head()"
   ]
  },
  {
   "cell_type": "code",
   "execution_count": 4,
   "metadata": {},
   "outputs": [],
   "source": [
    "train_data, test_data = train_test_split(data, test_size=0.33, random_state=777)"
   ]
  },
  {
   "cell_type": "code",
   "execution_count": 5,
   "metadata": {},
   "outputs": [
    {
     "name": "stdout",
     "output_type": "stream",
     "text": [
      "훈련용 리뷰 개수 : 27434\n",
      "테스트용 리뷰 개수 : 13513\n"
     ]
    }
   ],
   "source": [
    "print('훈련용 리뷰 개수 :',len(train_data)) # 훈련용 리뷰 개수 출력\n",
    "print('테스트용 리뷰 개수 :',len(test_data)) # 테스트용 리뷰 개수 출력"
   ]
  },
  {
   "cell_type": "code",
   "execution_count": 6,
   "metadata": {},
   "outputs": [
    {
     "data": {
      "text/html": [
       "<div>\n",
       "<style scoped>\n",
       "    .dataframe tbody tr th:only-of-type {\n",
       "        vertical-align: middle;\n",
       "    }\n",
       "\n",
       "    .dataframe tbody tr th {\n",
       "        vertical-align: top;\n",
       "    }\n",
       "\n",
       "    .dataframe thead th {\n",
       "        text-align: right;\n",
       "    }\n",
       "</style>\n",
       "<table border=\"1\" class=\"dataframe\">\n",
       "  <thead>\n",
       "    <tr style=\"text-align: right;\">\n",
       "      <th></th>\n",
       "      <th>document</th>\n",
       "      <th>label</th>\n",
       "      <th>star</th>\n",
       "    </tr>\n",
       "  </thead>\n",
       "  <tbody>\n",
       "    <tr>\n",
       "      <th>6655</th>\n",
       "      <td>넷플릭스에도 내주세요ㅠㅠㅠㅠ</td>\n",
       "      <td>1</td>\n",
       "      <td>10</td>\n",
       "    </tr>\n",
       "    <tr>\n",
       "      <th>2860</th>\n",
       "      <td>세상에... 수퍼맨의 액션을 제대로 보여주다니... 만화에서도 표현하지 못할 영상미...</td>\n",
       "      <td>1</td>\n",
       "      <td>10</td>\n",
       "    </tr>\n",
       "    <tr>\n",
       "      <th>21868</th>\n",
       "      <td>저렴하게 만들었네..  비용 얼마 안들었겠다</td>\n",
       "      <td>0</td>\n",
       "      <td>4</td>\n",
       "    </tr>\n",
       "    <tr>\n",
       "      <th>6166</th>\n",
       "      <td>인생을 담은 내 인생영화를 통해 조금이나마 인생을 배웠다</td>\n",
       "      <td>1</td>\n",
       "      <td>10</td>\n",
       "    </tr>\n",
       "    <tr>\n",
       "      <th>30524</th>\n",
       "      <td>재난영화인줄 알고 밧다가 2시간 진짜 통으로 잣다 기대말고 봐라 시간아까움</td>\n",
       "      <td>0</td>\n",
       "      <td>2</td>\n",
       "    </tr>\n",
       "  </tbody>\n",
       "</table>\n",
       "</div>"
      ],
      "text/plain": [
       "                                                document  label  star\n",
       "6655                                    넷플릭스에도 내주세요ㅠㅠㅠㅠ       1    10\n",
       "2860   세상에... 수퍼맨의 액션을 제대로 보여주다니... 만화에서도 표현하지 못할 영상미...      1    10\n",
       "21868                          저렴하게 만들었네..  비용 얼마 안들었겠다       0     4\n",
       "6166                    인생을 담은 내 인생영화를 통해 조금이나마 인생을 배웠다       1    10\n",
       "30524         재난영화인줄 알고 밧다가 2시간 진짜 통으로 잣다 기대말고 봐라 시간아까움       0     2"
      ]
     },
     "execution_count": 6,
     "metadata": {},
     "output_type": "execute_result"
    }
   ],
   "source": [
    "train_data[:5] # 상위 5개 출력"
   ]
  },
  {
   "cell_type": "code",
   "execution_count": 7,
   "metadata": {},
   "outputs": [
    {
     "name": "stdout",
     "output_type": "stream",
     "text": [
      "테스트용 리뷰 개수 : 13513\n"
     ]
    }
   ],
   "source": [
    "print('테스트용 리뷰 개수 :',len(test_data)) # 테스트용 리뷰 개수 출력"
   ]
  },
  {
   "cell_type": "code",
   "execution_count": 8,
   "metadata": {},
   "outputs": [
    {
     "data": {
      "text/html": [
       "<div>\n",
       "<style scoped>\n",
       "    .dataframe tbody tr th:only-of-type {\n",
       "        vertical-align: middle;\n",
       "    }\n",
       "\n",
       "    .dataframe tbody tr th {\n",
       "        vertical-align: top;\n",
       "    }\n",
       "\n",
       "    .dataframe thead th {\n",
       "        text-align: right;\n",
       "    }\n",
       "</style>\n",
       "<table border=\"1\" class=\"dataframe\">\n",
       "  <thead>\n",
       "    <tr style=\"text-align: right;\">\n",
       "      <th></th>\n",
       "      <th>document</th>\n",
       "      <th>label</th>\n",
       "      <th>star</th>\n",
       "    </tr>\n",
       "  </thead>\n",
       "  <tbody>\n",
       "    <tr>\n",
       "      <th>21182</th>\n",
       "      <td>인생은 이미지다</td>\n",
       "      <td>1</td>\n",
       "      <td>9</td>\n",
       "    </tr>\n",
       "    <tr>\n",
       "      <th>33369</th>\n",
       "      <td>무서울지 알았는데 사회적 메세지가 담겨 있어서 슬펐네요ㅠ 어린이들을 지켜주는 어른들...</td>\n",
       "      <td>1</td>\n",
       "      <td>10</td>\n",
       "    </tr>\n",
       "    <tr>\n",
       "      <th>37624</th>\n",
       "      <td>기대없이 봤는데 그 이상을 보여준 영화 이 영화를 왜 이제야 본걸까..</td>\n",
       "      <td>1</td>\n",
       "      <td>10</td>\n",
       "    </tr>\n",
       "    <tr>\n",
       "      <th>5063</th>\n",
       "      <td>난생처음 평점댓글달아본다..나의 인생영화라해도 과언이아니다..여기적힌댓글들을 다 이...</td>\n",
       "      <td>1</td>\n",
       "      <td>10</td>\n",
       "    </tr>\n",
       "    <tr>\n",
       "      <th>5640</th>\n",
       "      <td>여러분 제발 영화 상영하고 있을 때 놓치지말고 영화관 가서 보세요... 제발.. 이...</td>\n",
       "      <td>1</td>\n",
       "      <td>10</td>\n",
       "    </tr>\n",
       "  </tbody>\n",
       "</table>\n",
       "</div>"
      ],
      "text/plain": [
       "                                                document  label  star\n",
       "21182                                          인생은 이미지다       1     9\n",
       "33369  무서울지 알았는데 사회적 메세지가 담겨 있어서 슬펐네요ㅠ 어린이들을 지켜주는 어른들...      1    10\n",
       "37624           기대없이 봤는데 그 이상을 보여준 영화 이 영화를 왜 이제야 본걸까..       1    10\n",
       "5063   난생처음 평점댓글달아본다..나의 인생영화라해도 과언이아니다..여기적힌댓글들을 다 이...      1    10\n",
       "5640   여러분 제발 영화 상영하고 있을 때 놓치지말고 영화관 가서 보세요... 제발.. 이...      1    10"
      ]
     },
     "execution_count": 8,
     "metadata": {},
     "output_type": "execute_result"
    }
   ],
   "source": [
    "test_data[:5]"
   ]
  },
  {
   "cell_type": "markdown",
   "metadata": {},
   "source": [
    "### Preprocessing"
   ]
  },
  {
   "cell_type": "code",
   "execution_count": 9,
   "metadata": {},
   "outputs": [
    {
     "data": {
      "text/plain": [
       "(24084, 2)"
      ]
     },
     "execution_count": 9,
     "metadata": {},
     "output_type": "execute_result"
    }
   ],
   "source": [
    "# 데이터 중복 확인\n",
    "train_data['document'].nunique(), train_data['label'].nunique()"
   ]
  },
  {
   "cell_type": "code",
   "execution_count": 13,
   "metadata": {},
   "outputs": [
    {
     "name": "stderr",
     "output_type": "stream",
     "text": [
      "/Users/jshin/opt/anaconda3/envs/ml2/lib/python3.7/site-packages/ipykernel_launcher.py:2: SettingWithCopyWarning: \n",
      "A value is trying to be set on a copy of a slice from a DataFrame\n",
      "\n",
      "See the caveats in the documentation: https://pandas.pydata.org/pandas-docs/stable/user_guide/indexing.html#returning-a-view-versus-a-copy\n",
      "  \n"
     ]
    }
   ],
   "source": [
    "# document 열에서 중복인 내용이 있다면 중복 제거\n",
    "train_data.drop_duplicates(subset=['document'], inplace=True) "
   ]
  },
  {
   "cell_type": "code",
   "execution_count": 14,
   "metadata": {},
   "outputs": [
    {
     "name": "stdout",
     "output_type": "stream",
     "text": [
      "총 샘플의 수 : 24084\n"
     ]
    }
   ],
   "source": [
    "print('총 샘플의 수 :',len(train_data))"
   ]
  },
  {
   "cell_type": "code",
   "execution_count": 15,
   "metadata": {},
   "outputs": [],
   "source": [
    "# train_data['label'].value_counts().plot(kind = 'bar')"
   ]
  },
  {
   "cell_type": "code",
   "execution_count": 16,
   "metadata": {},
   "outputs": [
    {
     "name": "stdout",
     "output_type": "stream",
     "text": [
      "   label  count\n",
      "0      0   5748\n",
      "1      1  18336\n"
     ]
    }
   ],
   "source": [
    "# 긍정과 부정의 수를 확인한다 (label=0이면 부정, label=1이면 긍정으로 표시한다)\n",
    "\n",
    "# train_data['label'].value_counts()\n",
    "print(train_data.groupby('label').size().reset_index(name = 'count'))"
   ]
  },
  {
   "cell_type": "code",
   "execution_count": 17,
   "metadata": {},
   "outputs": [
    {
     "data": {
      "text/plain": [
       "1    18336\n",
       "0     5748\n",
       "Name: label, dtype: int64"
      ]
     },
     "execution_count": 17,
     "metadata": {},
     "output_type": "execute_result"
    }
   ],
   "source": [
    "train_data['label'].value_counts()"
   ]
  },
  {
   "cell_type": "code",
   "execution_count": 18,
   "metadata": {},
   "outputs": [
    {
     "name": "stdout",
     "output_type": "stream",
     "text": [
      "False\n",
      "document    False\n",
      "label       False\n",
      "star        False\n",
      "dtype: bool\n"
     ]
    }
   ],
   "source": [
    "# 결측치 확인하기 - 나중참고용\n",
    "# print(train_data.isnull().sum())\n",
    "train_data.loc[train_data.document.isnull()]\n",
    "train_data = train_data.dropna(how = 'any') # Null 값이 존재하는 행 제거\n",
    "\n",
    "print(train_data.isnull().values.any()) # Null 값이 존재하는지 확인\n",
    "print(train_data.isnull().any()) # Null 값이 존재하는지 확인\n",
    "# print(len(train_data))"
   ]
  },
  {
   "cell_type": "code",
   "execution_count": 19,
   "metadata": {},
   "outputs": [],
   "source": [
    "# 한글과 공백을 제외하고 모두 제거\n",
    "train_data['document'] = train_data['document'].str.replace(\"[^ㄱ-ㅎㅏ-ㅣ가-힣 ]\",\"\")\n",
    "\n",
    "# 알파벳과 공백을 제외하고 모두 제거(나중에 영어텍스트만 남기고 싶을때 사용)\n",
    "# train_data['document'] = train_data['document'].str.replace(\"[^a-zA-Z ]\",\"\")"
   ]
  },
  {
   "cell_type": "code",
   "execution_count": 20,
   "metadata": {},
   "outputs": [],
   "source": [
    "# https://www.unicode.org/charts/PDF/U3130.pdf\n",
    "# ㄱ ~ ㅎ: 3131 ~ 314E\n",
    "# ㅏ ~ ㅣ: 314F ~ 3163\n",
    "# https://www.unicode.org/charts/PDF/UAC00.pdf\n",
    "# 가 ~ 힣"
   ]
  },
  {
   "cell_type": "code",
   "execution_count": 21,
   "metadata": {},
   "outputs": [
    {
     "data": {
      "text/html": [
       "<div>\n",
       "<style scoped>\n",
       "    .dataframe tbody tr th:only-of-type {\n",
       "        vertical-align: middle;\n",
       "    }\n",
       "\n",
       "    .dataframe tbody tr th {\n",
       "        vertical-align: top;\n",
       "    }\n",
       "\n",
       "    .dataframe thead th {\n",
       "        text-align: right;\n",
       "    }\n",
       "</style>\n",
       "<table border=\"1\" class=\"dataframe\">\n",
       "  <thead>\n",
       "    <tr style=\"text-align: right;\">\n",
       "      <th></th>\n",
       "      <th>document</th>\n",
       "      <th>label</th>\n",
       "      <th>star</th>\n",
       "    </tr>\n",
       "  </thead>\n",
       "  <tbody>\n",
       "    <tr>\n",
       "      <th>6655</th>\n",
       "      <td>넷플릭스에도 내주세요ㅠㅠㅠㅠ</td>\n",
       "      <td>1</td>\n",
       "      <td>10</td>\n",
       "    </tr>\n",
       "    <tr>\n",
       "      <th>2860</th>\n",
       "      <td>세상에 수퍼맨의 액션을 제대로 보여주다니 만화에서도 표현하지 못할 영상미를 제공한다...</td>\n",
       "      <td>1</td>\n",
       "      <td>10</td>\n",
       "    </tr>\n",
       "    <tr>\n",
       "      <th>21868</th>\n",
       "      <td>저렴하게 만들었네  비용 얼마 안들었겠다</td>\n",
       "      <td>0</td>\n",
       "      <td>4</td>\n",
       "    </tr>\n",
       "    <tr>\n",
       "      <th>6166</th>\n",
       "      <td>인생을 담은 내 인생영화를 통해 조금이나마 인생을 배웠다</td>\n",
       "      <td>1</td>\n",
       "      <td>10</td>\n",
       "    </tr>\n",
       "    <tr>\n",
       "      <th>30524</th>\n",
       "      <td>재난영화인줄 알고 밧다가 시간 진짜 통으로 잣다 기대말고 봐라 시간아까움</td>\n",
       "      <td>0</td>\n",
       "      <td>2</td>\n",
       "    </tr>\n",
       "  </tbody>\n",
       "</table>\n",
       "</div>"
      ],
      "text/plain": [
       "                                                document  label  star\n",
       "6655                                    넷플릭스에도 내주세요ㅠㅠㅠㅠ       1    10\n",
       "2860   세상에 수퍼맨의 액션을 제대로 보여주다니 만화에서도 표현하지 못할 영상미를 제공한다...      1    10\n",
       "21868                            저렴하게 만들었네  비용 얼마 안들었겠다       0     4\n",
       "6166                    인생을 담은 내 인생영화를 통해 조금이나마 인생을 배웠다       1    10\n",
       "30524          재난영화인줄 알고 밧다가 시간 진짜 통으로 잣다 기대말고 봐라 시간아까움       0     2"
      ]
     },
     "execution_count": 21,
     "metadata": {},
     "output_type": "execute_result"
    }
   ],
   "source": [
    "train_data[:5]"
   ]
  },
  {
   "cell_type": "code",
   "execution_count": 22,
   "metadata": {},
   "outputs": [
    {
     "name": "stdout",
     "output_type": "stream",
     "text": [
      "document    0\n",
      "label       0\n",
      "star        0\n",
      "dtype: int64\n"
     ]
    }
   ],
   "source": [
    "# 영어로만 작성된 리뷰도 삭제 됨\n",
    "train_data['document'].replace('', np.nan, inplace=True)\n",
    "print(train_data.isnull().sum())"
   ]
  },
  {
   "cell_type": "code",
   "execution_count": 23,
   "metadata": {},
   "outputs": [
    {
     "data": {
      "text/html": [
       "<div>\n",
       "<style scoped>\n",
       "    .dataframe tbody tr th:only-of-type {\n",
       "        vertical-align: middle;\n",
       "    }\n",
       "\n",
       "    .dataframe tbody tr th {\n",
       "        vertical-align: top;\n",
       "    }\n",
       "\n",
       "    .dataframe thead th {\n",
       "        text-align: right;\n",
       "    }\n",
       "</style>\n",
       "<table border=\"1\" class=\"dataframe\">\n",
       "  <thead>\n",
       "    <tr style=\"text-align: right;\">\n",
       "      <th></th>\n",
       "      <th>document</th>\n",
       "      <th>label</th>\n",
       "      <th>star</th>\n",
       "    </tr>\n",
       "  </thead>\n",
       "  <tbody>\n",
       "  </tbody>\n",
       "</table>\n",
       "</div>"
      ],
      "text/plain": [
       "Empty DataFrame\n",
       "Columns: [document, label, star]\n",
       "Index: []"
      ]
     },
     "execution_count": 23,
     "metadata": {},
     "output_type": "execute_result"
    }
   ],
   "source": [
    "train_data.loc[train_data.document.isnull()][:5]"
   ]
  },
  {
   "cell_type": "code",
   "execution_count": 24,
   "metadata": {},
   "outputs": [
    {
     "name": "stdout",
     "output_type": "stream",
     "text": [
      "24084\n"
     ]
    }
   ],
   "source": [
    "train_data = train_data.dropna(how = 'any')\n",
    "print(len(train_data))"
   ]
  },
  {
   "cell_type": "code",
   "execution_count": 25,
   "metadata": {},
   "outputs": [],
   "source": [
    "save_csv = train_data[:100]\n",
    "save_csv.to_csv('tain_data.csv')"
   ]
  },
  {
   "cell_type": "code",
   "execution_count": null,
   "metadata": {},
   "outputs": [],
   "source": [
    "### test 데이터 전처리(tain과 동일)"
   ]
  },
  {
   "cell_type": "code",
   "execution_count": 27,
   "metadata": {},
   "outputs": [
    {
     "name": "stdout",
     "output_type": "stream",
     "text": [
      "전처리 후 테스트용 샘플의 개수 : 12618\n"
     ]
    }
   ],
   "source": [
    "test_data.drop_duplicates(subset = ['document'], inplace=True) # document 열에서 중복인 내용이 있다면 중복 제거\n",
    "test_data['document'] = test_data['document'].str.replace(\"[^ㄱ-ㅎㅏ-ㅣ가-힣 ]\",\"\") # 정규 표현식 수행\n",
    "test_data['document'].replace('', np.nan, inplace=True) # 공백은 Null 값으로 변경\n",
    "test_data = test_data.dropna(how='any') # Null 값 제거\n",
    "print('전처리 후 테스트용 샘플의 개수 :',len(test_data))"
   ]
  },
  {
   "cell_type": "markdown",
   "metadata": {},
   "source": [
    "### Tokenization"
   ]
  },
  {
   "cell_type": "code",
   "execution_count": 28,
   "metadata": {},
   "outputs": [],
   "source": [
    "# 불용어 제거, 한국어의 조사, 접속사 등 -> 지속적으로 검토하면서 추가해서 삭제\n",
    "stopwords = ['의','가','이','은','들','는','좀','잘','걍','과','도','를','으로','자','에','와','한','하다']"
   ]
  },
  {
   "cell_type": "code",
   "execution_count": 29,
   "metadata": {},
   "outputs": [],
   "source": [
    "# 토큰화를 위한 형태소 분석기는 KoNLPy의 Okt\n",
    "okt = Okt()\n",
    "# okt.morphs('2000년이후 최고의 서스펜스... 라고 했지만, 이걸 왜 봤을까', stem = True)"
   ]
  },
  {
   "cell_type": "code",
   "execution_count": 30,
   "metadata": {},
   "outputs": [
    {
     "data": {
      "text/html": [
       "<div>\n",
       "<style scoped>\n",
       "    .dataframe tbody tr th:only-of-type {\n",
       "        vertical-align: middle;\n",
       "    }\n",
       "\n",
       "    .dataframe tbody tr th {\n",
       "        vertical-align: top;\n",
       "    }\n",
       "\n",
       "    .dataframe thead th {\n",
       "        text-align: right;\n",
       "    }\n",
       "</style>\n",
       "<table border=\"1\" class=\"dataframe\">\n",
       "  <thead>\n",
       "    <tr style=\"text-align: right;\">\n",
       "      <th></th>\n",
       "    </tr>\n",
       "    <tr>\n",
       "      <th>아</th>\n",
       "    </tr>\n",
       "  </thead>\n",
       "  <tbody>\n",
       "    <tr>\n",
       "      <th>휴</th>\n",
       "    </tr>\n",
       "    <tr>\n",
       "      <th>아이구</th>\n",
       "    </tr>\n",
       "    <tr>\n",
       "      <th>아이쿠</th>\n",
       "    </tr>\n",
       "    <tr>\n",
       "      <th>아이고</th>\n",
       "    </tr>\n",
       "    <tr>\n",
       "      <th>어</th>\n",
       "    </tr>\n",
       "    <tr>\n",
       "      <th>...</th>\n",
       "    </tr>\n",
       "    <tr>\n",
       "      <th>일곱</th>\n",
       "    </tr>\n",
       "    <tr>\n",
       "      <th>여덟</th>\n",
       "    </tr>\n",
       "    <tr>\n",
       "      <th>아홉</th>\n",
       "    </tr>\n",
       "    <tr>\n",
       "      <th>령</th>\n",
       "    </tr>\n",
       "    <tr>\n",
       "      <th>영</th>\n",
       "    </tr>\n",
       "  </tbody>\n",
       "</table>\n",
       "<p>674 rows × 0 columns</p>\n",
       "</div>"
      ],
      "text/plain": [
       "Empty DataFrame\n",
       "Columns: []\n",
       "Index: [휴, 아이구, 아이쿠, 아이고, 어, 나, 우리, 저희, 따라, 의해, 을, 를, 에, 의, 가, 으로, 로, 에게, 뿐이다, 의거하여, 근거하여, 입각하여, 기준으로, 예하면, 예를 들면, 예를 들자면, 저, 소인, 소생, 저희, 지말고, 하지마, 하지마라, 다른, 물론, 또한, 그리고, 비길수 없다, 해서는 안된다, 뿐만 아니라, 만이 아니다, 만은 아니다, 막론하고, 관계없이, 그치지 않다, 그러나, 그런데, 하지만, 든간에, 논하지 않다, 따지지 않다, 설사, 비록, 더라도, 아니면, 만 못하다, 하는 편이 낫다, 불문하고, 향하여, 향해서, 향하다, 쪽으로, 틈타, 이용하여, 타다, 오르다, 제외하고, 이 외에, 이 밖에, 하여야, 비로소, 한다면 몰라도, 외에도, 이곳, 여기, 부터, 기점으로, 따라서, 할 생각이다, 하려고하다, 이리하여, 그리하여, 그렇게 함으로써, 하지만, 일때, 할때, 앞에서, 중에서, 보는데서, 으로써, 로써, 까지, 해야한다, 일것이다, 반드시, 할줄알다, 할수있다, 할수있어, 임에 틀림없다, 한다면, ...]\n",
       "\n",
       "[674 rows x 0 columns]"
      ]
     },
     "execution_count": 30,
     "metadata": {},
     "output_type": "execute_result"
    }
   ],
   "source": [
    "ko_file = pd.read_csv('ko.csv', index_col=0)\n",
    "ko_file"
   ]
  },
  {
   "cell_type": "code",
   "execution_count": 31,
   "metadata": {
    "collapsed": true,
    "jupyter": {
     "outputs_hidden": true
    }
   },
   "outputs": [
    {
     "data": {
      "text/html": [
       "<div>\n",
       "<style scoped>\n",
       "    .dataframe tbody tr th:only-of-type {\n",
       "        vertical-align: middle;\n",
       "    }\n",
       "\n",
       "    .dataframe tbody tr th {\n",
       "        vertical-align: top;\n",
       "    }\n",
       "\n",
       "    .dataframe thead th {\n",
       "        text-align: right;\n",
       "    }\n",
       "</style>\n",
       "<table border=\"1\" class=\"dataframe\">\n",
       "  <thead>\n",
       "    <tr style=\"text-align: right;\">\n",
       "      <th></th>\n",
       "      <th>document</th>\n",
       "      <th>label</th>\n",
       "      <th>star</th>\n",
       "    </tr>\n",
       "  </thead>\n",
       "  <tbody>\n",
       "    <tr>\n",
       "      <th>6655</th>\n",
       "      <td>넷플릭스에도 내주세요ㅠㅠㅠㅠ</td>\n",
       "      <td>1</td>\n",
       "      <td>10</td>\n",
       "    </tr>\n",
       "    <tr>\n",
       "      <th>2860</th>\n",
       "      <td>세상에 수퍼맨의 액션을 제대로 보여주다니 만화에서도 표현하지 못할 영상미를 제공한다...</td>\n",
       "      <td>1</td>\n",
       "      <td>10</td>\n",
       "    </tr>\n",
       "    <tr>\n",
       "      <th>21868</th>\n",
       "      <td>저렴하게 만들었네  비용 얼마 안들었겠다</td>\n",
       "      <td>0</td>\n",
       "      <td>4</td>\n",
       "    </tr>\n",
       "    <tr>\n",
       "      <th>6166</th>\n",
       "      <td>인생을 담은 내 인생영화를 통해 조금이나마 인생을 배웠다</td>\n",
       "      <td>1</td>\n",
       "      <td>10</td>\n",
       "    </tr>\n",
       "    <tr>\n",
       "      <th>30524</th>\n",
       "      <td>재난영화인줄 알고 밧다가 시간 진짜 통으로 잣다 기대말고 봐라 시간아까움</td>\n",
       "      <td>0</td>\n",
       "      <td>2</td>\n",
       "    </tr>\n",
       "    <tr>\n",
       "      <th>...</th>\n",
       "      <td>...</td>\n",
       "      <td>...</td>\n",
       "      <td>...</td>\n",
       "    </tr>\n",
       "    <tr>\n",
       "      <th>28788</th>\n",
       "      <td>너무 허접해서 경악할 정도 스토리도 긴장감도 뭐도 도 없음 연기자들도 내가 뭘 하고...</td>\n",
       "      <td>0</td>\n",
       "      <td>2</td>\n",
       "    </tr>\n",
       "    <tr>\n",
       "      <th>26695</th>\n",
       "      <td>이딴걸 영화라고</td>\n",
       "      <td>0</td>\n",
       "      <td>1</td>\n",
       "    </tr>\n",
       "    <tr>\n",
       "      <th>36785</th>\n",
       "      <td>관람객멜로인줄 일고 보러깄는데 현대사회에 대해 다룬영화인것 같았습니다 니름 볼만했고...</td>\n",
       "      <td>1</td>\n",
       "      <td>7</td>\n",
       "    </tr>\n",
       "    <tr>\n",
       "      <th>40535</th>\n",
       "      <td>심야보고 나오는데 집구석에 언니가 생각나는 영화</td>\n",
       "      <td>1</td>\n",
       "      <td>10</td>\n",
       "    </tr>\n",
       "    <tr>\n",
       "      <th>15931</th>\n",
       "      <td>개 꿀잼 감동이 너무와 울었습니다 이거보고 책도 삼</td>\n",
       "      <td>1</td>\n",
       "      <td>10</td>\n",
       "    </tr>\n",
       "  </tbody>\n",
       "</table>\n",
       "<p>24084 rows × 3 columns</p>\n",
       "</div>"
      ],
      "text/plain": [
       "                                                document  label  star\n",
       "6655                                    넷플릭스에도 내주세요ㅠㅠㅠㅠ       1    10\n",
       "2860   세상에 수퍼맨의 액션을 제대로 보여주다니 만화에서도 표현하지 못할 영상미를 제공한다...      1    10\n",
       "21868                            저렴하게 만들었네  비용 얼마 안들었겠다       0     4\n",
       "6166                    인생을 담은 내 인생영화를 통해 조금이나마 인생을 배웠다       1    10\n",
       "30524          재난영화인줄 알고 밧다가 시간 진짜 통으로 잣다 기대말고 봐라 시간아까움       0     2\n",
       "...                                                  ...    ...   ...\n",
       "28788  너무 허접해서 경악할 정도 스토리도 긴장감도 뭐도 도 없음 연기자들도 내가 뭘 하고...      0     2\n",
       "26695                                          이딴걸 영화라고       0     1\n",
       "36785  관람객멜로인줄 일고 보러깄는데 현대사회에 대해 다룬영화인것 같았습니다 니름 볼만했고...      1     7\n",
       "40535                        심야보고 나오는데 집구석에 언니가 생각나는 영화       1    10\n",
       "15931                      개 꿀잼 감동이 너무와 울었습니다 이거보고 책도 삼       1    10\n",
       "\n",
       "[24084 rows x 3 columns]"
      ]
     },
     "execution_count": 31,
     "metadata": {},
     "output_type": "execute_result"
    }
   ],
   "source": [
    "jdata = train_data\n",
    "\n",
    "jdata"
   ]
  },
  {
   "cell_type": "markdown",
   "metadata": {},
   "source": [
    "### 명사만 추출하기"
   ]
  },
  {
   "cell_type": "code",
   "execution_count": 32,
   "metadata": {},
   "outputs": [],
   "source": [
    "# 불용어 제거\n",
    "# 형태소 토큰화\n",
    "X_train = []\n",
    "for sentence in train_data['document']:\n",
    "    temp_X = []\n",
    "    temp_X = okt.morphs(sentence, stem=True) # 토큰화\n",
    "    temp_X = [word for word in temp_X if not word in ko_file] # 불용어 제거\n",
    "    X_train.append(temp_X)"
   ]
  },
  {
   "cell_type": "code",
   "execution_count": 33,
   "metadata": {},
   "outputs": [
    {
     "data": {
      "text/plain": [
       "['옛날', '영화', '느낌', '핵', '노잼', '뮤지컬', '들어가다', '평점', '보다', '평론가', '들', 'ㅋㅋ']"
      ]
     },
     "execution_count": 33,
     "metadata": {},
     "output_type": "execute_result"
    }
   ],
   "source": [
    "X_train[10]"
   ]
  },
  {
   "cell_type": "code",
   "execution_count": 37,
   "metadata": {},
   "outputs": [
    {
     "name": "stdout",
     "output_type": "stream",
     "text": [
      "['넷플릭스', '에도', '내주다', 'ㅠㅠㅠㅠ']\n"
     ]
    }
   ],
   "source": [
    "print(X_train[0])"
   ]
  },
  {
   "cell_type": "code",
   "execution_count": 38,
   "metadata": {},
   "outputs": [],
   "source": [
    "X_test = []\n",
    "for sentence in test_data['document']:\n",
    "    temp_X = []\n",
    "    temp_X = okt.morphs(sentence, stem=True) # 토큰화\n",
    "    temp_X = [word for word in temp_X if not word in ko_file] # 불용어 제거\n",
    "    X_test.append(temp_X)"
   ]
  },
  {
   "cell_type": "code",
   "execution_count": null,
   "metadata": {},
   "outputs": [],
   "source": [
    "### 정수 인코딩"
   ]
  },
  {
   "cell_type": "code",
   "execution_count": 39,
   "metadata": {},
   "outputs": [],
   "source": [
    "tokenizer = Tokenizer()\n",
    "tokenizer.fit_on_texts(X_train)"
   ]
  },
  {
   "cell_type": "code",
   "execution_count": 40,
   "metadata": {
    "collapsed": true,
    "jupyter": {
     "outputs_hidden": true
    }
   },
   "outputs": [
    {
     "name": "stdout",
     "output_type": "stream",
     "text": [
      "{'이': 1, '영화': 2, '하다': 3, '보다': 4, '에': 5, '의': 6, '가': 7, '을': 8, '들': 9, '도': 10, '는': 11, '은': 12, '를': 13, '이다': 14, '있다': 15, '좋다': 16, '없다': 17, '너무': 18, '되다': 19, '같다': 20, '다': 21, '으로': 22, '적': 23, '한': 24, '관람객': 25, '진짜': 26, '로': 27, '에서': 28, '스토리': 29, '아니다': 30, '연기': 31, '않다': 32, '만': 33, '재밌다': 34, '과': 35, '생각': 36, '것': 37, '정말': 38, '그': 39, '배우': 40, '평점': 41, '사람': 42, '나오다': 43, '안': 44, '인': 45, '보고': 46, '시간': 47, '점': 48, '더': 49, '나': 50, '만들다': 51, '내': 52, '최고': 53, '고': 54, '수': 55, '게': 56, '못': 57, '왜': 58, '와': 59, '자다': 60, '가다': 61, '하고': 62, '까지': 63, '때': 64, '말': 65, '그냥': 66, '연출': 67, '감독': 68, '들다': 69, '긴장감': 70, '모르다': 71, '싶다': 72, '평': 73, '감상': 74, '오다': 75, '이렇다': 76, '정도': 77, '거': 78, '처음': 79, '많다': 80, '장면': 81, '요': 82, '그렇다': 83, '볼': 84, '무섭다': 85, '마지막': 86, '사랑': 87, '감동': 88, '중': 89, '액션': 90, '느낌': 91, '주다': 92, '잘': 93, '하나': 94, '꼭': 95, '알다': 96, '좀': 97, '지루하다': 98, '영': 99, '보기': 100, '그리고': 101, '인생': 102, '네': 103, '저': 104, '재미있다': 105, '내용': 106, '작품': 107, 'ㅠㅠ': 108, '분': 109, '느끼다': 110, '아': 111, '아깝다': 112, '아쉽다': 113, '부터': 114, '이해': 115, '먹다': 116, 'ㅋㅋ': 117, '두': 118, '개': 119, '남다': 120, '뭐': 121, '이렇게': 122, '돈': 123, '끝': 124, '지': 125, '음악': 126, '다시': 127, '임': 128, '마음': 129, '성': 130, '하': 131, '주인공': 132, '많이': 133, '듯': 134, '받다': 135, '걸': 136, '재미': 137, '좋아하다': 138, '또': 139, '없이': 140, '나다': 141, '서': 142, '님': 143, '때문': 144, '몰입': 145, '인데': 146, '감': 147, '번': 148, '에게': 149, '면': 150, '끝나다': 151, '이야기': 152, '이고': 153, '슬프다': 154, '아름답다': 155, '중간': 156, '해주다': 157, '안되다': 158, '결말': 159, '부분': 160, '내내': 161, '영상': 162, '되어다': 163, '년': 164, '명작': 165, '라는': 166, '넘다': 167, '재미없다': 168, '한국': 169, '랑': 170, '라': 171, '함': 172, '공포': 173, '기대': 174, '라고': 175, '어떻다': 176, '공포영화': 177, '영화관': 178, '기': 179, '기분': 180, '한번': 181, '일': 182, '포함': 183, '미치다': 184, '현실': 185, '맞다': 186, '개연': 187, '추천': 188, '이나': 189, '모든': 190, 'ㅋㅋㅋ': 191, '괜찮다': 192, '속': 193, '스포일러': 194, '지금': 195, '버리다': 196, '상미': 197, '난': 198, '크다': 199, '알': 200, '처럼': 201, '별로': 202, '개인': 203, '여운': 204, '개봉': 205, '모두': 206, '다른': 207, '연기력': 208, '뻔하다': 209, '초반': 210, '줄': 211, '감정': 212, '우리': 213, '역시': 214, '눈물': 215, '너': 216, '이건': 217, '차다': 218, '높다': 219, '전': 220, '말다': 221, '계속': 222, '별': 223, '엔': 224, '노래': 225, '제': 226, '대': 227, '살다': 228, '기대하다': 229, '노잼': 230, '알바': 231, '소름': 232, '눈': 233, '표현': 234, '믿다': 235, '자체': 236, 'ㅠ': 237, '야하다': 238, '내다': 239, '낮다': 240, '극장': 241, '근데': 242, '오랜': 243, '인지': 244, '솔직하다': 245, '여자': 246, '보여주다': 247, '시작': 248, '이라': 249, '남자': 250, '대한': 251, '전개': 252, '이랑': 253, '끄다': 254, '조금': 255, '이제': 256, '이상': 257, '이영화': 258, '가장': 259, '가슴': 260, '느껴지다': 261, '엽문': 262, '무슨': 263, '하지만': 264, '원작': 265, '진실': 266, '건': 267, '일본': 268, '죽다': 269, '돼다': 270, '잔잔하다': 271, '봄': 272, '화': 273, 'ㅎㅎ': 274, '급': 275, '여': 276, '넷플릭스': 277, '이름': 278, '힐링': 279, '그래도': 280, '완벽하다': 281, '최악': 282, '편': 283, 'ㅋ': 284, '여주': 285, '인간': 286, '이런': 287, '긴장': 288, '총': 289, '에는': 290, '배경': 291, '코로나': 292, '울다': 293, '기억': 294, '공감': 295, '본': 296, '대단하다': 297, '보지': 298, '이유': 299, '대박': 300, '친구': 301, '건지다': 302, '사냥': 303, '쓰다': 304, '집': 305, '극': 306, '밖에': 307, '후': 308, '빠지다': 309, '수준': 310, '지다': 311, '모습': 312, 'ㅜㅜ': 313, '보이다': 314, '분위기': 315, '특히': 316, '뭔가': 317, '돋다': 318, '소리': 319, '소재': 320, '캐릭터': 321, '이라는': 322, '지만': 323, '치다': 324, '같이': 325, '훌륭하다': 326, '완전': 327, '깊다': 328, '애': 329, '대사': 330, '멋지다': 331, '한테': 332, '무엇': 333, '충분하다': 334, '사실': 335, '가족': 336, '감사하다': 337, '매력': 338, '명': 339, '움': 340, '감성': 341, '재다': 342, '후반': 343, '스릴러': 344, '동안': 345, '야': 346, '력': 347, '엄청': 348, '위': 349, '몰입도': 350, '뿐': 351, '마다': 352, '해보다': 353, '신선하다': 354, '딱': 355, '쓰레기': 356, '이라고': 357, '의미': 358, '니': 359, '시대': 360, '삶': 361, '남': 362, '상': 363, '견자단': 364, '혼자': 365, '아무': 366, '이네': 367, '김남길': 368, '생각나다': 369, '놀라다': 370, '세상': 371, '자': 372, '진심': 373, '다르다': 374, '찾다': 375, '인가': 376, '늘다': 377, '집중': 378, '아프다': 379, '영화로': 380, '기다': 381, '드라마': 382, '라면': 383, '연': 384, '장국영': 385, '무간도': 386, '당하다': 387, '아이': 388, '시키다': 389, '나쁘다': 390, '위해': 391, '더빙': 392, '제대로': 393, '나름': 394, 'ㅋㅋㅋㅋ': 395, '짜다': 396, '결국': 397, '함께': 398, '웃다': 399, '제일': 400, '예쁘다': 401, '앞': 402, '전쟁': 403, '에도': 404, '나가다': 405, '설정': 406, '떨어지다': 407, '시': 408, '반전': 409, '전혀': 410, '관객': 411, '아주': 412, '한국영': 413, '힘들다': 414, '냐': 415, '대해': 416, '몇': 417, '중국': 418, '남기다': 419, '어리다': 420, '중반': 421, '분들': 422, '절대': 423, '애니': 424, '식': 425, '이후': 426, '간만': 427, '찍다': 428, '그렇게': 429, '뒤': 430, '심장': 431, '부': 432, '빼다': 433, '뭔': 434, '대다': 435, '우리나라': 436, '뭘': 437, '시리즈': 438, '날': 439, '등': 440, '답답하다': 441, '이상하다': 442, '간': 443, '따뜻하다': 444, '부족하다': 445, '물': 446, '가지': 447, '설명': 448, '충격': 449, '적다': 450, '매우': 451, '잊다': 452, '자신': 453, '작': 454, '놈': 455, '인물': 456, '서로': 457, '풀다': 458, '상황': 459, '엔딩': 460, '이지': 461, '웃기다': 462, '행복하다': 463, '인상': 464, '댓글': 465, '살': 466, '사회': 467, '어느': 468, '써다': 469, '순간': 470, '쉬다': 471, '얼마나': 472, '따다': 473, '후회': 474, '판': 475, '누구': 476, '욕': 477, '준': 478, '타임': 479, '꿈': 480, '이란': 481, '드리다': 482, '해': 483, '엄청나다': 484, '제목': 485, '도대체': 486, '스럽다': 487, '장르': 488, '서다': 489, '슈퍼맨': 490, '씬': 491, '세': 492, '실망': 493, '조': 494, '상영': 495, '짱': 496, '오': 497, '미국': 498, '그래서': 499, '신': 500, '평가': 501, '오늘': 502, '울': 503, '이지만': 504, '필요없다': 505, '멋있다': 506, '원': 507, '약간': 508, '반': 509, '역대': 510, '제발': 511, '두다': 512, '비': 513, '새롭다': 514, '뛰어나다': 515, '살리다': 516, '그것': 517, '그리다': 518, '기생충': 519, '관람': 520, '허다': 521, '굉장하다': 522, '테이크': 523, '만나다': 524, '얼굴': 525, '차': 526, '어': 527, '기도': 528, '세월호': 529, '들이다': 530, '장난': 531, '데': 532, '그저': 533, '존재': 534, '죽이다': 535, 'ㅡㅡ': 536, '테러': 537, '누가': 538, '네이버': 539, '씨': 540, '안타깝다': 541, '엄마': 542, '걍': 543, '이번': 544, '요즘': 545, '스릴': 546, '에요': 547, '둘': 548, '소설': 549, '배우다': 550, '갈다': 551, '전체': 552, '미래': 553, '촬영': 554, '잔인하다': 555, '예술': 556, '건가': 557, '머리': 558, '사운드': 559, '걸다': 560, 'ㅎ': 561, '목소리': 562, '실제': 563, '든': 564, '필요하다': 565, '놓다': 566, '다음': 567, '얘기': 568, '넘치다': 569, '담다': 570, '들어가다': 571, '첫': 572, '훨씬': 573, '최고다': 574, '올해': 575, '아직도': 576, '결혼': 577, '재': 578, '이쁘다': 579, '실화': 580, '그대로': 581, '싫다': 582, '구': 583, '이제훈': 584, '라미란': 585, '수작': 586, '문제': 587, '형': 588, '손': 589, '정신': 590, '웃음': 591, '쯤': 592, '일단': 593, '주': 594, '러닝': 595, '비교': 596, '보다는': 597, '읽다': 598, '타다': 599, '책': 600, '요소': 601, '음': 602, '힘': 603, '영화인': 604, '하정우': 605, '여러': 606, 'ㅠㅠㅠ': 607, '궁금하다': 608, '이르다': 609, '잡다': 610, '선택': 611, '너무나': 612, '최근': 613, '걸리다': 614, '현': 615, '유치하다': 616, '역사': 617, '바로': 618, '관': 619, '호불호': 620, '이기다': 621, '해도': 622, '그런': 623, '니까': 624, '달다': 625, '만큼': 626, '점수': 627, '사건': 628, '지루함': 629, '예상': 630, '또한': 631, '바라다': 632, '아직': 633, '뻔': 634, '어울리다': 635, '현재': 636, '확실하다': 637, '보단': 638, '쓸다': 639, '오히려': 640, '에서는': 641, '자기': 642, '거의': 643, '여기': 644, '비슷하다': 645, 'ㅜ': 646, '물론': 647, '생기다': 648, '죽': 649, '다만': 650, '애니메이션': 651, '화보': 652, '보내다': 653, '더욱': 654, '정우성': 655, '용': 656, '킬링타임': 657, '라도': 658, '로맨스': 659, '단순하다': 660, 'ㄹㅇ': 661, '전부': 662, '곳': 663, '심하다': 664, '여성': 665, '진부하다': 666, '말고': 667, '나라': 668, '터': 669, '전도연': 670, '언제': 671, '따르다': 672, '존나': 673, '넣다': 674, '꽤': 675, '에서도': 676, '통해': 677, '평론가': 678, '히': 679, '듣다': 680, '작화': 681, '맘': 682, '다행': 683, '갈수록': 684, '뮤지컬': 685, '불편하다': 686, '싸우다': 687, '시나리오': 688, '가능하다': 689, '기다리다': 690, '나이': 691, '살아가다': 692, '탄탄하다': 693, '다큐': 694, '대체': 695, '감탄': 696, '떡밥': 697, '코미디': 698, '안보': 699, '리뷰': 700, '가볍다': 701, '나르다': 702, '떠나다': 703, '무조건': 704, '마무리': 705, '캐스팅': 706, '망하다': 707, '나서다': 708, '잘생기다': 709, '소중하다': 710, '터지다': 711, '온': 712, '잇다': 713, '일이': 714, '밉다': 715, '그게': 716, '글': 717, '바': 718, '시절': 719, '에선': 720, '배': 721, '옆': 722, '이라도': 723, '마치': 724, '몸': 725, '만으로도': 726, '불쾌하다': 727, '라서': 728, '피': 729, '노력': 730, '굿': 731, '멀다': 732, '이야': 733, '비다': 734, '아무리': 735, '인정': 736, '에이미': 737, '구성': 738, '예고편': 739, '어색하다': 740, '차라리': 741, '과거': 742, '보': 743, '어렵다': 744, '갑자기': 745, '취향': 746, '꾼': 747, '고민': 748, '즐겁다': 749, '지리다': 750, '제작': 751, '선': 752, '잃다': 753, '아쉬움': 754, '볼때': 755, '주연': 756, '맨': 757, '인거': 758, '질': 759, '미가': 760, '대한민국': 761, '누군가': 762, '롱': 763, '다가': 764, '작다': 765, '강추': 766, '거기': 767, '며': 768, '포인트': 769, '상상': 770, '완성': 771, '추억': 772, '귀엽다': 773, '카메라': 774, '액션영화': 775, '단': 776, '전쟁영화': 777, '상당하다': 778, '즐기다': 779, '거지': 780, '표정': 781, '억지': 782, '유전': 783, '남편': 784, '과학': 785, '흐르다': 786, '슬픔': 787, '뜨다': 788, '이딴': 789, '자극': 790, 'ㄷㄷ': 791, '맞추다': 792, '새끼': 793, '길다': 794, '밝혀지다': 795, '세계': 796, '그녀': 797, '어디': 798, '다운': 799, '색감': 800, '떠오르다': 801, '닿다': 802, '기괴하다': 803, '화면': 804, '잼': 805, '굳이': 806, '살짝': 807, '가치': 808, '이에요': 809, '조작': 810, '무서움': 811, '특유': 812, '국민': 813, '이미': 814, '평생': 815, '수도': 816, '막': 817, '화려하다': 818, '빨리': 819, '억': 820, '관계': 821, '진': 822, '당신': 823, '오래': 824, '강': 825, '화가': 826, '파수': 827, '굳다': 828, '내리다': 829, '실망하다': 830, '불다': 831, '역할': 832, '오글거리다': 833, '뛰다': 834, '불쌍하다': 835, '등장': 836, '땐': 837, '첨': 838, '먼저': 839, '과정': 840, '박수': 841, '필요': 842, '대로': 843, '눈빛': 844, '더럽다': 845, '자꾸': 846, '봉준호': 847, '쏘다': 848, '가지다': 849, '다소': 850, '찌다': 851, '사다': 852, '그나마': 853, '심리': 854, '저런': 855, '출연': 856, '편안하다': 857, '잠': 858, '스타일': 859, '스크린': 860, '힘드다': 861, '보고오다': 862, '히어로': 863, '지나다': 864, '초': 865, '틈': 866, '수가': 867, '사': 868, '디카프리오': 869, '이리': 870, '만이': 871, '전달': 872, '어른': 873, '에게는': 874, '메세지': 875, '리얼': 876, '류': 877, '죽음': 878, '만점': 879, '바꾸다': 880, '찝찝하다': 881, '흐름': 882, '포드': 883, '타': 884, '그걸': 885, '맛': 886, '어설프다': 887, '강하다': 888, '편하다': 889, '의문': 890, '참고': 891, '부르다': 892, '편이': 893, '베일': 894, '하루': 895, '팬': 896, '만으로': 897, '으': 898, '귀': 899, '돌아가다': 900, '의도': 901, '열': 902, '입장': 903, '그런데': 904, '당시': 905, '거리': 906, '나중': 907, '뭐라다': 908, '고생': 909, '술': 910, '갖다': 911, '인하다': 912, '이며': 913, '소름끼치다': 914, '짐': 915, '코믹': 916, '사라지다': 917, '행동': 918, '한편': 919, '한다는': 920, '깔다': 921, '법': 922, '희생': 923, '돋보이다': 924, '아들': 925, '똑같다': 926, '안좋다': 927, '쩔다': 928, '정부': 929, '치고': 930, '에겐': 931, '옛날': 932, '그러나': 933, '졸다': 934, '크게': 935, '판타지': 936, '엉': 937, '으로는': 938, '교훈': 939, '신카이': 940, '페라리': 941, '무': 942, '사랑스럽다': 943, '소': 944, '만에': 945, '낫다': 946, '짜증나다': 947, '씩': 948, '압도': 949, '흥미롭다': 950, '묘사': 951, '형님': 952, '보시': 953, '스케일': 954, '짧다': 955, '독특하다': 956, '데이': 957, '돌리다': 958, '짓': 959, '어제': 960, '란': 961, '점도': 962, '덕분': 963, '똥': 964, '간다': 965, '위로': 966, '성우': 967, '평이': 968, '디스토피아': 969, '레이싱': 970, '지나가다': 971, '마코토': 972, '당': 973, '역': 974, '흥행': 975, '놀래다': 976, '흘리다': 977, '실감': 978, '길': 979, '몇번': 980, '꿀잼': 981, '오컬트': 982, '입': 983, '올리다': 984, '설레다': 985, '웃기': 986, '만의': 987, '그때': 988, '담기다': 989, '중요하다': 990, '척': 991, '결론': 992, '만하': 993, '답': 994, '진행': 995, '데이먼': 996, '은위': 997, '겁나다': 998, '세다': 999, '왕': 1000, '잘만': 1001, '갈리다': 1002, '미도': 1003, '모': 1004, '싸움': 1005, '놓치다': 1006, '새': 1007, '낭비': 1008, '밝히다': 1009, '점점': 1010, '키': 1011, '멜로': 1012, '관심': 1013, '순수하다': 1014, '이어지다': 1015, '방금': 1016, '작가': 1017, '태어나다': 1018, '흘러가다': 1019, '만들어지다': 1020, '감다': 1021, '원래': 1022, '여서': 1023, '다니다': 1024, '흥미진진': 1025, '억지로': 1026, '적당하다': 1027, '때리다': 1028, '행복': 1029, '신기하다': 1030, '되게': 1031, '시국': 1032, '졸리다': 1033, '귀신': 1034, '싸다': 1035, '약하다': 1036, '클리셰': 1037, '접': 1038, '땀': 1039, '평범하다': 1040, '걱정': 1041, '청춘': 1042, '겠다': 1043, '역겹다': 1044, '남녀': 1045, '찾아보다': 1046, '그거': 1047, 'ㅡ': 1048, '포기': 1049, '허무하다': 1050, '메시지': 1051, '편집': 1052, '회수': 1053, '티비': 1054, '각본': 1055, '자연': 1056, '순': 1057, '월': 1058, '년대': 1059, '딸': 1060, '연애': 1061, '정선': 1062, '음식': 1063, '살인': 1064, '냥': 1065, '싫어하다': 1066, '항상': 1067, '끼다': 1068, '깔끔하다': 1069, '장': 1070, '영원하다': 1071, '오지': 1072, '해석': 1073, '식이': 1074, '따라가다': 1075, '줄거리': 1076, '천재': 1077, '너무나도': 1078, '밤': 1079, '머': 1080, '까지는': 1081, '바다': 1082, '그림': 1083, '바뀌다': 1084, '양': 1085, '음향': 1086, '근래': 1087, '괜히': 1088, '전작': 1089, 'ㅠㅠㅠㅠ': 1090, '닮다': 1091, '예요': 1092, '대부분': 1093, '스': 1094, '케미': 1095, '어쩔': 1096, '께': 1097, '지키다': 1098, '다루다': 1099, '진정하다': 1100, '게임': 1101, '반드시': 1102, '발': 1103, '전반': 1104, '정치': 1105, '정': 1106, '각자': 1107, '대화': 1108, '쥐': 1109, '이미지': 1110, '사이': 1111, '주변': 1112, '개다': 1113, '는걸': 1114, '이소룡': 1115, '기법': 1116, '스럽게': 1117, '올라가다': 1118, '들어오다': 1119, '경험': 1120, '미소': 1121, '경찰': 1122, '핵': 1123, '고맙다': 1124, '일어나다': 1125, '아련하다': 1126, '점주': 1127, '가난': 1128, '두번째': 1129, '스러운': 1130, '울리다': 1131, '속편': 1132, '쫄깃': 1133, '한마디': 1134, '후기': 1135, '대안': 1136, '존잼': 1137, '여자친구': 1138, '침몰': 1139, '우정': 1140, '떼다': 1141, '숨다': 1142, '능력': 1143, '주제': 1144, '수고': 1145, '성도': 1146, '주의': 1147, '이기': 1148, '바라보다': 1149, '흔하다': 1150, '빠르다': 1151, '그동안': 1152, '문화': 1153, '빠져들다': 1154, '불구': 1155, '암': 1156, '여전하다': 1157, '김': 1158, 'ㅈ': 1159, '시점': 1160, '기준': 1161, '죠': 1162, '깜짝': 1163, '래': 1164, '심지어': 1165, '감명': 1166, '감정이입': 1167, '전형': 1168, '직접': 1169, '무술': 1170, '씁쓸하다': 1171, '어이없다': 1172, '외국': 1173, '땜': 1174, '눈물나다': 1175, '얻다': 1176, '휴': 1177, '자리': 1178, '디파티드': 1179, '등장인물': 1180, '팩트': 1181, '드': 1182, '빛': 1183, '예': 1184, '참신하다': 1185, '라니': 1186, '저렇게': 1187, '시기': 1188, '고어': 1189, '말로': 1190, '채': 1191, '망치다': 1192, '가깝다': 1193, '기업': 1194, '크리스찬': 1195, '줌': 1196, '그날': 1197, '박하다': 1198, '사고': 1199, '만화': 1200, '냄새': 1201, '신파': 1202, '섹시하다': 1203, '바람': 1204, '추하다': 1205, '펑펑': 1206, '채우다': 1207, '감사': 1208, '반복': 1209, '박정민': 1210, '노': 1211, '넷플': 1212, '잊혀지다': 1213, '겪다': 1214, '다시다': 1215, '해내다': 1216, '외': 1217, '공': 1218, '으로서': 1219, '변하다': 1220, '아사코': 1221, '깨다': 1222, '햄': 1223, '요리': 1224, '날씨': 1225, '그렇다고': 1226, '무겁다': 1227, '졸작': 1228, '젤': 1229, '시도': 1230, '으로도': 1231, '표': 1232, '과는': 1233, '틀다': 1234, '분노': 1235, '으론': 1236, '이끌다': 1237, '댓글알바': 1238, '만족하다': 1239, '여러분': 1240, '미안하다': 1241, '아침': 1242, '세계관': 1243, '오락': 1244, '아카데미': 1245, '재밋': 1246, '맷': 1247, '발전': 1248, '다가오다': 1249, '원하다': 1250, '앉다': 1251, '끌다': 1252, '로는': 1253, '보이': 1254, '번째': 1255, '더하다': 1256, '범죄': 1257, '그만큼': 1258, '참다': 1259, '안다': 1260, '희망': 1261, '본인': 1262, '지르다': 1263, '도시': 1264, '영웅': 1265, '잡고': 1266, '당연하다': 1267, '으로써': 1268, '자막': 1269, '예전': 1270, '대작': 1271, '걸작': 1272, '정서': 1273, '퀄리티': 1274, '의식': 1275, '가보다': 1276, '흠': 1277, '아빠': 1278, '부족': 1279, '흥미': 1280, '전율': 1281, '젊다': 1282, '막히다': 1283, '아내': 1284, '이정': 1285, '산': 1286, '지푸라기': 1287, '이니': 1288, '쪽': 1289, '향': 1290, '겁니다': 1291, '자동차': 1292, '킬러': 1293, '망작': 1294, '리': 1295, '이루다': 1296, '체험': 1297, '질질': 1298, '묻다': 1299, '수많다': 1300, '각': 1301, '꾸다': 1302, '영환': 1303, '경극': 1304, '로서': 1305, '생활': 1306, '계획': 1307, '세번': 1308, '에서의': 1309, '자매': 1310, '응원': 1311, '국뽕': 1312, '내일': 1313, '비추다': 1314, '성공하다': 1315, '규명': 1316, '토르': 1317, '이하': 1318, '깨닫다': 1319, '그만': 1320, '갑툭튀': 1321, '뜻': 1322, '방식': 1323, '밝다': 1324, '조연': 1325, '시골': 1326, '번은': 1327, '리메이크': 1328, '소녀': 1329, '뜬금': 1330, '이제야': 1331, '전설': 1332, '우희': 1333, '끝내다': 1334, '스스로': 1335, '에만': 1336, 'ㅎㅎㅎ': 1337, '던지다': 1338, '까진': 1339, '런가': 1340, '만족': 1341, '일상': 1342, '한데': 1343, '거나': 1344, '목숨': 1345, '덜': 1346, '마저': 1347, '이면': 1348, '비극': 1349, '만큼은': 1350, 'ㅈㄴ': 1351, '등등': 1352, '잠시': 1353, '보통': 1354, '포스터': 1355, '오랫': 1356, '담배': 1357, '롭고': 1358, '지치다': 1359, '다양하다': 1360, '울컥': 1361, '애초': 1362, '이냐': 1363, '와는': 1364, '시선': 1365, '분명': 1366, '주가': 1367, '체': 1368, '티': 1369, '동': 1370, '적절하다': 1371, '아저씨': 1372, '넘어가다': 1373, '조차': 1374, '깊이': 1375, '지난': 1376, '어쩌면': 1377, '지겹다': 1378, '부자': 1379, '년전': 1380, '과의': 1381, '성은': 1382, '대충': 1383, '계': 1384, '가면': 1385, '문': 1386, '처': 1387, '정신병': 1388, '호': 1389, '째': 1390, '터미네이터': 1391, '끼리': 1392, '이라니': 1393, '데리': 1394, '이라서': 1395, '무난': 1396, '얼마': 1397, '존': 1398, '감히': 1399, '무시': 1400, '및': 1401, '무비': 1402, '지는': 1403, '가난하다': 1404, '스콜': 1405, '마': 1406, '비긴': 1407, '정말로': 1408, '어이': 1409, '줍다': 1410, '매': 1411, '어벤져스': 1412, '뿐이다': 1413, '근': 1414, '숨': 1415, '모으다': 1416, '권': 1417, '평소': 1418, '기대다': 1419, '랄': 1420, '만은': 1421, '좋아지다': 1422, '토': 1423, '벗어나다': 1424, '연기자': 1425, '다그': 1426, '유명하다': 1427, '지도': 1428, '세지': 1429, '위대하다': 1430, '명의': 1431, '특별하다': 1432, '로써': 1433, '어게인': 1434, '연결': 1435, '풍경': 1436, '외롭다': 1437, '이자': 1438, '빛나다': 1439, '암튼': 1440, '어디서': 1441, '생': 1442, '불': 1443, '카': 1444, '디테일': 1445, '끔찍하다': 1446, '곡': 1447, '마블': 1448, '가끔': 1449, '소소하다': 1450, '보라': 1451, '막판': 1452, '남아': 1453, '가득하다': 1454, '호러': 1455, '마냥': 1456, '비판': 1457, '엉망': 1458, '원인': 1459, '불가': 1460, '신나다': 1461, '조합': 1462, '억지스럽다': 1463, '대가': 1464, '떨다': 1465, '쩐다': 1466, '달': 1467, '성하다': 1468, '짜임새': 1469, '분명하다': 1470, '이어서': 1471, '피다': 1472, '기존': 1473, '시원하다': 1474, '겨우': 1475, '상태': 1476, '언제나': 1477, '챙기다': 1478, '후유증': 1479, '납득': 1480, '드럽다': 1481, '호강': 1482, '신경': 1483, '부부': 1484, '지옥': 1485, '가득': 1486, '고구마': 1487, '강렬하다': 1488, '스트레스': 1489, '따로': 1490, '한참': 1491, '질문': 1492, '잭': 1493, '딱하다': 1494, '배경음악': 1495, '심': 1496, '뽑다': 1497, '기회': 1498, '패왕별희': 1499, '백': 1500, '뽕': 1501, '맡다': 1502, '진지하다': 1503, 'ㅉㅉ': 1504, '과연': 1505, '방': 1506, '느와르': 1507, '국가': 1508, '갓': 1509, '난해하다': 1510, '차이': 1511, '동화': 1512, '커버': 1513, '깨': 1514, '들리다': 1515, '짱깨': 1516, '마르다': 1517, '혹시': 1518, '조조': 1519, '환상': 1520, '스포': 1521, '지루': 1522, '세련되다': 1523, '연속': 1524, '나머지': 1525, '악마': 1526, '짓다': 1527, '사용': 1528, '켜다': 1529, '봣': 1530, '아이언맨': 1531, '아마': 1532, '제로': 1533, '도박장': 1534, '후속작': 1535, '최우식': 1536, '도망가다': 1537, '보아': 1538, '발견': 1539, '예측': 1540, '돌아오다': 1541, '목': 1542, '깎다': 1543, '보다도': 1544, '조커': 1545, '경': 1546, '팔이': 1547, 'ㅇㅇ': 1548, '빨다': 1549, '개그': 1550, '용도': 1551, '공포물': 1552, '우울하다': 1553, '짜증': 1554, '괴물': 1555, '섬세하다': 1556, '인기': 1557, '달리다': 1558, '루즈': 1559, '라인': 1560, '숨막히다': 1561, '신분': 1562, '자본': 1563, '투자': 1564, '엔진': 1565, '씹다': 1566, '공부': 1567, '한지민': 1568, '여배우': 1569, '상처': 1570, '하나로': 1571, '열정': 1572, '부모': 1573, '멍청하다': 1574, '완벽': 1575, '죄': 1576, '젠': 1577, '의심': 1578, '잠들다': 1579, '일반': 1580, '아씨': 1581, '이루어지다': 1582, '효과': 1583, '집단': 1584, '단순': 1585, '뛰어넘다': 1586, '따위': 1587, '조용하다': 1588, '판단': 1589, '본적': 1590, '첫사랑': 1591, '하늘': 1592, '탓': 1593, '추격': 1594, '호흡': 1595, '관련': 1596, '상상력': 1597, '아이맥스': 1598, '미화': 1599, '돌아보다': 1600, '밑': 1601, '몰다': 1602, '너무하다': 1603, '띵작': 1604, '곱씹다': 1605, '사쿠라': 1606, '로리': 1607, '잘못': 1608, '날리다': 1609, '색다르다': 1610, '동생': 1611, '갈등': 1612, '스칼렛': 1613, '열연': 1614, '무대': 1615, '성공': 1616, '열심히': 1617, '방법': 1618, '새벽': 1619, '치유': 1620, '동시': 1621, '국내': 1622, '완전하다': 1623, '꿈꾸다': 1624, '곡성': 1625, '반하다': 1626, '왜케': 1627, '치': 1628, '잠깐': 1629, '정직하다': 1630, '양심': 1631, '놀랍다': 1632, '부모님': 1633, '빨': 1634, '포장': 1635, '웰': 1636, '메이드': 1637, 'ㄷㄷㄷ': 1638, '끊다': 1639, '거슬리다': 1640, '졸라': 1641, '밥': 1642, '서사': 1643, '결과': 1644, '오타쿠': 1645, '진상': 1646, '탑': 1647, '데리다': 1648, '우': 1649, '엿': 1650, '얼': 1651, '확인': 1652, '착하다': 1653, '대신': 1654, '좀더': 1655, '끼': 1656, '꽃': 1657, '코드': 1658, '복수': 1659, '거짓말': 1660, '영향': 1661, '워낙': 1662, '낮': 1663, '은밀': 1664, '이별': 1665, '갈릴': 1666, '예산': 1667, '어우러지다': 1668, '박': 1669, '존윅': 1670, '돌다': 1671, '약': 1672, '금': 1673, '추가': 1674, '늦다': 1675, '아픔': 1676, '트롤': 1677, '풀리다': 1678, '담백하다': 1679, '만남': 1680, '드러나다': 1681, '군': 1682, '타고': 1683, '안재홍': 1684, '도저히': 1685, '정보': 1686, '어떤': 1687, '누르다': 1688, '나누다': 1689, '지나치다': 1690, '멈추다': 1691, '길이': 1692, '투명인간': 1693, '가방': 1694, '아아': 1695, '액션씬': 1696, '없어지다': 1697, '김태리': 1698, '쥐다': 1699, '실사': 1700, '로만': 1701, '철학': 1702, '날다': 1703, '주말': 1704, '저리': 1705, '용이': 1706, '반성': 1707, '데이빗': 1708, '왠만하다': 1709, '시각': 1710, '숨기다': 1711, '볼거리': 1712, '고전': 1713, '정확하다': 1714, '도망': 1715, '정리': 1716, '들어서다': 1717, '올': 1718, '메다': 1719, '복잡하다': 1720, '시사회': 1721, '쫓기다': 1722, '휘': 1723, '구멍': 1724, '아버지': 1725, '살아나다': 1726, '만을': 1727, '가리다': 1728, '뒷': 1729, '스나이더': 1730, '최강': 1731, '남친': 1732, '홍광호': 1733, '용서': 1734, '각색': 1735, '부럽다': 1736, '버티다': 1737, '아예': 1738, '화나다': 1739, '도망치다': 1740, '넘어서다': 1741, '만약': 1742, '대결': 1743, '굿굿': 1744, '유쾌하다': 1745, '뭉클하다': 1746, '현장': 1747, '핀처': 1748, '한순간': 1749, '이전': 1750, '이든': 1751, '무기': 1752, '쫓다': 1753, '자유': 1754, '피해': 1755, '명품': 1756, '남자친구': 1757, '안나': 1758, '토록': 1759, '헤어지다': 1760, '라이': 1761, '관점': 1762, '놀란': 1763, '레알': 1764, '발암': 1765, '드네': 1766, '바탕': 1767, '반갑다': 1768, '정상': 1769, '아치': 1770, '불안하다': 1771, '무료': 1772, '미모': 1773, '맛있다': 1774, '자식': 1775, '일부러': 1776, '패': 1777, '푹': 1778, '종교': 1779, '바보': 1780, '뜨겁다': 1781, '벌써': 1782, '심각하다': 1783, '라라': 1784, '차원': 1785, '단어': 1786, '누': 1787, '겨울왕국': 1788, '어머니': 1789, '와중': 1790, '개꿀잼': 1791, '와이프': 1792, '존경': 1793, '겨울': 1794, '추': 1795, '경의': 1796, '용기': 1797, '사람과': 1798, '박다': 1799, '내려가다': 1800, '편의': 1801, '췌장': 1802, '구도': 1803, '미드': 1804, '울림': 1805, '움직이다': 1806, '공간': 1807, '칼': 1808, '신세계': 1809, '오르다': 1810, '까지도': 1811, '다크나이트': 1812, '인게': 1813, '빡치다': 1814, '망': 1815, 'ㅅㅂ': 1816, '기만': 1817, '팔': 1818, '코': 1819, '마스크': 1820, '한계': 1821, '라이언': 1822, '단연': 1823, '무언가': 1824, '두렵다': 1825, '면서': 1826, '딱이다': 1827, '기적': 1828, '꺼내다': 1829, '년도': 1830, '엇': 1831, '갖추다': 1832, '기르다': 1833, '인가요': 1834, '천만': 1835, '대의': 1836, '복선': 1837, '빈약하다': 1838, '원스': 1839, '순삭': 1840, '단지': 1841, '만족스럽다': 1842, '높이다': 1843, '쉬': 1844, '레전드': 1845, '성인': 1846, '티모시': 1847, '엠마': 1848, '언니': 1849, '마틴': 1850, '묵직하다': 1851, '싸이코패스': 1852, '삶다': 1853, '총기': 1854, '삼': 1855, '잔': 1856, '덜덜': 1857, '박진': 1858, '조가': 1859, '이병헌': 1860, '중후': 1861, '류준열': 1862, '아역': 1863, '끝내주다': 1864, '나타나다': 1865, '해결': 1866, '겨': 1867, '묘': 1868, '여행': 1869, '장점': 1870, '충실하다': 1871, '증거': 1872, '호아킨': 1873, '어스': 1874, '우연히': 1875, '삼류': 1876, '김어준': 1877, '햇': 1878, '팝콘': 1879, '늘어지다': 1880, '몇몇': 1881, '제작자': 1882, '이래': 1883, '아웃': 1884, '기술': 1885, '그립다': 1886, '시즌': 1887, '탄생': 1888, '압권': 1889, '넘기다': 1890, '사이비': 1891, '공연': 1892, '칸': 1893, '구조': 1894, '예매': 1895, '이입': 1896, '최': 1897, '쏟다': 1898, '울면': 1899, '흑': 1900, '통': 1901, '학생': 1902, '상징': 1903, '여기다': 1904, '어찌': 1905, '전개도': 1906, '나나': 1907, '멋': 1908, '기본': 1909, '죄송하다': 1910, '생애': 1911, '기쁘다': 1912, '인류': 1913, '외모': 1914, '대중': 1915, '끼치다': 1916, '상이': 1917, '영춘권': 1918, '로운': 1919, '비중': 1920, '헐리우드': 1921, '자연스럽다': 1922, '대감': 1923, '느리다': 1924, '마을': 1925, '으로만': 1926, '션': 1927, '군대': 1928, '여러가지': 1929, '의외로': 1930, '찾아오다': 1931, '회': 1932, '변화': 1933, '아끼다': 1934, '듬': 1935, '요한슨': 1936, '메': 1937, '회사': 1938, '그건': 1939, '속이다': 1940, '게다가': 1941, '편견': 1942, '칠': 1943, '드물다': 1944, '찡하다': 1945, '랜드': 1946, '여친': 1947, '자주': 1948, '옷': 1949, '오브': 1950, '불친절하다': 1951, '갠': 1952, '고마츠': 1953, '한심하다': 1954, '찾아가다': 1955, '재앙': 1956, '많아지다': 1957, '중국인': 1958, '입다': 1959, '더불다': 1960, '이만': 1961, '직업': 1962, '언젠가': 1963, '실사영화': 1964, '진정': 1965, '관객수': 1966, '분량': 1967, '끌': 1968, '쩌': 1969, '거대': 1970, '설득': 1971, '성장하다': 1972, '다시금': 1973, '주기': 1974, '붙다': 1975, '정체': 1976, '주지': 1977, '편도': 1978, 'ㄷ': 1979, '커플': 1980, '최소': 1981, '가요': 1982, '자단': 1983, '떠들다': 1984, '혼란': 1985, '여태': 1986, '연인': 1987, '곁': 1988, '시민': 1989, '운': 1990, '붙이다': 1991, '나무': 1992, '반대': 1993, '별거': 1994, '백두산': 1995, '불륜': 1996, '충': 1997, '켄': 1998, '해피엔딩': 1999, '지능': 2000, '언': 2001, '말고는': 2002, '떨리다': 2003, '왤케': 2004, '투': 2005, '감각': 2006, '전문가': 2007, '오스카': 2008, '덕': 2009, '생생하다': 2010, '습': 2011, '단점': 2012, '폭력': 2013, '조명': 2014, '와우': 2015, '제작비': 2016, '박평': 2017, '할리우드': 2018, '무너지다': 2019, '인걸': 2020, '심정': 2021, '유지': 2022, '차갑다': 2023, '파': 2024, '도와주다': 2025, '인연': 2026, '니깐': 2027, '재즈': 2028, '워': 2029, '환경': 2030, '키우다': 2031, '병맛': 2032, '구나': 2033, '머릿속': 2034, '후보': 2035, '소년': 2036, '부끄럽다': 2037, '치히로': 2038, '신다': 2039, '늘': 2040, '의상': 2041, '애쓰다': 2042, '소장': 2043, '두려움': 2044, '준비': 2045, '매니아': 2046, '타키': 2047, '우선': 2048, '난리': 2049, '아역배우': 2050, 'ㅇ': 2051, '킬링': 2052, '그럭저럭': 2053, '총알': 2054, '자고': 2055, '즈': 2056, '지구': 2057, '료': 2058, '적임': 2059, '낼': 2060, '연예인': 2061, '극단': 2062, '싸이코': 2063, '곧': 2064, '소통': 2065, '부로': 2066, '빵빵': 2067, 'ㅜㅜㅜ': 2068, '속지': 2069, '공허하다': 2070, '현대': 2071, '어린시절': 2072, '덥다': 2073, '가능': 2074, '디테': 2075, '라이어': 2076, '송강호': 2077, '에게도': 2078, '특이하다': 2079, '갑': 2080, '쓸데없이': 2081, '장가': 2082, '수퍼맨': 2083, '폭발': 2084, '찾기': 2085, '대만': 2086, '듀폰': 2087, '선사': 2088, '땅': 2089, '녹다': 2090, '펴다': 2091, '얘': 2092, '왠지': 2093, '짠하다': 2094, '늙다': 2095, '만날': 2096, '남성': 2097, '린다': 2098, '보신': 2099, '영화계': 2100, '명불허전': 2101, '그닥': 2102, '일품': 2103, '값': 2104, '바이러스': 2105, '성장': 2106, '조폭': 2107, '보이지': 2108, '조사': 2109, '이래서': 2110, '아무렇다': 2111, '달달': 2112, '버전': 2113, '높아지다': 2114, '열리다': 2115, '예정': 2116, '오빠': 2117, '자세하다': 2118, '악평': 2119, '쫒다': 2120, '호구': 2121, '쇼': 2122, '혹평': 2123, '도전': 2124, '치밀하다': 2125, '내면': 2126, '조화': 2127, '적어도': 2128, '시청': 2129, '깨우다': 2130, '저러다': 2131, '영혼': 2132, '깜놀': 2133, '아무튼': 2134, '엥': 2135, '듭니': 2136, '서스펜스': 2137, '공짜': 2138, '후속': 2139, '운명': 2140, '실수': 2141, '확': 2142, '한국인': 2143, '따름': 2144, '달라': 2145, '방해': 2146, '일으키다': 2147, '스타': 2148, '기자': 2149, '미술': 2150, '틀': 2151, '어거지': 2152, '평균': 2153, '어지럽다': 2154, '사기': 2155, '반지하': 2156, '탈출': 2157, '성과': 2158, '선물': 2159, '최대': 2160, '서양': 2161, '다녀오다': 2162, '풍자': 2163, '군더더기': 2164, '헐리웃': 2165, '베스트': 2166, '목적': 2167, '끌리다': 2168, '뚫다': 2169, '트라우마': 2170, '뿌리다': 2171, '당장': 2172, '송': 2173, '위룡': 2174, '언론': 2175, '정의': 2176, '논리': 2177, '철': 2178, '애매하다': 2179, '결정': 2180, '기승': 2181, '전하': 2182, '중국영화': 2183, '옛': 2184, '캐': 2185, '애기': 2186, '상대': 2187, '달리': 2188, '꺼': 2189, '찍': 2190, '죄다': 2191, '말투': 2192, '때우다': 2193, '전세계': 2194, '몰아치다': 2195, '고통': 2196, '껏': 2197, '맞서다': 2198, '엔딩크레딧': 2199, '식상하다': 2200, '선동': 2201, '엔지니어': 2202, '다큐멘터리': 2203, '구석': 2204, '은유': 2205, '압박': 2206, '배트맨': 2207, '생략': 2208, '정작': 2209, '넷': 2210, '유일하다': 2211, '단체': 2212, '초딩': 2213, '청년': 2214, '컴퓨터': 2215, '놀다': 2216, '객관': 2217, '통쾌하다': 2218, '상업': 2219, '군인': 2220, '거품': 2221, '난후': 2222, '근거': 2223, '이보': 2224, '비현실적': 2225, '케': 2226, '유발': 2227, '물이': 2228, '놀람': 2229, '피식': 2230, '과도': 2231, '한숨': 2232, '풋풋하다': 2233, '격전': 2234, '신념': 2235, '피아노': 2236, '다리': 2237, '이도': 2238, '초점': 2239, '안해': 2240, '리지': 2241, '우린': 2242, '곳곳': 2243, '하울': 2244, '감안': 2245, '짜이다': 2246, '전결': 2247, '줄다': 2248, '가정': 2249, '피해자': 2250, '섬뜩하다': 2251, '분석': 2252, '마크': 2253, '인지도': 2254, '유머': 2255, '가까이': 2256, '범벅': 2257, '떠올리다': 2258, '배다': 2259, '의지': 2260, '우와': 2261, '계절': 2262, '받아들이다': 2263, '참혹하다': 2264, '컨저링': 2265, '고딩': 2266, '나아가다': 2267, '피닉스': 2268, '잡히다': 2269, '응': 2270, '반응': 2271, '와도': 2272, '크레딧': 2273, '이용': 2274, '마찬가지': 2275, '설마': 2276, '극적': 2277, '세기': 2278, '범인': 2279, '저지르다': 2280, '거대하다': 2281, '미리': 2282, '결코': 2283, '나단': 2284, '에나': 2285, '신의': 2286, '팀': 2287, '흠잡다': 2288, '막다': 2289, '부실하다': 2290, '만들기': 2291, '찰떡': 2292, '마주': 2293, '중심': 2294, '괴롭다': 2295, '의하다': 2296, '온갖': 2297, '그치다': 2298, '조이다': 2299, '젖다': 2300, '안감': 2301, '억울하다': 2302, '애틋하다': 2303, '맨날': 2304, '낮추다': 2305, '특징': 2306, 'ㅠㅜ': 2307, '톤': 2308, '와의': 2309, '그렇지만': 2310, '도르다': 2311, '밀다': 2312, '욕심': 2313, '반영': 2314, '벌어지다': 2315, '낚': 2316, '인들': 2317, '작년': 2318, '주위': 2319, '김무열': 2320, '연성': 2321, '만해': 2322, '등급': 2323, '오직': 2324, '혐오': 2325, '뇌': 2326, '한국판': 2327, '찌르다': 2328, '친': 2329, '미츠하': 2330, '낳다': 2331, '박히다': 2332, '벨벳': 2333, '다해': 2334, '재료': 2335, '본질': 2336, '최선': 2337, '오프닝': 2338, '기억나다': 2339, '리틀': 2340, '조의': 2341, '모자라다': 2342, '아래': 2343, '해외': 2344, '곤지암': 2345, '미장센': 2346, '짝': 2347, '사만': 2348, '화일': 2349, '튀어나오다': 2350, '임무': 2351, '스톤': 2352, '좀비': 2353, '만큼의': 2354, '의견': 2355, '병': 2356, '비주': 2357, '스타워즈': 2358, '웬디': 2359, '거치다': 2360, '디': 2361, '인종차별': 2362, '노인': 2363, '고뇌': 2364, '희다': 2365, '사귀다': 2366, '우주': 2367, '인도': 2368, '커서': 2369, '봉': 2370, '고스': 2371, '배신': 2372, '글쎄': 2373, '다섯': 2374, '해봤다': 2375, '감추다': 2376, '무리': 2377, '어딘가': 2378, '클레멘타인': 2379, '절': 2380, '준석': 2381, '쓴다': 2382, '청소년': 2383, '병사': 2384, '꽉': 2385, '흡입': 2386, '섞다': 2387, '일반인': 2388, '홍보': 2389, '틀리다': 2390, '층': 2391, '대하': 2392, '의리': 2393, '관계자': 2394, '지고': 2395, '대사도': 2396, '빠순이': 2397, '칭찬': 2398, '스며들다': 2399, '이완': 2400, '소마': 2401, '시체': 2402, '악': 2403, '거짓': 2404, '어쩌': 2405, '숲': 2406, '스럽지': 2407, '뭐임': 2408, '색': 2409, '살아오다': 2410, '율': 2411, '이상은': 2412, '오가다': 2413, '벌다': 2414, '담담하다': 2415, '끊기다': 2416, '저렇다': 2417, '오버': 2418, '매끄럽다': 2419, '작은아씨': 2420, '지지': 2421, '묻히다': 2422, '지경': 2423, '일지': 2424, '전장': 2425, '외로움': 2426, '임팩트': 2427, '실력': 2428, '부터는': 2429, '집착': 2430, '의사': 2431, '다한': 2432, '종일': 2433, '이선균': 2434, '부다': 2435, '화장실': 2436, '세대': 2437, '풀': 2438, '악당': 2439, '옴': 2440, '인공': 2441, '영국': 2442, '이기도': 2443, '알아보다': 2444, '익숙하다': 2445, '포레스트': 2446, '마약': 2447, '다카': 2448, '혼': 2449, '반박': 2450, '레오': 2451, '따지다': 2452, '성적': 2453, '극찬': 2454, '광고': 2455, '증명': 2456, '추다': 2457, '국정원': 2458, '늘리다': 2459, '내주다': 2460, '잡': 2461, '즐거움': 2462, '짬뽕': 2463, '평론': 2464, '빵': 2465, '쭉': 2466, '우려': 2467, '잘살다': 2468, '클로젯': 2469, '쫌': 2470, '빨갛다': 2471, '로자': 2472, '거장': 2473, '맺다': 2474, '훨': 2475, '모로': 2476, '바쁘다': 2477, '세월': 2478, '미스터리': 2479, '한가지': 2480, '권력': 2481, '그린': 2482, '재능': 2483, '동성애': 2484, '된거': 2485, '착각': 2486, '접다': 2487, '접근': 2488, '절대로': 2489, '웃': 2490, '잔혹하다': 2491, '해지': 2492, '암울하다': 2493, '망설이다': 2494, '선하다': 2495, '심심하다': 2496, '밖': 2497, '춤': 2498, '이시언': 2499, '둘째': 2500, '대상': 2501, '과장': 2502, '나니': 2503, '헐다': 2504, '볼땐': 2505, '정화': 2506, '섬': 2507, '변호사': 2508, '레드': 2509, '실패': 2510, '여정': 2511, '쓰이다': 2512, '강요': 2513, '알리다': 2514, '동물': 2515, '허무': 2516, '끝내': 2517, '컷': 2518, '지나': 2519, '유가족': 2520, '알라딘': 2521, '이형': 2522, '은근': 2523, '멀리': 2524, '그다지': 2525, '미묘하다': 2526, '사이코': 2527, '개판': 2528, '뺏다': 2529, '나마': 2530, '겁': 2531, '이여': 2532, '자살': 2533, '돌려주다': 2534, '가라': 2535, '지리': 2536, '의아': 2537, '철저하다': 2538, '출신': 2539, '봣는데': 2540, '볼걸': 2541, '마저도': 2542, '황홀하다': 2543, '명대사': 2544, '승리': 2545, '어마어마하다': 2546, '도로': 2547, 'ㅎㄷㄷ': 2548, '욕먹다': 2549, '바쿠': 2550, '처절하다': 2551, '자본주의': 2552, '애절하다': 2553, '불필요하다': 2554, '웅장': 2555, '전투씬': 2556, '하루하루': 2557, '제외': 2558, '우한': 2559, '심야': 2560, '판이': 2561, '고양이': 2562, '료헤이': 2563, '유년': 2564, '찬란하다': 2565, '졸리': 2566, '지하철': 2567, '논': 2568, '시얼샤': 2569, '마디': 2570, '빌리다': 2571, '참으로': 2572, '크리스마스': 2573, '차별': 2574, '애가': 2575, '이구나': 2576, '공유': 2577, '극복': 2578, '베다': 2579, '만난': 2580, '요새': 2581, '소화': 2582, '가히': 2583, '꿀': 2584, '향수': 2585, '웬만하다': 2586, '훌륭': 2587, '똑똑하다': 2588, '한없이': 2589, '가능성': 2590, '베': 2591, '멱살': 2592, '풍': 2593, '부턴': 2594, '마음속': 2595, '자마자': 2596, '확신': 2597, '진하다': 2598, '거부': 2599, '병원': 2600, '명확하다': 2601, '도중': 2602, '까맣다': 2603, '불꽃놀이': 2604, '실패하다': 2605, '가출': 2606, '저녁': 2607, '끝판': 2608, '어휴': 2609, '암시': 2610, '문재인': 2611, '흑인': 2612, '걷다': 2613, '에서만': 2614, '오열': 2615, '까지의': 2616, '찬사': 2617, '버': 2618, '나타내다': 2619, '어린왕자': 2620, '형제': 2621, '심다': 2622, '또다른': 2623, '건물': 2624, '았': 2625, '손색': 2626, '조정': 2627, '질주': 2628, '하아': 2629, '마스터피스': 2630, '멘탈': 2631, '하자': 2632, '일부': 2633, '황당하다': 2634, '며칠': 2635, '캐리': 2636, '용다': 2637, '수록': 2638, '어메이징': 2639, '싹': 2640, '극한': 2641, '문득': 2642, '산만하다': 2643, '핀': 2644, '호평': 2645, '가시': 2646, '도쿄': 2647, '지식': 2648, '귀가': 2649, '잔뜩': 2650, '훔치다': 2651, '간절하다': 2652, '당황': 2653, '눈치': 2654, '적극': 2655, '리스': 2656, '마이': 2657, '개념': 2658, '플롯': 2659, '스웨덴': 2660, '보나': 2661, '다수': 2662, '청': 2663, '오름': 2664, '여자애': 2665, '공리': 2666, '배역': 2667, '대가리': 2668, '청불': 2669, '질리다': 2670, '맨오브스틸': 2671, '산다': 2672, '만원': 2673, '변태': 2674, '고조': 2675, '집안': 2676, '말아먹다': 2677, '폰': 2678, '때매': 2679, '박근혜': 2680, '로그인': 2681, '통수': 2682, '멧': 2683, '정통': 2684, '광기': 2685, '폐렴': 2686, '외계인': 2687, '이라고는': 2688, '거지같다': 2689, '계시다': 2690, '타짜': 2691, '고급': 2692, '톰': 2693, '비롯': 2694, '절절': 2695, '욕망': 2696, '첨부': 2697, '상관없다': 2698, '영리하다': 2699, '피곤하다': 2700, '섞이다': 2701, '젊은이': 2702, '랑은': 2703, '취급': 2704, '부가': 2705, '일본애니': 2706, '까지만': 2707, '스칼렛요한슨': 2708, '두운': 2709, '좌빨': 2710, '견디다': 2711, '내놓다': 2712, '박살': 2713, '노답': 2714, '검찰': 2715, '난무': 2716, '빌다': 2717, '트랙': 2718, '악역': 2719, '본격': 2720, '주신': 2721, '드림': 2722, '만지다': 2723, '각각': 2724, '속도': 2725, '줄이다': 2726, '중병': 2727, '투성이': 2728, '학교': 2729, '먼드': 2730, '뮤지컬영화': 2731, '어둠': 2732, '올라오다': 2733, '열다': 2734, '한두': 2735, '윤성현': 2736, '차이다': 2737, '종종': 2738, '혜원': 2739, '내려오다': 2740, '차리다': 2741, '화란': 2742, '맥락': 2743, '언급': 2744, '셋': 2745, '실': 2746, '발연기': 2747, '다다르다': 2748, '겟': 2749, '사계절': 2750, '그나저나': 2751, '초월': 2752, '디지다': 2753, '늦추다': 2754, '장소': 2755, '물다': 2756, '불가능하다': 2757, '바닥': 2758, '바르다': 2759, '대치': 2760, '잔인함': 2761, '동네': 2762, '김지영': 2763, '쓰래': 2764, '려고': 2765, '가야': 2766, '도안': 2767, '옮기다': 2768, '허세': 2769, '운전': 2770, '케릭': 2771, '아동학대': 2772, '만도': 2773, '짐승': 2774, '종편': 2775, '금방': 2776, '지켜보다': 2777, '책임': 2778, '펼쳐지다': 2779, '외치다': 2780, '아줌마': 2781, '추구': 2782, '재미나': 2783, '조절': 2784, '폭': 2785, '서민': 2786, '곱다': 2787, '간의': 2788, '다른사람': 2789, '결제': 2790, '블록버스터': 2791, '이니까': 2792, '교차': 2793, '인척': 2794, '구리다': 2795, '극장판': 2796, '긴박': 2797, '참여': 2798, '가설': 2799, '압': 2800, '보고서': 2801, '믿음': 2802, '널': 2803, '마일': 2804, '퀄': 2805, '무척': 2806, '에미': 2807, '전투': 2808, '도움': 2809, '크리스': 2810, '자의': 2811, '클라스': 2812, '비록': 2813, '밀려오다': 2814, '황금종려상': 2815, '무한': 2816, '혹은': 2817, '남고': 2818, '여유': 2819, '니콜슨': 2820, '들어주다': 2821, '엉엉': 2822, '쓸데없다': 2823, '페미': 2824, '상실': 2825, '자르다': 2826, '할머니': 2827, '컨셉': 2828, '멀쩡하다': 2829, '튀다': 2830, '하얗다': 2831, '드디어': 2832, '존잘': 2833, '위험하다': 2834, '홍콩': 2835, '미국인': 2836, '인식': 2837, '베스': 2838, '고작': 2839, '고개': 2840, '하이': 2841, '멍': 2842, '천': 2843, '본능': 2844, '가사': 2845, '정권': 2846, '돼지': 2847, '경우': 2848, '유튜브': 2849, '성격': 2850, '직원': 2851, '개도': 2852, '스틸': 2853, '총수': 2854, '왠': 2855, '활용': 2856, '끊임없다': 2857, '레이서': 2858, '급하다': 2859, '토나오다': 2860, '벌리다': 2861, '타인': 2862, '지극히': 2863, '졸': 2864, '검색': 2865, '쫄보': 2866, '재난': 2867, '징': 2868, '짱짱': 2869, '헷갈리다': 2870, '행': 2871, '잖다': 2872, '파다': 2873, '치가': 2874, '도무지': 2875, '범': 2876, '어떠하다': 2877, '조정석': 2878, '탁월하다': 2879, '온몸': 2880, '악플': 2881, '한지': 2882, '비참하다': 2883, '민폐': 2884, '경이': 2885, '서울': 2886, '신랑': 2887, '김재규': 2888, '극도': 2889, '중학생': 2890, '달려가다': 2891, '사정': 2892, '언어': 2893, '개성': 2894, '슬링': 2895, '흥': 2896, '로맨틱': 2897, '백배': 2898, '조여정': 2899, '막장': 2900, '로움': 2901, '여지': 2902, '던': 2903, '던데': 2904, '홀로': 2905, '찬': 2906, '대통령': 2907, '분만': 2908, '음향효과': 2909, '형사': 2910, '퇴마': 2911, '요약': 2912, '노고': 2913, '리기': 2914, '방영': 2915, '부의': 2916, '한동안': 2917, '쩔어요': 2918, '잃어버리다': 2919, '일본어': 2920, '경제': 2921, '희망이': 2922, '대비': 2923, '려': 2924, '무지하다': 2925, '파괴': 2926, '블룸': 2927, '하우스': 2928, '비쥬': 2929, '일찍': 2930, '항': 2931, '때로는': 2932, '플렉스': 2933, '유치': 2934, '드래곤볼': 2935, '사랑받다': 2936, '어깨': 2937, '필': 2938, '로코': 2939, '방송': 2940, '프라이팬': 2941, '허구': 2942, '푸다': 2943, '꾸미다': 2944, '낫': 2945, '리부트': 2946, '흔들리다': 2947, '쫄깃쫄깃': 2948, '수상작': 2949, '타란티노': 2950, '너무도': 2951, '안쓰럽다': 2952, '현대인': 2953, '부탁드리다': 2954, '닥': 2955, '대기업': 2956, '순위': 2957, '향연': 2958, '맴': 2959, '몇개': 2960, '로봇': 2961, '촌스럽다': 2962, '정점': 2963, '뻥': 2964, '뿌리': 2965, '화평': 2966, '폐해': 2967, '기발하다': 2968, '거윅': 2969, '구매': 2970, '주관': 2971, '끼우다': 2972, '담': 2973, '마동석': 2974, '빈틈': 2975, '듯이': 2976, '분장': 2977, '공개': 2978, '간접': 2979, '탈': 2980, '쏟아지다': 2981, '녹이다': 2982, '다치다': 2983, '뜬금없이': 2984, '부족함': 2985, '조선족': 2986, '미디어': 2987, '자라다': 2988, '레이': 2989, '스킵': 2990, '최후': 2991, 'ㅜㅠ': 2992, '민주주의': 2993, '업': 2994, '찌질하다': 2995, '절로': 2996, '리가': 2997, '면도': 2998, '양산': 2999, '드러내다': 3000, '빈부격차': 3001, '요시': 3002, '도입': 3003, '장이': 3004, '도데': 3005, '가게': 3006, '하루키': 3007, '오랫동안': 3008, '성룡': 3009, '영화사': 3010, '번만': 3011, '박정희': 3012, '털다': 3013, '생존': 3014, '안정': 3015, '방향': 3016, '모이다': 3017, '키스': 3018, '살기': 3019, '어물': 3020, '핸드폰': 3021, '하니': 3022, '뎅': 3023, '즉': 3024, '계층': 3025, '심오하다': 3026, '널리': 3027, '깔리다': 3028, 'ㅣ': 3029, '추악하다': 3030, '별루': 3031, '강아지': 3032, '배그': 3033, '춤추다': 3034, '계급': 3035, '농촌': 3036, '맥': 3037, '색깔': 3038, '꺼지다': 3039, '매번': 3040, '숨소리': 3041, '연관': 3042, '하고도': 3043, '개똥': 3044, '그래픽': 3045, '쫄리': 3046, '스피드': 3047, '계기': 3048, '퇴마사': 3049, '가짜': 3050, '채다': 3051, '화중': 3052, '듣기': 3053, '인터뷰': 3054, '매일': 3055, '덮다': 3056, '론': 3057, '프랑스': 3058, '구리': 3059, '덩어리': 3060, '음모론': 3061, '사상': 3062, '눕다': 3063, '합': 3064, '예고': 3065, '어둡다': 3066, '독점': 3067, '썩다': 3068, '회상': 3069, '절제': 3070, '치고는': 3071, '조직': 3072, '휴식': 3073, '간반': 3074, '어쨌든': 3075, '찾아내다': 3076, '일병': 3077, '기타': 3078, '그딴': 3079, '주먹': 3080, '타령': 3081, '잣': 3082, '주제가': 3083, '쫄려': 3084, '못자다': 3085, '죄책감': 3086, '치밀다': 3087, '냉정하다': 3088, '세계대전': 3089, '새다': 3090, '메인': 3091, '파이크': 3092, '존중': 3093, '가기': 3094, '파티': 3095, '전환': 3096, '뼈': 3097, '뭣': 3098, '연극': 3099, '반면': 3100, '하나같이': 3101, '사진': 3102, '친절하다': 3103, '지수': 3104, '고해': 3105, '하품': 3106, '프로': 3107, '지우다': 3108, '밀리다': 3109, '택': 3110, '글램록': 3111, '핫': 3112, '휩쓸다': 3113, '신파극': 3114, '물어보다': 3115, '반개': 3116, '껄': 3117, '조잡하다': 3118, '집다': 3119, '익스': 3120, '카리스마': 3121, '약자': 3122, '맞이': 3123, '주옥': 3124, '오랜만': 3125, '가라데': 3126, '차분하다': 3127, '스케': 3128, '남발': 3129, '탄탄': 3130, '나뉘다': 3131, '모양': 3132, '오래되다': 3133, '과대': 3134, '생기': 3135, '고증': 3136, '소송': 3137, '인사': 3138, '레오나르도': 3139, '악의': 3140, '혐': 3141, '셈': 3142, '달라지다': 3143, '낭만': 3144, '어떻': 3145, '짜내다': 3146, '짜릿하다': 3147, '자녀': 3148, '외면': 3149, '대전': 3150, '체적': 3151, '부여': 3152, '페미니즘': 3153, '지내다': 3154, '숨쉬다': 3155, '쓸쓸하다': 3156, '째다': 3157, '하라': 3158, '재밋어': 3159, '할로우': 3160, '덤': 3161, '강력': 3162, '겉': 3163, '잘알다': 3164, '년생': 3165, '미스': 3166, '선거': 3167, '사냥꾼': 3168, '어서': 3169, '영광': 3170, '건드리다': 3171, '에바': 3172, '윌': 3173, '위치': 3174, '사이다': 3175, 'ㄱ': 3176, '갈아': 3177, '명연기': 3178, '별개': 3179, '옷장': 3180, '조각': 3181, '드립': 3182, '싸구려': 3183, '자격': 3184, '일도': 3185, '참사': 3186, '아마도': 3187, '랩': 3188, '아기': 3189, '국산': 3190, '배고프다': 3191, '부인': 3192, '해안가': 3193, '비디오': 3194, '우연': 3195, '지인': 3196, '가하다': 3197, '손가락': 3198, '롭': 3199, '솔': 3200, '간단하다': 3201, '기간': 3202, '어처구니': 3203, '쎄다': 3204, '어보': 3205, '놀이': 3206, '하드캐리': 3207, '아리': 3208, '쿠키': 3209, '트': 3210, '날아가다': 3211, '물건': 3212, '구현': 3213, '광주': 3214, '에리': 3215, '지독하다': 3216, '안기다': 3217, '불안': 3218, '통틀어': 3219, '동정': 3220, '연상': 3221, '꼬리': 3222, '마법': 3223, '알바생': 3224, '부터가': 3225, '훈훈하다': 3226, '백인': 3227, '다크': 3228, '넋': 3229, '고등학교': 3230, '가세': 3231, '안남': 3232, '밝혀내다': 3233, '십': 3234, '망가지다': 3235, '애정': 3236, '정이': 3237, '이해도': 3238, '선정': 3239, '블랙': 3240, '하이라이트': 3241, '깜짝깜짝': 3242, '추론': 3243, '낚시터': 3244, '비용': 3245, '충무로': 3246, '건데': 3247, '덜하다': 3248, '혼나다': 3249, '말씀': 3250, '적나라하다': 3251, '중독': 3252, '배급사': 3253, '변기': 3254, '아이디어': 3255, '승부': 3256, '엇갈리다': 3257, '감흥': 3258, '몫': 3259, '빨갱이': 3260, '화의': 3261, '다기': 3262, '최대한': 3263, '낭비하다': 3264, '샬로': 3265, '형식': 3266, '에다가': 3267, '대놓고': 3268, '난민': 3269, '앵글': 3270, '실종': 3271, '범죄자': 3272, '독립영화': 3273, '해오다': 3274, '깡패': 3275, '빵터지다': 3276, '자가': 3277, '기쁨': 3278, '무게': 3279, '진짜진짜': 3280, '다나': 3281, '노리다': 3282, '미흡하다': 3283, '맥그리거': 3284, '상관': 3285, '건강하다': 3286, '불만': 3287, '동의': 3288, '연휴': 3289, '슴': 3290, '생일': 3291, '자랑': 3292, '깨지다': 3293, '공존': 3294, '대지진': 3295, '불리다': 3296, '재현': 3297, '근현대사': 3298, '어케': 3299, '손발': 3300, '캐슬': 3301, '일수': 3302, '롯데': 3303, '시네마': 3304, '비난': 3305, '추적': 3306, '끈': 3307, '에이': 3308, '부장': 3309, '두고두고': 3310, '깍': 3311, '쵝오': 3312, '천국': 3313, '평타': 3314, '그만하다': 3315, '쌍둥이': 3316, '정치인': 3317, '앞뒤': 3318, '루': 3319, '강조': 3320, '차지': 3321, '고르다': 3322, '꿀잠': 3323, '사이코패스': 3324, '검다': 3325, '쉽다': 3326, '생명': 3327, '신인': 3328, '서프라이즈': 3329, '여기저기': 3330, '두근거리다': 3331, '수사': 3332, '이러하다': 3333, '배드': 3334, '극치': 3335, '다임': 3336, '가습기': 3337, '퍼즐': 3338, '인간관계': 3339, '순식간': 3340, '자하': 3341, '나아지다': 3342, '역사상': 3343, '가운데': 3344, 'ㅉㅉㅉ': 3345, '벅차다': 3346, '중뽕': 3347, '아수라': 3348, '다다': 3349, '안녕하다': 3350, '프로그램': 3351, '조차도': 3352, '피우다': 3353, '절정': 3354, '가도': 3355, '네티즌': 3356, '앙': 3357, '한몫': 3358, '타이밍': 3359, '추격자': 3360, '시끄럽다': 3361, '초등학생': 3362, '공중파': 3363, '말리다': 3364, '실존': 3365, '비긴즈': 3366, '이뤄지다': 3367, '지적': 3368, '만듬': 3369, '고자': 3370, '주차장': 3371, '씹덕': 3372, '스치다': 3373, '천천히': 3374, '서정': 3375, '전해지다': 3376, '밟다': 3377, '느슨하다': 3378, '니당다': 3379, '마케팅': 3380, '뇌리': 3381, '호소': 3382, '든지': 3383, '해피': 3384, '린': 3385, '부디': 3386, '효과음': 3387, '인시디어스': 3388, '기전': 3389, '보임': 3390, '블': 3391, '발음': 3392, '두근두근': 3393, '털': 3394, '거르': 3395, '뜯다': 3396, '질감': 3397, '오만': 3398, '얼다': 3399, '부작': 3400, '사태': 3401, '부정': 3402, '전체주의': 3403, '오마주': 3404, '행위': 3405, '자료': 3406, '번역': 3407, '어마': 3408, '징그럽다': 3409, '전문': 3410, '노랗다': 3411, '가을': 3412, '낚였다': 3413, '중딩': 3414, '라운드': 3415, '스코필드': 3416, '맡기다': 3417, '긋다': 3418, '소식': 3419, '짜지다': 3420, '역활': 3421, '소개': 3422, '선생': 3423, '할아버지': 3424, '타카': 3425, '최소한': 3426, '말함': 3427, '추리': 3428, '안녕': 3429, '귀농': 3430, '히로': 3431, '누군지': 3432, '울음': 3433, '우울': 3434, '롯': 3435, '최초': 3436, '먹이다': 3437, '로넌': 3438, '나빠지다': 3439, '킹덤': 3440, '사소하다': 3441, '테프론': 3442, '나소': 3443, '테': 3444, '팔로': 3445, '영화매니아': 3446, '자아': 3447, '요전': 3448, '품다': 3449, '수십': 3450, '엄지': 3451, '전의': 3452, '어떡하다': 3453, '수상': 3454, '찢다': 3455, '필름': 3456, '이영애': 3457, '각성': 3458, '그레타': 3459, '그간': 3460, '영화감독': 3461, '넌': 3462, '쿵후': 3463, '컬': 3464, '쪽팔리다': 3465, '화영': 3466, '저희': 3467, '개뿔': 3468, '배성우': 3469, '배우진': 3470, '청와대': 3471, '올바르다': 3472, '뺨': 3473, '미야자키': 3474, '지하': 3475, '주행': 3476, '처리': 3477, '쿵쾅': 3478, '은폐': 3479, '진중하다': 3480, '한텐': 3481, '그지같다': 3482, '미루다': 3483, '투영': 3484, '부리다': 3485, '어벤저스': 3486, '황금': 3487, '간직': 3488, '띄다': 3489, '대본': 3490, '리즈': 3491, '측면': 3492, '성별': 3493, '돌': 3494, '우아하다': 3495, '구분': 3496, '유': 3497, '가져오다': 3498, '도감': 3499, '교과서': 3500, '갈망': 3501, '임용': 3502, '주장': 3503, '기반': 3504, '대표': 3505, '침': 3506, '되돌아보다': 3507, '앤': 3508, '에어': 3509, '그로': 3510, '채널': 3511, '나약하다': 3512, '회차': 3513, '까지가': 3514, '베댓': 3515, '겹': 3516, '좌파': 3517, '실사판': 3518, '무당': 3519, '여름': 3520, 'ㅅ': 3521, '위협': 3522, '리도': 3523, '사과': 3524, '화하다': 3525, '감수성': 3526, '인터넷': 3527, '리오': 3528, '지네': 3529, '경계': 3530, '무리다': 3531, '그랬는데': 3532, '독보': 3533, '잠자다': 3534, '해드리다': 3535, '엽': 3536, '지대': 3537, '쟁이': 3538, '월일': 3539, '기사': 3540, '미성년': 3541, '답답': 3542, '의심스럽다': 3543, '얼른': 3544, '오래도록': 3545, '개미': 3546, '가만히': 3547, '지브리': 3548, '처참하다': 3549, '김총수': 3550, '라고는': 3551, '분노하다': 3552, '벅차오르다': 3553, '가족영화': 3554, '파이널': 3555, '나위': 3556, '왜곡': 3557, '어차피': 3558, '손잡다': 3559, '젠장': 3560, '손꼽다': 3561, '혁명': 3562, '내려놓다': 3563, '샘': 3564, '뚝뚝': 3565, '차기작': 3566, '먹히다': 3567, 'ㄴ': 3568, '시청률': 3569, '하하': 3570, '실험': 3571, '화이팅': 3572, '근본': 3573, '유행': 3574, '당당하다': 3575, '갑작스럽다': 3576, '긴장도': 3577, '발휘': 3578, '믄': 3579, '빠담빠담': 3580, '트랜스포머': 3581, '거야': 3582, '명장': 3583, '조선': 3584, '휴지': 3585, '알리': 3586, '대구': 3587, '달콤하다': 3588, '덕후': 3589, '색채': 3590, '격': 3591, '이의': 3592, '발생': 3593, '살인마': 3594, '노트북': 3595, '빌런': 3596, '시시하다': 3597, '데스': 3598, '김수현': 3599, '매다': 3600, '너희': 3601, '더러워지다': 3602, '태도': 3603, '가수': 3604, '크리스토퍼': 3605, '성숙하다': 3606, '태우다': 3607, '환자': 3608, '간지': 3609, '관리': 3610, '누나': 3611, '가안': 3612, '마녀': 3613, 'ㅂ': 3614, '한잔': 3615, '플러스': 3616, '런닝타임': 3617, '옥': 3618, '데이터': 3619, '불면증': 3620, '쫙': 3621, '개쩜': 3622, '오줌': 3623, '궁금증': 3624, '성찰': 3625, '중년': 3626, '뒤늦다': 3627, '진가': 3628, '작위': 3629, '불쌍': 3630, '정답': 3631, '볼바': 3632, '눈감다': 3633, '멍하다': 3634, '점줌': 3635, '경주': 3636, '포': 3637, '비로소': 3638, '절반': 3639, '그토록': 3640, '뉴스': 3641, '검증': 3642, '보람': 3643, '차례': 3644, '뚜렷하다': 3645, '무지': 3646, '또는': 3647, '축제': 3648, '킴': 3649, '찔끔': 3650, '나문희': 3651, '낯설다': 3652, '더욱더': 3653, '에여': 3654, '발표': 3655, '같잖다': 3656, '이나마': 3657, '마사': 3658, '탕': 3659, '제의': 3660, '지속': 3661, '류준': 3662, '꼬마': 3663, '좌절': 3664, '개취': 3665, '이쯤': 3666, '날카롭다': 3667, '통한': 3668, '더러': 3669, '주체': 3670, '매년': 3671, '카페': 3672, '미아': 3673, '행운': 3674, '에다': 3675, '웹툰': 3676, '나발': 3677, '이슈': 3678, '긴박하다': 3679, '총격': 3680, '특정': 3681, '해수': 3682, '뚫리다': 3683, '매혹': 3684, '스런': 3685, '멜로영화': 3686, '라지': 3687, '졸이다': 3688, '넘사벽': 3689, '한장': 3690, '그러면': 3691, 'ㅉ': 3692, '헨리': 3693, '전과': 3694, '사로자다': 3695, '체조': 3696, '기원': 3697, '줄알': 3698, '교육': 3699, '벌이다': 3700, '비열하다': 3701, '헛': 3702, '대혁명': 3703, '세로': 3704, '할리퀸': 3705, '합리': 3706, '입맛': 3707, '파도': 3708, '만인': 3709, '글자': 3710, '블랙코미디': 3711, '흐리다': 3712, '개봉일': 3713, '텐데': 3714, '적도': 3715, '최고봉': 3716, '명화': 3717, '자칫': 3718, '흔적': 3719, '분동': 3720, '브금': 3721, '비유': 3722, '이재훈': 3723, '콧물': 3724, '벌': 3725, 'ㅇㅈ': 3726, '캐릭': 3727, '구경': 3728, '닉': 3729, '단편영화': 3730, '쫄깃하': 3731, '거구': 3732, '북한': 3733, '벽': 3734, '기침': 3735, '까먹다': 3736, '천사': 3737, '후라이팬': 3738, '핵심': 3739, '퇴사': 3740, '획': 3741, '버려진': 3742, '녀': 3743, '보구': 3744, '왜인': 3745, '이따': 3746, '조르다': 3747, '대박나다': 3748, '다가가다': 3749, '가가': 3750, '옳다': 3751, '욕구': 3752, '뛰어가다': 3753, '일본인': 3754, '디지털': 3755, '여태껏': 3756, '타협': 3757, '붉다': 3758, '인정받다': 3759, '시월애': 3760, '표절': 3761, '상식': 3762, '그야말로': 3763, '틴': 3764, '올려주다': 3765, '조진웅': 3766, '쟤': 3767, '편지': 3768, 'ㅜㅜㅜㅜ': 3769, '생동감': 3770, '후딱': 3771, '나은': 3772, '꾸준하다': 3773, '평온하다': 3774, '보스': 3775, '불법': 3776, '혹': 3777, 'ㅏ': 3778, '욬': 3779, '지점': 3780, '박해': 3781, '캔': 3782, '간결하다': 3783, '집어넣다': 3784, '자랑스럽다': 3785, '상대방': 3786, '형태': 3787, '약속': 3788, '쩝': 3789, '경악': 3790, '엄복동': 3791, '근육': 3792, '속상하다': 3793, '감당': 3794, '풀이': 3795, '수의': 3796, '영어': 3797, '달러': 3798, '딸리다': 3799, '로맨스영화': 3800, '뒤지다': 3801, '꾸역꾸역': 3802, '안함': 3803, '이외': 3804, '입덕': 3805, '조성': 3806, '반감': 3807, '직': 3808, '한수': 3809, '격투': 3810, '청각': 3811, 'ㅎㅎㅎㅎ': 3812, '조마조마하다': 3813, '당한': 3814, '선명하다': 3815, '미스사이공': 3816, '올드보이': 3817, '박찬욱': 3818, '집념': 3819, '노골': 3820, '딴': 3821, '화답': 3822, '살이': 3823, '카라': 3824, '레이스': 3825, '숨죽': 3826, '퍼': 3827, '깨달음': 3828, '등록': 3829, '유명배우': 3830, '뒤통수': 3831, '목표': 3832, '위기': 3833, '아무래도': 3834, '딱좋다': 3835, '하여금': 3836, '레이크': 3837, '시장': 3838, '슈퍼히어로': 3839, '꼽': 3840, '기묘하다': 3841, '부담': 3842, '그려지다': 3843, '소문': 3844, '세트': 3845, '무릎': 3846, '하고는': 3847, '애비': 3848, '마력': 3849, '방황': 3850, '격감': 3851, '남다르다': 3852, '후회되다': 3853, '길거리': 3854, '실체': 3855, '소수': 3856, '저만': 3857, '검사': 3858, '반지': 3859, '모노': 3860, '자로': 3861, '얽히다': 3862, '꽉차다': 3863, '갈아타다': 3864, '미군': 3865, '무식하다': 3866, '눈가': 3867, '불호': 3868, '테오': 3869, '닷': 3870, '모험': 3871, '인종': 3872, '앤딩': 3873, '한쪽': 3874, '최민식': 3875, '시간대': 3876, '데이트': 3877, '미쟝센': 3878, '스펙': 3879, '일주일': 3880, '일상생활': 3881, '한개': 3882, '설': 3883, '국회의원': 3884, '슈트': 3885, '점준': 3886, '아오': 3887, '불과하다': 3888, '이드': 3889, '수행': 3890, '시계': 3891, '운동': 3892, '염력': 3893, '토시': 3894, '아리다': 3895, '작업': 3896, '노희경': 3897, '토니': 3898, '직전': 3899, '다지다': 3900, '강도': 3901, '상치': 3902, '프레임': 3903, '물들다': 3904, '최상': 3905, '고어영화': 3906, '신부': 3907, '찌푸리다': 3908, '제공': 3909, '케빈': 3910, '래서': 3911, '휴대폰': 3912, '그대': 3913, '도둑': 3914, '대조': 3915, '댐': 3916, '지원': 3917, '남지': 3918, '개발': 3919, '비명': 3920, '사라': 3921, '싸': 3922, '큰일': 3923, '세바스찬': 3924, '위트': 3925, '전이': 3926, '익숙해지다': 3927, '쿡': 3928, '가뭄': 3929, '그이': 3930, '클래식': 3931, '하여튼': 3932, '개돼지': 3933, '래야': 3934, '성향': 3935, '장치': 3936, '성의': 3937, '디자인': 3938, '뒤죽박죽': 3939, '배려': 3940, '의향': 3941, '갈수': 3942, '민망하다': 3943, '안목': 3944, '피지': 3945, '동양': 3946, '확장': 3947, '안주': 3948, '크리스챤': 3949, '가르다': 3950, '부대': 3951, '스릴러물': 3952, '아날로그': 3953, '어쩜': 3954, '왤다': 3955, '주년': 3956, '료헤': 3957, '티나': 3958, '꼴': 3959, '진부': 3960, '포근하다': 3961, '거들다': 3962, '맑다': 3963, '군데': 3964, '만세': 3965, '덩케르크': 3966, '실소': 3967, '명예': 3968, '경기': 3969, '손해': 3970, '르망': 3971, '자신감': 3972, '분간': 3973, '남산': 3974, '하나요': 3975, '어디가': 3976, '무능하다': 3977, '유럽': 3978, '호텔': 3979, '어쩌구': 3980, '능가': 3981, '워킹': 3982, '졸음': 3983, '묵묵하다': 3984, '강의': 3985, '프라이머리': 3986, '다듬다': 3987, '명성': 3988, '고난': 3989, '메이': 3990, '한자': 3991, '부수': 3992, '폭풍': 3993, '교수': 3994, '힘내다': 3995, '계산': 3996, '찜찜하다': 3997, '중이': 3998, '외국인': 3999, '따분하다': 4000, '노예': 4001, '종북': 4002, '이서': 4003, '낚시': 4004, '전편': 4005, '헌': 4006, '찬양': 4007, '대니': 4008, 'ㅂㅅ': 4009, '갈리': 4010, '완수': 4011, '간신히': 4012, '라인업': 4013, '이따위': 4014, '소박하다': 4015, '임신': 4016, '께서': 4017, '수위': 4018, '분기점': 4019, '깨달': 4020, '모드': 4021, '하고프다': 4022, '전적': 4023, '이라기': 4024, '역량': 4025, '시원시원하다': 4026, '따라다니다': 4027, '바치다': 4028, '라기': 4029, '망치': 4030, '복싱': 4031, '다짐': 4032, '개막': 4033, '만큼이나': 4034, '지배': 4035, '살균제': 4036, '제자': 4037, '예술가': 4038, '이분': 4039, '우울증': 4040, '서툴다': 4041, '완결': 4042, '평화': 4043, '세우다': 4044, '주네': 4045, '꽂히다': 4046, '조종': 4047, '동일본': 4048, '미스테리': 4049, '이웃': 4050, '섭외': 4051, '백프로': 4052, '맑은': 4053, '디즈니': 4054, '화끈하다': 4055, '찰리': 4056, '활약': 4057, '메그': 4058, '갱스터': 4059, '염두': 4060, '스콧': 4061, '역쉬': 4062, '감독판': 4063, '위험': 4064, '흘러나오다': 4065, '김치': 4066, '중구': 4067, '구심': 4068, '렉': 4069, '재주': 4070, '고요': 4071, '이안': 4072, '먼지': 4073, '이랑은': 4074, '빚': 4075, '커다랗다': 4076, '날아다니다': 4077, '과언': 4078, '아이디': 4079, '파헤치다': 4080, '러브스토리': 4081, '제시': 4082, '긍정': 4083, '감옥': 4084, '갇히다': 4085, '루프': 4086, '기계': 4087, '홍콩영화': 4088, '부재': 4089, '해소': 4090, '띠': 4091, '수없이': 4092, '대낮': 4093, '구로': 4094, '거임': 4095, '인위': 4096, '아바타': 4097, '알려지다': 4098, '경쾌하다': 4099, '빼놓다': 4100, '태리': 4101, '대답': 4102, '싫어지다': 4103, '김태': 4104, '제작사': 4105, '똑같이': 4106, '이구': 4107, '장군': 4108, '재밋는': 4109, '일어나서': 4110, '진의': 4111, '가려진': 4112, '공식': 4113, '틀어놓다': 4114, '중점': 4115, '성함': 4116, '거려': 4117, '안고': 4118, '형편': 4119, '실속': 4120, '갚다': 4121, '최애': 4122, '주어지다': 4123, '이혼': 4124, '바지': 4125, '한시': 4126, '어린이': 4127, '소시오패스': 4128, '노출': 4129, '실상': 4130, '사이비종교': 4131, '섹스': 4132, '비행기': 4133, '짱짱하다': 4134, '스파이더맨': 4135, '직하다': 4136, '람보': 4137, '조만간': 4138, '헛웃음': 4139, '나오니': 4140, '비우다': 4141, '잘나가다': 4142, '귀찮다': 4143, '관통': 4144, '줄줄': 4145, '물리다': 4146, '커녕': 4147, '플래시': 4148, '훌쩍': 4149, '함부로': 4150, '권총': 4151, '과잉': 4152, '마이너스': 4153, '진지': 4154, '님들': 4155, '부딪히다': 4156, '티켓': 4157, '진창': 4158, '졸업': 4159, '막스': 4160, '댓': 4161, '엠마왓슨': 4162, '고향': 4163, '수백': 4164, '영화제작': 4165, '팝': 4166, '고서': 4167, '기부': 4168, '때론': 4169, '진영화': 4170, '미워하다': 4171, '서서히': 4172, '핑계': 4173, '마일스': 4174, '재판': 4175, '남자라면': 4176, '인칭': 4177, '깨물다': 4178, '벌레': 4179, '덧': 4180, '어딨다': 4181, '높이': 4182, '버그': 4183, '무장': 4184, '비정상': 4185, '벗다': 4186, '에가': 4187, '어필': 4188, '질리': 4189, '살림': 4190, '꺼리다': 4191, '가슴속': 4192, '결심': 4193, '맥스': 4194, '아이러니': 4195, '종': 4196, '사나이': 4197, '없애다': 4198, '발성': 4199, '투쟁': 4200, '아시아': 4201, '간첩': 4202, '깨끗하다': 4203, '당분간': 4204, '선생님': 4205, '쿵푸': 4206, '초적': 4207, '빙의': 4208, '합치다': 4209, '전통': 4210, '결': 4211, '여왕': 4212, '작살': 4213, '쟈': 4214, '선배': 4215, '리얼리티': 4216, '멀미': 4217, '쳐다보다': 4218, '신뢰': 4219, '캡틴': 4220, '훅': 4221, '재난영화': 4222, '증오': 4223, '더블린': 4224, '가미': 4225, '대기': 4226, '쌓다': 4227, '중학교': 4228, '작정': 4229, '물질': 4230, '잠기다': 4231, '짜파구리': 4232, '스포트라이트': 4233, '크리': 4234, '키드': 4235, '늘어나다': 4236, '에게나': 4237, '말르다': 4238, '이념': 4239, '함축': 4240, '성범죄자': 4241, '석': 4242, '각심': 4243, '사부': 4244, '소비': 4245, '프리퀄': 4246, '저주': 4247, '초등학교': 4248, '요정': 4249, 'ㅈㄹ': 4250, '미나': 4251, '내미다': 4252, '운영체제': 4253, '혀': 4254, '일인': 4255, '재밋음': 4256, '행방불명': 4257, '복': 4258, '슈퍼': 4259, '이를': 4260, '에러': 4261, '오로지': 4262, '이군': 4263, '명진': 4264, '공동체': 4265, '땡기다': 4266, '캬': 4267, '궁합': 4268, '떄': 4269, '명도': 4270, '여자도': 4271, '씻다': 4272, '반미': 4273, '사악하다': 4274, '박자': 4275, '당일': 4276, '선도': 4277, '크리스천': 4278, '오덕': 4279, '병구': 4280, '금지': 4281, '헐크': 4282, '대학생': 4283, '거북하다': 4284, '엽기': 4285, '오그라들다': 4286, '혜성': 4287, '자도': 4288, '자시다': 4289, '무어': 4290, '진기': 4291, '정무문': 4292, '엔초': 4293, '희노애락': 4294, '주변인': 4295, '맙시': 4296, '부여잡다': 4297, '월드': 4298, '미학': 4299, '괴롭히다': 4300, '감격': 4301, '써주다': 4302, '제인': 4303, '지긋지긋하다': 4304, '에서야': 4305, '위주': 4306, '경쟁': 4307, '외로': 4308, '앞서': 4309, '나무라다': 4310, '낚임': 4311, '에야': 4312, '국어': 4313, '부들부들': 4314, '송운화': 4315, '불안감': 4316, '완': 4317, '도리': 4318, '배린': 4319, '도통': 4320, '복판': 4321, '동료': 4322, '정신없이': 4323, '가버리다': 4324, '인도영화': 4325, '상과': 4326, '로저': 4327, '육아': 4328, '맥주': 4329, '단절': 4330, '분도': 4331, '한정': 4332, '샷': 4333, '야마자키': 4334, '켄토': 4335, '이던': 4336, '알차다': 4337, '고기': 4338, '손익': 4339, '어중간하다': 4340, '각오': 4341, '들보': 4342, '빠져나오다': 4343, '쫄리면': 4344, '혼신': 4345, '마인드': 4346, '부조리': 4347, '무방': 4348, '트리': 4349, '대도': 4350, '사연': 4351, '에너지': 4352, '새삼': 4353, '페인트': 4354, '지금껏': 4355, '샬': 4356, '상수': 4357, '고인': 4358, 'ㅐ': 4359, '맛깔나다': 4360, '쫄아': 4361, '벌벌': 4362, '어려움': 4363, '뭘말': 4364, '첫째': 4365, '꼬이다': 4366, '직장': 4367, '일치': 4368, '사춘기': 4369, '주지훈': 4370, '영화배우': 4371, '서도': 4372, '고등학생': 4373, '애니매이션': 4374, '남자배우': 4375, '유사하다': 4376, '무고': 4377, '악행': 4378, '막내': 4379, '오전': 4380, '저기': 4381, '심장마비': 4382, '동기': 4383, '변경': 4384, '단비': 4385, '잉': 4386, '삭제': 4387, '실황': 4388, '준수': 4389, '와이': 4390, '흥분': 4391, '하위': 4392, '구원': 4393, '플': 4394, '서른': 4395, '하든': 4396, '추모': 4397, '카이': 4398, '걸음': 4399, '난방': 4400, '짓거리': 4401, '지역': 4402, '투신': 4403, '웟': 4404, '호기심': 4405, '발상': 4406, '황정민': 4407, '끈질기다': 4408, '치자': 4409, '빠': 4410, '사람인': 4411, '곤': 4412, '사서': 4413, '빼': 4414, '컬트영화': 4415, '호감': 4416, '역다': 4417, '치료': 4418, '그럴듯하다': 4419, '새록새록': 4420, '디지털로': 4421, '사업': 4422, '모욕': 4423, '불러일으키다': 4424, '비밀': 4425, '조금씩': 4426, '끓다': 4427, '살벌하다': 4428, '끌어당기다': 4429, '극혐': 4430, '미로': 4431, '첫날': 4432, '고려': 4433, '는가': 4434, '손예진': 4435, '모름': 4436, '이익': 4437, '애잔하다': 4438, '모성애': 4439, '나로': 4440, '너머': 4441, '은퇴': 4442, '사장': 4443, '보태': 4444, '다인': 4445, '에피소드': 4446, '부탁': 4447, '대고': 4448, '만드': 4449, '소녀시대': 4450, '정돈': 4451, '스토': 4452, '헴스워스': 4453, '레옹': 4454, '비싸다': 4455, '재수없다': 4456, '천배': 4457, '막걸리': 4458, '짱개': 4459, '천안함': 4460, '형용': 4461, '말리': 4462, '기어': 4463, '농담': 4464, '이성': 4465, '남겨지다': 4466, '게뭐': 4467, '요강': 4468, '마감': 4469, '벚꽃': 4470, '양강': 4471, '어어': 4472, 'ㅁㅊ': 4473, '제임스': 4474, '저번': 4475, '창피하다': 4476, '흉내내': 4477, '흔': 4478, '다운로드': 4479, '고백': 4480, '뉴욕': 4481, '삼다': 4482, '처벌': 4483, '고의': 4484, '다려지다': 4485, '짙다': 4486, '아찔하다': 4487, '빽': 4488, '포스': 4489, '개방': 4490, '더럽히다': 4491, '도하': 4492, '선수': 4493, '매드': 4494, '쪼이다': 4495, '꼽히다': 4496, '쌓이다': 4497, '이정은': 4498, '질투': 4499, '선율': 4500, '골드': 4501, '오후': 4502, '눈부시다': 4503, '데뷔': 4504, '한스': 4505, '파워': 4506, '독재': 4507, '짤': 4508, '장악': 4509, '경지': 4510, '업그레이드': 4511, '개월': 4512, '시종일관': 4513, '인증': 4514, '다라': 4515, '폭망': 4516, '호갱': 4517, '골': 4518, '욕설': 4519, '부산': 4520, '부자연스럽다': 4521, '씌우다': 4522, '기절': 4523, '해먹': 4524, '콜라': 4525, '취하': 4526, '보편': 4527, '좆': 4528, '엿보다': 4529, '주인': 4530, '인간미': 4531, '변신': 4532, '격변': 4533, '을해': 4534, '난잡하다': 4535, '잡아내다': 4536, '추측': 4537, '양념': 4538, '스토킹': 4539, '본성': 4540, '이라곤': 4541, '걸캅스': 4542, '괴상하다': 4543, '라던가': 4544, '봣습니': 4545, '엉덩이': 4546, '스파이': 4547, '쫄면': 4548, '내지': 4549, '떡': 4550, '공주': 4551, '광팬': 4552, '밴드': 4553, '외우다': 4554, '축복': 4555, '자꾸만': 4556, '기록': 4557, '가져가다': 4558, '민': 4559, '홍투': 4560, '더보': 4561, '능': 4562, '노소': 4563, '절망': 4564, '상속': 4565, '루소': 4566, '오래오래': 4567, '꼬': 4568, '간지나다': 4569, '셸비': 4570, '옹호': 4571, '치부': 4572, '반일': 4573, '주문': 4574, '잘리다': 4575, '조지': 4576, '갈라': 4577, '적군': 4578, '마시다': 4579, '찰지다': 4580, '잭니콜슨': 4581, '펼치다': 4582, '재밋다': 4583, '컬트': 4584, '먹방': 4585, '기획': 4586, '투명': 4587, '형성': 4588, '퇴장': 4589, '차마': 4590, '일리': 4591, '섹시': 4592, '초집': 4593, '정당화': 4594, '쩜': 4595, '특색': 4596, '시공간': 4597, '야동': 4598, '주어': 4599, '덤덤하다': 4600, '개꿀': 4601, '지니다': 4602, '완젼': 4603, '파고들다': 4604, '오해': 4605, '이제껏': 4606, '오싹하다': 4607, '패션': 4608, '뒈지다': 4609, '일어나고': 4610, '종료': 4611, '일어서다': 4612, '매기': 4613, '찌': 4614, '슥': 4615, 'ㅔ': 4616, '천하': 4617, '통일': 4618, '흉내': 4619, '용산': 4620, '줄기': 4621, '이연걸': 4622, '육체': 4623, '진행중': 4624, '괴담': 4625, '무협': 4626, '따스하다': 4627, '주기도': 4628, '새기다': 4629, '초속': 4630, '우성': 4631, '블루레이': 4632, '플라토닉': 4633, '러브': 4634, '보너스': 4635, '죄악': 4636, '쫓아가다': 4637, '아동': 4638, '성냥': 4639, '재림': 4640, '오디션': 4641, '울부짖다': 4642, '캐롤': 4643, '고속도로': 4644, '굿굿굿': 4645, '역작': 4646, '연령': 4647, '하여간': 4648, '조인성': 4649, '입히다': 4650, '아무나': 4651, '사망': 4652, '괜': 4653, '박사': 4654, '진행형': 4655, '몰두하다': 4656, '헌신': 4657, '촬영감독': 4658, '출연자': 4659, '정적': 4660, '거여': 4661, '헤드윅': 4662, '잔잔': 4663, '독창': 4664, '빅': 4665, '개존잼': 4666, '일과': 4667, '전후': 4668, '설레임': 4669, '거꾸로': 4670, '글램': 4671, '깃': 4672, '로라': 4673, '독립': 4674, '촉촉하다': 4675, '미우다': 4676, '웨이': 4677, '끄덕이다': 4678, '대다수': 4679, '수장': 4680, '소스': 4681, '효': 4682, '머물다': 4683, '깔깔': 4684, '파리': 4685, '들려오다': 4686, '학대': 4687, '시너지': 4688, '장식': 4689, '오감': 4690, '나선': 4691, '피하': 4692, '논란': 4693, '한가운데': 4694, '사격': 4695, '고이': 4696, '표값': 4697, '금도': 4698, '우유': 4699, '줄리': 4700, '보상': 4701, '여동생': 4702, '특성': 4703, '추격씬': 4704, '독일': 4705, '붕괴': 4706, '물고기': 4707, '버튼': 4708, '뵈다': 4709, '힘겹다': 4710, '제법': 4711, '술함': 4712, '권장': 4713, '스토리텔링': 4714, '포상': 4715, '것임': 4716, '윌스미스': 4717, '일어나지': 4718, '케이스': 4719, '쇼파': 4720, '킬': 4721, '디킨스': 4722, '정원': 4723, '히트': 4724, '싱크로': 4725, '달이': 4726, '허무맹랑': 4727, '인비저블맨': 4728, '촤': 4729, '사자': 4730, '급전': 4731, '튀어': 4732, '권하다': 4733, '익다': 4734, '마누라': 4735, '시위': 4736, '각인': 4737, '닫다': 4738, '연주': 4739, '헤어': 4740, '녀석': 4741, '알바인': 4742, '활동': 4743, '치닫다': 4744, '심해': 4745, '인내심': 4746, '명절': 4747, '실전': 4748, '작작하다': 4749, '건강': 4750, '클럽': 4751, '하루빨리': 4752, '걸어가다': 4753, '자칭': 4754, '작전': 4755, '훗날': 4756, '행보': 4757, '충분': 4758, '주역': 4759, '망상': 4760, '아메리칸': 4761, '도나': 4762, '시킴': 4763, '싱그럽다': 4764, '바닷가': 4765, '어수선하다': 4766, '종이': 4767, '한일': 4768, '혼영': 4769, '막상': 4770, '나기': 4771, 'ㅅㄲ': 4772, '도달': 4773, '닥치고': 4774, '치열하다': 4775, '공기': 4776, '이신': 4777, '연민': 4778, '용두사미': 4779, '보완': 4780, '훈련': 4781, '비비다': 4782, '백만': 4783, '강제': 4784, '사형': 4785, '다정': 4786, '도박': 4787, '압축': 4788, '분안': 4789, '견': 4790, '슨': 4791, '생소하다': 4792, '아일랜드': 4793, '기립박수': 4794, '서점': 4795, '커지다': 4796, '명복': 4797, '그로테스크': 4798, '모자': 4799, '클로즈업': 4800, '사드': 4801, '소용돌이': 4802, '킹': 4803, '타입': 4804, '오그': 4805, '이러니': 4806, '중화사상': 4807, '의자': 4808, '날때': 4809, '왓': 4810, '이롭다': 4811, '수습': 4812, '멍청이': 4813, '회복': 4814, '르': 4815, '악하다': 4816, '무색': 4817, '런닝': 4818, '열광하다': 4819, '물어': 4820, '공산당': 4821, '코믹스': 4822, '납치': 4823, '로그': 4824, '타이타닉': 4825, '사토': 4826, '대리': 4827, '농부': 4828, '굴복': 4829, '차량': 4830, '참전': 4831, '알아내다': 4832, '빈': 4833, '재개': 4834, '봉하': 4835, '고급스럽다': 4836, '몹시': 4837, '퇴폐': 4838, '은은하다': 4839, '체크': 4840, '가려지다': 4841, '지니': 4842, '년작': 4843, '신도': 4844, '조장': 4845, '사투리': 4846, '라며': 4847, '연결고리': 4848, '으으': 4849, '긁다': 4850, '정신차리다': 4851, '잼남': 4852, '레': 4853, '아누': 4854, '되살리다': 4855, '벌렁': 4856, '스텝': 4857, '참담하다': 4858, '주르륵': 4859, '틀림없다': 4860, '차고': 4861, '카지노': 4862, '피날레': 4863, '학년': 4864, '소문나다': 4865, '글램락': 4866, '선호': 4867, '광': 4868, '쏙': 4869, '쫄': 4870, '흐지부지': 4871, '종합': 4872, '시험': 4873, '존예': 4874, '조건': 4875, '뭡': 4876, '찍히다': 4877, '짚다': 4878, '난생': 4879, '앞두다': 4880, '어떻든': 4881, '어느새다': 4882, '기울이다': 4883, '악령': 4884, '설치다': 4885, '로다': 4886, '잔치': 4887, '통쾌': 4888, '특': 4889, '영화제': 4890, '증': 4891, '가스': 4892, '도배': 4893, '꽁': 4894, '멘트': 4895, '숭고하다': 4896, '풍부하다': 4897, '하진': 4898, '세명': 4899, '무의미하다': 4900, '건아': 4901, '알맹이': 4902, '상의': 4903, '타이': 4904, '지워지다': 4905, '상투': 4906, '뒷골목': 4907, '무니': 4908, '판도': 4909, '문성우': 4910, '퓨': 4911, '둥': 4912, '미만': 4913, '하와이': 4914, '막장드라마': 4915, '관대하다': 4916, '훈장': 4917, '참나': 4918, '개쩌': 4919, '너췌먹': 4920, '책임지다': 4921, '인과관계': 4922, '포르노': 4923, '구역질': 4924, '우수하다': 4925, '스승': 4926, '어쩌다': 4927, '연말': 4928, '열쇠': 4929, '유감': 4930, '주작': 4931, '축하': 4932, '비트': 4933, '정신과': 4934, '봣다': 4935, '제왕': 4936, '오점': 4937, '반도': 4938, '틱': 4939, '류작': 4940, '악인': 4941, '가량': 4942, '쏠쏠하다': 4943, '카레': 4944, '모처럼': 4945, '점프': 4946, '였음': 4947, '배제': 4948, '브래드피트': 4949, '티키타카': 4950, '스럽지도': 4951, '얕다': 4952, '기생': 4953, '객차': 4954, '자존심': 4955, '어바웃타임': 4956, '애도': 4957, '앗다': 4958, '악몽': 4959, '잔인': 4960, '점차': 4961, '불쾌감': 4962, '오산': 4963, '코스프레': 4964, '장창': 4965, '업다': 4966, '테이큰': 4967, '무적': 4968, '그리움': 4969, '과제': 4970, '어찌나': 4971, '배틀': 4972, '알아주다': 4973, '분야': 4974, '고독': 4975, '부드럽다': 4976, '줄어들다': 4977, '근처': 4978, '일기': 4979, '할렘': 4980, '룩': 4981, '환': 4982, '수면': 4983, '락': 4984, '후원': 4985, '쭈욱': 4986, '깨우치다': 4987, '해병대': 4988, '조화롭다': 4989, '돌이키다': 4990, '부각': 4991, '내생': 4992, '팔뚝': 4993, '파스타': 4994, '옹': 4995, '위인': 4996, '기택': 4997, '센스': 4998, '쿨하다': 4999, '시가지': 5000, '가나': 5001, '동감': 5002, '오류': 5003, '유족': 5004, '인성': 5005, '필수': 5006, '여인': 5007, '고함': 5008, '고도': 5009, '세기말': 5010, '넓다': 5011, '마음가짐': 5012, '대립': 5013, '닭': 5014, '시퀀스': 5015, '영매': 5016, '화남': 5017, '호러물': 5018, '불편': 5019, '전두환': 5020, '꼴다': 5021, '킥': 5022, '조성하': 5023, '스무살': 5024, '받치다': 5025, '얼샤': 5026, '흑우': 5027, '맛보다': 5028, '브라이언': 5029, '명령': 5030, '바이': 5031, '상류층': 5032, '화판': 5033, '땜시': 5034, '외다': 5035, '케이': 5036, '국적': 5037, 'ㅆ': 5038, '탄식': 5039, '살의': 5040, '태양': 5041, '운영': 5042, '연하다': 5043, '짖다': 5044, '배우자': 5045, '무얼': 5046, '하나님': 5047, '에게서': 5048, '대서': 5049, '마주치다': 5050, '쓱싹쓱싹': 5051, '저렴하다': 5052, '메타포': 5053, '베이': 5054, '찢어지다': 5055, '스필버그': 5056, '껀': 5057, '토리': 5058, '공효진': 5059, '익히다': 5060, '멜로디': 5061, '짝사랑': 5062, '재연': 5063, '피트': 5064, '방글라데시': 5065, '개멋': 5066, '코팅': 5067, '십대': 5068, '필립': 5069, '절하': 5070, '리턴즈': 5071, '삭': 5072, '팬티': 5073, '권상우': 5074, '중화': 5075, '첸카이거': 5076, '흐뭇하다': 5077, '아이돌': 5078, '닻': 5079, '콤비': 5080, '유해진': 5081, '중요성': 5082, '장사': 5083, '방탄': 5084, '숭배': 5085, '일관': 5086, '그러니까': 5087, '인간성': 5088, '살펴보다': 5089, '들여다보다': 5090, '화질': 5091, '허공': 5092, '원판': 5093, '가상': 5094, '불로': 5095, '이필': 5096, '나잇': 5097, '고문': 5098, '문학': 5099, '천만다행': 5100, '주로': 5101, '개망작': 5102, '건달': 5103, '거른다': 5104, '저급하다': 5105, '숙면': 5106, '밋': 5107, '싱겁다': 5108, '싱크': 5109, '고대': 5110, '록': 5111, '서서': 5112, '개운하다': 5113, '일요일': 5114, '랫': 5115, '편향': 5116, '일진': 5117, '도록': 5118, '양보': 5119, '음원': 5120, '한낱': 5121, '기용': 5122, '로나': 5123, '조랑': 5124, '팅': 5125, '우리네': 5126, '정신건강': 5127, '픽션': 5128, '길가': 5129, '보삼': 5130, '뒷맛': 5131, '허허': 5132, '한창': 5133, '쪼': 5134, '땡큐': 5135, '강력하다': 5136, '실적': 5137, '이해해': 5138, '맴돌다': 5139, '잘나오다': 5140, '마스터': 5141, 'ㅋㅋㅋㅋㅋ': 5142, '이동': 5143, '개척': 5144, '라이벌': 5145, '따라오다': 5146, '구입': 5147, '사오다': 5148, '주고받다': 5149, '브라': 5150, '종류': 5151, '거만': 5152, '매체': 5153, '대세': 5154, '강동원': 5155, '만연하다': 5156, '피로': 5157, '흑백': 5158, '녹음': 5159, '폭우': 5160, '탭댄스': 5161, '주무시다': 5162, '역사왜곡': 5163, '맘대로': 5164, '질적': 5165, '틀림': 5166, '따라서': 5167, '기기': 5168, '연발': 5169, '킬빌': 5170, '단편': 5171, '젯': 5172, '펑크': 5173, '산업': 5174, '제품': 5175, '부들': 5176, '배치': 5177, '뭥미': 5178, '빈약': 5179, '사르다': 5180, '어째서': 5181, '앞서다': 5182, '몸매': 5183, '상도': 5184, '케이팝': 5185, '급감': 5186, '출동': 5187, '폐': 5188, '년후': 5189, '자작': 5190, '황당': 5191, '메가박스': 5192, '뿜뿜': 5193, '이중성': 5194, '먹이': 5195, '크리스토퍼놀란': 5196, '쩌는데': 5197, '전자': 5198, '미남': 5199, '복합': 5200, '막연하다': 5201, '스태프': 5202, '아악': 5203, '스미스': 5204, '폭탄': 5205, '파국': 5206, '증발': 5207, '갱': 5208, '소리내다': 5209, '포심': 5210, '햇음': 5211, '명분': 5212, '잘나다': 5213, '끄덕': 5214, '인피니티': 5215, '후퇴': 5216, '사고방식': 5217, '갓띵작': 5218, '촬영상': 5219, '달래다': 5220, '에이리언': 5221, 'ㅓ': 5222, '아대': 5223, '확정': 5224, '승화': 5225, '먹음': 5226, '액션연기': 5227, '선량하다': 5228, '만일': 5229, '부하': 5230, '개별': 5231, '한적': 5232, '귀로': 5233, '죽여주다': 5234, '쓰러지다': 5235, '날짜': 5236, '전사': 5237, '권유': 5238, '진수': 5239, '이겠다': 5240, '로다주': 5241, '즐감': 5242, '수년': 5243, '고집': 5244, '구만': 5245, '죽지': 5246, '재밋네': 5247, '앳킨스': 5248, '보정': 5249, '의외': 5250, '중임': 5251, '범죄영화': 5252, '글구': 5253, '쓰레기통': 5254, '매트릭스': 5255, '윤제문': 5256, '치면': 5257, '갱신': 5258, '불어': 5259, '토요일': 5260, '조심': 5261, '빌럿': 5262, '장담': 5263, '전략': 5264, '네오': 5265, '본전': 5266, '화만': 5267, '러브레터': 5268, '예의': 5269, '어플': 5270, '스마트폰': 5271, '시간여행': 5272, '재회': 5273, '비슷': 5274, '되새기다': 5275, '장인': 5276, '파파이스': 5277, '세력': 5278, '조승우': 5279, '실컷': 5280, '경고': 5281, '쌍': 5282, '유년기': 5283, '러시아': 5284, '합작': 5285, '줄평': 5286, '집합': 5287, '똥망': 5288, '시야': 5289, '존존': 5290, '바램': 5291, '애스터': 5292, '정상인': 5293, '장동': 5294, '김씨': 5295, '상하': 5296, '여분': 5297, '과격하다': 5298, '지방': 5299, '계단': 5300, '배경음': 5301, '미저리': 5302, '브랜드': 5303, '무모하다': 5304, '겉멋': 5305, '개개인': 5306, '주저': 5307, '만종': 5308, '진국곤': 5309, '쓰기': 5310, '술래잡기': 5311, '돌이': 5312, '시르다': 5313, '질병': 5314, '카레이싱': 5315, '아마추어': 5316, '멎다': 5317, '썩': 5318, '위노나': 5319, '라이더': 5320, '훼손': 5321, '살인자': 5322, '터키': 5323, '텐션': 5324, '요나': 5325, '상반': 5326, '평보': 5327, '벨': 5328, '닼': 5329, '공산주의': 5330, '감수': 5331, '안남다': 5332, '전남친': 5333, '몸부림': 5334, '사전': 5335, '유도': 5336, '말기': 5337, '서사시': 5338, '베트남': 5339, '세실리아': 5340, '피터': 5341, '마다의': 5342, '깨알': 5343, '가치관': 5344, '공통': 5345, '쥬': 5346, '꽝': 5347, '미터': 5348, '플래쉬': 5349, '근대사': 5350, '펀딩': 5351, '평정': 5352, '할인': 5353, '서늘하다': 5354, '레이첼': 5355, '얄밉다': 5356, '돈값': 5357, '유의': 5358, '상승': 5359, '씨발': 5360, '자유롭다': 5361, '민낯': 5362, '탁': 5363, '기득권': 5364, '유료': 5365, '친해지다': 5366, '뭐해': 5367, '고통스럽다': 5368, '불행하다': 5369, '뉴': 5370, '리라': 5371, '맹목': 5372, '케이블': 5373, '한석규': 5374, '베드': 5375, '젊음': 5376, '특수부대': 5377, '차승원': 5378, '바하': 5379, '치우다': 5380, '배부르다': 5381, '플로렌스': 5382, '오기': 5383, '싱': 5384, '스트리트': 5385, '황제': 5386, '미스터': 5387, '민감하다': 5388, '권선': 5389, '다년': 5390, '좌석': 5391, '엔드게임': 5392, '못지않다': 5393, '밖에는': 5394, '기네': 5395, '자국': 5396, '조심하다': 5397, '취소': 5398, '기세': 5399, '후련하다': 5400, '고수': 5401, '구르다': 5402, '랍시고': 5403, '안듬': 5404, '기태': 5405, '가시다': 5406, '사명': 5407, '불가하다': 5408, '성추행': 5409, '이틀': 5410, '그러하다': 5411, '가정폭력': 5412, '소담': 5413, '선의': 5414, '띄우다': 5415, '어리석다': 5416, '이크': 5417, '특수': 5418, '미개하다': 5419, '으로의': 5420, '자전거': 5421, '자괴': 5422, '껌': 5423, '품격': 5424, '라이브': 5425, '밖엔': 5426, '태': 5427, '깨어나다': 5428, '깝': 5429, '광경': 5430, '마인': 5431, '깨부수다': 5432, '짐머': 5433, '저격': 5434, '박아': 5435, '대목': 5436, '토토': 5437, '국밥': 5438, '그릇': 5439, '든든하다': 5440, '집권': 5441, '충만': 5442, '지게': 5443, '오래전': 5444, '사이트': 5445, '붙잡다': 5446, '더니': 5447, '끝장': 5448, '쾌감': 5449, '끝없다': 5450, '꿇다': 5451, '닦다': 5452, '카스테라': 5453, '떼베': 5454, '링': 5455, '비위': 5456, '밭': 5457, '일로': 5458, '가격': 5459, '살때': 5460, '로우': 5461, '미세먼지': 5462, '가정부': 5463, '킹스': 5464, '원수': 5465, '물음': 5466, '격동': 5467, '닭살': 5468, '특전': 5469, '하드': 5470, '뒷모습': 5471, '박하': 5472, '존잼임': 5473, '버스': 5474, '각도': 5475, '수치': 5476, '시달리다': 5477, '러': 5478, '제물': 5479, '움직': 5480, '아드레날린': 5481, '버금': 5482, '프롤로그': 5483, '가식': 5484, '지기': 5485, '걔': 5486, '샬라메': 5487, '로이': 5488, '국': 5489, '런': 5490, '이런저런': 5491, '가라앉다': 5492, '아보': 5493, '내적': 5494, '요구': 5495, '나열하다': 5496, '이예': 5497, '제거': 5498, '전라도': 5499, '근대': 5500, '윤리': 5501, '신고': 5502, '올레': 5503, '물의': 5504, '도망자': 5505, '불매': 5506, '단계': 5507, '공격': 5508, '다점': 5509, '밥상': 5510, '어쩐지': 5511, '떠나가다': 5512, '대왕': 5513, '박스오피스': 5514, '멘스': 5515, '외화': 5516, '깡': 5517, '탐구': 5518, '생사': 5519, '바랬는데': 5520, '대지': 5521, '참호': 5522, '송위룡': 5523, '아슬아슬하다': 5524, '미란': 5525, '전도': 5526, '개쩌는데': 5527, '안달': 5528, '로망': 5529, '관왕': 5530, '연우': 5531, '건조하다': 5532, '선입견': 5533, '의혹': 5534, '단언컨대': 5535, '창작': 5536, '몰려오다': 5537, '활': 5538, '열의': 5539, '로렌스': 5540, '손바닥': 5541, '윗': 5542, '데려가다': 5543, '비치다': 5544, '집요하다': 5545, '앵커': 5546, '반짝이다': 5547, '어쩌라고': 5548, '시세': 5549, '으로서의': 5550, '건너': 5551, '둘리': 5552, '페이지': 5553, '통찰': 5554, '볼껄': 5555, '띵': 5556, '음모': 5557, '친하다': 5558, '운송': 5559, '미안': 5560, '무한도전': 5561, '뽀로로': 5562, '대장': 5563, '부류': 5564, '개입': 5565, '데려오다': 5566, '기다림': 5567, '간혹': 5568, '급소': 5569, '바가지': 5570, '교회': 5571, '스가': 5572, '팍': 5573, '공복': 5574, '디씨': 5575, '충족': 5576, '데이브': 5577, '미필': 5578, '상기': 5579, '퍼지다': 5580, '동심': 5581, '타고나다': 5582, '평화롭다': 5583, '으로나': 5584, '오는': 5585, '페이트': 5586, '웬': 5587, '설국열차': 5588, '트럼프': 5589, '배급': 5590, '자아내다': 5591, '상반기': 5592, '지저분하다': 5593, '언플': 5594, '억압': 5595, '도착': 5596, '시사': 5597, '뛰어들다': 5598, '눈살': 5599, '아우르다': 5600, '고하': 5601, '향기': 5602, '귓가': 5603, '무녀': 5604, '부업': 5605, '판치다': 5606, '시동': 5607, '암흑': 5608, '하층': 5609, '안심': 5610, '라이즈': 5611, '진리': 5612, '쥬산': 5613, '에밀': 5614, '시가전': 5615, '더군다나': 5616, '렌트': 5617, '무능력하다': 5618, '치우치다': 5619, '발악': 5620, '레스토랑': 5621, '음미': 5622, '으앙': 5623, '한국어': 5624, '크루즈': 5625, '햇습니': 5626, '최애영': 5627, '무자비하다': 5628, '왓슨': 5629, '신선': 5630, '반신반의': 5631, '나란하다': 5632, '수지': 5633, '스워스': 5634, '되돌리다': 5635, '탱크': 5636, '생계': 5637, '박스': 5638, '야망': 5639, '델': 5640, '시댁': 5641, '사주다': 5642, '열자': 5643, '무도': 5644, '정민': 5645, '안도': 5646, '허용': 5647, '잡탕': 5648, '친숙하다': 5649, '보호': 5650, '햇살': 5651, '밤하늘': 5652, '정석': 5653, '개지': 5654, '읍': 5655, '원본': 5656, '불후': 5657, '동양인': 5658, '색체': 5659, '진도': 5660, '사죄': 5661, '적응': 5662, '제보': 5663, '병들다': 5664, '무관심': 5665, '그림자': 5666, '여명': 5667, '절박': 5668, '꼼꼼하다': 5669, '막막하다': 5670, '진작': 5671, '봉작': 5672, '대여': 5673, '엘리': 5674, '카니': 5675, '휘두르다': 5676, '꼴통': 5677, '불꽃': 5678, '우주선': 5679, '해방': 5680, '심기': 5681, '윤': 5682, '잡아먹다': 5683, '휼륭하다': 5684, '부잣집': 5685, '생전': 5686, '재우다': 5687, '딱딱하다': 5688, '통수치다': 5689, '여리다': 5690, '후려치다': 5691, '이본': 5692, '가관': 5693, '쫀쫀': 5694, '작자': 5695, '가다가': 5696, '애나벨': 5697, '초라하다': 5698, '후편': 5699, '드니': 5700, '여부': 5701, '올려놓다': 5702, '극진': 5703, '패러디': 5704, '말장난': 5705, '밍밍': 5706, '넘버': 5707, '이불': 5708, '여유롭다': 5709, '만끽': 5710, '이중': 5711, '저가': 5712, '북유럽': 5713, '땡': 5714, '중국어': 5715, '남아돌다': 5716, '경찰차': 5717, '대규모': 5718, '쏠': 5719, '지로': 5720, '한해': 5721, '현지': 5722, '계란': 5723, '무조': 5724, '내겐': 5725, '기초': 5726, '고발': 5727, '지침': 5728, '이구만': 5729, '여신': 5730, '아르': 5731, '잘맞다': 5732, '때때로': 5733, '고소': 5734, '유익하다': 5735, '자결': 5736, '무빙': 5737, '고여': 5738, '여우주연상': 5739, '여당': 5740, '빨르다': 5741, '삼키다': 5742, '왕국': 5743, '순수': 5744, '루이자': 5745, '감기': 5746, '퇴보': 5747, '그땐': 5748, '엘리자베스': 5749, '모스': 5750, '삼성': 5751, '약점': 5752, '수채화': 5753, '힘쓰다': 5754, '몸짓': 5755, '마구': 5756, '렁': 5757, '더더': 5758, '마침': 5759, '개선': 5760, '징징대다': 5761, '에서나': 5762, '나이트메어': 5763, '년뒤': 5764, '스탈': 5765, '저예산영화': 5766, '끊어지다': 5767, '강철': 5768, '파라': 5769, '트렌디': 5770, '무려': 5771, '틀니': 5772, '신천지': 5773, '악귀': 5774, '존버': 5775, '숨기': 5776, '야구': 5777, '기단': 5778, '으로서는': 5779, '아우': 5780, '희미하다': 5781, '작렬': 5782, '안질리다': 5783, '연연하다': 5784, '공병문': 5785, '여느': 5786, '감탄사': 5787, '독하다': 5788, '통통': 5789, '공상': 5790, '교환': 5791, '계약': 5792, '케바케': 5793, '니지': 5794, '밀루유떼베': 5795, '버드맨': 5796, '환승': 5797, '요점': 5798, '창의': 5799, '악한': 5800, '내심': 5801, '불문': 5802, '치중': 5803, '절실': 5804, '쿠폰': 5805, '출중하다': 5806, '김태희': 5807, '걔네': 5808, '무시무시하다': 5809, '진주': 5810, '안방': 5811, '사업가': 5812, '순서': 5813, '만화영화': 5814, '몬': 5815, '소품': 5816, '연락': 5817, '파피': 5818, '섭섭하다': 5819, '수제비': 5820, '오른': 5821, '떨구다': 5822, 'ㄱㄱ': 5823, '저걸': 5824, '몽환': 5825, '짝짝': 5826, '싸지르다': 5827, '기일': 5828, '제한': 5829, '빵점': 5830, '공룡': 5831, '통제': 5832, '어긋나다': 5833, '초등': 5834, '겟아웃': 5835, '몰카': 5836, '커리어': 5837, '그랜드': 5838, '미끼': 5839, '진주만': 5840, '폭격': 5841, '누리': 5842, '스크린쿼터': 5843, '처가': 5844, '육': 5845, '코트': 5846, '화류': 5847, '비운': 5848, '기와': 5849, '안거': 5850, 'ㅌㅋ': 5851, '대회': 5852, '청소': 5853, '어그': 5854, '일색': 5855, '부부싸움': 5856, '느그': 5857, '가성': 5858, '전우': 5859, '탐미': 5860, '구간': 5861, '개띵작': 5862, '따오다': 5863, '잠듬': 5864, '장려': 5865, '복잡': 5866, '묘미': 5867, '싸하다': 5868, '울렁거리다': 5869, '동해': 5870, '없슴': 5871, '페리': 5872, '동반': 5873, '수입': 5874, '사의': 5875, '원조': 5876, '어쨋': 5877, '뭉치다': 5878, '국군': 5879, '볼라': 5880, '필히': 5881, '수석': 5882, '화차': 5883, '비평': 5884, '자부': 5885, '명감': 5886, '랏': 5887, '오래간만': 5888, '사가다': 5889, '무명': 5890, '뵙다': 5891, '풍선': 5892, '똥꼬': 5893, '금은': 5894, '몰리다': 5895, '폐허': 5896, '씬들': 5897, '쫄깃함': 5898, '번볼': 5899, '개츠비': 5900, '학': 5901, '중요시': 5902, '체감': 5903, '타임머신': 5904, '앤드류': 5905, '동작': 5906, '거래': 5907, '주시': 5908, '대략': 5909, '문신': 5910, '어가': 5911, '적폐': 5912, '술집': 5913, '정유미': 5914, '호연': 5915, '욧': 5916, '일종': 5917, '재산': 5918, '원빈': 5919, '염': 5920, '피고': 5921, '법도': 5922, '린지': 5923, '언스': 5924, '안전하다': 5925, '관해': 5926, '뒷받침': 5927, '신봉': 5928, '유저': 5929, '언브레이커블': 5930, '답니': 5931, '원한': 5932, '시상식': 5933, '거머': 5934, '에드': 5935, '모티브': 5936, '나오미': 5937, '설계': 5938, '포커스': 5939, '돌아이': 5940, '멍하니': 5941, '흥겹다': 5942, '솔로': 5943, '고가': 5944, '막말': 5945, '이세': 5946, '분리': 5947, '패기': 5948, '마치다': 5949, '좁다': 5950, '구라': 5951, '썸': 5952, '에스티': 5953, '액': 5954, '위안': 5955, '민족': 5956, '화표': 5957, '페이': 5958, '예외': 5959, '김범': 5960, '리브': 5961, '건너다': 5962, '단단하다': 5963, '웠': 5964, '유투브': 5965, '평안하다': 5966, '금치': 5967, '중앙': 5968, '지진': 5969, '언더그라운드': 5970, '다투다': 5971, '바다로': 5972, '영화음악': 5973, '패러다임': 5974, '멘붕': 5975, '사이드': 5976, '중요': 5977, '코난': 5978, '된장': 5979, '빠돌이': 5980, '신비하다': 5981, '감염': 5982, '게이': 5983, '떨어뜨리다': 5984, '떼': 5985, '앙상블': 5986, '객점': 5987, '전락': 5988, '멤버': 5989, '발걸음': 5990, '다듬어지다': 5991, '최상급': 5992, '가입': 5993, '요인': 5994, '울컥울컥': 5995, '드랙스': 5996, '화이자': 5997, '끓이다': 5998, '소지섭': 5999, '한효주': 6000, '특별': 6001, '억이': 6002, '정해': 6003, '이오': 6004, '존내': 6005, '꿈속': 6006, '값어치': 6007, '유명': 6008, '부실': 6009, '바라지': 6010, '찌들다': 6011, '푼': 6012, '연평해전': 6013, '주민': 6014, '부사': 6015, '림': 6016, '최곤데': 6017, '브레이크': 6018, '이브': 6019, '은숙': 6020, '절묘하다': 6021, '백수': 6022, '거듭': 6023, '밤새': 6024, '스포츠카': 6025, '헤치다': 6026, '배기': 6027, '튀기다': 6028, '저능': 6029, '흥분하다': 6030, '혼미하다': 6031, '터뜨리다': 6032, '관전': 6033, '끌어안다': 6034, '세심': 6035, '오염': 6036, '예약': 6037, '괴기': 6038, '최하': 6039, '애국심': 6040, '싸이': 6041, '도구로': 6042, '위원회': 6043, '귀요미': 6044, '햐': 6045, '구걸': 6046, '불가능': 6047, '사령관': 6048, '식히다': 6049, '시청자': 6050, '오묘하다': 6051, '성실하다': 6052, '룰': 6053, '순다': 6054, '내공': 6055, '신들리다': 6056, '과소': 6057, '이마': 6058, '본영': 6059, 'ㄴㄴ': 6060, '영역': 6061, '나머진': 6062, '오만하다': 6063, '이득': 6064, '에그': 6065, '뚝': 6066, '교통사고': 6067, '바퀴벌레': 6068, '따갑다': 6069, 'ㅠㅡㅠ': 6070, '은행': 6071, '사극': 6072, '도구': 6073, '인권': 6074, '문장': 6075, '환타지': 6076, '지향': 6077, 'ㅂㅈ': 6078, '격투기': 6079, '칠이': 6080, '두리': 6081, '평행': 6082, '칸영화제': 6083, '황': 6084, '어간': 6085, '냉혹하다': 6086, '돌보다': 6087, '마땅하다': 6088, '대학교': 6089, '어지간하다': 6090, '판매': 6091, '대망': 6092, '인내': 6093, '조드': 6094, '말씀드리다': 6095, '쫀득': 6096, '잠수함': 6097, '근무': 6098, '먹기': 6099, '때메': 6100, '툭툭': 6101, '조롱': 6102, '톰크루즈': 6103, '괜춘': 6104, '참신': 6105, '다미': 6106, '고귀하다': 6107, '날림': 6108, '출근': 6109, '어느덧다': 6110, '톡': 6111, '능력자': 6112, 'ㅁ': 6113, '표시': 6114, '그늘': 6115, '평등': 6116, '택시': 6117, 'ㄹ': 6118, '둘러쌓다': 6119, '바티스타': 6120, '끝임': 6121, '거주': 6122, '목요일': 6123, '타치': 6124, '아시': 6125, '식당': 6126, '진화': 6127, '동아리': 6128, '치키다': 6129, '스물': 6130, '연한': 6131, '직후': 6132, '수로': 6133, '글쎄요': 6134, '힘주다': 6135, '리스트': 6136, '고립': 6137, '테레사': 6138, '롤': 6139, '장기': 6140, '맴도': 6141, '장화홍련': 6142, '앵': 6143, '분류': 6144, '홍상수': 6145, '왕기': 6146, '판권': 6147, '업적': 6148, '밀도': 6149, '어김없이': 6150, '후자': 6151, '쿠': 6152, '허탈하다': 6153, '셔츠': 6154, '챙': 6155, '라그': 6156, '각종': 6157, '괴롭힘': 6158, '인과응보': 6159, '다이나믹': 6160, '차오르다': 6161, '필터': 6162, '므': 6163, '이민자': 6164, '뜻밖': 6165, '쇼킹': 6166, '여럿': 6167, '훌룡': 6168, '알맞다': 6169, '외침': 6170, '오픈': 6171, '요청': 6172, '거고': 6173, '강약': 6174, '나눠지다': 6175, '엮어': 6176, '동영상': 6177, '상위': 6178, '빼앗다': 6179, '세뇌': 6180, '쌍욕': 6181, '맵다': 6182, '턱': 6183, '주목': 6184, '자동': 6185, '징악': 6186, '우롱': 6187, '패쓰': 6188, '흐흐': 6189, '시인': 6190, '원망': 6191, '토로': 6192, '문구': 6193, '보위': 6194, '늑대': 6195, '시한': 6196, '브루스': 6197, '추기경': 6198, '천주교': 6199, '서비스': 6200, '식은땀': 6201, '재밋는데': 6202, '컨티뉴': 6203, '할배': 6204, '줄타기': 6205, '서운하다': 6206, '씩씩하다': 6207, '론데': 6208, '안타': 6209, '장편': 6210, '습관': 6211, '레타': 6212, '밤새다': 6213, '가르치다': 6214, '권태기': 6215, '불량': 6216, '람사': 6217, '내포': 6218, '망정': 6219, '아포칼립토': 6220, '인양': 6221, '여실히': 6222, '상쾌하다': 6223, '마사미': 6224, '쫄림': 6225, '점임': 6226, '여하튼': 6227, '우릴': 6228, '한층': 6229, '클라이맥스': 6230, '치기': 6231, '곁들이다': 6232, '하쿠': 6233, '딸아이': 6234, '벛꽃': 6235, '유니버스': 6236, '두근': 6237, '우범곤': 6238, '좌우': 6239, '움직임': 6240, '중사': 6241, '비리': 6242, '천식': 6243, '지창욱': 6244, '김소현': 6245, '심심': 6246, '성욕': 6247, '제국주의': 6248, '쟁취': 6249, '세밀': 6250, '언덕': 6251, '걸치다': 6252, '정의감': 6253, '신작': 6254, '경향': 6255, '고리': 6256, '무수': 6257, '민주화': 6258, '어루만지다': 6259, '악플러': 6260, '는바': 6261, '대대': 6262, '평일': 6263, '당기다': 6264, '빗대다': 6265, '우월하다': 6266, '거두다': 6267, '은혜': 6268, '고충': 6269, '정신병원': 6270, '소환': 6271, '진실로': 6272, '파트': 6273, '톱': 6274, '천지': 6275, '인비저블': 6276, '빼앗기다': 6277, 'ㅋㅋㅋㅋㅋㅋ': 6278, '뱉다': 6279, '기여': 6280, '아이고': 6281, '독': 6282, '접함': 6283, '롤러코스터': 6284, '승': 6285, '총성': 6286, '식다': 6287, '수상하다': 6288, '김윤석': 6289, '스포츠': 6290, '여윽시': 6291, '버젼': 6292, '할리웃': 6293, '둘러싸다': 6294, '키스신': 6295, '번영': 6296, '눈요기': 6297, '눈물샘': 6298, '콜렛': 6299, '광신도': 6300, '어르다': 6301, '읭': 6302, '의의': 6303, '시스': 6304, '사기꾼': 6305, '스타트렉': 6306, '지모': 6307, '소유': 6308, '쩔': 6309, '공통점': 6310, '독재자': 6311, '친일': 6312, '대륙': 6313, '곶감': 6314, '상우': 6315, '혼돈': 6316, '밋밋하다': 6317, '내러티브': 6318, '들키다': 6319, '기이하다': 6320, '예수님': 6321, '나인': 6322, '고요함': 6323, '감점': 6324, '대변': 6325, '아주아주': 6326, '낭': 6327, '흔들다': 6328, '고온': 6329, '다니엘': 6330, '여론': 6331, '잡기': 6332, '상큼': 6333, '마침내': 6334, '도아': 6335, '불매운동': 6336, '가로': 6337, '대항': 6338, '투척': 6339, '조사해': 6340, '나래': 6341, '환장하다': 6342, '노리': 6343, '이상하': 6344, '고루': 6345, '즈음': 6346, '군생활': 6347, '관성': 6348, '편협': 6349, '비아': 6350, '취한': 6351, '노아': 6352, '졸림': 6353, '극대': 6354, '뚜껑': 6355, '넘침': 6356, '바라냐': 6357, '때깔': 6358, '덜다': 6359, '면허': 6360, '알고싶다': 6361, '격하': 6362, '으리': 6363, '영화정보': 6364, '하필': 6365, '흑형': 6366, '명곡': 6367, '팔다': 6368, '해고': 6369, '요원': 6370, '무작정': 6371, '고유': 6372, '이대로': 6373, '시보': 6374, '반짝반짝': 6375, '자제': 6376, '기구': 6377, '위신': 6378, '체인지': 6379, '총구': 6380, '꼽는': 6381, '첨으로': 6382, '회의': 6383, '라나': 6384, '독과점': 6385, '인신공양': 6386, '일텐데': 6387, '탱': 6388, '도도': 6389, '이세영': 6390, '크립톤': 6391, '소행': 6392, '졸지': 6393, '호랑이': 6394, '쵝': 6395, '세친구': 6396, '모가지': 6397, '추강': 6398, '어요': 6399, '품': 6400, '자동차극장': 6401, '번작': 6402, '요하': 6403, '허망': 6404, '윤수': 6405, '민수': 6406, '길들이다': 6407, '좌': 6408, '김구': 6409, '퉤': 6410, '삘': 6411, '물음표': 6412, '두기': 6413, '부끄러움': 6414, '안드레이': 6415, '침대': 6416, '한여운': 6417, '한우': 6418, '감미롭다': 6419, '맛집': 6420, '미셸': 6421, '일기장': 6422, '시리': 6423, '윅': 6424, '구출': 6425, '엔딩씬': 6426, '터널': 6427, '누명': 6428, '토끼': 6429, '충성': 6430, '닥터': 6431, '교감': 6432, '헛되': 6433, '흐': 6434, '영화상': 6435, '프레이': 6436, '자라': 6437, '리듬': 6438, '정당하다': 6439, '전날': 6440, '개구': 6441, '씽': 6442, '해안': 6443, '스미다': 6444, '앞날': 6445, '싸대기': 6446, '방심하다': 6447, '진실하다': 6448, '탄도': 6449, '평상시': 6450, '이모': 6451, '인격': 6452, '소리치다': 6453, '저택': 6454, '회장': 6455, '신앙': 6456, '마이클': 6457, '부러워하다': 6458, '미슐랭': 6459, '손님': 6460, '이순재': 6461, '이종수': 6462, '텐트': 6463, '스티븐': 6464, '화이': 6465, '동조': 6466, '과극': 6467, '특유하다': 6468, '채운': 6469, '수단': 6470, '피자': 6471, '상가': 6472, '위상': 6473, '솜씨': 6474, '천명': 6475, '러하': 6476, '수혜': 6477, '노랑': 6478, '봉투': 6479, '박서준': 6480, '인간극장': 6481, '횟수': 6482, '호들갑': 6483, '은애': 6484, '뎈': 6485, '조음': 6486, '박지영': 6487, '얼간이': 6488, '좌충우돌': 6489, '내기': 6490, '귀하다': 6491, '지상': 6492, '초도': 6493, '시놉시스': 6494, '정교하다': 6495, '상남자': 6496, '최신': 6497, '왓챠': 6498, '개봉관': 6499, '명언': 6500, '대학': 6501, '매장': 6502, '일만': 6503, '미숙': 6504, '에스': 6505, '퇴': 6506, '미사': 6507, '신음': 6508, '거릴': 6509, '플레이': 6510, '컴': 6511, '낯선': 6512, '수정': 6513, '자씨': 6514, '방관': 6515, '자만': 6516, '경종': 6517, '초대': 6518, '배짱': 6519, '연구': 6520, '나대다': 6521, '대부': 6522, '보수': 6523, '마츠코': 6524, '일정': 6525, '총총': 6526, '과분': 6527, '온라인': 6528, '시달소': 6529, '대책': 6530, '교관': 6531, '첨가': 6532, '근성': 6533, '차안': 6534, '물씬': 6535, '주입': 6536, '매달리다': 6537, '행각': 6538, '몰락': 6539, '저급': 6540, '지라': 6541, '수동': 6542, '케비어': 6543, '삭막하다': 6544, '줏대': 6545, '소위': 6546, '수염': 6547, '윤경': 6548, '오른쪽': 6549, '러팔로': 6550, '주의자': 6551, '오유': 6552, '지스토리': 6553, '학원': 6554, '신선도': 6555, '마당': 6556, '홀랜드': 6557, 'ㅗㅗ': 6558, '막강': 6559, '근접': 6560, '숫자': 6561, '절명': 6562, '휴가': 6563, '명쾌하다': 6564, '기보': 6565, '기훈': 6566, '썰다': 6567, '돕다': 6568, '신화': 6569, '교체': 6570, '쫄깃해': 6571, '주된': 6572, '무덤': 6573, '맑음': 6574, '배타': 6575, '맞먹다': 6576, '야마': 6577, '입체': 6578, 'ㅠㅠㅜ': 6579, '거중': 6580, '헌터': 6581, '고아': 6582, '걷어차다': 6583, '대우': 6584, '모조리': 6585, '사정거리': 6586, '서울대': 6587, '낮잠': 6588, '가보': 6589, '경훈': 6590, '해치': 6591, '소지': 6592, '솟다': 6593, '인력': 6594, '치르다': 6595, '최저': 6596, '주심': 6597, '부도': 6598, '사하나': 6599, '성희롱': 6600, '명과': 6601, '모자라': 6602, '개떡': 6603, '맞닿다': 6604, '초현': 6605, '운동권': 6606, '놀': 6607, '한판': 6608, '태극기': 6609, '실시': 6610, '전역': 6611, '테마': 6612, '조온나': 6613, '에혀': 6614, '테러범': 6615, 'ㅜㅜㅠ': 6616, 'ㅛ': 6617, '이루': 6618, '라네': 6619, '이남': 6620, '만수무강': 6621, '배속': 6622, '성해': 6623, '보안': 6624, '난사': 6625, '진취': 6626, '해치다': 6627, '발가락': 6628, '욥': 6629, '소득': 6630, '괴리감': 6631, '데드풀': 6632, '반론': 6633, '맘마미아': 6634, '척척': 6635, '꼬꼬': 6636, '투입': 6637, '아기자기하다': 6638, '판타지영화': 6639, '매운탕': 6640, '마음먹다': 6641, '잡아가다': 6642, '알아채다': 6643, '거저': 6644, '욤': 6645, '뼈대': 6646, '차태현': 6647, '짜임': 6648, '필요성': 6649, '아작': 6650, '퀸': 6651, '무관': 6652, '남한': 6653, '나열': 6654, '작도': 6655, '지그': 6656, '설리': 6657, '장안': 6658, '즐': 6659, '스트리머': 6660, '단발': 6661, '샷건': 6662, '가차': 6663, '쿠엔틴': 6664, '가족사': 6665, '감빵': 6666, '사이버': 6667, '닫히다': 6668, '가감': 6669, '웍': 6670, '힘없다': 6671, '정성': 6672, '진국': 6673, '툭': 6674, '마술': 6675, '바임': 6676, '아이콘': 6677, '네플릭스': 6678, '드라마틱하다': 6679, '그러므로': 6680, '퇴근': 6681, '창': 6682, '제라드': 6683, '버틀러': 6684, '시스템': 6685, '한발': 6686, '해대': 6687, '우리말': 6688, '이성민': 6689, '바랬다': 6690, '방이': 6691, '정당': 6692, '으로라도': 6693, '눈길': 6694, '발차기': 6695, '기운': 6696, '돌변': 6697, '나와라': 6698, '세종대왕': 6699, '사이공': 6700, '하트': 6701, '감미': 6702, '생뚱맞': 6703, '조리': 6704, '일베': 6705, '수꼴': 6706, '굽': 6707, '틀어주다': 6708, '위선': 6709, '반도체': 6710, '화학': 6711, '세팅': 6712, '세영': 6713, '시청각': 6714, '최적화': 6715, '곰곰하다': 6716, '폭주': 6717, '소신': 6718, '준영': 6719, '한구석': 6720, '한과': 6721, '국한': 6722, '청원': 6723, '강츄': 6724, '약혼자': 6725, '사시': 6726, '이기심': 6727, '엇음': 6728, '괴기하다': 6729, '탐욕': 6730, '아놀드': 6731, '편리하다': 6732, '딸도': 6733, '돌아다니다': 6734, '가구': 6735, '공황장애': 6736, '이스케이프': 6737, '파이몬': 6738, '김민희': 6739, '골리앗': 6740, '기우': 6741, '족구': 6742, '널다': 6743, '덕지덕지': 6744, '사우나': 6745, '영호': 6746, '갈색': 6747, '팍팍하다': 6748, '만렙': 6749, '신지': 6750, '안톤': 6751, '돗': 6752, '몹': 6753, '디스': 6754, '금요일': 6755, '꼬맹이': 6756, '게다': 6757, '졋': 6758, '대입': 6759, '김성철': 6760, '가소롭다': 6761, '물결': 6762, '뒤로': 6763, '노스': 6764, '주제곡': 6765, '족': 6766, '모시다': 6767, '스파이크': 6768, '빡': 6769, '해어지다': 6770, '댜': 6771, '뇨': 6772, '사가': 6773, '대칭': 6774, '절벽': 6775, '대갈': 6776, '게살': 6777, '도둑질': 6778, '마고': 6779, '로비': 6780, '히피': 6781, '요란하다': 6782, '뿌듯하다': 6783, '초록': 6784, '완료': 6785, '슬기': 6786, '갸우뚱': 6787, '어의': 6788, '빠져나가다': 6789, '본분': 6790, '다분하다': 6791, '임개': 6792, '물리학': 6793, '각본가': 6794, '사지': 6795, '폭동': 6796, '극악': 6797, '숟가락': 6798, '발바닥': 6799, '광구': 6800, '넘버원': 6801, '자연스레': 6802, '데이비드': 6803, '이빨': 6804, '어색': 6805, '뜸': 6806, '달려오다': 6807, '하찮다': 6808, '두두': 6809, '거미': 6810, '일본도': 6811, '잡음': 6812, '이나라': 6813, '일생': 6814, '반증': 6815, '엇습': 6816, '클릭': 6817, '흑역사': 6818, '결실': 6819, '생명체': 6820, '박쥐': 6821, '해달라다': 6822, '창의성': 6823, '기고': 6824, '고소하다': 6825, '우산': 6826, '에서조차': 6827, '마자': 6828, '밸런스': 6829, '앉히다': 6830, '치네다': 6831, '쏠리다': 6832, '늦': 6833, '콘서트': 6834, '임마': 6835, '유리하다': 6836, '꽃길': 6837, '렌즈': 6838, '털이범': 6839, '쥰': 6840, '알파': 6841, '치노': 6842, '몽골': 6843, '망각': 6844, '조준': 6845, '눈뽕': 6846, '륵': 6847, '어울림': 6848, '음악감독': 6849, '과감': 6850, '카피': 6851, '상감': 6852, '괴': 6853, '느므느므': 6854, '영국영화': 6855, '느': 6856, '배경인': 6857, '힐': 6858, '서양인': 6859, '듭': 6860, '오늘날': 6861, '판단력': 6862, '렷': 6863, '식스센스': 6864, '심장소리': 6865, '지껄이다': 6866, '마피아': 6867, '안치': 6868, '놨다': 6869, '얹히다': 6870, '누리다': 6871, '이상형': 6872, '시발': 6873, '영화개봉': 6874, '헬': 6875, '자스민': 6876, '맥거핀': 6877, '로간': 6878, '방대하다': 6879, '미즈': 6880, '동요': 6881, '몇십': 6882, '상대로': 6883, '조명탄': 6884, '진흙': 6885, '법적': 6886, '아가리': 6887, '만화책': 6888, '끈기': 6889, '컬러': 6890, '버닝': 6891, '정면': 6892, '고간': 6893, '소시민': 6894, '무참': 6895, '활기차다': 6896, '차차': 6897, '인스턴트': 6898, '공수도': 6899, '타이슨': 6900, '옆집': 6901, '칼빵': 6902, '만큼만': 6903, '영하': 6904, '다마': 6905, '세인': 6906, '발언': 6907, '스피커': 6908, '무의식': 6909, '홍금보': 6910, '도화선': 6911, '고안': 6912, '저지': 6913, '시가': 6914, '삶속': 6915, '증언': 6916, '주류': 6917, '원숭이': 6918, '유승호': 6919, '좀해': 6920, '찍지마라': 6921, '진술': 6922, '도합': 6923, '벼랑': 6924, '암살': 6925, '중정': 6926, '홍': 6927, '교사': 6928, '성폭행': 6929, '노블': 6930, '안젤리나': 6931, '무렵': 6932, '생선': 6933, '붉은빛': 6934, '러쉬': 6935, '소총': 6936, '베네수엘라': 6937, '네요': 6938, '기저귀': 6939, '무너': 6940, '뜻대로': 6941, '평남': 6942, '격투씬': 6943, '고찰': 6944, '흙': 6945, '라마': 6946, '이어폰': 6947, '반한': 6948, '진자': 6949, '오스카상': 6950, '타일러': 6951, '페북': 6952, '규': 6953, '걸레': 6954, '미녀': 6955, '마술사': 6956, '대처': 6957, '신물': 6958, '넘어오다': 6959, '침체': 6960, '유덕화': 6961, '햇던': 6962, '다금바리': 6963, '용하다': 6964, '앗': 6965, '전혜진': 6966, '신민아': 6967, '초인': 6968, '수능': 6969, '군상': 6970, '서러움': 6971, '증말': 6972, '게점': 6973, '아오이': 6974, '장하다': 6975, '간격': 6976, '에세이': 6977, '봄날': 6978, '시련': 6979, '전성기': 6980, '다잡다': 6981, '부라': 6982, '우기다': 6983, '수상한': 6984, '담그다': 6985, '튀김': 6986, '싸잡다': 6987, '대면': 6988, '화합': 6989, '골고루': 6990, '두서': 6991, '작성': 6992, '크기': 6993, '길어지다': 6994, '바랬던': 6995, '켄마일스': 6996, '렉스': 6997, '우여곡절': 6998, '유인': 6999, '어감': 7000, '제주도': 7001, '보물': 7002, '앞서서': 7003, '로지': 7004, '영감': 7005, '발작': 7006, '김장': 7007, '헤매다': 7008, '결과물': 7009, '클래스': 7010, '입증': 7011, '의욕': 7012, '항적': 7013, '유독': 7014, '종려': 7015, '위대': 7016, '지못미': 7017, '재일': 7018, '천년': 7019, '봣으': 7020, '쥑': 7021, '우기': 7022, '날수': 7023, '양식': 7024, '뚱뚱하다': 7025, '낮아지다': 7026, '파격': 7027, '홍위병': 7028, '갈라지다': 7029, '키키': 7030, '베테': 7031, '기점': 7032, 'ㄷㄷㄷㄷ': 7033, '잘만드': 7034, '에게만': 7035, '결백': 7036, '산뜻하다': 7037, '소릴': 7038, '흡인': 7039, '투어': 7040, '특별출연': 7041, '예수': 7042, '유유': 7043, '웃음소리': 7044, '까닭': 7045, '껀데': 7046, '사무치다': 7047, '울보': 7048, '메스껍다': 7049, '두르다': 7050, '콜린': 7051, '이야말로': 7052, '그룹': 7053, '이서진': 7054, '애교': 7055, '김지수': 7056, '주요': 7057, '영업': 7058, '원시': 7059, '천벌': 7060, '졸잼': 7061, '장애': 7062, '유심': 7063, '향후': 7064, '알탕': 7065, '거름': 7066, '둘러보다': 7067, '굵다': 7068, '동원': 7069, '예술인': 7070, '영화장르': 7071, '맞춤': 7072, '힌트': 7073, '리다': 7074, '백년': 7075, '털리다': 7076, '그릇되다': 7077, '레벨': 7078, '서치': 7079, '온건': 7080, '았음': 7081, '쩍': 7082, '시궁창': 7083, '차기': 7084, '맨인블랙': 7085, '주성치': 7086, '개웃': 7087, '짐작': 7088, '오리': 7089, '이간': 7090, '손짓': 7091, '디워': 7092, '집의': 7093, '버티고': 7094, '피시방': 7095, '대범하다': 7096, '왜안': 7097, '건네다': 7098, '땀쥐': 7099, '시대극': 7100, '팽팽': 7101, '파멸': 7102, '유추': 7103, '부풀다': 7104, '톰과제리': 7105, '존엄성': 7106, '베네딕트': 7107, '붙이': 7108, '부치다': 7109, '유토피아': 7110, '준걸': 7111, '보관': 7112, '부활': 7113, '어우': 7114, '다는데': 7115, '아야': 7116, '입금': 7117, '화비': 7118, '천장': 7119, '영웅본색': 7120, '일간': 7121, '절친': 7122, '돌아서다': 7123, '얼척': 7124, '무스': 7125, '뮤': 7126, '폴': 7127, '토마스': 7128, '앤더슨': 7129, '유툽': 7130, '뭉클': 7131, '비상': 7132, '음주': 7133, '강남': 7134, '아파트': 7135, '끝없이': 7136, '똑': 7137, '초록물고기': 7138, '흐려지다': 7139, '희생양': 7140, '고정관념': 7141, '꼽으라': 7142, '덩': 7143, '계시': 7144, '뮤직비디오': 7145, 'ㅋㄱ': 7146, '흘': 7147, '트루': 7148, '오어': 7149, '마련': 7150, '봣네': 7151, '공사': 7152, '심의': 7153, '구려': 7154, '다섯손가락': 7155, '프레': 7156, '만배': 7157, '악기': 7158, '코끝': 7159, '임펙트': 7160, '회피': 7161, '헤아리다': 7162, '바랬': 7163, '기막히다': 7164, '합격': 7165, '영구': 7166, '개밥': 7167, '어짜피': 7168, '어리둥절하다': 7169, '꿰뚫다': 7170, '소망': 7171, '랬': 7172, '보더': 7173, '에로': 7174, '오금': 7175, '청춘영화': 7176, '심취': 7177, '양상': 7178, '군중심리': 7179, '막심': 7180, '사만사': 7181, '해죽': 7182, '퀴어': 7183, '역경': 7184, '입술': 7185, '장비': 7186, '현란하다': 7187, '밀루유': 7188, '스트립': 7189, '슬래셔': 7190, '이내': 7191, '시리다': 7192, '오렌지': 7193, '슬슬': 7194, '세종': 7195, '평범': 7196, '아이큐': 7197, '되찾다': 7198, '확률': 7199, '호밀': 7200, '미쳣다': 7201, '스타트': 7202, '레이싱카': 7203, '괜시리': 7204, '츠': 7205, '니야': 7206, '순리': 7207, '화제': 7208, '장황하다': 7209, '칠하다': 7210, '부패': 7211, '문명': 7212, '기해': 7213, '노출하다': 7214, '올린다': 7215, '스탭': 7216, '이해력': 7217, '공중부양': 7218, '투샷': 7219, '동떨어지다': 7220, '성차별': 7221, '굴': 7222, '대체로': 7223, '조마조마': 7224, '유머러스하다': 7225, '꺄르르': 7226, '조그만': 7227, '적적하다': 7228, '헤': 7229, '뺑반': 7230, '인셉션': 7231, '치명': 7232, '편안함': 7233, '미달': 7234, '아차': 7235, '래미': 7236, '면모': 7237, '무차별': 7238, '인구': 7239, '넘어지다': 7240, '꺽': 7241, '진실되다': 7242, '마셈': 7243, '수집': 7244, '문제점': 7245, '적용': 7246, '피디': 7247, '환불': 7248, '라스트': 7249, '제다이': 7250, '배정남': 7251, '축소': 7252, '똥폼': 7253, '잡지': 7254, '스키': 7255, '유연하다': 7256, '소굴': 7257, '파오': 7258, '여캐': 7259, '소유자': 7260, '주부': 7261, '마이크': 7262, '크리스틴': 7263, '만듭니': 7264, '진입': 7265, '굿바이': 7266, '허상': 7267, '소린': 7268, '전화': 7269, '고연': 7270, '아려': 7271, '일대기': 7272, '직장인': 7273, '심장쫄리': 7274, '곤란': 7275, '돌림': 7276, '구속': 7277, '하염없이': 7278, 'ㅂㄷㅂㄷ': 7279, '풀기': 7280, '정해지다': 7281, '포화': 7282, '드릴': 7283, '양조위': 7284, '상품': 7285, '간호사': 7286, '타의': 7287, '한평생': 7288, '프로메테우스': 7289, '구름': 7290, '사랑과전쟁': 7291, '패턴': 7292, '밀고': 7293, '직설': 7294, '생기지': 7295, '거도': 7296, '어우르다': 7297, '수두': 7298, '삼위일체': 7299, '일말': 7300, '우수': 7301, '드림웍스': 7302, '러팔': 7303, '폰섹': 7304, '세븐': 7305, '조디악': 7306, '가만': 7307, '폐지': 7308, '자임': 7309, '번갈아': 7310, '칸나': 7311, '이영환': 7312, '열렬하다': 7313, '갸': 7314, '행크스': 7315, '밀양': 7316, '우럭': 7317, '따윈': 7318, '쿄코': 7319, '몽글몽글': 7320, '밋다': 7321, '팔자': 7322, '허리': 7323, '리얼리즘': 7324, '떡볶이': 7325, '트집': 7326, '텅빈': 7327, '간간히': 7328, '북미': 7329, '뮤비': 7330, '끌어내리다': 7331, '빌딩': 7332, '다이하드': 7333, '형언': 7334, '삼십분': 7335, '성숙': 7336, '탕탕': 7337, '앨범': 7338, '냄비': 7339, '매치': 7340, '안식처': 7341, '넹': 7342, '거르는': 7343, '난데없이': 7344, '점심': 7345, '카카오': 7346, '탈주': 7347, '아스팔트': 7348, 'ㄱㅊ': 7349, '중시': 7350, '불교': 7351, '브렌': 7352, '천성': 7353, '손나은': 7354, '역류': 7355, '유쾌': 7356, '번의': 7357, '변질': 7358, '도발': 7359, '얹다': 7360, '즉흥': 7361, '동참': 7362, '동지': 7363, '스틸컷': 7364, '찮아다': 7365, '사재기': 7366, '불사조': 7367, '철조망': 7368, '대중성': 7369, '장미': 7370, '소매': 7371, '내버리다': 7372, '참상': 7373, '차려': 7374, '거절': 7375, '후지': 7376, '옵니다': 7377, '엠': 7378, '유튜버': 7379, '원색': 7380, '누르기': 7381, '신림': 7382, '쏠쏠': 7383, '박성웅': 7384, '사로잡히다': 7385, '엄호': 7386, '진보': 7387, '하류': 7388, '후후': 7389, '배달': 7390, '소포': 7391, '정해진': 7392, '사투': 7393, '본드': 7394, '발버둥치다': 7395, '감금': 7396, '통영': 7397, '블럭버스터': 7398, '축축하다': 7399, '성기': 7400, '뽕짝': 7401, '움찔': 7402, '가문': 7403, '쫄깃쫄': 7404, '뮤지션': 7405, '면상': 7406, '펜': 7407, '잘쓰다': 7408, '농락': 7409, '제기': 7410, '저스티스': 7411, '리그': 7412, '치이다': 7413, '하향': 7414, '초고': 7415, '위성': 7416, '감시': 7417, '축산': 7418, '육식': 7419, '잘봣습니': 7420, '노랫말': 7421, '쌩뚱맞고': 7422, '결합': 7423, '프라이어': 7424, '두드리다': 7425, '쌈': 7426, '급식': 7427, '현혹': 7428, '장각': 7429, '캐치': 7430, '마녀사냥': 7431, '주샨': 7432, '꿰': 7433, '오토바이': 7434, '김강우': 7435, '홰': 7436, '쪽쪽': 7437, '백퍼': 7438, '가두다': 7439, '제니퍼': 7440, '요한': 7441, '결핍': 7442, '반항': 7443, '뜰': 7444, '적지': 7445, '도보': 7446, '폭행': 7447, '블로그': 7448, '억원': 7449, '팍팍': 7450, '수면제': 7451, '엄기영': 7452, '빌드업': 7453, '런타임': 7454, '장난감': 7455, '만으로는': 7456, '카타르': 7457, '회원': 7458, '작동': 7459, '백만불': 7460, '강박': 7461, '초보': 7462, '영화광': 7463, '매개': 7464, '원제': 7465, '비기다': 7466, '화룡': 7467, '라곤': 7468, '민주당': 7469, '초한지': 7470, '부지런하다': 7471, '착': 7472, '햄스워스': 7473, '빼박': 7474, '베드씬': 7475, '또렷하다': 7476, '조국': 7477, '지갑': 7478, '포트': 7479, '나이트': 7480, '훠': 7481, '얼씬': 7482, '고치': 7483, '바짝': 7484, '지류': 7485, '고프다': 7486, '파고': 7487, '눈시울': 7488, '구호': 7489, '전범': 7490, '아우라': 7491, '문화생활': 7492, '조여': 7493, '샬루': 7494, '마리': 7495, '낯': 7496, '댓글달다': 7497, '모니터': 7498, '조그마하다': 7499, '승자': 7500, '안재현': 7501, '발기': 7502, '금보': 7503, '휴일': 7504, '초능력': 7505, '크크': 7506, '퍼포먼스': 7507, '파치노': 7508, '다락방': 7509, 'ㅜㅠㅠㅠ': 7510, '개체': 7511, '뚱땅': 7512, '작용': 7513, '함정': 7514, '갈까말까': 7515, '비약': 7516, '정신승리': 7517, '우드': 7518, '겸손하다': 7519, '워치': 7520, '삽질': 7521, '아이유': 7522, '컨트롤': 7523, '곰': 7524, '김기덕': 7525, '팔고': 7526, '훈': 7527, '부시': 7528, '요란': 7529, '배꼽': 7530, '미션': 7531, '개요': 7532, '윤감독': 7533, '코웃음': 7534, '이리저리': 7535, '연습': 7536, '겜': 7537, '유아': 7538, '흐뭇다': 7539, '기관': 7540, '치킨': 7541, '금수': 7542, '애물': 7543, '김옥빈': 7544, '장물': 7545, '회색': 7546, '리스크': 7547, '대성': 7548, '임원': 7549, '짬': 7550, '표방': 7551, '안일하다': 7552, '무미건조하다': 7553, '먹여주다': 7554, '반올림': 7555, '지유': 7556, '우뢰매': 7557, '장벽': 7558, '적재적소': 7559, '영화평론': 7560, '턴': 7561, '급작': 7562, '공허': 7563, '제자리': 7564, '놀리다': 7565, '불공평하다': 7566, '도르가': 7567, '와코': 7568, '라든가': 7569, '사제': 7570, '소비자': 7571, '굴레': 7572, '한결같다': 7573, '고요하다': 7574, '훤히': 7575, '비도덕적': 7576, '루저': 7577, '악녀': 7578, '스님': 7579, '동일하다': 7580, '배후': 7581, 'ㄲ': 7582, '판도라': 7583, '짝퉁': 7584, '즙': 7585, '코너': 7586, '레슬리': 7587, '재물': 7588, '주차': 7589, '진영': 7590, '횡': 7591, '돌격': 7592, '팬심': 7593, '큐': 7594, '김고은': 7595, '고본': 7596, '국제': 7597, '이십': 7598, '에든': 7599, '에스터': 7600, '영화리뷰': 7601, '교본': 7602, '기독교': 7603, '마르': 7604, '구토': 7605, '매스': 7606, '껍': 7607, '찡': 7608, '부러지다': 7609, '명정': 7610, '감고': 7611, '더구나': 7612, '스팅': 7613, '마음대로': 7614, '바리': 7615, '적절': 7616, '책상': 7617, '고단': 7618, '평이하다': 7619, '겸비': 7620, '어쩌나': 7621, '루시': 7622, '행성': 7623, '직감': 7624, '더록': 7625, '덕질': 7626, '처단': 7627, '로튼': 7628, '썻': 7629, '금기': 7630, '구가': 7631, '컨데': 7632, '엄두': 7633, '불쾌': 7634, '조미료': 7635, '듯함': 7636, '살길': 7637, '해진': 7638, '연약하다': 7639, '천문대': 7640, '오니': 7641, '신영화': 7642, '왜냐면': 7643, '줜': 7644, '찍기': 7645, '빙': 7646, '니콜라스': 7647, '메탈': 7648, '총격씬': 7649, '발매': 7650, '짱짱맨': 7651, '프로필': 7652, '왕십리': 7653, '릴': 7654, 'ㅆㄹㄱ': 7655, '권력자': 7656, '서글프다': 7657, '대애': 7658, '끼어들다': 7659, '미제': 7660, '갠차다': 7661, '즘': 7662, '아이덴티티': 7663, '니콜': 7664, '꼬집다': 7665, '옛사랑': 7666, '작곡': 7667, '유한': 7668, '옥죄': 7669, '랜스': 7670, '마사지': 7671, '발끝': 7672, '힐난': 7673, '개새': 7674, '엇어': 7675, '빔': 7676, '고용': 7677, '품위': 7678, '존경심': 7679, '우화': 7680, '불과': 7681, '가물가물': 7682, '파악': 7683, '추정': 7684, '툼레이더': 7685, '순애보': 7686, '무표정': 7687, '이스트': 7688, '계략': 7689, '한탄': 7690, '펠레': 7691, '강물': 7692, '투자자': 7693, '구시대': 7694, '눈쌀': 7695, '테스트': 7696, '궁금': 7697, '명백하다': 7698, '게왜': 7699, '윤여정': 7700, '현우': 7701, '생존자': 7702, '낭패': 7703, '장난없다': 7704, '버무린': 7705, '라디오': 7706, '장난스럽다': 7707, '비급': 7708, '숙이다': 7709, '일케': 7710, '사치': 7711, '으로부터': 7712, '신자': 7713, '게속': 7714, '잠도': 7715, '에플렉': 7716, '꺄': 7717, 'ㅋㅋㅋㅋㅋㅋㅋㅋㅋㅋ': 7718, '촘촘하': 7719, '커피': 7720, '두리틀': 7721, '꼽는다': 7722, '어버버': 7723, '다분': 7724, '비웃다': 7725, '아프리카': 7726, '률': 7727, '모라': 7728, '리언': 7729, '두통': 7730, '측': 7731, '일전': 7732, '박차다': 7733, '역설': 7734, '미약': 7735, '황홀': 7736, '대형': 7737, '아가': 7738, '독일군': 7739, '전무하다': 7740, '타당': 7741, '이시영': 7742, '취해': 7743, '헿': 7744, '부문': 7745, '첩': 7746, '위장': 7747, '달아오르다': 7748, '억제': 7749, '기꺼이': 7750, '카메론': 7751, '입장료': 7752, '구마': 7753, '로튼토마토': 7754, '본방': 7755, '좇아': 7756, '쩌구': 7757, '도가니': 7758, '엄정화': 7759, '또다시': 7760, '생체': 7761, '달랑': 7762, '미인': 7763, '흐미': 7764, '성취': 7765, '목격자': 7766, '관좀': 7767, '종교인': 7768, '개밥그릇': 7769, '부엌': 7770, '중국역사': 7771, '특출나다': 7772, '얼추': 7773, '원희': 7774, '헤엄': 7775, '로부터': 7776, '협박': 7777, '불의': 7778, '요기': 7779, '법정': 7780, '파이': 7781, '숨박꼭질': 7782, '수긍': 7783, '사내': 7784, '닥치다': 7785, '장롱': 7786, '벗기다': 7787, '한남': 7788, '몸소': 7789, '연대': 7790, '버스터': 7791, '불릿': 7792, '쑤시다': 7793, '드레스': 7794, '다정하다': 7795, '음습': 7796, '일대종사': 7797, '종사': 7798, '민국': 7799, '김수환': 7800, '오로라': 7801, 'ㅜㅠㅠ': 7802, '사색': 7803, '식기': 7804, '위도': 7805, '승희': 7806, '세운': 7807, '출발': 7808, '플래쳐': 7809, '뇌피셜': 7810, '별다르다': 7811, '심연': 7812, '숙주': 7813, '한껏': 7814, '보석': 7815, '디카': 7816, '박중훈': 7817, '빈집': 7818, '바람나다': 7819, '밧다': 7820, '종점': 7821, '업무': 7822, '내한': 7823, '여도': 7824, '우애': 7825, '중력': 7826, '후원자': 7827, '대게': 7828, '생뚱맞음': 7829, '천우희': 7830, '만만': 7831, '터졌넼': 7832, '맛없다': 7833, '아서': 7834, '영진': 7835, '익살': 7836, '후쿠시': 7837, '소우': 7838, '전신': 7839, '핵폐기물': 7840, '자이로드롭': 7841, '화학물질': 7842, '러셀': 7843, '크로우': 7844, '호러영화': 7845, '설치': 7846, '분전': 7847, '장애인': 7848, '억만장자': 7849, '맘껏': 7850, '시빌': 7851, '제주': 7852, '설다': 7853, '눈꼽': 7854, '굶다': 7855, '깜': 7856, '방가': 7857, '날뻔': 7858, '눙물': 7859, '애플렉': 7860, '쪼그라들다': 7861, '밥맛': 7862, '어후': 7863, '구수하다': 7864, '된장국': 7865, '문화유산': 7866, '절때': 7867, '독자': 7868, '한껀': 7869, '고지': 7870, '순하다': 7871, '엑스맨': 7872, '개오지': 7873, '구역': 7874, '나야': 7875, '참을성': 7876, '양화': 7877, '그만두다': 7878, '제이슨': 7879, '최면': 7880, '난이': 7881, '왜점': 7882, '요만': 7883, '엽사부': 7884, '유리': 7885, '택했': 7886, '쯧쯧': 7887, '주방': 7888, '평글': 7889, '그런저런': 7890, '파가': 7891, '크롤': 7892, '대명사': 7893, '리나': 7894, '일루미나티': 7895, '순진하다': 7896, '투박': 7897, '맴돈다': 7898, '획일': 7899, '괴수': 7900, '실장': 7901, '성관계': 7902, '게시판': 7903, '휘둘': 7904, '사실관계': 7905, '흥얼거리다': 7906, '쓸리다': 7907, '공범': 7908, '살피': 7909, '회복하다': 7910, '지름길': 7911, '전단지': 7912, '미국영화': 7913, '대로의': 7914, '불발': 7915, '정신연령': 7916, '나뉘어지다': 7917, '곽경택': 7918, '무뇌': 7919, '주모': 7920, '미해병대': 7921, '썸녀': 7922, '축': 7923, '암살자': 7924, '사무라이': 7925, '썻으': 7926, '전지현': 7927, '신세대': 7928, '켜': 7929, '젤로': 7930, '악질': 7931, '불평': 7932, '감초': 7933, '유치원': 7934, '어거스트러쉬': 7935, '고재': 7936, '우동': 7937, '사리': 7938, '이로': 7939, '천운': 7940, '뒷이야기': 7941, '왼쪽': 7942, '했슴': 7943, '이견': 7944, '히스': 7945, '패스': 7946, '촉구': 7947, '그까짓': 7948, '가의': 7949, '티저': 7950, '치사량': 7951, '탄압': 7952, '자동소총': 7953, '부리면': 7954, '넷플리스': 7955, '여타': 7956, '만천원': 7957, '속성': 7958, '지엠': 7959, '오이': 7960, '옵션': 7961, '영롱하다': 7962, '차로': 7963, '난뒤': 7964, '철철': 7965, '이대': 7966, '라이트': 7967, '파란색': 7968, '김여사': 7969, '고구려': 7970, '시반': 7971, '데코': 7972, '눈망울': 7973, '아이어': 7974, '김성수': 7975, '니스': 7976, '신청': 7977, '양키': 7978, '이탈리아인': 7979, '발리': 7980, '리프': 7981, '레시': 7982, '몸짱': 7983, '매트': 7984, '연출가': 7985, '야수': 7986, '재임': 7987, '철규': 7988, '황교안': 7989, '불알': 7990, '의료': 7991, '찿': 7992, '빨래': 7993, '김주혁': 7994, '시드': 7995, '가혹하다': 7996, '착취': 7997, '나락': 7998, '휘황': 7999, '개콘': 8000, '마리옹': 8001, '꼬띠': 8002, '황금기': 8003, '흩어지다': 8004, '날아오다': 8005, '로또': 8006, '사회주의': 8007, '측정': 8008, '남창희': 8009, '휘날리다': 8010, '갈래': 8011, '강압': 8012, '모니터링': 8013, '남동생': 8014, '간과': 8015, '힌': 8016, '인터스텔라': 8017, '턱턱': 8018, '젠더': 8019, '뻑뻑': 8020, '두발': 8021, '핏빛': 8022, '서린': 8023, '임기': 8024, '양자물리학': 8025, '의료기기': 8026, '멸종': 8027, '감임': 8028, '끼리끼리': 8029, '숨쉬기': 8030, '다도': 8031, '옵': 8032, '만치': 8033, '조로': 8034, '파이팅': 8035, '태평하다': 8036, '멀어지다': 8037, '부패하다': 8038, '체계': 8039, '변명': 8040, '여겨지다': 8041, '치의': 8042, '캐비어': 8043, '부정부패': 8044, '넓히다': 8045, '각기': 8046, '영화니': 8047, '후시': 8048, '또박또박': 8049, '똘끼': 8050, '논픽션': 8051, '미르': 8052, '취': 8053, '볼일': 8054, '피폐': 8055, '하사': 8056, '오돌오돌': 8057, '돌뼈': 8058, '우우': 8059, '갈기': 8060, '조력자': 8061, '최저임금': 8062, '신중하다': 8063, '혈세': 8064, '간단명료': 8065, '부서지다': 8066, '바란': 8067, '로또번호': 8068, '소매치기': 8069, '싹트다': 8070, '팬클럽': 8071, '존멋': 8072, '여자라서': 8073, '방어': 8074, '맘에듬': 8075, '디게': 8076, '알뜰하다': 8077, '쏠때': 8078, '액기스': 8079, '원샷': 8080, '러블리': 8081, '청구': 8082, '강하늘': 8083, '프로포폴': 8084, '좌표': 8085, '어촌': 8086, '슬': 8087, '임시': 8088, '무술가': 8089, '접목': 8090, '그물': 8091, '애달프다': 8092, '리드': 8093, '부추기다': 8094, '중인': 8095, '금고': 8096, '우상': 8097, '가로막다': 8098, '존잼존잼': 8099, '쌍절곤': 8100, '개비': 8101, '소모': 8102, '오우': 8103, '영정': 8104, '성장기': 8105, '왕따': 8106, '최배': 8107, '야속하다': 8108, '쿄쿄': 8109, '엄연하다': 8110, '한때': 8111, '불장난': 8112, '해충': 8113, '염병': 8114, '쉐': 8115, '쌤': 8116, '수업': 8117, '아른아른': 8118, '앞세우다': 8119, '포퓰리즘': 8120, '이십분': 8121, '공장': 8122, '출구': 8123, '논문': 8124, '앞쪽': 8125, '눈앞': 8126, '도도하다': 8127, '가급적': 8128, '용임': 8129, '쇠': 8130, '쪼가리': 8131, '어거스트': 8132, '성당': 8133, '불만족': 8134, '수렴': 8135, '꿀꿀하다': 8136, '안습': 8137, '냅다': 8138, '말랑말랑': 8139, '유난히': 8140, '우연찮': 8141, '안구': 8142, '막눈': 8143, '아부': 8144, '값지다': 8145, '정가': 8146, '미니': 8147, '됫': 8148, 'ㅠㅅㅠ': 8149, '익숙': 8150, '심장쫄깃': 8151, '찾아다니다': 8152, '들것': 8153, '토대': 8154, '스텔라': 8155, '이정재': 8156, '마무': 8157, '참말': 8158, '썸남': 8159, '스킨십': 8160, '유령선': 8161, '특선영화': 8162, '거린': 8163, '이이': 8164, '온전': 8165, '성행위': 8166, '캡': 8167, '비인간': 8168, '슈': 8169, '왈츠': 8170, '김래원': 8171, '경호원': 8172, '년안': 8173, '들판': 8174, '적응하다': 8175, '금새': 8176, '배리': 8177, '맘충': 8178, '어린이집': 8179, '추상': 8180, '강감': 8181, '찡찡대다': 8182, '원자폭탄': 8183, '식구': 8184, '공수': 8185, '사요나라': 8186, '콜': 8187, '도덕': 8188, '유투': 8189, '개낚임': 8190, '썅': 8191, '몇장': 8192, '장애물': 8193, '듀퐁': 8194, '테플론': 8195, '테팔': 8196, '셋째': 8197, '천조국': 8198, '초청': 8199, '무늬': 8200, '물체': 8201, '사물': 8202, '이노': 8203, '오오': 8204, '흡': 8205, '감사히': 8206, '롹': 8207, 'ㅋㅋㅋㅋㅋㅋㅋㅋㅋㅋㅋ': 8208, '진짴': 8209, '양대': 8210, '산맥': 8211, '스크림': 8212, '진급': 8213, '디자이너': 8214, '학과': 8215, '겉모습': 8216, '수영장': 8217, '쓰리다': 8218, '허가윤': 8219, '심보': 8220, '핵꿀잼': 8221, '비공': 8222, '무공': 8223, '살라': 8224, '마리화나': 8225, '핵탄두': 8226, '에게의': 8227, '미련': 8228, '슬포': 8229, '윌리엄스': 8230, '부시다': 8231, '존즈': 8232, '거창하다': 8233, '울트라': 8234, '안성기': 8235, '부마': 8236, '계엄': 8237, '노무현': 8238, '배틀로얄': 8239, '시해': 8240, '손끝': 8241, '흥건': 8242, '결승선': 8243, '환전': 8244, '번화가': 8245, '싸이버': 8246, '일방': 8247, '뇌절': 8248, '모에': 8249, '째즈': 8250, '레미제라블': 8251, '오합지졸': 8252, '분잡': 8253, '볼돈': 8254, '패밀리': 8255, '싱가포르': 8256, '관광': 8257, '벌린': 8258, '발라': 8259, '괴작': 8260, '비애': 8261, '내려다보다': 8262, '심각': 8263, '멘더스': 8264, '무리하다': 8265, '엉뚱하다': 8266, '저학년': 8267, '진연희': 8268, '인디언': 8269, '입사': 8270, '인천': 8271, '껍데기': 8272, '후대': 8273, '플로': 8274, '태국': 8275, '재밋게봣다': 8276, '베리': 8277, '타파': 8278, '용훈': 8279, '동탄': 8280, '카메라맨': 8281, '브레드': 8282, '중립': 8283, '트럭': 8284, '오버액션': 8285, 'ㄷㅊ': 8286, '로건': 8287, '첸': 8288, '매직': 8289, '배웅': 8290, '휴머니즘': 8291, '유열': 8292, '음악앨범': 8293, '펄프픽션': 8294, 'ㅇㅋ': 8295, '미려': 8296, '지민': 8297, '오징어': 8298, '브리': 8299, '싸가지': 8300, '폼': 8301, '일부분': 8302, '원체': 8303, '건전하다': 8304, '보통사람': 8305, '준애': 8306, '깝툭': 8307, '하고만': 8308, '직시': 8309, '네덜란드': 8310, '앵무새': 8311, '음침하다': 8312, '차후': 8313, '근원': 8314, '답변': 8315, '도루': 8316, '의적': 8317, '그리하여': 8318, '벨런스': 8319, '호응': 8320, '그중': 8321, '사토시': 8322, '타케루': 8323, '박멸': 8324, '거진': 8325, '아닠': 8326, '류승룡': 8327, '져서': 8328, '정자': 8329, '트와이스': 8330, '부레': 8331, '인형': 8332, '윤종빈': 8333, '노미': 8334, '로펌': 8335, '폭포': 8336, '향기롭다': 8337, '주자': 8338, '신비롭다': 8339, '밀': 8340, '입국': 8341, '꿀잼임': 8342, '예비역': 8343, '지상파': 8344, '엇을': 8345, '적신': 8346, '참례': 8347, '보리': 8348, '빠따': 8349, '간구': 8350, '구먼': 8351, '로보트': 8352, '카메라감독': 8353, '한중': 8354, '이용철': 8355, '전체관람가': 8356, '시원찮다': 8357, '고치다': 8358, '박신양': 8359, '염정아': 8360, '마등': 8361, '티임': 8362, '방향성': 8363, '앓이': 8364, '힝': 8365, '이론': 8366, '피어스': 8367, '박병': 8368, '수수하다': 8369, '룸싸롱': 8370, '통째': 8371, '섭취': 8372, '메롱': 8373, '균형': 8374, '만이해': 8375, '달아나다': 8376, '세도정치': 8377, '인방': 8378, '부와': 8379, '족족': 8380, '팡팡': 8381, '졸업생': 8382, '구기다': 8383, '징집': 8384, '욕함': 8385, '개구리': 8386, '펭귄': 8387, '게인': 8388, '장터': 8389, '크러시': 8390, '기에': 8391, '몸서리': 8392, '브루스리': 8393, '상술': 8394, '테일러': 8395, '반려동물': 8396, '박해일': 8397, '난국': 8398, '희롱': 8399, '스마트': 8400, '허진호': 8401, '프리미엄': 8402, '쉬샤오둥': 8403, '튜브': 8404, '챔피언': 8405, 'ㅋㄱㅋ': 8406, '부스럼': 8407, '내뱉다': 8408, '에반게리온': 8409, '구절': 8410, '반일감정': 8411, '매탄': 8412, '태극권': 8413, '근심': 8414, '테러리스트': 8415, '세습': 8416, '몽글몽글하다': 8417, '스트릿': 8418, '부작용': 8419, '뒤틀리다': 8420, '복제': 8421, '부풀리다': 8422, '외곡': 8423, '망은': 8424, '선천': 8425, '랴': 8426, '소이': 8427, '김향기': 8428, '이역': 8429, '달이다': 8430, '절규': 8431, '후손': 8432, '만듭시': 8433, '질도': 8434, '추세': 8435, '기적처럼': 8436, '기차': 8437, '귀족': 8438, '공백': 8439, '레드룸': 8440, '하내': 8441, '태풍': 8442, '복구': 8443, '이요': 8444, '녕': 8445, '개핵': 8446, '화병': 8447, '깜빵': 8448, '응어리': 8449, '화초': 8450, '내장': 8451, '아버': 8452, '평택': 8453, '찌질': 8454, '기괴': 8455, '얼얼하다': 8456, '파이트': 8457, '몽글하다': 8458, '징징거리다': 8459, '김전일': 8460, '순진무구': 8461, '살인의추억': 8462, '능글맞다': 8463, '손절': 8464, '중국무협': 8465, '눈알': 8466, '먹이사슬': 8467, '운치': 8468, '괴리': 8469, '데시': 8470, '마야문명': 8471, '붓다': 8472, '강칠': 8473, '누지': 8474, '맨몸': 8475, '덫': 8476, '맞선': 8477, '떠가다': 8478, '재밋긴': 8479, '시원': 8480, '장산': 8481, '재생': 8482, '오죽하다': 8483, '풍요롭': 8484, '영재': 8485, '형체': 8486, '르모': 8487, '속삭임': 8488, '총탄': 8489, '합의': 8490, '드하': 8491, '고만': 8492, '적히다': 8493, '흡연': 8494, '일제': 8495, '오디오': 8496, '천억': 8497, '배상': 8498, '풀림': 8499, '개똥이': 8500, '심슨': 8501, '주윤발': 8502, '지존': 8503, '전력': 8504, '와즈다': 8505, '외전': 8506, '용병': 8507, '인조인간': 8508, '클락': 8509, '눈데': 8510, '어장': 8511, '유우': 8512, '고초': 8513, '서명': 8514, '유령': 8515, '오분': 8516, '과속': 8517, '대국민': 8518, '성질': 8519, '티모': 8520, '노멀': 8521, '박빙': 8522, '신의한수': 8523, '윽': 8524, '남사': 8525, '망토': 8526, '편의점': 8527, '동질감': 8528, '개엽겹누': 8529, '나들이': 8530, '달래': 8531, '다음주': 8532, '서막': 8533, '화들짝': 8534, '유형': 8535, '재벌': 8536, '선전': 8537, '금쪽': 8538, '콩가루': 8539, '기성': 8540, '수주고': 8541, '발랄하다': 8542, '장도': 8543, '삼박자': 8544, '계보': 8545, '양해': 8546, '년판': 8547, '벗꽃': 8548, '깡통': 8549, '티안': 8550, '호르': 8551, '수사물': 8552, '사례': 8553, '서너': 8554, '적외선': 8555, '방위': 8556, '전국': 8557, '쨩': 8558, '샤를': 8559, '테론': 8560, '켄지': 8561, '딕넘': 8562, '설리반': 8563, '루이비통': 8564, '지탱': 8565, '우습다': 8566, '모순': 8567, '불허': 8568, '찬가': 8569, '옷벗다': 8570, '춥다': 8571, '데이빗보위': 8572, '환경문제': 8573, '왜구': 8574, '장남': 8575, '무사': 8576, '령': 8577, '린치': 8578, '숨가쁘다': 8579, '두둥': 8580, '후루룩': 8581, '전기': 8582, '월스트리트': 8583, '엉터리': 8584, '셋팅': 8585, '개그맨': 8586, '남색': 8587, '로마': 8588, '지난주': 8589, '건내다': 8590, '구림': 8591, '째보': 8592, '사양': 8593, '자서': 8594, '교재': 8595, '음보': 8596, '숲속': 8597, '졸졸': 8598, '엎': 8599, '순정만화': 8600, '안내': 8601, '히트치다': 8602, '엄숙하다': 8603, '쌩뚱': 8604, '강남스타일': 8605, '영적': 8606, '불명': 8607, '중식': 8608, '광활하다': 8609, '히죽': 8610, '그랑프리': 8611, '똘똘': 8612, '마흔': 8613, '지아': 8614, '오잉': 8615, '오도': 8616, '촌극': 8617, '퇴색': 8618, '음울하다': 8619, 'ㅊㅊ': 8620, '결여': 8621, '곳일': 8622, '코앞': 8623, '내다보다': 8624, '뒷바라지': 8625, '기갑': 8626, '학창시절': 8627, '주얼': 8628, '오글오글': 8629, '바이바이': 8630, '차라': 8631, '쫄깃했음': 8632, '팡': 8633, '밥말': 8634, '윈터': 8635, '솔져': 8636, '비꼬기': 8637, '사하라': 8638, '넓어지다': 8639, '해답': 8640, '합리화': 8641, '초년': 8642, '굴리': 8643, '군사': 8644, '가바': 8645, '수출': 8646, '현상': 8647, '보복': 8648, '재탕하다': 8649, '해양': 8650, '쥰내': 8651, '물르다': 8652, '보름': 8653, '쏘우': 8654, '더봄': 8655, '귀환': 8656, '남북전쟁': 8657, '깨끗이': 8658, '어쩌려': 8659, '잎': 8660, '이치': 8661, '영화롭다': 8662, '아사': 8663, '추락': 8664, '여성인권': 8665, '정사씬': 8666, '부릉부릉': 8667, '반지의제왕': 8668, '발도': 8669, '질라': 8670, '사려': 8671, '읍니': 8672, '근사하다': 8673, '우뢰': 8674, '교도소': 8675, '쇳조각': 8676, '적의': 8677, '녜': 8678, '탁월': 8679, '오멘': 8680, '자빠지다': 8681, '불타다': 8682, '양감': 8683, '재팬': 8684, '헛소리': 8685, '쪼개다': 8686, '시나리오작가': 8687, '유망': 8688, '쯧': 8689, '퍼시픽림': 8690, '코인': 8691, '사스': 8692, '까메오': 8693, '쫄리는맛': 8694, '사유': 8695, '스쿼드': 8696, '더듬다': 8697, '저딴': 8698, '흥이': 8699, '캣츠': 8700, '설령': 8701, '화이트': 8702, '불완전하다': 8703, '헌팅': 8704, '첩보물': 8705, '사탄': 8706, '상대편': 8707, '엇다': 8708, '슬금슬금': 8709, '기둥': 8710, '해제': 8711, '진짝': 8712, '울프': 8713, '스트': 8714, '하늘나라': 8715, '이프': 8716, '만큼도': 8717, '기미': 8718, '맥빠지다': 8719, '우중충하다': 8720, '총선': 8721, '딸내미': 8722, '범위': 8723, '엇으': 8724, '못햇': 8725, '실로': 8726, '폭망작': 8727, '세이': 8728, '감속': 8729, '고로': 8730, '간담': 8731, '회귀': 8732, '무리수': 8733, '편파': 8734, '메뉴': 8735, '호기': 8736, '신세': 8737, '꾸밈': 8738, '김영민': 8739, '놨': 8740, '알바로': 8741, '부합': 8742, '아앙': 8743, '하기는': 8744, '전공': 8745, '직면': 8746, '자수': 8747, '성가': 8748, '누드': 8749, '불법체류': 8750, '조치': 8751, '선경': 8752, '지명': 8753, '성하': 8754, '파이란': 8755, '파이다': 8756, '항구': 8757, '드래곤': 8758, '사나': 8759, '헌트': 8760, '물리': 8761, '군필': 8762, '다모': 8763, '폐인': 8764, '게르': 8765, '난데없다': 8766, '창피해': 8767, '유지영': 8768, '스케줄': 8769, '유리보': 8770, '선인': 8771, '중지': 8772, '도운': 8773, '단역': 8774, '안이': 8775, '마야': 8776, '마침표': 8777, '라몬': 8778, '만우절': 8779, '장궈룽': 8780, '비보': 8781, '유지태': 8782, '답지': 8783, '공신': 8784, '토드': 8785, '헤인즈': 8786, '랜선연애': 8787, '부질없다': 8788, '개활지': 8789, '대량학살': 8790, '어진': 8791, '뿜어내다': 8792, '철도': 8793, '전염병': 8794, '네스': 8795, '한물가다': 8796, '노래방': 8797, '포에버': 8798, '돈벌': 8799, '환각': 8800, '통속': 8801, '도슨': 8802, '스킨': 8803, '두드러지다': 8804, '쓱': 8805, '훑다': 8806, '메라': 8807, '화장': 8808, '비화': 8809, '절도': 8810, '가발': 8811, '슬며시': 8812, '슬품': 8813, '화지': 8814, '워넬': 8815, '웬걸': 8816, '운남고': 8817, '호쾌': 8818, '저항': 8819, '판타스틱': 8820, '일제강점기': 8821, '임산부': 8822, '모형': 8823, '지구인': 8824, '세포': 8825, '색상': 8826, '한여름': 8827, '쑤다': 8828, '애국': 8829, '시급하다': 8830, '남일': 8831, '전문성': 8832, '이참': 8833, '만만하다': 8834, '아라곤': 8835, '마법사': 8836, '해리포터': 8837, '덕이': 8838, '기성세대': 8839, '발짝': 8840, '클리': 8841, '아지': 8842, '매가': 8843, '펭수': 8844, '불참': 8845, '강심장': 8846, '메릴': 8847, '야말로': 8848, '세련': 8849, '굴러가다': 8850, '불화': 8851, '패배': 8852, '장영': 8853, '굴종': 8854, '외교': 8855, '우스': 8856, '전술': 8857, '금발': 8858, '의존': 8859, '이어도': 8860, '마릴린맨슨': 8861, '넥플릭스': 8862, '분발': 8863, '하디': 8864, '발목': 8865, '일위': 8866, '구점': 8867, '빠져듭니': 8868, '처키': 8869, '충동': 8870, '스페인': 8871, '출현': 8872, '투표': 8873, '분노의질주': 8874, '구세주': 8875, '히치콕': 8876, 'ㅄ': 8877, '에서만큼은': 8878, '배척': 8879, '윔프': 8880, '친밀하다': 8881, '표본': 8882, '마니아': 8883, '인원': 8884, '화전': 8885, '해설': 8886, '쿵': 8887, '픽픽': 8888, '징징': 8889, '사설': 8890, '질린다': 8891, '세라': 8892, '사계': 8893, '왘': 8894, '속물': 8895, '보석같다': 8896, '지은': 8897, '티남': 8898, '우왕': 8899, '일행': 8900, '졸귀': 8901, '보가': 8902, '귀퉁이': 8903, '통신': 8904, '부러': 8905, '동동': 8906, '암만': 8907, '다케시': 8908, '무예': 8909, '히스토리': 8910, '미처': 8911, '하드코어': 8912, '험난하다': 8913, '달인': 8914, '스무': 8915, '털보': 8916, '걸왜': 8917, '졸렬하다': 8918, '아베': 8919, '또래': 8920, '넘김': 8921, '조아하다': 8922, '음반': 8923, '쟁쟁': 8924, '엄폐': 8925, '워스트': 8926, '무능력': 8927, '샤이닝': 8928, '창조': 8929, '메가폰': 8930, '학적': 8931, '차보': 8932, '폰섹스': 8933, '메우다': 8934, 'ㅇㅇㅇ': 8935, '헤븐': 8936, '갈팡질팡': 8937, '연감': 8938, '깍지': 8939, '이동진': 8940, '자유로': 8941, '창문': 8942, '저체온증': 8943, '인간중독': 8944, '유부': 8945, '적진': 8946, '동등': 8947, '아마존': 8948, '보심': 8949, '구성은': 8950, '무심코': 8951, '라기보다는': 8952, '심플': 8953, '숏': 8954, '독성': 8955, '흠뻑': 8956, '묶다': 8957, '시조': 8958, '분수': 8959, '김정민': 8960, '보탬': 8961, '기사도': 8962, '모먼트': 8963, '관계성': 8964, '아슬아슬': 8965, '당첨': 8966, '화양연화': 8967, '똑바로': 8968, '얻어맞다': 8969, '희희낙락': 8970, '베트맨': 8971, '천추': 8972, '쓰레긴': 8973, '선악': 8974, '실정': 8975, '반대편': 8976, '레이디': 8977, '버드': 8978, '트렌드': 8979, '노말': 8980, '가까워지다': 8981, '여백': 8982, '노이즈마케팅': 8983, '만이천원': 8984, '누굴까': 8985, '박영화': 8986, '컴터': 8987, '게이지': 8988, '샹': 8989, '양립': 8990, '꼴값': 8991, '쏙쏙': 8992, '묘함': 8993, '대거': 8994, '화기': 8995, '야합': 8996, '하다못해': 8997, '플라토닉러브': 8998, '소주': 8999, '표지': 9000, '다스': 9001, '헤어스타일': 9002, '엑스트라': 9003, '일자리': 9004, '스르': 9005, '지린다': 9006, '전파': 9007, '뻐근하다': 9008, '관계없이': 9009, '모범': 9010, '새해': 9011, '탕웨이': 9012, '예민하다': 9013, '오두막': 9014, '구조도': 9015, '개표': 9016, '은평': 9017, '신실하다': 9018, '보살': 9019, '진시황': 9020, '만화가': 9021, '덩달아': 9022, '공장장': 9023, '뚜': 9024, '이순신': 9025, '룡': 9026, '엣': 9027, '승전': 9028, '진진': 9029, '푸근하다': 9030, '안마': 9031, '혜택': 9032, '오스': 9033, '보이스': 9034, '떨이': 9035, '전임': 9036, '대판': 9037, '독백': 9038, '팬층': 9039, '실명': 9040, '주룩': 9041, '수법': 9042, '극명하다': 9043, '피칠갑': 9044, '침공': 9045, '엊그제': 9046, '아토': 9047, '믹': 9048, '김일성': 9049, '먹고살다': 9050, '분하다': 9051, '필자': 9052, '응팔': 9053, '먀': 9054, '이거지': 9055, '사회생활': 9056, '착용': 9057, '은우': 9058, '컨': 9059, '환희': 9060, '회상씬': 9061, '굿판': 9062, '벌겋다': 9063, '엔초페라리': 9064, '배댓': 9065, '경상도': 9066, '앉은자리': 9067, '아나킨': 9068, '경찰서': 9069, '동전': 9070, '양면': 9071, '불우하다': 9072, '상냥하다': 9073, '중이병': 9074, '득': 9075, '수녀': 9076, '스완': 9077, '박물관': 9078, '유오성': 9079, '국영': 9080, '탄핵': 9081, '동이': 9082, '저쩌': 9083, '추장': 9084, '하하호호': 9085, '광대': 9086, '질주씬': 9087, '어정쩡하다': 9088, '유일': 9089, '리플리': 9090, '해몽': 9091, '표절의혹': 9092, '원도': 9093, '하쥬': 9094, '사운드트랙': 9095, '꽂다': 9096, '변주': 9097, '상륙작전': 9098, '설마설마': 9099, '연달': 9100, '쩔쩔매다': 9101, '옴니버스': 9102, '별하나': 9103, '위엄': 9104, '전무후무': 9105, '포탄': 9106, '비범하다': 9107, '편승': 9108, '게으르다': 9109, '시바': 9110, '제혁': 9111, '타잔': 9112, '복기': 9113, '여과': 9114, '여성부': 9115, '모성': 9116, '따분함': 9117, '실마리': 9118, '원자력': 9119, '독전': 9120, '제압': 9121, '오물': 9122, '견주어': 9123, '월령': 9124, '우좀': 9125, '헬조선': 9126, '올드': 9127, '찰나': 9128, '상병': 9129, '외출': 9130, '고결하다': 9131, '굽히다': 9132, '드높다': 9133, '롯시': 9134, '허덕이다': 9135, '발기다': 9136, '하수': 9137, '토실': 9138, '살찐': 9139, '이또': 9140, '알못': 9141, 'ㄹㅔ': 9142, '실눈': 9143, '사르르': 9144, '크러쉬': 9145, '쿠릴렌코': 9146, '효율': 9147, '힘차다': 9148, '태생': 9149, '노동': 9150, '리카': 9151, '누님': 9152, '인하': 9153, '농사짓다': 9154, '고대로': 9155, '재밋슴': 9156, '로안': 9157, '뭐합': 9158, '허리우드': 9159, '유모': 9160, '중제': 9161, '으로가': 9162, '변형': 9163, '베이비': 9164, '걸어오다': 9165, '반적': 9166, '부연': 9167, '터벅': 9168, '무속신앙': 9169, '좀비랜드': 9170, '더블': 9171, '엘리베이터': 9172, '낮짝': 9173, '나른하다': 9174, '백억': 9175, '웅': 9176, '예우': 9177, '종결': 9178, '옥자': 9179, '키기': 9180, '올콧': 9181, '오아시스': 9182, '흑막': 9183, '구축': 9184, '해나': 9185, '애처롭다': 9186, '홍보팀': 9187, '원주고': 9188, '도심': 9189, '확행': 9190, '종속': 9191, '더하기': 9192, '업도': 9193, '왓더헬스': 9194, '컨디션': 9195, '마돈나': 9196, '류승범': 9197, '웨인': 9198, 'ㅗㅜㅑ': 9199, '회전목마': 9200, '왓더뻑': 9201, '코고': 9202, '무었': 9203, '정황': 9204, '주유소': 9205, '수식어': 9206, '정감': 9207, '뉴트': 9208, '쫄깃쫄깃하': 9209, '타코야끼': 9210, '똥맛': 9211, '주체성': 9212, '창백하다': 9213, '한낮': 9214, '조끼': 9215, '미해병': 9216, '사범': 9217, '해병': 9218, '이점': 9219, '쫀득함': 9220, '이뿌다': 9221, 'ㄷㄷㄷㅈ': 9222, '변': 9223, '연아': 9224, '돌고래': 9225, '전화하다': 9226, '오락가락': 9227, '로케이션': 9228, '방석': 9229, '안개': 9230, '퍼센트': 9231, '자립': 9232, '떤다': 9233, '대충대충': 9234, 'ㅜㅡㅜ': 9235, '노바': 9236, '칼부림': 9237, '전봇대': 9238, '바디': 9239, '화폐': 9240, '폭락': 9241, '슬럼': 9242, '무법천지': 9243, '테크': 9244, '이민': 9245, '소용없다': 9246, '저혈압': 9247, '적수': 9248, '소닉': 9249, '갈림': 9250, '막창': 9251, '잼슴': 9252, '멕시코': 9253, '무간': 9254, '저음': 9255, '타가': 9256, '점정': 9257, '요크': 9258, '확고하다': 9259, '낙': 9260, '캐다': 9261, '감싸다': 9262, '뚫어지다': 9263, '기진': 9264, '주접': 9265, '시큰하다': 9266, '손톱': 9267, '조디': 9268, '융합': 9269, '착오': 9270, '컨텐츠': 9271, '놀이터': 9272, '후다닥': 9273, '정물': 9274, '방치': 9275, '청자': 9276, '산화': 9277, '와일드': 9278, '타용': 9279, '나잘하다': 9280, '리비도': 9281, '시민케인': 9282, '깊숙하다': 9283, '막바지': 9284, '맵': 9285, '실행': 9286, '늠': 9287, '짤막하다': 9288, '보재': 9289, '급박하다': 9290, '이색': 9291, '빈부': 9292, '해서웨이': 9293, '저따위': 9294, '하므다': 9295, '후의': 9296, '비주류': 9297, '기껏': 9298, '정녕': 9299, '꾹': 9300, '산소': 9301, '쫄깃할': 9302, '정지': 9303, '둠칫둠칫': 9304, '지도자': 9305, '국공내전': 9306, '절개': 9307, '후예': 9308, '통닭': 9309, '일침': 9310, '포털사이트': 9311, '소음': 9312, '어눌하다': 9313, '정제': 9314, '대소': 9315, '독신': 9316, '불안정하다': 9317, '규격': 9318, '복고': 9319, '마커': 9320, '뿌시': 9321, '그었': 9322, '박보영': 9323, '반짝': 9324, '이즈': 9325, '버렷': 9326, '폭팔': 9327, '오마쥬': 9328, '짜깁다': 9329, '의거': 9330, '코브라': 9331, '유플러스': 9332, '마초': 9333, '토악질': 9334, '치매': 9335, '설사': 9336, '관여': 9337, '중소기업': 9338, '법칙': 9339, '자연재해': 9340, '다차': 9341, '일베충': 9342, '불쌍타': 9343, '삐걱': 9344, '전기영': 9345, '어영부영': 9346, '난이도': 9347, '리즈시절': 9348, '그뤠잇': 9349, '흩날리다': 9350, '포성': 9351, '정모': 9352, '물자': 9353, '일본여행': 9354, '이라크': 9355, '태규': 9356, '버프': 9357, '원서': 9358, '모시': 9359, '비단': 9360, '놓이다': 9361, '난해': 9362, '종현': 9363, '터주': 9364, '영관': 9365, '블레이드': 9366, '재단': 9367, '간이': 9368, '도라버치': 9369, '가다듬다': 9370, '연장': 9371, '과학기술': 9372, '들려주다': 9373, '헬기': 9374, '구혜선': 9375, '천만이': 9376, '개궁금': 9377, '정도껏해': 9378, '무극': 9379, '삽입곡': 9380, '머무르다': 9381, '꺾다': 9382, '냉소': 9383, '하리': 9384, '깍이다': 9385, '삭감': 9386, '자각': 9387, '코메디': 9388, '비혼': 9389, '플로우': 9390, '등산': 9391, '넼': 9392, '재밌드': 9393, '폐기물': 9394, '카를': 9395, '내레이션': 9396, '황폐': 9397, '바로바로': 9398, '쥬금': 9399, '뚱': 9400, '오구': 9401, '팼다구': 9402, '심신': 9403, '합체': 9404, '화학반응': 9405, '한씬': 9406, '시라': 9407, '볼뻔': 9408, '풀어지다': 9409, '네러티브': 9410, '골든': 9411, '히키코모리': 9412, '은둔': 9413, '강석우': 9414, '이미숙': 9415, '돌진': 9416, '완죤': 9417, '한자리': 9418, '서든어택': 9419, '고품격': 9420, '줄라': 9421, '램': 9422, '맥케이': 9423, '아됴': 9424, '전무': 9425, '곤욕': 9426, '도일': 9427, '빨강': 9428, '해양사고': 9429, '배상금': 9430, '코엑스': 9431, '반작용': 9432, '파라다이스': 9433, '젓다': 9434, '노년': 9435, '부유하다': 9436, '앨리': 9437, '잣음': 9438, '홀딱': 9439, '멕': 9440, '유정': 9441, '인호': 9442, '발롬': 9443, '아하': 9444, '꾀': 9445, '안전': 9446, '경멸': 9447, '상한': 9448, '장농속': 9449, '블럭': 9450, '민간': 9451, '김호중': 9452, '프라임': 9453, '곧잘': 9454, '조림': 9455, '롸잇': 9456, '생지옥': 9457, '보급': 9458, '안봣': 9459, '눈귀': 9460, '대끼다': 9461, '리빙': 9462, '달튼': 9463, '매료': 9464, '다락': 9465, '커뮤니티': 9466, '일체': 9467, '똥파리': 9468, '환공포증': 9469, '이왕': 9470, '우울함': 9471, '첩보': 9472, '조카': 9473, '저릿저릿하다': 9474, '에서까지': 9475, '희박하다': 9476, '쉘비': 9477, 'ㅅㄹㄱ': 9478, '헤드폰': 9479, '클라이너': 9480, '코로': 9481, '뛰어오다': 9482, '평가절하': 9483, '사이버펑크': 9484, '애환': 9485, '과장하다': 9486, '쓸모': 9487, '서브': 9488, '해롭다': 9489, '해선': 9490, '왜왜': 9491, '엑소시즘': 9492, '엑기스': 9493, '모어': 9494, '징크스': 9495, '자세': 9496, '요안': 9497, '상주': 9498, '물귀신': 9499, '직관': 9500, '의협': 9501, '오달수': 9502, '사적': 9503, '애착': 9504, '집사람': 9505, '동선': 9506, '다집': 9507, '크랭크': 9508, '달력': 9509, '수용': 9510, '무상': 9511, '배트': 9512, '발단': 9513, '난장판': 9514, '머릿': 9515, '마도카': 9516, '브라질': 9517, '처넌': 9518, '위력': 9519, '띵하다': 9520, '군사작전': 9521, '주둥이': 9522, '옥상': 9523, '방울': 9524, '밑거름': 9525, '양비론': 9526, '서인': 9527, '열기': 9528, '쪼끔': 9529, '재수': 9530, '식물': 9531, '상임': 9532, '에코': 9533, '열거': 9534, '불빛': 9535, '감방': 9536, '속박': 9537, '꾸르잼': 9538, '입가': 9539, '보장': 9540, '파묻다': 9541, '제시카': 9542, '외동딸': 9543, '일리노이': 9544, '시카고': 9545, '김진': 9546, '사촌': 9547, '서면': 9548, '까지를': 9549, '면면': 9550, '금시': 9551, '정재': 9552, '사보': 9553, '가책': 9554, '이라고도': 9555, '고참': 9556, '본보기': 9557, '밈': 9558, '무거': 9559, '숙명': 9560, '나요': 9561, '해명': 9562, '남우': 9563, '위스키': 9564, '소풍': 9565, '자유도': 9566, '재밋는건': 9567, 'ㅡㅡㅋ': 9568, '얼렁뚱땅': 9569, '평온': 9570, '지성인': 9571, '떳떳하다': 9572, '투슬': 9573, '벌판': 9574, '박동': 9575, '부제': 9576, '대일': 9577, '오웬': 9578, '두목': 9579, '광량': 9580, '보존': 9581, '슬로우모션': 9582, '재밋었어': 9583, '부쩍': 9584, '다중': 9585, '야박하다': 9586, '저절로': 9587, '오온': 9588, '실시간': 9589, '검색어': 9590, '기교': 9591, '힐러': 9592, '영양가': 9593, '갤런': 9594, '숨통': 9595, '년치': 9596, '윈도우': 9597, '민호': 9598, '어도': 9599, '만주': 9600, '쾅쾅': 9601, '수십억': 9602, '멀티': 9603, '플랙스': 9604, '이지나': 9605, '소드': 9606, '체리': 9607, '마는': 9608, '체라': 9609, '토마토': 9610, '야채': 9611, '보배': 9612, '린데': 9613, '저스티스리그': 9614, '찍어내다': 9615, '쵸': 9616, '물임': 9617, '백혈병': 9618, '빠뜨리다': 9619, '조아': 9620, '한눈': 9621, '안팔': 9622, '치도': 9623, '빙자': 9624, '농사': 9625, '매끈하다': 9626, '임순례': 9627, '화사하다': 9628, '컵': 9629, '방한': 9630, 'ㅠㅜㅜㅜ': 9631, '몰래': 9632, '매도': 9633, '단디': 9634, '안정감': 9635, '해주': 9636, '먹듯': 9637, '개코': 9638, '딘': 9639, '이데올로기': 9640, '네트워크': 9641, '친일파': 9642, '장용': 9643, '인극': 9644, '그나': 9645, '홍콩인': 9646, '혼동': 9647, '다물다': 9648, '더라도': 9649, '이장님': 9650, '쇼생크탈출': 9651, '떄문': 9652, '난감하다': 9653, '애기야': 9654, '몸둘': 9655, '얼어붙다': 9656, '엑': 9657, '릿': 9658, '아리송하다': 9659, '대남': 9660, '이승': 9661, '원피스': 9662, '통계': 9663, '날줄': 9664, '날선': 9665, '퍼펙트': 9666, '요망': 9667, '악수': 9668, '늬': 9669, 'ㅠㅠㅠㅠㅠ': 9670, '이창동': 9671, '컷트': 9672, '섬세': 9673, '행태': 9674, '가죽': 9675, '기한': 9676, '재해': 9677, '피터지다': 9678, '다다다': 9679, 'ㄱㅅ': 9680, '낚였': 9681, '보답': 9682, '솔솔': 9683, '규제': 9684, '오늘밤': 9685, '봉사': 9686, '트이다': 9687, '신발': 9688, '혼잡하다': 9689, '보증': 9690, '가닥': 9691, '번지르르하다': 9692, '지하방': 9693, '푹푹': 9694, '가로지르다': 9695, '착란': 9696, '어드벤쳐': 9697, '브래드': 9698, '대적': 9699, '초장': 9700, '뱅': 9701, '으악': 9702, 'ㅇㅇㅈ': 9703, '땔': 9704, '선녀': 9705, '어쩌다가': 9706, '럼': 9707, '평작': 9708, '얘길': 9709, '대보다': 9710, '스캔들': 9711, '의치': 9712, '어줍다': 9713, '연작': 9714, '지지자': 9715, '민족주의': 9716, '사다리': 9717, '이발': 9718, '속옷': 9719, '여섯': 9720, '한치': 9721, '욱일기': 9722, '스워드': 9723, '에프': 9724, '전보': 9725, '끄적': 9726, '놀음': 9727, '참가': 9728, '누굴': 9729, '예비': 9730, '김선아': 9731, '베이스': 9732, '아비': 9733, '열악하다': 9734, '당췌': 9735, '느끼하다': 9736, '카테고리': 9737, '댕': 9738, '역순': 9739, '페이소스': 9740, '페르소나': 9741, '다독이다': 9742, '음가': 9743, '목적지': 9744, '감상문': 9745, '버러지': 9746, '식겁하다': 9747, '무지막지': 9748, '스타트랙': 9749, '슈나이더': 9750, '신들': 9751, '딜레마': 9752, '아메리카': 9753, '싸움씬': 9754, '만족도': 9755, '살수': 9756, '소림축구': 9757, '무방비': 9758, '플래': 9759, '진일': 9760, '뒹굴': 9761, '멍텅': 9762, '규정': 9763, '용어': 9764, '울먹이다': 9765, '생신': 9766, '후벼파다': 9767, '어슬픈': 9768, '신아': 9769, '어나': 9770, '바턴': 9771, '게디': 9772, '손수': 9773, '윌리스': 9774, '황비홍': 9775, '순서대로': 9776, '음료': 9777, '이진': 9778, '닳다': 9779, '헤메': 9780, '협회': 9781, '마려워': 9782, '소사이어티': 9783, '히미코': 9784, '시피': 9785, '맨손': 9786, '휴먼': 9787, '주택': 9788, '호스': 9789, '강박장애': 9790, '체격': 9791, '오토봇': 9792, '더라면': 9793, '쓴소리': 9794, '서리': 9795, '매국노': 9796, '페이스북': 9797, '뭉': 9798, '한영': 9799, '초연': 9800, '김동욱': 9801, '중고생': 9802, '보컬': 9803, '멸망하다': 9804, '나혼자산다': 9805, '루하': 9806, '느님': 9807, '몬스터': 9808, '벌이': 9809, '피아': 9810, '면죄부': 9811, '허울': 9812, '뮤직': 9813, '가신': 9814, '나누어지다': 9815, '거액': 9816, '롱샷': 9817, '개잼': 9818, '미비': 9819, '포유': 9820, '선적': 9821, '명목': 9822, '점준애': 9823, '비견': 9824, '뿌': 9825, '외톨이': 9826, '못생겻': 9827, '정글': 9828, '키스씬': 9829, '롭빌럿': 9830, '임시완': 9831, '설경구': 9832, '우리동네': 9833, '청소부': 9834, '추앙': 9835, '큐브': 9836, '승무원': 9837, '구함': 9838, '야심': 9839, '유효하다': 9840, '달성': 9841, '비즈니스': 9842, '꿩': 9843, '글렀다': 9844, '무책임하다': 9845, '털털': 9846, '까발리다': 9847, '홍성': 9848, '배두나': 9849, '점때': 9850, '반격': 9851, '필모': 9852, '섹': 9853, '기담': 9854, '구두': 9855, '타이틀': 9856, '진쨔': 9857, '윤동주': 9858, '빠들': 9859, '에서부터': 9860, '아랫': 9861, '분말': 9862, '핵잼': 9863, '인스타': 9864, '갖힌': 9865, '가녀리다': 9866, '격차': 9867, '들뜨다': 9868, '한글': 9869, '창제': 9870, '털때': 9871, '샤인': 9872, '지불': 9873, '칙칙하다': 9874, '음색': 9875, '몸속': 9876, '소시': 9877, '장키': 9878, '일수록': 9879, '정비': 9880, '기력': 9881, '옵스': 9882, '가선': 9883, '데미무어': 9884, '단물': 9885, '다가서다': 9886, '구글': 9887, '야후': 9888, '들이키다': 9889, '재촉': 9890, '비행': 9891, '압력': 9892, '읍내': 9893, '킴역': 9894, '경배': 9895, '미래세': 9896, '우월': 9897, '해갈': 9898, '쫄렸어': 9899, '고니': 9900, '메타몽': 9901, '메타': 9902, '씨부리다': 9903, '버즈': 9904, '미러': 9905, '게릴라': 9906, '우르르': 9907, '하고라도': 9908, '보샘': 9909, '요가': 9910, '몽': 9911, '데비': 9912, '폐기': 9913, '해당': 9914, '초때': 9915, '시집': 9916, '절절이': 9917, '압니': 9918, '파렴치하다': 9919, '까지나': 9920, '밀접하다': 9921, '모호하다': 9922, '대루': 9923, '이명': 9924, '단조롭다': 9925, '신기': 9926, '너넨': 9927, '공익': 9928, '상당': 9929, '밀리터리': 9930, '민가': 9931, '궤': 9932, '땐뽀': 9933, '이집': 9934, '얘넨': 9935, '흥망': 9936, '욯': 9937, '적합하다': 9938, '간도': 9939, '지휘': 9940, '수명': 9941, '카메라워크': 9942, '덤비다': 9943, '강간': 9944, '온기': 9945, '로남불': 9946, '동남아': 9947, '골절': 9948, '강원도': 9949, '안락하다': 9950, '갑부': 9951, '따라잡다': 9952, '파일': 9953, '구해': 9954, '내용정리': 9955, '우씨': 9956, '뭉클뭉클': 9957, '나쁜사람': 9958, '원더우먼': 9959, '작작': 9960, '이상인': 9961, '나가야': 9962, '민중': 9963, '십분': 9964, '싸늘하다': 9965, '각박하다': 9966, '베스트셀러': 9967, '자아도취': 9968, '내야': 9969, '하그': 9970, '개똥망': 9971, '발판': 9972, '당혹스럽다': 9973, '과일': 9974, '보고또보고': 9975, '성지순례': 9976, '고락': 9977, '버거운': 9978, '안수': 9979, '성령': 9980, '평단': 9981, '로이스': 9982, '일후': 9983, '웠음': 9984, '현기증': 9985, '선행': 9986, '미적': 9987, '유괴': 9988, '아닐런': 9989, '무서웟음': 9990, '심박수': 9991, '점프스퀘어': 9992, '시그널': 9993, '트래블러': 9994, '캡쳐': 9995, '안전지대': 9996, '초토화': 9997, '취업': 9998, '눈높이': 9999, '엑스': 10000, '노장': 10001, '왜청불': 10002, '병기': 10003, '호주': 10004, '암담하다': 10005, '구덩이': 10006, '단짝': 10007, '베프': 10008, '병자': 10009, '만능': 10010, '톡톡': 10011, '전치': 10012, '투명하다': 10013, '자잘하다': 10014, '상자': 10015, '내비': 10016, '카톡': 10017, '방면': 10018, '다이어리': 10019, '늪': 10020, '썻다': 10021, '악랄하다': 10022, '원망하다': 10023, '렸다': 10024, '시전': 10025, '얽매이다': 10026, '진솔하다': 10027, '풍기다': 10028, '보헤미안': 10029, '랩소디': 10030, '민족성': 10031, '일본군': 10032, '합류': 10033, '유혹': 10034, '군데군데': 10035, '짬밥': 10036, '피로하다': 10037, '점왜': 10038, '버들': 10039, '고시생': 10040, '삐': 10041, '소닉붐': 10042, '미미하다': 10043, '허쉬': 10044, '몸통': 10045, '임원희': 10046, '강림': 10047, '남주': 10048, 'ㅗ': 10049, '탄산음료': 10050, '키라': 10051, '수리': 10052, '서민이': 10053, '불행': 10054, '취지': 10055, '본받다': 10056, '조던': 10057, '남자에게': 10058, '둑': 10059, '두루': 10060, '따로따로': 10061, '골로': 10062, '망인': 10063, '그따위': 10064, '뱀파이어': 10065, '외로워': 10066, '센터': 10067, '활보': 10068, '연대기': 10069, '상사': 10070, '개낚': 10071, '딴지': 10072, '하녀': 10073, '비빔밥': 10074, '유종': 10075, '그런대로': 10076, '카메론디아즈': 10077, '선글라스': 10078, '떠벌리다': 10079, '무심하다': 10080, '섹드립': 10081, '부캐': 10082, '어째': 10083, '퇴보하다': 10084, '냉철하다': 10085, '만취': 10086, '하룻밤': 10087, '편곡': 10088, '나레이션': 10089, '세태': 10090, '둘이서': 10091, '입문': 10092, '옹벽': 10093, '돌직구': 10094, '결별': 10095, '제도': 10096, '암기': 10097, '핥다': 10098, '불분명': 10099, '제사': 10100, '도면': 10101, '나왓어': 10102, '와나': 10103, '연설': 10104, '진과': 10105, '만족감': 10106, '세속': 10107, '급격하다': 10108, '우즈': 10109, '유재': 10110, '이태원': 10111, '로사': 10112, '아키라': 10113, '긴런닝타임': 10114, '아미': 10115, '음해': 10116, '스캇': 10117, '건축학개론': 10118, '폭소': 10119, '난왜': 10120, '사빠': 10121, '두뇌': 10122, '회전': 10123, '퀼': 10124, '파크': 10125, '대주': 10126, '거니': 10127, '참호전': 10128, '알라': 10129, '업데이트': 10130, '다사': 10131, '카드': 10132, '루피': 10133, '맨스': 10134, '가창력': 10135, '국회': 10136, '테이블': 10137, '북': 10138, '라임': 10139, '올블랙': 10140, '우리엄마': 10141, '간섭': 10142, '년차': 10143, '돌파': 10144, '훨신': 10145, '위화': 10146, '교': 10147, '꺼이꺼이': 10148, '잠기': 10149, '인크레더블': 10150, '느릿하다': 10151, '티끌': 10152, '이다지': 10153, '신체': 10154, '부각시키다': 10155, '진폭': 10156, '소모품': 10157, '심쿵': 10158, '버키': 10159, '애무': 10160, '현빈': 10161, '양쪽': 10162, '연출자': 10163, '동성': 10164, '겸': 10165, '또잉': 10166, '패딩': 10167, '특이': 10168, '가왜': 10169, '수확': 10170, '스프': 10171, '공략': 10172, '인조': 10173, '연희': 10174, '헉': 10175, '독일어': 10176, '탈피': 10177, '문짝': 10178, '합성': 10179, '재치': 10180, '고래고래': 10181, '강인하다': 10182, '페미니스트': 10183, '비둘기': 10184, '아른거리다': 10185, '꼽음': 10186, '에라도': 10187, '쫌더': 10188, '동경': 10189, '뿐더러': 10190, '그래비티': 10191, '지하실': 10192, '만회': 10193, '최공': 10194, '불현듯': 10195, '사관': 10196, '굽다': 10197, '스푼': 10198, '페이스': 10199, '혔': 10200, '존댓말': 10201, '미이라': 10202, '록키': 10203, '넷상': 10204, '보로': 10205, '개굿': 10206, '일렉트로닉': 10207, '조율': 10208, '필드': 10209, '추리소설': 10210, '생산': 10211, '콕콕': 10212, '들끓다': 10213, '사냥개': 10214, '꼬치꼬치': 10215, '나영': 10216, '죄수': 10217, '올인': 10218, '꼽자': 10219, '꽃처럼': 10220, '단독': 10221, '종이컵': 10222, '스노우': 10223, '타격': 10224, '풋': 10225, '처형': 10226, '블리자드': 10227, '한복': 10228, '바사': 10229, '비포': 10230, '선라이즈': 10231, '선셋': 10232, '미드나잇': 10233, '유공': 10234, '관료': 10235, '장례식': 10236, '별도': 10237, '케루': 10238, '베틀': 10239, '오뎅': 10240, '자해': 10241, '모야': 10242, '개끼': 10243, '구별': 10244, '까막눈': 10245, '정식': 10246, '죤나': 10247, '신안': 10248, 'ㅇㅈㄹ': 10249, '억양': 10250, '모차르트': 10251, '고독감': 10252, '클루니': 10253, '블록': 10254, '상품화': 10255, '시크릿가든': 10256, '세르': 10257, '영화평론가': 10258, '후려': 10259, '책임감': 10260, '에필로그': 10261, '비호': 10262, '흡사하다': 10263, '위험성': 10264, '교양': 10265, '은희': 10266, '예멘': 10267, '논점': 10268, '명징함': 10269, '잔혹': 10270, '씝': 10271, '권태': 10272, '동막골': 10273, '이개': 10274, '티셔츠': 10275, '이방인': 10276, '의식주': 10277, '킁': 10278, '멸망': 10279, '썸머': 10280, '지표': 10281, '명호': 10282, '재탄생': 10283, '반의': 10284, '밀수': 10285, '얽매': 10286, '혈투': 10287, '날뛰다': 10288, '가즈': 10289, '그레이드': 10290, '카성': 10291, '심혈': 10292, '영상통화': 10293, '붓': 10294, '쓸모없다': 10295, '수현': 10296, '항복': 10297, '창원': 10298, '알밥': 10299, 'ㅋㅋㅋㅋㅋㅋㅋ': 10300, 'ㅍ': 10301, '빠졌슴다': 10302, '버려지다': 10303, '소수만': 10304, '재밌슴': 10305, '페이몬': 10306, '바이올렛': 10307, '셐': 10308, '격식': 10309, '비웃음': 10310, '입양아': 10311, '실낱': 10312, '영문': 10313, '아버님': 10314, '만쩜': 10315, '빵터트려': 10316, '늑대소년': 10317, '올라서다': 10318, '철중': 10319, '개죽음': 10320, '방조': 10321, '학창': 10322, '비디오테잎': 10323, '동식물': 10324, '송골': 10325, '묘연하다': 10326, '토네이도': 10327, '로케': 10328, '영활': 10329, '방수': 10330, '하소연': 10331, '발명': 10332, '설립': 10333, '접기': 10334, '저열함': 10335, '위조': 10336, '롬곡옾눞': 10337, '고우리': 10338, '산적': 10339, '벼얼': 10340, '말모': 10341, '구스범스': 10342, '허수아비': 10343, '헹': 10344, '글라이더': 10345, '아픅거': 10346, '비걸': 10347, '시월드': 10348, '구리지': 10349, '마려운': 10350, '레인': 10351, '삭툭': 10352, '여론몰이': 10353, '삼고': 10354, '아케': 10355, '이정화': 10356, '숨은띵작': 10357, '말외': 10358, '배추': 10359, '촬영씬': 10360, '단백': 10361, '알짜': 10362, '낄낄': 10363, '쫌쌤': 10364, '마블리': 10365, '삼바': 10366, '타파스': 10367, '견줄': 10368, '퐉씨': 10369, '해전': 10370, '헥': 10371, '그레이': 10372, '더볼': 10373, '시어머니': 10374, '분의': 10375, '연구소': 10376, '국정': 10377, '영향력': 10378, '의약': 10379, '남북': 10380, '듬안': 10381, '뎀': 10382, '공판': 10383, '담하다': 10384, '쟁반': 10385, '집년': 10386, '머선': 10387, '색조': 10388, '꿀키': 10389, '풸풱': 10390, '막발': 10391, '센치미터': 10392, '인타임': 10393, '교활하다': 10394, '도연': 10395, '인화': 10396, '인슽하': 10397, '으헝헝': 10398, '비중좀높혔으': 10399, '중쿡': 10400, '김태리볼': 10401, '매류': 10402, '준열졸귀': 10403, '왕좌': 10404, '똑똑': 10405, '연호': 10406, '기인': 10407, '회부': 10408, '흥얼': 10409, '어기다': 10410, '이기주의': 10411, '개인주의': 10412, '스타로드': 10413, '간장': 10414, '콩': 10415, '김상진': 10416, '연합': 10417, '좌좀': 10418, '홍어': 10419, '승인': 10420, '후횔할뻔헀다': 10421, '올리버': 10422, '때내': 10423, '단언': 10424, '원룸': 10425, '텔': 10426, '화소': 10427, '귿': 10428, '둘러싸이다': 10429, '꿀잼띠': 10430, '쫓아내다': 10431, '부랄': 10432, '이엘리야': 10433, '박형식': 10434, '번하다': 10435, '옮나': 10436, '모리': 10437, '아티': 10438, '셜록': 10439, '어원': 10440, '기왕': 10441, '알포인트': 10442, '처제': 10443, '신격화': 10444, '구세대': 10445, '요런': 10446, '거동': 10447, '똘똘뭉쳐': 10448, '같이도': 10449, '관상': 10450, '더킹': 10451, '인자': 10452, '복귀': 10453, '밑그림': 10454, '피카소': 10455, '한류': 10456, '민원': 10457, '병신': 10458, '역린': 10459, '무당씬': 10460, '수춘': 10461, '부좀': 10462, '음주운전': 10463, '활활': 10464, '타네': 10465, '무섭댜나': 10466, '무명시절': 10467, '호가': 10468, '나올걱': 10469, '잡다하다': 10470, '추노': 10471, '맙': 10472, '다우': 10473, '안대': 10474, '시커멓다': 10475, '핏덩': 10476, '호의': 10477, '양분': 10478, '빨간색': 10479, '초록색': 10480, '노란색': 10481, '단색': 10482, '봣던': 10483, '말라본': 10484, '연줄': 10485, '난자': 10486, 'ㅆㄱㄴ': 10487, '성품': 10488, '글타': 10489, '일견': 10490, '대적반': 10491, '박탈': 10492, '손꾸락': 10493, '뿌러뜨리': 10494, '어처구니없다': 10495, '치트키': 10496, '산탄총': 10497, 'ㅠㅁㅠ': 10498, '여장': 10499, '두리뭉술': 10500, '점철': 10501, '지림쫄깃쫄깃': 10502, '곰곰': 10503, '벤자민': 10504, '고추': 10505, '장난꾸러기': 10506, '헬라': 10507, '쫓겨나다': 10508, '마일로': 10509, '디아즈': 10510, '가망': 10511, '중고': 10512, '내보내다': 10513, '연식': 10514, '튜닝': 10515, '할로겐': 10516, '꼭두새벽': 10517, '만행': 10518, '우쿨렐레': 10519, '들먹이다': 10520, '프리드리히': 10521, '베토벤': 10522, '소나타': 10523, '조성아': 10524, '어케알': 10525, '창고': 10526, '보다만': 10527, '님밑': 10528, '도니': 10529, '간극': 10530, '도약': 10531, '헴': 10532, '점달': 10533, '열폭': 10534, '클로즈': 10535, '퓨리': 10536, '카부키쵸': 10537, '환락가': 10538, '가처분': 10539, '중국사람': 10540, '들통': 10541, '짹니콜쓴': 10542, '뎟디': 10543, '티아': 10544, '본사': 10545, '호모포비아': 10546, '주름': 10547, '테두리': 10548, '찢기다': 10549, '정보원': 10550, '스트롱일': 10551, '전집': 10552, '태클': 10553, '걸데': 10554, '구창': 10555, '늘카': 10556, '지지다': 10557, '왜철규': 10558, '앵벌이': 10559, '존웍': 10560, '익스트': 10561, '퇴마씬': 10562, '슬으슨리시뷰슈': 10563, '라사': 10564, '혀셤': 10565, '신속하다': 10566, '시비': 10567, '범일': 10568, '금융': 10569, '슈카': 10570, '리만브라더스': 10571, '차체': 10572, '딸램': 10573, '봣다넹': 10574, '시간이동': 10575, '날것': 10576, '별일': 10577, '똥은': 10578, '조리돌림': 10579, '낙하산': 10580, '에란겔': 10581, '리방': 10582, '툰베리': 10583, 'ㅕ': 10584, '섭': 10585, '임저': 10586, '헌법': 10587, '자릿수': 10588, '라니깐': 10589, '한나라': 10590, '오하': 10591, '도주': 10592, '완국를': 10593, '면회': 10594, '외박': 10595, '구성요소': 10596, '미사여구': 10597, '일어': 10598, '암흑시대': 10599, '청문회': 10600, '어여': 10601, '울엇어': 10602, '개떡같다': 10603, '베태': 10604, '뻔햇': 10605, 'ㅜㄱ': 10606, '맹인': 10607, '갸륵해': 10608, '심벌': 10609, '페이즈': 10610, '디딤돌': 10611, '섬섬옥수': 10612, '게말': 10613, '구니': 10614, '통합': 10615, '예기': 10616, '엘리시움': 10617, '미술관': 10618, '깜박이다': 10619, '블레이드러너': 10620, '아따': 10621, '천생연분': 10622, '더줳음': 10623, '개졷': 10624, '존잼미츠호': 10625, '미츠호': 10626, '점밑': 10627, '컷년': 10628, '만듬다': 10629, '흘렷다': 10630, '쪼아주': 10631, '김남': 10632, '퓨마': 10633, '소의': 10634, '테스': 10635, '이하일': 10636, '몰상식하다': 10637, '어떗을까': 10638, '다국적': 10639, '이스': 10640, '별점왤케': 10641, '알아듣다': 10642, '갈비탕': 10643, '시술': 10644, '마랑': 10645, '열애': 10646, '헬퍼': 10647, '주진우': 10648, '김용민': 10649, '죄값': 10650, '웟단': 10651, '고마웟': 10652, '압살': 10653, '극본': 10654, '조윤숙': 10655, '우리형': 10656, '형아': 10657, '둥두둥': 10658, '취저': 10659, '투표일': 10660, '귀여니': 10661, '있나욤': 10662, '해원': 10663, '조한선': 10664, '뭍힐': 10665, '지평': 10666, '무심': 10667, '별천지': 10668, '댄스씬': 10669, '한반도': 10670, '변국': 10671, '정세': 10672, '거렷다': 10673, '연화': 10674, '대유': 10675, '전전긍긍': 10676, '고고': 10677, '마못': 10678, '럿더': 10679, '에놀': 10680, '매그니토': 10681, '외한': 10682, '루다': 10683, '뉴트로': 10684, '워드': 10685, '마라톤': 10686, '재의': 10687, '수다': 10688, '깨빡': 10689, '흔드': 10690, '가카': 10691, '진성': 10692, '견줄수': 10693, '허드슨': 10694, '부기': 10695, '어두워지다': 10696, '루쏘형제': 10697, '사플': 10698, '펌프': 10699, '초크': 10700, '초단': 10701, '헝거게임': 10702, '사다코': 10703, '빳': 10704, '시트콤': 10705, '점줄': 10706, '별난': 10707, '팽배': 10708, '풋사랑': 10709, '안식': 10710, '실회': 10711, '명량': 10712, '전기밥솥': 10713, '진저리': 10714, '장시': 10715, '농사일': 10716, '지영': 10717, '실직': 10718, '아물다': 10719, '흉터': 10720, '재밋없으': 10721, '대중문화': 10722, '피스': 10723, '글케': 10724, '천정명': 10725, '깜짞': 10726, '상쇄됨근데': 10727, '쫅': 10728, '꼬으는데': 10729, '트위스트': 10730, '꽈배기': 10731, '구하라': 10732, '한그루': 10733, '간사': 10734, '무루': 10735, '다름없다': 10736, '문과': 10737, '픠픠픺': 10738, '밤낮': 10739, '가리키다': 10740, '함장': 10741, '게리': 10742, '바스': 10743, '캐틀링': 10744, '포탑': 10745, '구인': 10746, '원조교제': 10747, '위자료': 10748, '서유기': 10749, '엎치락': 10750, '뒤치락': 10751, '어떘을까': 10752, '가사도': 10753, '다언어': 10754, '마코': 10755, '애완': 10756, '점년': 10757, '양양': 10758, '아우토반': 10759, '이계': 10760, '솓구쳤어': 10761, '몹쓸': 10762, '아스': 10763, '겄': 10764, '출산': 10765, '최대로': 10766, '어쉬운': 10767, '존속': 10768, '갈증': 10769, '좇는다': 10770, '미쳣따': 10771, '오오오오': 10772, '콩트': 10773, '강화': 10774, '위압': 10775, '재화': 10776, '마리안': 10777, '듯꼭': 10778, '아개짱낰': 10779, '어른거리다': 10780, '임박': 10781, '딜량': 10782, '중국사': 10783, '중드': 10784, '중영': 10785, '헝디엔': 10786, '곳임': 10787, '차이나다': 10788, '표던': 10789, '개티즌들': 10790, '법함': 10791, '나물': 10792, '호혜중님': 10793, '늘씬하다': 10794, '투마더스': 10795, '쩌어러': 10796, '뻘': 10797, '단식': 10798, '코빅': 10799, '부엇음': 10800, '소독제': 10801, '유별나다': 10802, '친정': 10803, '모씨': 10804, '연기대상': 10805, '길씨': 10806, '잉소리': 10807, '퉁': 10808, '드넓다': 10809, '갯뻘': 10810, '파이프': 10811, '오르간': 10812, '레이브': 10813, '카운터': 10814, '더로드': 10815, '오큘러스': 10816, '읊는': 10817, '여생': 10818, '예시': 10819, '서글퍼지다': 10820, '민규': 10821, '컬쳐': 10822, '을것': 10823, '마트': 10824, '집밥': 10825, '젛았습': 10826, '인질': 10827, 'ㅠㅠㅋ': 10828, '의시': 10829, '머징': 10830, '쫄림이': 10831, '일직선': 10832, '기관차': 10833, '재밋었': 10834, '산산': 10835, '컴퓨터게임': 10836, '모던': 10837, '페어': 10838, '재밋습니': 10839, '복원': 10840, '소공녀': 10841, '러시안룰렛': 10842, '문도': 10843, '앤드': 10844, '여름날': 10845, '콩국수': 10846, '총상': 10847, '이글': 10848, '신문': 10849, '빼박임': 10850, '엘리트': 10851, '자애': 10852, '거북': 10853, '쇼헤이': 10854, '류짓': 10855, '자구': 10856, '로맨틱영화': 10857, '난또': 10858, '샅': 10859, '세분': 10860, '지절': 10861, '니뽄': 10862, '티키딤': 10863, '레퀴엠': 10864, '파사삭': 10865, '보겄다': 10866, '울렁울렁': 10867, '신비': 10868, '언터처블': 10869, '핑크': 10870, '파스텔': 10871, '이바': 10872, '알알알': 10873, '뚝배기': 10874, '데넘': 10875, '청아': 10876, '일제사격': 10877, '수익금': 10878, '안됫': 10879, '한단': 10880, '끝낫': 10881, '악덕': 10882, '만드길': 10883, '이천희': 10884, '로드': 10885, '승혜': 10886, '목수': 10887, '푸르다': 10888, 'ㅉㅏ': 10889, '부메랑': 10890, '마찬': 10891, '기지': 10892, '스까넣음': 10893, '순복음교회': 10894, '에로영화': 10895, '칠면조': 10896, '동화책': 10897, '성경': 10898, '토데': 10899, '리플': 10900, '대견하다': 10901, '츰': 10902, '막론': 10903, '장엄하다': 10904, '애산': 10905, '하위호환': 10906, '호스텔': 10907, '씬등': 10908, '홍대': 10909, '쓰레깅': 10910, '동력': 10911, '소모전': 10912, '아르페지오': 10913, '전문직': 10914, '직종': 10915, '자상하다': 10916, '집집': 10917, '자화': 10918, '이스라엘': 10919, '앓다': 10920, '한국팬': 10921, '다윗': 10922, '비열한거리': 10923, '플럭스': 10924, '쉰': 10925, '추척': 10926, '초상': 10927, '스즈미': 10928, '하루히': 10929, '소실': 10930, '쥴': 10931, '불신': 10932, '른다': 10933, '공로상': 10934, '불리': 10935, '윈': 10936, '커튼': 10937, '내부고발자': 10938, '담결': 10939, '러셔': 10940, '쉬는시간': 10941, '똭똭': 10942, '유산': 10943, '검은색': 10944, '따따': 10945, '저니': 10946, '조교': 10947, '푸릇푸릇함': 10948, '처람': 10949, '물방울': 10950, '이사': 10951, '거왜': 10952, '건성': 10953, '뛰놀다': 10954, '의무감': 10955, '월등하다': 10956, '비도': 10957, '와이파이': 10958, '운동화': 10959, '토피': 10960, '양성애자': 10961, '일일이': 10962, '앞문': 10963, '뒷문': 10964, '중때': 10965, '표주': 10966, '카니발': 10967, '입시': 10968, '수도권': 10969, '행정': 10970, '진학': 10971, '취미': 10972, '민공': 10973, '관광지': 10974, '휴양': 10975, '놀림': 10976, '돠': 10977, 'ㅍㅋㅋㅋ': 10978, '열도': 10979, '청정': 10980, '방뇨': 10981, '연재': 10982, '계산기': 10983, '용해': 10984, '기타등등': 10985, '탐지': 10986, '닦달': 10987, '란드': 10988, '핑거스냅': 10989, '목인장': 10990, '가르마': 10991, '공중': 10992, '이임': 10993, '술작': 10994, '얼핏보': 10995, '니아': 10996, '다식': 10997, '캡숑': 10998, '포드자동차': 10999, '관계도': 11000, '필적': 11001, '수미': 11002, '우뚝': 11003, '풋풋': 11004, '통금': 11005, '환원': 11006, '철수': 11007, '탈북자': 11008, '북송': 11009, '열씨': 11010, '넷플오': 11011, 'ㅠㅍㅍ': 11012, '기아': 11013, '출전': 11014, '환호': 11015, '볼륨': 11016, '통화': 11017, '떡락해': 11018, '골목': 11019, '겁내': 11020, '예비군': 11021, '쩌리': 11022, '글렀': 11023, '조대': 11024, '메드': 11025, '세카이계': 11026, '상경': 11027, '실제식': 11028, '강한사': 11029, '람': 11030, '회로': 11031, '혁신': 11032, '픽사': 11033, '껏습니': 11034, '쩡': 11035, '뤽베송': 11036, '니키타': 11037, '살해': 11038, '휴고': 11039, '민하': 11040, '쇼꼭': 11041, '혼술': 11042, '박통': 11043, '가병': 11044, '노비': 11045, '도리어': 11046, '조재현': 11047, '서바이벌': 11048, '냉정': 11049, '정사': 11050, '나타': 11051, '짓눌리다': 11052, '좔좔': 11053, '얙션만있': 11054, '서우린': 11055, '걍중국몽': 11056, '교전': 11057, '컨디뉴': 11058, '러비': 11059, '왓치맨': 11060, '광란': 11061, '활주': 11062, '가점': 11063, '빈곤하다': 11064, '웹소설': 11065, '눈꼽만치': 11066, '버릇': 11067, '도용': 11068, '불치': 11069, '논현': 11070, '유재석': 11071, '런닝맨': 11072, '머뭇거리다': 11073, '재인': 11074, '오아아': 11075, '차카': 11076, '공학': 11077, '재료공학': 11078, '해양공학': 11079, '컴퓨터공학': 11080, '공론': 11081, '쏜다': 11082, '대준': 11083, '으르렁': 11084, '안내면': 11085, '눈웃음': 11086, '나프탈렌': 11087, '미역': 11088, '카나': 11089, '목구녕': 11090, '거르기': 11091, '떡칠힌': 11092, '느므': 11093, '음식물': 11094, '기념일': 11095, '젓가락': 11096, '찰스': 11097, '맨슨': 11098, '샤론': 11099, '데이즈': 11100, '히치하이커': 11101, '마왕': 11102, '이리샤': 11103, '부쉈다': 11104, '스며듬': 11105, '수천수만': 11106, '텄다': 11107, '조기교육': 11108, '유기물질': 11109, '순전하다': 11110, '머임': 11111, '윤리학': 11112, 'ㄱㅓ': 11113, '만무하다': 11114, '잘해야': 11115, '뺨침': 11116, '베를린': 11117, '음질': 11118, '는커녕': 11119, '쫄깃쫄깃해딤': 11120, '영악': 11121, '망삘나': 11122, '도자기': 11123, '대담하다': 11124, '으스대': 11125, '네이팜탄': 11126, '고릴라': 11127, '셀': 11128, '도마뱀': 11129, '사무엘': 11130, '잭슨': 11131, '놀래기': 11132, '반추': 11133, '젤위': 11134, '캐나다': 11135, '크나크다': 11136, '눈꽃': 11137, '찌릿찌릿하다': 11138, '쭈꾸미': 11139, '핀처표': 11140, '나짱': 11141, '웅캬캬뾰': 11142, '미쳣당': 11143, '최적': 11144, '이청준': 11145, '싸이다': 11146, '서은': 11147, '박일': 11148, '논스톱': 11149, '중화민국': 11150, '국민당': 11151, '인트로': 11152, '쿼드로': 11153, '암스테르담': 11154, '존엄사': 11155, '결판': 11156, '셀린느': 11157, '어사': 11158, '통솔': 11159, '준치': 11160, '줸': 11161, '종식': 11162, '일구다': 11163, '읺': 11164, '불패': 11165, '대차다': 11166, '가상현실': 11167, '격세지감': 11168, '수학': 11169, '아뭏튼': 11170, '부도수표': 11171, '콜맨': 11172, '블루베리': 11173, '나왓음': 11174, '악심': 11175, '퍼뜨리것': 11176, '구상': 11177, '유포': 11178, '진원': 11179, '질량': 11180, '조동아리': 11181, '외과': 11182, '모큐멘터리': 11183, '황태자': 11184, '약혼녀': 11185, '한소리': 11186, '광대버섯': 11187, '로미오': 11188, '줄리엣': 11189, '프리지아': 11190, '어쩌란거': 11191, '왕실': 11192, '난잼': 11193, '헤드샷': 11194, '총포': 11195, '삿다': 11196, '왓능': 11197, '용한': 11198, '김구라': 11199, '이명박': 11200, '볼빠': 11201, '케슬린': 11202, '케네디': 11203, '애정도': 11204, '외적인': 11205, '창조경제': 11206, '방화': 11207, '변호': 11208, '물줄기': 11209, '곡성군': 11210, '군민': 11211, '오늘이': 11212, '발리우드': 11213, '랔': 11214, '유지됨': 11215, '말똥말똥': 11216, '심은하': 11217, '개불': 11218, '다지': 11219, '스톰': 11220, '트루퍼': 11221, '콜릴파렐': 11222, '햇으': 11223, '코치': 11224, '징기스': 11225, '정복기': 11226, '하씨': 11227, '없음왜케': 11228, '자유의지': 11229, '시언': 11230, '담보': 11231, '넹개띵': 11232, '낑기다': 11233, '눙': 11234, '담벼락': 11235, '몽둥이': 11236, '자루': 11237, '참내': 11238, '전등': 11239, '너췌좋': 11240, '금년': 11241, '또르': 11242, '씬시티': 11243, '창의력': 11244, '픽': 11245, '윤정': 11246, '일미': 11247, '미완성': 11248, '상욕': 11249, '오무라이스': 11250, '샊이': 11251, '샊일까': 11252, '상충': 11253, '해피앤딩': 11254, '심난하다': 11255, '나이라': 11256, '석권': 11257, '피톤': 11258, '치트': 11259, '황룡': 11260, '이기대': 11261, '리딩': 11262, '현시': 11263, '봄맞이': 11264, '잼있슴': 11265, '강가': 11266, '무보수': 11267, '사마': 11268, '룬': 11269, '확연': 11270, '어리둥절': 11271, '부적절하다': 11272, '샤말란': 11273, '강박증': 11274, '해프닝': 11275, '애프터어스': 11276, '블라블라': 11277, '단맛': 11278, '밥알': 11279, '애송': 11280, '보냽니': 11281, '시티': 11282, '걱': 11283, '웬수': 11284, 'ㅠㅈ': 11285, '가뜩이나': 11286, '말종': 11287, '신하': 11288, '왕릉': 11289, '선왕': 11290, '조상': 11291, '김독': 11292, '안티팬': 11293, '휩싸이다': 11294, '라파스': 11295, '빈도': 11296, '부담스럽다': 11297, '나사': 11298, '윀': 11299, '용가리': 11300, '광녀': 11301, '보류': 11302, '답시고': 11303, '위태': 11304, '똥꾸': 11305, '따다닥': 11306, '왈': 11307, '멍멍하다': 11308, '따리': 11309, 'ㅠㅜㅠㅠ': 11310, '신라': 11311, '랄랄라': 11312, '랄라': 11313, '말걸때': 11314, '숙지': 11315, '경치': 11316, '피빨': 11317, '지연': 11318, '덩이': 11319, '색소폰': 11320, '확실': 11321, '복도씬': 11322, '영홥니': 11323, '기질': 11324, '판하': 11325, '분회차': 11326, '나불': 11327, '어셔': 11328, '고두심': 11329, '모럴헤저드': 11330, '꼽아': 11331, '평내': 11332, '자족': 11333, '영자': 11334, '만경': 11335, '질럿': 11336, '띄우기': 11337, '기울어지다': 11338, '운동장': 11339, '할당': 11340, '압권임': 11341, '어울': 11342, '흐믓': 11343, '공공': 11344, '못마땅하다': 11345, '부비': 11346, '일개': 11347, '자알': 11348, '도대사': 11349, '무정부상태': 11350, '파랑': 11351, '어지껏': 11352, '꿀밤': 11353, '캣는데': 11354, '섹슈얼': 11355, '오역': 11356, '남상미': 11357, '투시': 11358, '아디다스': 11359, '우승자': 11360, '엔쵸': 11361, '협곡': 11362, '와드': 11363, '항아': 11364, '방망이': 11365, '출하': 11366, '원일': 11367, '뿜는': 11368, '반석': 11369, '팟케스트': 11370, '뱔루': 11371, '저명하다': 11372, '촌닭': 11373, '우주해적': 11374, '식인': 11375, '썰렁하다': 11376, '유전병': 11377, '쪼인트': 11378, '따귀': 11379, 'ㅋㅇ': 11380, '내쫓다': 11381, '바람결': 11382, '생으로': 11383, '무지개다리': 11384, '몽땅': 11385, '아타': 11386, '불량하다': 11387, '노조': 11388, '데모': 11389, '뭍힌다는': 11390, '오차': 11391, '조울증': 11392, '몬다': 11393, '녹취본': 11394, '콜레라': 11395, '있넹': 11396, '느닷없다': 11397, '별안간': 11398, '격정': 11399, '해일': 11400, '말소리': 11401, '심근경색': 11402, '김유림': 11403, '뇌임': 11404, '등장씬': 11405, '거점': 11406, '제밌다': 11407, '껐네욬': 11408, '쫄렸다간': 11409, '나아': 11410, '전기톱': 11411, '죙일': 11412, '놏': 11413, '서커스': 11414, '제본': 11415, '쇼박스': 11416, '레파토리': 11417, 'ㅠㅠㅋㅋㅋㅋ': 11418, '수어': 11419, '몽글': 11420, '공박': 11421, '목록': 11422, '뜰때': 11423, '거볼때': 11424, '사공': 11425, '스테인레스': 11426, '연기면': 11427, '쫄리는듯': 11428, '쨔스': 11429, '씨팔': 11430, '널린': 11431, '맹수': 11432, '포식자': 11433, '냇': 11434, '국민학교': 11435, '남부럽다': 11436, '구질구질하다': 11437, '엠비씨': 11438, '방학': 11439, '혹독하다': 11440, '극동': 11441, '천문학': 11442, '접촉': 11443, '팅팅': 11444, '느까': 11445, '넘겻을텐데': 11446, '디다': 11447, '충븐히': 11448, '정치계': 11449, '중력장': 11450, '상모': 11451, '씯어주': 11452, '속출': 11453, '바람소리': 11454, '볼때집': 11455, '볼때재': 11456, '저릿하다': 11457, '미친드': 11458, '로즈마리': 11459, '드라이버': 11460, '명실': 11461, '발산': 11462, '옄': 11463, '본기': 11464, '띄엄띄엄별': 11465, '증명끝': 11466, '의정부': 11467, '그루': 11468, '지터': 11469, '닝': 11470, '휠씬': 11471, '쫄깃했다': 11472, '들어맞다': 11473, '심심이': 11474, '젤루': 11475, '노출씬': 11476, '아수라도': 11477, '영화앤딩': 11478, '대체롭': 11479, '개답듭': 11480, '왜봣는': 11481, '도끼': 11482, '성폭력': 11483, '옹기종기': 11484, '피에타': 11485, '독립운동': 11486, '순응': 11487, '개학': 11488, '바꿔치다': 11489, '만추': 11490, '곽부성': 11491, '방탄소년단': 11492, '해물': 11493, 'ㅎㄷㄷㄷ': 11494, '깻다': 11495, '가림': 11496, '봄꿈': 11497, '하호': 11498, '쇠약': 11499, '기상': 11500, '타지': 11501, '존윅같': 11502, '잘봤슴돠': 11503, '수배': 11504, '왜턴거': 11505, '레버넌트': 11506, '저건': 11507, '이었음': 11508, '원화': 11509, '달치': 11510, '일환': 11511, '살인범이다': 11512, '런데': 11513, '당혹하다': 11514, '물풍선': 11515, '지정': 11516, '더쫄리': 11517, '고퀄리티곸': 11518, '우에노': 11519, '주리': 11520, '기천': 11521, '하류인생': 11522, '조센징': 11523, '펄펄': 11524, '철민': 11525, '난제': 11526, '공자': 11527, '루한': 11528, '고영': 11529, '합심': 11530, '맘졸': 11531, '사용설명서': 11532, '엄습': 11533, '켓츠': 11534, '오페라': 11535, '뱜': 11536, '슽템': 11537, '두개골': 11538, '카메': 11539, '구지': 11540, '데스티네이션': 11541, '나무아미타불': 11542, '관세음보살': 11543, '로란': 11544, '독침': 11545, '초아': 11546, '루지': 11547, '찢어졋다': 11548, '파커': 11549, '자율': 11550, '다툼': 11551, 'ㄹㅈㄷ': 11552, 'ㅋㅋㄱㅜ': 11553, '재메': 11554, '저서': 11555, '토스': 11556, '머케': 11557, '장금': 11558, '오색': 11559, '백설기': 11560, '도시락': 11561, '띵짝임': 11562, '융화': 11563, '임도': 11564, '남분': 11565, '음극': 11566, '골빈': 11567, '영등위': 11568, '봄폰': 11569, '드레드': 11570, '건재': 11571, '영화배급사': 11572, '순직': 11573, '장병': 11574, '연평도': 11575, '거룩하다': 11576, '휘감다': 11577, '깐느영화제': 11578, '퍼시픽': 11579, '차이점': 11580, '앞당겨지다': 11581, '변속': 11582, '엑셀': 11583, '여학생': 11584, '최연희': 11585, '은위볼': 11586, '거두': 11587, '속보': 11588, '재밋게잘봣습니': 11589, '힌심': 11590, '콕': 11591, '업업': 11592, '요드': 11593, '직격탄': 11594, '이인': 11595, '감지': 11596, '환상특급': 11597, '몰랏는데': 11598, '앰브런스': 11599, 'ㅂㅏㄹ': 11600, '영접': 11601, '툴리역': 11602, '속담': 11603, '하마터면': 11604, '완존꿀잼': 11605, '쌍곡선': 11606, '극심하다': 11607, '패딩입고봐': 11608, '글렘락': 11609, '욍화': 11610, '개월뒤': 11611, '꼴깞들': 11612, '꼬았으': 11613, '엽서': 11614, '레이싱게임': 11615, '과찬': 11616, '눌린': 11617, '자빠빈건': 11618, '호갱짓': 11619, '시켯으': 11620, '쇄골': 11621, '최전선': 11622, '문채원': 11623, '수줍다': 11624, '짜장면': 11625, '천원': 11626, '띨빵하': 11627, '다발': 11628, '메이플스토리': 11629, '말끔': 11630, '단무지': 11631, '후라이드': 11632, '임씨': 11633, '뭍혀': 11634, '솔져스': 11635, '디렉팅': 11636, '산성': 11637, '하겐': 11638, '플래시백': 11639, '겨누': 11640, '반짝반짝하다': 11641, '냇물': 11642, '돗자리': 11643, '도란도란': 11644, '적당': 11645, '세용': 11646, '방자하다': 11647, '무한리필': 11648, '봣단': 11649, '신기다': 11650, '레이디가가': 11651, '사둘껄': 11652, '하지맙시': 11653, '짜릿': 11654, '듯잼': 11655, '으응': 11656, 'ㅇㄱ': 11657, '썸뜩': 11658, '닥달할': 11659, '아이돌스타': 11660, '쿨타임': 11661, '돌때': 11662, '세금': 11663, '삥땅': 11664, '생뚱맞다': 11665, '메트로': 11666, '였슴': 11667, '통함': 11668, '생뚱맞았': 11669, '세이지': 11670, '주루룩': 11671, '통역': 11672, '열두': 11673, '비니': 11674, '수아': 11675, '빅맥': 11676, '좋아욤': 11677, '우어': 11678, '욘': 11679, '싸매다': 11680, '린아': 11681, '건덕': 11682, '개조': 11683, '기념비': 11684, '그제야': 11685, '보이드': 11686, '이러니까': 11687, '소마도': 11688, '순례': 11689, '후뢰할뻠': 11690, '데이팅': 11691, '드레곤볼': 11692, '글쿠': 11693, '스타크레프트': 11694, '테란': 11695, 'ㅋㅋㅎ': 11696, '재밌넜음': 11697, '시멘트': 11698, '원료': 11699, '삔': 11700, '란걸': 11701, '개싸움': 11702, '련들': 11703, '야오': 11704, '중경삼림': 11705, '만용': 11706, '관철': 11707, '돈아까웟던': 11708, '화거': 11709, '광신': 11710, '떔': 11711, '김제동': 11712, '진중권': 11713, '거참': 11714, '켄타': 11715, '싱스트': 11716, '맘마': 11717, '셰프': 11718, '취준생': 11719, '다비': 11720, '아멜리아': 11721, '쉬리': 11722, '각하': 11723, '폄훼': 11724, '대반': 11725, '흡족': 11726, '절용': 11727, '벙째': 11728, '귯굿': 11729, '연초': 11730, '기뷴': 11731, '아자': 11732, '소방관': 11733, '울음소리': 11734, '매너리즘': 11735, '부옇다': 11736, '재밋겠거': 11737, '확진': 11738, '판정': 11739, '식빵': 11740, '골다': 11741, '소하': 11742, '자서전': 11743, '용납': 11744, '박혜수': 11745, '제국': 11746, '역습': 11747, '파렐': 11748, '눅눅하다': 11749, '풋내기': 11750, '바른': 11751, '해경': 11752, '행적': 11753, '일동': 11754, '헤르페스': 11755, '생도': 11756, '그리스': 11757, '로마신화': 11758, '기로': 11759, '송하윤': 11760, '거덜날': 11761, '프라이버시': 11762, '성형': 11763, '톡특': 11764, '자문': 11765, '경솔하다': 11766, '템포': 11767, '차디차다': 11768, '물속': 11769, '바깥': 11770, '자의식': 11771, '어찌어찌': 11772, '징용': 11773, '남미': 11774, '상쇄하': 11775, '프랑수아': 11776, '더킨': 11777, '손승완': 11778, '왕오': 11779, '수혜자': 11780, '찿아가': 11781, '쥰내잘하누': 11782, '컨테이전': 11783, '영화배급': 11784, 'ㅡㅡㅡㅡ': 11785, '경례': 11786, '뷰티풀': 11787, '새뀌': 11788, '고르이다': 11789, '미장': 11790, '셴': 11791, '컵라면': 11792, '화려': 11793, '징짜루': 11794, '펀': 11795, '분개': 11796, '도개': 11797, '난슈발': 11798, '롤러더비': 11799, '호머': 11800, '일리아드': 11801, '전쟁사': 11802, '빠일것': 11803, '꿋꿋하다': 11804, '말임': 11805, '백병': 11806, '문외한': 11807, '쏙쏙빼박': 11808, '추출': 11809, '텐텐': 11810, '텐': 11811, '브라보': 11812, '사카모토': 11813, '로렌': 11814, '퀸스': 11815, '바인': 11816, '악도': 11817, '사이사이': 11818, '감자칩': 11819, '미띤': 11820, '탈탈': 11821, '육중': 11822, '왜냐하면': 11823, '고제': 11824, '현대차': 11825, '뭉치': 11826, '어나더': 11827, '속닥거리다': 11828, '죽엇을': 11829, '흘렷어': 11830, '뭣같다': 11831, '곸': 11832, '꿀잼작': 11833, '반값': 11834, '산란': 11835, '이콘': 11836, '가첨': 11837, '순회': 11838, '쇼생': 11839, '부르짖다': 11840, '덩케르트': 11841, '어직': 11842, '고위': 11843, '봤슈': 11844, '개쩔': 11845, '개폭망': 11846, '카프': 11847, '이벤트': 11848, '샘닐': 11849, '지하공간': 11850, '만두': 11851, '플래쉬몹': 11852, '얼럿': 11853, '댕기': 11854, '새우다': 11855, '봉화': 11856, '가보리': 11857, '피노키오': 11858, '배팅': 11859, '시나': 11860, '헤어지자': 11861, '슬럼프': 11862, '업체': 11863, '차이나': 11864, '뭐시': 11865, '식초': 11866, '말끔히': 11867, '집편임': 11868, '카시노': 11869, '소박': 11870, '폐닭': 11871, '평끌': 11872, '봤엄': 11873, '온대': 11874, '낙오': 11875, '번봣': 11876, '핫바': 11877, '뻗다': 11878, '잔단': 11879, '롤랜드': 11880, '있슴': 11881, '전능': 11882, '거사': 11883, '가오': 11884, '역학': 11885, '수갑': 11886, '칙스': 11887, '잠입': 11888, '멜로드라마': 11889, '낚임그림': 11890, '용모': 11891, '피형': 11892, '극기': 11893, '야구공': 11894, '장만': 11895, '고심': 11896, '코로나바이러스': 11897, '주일': 11898, '게스트': 11899, '아리까리하다': 11900, '장년': 11901, '침하': 11902, '연애경험': 11903, '난관': 11904, '거치': 11905, '풀밭': 11906, '드리우다': 11907, '전계': 11908, '느러짐': 11909, '퍼스': 11910, '옼': 11911, '보이시': 11912, '바람둥이': 11913, '반함': 11914, '대학로': 11915, '덤벼': 11916, '심볼': 11917, '조세핀': 11918, '월계수': 11919, '저변': 11920, '유신정권': 11921, '집회': 11922, '샤덴프로이데': 11923, '도취': 11924, '두둔': 11925, '깜빡이다': 11926, '우연이': 11927, '트렌스포머': 11928, '혼쭐났': 11929, '집어치우다': 11930, '주먹질': 11931, '목포': 11932, '사롸있': 11933, '왁자지껄하다': 11934, '발함': 11935, '장재': 11936, '굽신굽신': 11937, '료헤이들': 11938, '검술': 11939, '액숀': 11940, '이라기보다는': 11941, '강백호': 11942, '어버이날': 11943, '예능': 11944, '목차': 11945, '잠잣다': 11946, '띵작입니': 11947, '단서': 11948, 'ㅅㅇ': 11949, '지뢰': 11950, '국뽕처': 11951, '가슴앓이': 11952, '스미싱': 11953, '이메일': 11954, '생난리': 11955, '치인': 11956, '외장하드': 11957, '로켓': 11958, '한결같이': 11959, '부릅뜨다': 11960, '마츠다': 11961, '프리': 11962, '즌': 11963, '빅뱅이론': 11964, '이행': 11965, '이기세': 11966, 'ㄱㄱㄱㄱ': 11967, '한일관계': 11968, '매너': 11969, '매그놀리아': 11970, '로룬': 11971, '혼모': 11972, '감소': 11973, '실례': 11974, '식음': 11975, 'ㅆㅑㅇㄴ': 11976, '약육강식': 11977, '풍토': 11978, '렸던': 11979, '구욷': 11980, '뎃글알바': 11981, '건젔을지': 11982, '창시자': 11983, '용의자': 11984, '애먼': 11985, '기강': 11986, '말금': 11987, '유람': 11988, '윤승아': 11989, '워크래프트': 11990, '철처': 11991, '일몰': 11992, '철선': 11993, '애꾸눈': 11994, '카더라': 11995, '다룸': 11996, '실마': 11997, '보다잠듬': 11998, '비만': 11999, '재야': 12000, '사회학': 12001, '심리치료': 12002, '아카데미상': 12003, '꼬시': 12004, '외제차': 12005, '되돌아가다': 12006, '황석희': 12007, '나용': 12008, '미쉘': 12009, '제스': 12010, '고화질': 12011, '친한친구': 12012, '모델': 12013, '소원': 12014, '거스른다': 12015, '하람': 12016, '고동색': 12017, '훗전': 12018, '지형': 12019, '풀타임': 12020, '띠용': 12021, '접점': 12022, '연가': 12023, '망신': 12024, '토박이': 12025, '대구시': 12026, '수성구': 12027, '수성': 12028, '인근': 12029, '퓨티드': 12030, '파크라이': 12031, '갖': 12032, '메르': 12033, '헨': 12034, '펑': 12035, '우마': 12036, '번쨰': 12037, '선보이다': 12038, '본의': 12039, '교미': 12040, '셜리': 12041, '방부제': 12042, '입가심': 12043, '처음봣': 12044, '범범': 12045, '에피': 12046, '여대생': 12047, '이연희': 12048, '네이비씰': 12049, '레인저': 12050, '절감': 12051, '대원': 12052, '일등': 12053, '채팅': 12054, '타오': 12055, '수놈': 12056, '뺑코': 12057, '쫄구': 12058, '본부': 12059, '스탑': 12060, '빨게': 12061, '피나': 12062, '설램': 12063, '엘레': 12064, '근다': 12065, '이배': 12066, '인민': 12067, '쉽사리': 12068, '목청': 12069, '유시': 12070, '스타뎀': 12071, '연개': 12072, '조신': 12073, '헤에': 12074, '용무': 12075, '좊았': 12076, '꼽을라': 12077, '댭답할': 12078, '동탄신도시': 12079, '김병준': 12080, '견주어봐': 12081, '김정은': 12082, '발딱': 12083, '스게': 12084, '꼽을수': 12085, '간주': 12086, '송구': 12087, '수천': 12088, '판결': 12089, '증세': 12090, '일부일': 12091, '점더': 12092, '이자벨': 12093, '이돈': 12094, '훨낫다': 12095, '민좆': 12096, '가전체': 12097, '듀엣': 12098, '개욕': 12099, '까마귀': 12100, '메이크업': 12101, '재밋을뻔': 12102, '촘촘': 12103, '철폐': 12104, '타도': 12105, '리액션': 12106, '명색': 12107, '상어': 12108, '정밀': 12109, '괴리감없': 12110, '속절없다': 12111, '단념하다': 12112, '소감': 12113, '사법고시': 12114, '오이디푸스': 12115, '뷔페': 12116, '대자': 12117, '점초': 12118, '백만장자': 12119, '꿈결': 12120, 'ㄷㅐ': 12121, '요미': 12122, '잠언': 12123, '미쳤슴': 12124, '성실': 12125, '기릴수': 12126, '리폼': 12127, '무뚝뚝하다': 12128, '나긋하다': 12129, '짐강추': 12130, '외삼촌': 12131, '랬음': 12132, '가랑이': 12133, '함갠': 12134, '리하나': 12135, '유니쎄프': 12136, '례기': 12137, '친영': 12138, '넷플호갱': 12139, '싱글': 12140, '긇혔거': 12141, '해저': 12142, '재끼': 12143, '망할뻔봣': 12144, '대화씬': 12145, '벽화': 12146, '아바': 12147, '맛사지': 12148, '덕인': 12149, '컬투쇼': 12150, '싸이더스': 12151, '흡사': 12152, '뒤론': 12153, '부작임': 12154, '프로도': 12155, '피핀': 12156, '메리': 12157, '현명하다': 12158, '곤도르': 12159, '간달프': 12160, '난쟁이': 12161, '엘프': 12162, '레골라스': 12163, '호빗': 12164, '한바탕': 12165, '버무려': 12166, '짝임': 12167, '추임': 12168, '인산': 12169, '윅같': 12170, '달전': 12171, '파스': 12172, '스스': 12173, '부응': 12174, '핵핵핵핵': 12175, '볕': 12176, '멸종위기': 12177, '트로피': 12178, '황색언론': 12179, '보도': 12180, '텅텅': 12181, '비어': 12182, '음슴다': 12183, '철렁': 12184, '교실': 12185, '못봣': 12186, '경건하다': 12187, '난도질': 12188, 'ㅠㅠㅋㅋ': 12189, '앤딩일': 12190, '이왕이면': 12191, '참견': 12192, '텔레노벨라': 12193, '초더': 12194, '미동': 12195, '푸나': 12196, '실역': 12197, '명나라': 12198, '사대': 12199, '빈정': 12200, '찡그리다': 12201, '애하': 12202, '하버드': 12203, '산업혁명': 12204, '호모': 12205, '천진난만하다': 12206, '느꼇': 12207, '매켄지': 12208, '반지원정대': 12209, '카메오': 12210, '역강': 12211, '드리프트': 12212, '마부': 12213, '홧김': 12214, '사채': 12215, '업잔': 12216, '휘둘려': 12217, '하나라': 12218, '국내외': 12219, '개검': 12220, '실가': 12221, '리해': 12222, '개쌉재밋다': 12223, '교화': 12224, '엽씨부': 12225, '한기대': 12226, '실세': 12227, '뽀록': 12228, '깃털': 12229, '미쳣': 12230, '좋앜': 12231, '답안': 12232, '프리메이슨': 12233, '슈팅': 12234, '새내기': 12235, '숨만셔': 12236, '퍼트': 12237, '운전기사': 12238, '여야': 12239, '낚였음': 12240, '배출': 12241, '생물체': 12242, '원리': 12243, '자연환경': 12244, '함선': 12245, '침략': 12246, '간식': 12247, '그러기에': 12248, '하평': 12249, '적기가': 12250, '재방송': 12251, '세고': 12252, '가루': 12253, '살살': 12254, '존잼꿀잼': 12255, '오싹오싹': 12256, '좇던': 12257, '출몰': 12258, '시급': 12259, '반백': 12260, '맥도먼드': 12261, '쉐이프': 12262, '워터': 12263, '서랍': 12264, '착잡하다': 12265, '선구': 12266, '경전': 12267, '위키': 12268, '출발점': 12269, '종착역': 12270, '리스닝': 12271, '섀끼들': 12272, '승리자': 12273, '껄끄러웠네': 12274, '셧다': 12275, '먹': 12276, '웬만큼': 12277, '뭘좀': 12278, '마유': 12279, '나스': 12280, '재잼': 12281, '구미호': 12282, '본투킬': 12283, '무미': 12284, '어렴풋하다': 12285, '송년회': 12286, '차하': 12287, '김재형': 12288, '둠칫둠칫둠칫둠칫': 12289, '슌지': 12290, '유역비': 12291, '정망': 12292, '뽑기': 12293, '못해': 12294, '라이프': 12295, '슈비': 12296, '늦둥이': 12297, '내팽겨': 12298, '쪼려': 12299, '진시황제': 12300, '마차': 12301, '초입': 12302, '완존': 12303, '폭망폭망': 12304, '자넨': 12305, '퐝당하': 12306, '조엘': 12307, '킨너': 12308, '필생': 12309, '폴란드': 12310, '혐한': 12311, '개봉시': 12312, '불어오다': 12313, '짠맛': 12314, '달리기': 12315, '특전사': 12316, '에게까지': 12317, '조명하': 12318, '웅변': 12319, '에아무도': 12320, 'ㅡㅜ': 12321, '관중석': 12322, '설화': 12323, '개화': 12324, '은색': 12325, '출혈': 12326, '대숲': 12327, '정숙': 12328, '군모': 12329, '훅훅': 12330, '무가': 12331, '떠내다': 12332, '지위': 12333, '희': 12334, '졵': 12335, '모녀': 12336, '중궈': 12337, '조잡': 12338, '니체': 12339, '샤르트르': 12340, '히로인': 12341, '기행': 12342, '음으로': 12343, '낱낱': 12344, '슈퍼마리오': 12345, '거짓말쟁이': 12346, '뿜뿜했음': 12347, '득템': 12348, '군단': 12349, '가해': 12350, '잠재우다': 12351, '로랑': 12352, '밀루': 12353, '존쿠': 12354, '삭이다': 12355, '배심원': 12356, '항로': 12357, '민간인': 12358, '빙글빙글': 12359, '궈': 12360, '번돈': 12361, '전액': 12362, '규칙': 12363, '랜덤': 12364, '액땜': 12365, '불광': 12366, '뼛': 12367, '쉬움': 12368, '차용': 12369, '아릿하다': 12370, '찌릿': 12371, '등골': 12372, '태고': 12373, '투숙': 12374, '객': 12375, '스킨스': 12376, '앤워': 12377, '미하': 12378, '화혼': 12379, '자페': 12380, '허둥지둥': 12381, '수트': 12382, '비밀번호': 12383, '필살기': 12384, '타워': 12385, '강행': 12386, '삼진': 12387, '의결': 12388, '개쫄리': 12389, '트맨': 12390, '고담': 12391, '달도': 12392, '도중하차': 12393, '맹점': 12394, '바치': 12395, '범주': 12396, '해난사고': 12397, '이로써': 12398, '똥찌': 12399, '녀자': 12400, '변장': 12401, '살찌웟다': 12402, '디트로이트': 12403, '솟구치다': 12404, '고진부': 12405, '노선': 12406, '장모님': 12407, '온통': 12408, '우정은': 12409, '여한': 12410, '손좀': 12411, '응션': 12412, '사먹다': 12413, '재능기부': 12414, '고담시티': 12415, '지자': 12416, '닌': 12417, '가르킨': 12418, '초콜릿공장': 12419, '배린눈': 12420, '통탄': 12421, '남은영': 12422, '헤헤': 12423, '이태호': 12424, '백성': 12425, '수만': 12426, '모욕감': 12427, '모글': 12428, '라빈': 12429, '유분수': 12430, '똥덩어리': 12431, '정은지': 12432, '광장': 12433, '내신': 12434, '키이라': 12435, '나이틀리': 12436, '루스': 12437, '둥둥': 12438, '떠다니다': 12439, '델토': 12440, '라푼젤': 12441, '밤씬': 12442, '특선': 12443, '할리': 12444, '개풀': 12445, '건기': 12446, '공임': 12447, '난건': 12448, '머스': 12449, '의연': 12450, '박훈정': 12451, '임자': 12452, '수당': 12453, '아가씨': 12454, '줄곧': 12455, '월급': 12456, '강점': 12457, '궁지': 12458, '뽀짝': 12459, '무교': 12460, '순환': 12461, '쪼꼬': 12462, '기독교인': 12463, '안내상': 12464, '임전': 12465, '별미': 12466, '딩씬': 12467, '헤비': 12468, '폭도': 12469, '탈취': 12470, '꺅': 12471, '꼼짝': 12472, '느긋하다': 12473, '리만': 12474, '극우': 12475, '견인': 12476, '남탓': 12477, '공기청정기': 12478, '주둥아리': 12479, '이중인격': 12480, '후방': 12481, '잼있엇덩': 12482, '우캬캬캬': 12483, '기업체': 12484, '이따윈': 12485, '가르침': 12486, '퀴': 12487, '슴슴': 12488, '평양': 12489, '냉면': 12490, '샘물': 12491, '아난다': 12492, '용감하다': 12493, '단행본': 12494, '촌': 12495, '왤케낮음': 12496, '거가': 12497, '윌리웡카': 12498, '화해': 12499, '캘리': 12500, '의복': 12501, '잡과': 12502, '캐잼': 12503, '태연하다': 12504, '모잠비크': 12505, '라멘': 12506, '잘빠지다': 12507, '셱': 12508, '번지르르': 12509, '오그리다': 12510, '선물거래': 12511, '정신사': 12512, '웽': 12513, '떠벌이다': 12514, '와이어액션': 12515, '개눈': 12516, '암치료': 12517, '일벌': 12518, '쫄아야짘': 12519, '드문드문': 12520, '삽입': 12521, '육탄': 12522, '추종': 12523, '무신': 12524, '빠저': 12525, '람보르기니': 12526, '그랜토리노': 12527, '저편': 12528, '포텐': 12529, 'ㅎㅇ': 12530, '댄싱': 12531, '견적': 12532, '물든': 12533, '듬뿍': 12534, '쫄깃쫄깃해': 12535, '하겄다': 12536, '감돈': 12537, '울드': 12538, '개쩌네': 12539, '뎁': 12540, '에아': 12541, '두시': 12542, '싸이언스': 12543, '엘리자': 12544, '스캔': 12545, '부리': 12546, '톰벨': 12547, '의대': 12548, '생충': 12549, '다각': 12550, '방아쇠': 12551, '슈렉': 12552, '철권': 12553, '트롯': 12554, '짐역함': 12555, '뽕빨': 12556, '트라이앵글': 12557, '헥터': 12558, '대수롭다': 12559, '양가': 12560, '똭': 12561, '움켜쥐다': 12562, '고학력자': 12563, '복받치다': 12564, '깝툭뒤': 12565, '테크닉': 12566, '우선하다': 12567, '주객전도': 12568, '상환': 12569, '인더': 12570, '수탈': 12571, '성노예': 12572, '순도': 12573, '사전투표': 12574, '항해사': 12575, '노트': 12576, '스테': 12577, '빌라이': 12578, '하물며': 12579, '쓰시': 12580, '전방': 12581, '괴로움': 12582, '적격입니': 12583, '뭐임돈': 12584, '터전': 12585, '할머님': 12586, '정역': 12587, '씬스틸러였음': 12588, '하시모토': 12589, '특촬물': 12590, '종로': 12591, '우물가': 12592, '뚱보': 12593, '개졸귀': 12594, '사족': 12595, '시들시들': 12596, '은줄': 12597, '아이즈': 12598, '메카': 12599, '사주팔자': 12600, '엣킨스': 12601, '윌슨': 12602, '쫄이면': 12603, '단것': 12604, '응응': 12605, '경영': 12606, '환경오염': 12607, '탁하다': 12608, '개패': 12609, '슬로': 12610, '날인': 12611, '광광': 12612, '코곰': 12613, '꺼림칙하다': 12614, '이애': 12615, '보충': 12616, '영화포스터': 12617, 'ㅆㅂ': 12618, '꼬아놓': 12619, '빙고': 12620, '쌘척': 12621, '잔재': 12622, '감량': 12623, '불운': 12624, '송광호': 12625, '타타타': 12626, '나앉다': 12627, '노숙자': 12628, '심형래': 12629, '오가면': 12630, '밨': 12631, '꿀꿀': 12632, '쫄린다': 12633, '맞닥뜨렸': 12634, '변호인': 12635, '바위': 12636, '힙합': 12637, '비행청소년': 12638, '키다': 12639, 'ㅈㅗㅈ': 12640, '몽롱': 12641, '알록달록': 12642, '보살피다': 12643, '이특': 12644, '정당성': 12645, '흐트러짐없': 12646, 'ㄷㅂ': 12647, '다망하다': 12648, '박치': 12649, '창욱': 12650, '두텁다': 12651, '이실': 12652, '꺼져줫음': 12653, '그다음': 12654, '얼핏': 12655, '부전선': 12656, '아요': 12657, '흑끕흑흗': 12658, '박새별': 12659, '대성통곡': 12660, '갑옷': 12661, '카우보이': 12662, '추악': 12663, '학살': 12664, '꽃샘추위': 12665, '스핀오프': 12666, '장천': 12667, '흡족하다': 12668, '신라면': 12669, '전투기': 12670, '고층': 12671, '부딫쳐': 12672, '게뭘': 12673, '최곱': 12674, '블론드': 12675, '닌까': 12676, '총재': 12677, '소생': 12678, '해지니': 12679, '자손': 12680, '모함': 12681, '빈부의격차': 12682, '장작': 12683, '차리기': 12684, '정반대': 12685, '성훈': 12686, '잘샹김': 12687, '느김': 12688, '스티브': 12689, '고약하다': 12690, '쭝궈': 12691, '강타': 12692, '프러포즈': 12693, '팔목': 12694, '팔찌': 12695, '서강준': 12696, '남주혁': 12697, '니나': 12698, '쫄았다': 12699, '팝컴': 12700, '특급': 12701, '요추': 12702, '플레이스테이션': 12703, '보디가드': 12704, '연변': 12705, '취했다': 12706, '임금님': 12707, '씨제이': 12708, '막중': 12709, '그러다가': 12710, '헨리포드': 12711, '찬동': 12712, '애인': 12713, '김대중': 12714, '기름': 12715, '타이어': 12716, '번호판': 12717, '국룰': 12718, '가평': 12719, '현주소': 12720, '펠퍼틴': 12721, '오비완': 12722, '광선검': 12723, '지누': 12724, '국봉': 12725, '감자': 12726, '슈야': 12727, '봐쥬어': 12728, '찜': 12729, '남도': 12730, '꼰대': 12731, '리버': 12732, '꼽을': 12733, '꼰대들땜': 12734, '굿잡': 12735, '리안': 12736, '추적자': 12737, '경찰권': 12738, '상부': 12739, '패배하다': 12740, '나불대다': 12741, '단일': 12742, '심판': 12743, '장기간': 12744, '이주': 12745, '문세광': 12746, '꽥': 12747, '쌩눈': 12748, '입처': 12749, '전두엽': 12750, '빻': 12751, '밥그릇': 12752, '더쿠': 12753, '전직': 12754, '만리': 12755, '깜둥이': 12756, '행사': 12757, '옆문': 12758, '여건': 12759, '폄훼하': 12760, '잇엇어': 12761, '프레이저': 12762, '뺨칠': 12763, '쌋습니': 12764, '여성공포증': 12765, '대칭성': 12766, '똟': 12767, '젓': 12768, '만상': 12769, '심마': 12770, '택했다': 12771, '엮': 12772, '것말': 12773, 'ㅋㄹㅋ': 12774, '장판': 12775, '충돌': 12776, '진날': 12777, '김소담': 12778, '똥물위': 12779, '창궐': 12780, '학습': 12781, '점퍼': 12782, '뉴트구': 12783, '지노': 12784, '아까웟다': 12785, '타자': 12786, '데보': 12787, '자격루': 12788, '워리어': 12789, '이음': 12790, '임지연': 12791, '댕겨': 12792, '하나둘셋': 12793, '캡사이신': 12794, '신건': 12795, '알아차리다': 12796, '뫼비우스': 12797, '문어': 12798, '해애': 12799, '야야': 12800, 'ㅑ': 12801, '기시감': 12802, '퀄를': 12803, '꿀잼각': 12804, '담당자': 12805, '알겄다': 12806, '공조': 12807, '파이트클럽': 12808, '박정현': 12809, '독무대': 12810, '김태리류준열': 12811, '식용': 12812, '상류사회': 12813, '뎌': 12814, '연배': 12815, '바바': 12816, '굴려': 12817, '러시': 12818, '꿀잼햄': 12819, '페이버릿': 12820, '고주연': 12821, '외할머니': 12822, '구석방': 12823, '천평': 12824, '진짜사나이': 12825, '싹뚝': 12826, '읉': 12827, '오라클': 12828, '할망구': 12829, '초중생': 12830, '실어': 12831, '기관총': 12832, '중세시대': 12833, 'ㅅㄱ': 12834, '애니메이션영화': 12835, '고송': 12836, '분경': 12837, '전자파': 12838, '은방울꽃': 12839, '연신': 12840, '덩치': 12841, '폭설': 12842, '진라면': 12843, '저하': 12844, '쉐어': 12845, '드나들다': 12846, '식료품점': 12847, '살포시': 12848, '사면': 12849, '첨봣는': 12850, '데스노트': 12851, '손도장': 12852, '철두철미': 12853, '부채': 12854, '딜칠땐': 12855, '쫘악': 12856, '안중': 12857, '능숙하다': 12858, '일본문학': 12859, '솬람': 12860, '평음': 12861, '는거뇨': 12862, '콱': 12863, '디시': 12864, '삽자루': 12865, 'ㅋㄹㄴ': 12866, '버스킹': 12867, '어쨌거': 12868, '한도': 12869, '군번': 12870, '군가': 12871, '선임': 12872, '관등': 12873, '성명': 12874, '내무': 12875, '사열': 12876, '중대': 12877, '설문조사': 12878, '중대장': 12879, '쫄지마': 12880, '캠프': 12881, '미식': 12882, '거렸': 12883, '바스락': 12884, '파헤져': 12885, '껏음': 12886, 'ㅎㅅ': 12887, '볼리우드': 12888, '뭄바이': 12889, '감쪽': 12890, '오토릭샤': 12891, '무질서': 12892, '좇': 12893, '왕자': 12894, '유니크': 12895, '라이트급': 12896, '이상민': 12897, '선균': 12898, '균': 12899, '인나님': 12900, '동네형': 12901, '남정': 12902, '불침번': 12903, '툐': 12904, '투탑': 12905, '상쾌': 12906, 'ㅕㅗㅗ': 12907, '해놧구': 12908, '괴인': 12909, '티브': 12910, '독가스': 12911, '우먼': 12912, '색꺌': 12913, '서두르다': 12914, '시연': 12915, '바이럴': 12916, '개줌': 12917, '중공군': 12918, '철남이': 12919, '츠키': 12920, '모토': 12921, '신야': 12922, '저조하다': 12923, '충청도': 12924, '올여름': 12925, '조선로동당': 12926, '용역': 12927, '멜랑꼴리': 12928, 'ㅡㅡㅋㅋ': 12929, '봉인': 12930, '악착같이': 12931, '친절': 12932, '몽상가': 12933, '틀어지다': 12934, '복사': 12935, '잂품': 12936, '디비디': 12937, '묶이다': 12938, '다합': 12939, '꺅꺅': 12940, '씨끄럽기': 12941, '구체화': 12942, '알약': 12943, '복용': 12944, '알람': 12945, '귓구녕': 12946, '촉박하다': 12947, '읊': 12948, '원츄': 12949, '예상외': 12950, '친근하다': 12951, '급작스레': 12952, '클레어': 12953, '돈셜': 12954, '리박사': 12955, '흐트러짐없는': 12956, '언행': 12957, '코시': 12958, '넌덜': 12959, '로마시대': 12960, '잔인성': 12961, '탭': 12962, '노현희': 12963, '개썪었슴': 12964, '앰블런스': 12965, '블펜': 12966, '관찰': 12967, '미래엔': 12968, '무력하다': 12969, '실성': 12970, 'ㅏㅏ': 12971, '하드디스크': 12972, '리벤지': 12973, '재밋단': 12974, '갓티븐': 12975, '기프트카드': 12976, '유효': 12977, '사구조': 12978, '삐끗': 12979, '팔딱팔딱': 12980, '돈벌이': 12981, '자전': 12982, '미첬음': 12983, '브릿팝': 12984, '스웨이드': 12985, '블러': 12986, '펄프': 12987, '듀란듀란': 12988, '롤링': 12989, '스톤즈': 12990, '인비져블': 12991, '차암': 12992, '제안': 12993, '은비': 12994, '활자': 12995, '상언': 12996, '구실': 12997, '손오공': 12998, '베지터': 12999, '코골': 13000, '리덕': 13001, '다행하다': 13002, '근접촬영': 13003, '농축': 13004, '재상': 13005, '신경질': 13006, '훨나아': 13007, '엿같아': 13008, '괝': 13009, '잠혼': 13010, '간정': 13011, '쾌': 13012, '단편소설': 13013, '하이퍼인플레이션': 13014, '우선주': 13015, '외곽': 13016, '물가': 13017, '요행': 13018, '자초': 13019, '공권력': 13020, '대출': 13021, '하만': 13022, '나진': 13023, '신나요': 13024, '코같다': 13025, '남아도': 13026, '쾌쾌해': 13027, '됏': 13028, '조은영': 13029, 'ㅍㅎㅎ': 13030, '어머': 13031, '표독': 13032, '극혐띠': 13033, '마카': 13034, '차감': 13035, '시들다': 13036, '경륜': 13037, '엔조이': 13038, '이등병': 13039, '로티플': 13040, '수표로': 13041, '목사': 13042, '택할까': 13043, '객관성': 13044, '뤼': 13045, '습격': 13046, '박영규': 13047, '여의': 13048, '포페': 13049, '고흐': 13050, '해보픈': 13051, '아유': 13052, 'ㅜㅅ': 13053, '제롬': 13054, '열병': 13055, '세이모어': 13056, '호프만': 13057, '삼대': 13058, '배겨': 13059, '시리아': 13060, '악독하다': 13061, 'ㄸ': 13062, '센세이션': 13063, '힙함': 13064, '허준호': 13065, '주체롭': 13066, '부당': 13067, '폐미즘': 13068, '서태지': 13069, '류임': 13070, '프로덕션': 13071, '소도': 13072, '이펙트': 13073, '너와나': 13074, '최종병기': 13075, '야만': 13076, '삼지': 13077, '감덩': 13078, '반환': 13079, 'ㅈㅂ': 13080, '부상': 13081, '너프': 13082, '쩡쩡하다': 13083, '다야': 13084, '까탈': 13085, '기복': 13086, '번듯': 13087, '스폰지': 13088, '알콜': 13089, '쪼꿈': 13090, '미스틱': 13091, '길가메시': 13092, '위시': 13093, '캐붕': 13094, '라울': 13095, '파로': 13096, '곤곡': 13097, '카모': 13098, '특명': 13099, '어벤저': 13100, '오사원': 13101, '상쇄되': 13102, '상쇄된': 13103, '엘렌': 13104, '타이트': 13105, '고별': 13106, '전해질': 13107, '밋다재밋다재밋': 13108, '말루다': 13109, '야기': 13110, '떼돈벌': 13111, '찌림': 13112, '드레곤': 13113, '퀘스트': 13114, '동부': 13115, '서부': 13116, '유튭': 13117, '일러스트': 13118, '최림': 13119, '핵극혐': 13120, '유출': 13121, '까짘': 13122, '백만원': 13123, '것외': 13124, '가이드': 13125, '이웅': 13126, '머시쪙': 13127, '잉잉': 13128, '프롬': 13129, '홈': 13130, '재밋게봐': 13131, '여성혐오': 13132, '시어': 13133, '나왔슴니': 13134, '크흐르흐그': 13135, 'ㅡㅎㄱ': 13136, '주보': 13137, 'ㅜㅁ': 13138, '쫄린': 13139, '비타민': 13140, '어렴풋이': 13141, 'ㅓㅇ': 13142, '헝헝헝': 13143, '헝으어흐': 13144, '헣': 13145, '헝헝': 13146, '입부': 13147, '엽니': 13148, '탈출씬': 13149, '원주민': 13150, '여담': 13151, '제대': 13152, '항하': 13153, '저쩃': 13154, '교향곡': 13155, '인삿말': 13156, '땡땡': 13157, '꼬옥': 13158, '뇌진탕': 13159, '마네킹': 13160, '투톱': 13161, '샘솟다': 13162, '언능': 13163, '전세': 13164, '에메랄드': 13165, '노이즈': 13166, '카와이': 13167, '영원불변': 13168, '낚인듯': 13169, '건장하다': 13170, '재밋기': 13171, '변모': 13172, '리허설': 13173, '고취': 13174, '맞짱': 13175, '과시': 13176, '돈주': 13177, '유턴': 13178, '스톨': 13179, '어우리': 13180, '정심': 13181, '긱함': 13182, '섹시뽀짝': 13183, '부적': 13184, '음성': 13185, '거보': 13186, '사망자': 13187, '성대': 13188, '오찬': 13189, '안터': 13190, '렀': 13191, '남아공': 13192, '쪽지': 13193, '방과': 13194, '요너므': 13195, '우승': 13196, '처량하다': 13197, '도서': 13198, '축구선수': 13199, '제이': 13200, '세션': 13201, '철야': 13202, '코딩': 13203, '드라이빙': 13204, '님덕분': 13205, '후빨': 13206, '진흥': 13207, '복작': 13208, '기선': 13209, '동려아': 13210, '근절': 13211, '캠페인': 13212, '도오': 13213, '나긋나긋': 13214, '재밋었다': 13215, '피속': 13216, '산물': 13217, '복숭아': 13218, '부흥': 13219, '알몸': 13220, '털날뻔': 13221, '정치성향': 13222, '드라마영화': 13223, '헬렌': 13224, '인도판': 13225, '관문': 13226, '불씨': 13227, '잉태': 13228, '신성하다': 13229, '성스럽다': 13230, '동하': 13231, '매듭': 13232, '작일': 13233, '정직': 13234, '출연료': 13235, '안볼껄': 13236, '살벌': 13237, '들썩대다': 13238, '이병': 13239, '재미나다': 13240, '굶주림': 13241, '싹수': 13242, '이상자': 13243, '맹신': 13244, '파장': 13245, '한니발': 13246, '굿굿굿굿굿굿': 13247, '축축': 13248, '처지': 13249, '선비': 13250, '팍듬': 13251, '빗물': 13252, '냉혹': 13253, 'ㅊㅋㅊㅋ': 13254, '유미주': 13255, '안길': 13256, '경제위기': 13257, '전제': 13258, '욜': 13259, '레뭐': 13260, '남은자': 13261, '어리석음': 13262, '클런': 13263, '일본침몰': 13264, '햄릿': 13265, '드라큐라': 13266, '아모': 13267, '르퐈': 13268, '판두': 13269, '취조': 13270, '횡설수설': 13271, '란디프': 13272, '뒷목잡다': 13273, '넘흐슬퍼': 13274, '갯지렁이': 13275, '늘어놓다': 13276, '허락': 13277, '지지율': 13278, '기합': 13279, '립': 13280, '포면': 13281, '로세': 13282, '시뻘겋다': 13283, '잘잘': 13284, '기럭지': 13285, '범행': 13286, '누적': 13287, '억천만': 13288, '워너': 13289, '산겨': 13290, '전철역': 13291, '서재': 13292, '밋엇어': 13293, '달콤': 13294, '쌉싸름하다': 13295, '초콜릿': 13296, '웅웅': 13297, '오덕후': 13298, '리포트': 13299, '토론': 13300, '쌉싸래하다': 13301, '클로젯보': 13302, '웨이브': 13303, '파브': 13304, '뤼키': 13305, '비노': 13306, '파리지앵': 13307, '러브코미디': 13308, '라시': 13309, '스고이': 13310, '야메': 13311, '룽다': 13312, '무책임': 13313, '감신': 13314, '맹탕영화': 13315, '연태': 13316, '고상하다': 13317, '데킬러': 13318, '검': 13319, '은화': 13320, '들숨': 13321, '날숨': 13322, '너무슬펏': 13323, '손실': 13324, '루머': 13325, '호르몬': 13326, '분비': 13327, '부스터': 13328, '뭄': 13329, '더크': 13330, '섕각': 13331, '호박고구마': 13332, '물끄러미': 13333, '자책': 13334, '운전사': 13335, '경제력': 13336, '공이': 13337, '과를': 13338, '컴플렉스': 13339, '분탕질': 13340, '이보영': 13341, '거땜': 13342, '풍요': 13343, '군부': 13344, '하듯': 13345, '첨밀밀': 13346, '김부': 13347, '죽겠네': 13348, '디저트': 13349, '배춧국': 13350, '좀밤': 13351, '식혜': 13352, '들추다': 13353, '휴유증떄문': 13354, '굿즈들': 13355, '은수': 13356, '와킨': 13357, '리릭': 13358, '유호정': 13359, '하늘색': 13360, '그믐달': 13361, '초승달': 13362, '전남편': 13363, '용돈': 13364, '아르바이트': 13365, '쇼타': 13366, '뛰어내리다': 13367, '통념': 13368, '밍숭맹숭해': 13369, '카체이싱': 13370, '남매': 13371, '청각장애': 13372, '얼얼': 13373, '빠수니': 13374, '고만하다': 13375, '나날이': 13376, '고퀼': 13377, '말끝': 13378, '허기지다': 13379, '차만': 13380, '터침': 13381, '여개': 13382, '조물': 13383, '저작권료': 13384, '엄빠': 13385, '렴': 13386, '싸우지마': 13387, '밧닌': 13388, '무서웟다': 13389, '트립': 13390, '슈룸': 13391, '프렌': 13392, '총명': 13393, '트와일라잇': 13394, '편중': 13395, '브레이': 13396, '존꿀잼': 13397, '살며시': 13398, '찰랑이다': 13399, '뒤엉킨': 13400, '제지': 13401, '이수': 13402, '아트': 13403, '타임슬립': 13404, '준놈': 13405, '브레이킹던': 13406, '그랬드': 13407, '야전병원': 13408, '번치': 13409, '안드네': 13410, '오마이': 13411, '브라더스': 13412, '이범수': 13413, '시시덕거리다': 13414, '초보자': 13415, '루니': 13416, '예뻣던': 13417, '외적': 13418, '푸딩': 13419, '고영상': 13420, '다날': 13421, '멘타리': 13422, '걸스': 13423, '캔두': 13424, '생떼': 13425, '경비행기': 13426, '전전': 13427, '소진': 13428, '겸직': 13429, '슈팅게임': 13430, '삘받아': 13431, '퇴화': 13432, '비볏': 13433, '년놈': 13434, '쫄깃한척': 13435, '버네': 13436, '굵직하다': 13437, '학생운동': 13438, '됫다': 13439, '주사파': 13440, '다공': 13441, '산사': 13442, '방송국': 13443, '너트': 13444, '해이': 13445, '민노총': 13446, '전교조': 13447, '상공': 13448, '가트': 13449, '이상향': 13450, '락스타': 13451, '뇬들': 13452, '급보': 13453, '태세': 13454, '변환': 13455, '러온': 13456, '쫄려죽': 13457, '올라타다': 13458, '인민재판': 13459, '가일': 13460, '쪼은다': 13461, '파묻히다': 13462, '심금': 13463, '퐁': 13464, '랄것': 13465, '모드리치': 13466, '담뱃갑': 13467, '언럭키': 13468, '스트라이크': 13469, '시진핑': 13470, '바둥거린거': 13471, '지하도': 13472, '지름': 13473, '점땜': 13474, '조루': 13475, '훈제': 13476, '박민호': 13477, '타이탄': 13478, '예절': 13479, '장보원': 13480, '총명하다': 13481, '눈동자': 13482, '주둔': 13483, '물품': 13484, '경제성': 13485, '치졸하다': 13486, '스시': 13487, '본연': 13488, '사단': 13489, '반듯이': 13490, '환기': 13491, '어따': 13492, '본거같믐': 13493, '읖': 13494, '권리': 13495, '백색': 13496, '소희': 13497, '워홀': 13498, '동포': 13499, '무죄': 13500, '못만드': 13501, '정세운': 13502, '왤케높': 13503, '신촌': 13504, '헬싱': 13505, '드라큘라': 13506, '늑대인간': 13507, '프랑켄슈타인': 13508, '알럽': 13509, '푸른밤': 13510, '컴컴하다': 13511, '새싹': 13512, '널림': 13513, '채택': 13514, '보좌': 13515, '은상': 13516, '러너': 13517, '애란': 13518, '상념하': 13519, '미카엘': 13520, '하나케': 13521, '고도영': 13522, 'ㅆㄴㅈ': 13523, '구기': 13524, '열매': 13525, '마르크스': 13526, '분배': 13527, '부리고': 13528, '개암': 13529, '엠블럼': 13530, '미나미': 13531, '더홀': 13532, '경력': 13533, '대못': 13534, '창조주': 13535, '외도': 13536, '간파': 13537, '일일': 13538, '킹벤져스': 13539, '꽉쥐': 13540, '흔듬': 13541, '태엽': 13542, '분수령': 13543, '교류': 13544, '오드리': 13545, '헵번': 13546, '삳': 13547, '구합': 13548, '난젛': 13549, '띨빵': 13550, '한지상': 13551, '노약': 13552, '개폭망작': 13553, '최거': 13554, '듀오': 13555, '출마': 13556, '싹둑싹둑': 13557, '자음': 13558, '훈남': 13559, '해바라기': 13560, '워후': 13561, '밌': 13562, '젤리': 13563, '당츄': 13564, '칼질': 13565, '조페국': 13566, '턴다면': 13567, '폐국': 13568, '학문': 13569, 'ㅅㅣ': 13570, '물량투입': 13571, '독채': 13572, '인관': 13573, '상향': 13574, '격렬': 13575, 'ㅋㅋㄱㅋ': 13576, '무역': 13577, '일대일': 13578, '무거워': 13579, '셋업': 13580, '파란': 13581, '김현수': 13582, '수십만': 13583, '하영': 13584, '마이어': 13585, '헝키': 13586, '스타더스트': 13587, '케이트': 13588, '부쉬': 13589, '전시작전권': 13590, '연봉': 13591, '드라이': 13592, '전인권': 13593, '흑백영화': 13594, '웨스': 13595, '프렌치': 13596, '디스패치': 13597, '나와랏': 13598, '스카페이스': 13599, '외치': 13600, '상책': 13601, '돈줫': 13602, '삭싹삭싹삭싹': 13603, '브랜든': 13604, '남아나다': 13605, '성우진': 13606, '대학가': 13607, '장난스런키스': 13608, '중화권': 13609, '낙하': 13610, '양아버지': 13611, '솔스쿼드': 13612, '인스쿼드': 13613, '고결': 13614, '청초하다': 13615, '우아': 13616, '곤란하다': 13617, '지심': 13618, 'ㅅㅋ': 13619, '사자후': 13620, '비율': 13621, '음탕하다': 13622, '쌍화점': 13623, '음악인': 13624, '에끼': 13625, '낼름': 13626, '벌집': 13627, '관록': 13628, '조핬': 13629, '희소가치': 13630, '치안': 13631, '별루겟': 13632, '출판': 13633, '라가': 13634, '둥땅땅둥땅': 13635, '뚱뚱': 13636, '탈때': 13637, '려봄': 13638, '도살': 13639, '배때': 13640, '창자': 13641, '후르': 13642, '척함': 13643, '페이크': 13644, '아닌뒙': 13645, '짱구': 13646, '서구': 13647, '퍼다': 13648, '갈비': 13649, 'ㅠㅠㅜㅠ': 13650, '난재밋게봄': 13651, '드믄': 13652, '뇟속': 13653, '부역': 13654, '번역기': 13655, '실라': 13656, '뇌사상태': 13657, '갸웃하다': 13658, '기량': 13659, '냇가': 13660, '쩐국민': 13661, '별넷': 13662, '폭풍욕재밋다': 13663, '건만': 13664, '리트리버': 13665, '만화인': 13666, '자발': 13667, '주마': 13668, '노년기': 13669, '지혜': 13670, '카르': 13671, '페': 13672, '디엠': 13673, '알때': 13674, '베베': 13675, '아른': 13676, '거림니': 13677, '앜': 13678, '반했어': 13679, '하이브리드': 13680, '참패': 13681, '명중': 13682, '떠밀다': 13683, '꽃다발': 13684, '하얘지다': 13685, '홈쇼핑': 13686, '으로만은': 13687, '포노': 13688, '심사': 13689, '위원': 13690, '발버둥': 13691, '욕안': 13692, '어긋나게': 13693, '터닝': 13694, '위법': 13695, '독서실': 13696, '장호': 13697, '황량': 13698, '통신사': 13699, '사살': 13700, '훼이크': 13701, '팔로우': 13702, '덴버': 13703, '이종격투기': 13704, '뚜들기다': 13705, '평판': 13706, '떠낫네욬': 13707, '엄슴': 13708, '호퍼': 13709, '개밑': 13710, '분홍': 13711, '흰색': 13712, '까뜨린느': 13713, '드뇌브': 13714, '혹자': 13715, 'ㅋㅋㄹ': 13716, '충혈': 13717, '데이비': 13718, '존스': 13719, '샘때': 13720, '판별': 13721, '이해관계': 13722, '정착': 13723, '민주': 13724, '노총': 13725, '어땟을까': 13726, '수동태': 13727, '능동': 13728, '태일': 13729, '모노노케': 13730, '아메바': 13731, '짚신벌레': 13732, '뇌구조': 13733, '콜라보': 13734, '청혼': 13735, '미망인': 13736, '꼬박꼬박': 13737, '빠앗다': 13738, '방성훈': 13739, '해유': 13740, '백만배': 13741, '창모': 13742, '붕어': 13743, '지배인': 13744, '괜춚근데': 13745, '뭔넘': 13746, '댐배': 13747, '뒤집힌다': 13748, '촉매': 13749, '극혐임': 13750, '짦': 13751, '서버': 13752, '까풀지다': 13753, '한가득': 13754, '글썽': 13755, '백인호': 13756, '머리색': 13757, '짓함': 13758, '정봉': 13759, '자타공인': 13760, '가용': 13761, '태블릿': 13762, '오타루': 13763, '소녀가장': 13764, '매매': 13765, '고질라': 13766, '중관': 13767, '납작하다': 13768, '우월감': 13769, '블루': 13770, '검열': 13771, '잡혀가다': 13772, '땍띠컬한': 13773, '치타': 13774, '괜츈': 13775, '뱡': 13776, '할껄': 13777, '개꼬시': 13778, '해경이': 13779, '선박': 13780, '눈거': 13781, '슬기롭다': 13782, '트바': 13783, '로티': 13784, '횽': 13785, '아잼썽': 13786, '송위룡송운화': 13787, '외부': 13788, '음료수': 13789, '붕붕': 13790, '분무기': 13791, '헛돈': 13792, '넘흐': 13793, '사녹': 13794, '을제': 13795, '놔두다': 13796, '무치다': 13797, '양주': 13798, '데이라이트': 13799, '뱀': 13800, '신여': 13801, '맥퀸': 13802, '지음': 13803, '가엾다': 13804, '슈래기': 13805, '능돈': 13806, '푹쉬다': 13807, '최선일': 13808, '겨눴을때': 13809, '콧대': 13810, '값임': 13811, '레볼루션': 13812, '신중': 13813, '놀랫네': 13814, '구수': 13815, '다져지다': 13816, '크리쳐씬': 13817, '핀트': 13818, '토역': 13819, '분출': 13820, '울분': 13821, '나비효과': 13822, '영영': 13823, '으아': 13824, '은위년': 13825, '발광': 13826, '생목': 13827, '소곤소곤': 13828, '구미': 13829, '보기줜': 13830, '청순하다': 13831, '주휴수당': 13832, '아스터': 13833, '전교': 13834, '왕창': 13835, '쉽쥬': 13836, '승민': 13837, '낭심': 13838, '보호대': 13839, '큐티': 13840, '배틀필드': 13841, '콜오브듀티': 13842, '카스': 13843, '글옵': 13844, '레인보우식스': 13845, '석유': 13846, '사활': 13847, '거뜬하다': 13848, '떡잎': 13849, '꽤볼': 13850, '기리': 13851, '뻉반': 13852, '이데아': 13853, '마구마구': 13854, '피조': 13855, '모니카': 13856, '벨루치': 13857, '어쨌건': 13858, '허례': 13859, '허식': 13860, '소나기': 13861, '밋었': 13862, '던걸': 13863, '까불다': 13864, '군자': 13865, '햡류': 13866, '암유': 13867, '츄리': 13868, '흥흥': 13869, '게왜점': 13870, '너므': 13871, '교전씬': 13872, '끝내기': 13873, '선원': 13874, '자비': 13875, '베풀다': 13876, '지드': 13877, '촉망': 13878, '소규모': 13879, '무열': 13880, '터득': 13881, '완소남': 13882, '전언': 13883, 'ㅇㅏ': 13884, '어엉엉': 13885, '과외': 13886, '겨끝': 13887, '교차점': 13888, '지시': 13889, '게임중독자': 13890, '괴작들': 13891, '망라': 13892, '결집': 13893, '버블': 13894, '글러먹': 13895, '남짓': 13896, '보화': 13897, '핮': 13898, '젠비': 13899, '하차': 13900, '낚였는': 13901, '홍수': 13902, '가누다': 13903, '썸짓': 13904, '것처': 13905, '책받침': 13906, '에미넴': 13907, '소멸하다': 13908, '혐의': 13909, '누굽': 13910, '가제': 13911, '어인': 13912, '둘째딸': 13913, '표면': 13914, '대열': 13915, '침묵': 13916, '이예지': 13917, '한지호': 13918, '한상철': 13919, '깐깐하다': 13920, '나이스': 13921, '투밋추': 13922, '빰빰빰': 13923, '똘망똘망': 13924, '탄흔': 13925, '인신공격': 13926, '도덕성': 13927, '건멋': 13928, '열한시': 13929, '백투더퓨처': 13930, '기류': 13931, '빠순들': 13932, '동산': 13933, '실미도': 13934, '에어팟': 13935, '경보': 13936, '수거': 13937, '줏': 13938, '반발': 13939, '혈안': 13940, '이소리': 13941, '지조': 13942, '희한하다': 13943, '큰비': 13944, '백대': 13945, 'ㅝ': 13946, '깐느': 13947, '만들엇음': 13948, '장첸': 13949, '정수': 13950, '희비극': 13951, '딸년': 13952, '희로애락': 13953, '게이고': 13954, '명인': 13955, '라플라스': 13956, '애나': 13957, '치솟다': 13958, '해질녘': 13959, '마수': 13960, '사회인': 13961, '유인원': 13962, '치맛속': 13963, '노튼': 13964, '젭': 13965, 'ㅎㅅㅎ': 13966, '러브크래프트': 13967, '감퇴': 13968, '송원': 13969, '거르시': 13970, '무탸거': 13971, '챠러': 13972, '전원주택': 13973, '무관심하다': 13974, '슈왈': 13975, '너거': 13976, '프레더터': 13977, '릴리': 13978, '스카프': 13979, '자물쇠': 13980, '그네': 13981, '할껀': 13982, '발톱': 13983, '참극': 13984, '부트캠프': 13985, '효리': 13986, '민박': 13987, '광해': 13988, '사일런트': 13989, '래드윔프스': 13990, '네네': 13991, '루실': 13992, '샹들리에': 13993, '삘나': 13994, '쌩뚱맞': 13995, '나안': 13996, '아흒흑': 13997, 'ㅜㅜㅜㅠ': 13998, '한동근': 13999, '혈': 14000, '사해': 14001, '탸': 14002, '썰리다': 14003, '존망': 14004, '겹치': 14005, '빙산': 14006, '먹거리': 14007, '바삭': 14008, '침샘': 14009, '쫄깃할까': 14010, '뻥뻥': 14011, '괜찬': 14012, '특경': 14013, '장학우': 14014, '쫄깃했': 14015, '번가': 14016, '할애비': 14017, '복도': 14018, '로페즈': 14019, '부본': 14020, '눈떳을때': 14021, '투니버스': 14022, '이누야샤': 14023, '계세': 14024, '노르망디': 14025, '하이퍼': 14026, '떡칠': 14027, '주섬주섬': 14028, 'ㅁㅊㄷ': 14029, '첫번쨰': 14030, '위태해': 14031, '못내': 14032, '스모그': 14033, '백화점': 14034, '품사': 14035, 'ㄸㅊ': 14036, '다다미': 14037, '쇼트': 14038, '빅팬': 14039, '데니': 14040, '절교': 14041, '욱할정도': 14042, '몬만': 14043, '갯벌': 14044, '괜춘함': 14045, '타래': 14046, '표함': 14047, '유언': 14048, '별루같': 14049, '멀뚱멀뚱': 14050, '내적댄스': 14051, '빙판': 14052, '리즌': 14053, '를젤': 14054, '마여': 14055, '근접하다': 14056, '모험심': 14057, '항심': 14058, '두껍다': 14059, '미지근하다': 14060, '찬찬하다': 14061, '인색하다': 14062, '동창': 14063, '삶일': 14064, '꿈일': 14065, '껄끄러운': 14066, '전면': 14067, '물길': 14068, '장관': 14069, '절경': 14070, '장보리': 14071, '아이러니컬하다': 14072, '다물어지다': 14073, '성현': 14074, '애답': 14075, '살떄': 14076, '무진장': 14077, '군요': 14078, '코멘트': 14079, '중국공산당': 14080, '미치광이': 14081, '절레절레': 14082, '사골': 14083, '곰탕': 14084, '전입': 14085, '구경꾼': 14086, '컨드': 14087, '후배': 14088, '이태리': 14089, '경매': 14090, '만연체': 14091, '엄청쌔': 14092, '무탈': 14093, '흥부': 14094, '스타일리시': 14095, '레버': 14096, '넌트': 14097, '월요일': 14098, '맴돔각': 14099, '만찬': 14100, '상복': 14101, '거시': 14102, '정만식': 14103, '일해': 14104, '똥줄': 14105, '기장면': 14106, '섹쉬': 14107, '사울': 14108, '아람': 14109, '꾸리': 14110, '러시아어': 14111, '작아지다': 14112, '부터라도': 14113, 'ㅠㅋ': 14114, '작대기': 14115, '이수민': 14116, '구렁이': 14117, '잼남햄': 14118, '청소년기': 14119, '임연': 14120, '갱년기': 14121, '결단': 14122, '없엇음': 14123, '달렷': 14124, '정색': 14125, '갠소': 14126, '두둑하다': 14127, '슈발': 14128, '루트': 14129, '호각': 14130, '로빈슨': 14131, '죽대': 14132, '쫄병': 14133, '호엔': 14134, 'ㅃ': 14135, '콘텐츠': 14136, '특기': 14137, '범자': 14138, '마담류': 14139, '홀': 14140, '호혜중': 14141, '만년': 14142, '초자연적': 14143, '깽': 14144, '발라드': 14145, '아웃사이더': 14146, '루키들': 14147, '횐': 14148, '뤽': 14149, '베송': 14150, '사이비과학': 14151, '괜차늠': 14152, '풉킼': 14153, '수술': 14154, '모해': 14155, '천하다': 14156, '차림': 14157, '스멀스멀': 14158, '쳇바퀴': 14159, '정철': 14160, '작사가': 14161, '차분해지다': 14162, '늦어지다': 14163, '토막': 14164, '찌릴때': 14165, 'ㅋㄱㅋㅋ': 14166, '꺼버렷음': 14167, '치장': 14168, '개와늑대의시간': 14169, '물란': 14170, '쳤냨': 14171, '연출럭': 14172, '전주': 14173, '소외': 14174, 'ㅣㅆ': 14175, '최윤영': 14176, '정연': 14177, '바텐더': 14178, '담뱃불': 14179, '바랬을까그': 14180, '다재': 14181, '마중': 14182, '상세': 14183, '로고': 14184, '하비에르': 14185, '바르뎀': 14186, '어른스럽다': 14187, '로즈메리': 14188, '안드로메다': 14189, '스팩': 14190, '이비': 14191, '수월하다': 14192, '첫씬': 14193, '대인관계': 14194, '중략': 14195, '뽑히다': 14196, '일원': 14197, '가화만사성': 14198, '퓨전': 14199, '울적하다': 14200, '집콕': 14201, '취직': 14202, '꽃잎': 14203, '어쩌네뻥': 14204, '토닥이다': 14205, '엌': 14206, '땔수': 14207, '그득하다': 14208, '피천득': 14209, '필연': 14210, '진쨔개쩜하': 14211, '양배추': 14212, '으웩': 14213, '돈돈': 14214, '면제': 14215, '윌리엄': 14216, '찰톤': 14217, '헤스턴': 14218, '벤허': 14219, '염화': 14220, '칭구': 14221, '쩌는거': 14222, '갈비뼈': 14223, '붕대': 14224, '절대음감': 14225, '노래실력': 14226, '순발력': 14227, '야간': 14228, '어거': 14229, '보링': 14230, '방증임': 14231, '더미': 14232, '폐쇄공간': 14233, '호수': 14234, '오승욱': 14235, '우스꽝스럽다': 14236, '네필': 14237, '모진': 14238, '대가족': 14239, '엔뇬': 14240, '렛뇨르': 14241, '쎅': 14242, '미쳣어': 14243, '개먹어랏': 14244, '맹구': 14245, '즐비하다': 14246, '냉전시대': 14247, '고시': 14248, '법원': 14249, '자지': 14250, '햇님': 14251, '새로이': 14252, '이광수': 14253, '일기도': 14254, '사표': 14255, '종업': 14256, '환경운동가': 14257, '비탄': 14258, '밀덕': 14259, '상급': 14260, '맥각': 14261, '지망': 14262, '뚝심': 14263, '파이브': 14264, '최우수': 14265, '엮을수': 14266, '엠버': 14267, '허드': 14268, '우후죽순': 14269, '안번거': 14270, '더볼껄': 14271, '불모': 14272, '함레': 14273, '기신': 14274, '재밋게봣어': 14275, '렌핸': 14276, '태반': 14277, '밋엇': 14278, '티파티드': 14279, '강독': 14280, '처렁': 14281, '래퍼': 14282, 'ㅅㅡㅡㅂ': 14283, '도깨비': 14284, '읎드다': 14285, '센티널': 14286, '그름': 14287, '부순': 14288, '서럽다': 14289, '하모니': 14290, '에로드': 14291, '먼저밨으': 14292, '주덕': 14293, '유물': 14294, '뤼시': 14295, '리워넬': 14296, '순정': 14297, '친한파': 14298, '샤이니': 14299, '윗사람': 14300, '우두': 14301, '직분': 14302, '본능사': 14303, '훌룡했던': 14304, '국문': 14305, '박지훈': 14306, '새누리': 14307, '울진': 14308, '번방': 14309, '주술': 14310, '엿들으': 14311, '밟힌다': 14312, '본보다': 14313, '쩌는듯': 14314, '앞년': 14315, '왜정': 14316, '즉시': 14317, '구랭': 14318, '프라이': 14319, '금상첨화': 14320, '알알이': 14321, '고산': 14322, '이이경': 14323, '정준호': 14324, '마지막모습': 14325, '아주머니': 14326, '들썩이다': 14327, '왜저': 14328, '대련': 14329, '대초': 14330, '불가사의하다': 14331, '복인': 14332, '빈익': 14333, '대부도': 14334, '야박': 14335, '나라고': 14336, '이현우': 14337, '먄': 14338, '뭘안': 14339, '책임자': 14340, '상사병': 14341, '상단': 14342, '랍니': 14343, '포토': 14344, '이어붙혔는': 14345, '접수': 14346, '잼임': 14347, '간촐하': 14348, '뺴곤': 14349, '봉사자': 14350, '적국': 14351, '블레어': 14352, '타치라': 14353, '가유': 14354, '하나같다': 14355, '경비원': 14356, '시공': 14357, '가담': 14358, '쫘': 14359, '런던': 14360, '점준놈': 14361, '세탁': 14362, '양제': 14363, '가뿐하다': 14364, '딸바보': 14365, '최민수': 14366, '에밋': 14367, '왕호': 14368, 'ㅜㅠㅡ': 14369, '쥐어박다': 14370, '바로크': 14371, '우회': 14372, '철갑': 14373, '재창': 14374, '애플랙': 14375, '최신영': 14376, '이기선': 14377, '토의': 14378, '추방': 14379, '침실': 14380, '강렬': 14381, '켄트': 14382, '크림슨': 14383, '복병': 14384, '법성': 14385, '솜방망이': 14386, '각목': 14387, '개월전': 14388, '찬란': 14389, '존엄': 14390, '짊어질': 14391, 'ㅆㅑㅇ': 14392, '좌편향': 14393, '반대쪽': 14394, '성역': 14395, '김광주': 14396, '북조선': 14397, '노동당': 14398, '부서': 14399, '난리치다': 14400, '북핵': 14401, '통일한국': 14402, '국방력': 14403, '군사정권': 14404, '노태우': 14405, '좌익': 14406, '건국': 14407, '평화협정': 14408, '보상금': 14409, '재건': 14410, '심야시간': 14411, '뿅뿅': 14412, '전인': 14413, '대선': 14414, '사찰': 14415, '국정원장': 14416, '씨줄': 14417, '이갑': 14418, '놨는': 14419, '공화국': 14420, '이창환': 14421, '이진수': 14422, '쥐색': 14423, '시차': 14424, '서안': 14425, '운항': 14426, 'ㅠㅜㅜ': 14427, '치켜세우다': 14428, '개역': 14429, '제소': 14430, '캬악퉤': 14431, '윤발': 14432, '어찌저찌': 14433, '퍼용': 14434, '미비하다': 14435, '박한별': 14436, '송지효': 14437, '양으로': 14438, '쫄딱': 14439, '재밋슴니': 14440, '아런거': 14441, '던뎅': 14442, '느껴졋': 14443, '노벨상': 14444, '유고': 14445, '짜증스럽다': 14446, '단배': 14447, '고거': 14448, '워킹데드': 14449, '슬람': 14450, '비서': 14451, '개간': 14452, '결연하다': 14453, 'ㅠㅠㅠㅠㅠㅠㅠㅠㅠ': 14454, '암튼잼슴': 14455, '톡톡하다': 14456, '피리': 14457, '환생': 14458, '트레일러': 14459, '팜플렛': 14460, '탄원서': 14461, '밀당': 14462, '버무러진': 14463, '라라라': 14464, '꽁냥꽁': 14465, '취존일수': 14466, '디져트': 14467, '안성맞춤': 14468, '김아중': 14469, '업종': 14470, '래드핏': 14471, '학력': 14472, '신데렐라': 14473, '예리하다': 14474, '모래알': 14475, '성합': 14476, '비폭력': 14477, '팝업창': 14478, '액션스탯': 14479, '유탄발사기': 14480, '반찬': 14481, 'ㄷㅈ': 14482, '점성술사': 14483, '조제': 14484, '태흥': 14485, '고풍': 14486, '친년': 14487, '색체굿굿': 14488, '라오': 14489, '파란만장하다': 14490, '성삼위일체': 14491, '적그리스도': 14492, '상층': 14493, '샘숭': 14494, '쉬쉬': 14495, '알짝': 14496, '좋곘다': 14497, '수칙': 14498, '얼레': 14499, '임나': 14500, '방문': 14501, '배신자': 14502, '뭔뎈': 14503, '루비': 14504, '미추': 14505, '도피': 14506, '군중': 14507, '묵음': 14508, '애정결핍': 14509, '강물같이': 14510, '멍울': 14511, '방임': 14512, '범죄물': 14513, '겁나욱곀': 14514, '내려앉다': 14515, '스코시': 14516, '딱어': 14517, '손아귀': 14518, '동도': 14519, '부심': 14520, '어밴져스': 14521, '넷플영화': 14522, '천상계': 14523, '듯년': 14524, '사뭇': 14525, '위고': 14526, '장고': 14527, '박평식': 14528, '때기': 14529, '워쇼스키': 14530, '끝물': 14531, '년초': 14532, '노려보다': 14533, '잘뽑다': 14534, '냉장고': 14535, '마늘': 14536, '피봄': 14537, '판테라': 14538, '씨디': 14539, '이쁘댜': 14540, 'ㅇㅈㅇㅈ': 14541, '짱재밋음': 14542, '거늘': 14543, '돈앞': 14544, '미첬다': 14545, '샨': 14546, '더락': 14547, '조선영': 14548, '탄성': 14549, '오픈닝': 14550, '유기농': 14551, '쎄헤': 14552, '밍': 14553, '움불': 14554, '극락왕생': 14555, '데이몬': 14556, '잼잇어욬': 14557, '쿠쿠': 14558, '공리주의': 14559, '양옆': 14560, '꿈나라': 14561, '하노': 14562, '충치': 14563, '대문짝만하다': 14564, '어유': 14565, '발란스': 14566, '분체': 14567, '박효주': 14568, '그남자': 14569, '앞길': 14570, '부처님': 14571, '간증': 14572, '걸렀습니': 14573, '연출씬': 14574, '찬합': 14575, '무궁무진': 14576, '이태임': 14577, '감실': 14578, '얌': 14579, '적중': 14580, '광명': 14581, '기품': 14582, '간지럽다': 14583, 'ㅇㅓㅜㅜ': 14584, '이태': 14585, '황홀경': 14586, '시점샷': 14587, '나그네': 14588, '마더': 14589, '감마': 14590, '품평': 14591, '기겁': 14592, '조현병': 14593, '병인': 14594, '거더': 14595, '빅픽쳐': 14596, '색기': 14597, '잘불르다': 14598, '답글': 14599, '돌대가리': 14600, '뺴애애': 14601, 'ㅐㅇㄱ': 14602, '명치': 14603, '마렵': 14604, '속죄': 14605, '학기': 14606, '합법': 14607, '내딛다': 14608, '료초': 14609, '합창': 14610, '준호': 14611, '안무': 14612, '개쫄림': 14613, '개볼': 14614, '마커스': 14615, '항공기': 14616, '휘재': 14617, '재석': 14618, '삼총사': 14619, '당선': 14620, '해군기지': 14621, '건설': 14622, '하이큐': 14623, '사쿠사': 14624, '후쿠로': 14625, '득점': 14626, '맘애': 14627, '일직': 14628, '도우미': 14629, '시온': 14630, '평면': 14631, 'ㅋㅎ': 14632, '악성댓글': 14633, '세이브': 14634, '해감': 14635, '망나니': 14636, '슬렁슬렁': 14637, '다짜고짜': 14638, '꽥꽥': 14639, '남학생': 14640, '공책': 14641, '정실': 14642, '질환': 14643, '김우식': 14644, '긍적적': 14645, '편식': 14646, '빗나가다': 14647, '부자간': 14648, '집행': 14649, '세시': 14650, '잣엇': 14651, '미국빠': 14652, '멋찜': 14653, '증폭': 14654, '임창정': 14655, '마구잡이': 14656, '유상철': 14657, '쾌유': 14658, '매튜': 14659, '자레드': 14660, '레토': 14661, '승객': 14662, '구찌': 14663, '프랭크': 14664, '훨훨': 14665, '희극': 14666, '가희': 14667, '최오': 14668, '결벽증': 14669, '없고쒸레기': 14670, '궤변': 14671, '어불성설': 14672, '마따나': 14673, '라고까지': 14674, '박애': 14675, '일터': 14676, '아득하다': 14677, '대환영': 14678, '가입자': 14679, '깜짱물': 14680, '꼇': 14681, '안장': 14682, '서고': 14683, '에헷거리': 14684, '퇴행': 14685, '주식': 14686, '을사': 14687, '산재': 14688, '바랬으': 14689, '못만듬': 14690, '실천': 14691, '최고급': 14692, '파탄': 14693, '유하나': 14694, '헬보이': 14695, '거르시길': 14696, '월말': 14697, '둘러대다': 14698, '관념': 14699, '놀랏어': 14700, '결부': 14701, '캐모마일': 14702, '기능': 14703, '왕가위': 14704, '장만옥': 14705, '채색': 14706, '담옴': 14707, '중위': 14708, '클로드': 14709, '염려': 14710, '짜쯩': 14711, 'ㅎㅎㅋㅋ': 14712, '헤드뱅잉': 14713, '운빨': 14714, '찜찜': 14715, '견줄만하': 14716, '스텐': 14717, '초원': 14718, '직진': 14719, '집대성': 14720, '종특': 14721, '적정': 14722, '미사일': 14723, '종말': 14724, '극소': 14725, '축척': 14726, '훈륭하': 14727, '포맷': 14728, '타임리스': 14729, '휘유': 14730, '범작': 14731, '테라': 14732, '고다': 14733, '웅하': 14734, '박진영': 14735, '어떠케': 14736, '머금': 14737, '산만': 14738, '스펙트럼': 14739, '자화상': 14740, '모바일': 14741, '쭈우우욱': 14742, '일분': 14743, '조심스럽다': 14744, '흘러내리다': 14745, '의항': 14746, '기주': 14747, '매회': 14748, '폭풍눈물': 14749, '으아아': 14750, '요다음': 14751, '스코필트': 14752, '코코': 14753, '칠정': 14754, '토함': 14755, '조속': 14756, '모방': 14757, '설키': 14758, '펄풱': 14759, '다바람': 14760, '둥이': 14761, '아숩': 14762, '스파': 14763, '야경': 14764, '안되겄다': 14765, '정취': 14766, '보스턴': 14767, '하래': 14768, '안봤슴': 14769, '환경범죄': 14770, '실물': 14771, '에이스': 14772, '만듭': 14773, '살곸': 14774, '벨붕': 14775, '똘똘뭉친': 14776, '너무듬': 14777, '잦다': 14778, '암암리': 14779, '같음둠칫둠칫': 14780, '이난': 14781, '프로젝터': 14782, '아니렀': 14783, '신대륙': 14784, '모이': 14785, '홀리': 14786, '쉿': 14787, '애꾸': 14788, '구식': 14789, '형도': 14790, '본래': 14791, '사내아이': 14792, '계집아이': 14793, '눌리': 14794, '옥상씬': 14795, '개폼': 14796, '부조화': 14797, '오한': 14798, '뿌옇다': 14799, '자켓': 14800, '쫄린건': 14801, '순덕': 14802, '동거': 14803, '레디': 14804, '플레이어': 14805, '플하': 14806, '분울': 14807, '원활하다': 14808, '레슬리보': 14809, '물랑루즈': 14810, '웅웩': 14811, '분나': 14812, '락말락': 14813, '고마': 14814, '능청': 14815, '콘': 14816, '페이스오프': 14817, '맺힌다': 14818, '신하균': 14819, '딱지': 14820, '수퍼히어로': 14821, '개쪽': 14822, '이기만': 14823, '앨런': 14824, '튜링': 14825, '카게무샤': 14826, '모노노케히메': 14827, '레드소냐': 14828, '쭈구리': 14829, '투쁠': 14830, '사료': 14831, '화재': 14832, '쉬쇼': 14833, '망또': 14834, '부딪치다': 14835, '단촐': 14836, '루고': 14837, '핵졸잼': 14838, '가치판단': 14839, '환풍기': 14840, '희망고문': 14841, '비법': 14842, '황정리': 14843, '곽원갑': 14844, '까다롭다': 14845, '양극화': 14846, '숙제': 14847, '상달': 14848, '효주': 14849, '음기': 14850, '알권리': 14851, '남여': 14852, '만들엇으': 14853, '해주시': 14854, '퍽퍽': 14855, '일목요연하다': 14856, '빽빽하다': 14857, '이영': 14858, '백과사전': 14859, '무력': 14860, '이사회': 14861, '염민': 14862, '정은': 14863, '로맨틱코미디': 14864, '여혐': 14865, '빼액': 14866, '볼륜': 14867, '둔갑': 14868, '파산하다': 14869, '집단소송': 14870, '버숭': 14871, '이채': 14872, '갑지': 14873, '토닥토닥': 14874, '흐음': 14875, '장단': 14876, '입학': 14877, '졸업사진': 14878, '날임': 14879, '주머니': 14880, '가정불화': 14881, '꺠': 14882, '편살': 14883, '방광': 14884, '더낫': 14885, '릏': 14886, '토이스토리': 14887, '추스려': 14888, '우디앨런': 14889, '겨땀': 14890, '심해지다': 14891, '항문': 14892, '경련': 14893, '뒷돈': 14894, '제약': 14895, '까지라고': 14896, '봤네욤': 14897, '견자댠': 14898, '멋쩌': 14899, '오해해': 14900, '무무': 14901, '저저': 14902, '개집': 14903, '주씨': 14904, '으엌': 14905, '동윤': 14906, '데체': 14907, '이하나': 14908, '원가': 14909, '안느': 14910, '어렷을적': 14911, '좀감': 14912, '메아리': 14913, '드글드글': 14914, '봄비': 14915, '토너': 14916, '클린트': 14917, '패준': 14918, '로버트': 14919, '체중': 14920, '패시': 14921, '진출': 14922, '미녀삼총사': 14923, '끝넬수': 14924, '홀릭되': 14925, '스나이퍼': 14926, '에이즈': 14927, '아이언하이드': 14928, '대인': 14929, '파이터': 14930, '위만': 14931, '애둘': 14932, '칠월': 14933, '어머님': 14934, '압수': 14935, '서평': 14936, '송이': 14937, '체코': 14938, '판박이': 14939, '몰이': 14940, '혐일': 14941, '징애': 14942, '완치': 14943, '북받치다': 14944, '은위빠': 14945, '그었다': 14946, '빅픽처': 14947, '건방지다': 14948, '아레레': 14949, '우디': 14950, '지지리': 14951, '비방': 14952, '땡처리': 14953, '대폭소': 14954, '별명': 14955, '갉아먹다': 14956, '차도': 14957, '획기': 14958, '실생활': 14959, '담력': 14960, '써클': 14961, '빨림': 14962, '기립': 14963, '화점': 14964, '재밋게봣습니': 14965, '꼭꼭': 14966, '델고와': 14967, '음침': 14968, '직할': 14969, '정책': 14970, '가벼이': 14971, '으뜸': 14972, '달아봣다': 14973, '재밋던': 14974, '돈땜': 14975, '터미널': 14976, '쫄았어': 14977, '양호': 14978, '불쌍혀': 14979, '똑바르다': 14980, '마루': 14981, '벼루': 14982, '디디': 14983, '쩌러': 14984, '음역': 14985, '삭히다': 14986, '삐지다': 14987, '최우': 14988, '잇몸': 14989, '뜨끔하다': 14990, '텀블러': 14991, '레트로': 14992, '곡선': 14993, '모빌': 14994, '우적': 14995, '줄무늬': 14996, '에릭': 14997, '사티': 14998, '어브': 14999, '펭귀': 15000, '관개': 15001, '년일': 15002, '호흡기': 15003, '뜨솬다': 15004, '바끼': 15005, '분리수거': 15006, '놧다': 15007, '용의': 15008, '기출': 15009, '정성스럽다': 15010, '밋는': 15011, '민속촌': 15012, '강분': 15013, '황종': 15014, '애호가': 15015, '시크릿': 15016, '가든': 15017, '재밋뜨': 15018, '강하': 15019, '섬찟하다': 15020, '지우개': 15021, '쌔': 15022, '능지처참': 15023, '이졔': 15024, '정은경': 15025, '장선': 15026, '차곡차곡': 15027, '다리씬': 15028, '유신': 15029, '부마사태': 15030, '김연자': 15031, '뚝방전설': 15032, '산책': 15033, '심상': 15034, '검시관': 15035, '판사': 15036, '피들스틱': 15037, '값싸다': 15038, '상흔': 15039, '이장': 15040, '스탭들': 15041, '거제도': 15042, '남년': 15043, '거봣': 15044, '죽엇을떄': 15045, '감식': 15046, '코끼리': 15047, '무쩍': 15048, '무더기': 15049, '해독제': 15050, '호선': 15051, '발가벗기다': 15052, '함뿍': 15053, '개강': 15054, '뽀삐': 15055, '분한': 15056, '신혼': 15057, '병아리': 15058, '쌀뻔햇음': 15059, '우짜': 15060, '출항': 15061, '선장': 15062, '행크': 15063, '톰이였써': 15064, '퍈집': 15065, '임분': 15066, '부다페스트': 15067, '무드': 15068, '인디고': 15069, '틈틈하다': 15070, '확대': 15071, '지끈': 15072, '바퀴': 15073, '매춘부': 15074, '도서관': 15075, '이래도': 15076, '핳': 15077, 'ㅂㄹ': 15078, '반죽': 15079, '온종일': 15080, '면밀하다': 15081, '강권': 15082, '얄짤없': 15083, '하등': 15084, '지척': 15085, '좇는': 15086, '바로미터': 15087, '유혈': 15088, '낭자': 15089, '버무러': 15090, '검심': 15091, '루킹': 15092, '유미': 15093, '풀샷': 15094, '왈가': 15095, '왈부': 15096, '공직자': 15097, '언론인': 15098, '회중': 15099, '보트': 15100, '흘럿다': 15101, '탄력': 15102, '헐겁다': 15103, '현직': 15104, '임상병리사': 15105, '유노': 15106, '중박': 15107, '신입': 15108, '예여': 15109, '데이토나': 15110, '머리털': 15111, '보기잼잇엇어': 15112, '봤는뎁': 15113, '여우': 15114, '목구멍': 15115, '이치고': 15116, '섭리': 15117, '길일': 15118, '길들다': 15119, '외형': 15120, '분과': 15121, '예원': 15122, '거울': 15123, '두세': 15124, '신빙': 15125, '초재': 15126, '카톨릭': 15127, '나현희': 15128, '슬펏어': 15129, '긴런닝타임땜': 15130, '크킨크': 15131, '나루토': 15132, '짐살': 15133, '게뭐임': 15134, '쥬라기': 15135, '꿍': 15136, '그람': 15137, '굶어죽엇을듯': 15138, '어딧': 15139, '개존': 15140, '로큰롤': 15141, '시디': 15142, '빛과': 15143, '편점': 15144, '여자아이': 15145, '나와잉': 15146, '쥬뭐쥬': 15147, '왜압듀': 15148, '황상': 15149, '똥망작': 15150, '오호': 15151, '다관': 15152, '억수': 15153, '장안동': 15154, '심령': 15155, '레타커윅': 15156, '코리안': 15157, '퉤퉷': 15158, '드케': 15159, '왓느': 15160, '롤코': 15161, '짤린': 15162, '넷플없': 15163, '못듭니': 15164, '초심': 15165, '폐혜': 15166, '간략하다': 15167, '서한': 15168, '제나': 15169, '전차': 15170, '시시비비': 15171, '모레': 15172, '예순': 15173, '나리': 15174, '사고력': 15175, '고추가': 15176, '옛말': 15177, '작고': 15178, '체구': 15179, '맷집': 15180, '영락': 15181, '동쪽': 15182, '유대': 15183, '예감': 15184, '꼴라주': 15185, '아마자케': 15186, '케이크': 15187, '시루떡': 15188, '숭유억불정책': 15189, '한인': 15190, '유입': 15191, '주축': 15192, '총공격': 15193, '재결합': 15194, '냨': 15195, '재법': 15196, '엎을수': 15197, '남궁현': 15198, '잘버': 15199, '모오든': 15200, '찌렸다': 15201, '벽장': 15202, '다큐맨': 15203, '터리': 15204, '에리얼': 15205, '흙내': 15206, '나돌다': 15207, '고속': 15208, '이따금': 15209, '난걸': 15210, '낚일순': 15211, '쯥': 15212, '옥시레킷벤키저': 15213, '땀날': 15214, '이듬': 15215, '첫키스': 15216, '배포': 15217, '조명등': 15218, '구태여': 15219, '귀결': 15220, '짜르': 15221, '운전자': 15222, '장전': 15223, '갈겨': 15224, '헉헉': 15225, '부고': 15226, '불리하다': 15227, '중핵교': 15228, '이글이글': 15229, '간신': 15230, '굶주리다': 15231, '난역': 15232, '곁눈질': 15233, '제스쳐': 15234, '퍼주': 15235, '륜': 15236, '풍족하다': 15237, '벨기에': 15238, '이탈리아': 15239, '덕택': 15240, '내전': 15241, '짠물': 15242, '노틀담': 15243, '모금': 15244, '꼬락서니': 15245, '끼들': 15246, '티어': 15247, '가랜다': 15248, '기이': 15249, '일가': 15250, '엄': 15251, '초첨': 15252, '국뽕거': 15253, '썽': 15254, '감주': 15255, '서일': 15256, '어폐': 15257, '상호작용': 15258, '록웰': 15259, '처칠': 15260, '히틀러': 15261, '체임': 15262, '포카리스웨트': 15263, '순딩순딩': 15264, '거렸음': 15265, '에까지': 15266, '불법체류자': 15267, '무하마드': 15268, '깡촌': 15269, '찬장': 15270, '통가': 15271, '다랑어': 15272, '차서': 15273, '배합': 15274, '묠디르': 15275, '점점이': 15276, '솟을': 15277, '인용': 15278, '무용지물': 15279, '체험판': 15280, '덜남': 15281, '엎드리다': 15282, '양육': 15283, '꽊주': 15284, '어쩡쩍': 15285, '항공모함': 15286, '종이배': 15287, '승냥이': 15288, '출타': 15289, '드리스': 15290, '최배달': 15291, '쿵풍': 15292, '거만하다': 15293, '저림': 15294, '비겁하다': 15295, '지옹': 15296, '애매': 15297, '머피': 15298, '티스푼': 15299, '구부리': 15300, '작업실': 15301, '유리창': 15302, '부딫히': 15303, '불나방': 15304, '상류': 15305, '차례차례': 15306, '인후': 15307, '머그': 15308, '뚱땡이': 15309, '간질간질': 15310, '편안': 15311, '정치가': 15312, '전선': 15313, '내해': 15314, '세라믹': 15315, '고마움': 15316, '숨결': 15317, '가연': 15318, '쩌네': 15319, '난기': 15320, '단번': 15321, '신호': 15322, '잔소리': 15323, '상호': 15324, '졸잼졸잼': 15325, '보눈데': 15326, '상영작': 15327, '청중': 15328, '중벌': 15329, '거해': 15330, '대머리': 15331, '영화셔': 15332, '자갈': 15333, '누구껍': 15334, '비몽': 15335, '걍미쳣네': 15336, '또봣어': 15337, '백만이': 15338, '간당간당': 15339, '교의': 15340, '도상': 15341, '불도': 15342, '고구': 15343, '패자': 15344, '처분': 15345, '트리플': 15346, '프런티어': 15347, '유통': 15348, '떄리다': 15349, '퐐': 15350, '벌떡': 15351, '어메': 15352, '리칸': 15353, '소형차': 15354, '통보': 15355, '쓰레긴디': 15356, '미적분': 15357, '상표': 15358, '치루': 15359, '사방': 15360, '와이어': 15361, '뉴스데스크': 15362, '읍음': 15363, '천만원': 15364, '저축': 15365, '술판': 15366, '꼴봬기': 15367, '기기괴괴': 15368, '취저임': 15369, '해봣자': 15370, '으스스하다': 15371, '향가': 15372, '적기': 15373, '탁치': 15374, '입구씬': 15375, '문체부': 15376, '벤처기업': 15377, '보은': 15378, '유영주': 15379, '박영선': 15380, '미취': 15381, '묵다': 15382, '루뷔': 15383, '이통': 15384, '낭송': 15385, '소가': 15386, '스토리보드': 15387, '라든지': 15388, '데자뷰': 15389, '이해만': 15390, '의중': 15391, '이든지': 15392, '강탈': 15393, '김선': 15394, '저격수': 15395, '국가대표': 15396, '최동훈': 15397, '여제': 15398, '해밀턴': 15399, '모호': 15400, '사후세계': 15401, '뭉클대': 15402, '자존감': 15403, '밥처': 15404, '어런거': 15405, '명상': 15406, '희서': 15407, '힙': 15408, '델루': 15409, '놀래킴': 15410, '찌찌': 15411, '오마에': 15412, '두상': 15413, '큼직하다': 15414, '와카': 15415, '속뜻': 15416, '재정': 15417, '작픔': 15418, '다스리다': 15419, '삼삼하다': 15420, '합당': 15421, '보탠다': 15422, '텍스트': 15423, '후일담': 15424, '졸귀탱': 15425, '업햄': 15426, '개뿜었다': 15427, '저작권': 15428, '디럭스': 15429, '웅덩이': 15430, '울산': 15431, '여고': 15432, '경마': 15433, '차각': 15434, '비굴하다': 15435, '서극': 15436, '그르렁': 15437, '철컥': 15438, '봤숩니': 15439, '숨바꼭질': 15440, '전설의고향': 15441, '사슬': 15442, '대역': 15443, '일화': 15444, '불성실하다': 15445, '원동력': 15446, '쫀다': 15447, '출판사': 15448, '염불': 15449, '뜨끈하다': 15450, '안드': 15451, '준열씌': 15452, '홍진경': 15453, '김영희': 15454, '자이언티': 15455, '올드팝': 15456, '같은뎈': 15457, '쇄': 15458, '선곡': 15459, 'ㅜㅡㅡ': 15460, '크으': 15461, '싶을떄': 15462, '땅크': 15463, '스럴러': 15464, '측은하다': 15465, '화관': 15466, '부당하다': 15467, '제격': 15468, '상쇄합니': 15469, '도즈야': 15470, '본명': 15471, '극일': 15472, '하말': 15473, '덜컥': 15474, '같이나': 15475, '브루': 15476, '아이지': 15477, '시각장애인': 15478, '프로그래밍': 15479, '종착': 15480, '가은': 15481, '배용준': 15482, '널브러져': 15483, '동기부여': 15484, '뚱땅뚱땅': 15485, '재밋게봄': 15486, '비기닝': 15487, '장용영': 15488, '시원시원': 15489, '코만도': 15490, '들쭉날쭉': 15491, '대중교통': 15492, '것일': 15493, 'ㅡㅡㄱ': 15494, '카르페디엠': 15495, '애증': 15496, '발달': 15497, '갘': 15498, '존웃': 15499, '랩스': 15500, '곁가지': 15501, '칼라': 15502, '집결': 15503, '안봣다': 15504, '흩다': 15505, '스타크': 15506, '계획성': 15507, '처럼만': 15508, '훈훈': 15509, '컴백': 15510, '이과': 15511, '뭘더': 15512, '도참': 15513, '재밎': 15514, '찻길': 15515, '포스트': 15516, '대강': 15517, '총사': 15518, '백넘버': 15519, '음끝': 15520, '노동자': 15521, '식비': 15522, '인제': 15523, '원통': 15524, '체력': 15525, '노후': 15526, '개겨': 15527, '무릅베': 15528, '다년생': 15529, '볼떄': 15530, 'ㅠㅠㅠㅠㅠㅠㅠㅠㅠㅠㅠㅠㅠㅠ': 15531, 'ㅠㅠㅠㅠㅠㅠㅠㅠㅠㅠ': 15532, '상동': 15533, '초가': 15534, '음악가': 15535, '시행착오': 15536, '장이지': 15537, '재난예방': 15538, '하피': 15539, '멜론': 15540, '노가다': 15541, '수험생': 15542, '로스트': 15543, '더스트': 15544, '성문': 15545, '제출': 15546, '석고': 15547, '대죄': 15548, '긴가민가하다': 15549, '뤼비똥가방': 15550, '반잔': 15551, '반반무': 15552, '방울방울': 15553, '희진': 15554, 'ㄱㄱㄱ': 15555, '얘내': 15556, '테크노': 15557, '딩클스': 15558, '글른듯무섭': 15559, '말쟁이': 15560, '거석': 15561, '독일인': 15562, '실현': 15563, '헤헿': 15564, '년회': 15565, '물정': 15566, '수원': 15567, '어허': 15568, '오브스': 15569, '예뻣다': 15570, '미네': 15571, '반창꼬': 15572, '정진영': 15573, '양동근': 15574, '욕처': 15575, '피부': 15576, 'ㅈㅇㅅ': 15577, '뭔갈': 15578, '잠결': 15579, '멋쟁이': 15580, '까칠하다': 15581, '인격장애': 15582, '현저': 15583, '배일': 15584, '와웅': 15585, '쫄깃쫄깃생각': 15586, '안비': 15587, '비고': 15588, '신경안': 15589, '엇능': 15590, '말다툼': 15591, '양쯔강': 15592, '나일강': 15593, '미시시피강': 15594, '지킴': 15595, '네버': 15596, '워낭소리': 15597, '리타': 15598, '율도': 15599, '평뭐': 15600, '교가': 15601, '빈곤층': 15602, '번열': 15603, '나초': 15604, '으그': 15605, '도화지': 15606, '얼음': 15607, '입틀막': 15608, '언듯': 15609, '식사씬': 15610, '처할떄': 15611, '뽀송뽀송': 15612, '어줍짢': 15613, '한족': 15614, '태권도': 15615, '요염': 15616, '비행선': 15617, '전투복': 15618, '포터': 15619, '소재지': 15620, '무선': 15621, '고저': 15622, '역행': 15623, '살짝살짝': 15624, '결의': 15625, '궂': 15626, '제너럴': 15627, '올드팬': 15628, '목마름': 15629, '채드웍': 15630, '불렛': 15631, '졸도': 15632, '정중': 15633, '거릅니': 15634, '도화': 15635, 'ㅅㅅㅅ': 15636, '보쇼': 15637, '예언': 15638, '도쿄올림픽': 15639, '대공황': 15640, '각지': 15641, '아키': 15642, '핵에너지': 15643, '흉': 15644, '흉하다': 15645, '끼임': 15646, '장영실': 15647, '누빈': 15648, '수시로': 15649, '잡것': 15650, '괴성': 15651, '몸싸움': 15652, '예식': 15653, '상실하다': 15654, '홀로몬': 15655, '그른': 15656, '유래': 15657, '쓰리데이즈': 15658, '예나': 15659, '토착': 15660, '손편지': 15661, '캠': 15662, '패인': 15663, '감치': 15664, '퍼붓다': 15665, '줄때': 15666, '자연스럼': 15667, '흟리': 15668, '처음처럼': 15669, '게이샤': 15670, '재시': 15671, '사발': 15672, '공법': 15673, '피비': 15674, '리우': 15675, '넥': 15676, '쌋어': 15677, '우매': 15678, '으윽': 15679, '총살': 15680, '딴딴하다': 15681, '산악': 15682, '화구': 15683, '붕떠': 15684, '파파': 15685, '적자': 15686, '감죽': 15687, '아담': 15688, '환청': 15689, '돈좀': 15690, '빌뇌브': 15691, '여념': 15692, '낙지': 15693, '어메리카': 15694, '겐': 15695, '점령': 15696, '선진국': 15697, '방증': 15698, '가증': 15699, '예찬': 15700, '어럽다': 15701, '바랬네': 15702, '통통하다': 15703, '개쫄렸는데': 15704, '만지작거리다': 15705, '잠그다': 15706, '종알': 15707, '현악기': 15708, '성가시다': 15709, '대꾸': 15710, '불가피하다': 15711, '어딜': 15712, '쪼금': 15713, '최종만': 15714, '딩': 15715, '워터파크': 15716, '실러': 15717, '핵핵핵': 15718, '야외': 15719, '목걸이': 15720, '애지중지': 15721, '대응': 15722, '곳도': 15723, '육수': 15724, '헛되이': 15725, '시책': 15726, '괜객들': 15727, '뉴욕시티': 15728, '버냉키': 15729, '의장': 15730, '후임': 15731, '무제한': 15732, '살포': 15733, '신문사': 15734, '아베노믹스': 15735, '양적완화': 15736, '레디에이터': 15737, '락덕들': 15738, '오슽': 15739, '스콜피온스': 15740, '언뜻': 15741, '면역': 15742, '요법': 15743, '쿵쿵': 15744, '샤이민': 15745, '훨심': 15746, '꾸뻬씨': 15747, '행복여행': 15748, '봉테': 15749, '납골당': 15750, '멤버십': 15751, '까지와': 15752, '송영창': 15753, '잊어버리다': 15754, '윌터': 15755, '퉁판': 15756, '신도시': 15757, '버세': 15758, '배진': 15759, '혁': 15760, '재밋데': 15761, '초저녁': 15762, '질실': 15763, '초대형': 15764, '권위자': 15765, '맹활약': 15766, '말고도': 15767, '젛문': 15768, '버블경제': 15769, '융': 15770, '단위': 15771, '배성진': 15772, '명보': 15773, '중산층': 15774, '더없이': 15775, '강당': 15776, '못청': 15777, '할갑다': 15778, '기범': 15779, '심재민': 15780, '권오석': 15781, '난처하다': 15782, '렸': 15783, '존똑': 15784, '레이디스': 15785, '킼킼킼': 15786, '소녀시절': 15787, '캐바케': 15788, '드림걸스': 15789, '마담': 15790, '자유분방하다': 15791, '레몬': 15792, '사탕': 15793, '에서와': 15794, '패가': 15795, '폭포수': 15796, '유창하다': 15797, '미스캐스팅': 15798, '벽안': 15799, '줏어온': 15800, '이질': 15801, '앨렌': 15802, '땀날정': 15803, 'ㄲㅋㄱㄱ': 15804, '노쟁': 15805, '편성': 15806, '관땜': 15807, '쓰르기': 15808, '굿말': 15809, '동족': 15810, '벤애플릭': 15811, '편차': 15812, '티란': 15813, '티노': 15814, '학원물': 15815, '교도': 15816, '무국': 15817, '효자': 15818, '어두컴컴': 15819, '국보': 15820, '제하': 15821, '고소공포증': 15822, '송송': 15823, '상쇄시켜준': 15824, '단원': 15825, '토요명화': 15826, '엽총': 15827, '개낚였네이': 15828, '대딩': 15829, '뉘집': 15830, '껄껄': 15831, '촴': 15832, '칼춤': 15833, '교육영화': 15834, '굳어지다': 15835, '비담': 15836, '멸': 15837, '팰': 15838, '계집': 15839, '오개': 15840, '살발': 15841, 'ㅠㅜㅠ': 15842, '캐스트': 15843, '레아': 15844, '안경': 15845, '간간이': 15846, '전판': 15847, '멍청': 15848, '솔직': 15849, '끼니': 15850, '때마': 15851, '상쇄': 15852, '빅쇼': 15853, '천천이': 15854, '체벌': 15855, '항우': 15856, '개일': 15857, '단박': 15858, '뜸금': 15859, '아영': 15860, '메이커': 15861, '괜스레': 15862, '불콰하': 15863, '성립': 15864, '분쟁': 15865, '저해': 15866, '선입견를': 15867, '직선': 15868, '휘청거리다': 15869, '면알': 15870, '수컷': 15871, '조지나': 15872, '뱅뱅': 15873, '릴레이': 15874, '그랫음그닥': 15875, '대폭': 15876, '하먄': 15877, '불륨': 15878, '문자': 15879, '보내오다': 15880, '상상씬': 15881, '단다': 15882, '강추템': 15883, '다리미': 15884, '구김살': 15885, '주름살': 15886, '국판': 15887, '남다름': 15888, '광학': 15889, '주안': 15890, '배잼': 15891, '워커': 15892, '베끼': 15893, '오비': 15894, '유사': 15895, '할리데이비슨': 15896, '전쟁씬': 15897, '열망': 15898, '앤해서웨이': 15899, '깽깽': 15900, '프라잉팬': 15901, '태프론': 15902, '텔레포트': 15903, '또첨': 15904, '포르쉐': 15905, '회차때': 15906, '이시고': 15907, '스위트룸': 15908, '출국': 15909, '꽉꽉': 15910, '번봄': 15911, '강추추': 15912, '역사스페셜': 15913, '에로물': 15914, '김민재': 15915, '멍충': 15916, '뷰티': 15917, '전진': 15918, '반어법': 15919, '왜도': 15920, '거인': 15921, '이경규': 15922, '복면': 15923, '달호': 15924, '퉷': 15925, '단합': 15926, '포용심': 15927, '일삼': 15928, '교통비': 15929, '가조': 15930, 'ㅠㅜㅎ': 15931, '될껄': 15932, '오라': 15933, 'ㄷㅗㄷ': 15934, '쾌거': 15935, '나비': 15936, '여전': 15937, '어짜': 15938, '두사부일체': 15939, 'ㅠㅠㅠㅠㅠㅠㅠ': 15940, '어렷을때': 15941, '기피': 15942, '정국': 15943, '메인보컬': 15944, '전정국': 15945, '하드보일드': 15946, '심장쫄깃해': 15947, '떨치다': 15948, '대인기피증': 15949, '리채': 15950, '왜바': 15951, '촬영기': 15952, '불소': 15953, '어케찍': 15954, '더재밋음': 15955, '봄타다': 15956, '간접흡연': 15957, '생리': 15958, '하타': 15959, '이사오': 15960, '무럭무럭': 15961, '폭력배': 15962, '심호흡': 15963, '베란다': 15964, '게더': 15965, '쪼기': 15966, '전문대': 15967, '보는럿': 15968, '전정': 15969, '일렬': 15970, '빠따질': 15971, '롱런': 15972, '하의': 15973, '치즈': 15974, '팔리다': 15975, '가랑비': 15976, '치룬것': 15977, '강추임': 15978, '블랭키': 15979, '케이프': 15980, '오인': 15981, '아쥬': 15982, 'ㅜㅜㅠㅠ': 15983, '바사삭': 15984, '헀으': 15985, '가위': 15986, '치조': 15987, '빈공간': 15988, '혼잣말': 15989, '초상화': 15990, '화창하다': 15991, '난린데': 15992, '유전자': 15993, '도축': 15994, '업계': 15995, '닭백숙': 15996, '비틀': 15997, '왜케평점': 15998, '출근길': 15999, '난감': 16000, '한술': 16001, '악일': 16002, '이유나': 16003, '왜등': 16004, '음영': 16005, '장풍': 16006, '등뒤': 16007, '질의': 16008, '재력': 16009, '지력': 16010, '신기원': 16011, '블런드': 16012, '괴짜': 16013, '인터폰': 16014, '캐서린': 16015, '쌀쌀': 16016, '빗': 16017, '꿈을좇음': 16018, '너구리': 16019, '선입견들': 16020, '무뎌': 16021, '콩닥콩닥': 16022, '가산': 16023, '걸루': 16024, '허우적거리다': 16025, '홈런': 16026, '휙': 16027, '올려다보다': 16028, '등빨': 16029, '옆통': 16030, '씩씩대다': 16031, '와장창': 16032, '승질': 16033, '스윗': 16034, '추리물': 16035, '명탐정': 16036, '발자취': 16037, '이자나': 16038, '로주': 16039, '배은망덕': 16040, '응급실': 16041, '실금': 16042, '어부': 16043, '삥': 16044, '행복감': 16045, '징감': 16046, '바염': 16047, '주도': 16048, '중국몽': 16049, '상암': 16050, '마벨': 16051, '캡틴아메리카': 16052, '비호감': 16053, '왜함': 16054, '소니': 16055, '픽쳐스': 16056, '족발': 16057, '넘겨주다': 16058, '버거킹': 16059, '뻘쭘함': 16060, '루크': 16061, '팰퍼틴': 16062, '덟히는거': 16063, '닥쵸': 16064, '의처증': 16065, '현준': 16066, '허성': 16067, '업자': 16068, '중남미': 16069, '댄스': 16070, '조선전쟁': 16071, '수송': 16072, '기뢰': 16073, '극영화': 16074, '중간고사': 16075, '치질': 16076, '확임함': 16077, '빈라덴': 16078, '구형': 16079, '토비': 16080, '맥과이어': 16081, '편집증': 16082, '캔마일스': 16083, '아마겟돈': 16084, '김씨표류기': 16085, '만드심': 16086, '조오오오오': 16087, '미국군': 16088, '달려들다': 16089, '보팔': 16090, '스토커': 16091, '종신형': 16092, '미챴네': 16093, '에단': 16094, '호크': 16095, '덴젤': 16096, '워싱턴': 16097, '반만년': 16098, '문맹': 16099, '인맥': 16100, '벨포트': 16101, '소변': 16102, '찬성': 16103, '크리스탈': 16104, '관능': 16105, '위악': 16106, '연애씬': 16107, '오예': 16108, '어케되는겨': 16109, '크래딧': 16110, '진소리': 16111, '에지': 16112, '간원': 16113, '파멸하다': 16114, '명시': 16115, '토왜': 16116, '베충': 16117, '허전하다': 16118, '헤이로': 16119, '불투명하다': 16120, '말괄량이': 16121, '본업': 16122, '분담': 16123, '자밌': 16124, '낮누': 16125, '끝편': 16126, '인삼': 16127, '장수': 16128, '달팽이': 16129, '전강': 16130, '업글': 16131, '내력': 16132, '지체': 16133, '막내딸': 16134, '즉슨': 16135, '대대로': 16136, '행함': 16137, '글렘': 16138, '리턴': 16139, '채영': 16140, '종구': 16141, '서장': 16142, '손해배상': 16143, '코디': 16144, '미리보기': 16145, '티켓파워': 16146, '오씨': 16147, '이천원': 16148, '초안': 16149, '헐레': 16150, '초이': 16151, '통기타': 16152, '가득가득': 16153, '미키': 16154, '욍': 16155, '지면': 16156, '염치': 16157, '풍랑': 16158, '일편단심': 16159, '전심': 16160, '뿜어져': 16161, '음산하다': 16162, '딴말': 16163, '놀라웟던': 16164, '쐣더': 16165, '풕': 16166, '에반스': 16167, '폭스': 16168, '인수': 16169, '년내': 16170, '샘맨': 16171, '듯디테일': 16172, '고착': 16173, '총대': 16174, '유임': 16175, '켁': 16176, '곤걸': 16177, '프로젝트': 16178, '참여자': 16179, '한당': 16180, '레드카펫': 16181, '오신': 16182, '돈버': 16183, '금세기': 16184, '백설공주': 16185, '팔면': 16186, '훌룡하': 16187, '자리다': 16188, '붕': 16189, '작별': 16190, '김봉두': 16191, '자탄': 16192, '양희은': 16193, '엔드': 16194, '라라비': 16195, '꺄악왜케': 16196, '통곡': 16197, '무딘': 16198, '정도영': 16199, '대체어': 16200, '희모': 16201, '비꼬다': 16202, '막무가내': 16203, '접속': 16204, '풍금': 16205, '너는내운명': 16206, '체질': 16207, '보리차': 16208, '장혁': 16209, '아이피': 16210, '음뭐': 16211, '침중': 16212, '도해': 16213, '가동': 16214, '빠가사리': 16215, '초석': 16216, '예사롭다': 16217, '리포': 16218, '코스트': 16219, '페르시아': 16220, '스파르타': 16221, '빼어나다': 16222, '순이': 16223, '체념하다': 16224, '교토': 16225, '해피앤드': 16226, '함소': 16227, '소한': 16228, 'ㅇㅣ': 16229, '거슬러': 16230, '연어': 16231, '컨져링': 16232, '유기': 16233, '허섭': 16234, '교복': 16235, '치마': 16236, '지성': 16237, '개혁': 16238, '하이스쿨': 16239, '숭숭': 16240, '조짐': 16241, '평전': 16242, '란초': 16243, '드루': 16244, '계열': 16245, '고교시절': 16246, '이직': 16247, '뭐닞': 16248, '일곱': 16249, '학부모': 16250, '수도꼭지': 16251, '개추': 16252, 'ㅇㅗㅏ': 16253, '삼국지': 16254, '엮었을텐데': 16255, '드링킹': 16256, '삐죽다': 16257, '누부': 16258, '란것': 16259, '술수': 16260, '솔목': 16261, '지지도': 16262, '자게': 16263, '장염': 16264, '비장하다': 16265, '위버': 16266, '과학자': 16267, '도출': 16268, '케이티홈즈': 16269, '평안': 16270, '이어진': 16271, '착착': 16272, '디쉬': 16273, '코스': 16274, '쾌락': 16275, '무사하다': 16276, '유사성': 16277, '가여웠': 16278, '란생': 16279, '밑바닥': 16280, '보닌': 16281, '무릅쓰': 16282, '어젯밤': 16283, '쿠데타': 16284, '야킨': 16285, '궁': 16286, '탈환': 16287, '박력': 16288, '대명천지': 16289, '화법': 16290, '피씨': 16291, '푹빠졋어': 16292, '궤찬': 16293, '술탄': 16294, '자파': 16295, '용감': 16296, '키보': 16297, '사모님': 16298, '진격': 16299, '꼴리다': 16300, '딤': 16301, '주요한': 16302, '서곡': 16303, '본론': 16304, '의학': 16305, '포멧': 16306, '선구자': 16307, '빈곤': 16308, '시로': 16309, '초래': 16310, '네임드': 16311, '올스타': 16312, '클로이': 16313, '진땀': 16314, '허영': 16315, '브란젤리나': 16316, '청심환': 16317, '싸운드': 16318, '굿임': 16319, '훼': 16320, '동아': 16321, '가지런하다': 16322, '아랍': 16323, '라틴': 16324, '전생': 16325, '피신': 16326, '님도보': 16327, '가재': 16328, '도랑': 16329, '일석이조': 16330, '대쪽': 16331, '해프': 16332, '머쓱하다': 16333, '유아인': 16334, '청담': 16335, '빙우': 16336, '제구': 16337, '제데로': 16338, '격랑': 16339, '왤케길어': 16340, '구사': 16341, '채홍': 16342, '그니까': 16343, '적인걸': 16344, '뺴': 16345, '첨단': 16346, '아련': 16347, '빅꿀잼': 16348, '헤프': 16349, '생명력': 16350, '심심찮': 16351, '고지전': 16352, '헤르미온느': 16353, '촛점': 16354, '나누기': 16355, '뒤끝': 16356, '징글': 16357, '버기': 16358, '쇼팽': 16359, '장송': 16360, '행진곡': 16361, '낚였네': 16362, '오메': 16363, '와칸': 16364, '스톰브레이커': 16365, '풍비박산': 16366, '감우성': 16367, '넙치': 16368, '중세': 16369, '아스트랄': 16370, '도덕률': 16371, '관습': 16372, '해적': 16373, '꾹꾹': 16374, '은기': 16375, '뻥쩌': 16376, '진껀': 16377, '개슬펏다': 16378, '어기': 16379, '넉': 16380, '혼연': 16381, '로헤이': 16382, '료헤이같': 16383, '무임': 16384, '승차': 16385, '행간': 16386, '트페': 16387, '가스렌지': 16388, '쉐프': 16389, '영농': 16390, '가쓰오부시': 16391, '자재': 16392, '토치': 16393, '장대': 16394, '바로잡히다': 16395, '황금곰상': 16396, '에드워드': 16397, '아음': 16398, '책벌레': 16399, '버킷리스트': 16400, '감오': 16401, '인텔리': 16402, '첨보늬': 16403, '서기': 16404, '일초': 16405, '풀순': 16406, '체인': 16407, '클리쉐': 16408, '트론': 16409, '비전문가': 16410, '인터': 16411, '동갑': 16412, '레겐드': 16413, 'ㅋㅋㅋㅋㅋㅋㅋㅋ': 16414, '생가': 16415, '계급의식': 16416, '고아성': 16417, '잔뜩봣': 16418, '시엔': 16419, '저승': 16420, '희화': 16421, '공작': 16422, '코일': 16423, '꽃탈': 16424, '곰인형': 16425, '좇다': 16426, '웨스턴': 16427, '옛스럽다': 16428, '야바위': 16429, '이민호': 16430, '구게': 16431, '잡념': 16432, '코란': 16433, '자기만족': 16434, '골짜기': 16435, '줄리아': 16436, '로버츠': 16437, '그랜트': 16438, '나볼': 16439, '김송': 16440, '늖': 16441, '무크': 16442, '오락실': 16443, '철로': 16444, '고품': 16445, '꼬르륵': 16446, '렜다': 16447, '욘두': 16448, '요별': 16449, '봄때': 16450, '격었': 16451, '헤드': 16452, '닉네임': 16453, '함보': 16454, '사래': 16455, '질척': 16456, '중학': 16457, '씌레귀': 16458, '김규태': 16459, '에서라도': 16460, '요술': 16461, '얼땡': 16462, '보균자': 16463, '드가': 16464, '이랜': 16465, '월트디즈니': 16466, '미부': 16467, '서클': 16468, '누란': 16469, '홀가분하다': 16470, '살더': 16471, '상숙': 16472, '인프라': 16473, '건의': 16474, '일련': 16475, '뷰': 16476, '직격': 16477, '유급': 16478, '뽰습니': 16479, '스카이워커': 16480, '초창': 16481, '성소수자': 16482, '신드롬': 16483, '잠수병': 16484, '루치': 16485, '미정': 16486, '콤': 16487, '감성지수': 16488, '갈매기': 16489, '유리동물원': 16490, '사천': 16491, '뻣': 16492, '인지부조화': 16493, '바득': 16494, '유식': 16495, '송신': 16496, '저장': 16497, '숨지다': 16498, '통과': 16499, '발족': 16500, '빈국': 16501, '영미': 16502, '정겹다': 16503, '아웅다웅': 16504, '비커밍제인': 16505, '오스틴': 16506, '후년': 16507, '오이지': 16508, '인재': 16509, '봄입': 16510, '퀄부작': 16511, '한솔': 16512, '데이지': 16513, '리들리': 16514, '스크랩': 16515, '나연': 16516, '숨보': 16517, '애킨슨': 16518, '비비': 16519, '외계행성': 16520, '헬멧': 16521, '뒷산': 16522, '폐쇄된': 16523, '깄는데': 16524, '머리스타일': 16525, '아쉬웟': 16526, '객기': 16527, '피곤': 16528, '후비다': 16529, '장교': 16530, '봘': 16531, '이산': 16532, '활발하다': 16533, '밸붕': 16534, '소도시': 16535, '쫓아오다': 16536, '전지전능하다': 16537, '따발총': 16538, '친부모': 16539, '양부모': 16540, '개피': 16541, '라다': 16542, '부관': 16543, '세입': 16544, '물롱': 16545, '견줄만함근': 16546, '멧데먼': 16547, '웅웅거립니': 16548, '호킨스': 16549, '파일럿': 16550, '시상': 16551, '왕왕': 16552, '어두운곳': 16553, '위급': 16554, '해피해피': 16555, '하이힐': 16556, '그라스': 16557, '술병': 16558, '안팍': 16559, '건들': 16560, '뽀록나다': 16561, '독해력': 16562, '래전드': 16563, '지방선거': 16564, '압승': 16565, '카리': 16566, '개독': 16567, '뾰': 16568, '다산': 16569, '함속': 16570, '요동': 16571, '해시': 16572, '펀딩하': 16573, '호화롭다': 16574, '오시': 16575, '노을': 16576, '격리': 16577, '임강': 16578, '후세인': 16579, '겅겅': 16580, '벼르다': 16581, '파서': 16582, '생채기': 16583, '소금': 16584, '헤해헤': 16585, '킁킁': 16586, '애용': 16587, '무식': 16588, '오죽': 16589, '무새': 16590, '하미': 16591, '애애박': 16592, '노크': 16593, '카레이서': 16594, '지리하다': 16595, '쩝쩝': 16596, '쁘락': 16597, '안티': 16598, '센티': 16599, '전속': 16600, '파리목숨': 16601, 'ㅅㅍ': 16602, '장거리': 16603, '스카이폴': 16604, '봤슴': 16605, '교휸': 16606, '징역': 16607, '따른': 16608, '짯': 16609, '돈다': 16610, '볼거': 16611, '김영광': 16612, '저널리즘': 16613, '민정': 16614, '김석': 16615, '여행가': 16616, '엄여': 16617, '뭐얔': 16618, '보꼬': 16619, '아릴': 16620, '쒯': 16621, '비정하다': 16622, '여펀': 16623, '만여': 16624, '찌뿌둥하': 16625, '간단': 16626, '나가시': 16627, '패러독스': 16628, '핑': 16629, '타카라': 16630, '기린': 16631, '그릴': 16632, '일대': 16633, '태양빛': 16634, '이교도': 16635, '환하다': 16636, '고행': 16637, '등지': 16638, '브래맨스': 16639, '위산': 16640, '으러': 16641, '햇슈': 16642, '값좀': 16643, '퍼저': 16644, '자전차': 16645, '발자국': 16646, '왼손': 16647, '찰때': 16648, '소은': 16649, '소음공해': 16650, '조증': 16651, '론데저': 16652, 'ㅐㅠ': 16653, '엉킨': 16654, '흐엥': 16655, '유영철': 16656, '칭하': 16657, '인디영화': 16658, '신앙고백': 16659, '전도사': 16660, '정경': 16661, '마음씨': 16662, '다각도': 16663, '명쪽': 16664, '만가': 16665, '작별인사': 16666, '셰': 16667, '호프': 16668, '삼만리': 16669, '탈수': 16670, '씨네프': 16671, '엿같': 16672, '글렀습니': 16673, '플랜': 16674, '난치': 16675, '격조': 16676, '한국말': 16677, '색광': 16678, '료헤이뿐': 16679, '라따뚜이': 16680, '맞붙다': 16681, '식칼': 16682, '설교': 16683, '운행': 16684, '다감': 16685, '세아': 16686, '입틀막함': 16687, '틀어막다': 16688, '어둑하다': 16689, '김순자': 16690, '면전': 16691, '발언권': 16692, '내분비계': 16693, 'ㄱㅏㅣ': 16694, '레베럽': 16695, '포카': 16696, '예뽀': 16697, '안쪽': 16698, '뭉근히': 16699, '폭풍우': 16700, '괜찬은듯': 16701, '니쁘': 16702, '정기': 16703, '왓다': 16704, '오촌': 16705, '그랙픽떡칠': 16706, '전영': 16707, '옥시': 16708, '성대결절': 16709, '쪼그라지다': 16710, '임금': 16711, '바글바글': 16712, '담요': 16713, '박지': 16714, '제사상': 16715, '마키': 16716, '장녀': 16717, '꼬치': 16718, '칭따오': 16719, '뻑간': 16720, '상보': 16721, '맛특': 16722, '거셋': 16723, '게이물': 16724, '무분별': 16725, '목젓': 16726, '장래희망': 16727, '귀걸이': 16728, '코걸이': 16729, '상일': 16730, '미코': 16731, '감쵝오': 16732, '무의미': 16733, '삼각관계': 16734, '결혼식': 16735, '두꺼비': 16736, '중계': 16737, '안닥': 16738, '페스': 16739, '뻔힌': 16740, '쑈': 16741, '급여': 16742, '제훈': 16743, '초롱초롱': 16744, '메로나': 16745, '사오': 16746, '비누': 16747, '기모찌': 16748, '징창': 16749, '빌어먹을': 16750, '환경호르몬': 16751, '유해': 16752, '중국산': 16753, '터져욭': 16754, '육성': 16755, '분추': 16756, '사정없이': 16757, '후두': 16758, '오우야': 16759, '왕도': 16760, '정함': 16761, '의구': 16762, '품질': 16763, '개졸': 16764, '심리전': 16765, '노르웨이': 16766, '경기도': 16767, '야금야금': 16768, '자락': 16769, '안듭니': 16770, '유지시': 16771, '번인': 16772, '기필코': 16773, '군사정변': 16774, '하는둥': 16775, '포텐터짐': 16776, '참조': 16777, '당사자': 16778, '징계': 16779, '피켓': 16780, '범법': 16781, '윽싸악쓰윽': 16782, '악쓰다': 16783, '윽싹쓰윽': 16784, '쓱싹': 16785, '헐값': 16786, '국수': 16787, '펑점': 16788, '가꾸다': 16789, 'ㅊ': 16790, '줄줄이': 16791, '학대받다': 16792, '드라마틱': 16793, '주춤': 16794, '틈새': 16795, '난더': 16796, '홀린': 16797, '일본만화': 16798, '블랙홀': 16799, '갖친': 16800, '담뿍': 16801, '들개': 16802, '다대': 16803, '이건영': 16804, '어캐만듬': 16805, '무재': 16806, '이규형': 16807, '드라이브': 16808, '뭔들': 16809, '자질': 16810, '위구르인': 16811, '옹박': 16812, '매달': 16813, '가츠오부시': 16814, '옥소': 16815, '믹싱': 16816, '어뢰': 16817, '좌초설': 16818, '탓입': 16819, '방패': 16820, '도의': 16821, '치욕': 16822, '함급': 16823, '늘어서다': 16824, '똥찬': 16825, '버디': 16826, '선샤인': 16827, '겅하': 16828, '소율': 16829, '유연석': 16830, '파리넬리': 16831, '지옥불': 16832, '어쩌고저쩌고': 16833, '쿠로사기': 16834, '미즈시마': 16835, '감응': 16836, '주력': 16837, '해커': 16838, 'ㅅㅄㅂ': 16839, '갑갑하다': 16840, '일본해': 16841, '표기': 16842, '미자': 16843, '가부장제': 16844, '다간': 16845, '고음': 16846, '페렴': 16847, '베니': 16848, '녹화': 16849, '개수': 16850, '한나': 16851, '래드클리프': 16852, '이유진': 16853, '모루': 16854, '수듄': 16855, '개호갱임': 16856, '나지막하다': 16857, '몸뚱': 16858, '귓등': 16859, '플레인': 16860, '제재': 16861, '규모': 16862, '재밋었을까': 16863, '착실하다': 16864, '살피다': 16865, '데번셔': 16866, '곧다': 16867, '저력': 16868, '라고도': 16869, '뉴비': 16870, '어려웁다': 16871, '자장가': 16872, '썸네일': 16873, '아이템': 16874, '문의': 16875, '손잡이': 16876, '재밋엇옼': 16877, '세면대': 16878, '양치질': 16879, '글썽거렸는': 16880, '오드리햅번': 16881, '티피': 16882, '돋아나다': 16883, '꾸릿꾸릿': 16884, '뻐덕뻐': 16885, '부어': 16886, '출품': 16887, '터졋다': 16888, '임수정': 16889, '태식': 16890, '핏줄': 16891, '평정하다': 16892, '아홉': 16893, '닭년': 16894, '고향이': 16895, '럽': 16896, '장기판': 16897, '따먹다': 16898, '부녀': 16899, '퀴즈': 16900, '가필드': 16901, '멋찌': 16902, '한퀴': 16903, '셀비': 16904, '작품하나': 16905, '나왓다': 16906, '겁나씡': 16907, '포효': 16908, '괘씸하다': 16909, '텔링': 16910, '무력감': 16911, '책보': 16912, '녀임': 16913, '접해': 16914, '아뒤': 16915, '은위점': 16916, '스맛폰': 16917, '계심': 16918, '결점': 16919, '액자': 16920, 'ㅛㅠㅠ': 16921, '테넌트': 16922, '절케': 16923, '설킨': 16924, '홍대클럽': 16925, '문란하다': 16926, '뿜': 16927, '샤워': 16928, '이부': 16929, '손호준': 16930, '센서': 16931, '단정': 16932, '서정시': 16933, '찬미': 16934, '미술사': 16935, '칼리토': 16936, '갱생': 16937, '그랜드센트럴': 16938, '버터': 16939, '카커': 16940, '감특': 16941, '내의': 16942, '겐지': 16943, '정남': 16944, '미츠': 16945, '야우리': 16946, '악보': 16947, '드러머': 16948, '드럼': 16949, '수재': 16950, '눈부심': 16951, '썻는': 16952, '버고': 16953, '마이너': 16954, '할떄': 16955, '설움': 16956, '키시': 16957, '유키': 16958, '쪼끄만데': 16959, '대엿': 16960, '풀엇': 16961, '파랗다': 16962, '뮈치겟슴': 16963, '그럭': 16964, '흐트러짐': 16965, '맥도날드': 16966, '온화하다': 16967, '싸움판': 16968, '허그': 16969, '재밋엇다': 16970, '상해': 16971, '준열': 16972, '정보라': 16973, '단말': 16974, '메츠': 16975, '타이레놀': 16976, '김정권': 16977, '역문': 16978, '쥐락펴락합니': 16979, '김원희': 16980, '타브렀': 16981, '천억원': 16982, '자연스': 16983, '직구': 16984, '거류': 16985, '불키': 16986, '십여': 16987, '창밖': 16988, '목꺽': 16989, '장해': 16990, '어번': 16991, '좃': 16992, '앙심': 16993, '송직히': 16994, '의기': 16995, '투합': 16996, '샵': 16997, '탈영': 16998, '퍼인트들': 16999, '관리자': 17000, '별루임': 17001, '홥니': 17002, '므흣하': 17003, '뭐짘': 17004, '쉈': 17005, '가만있다': 17006, '쫄렸음': 17007, '발병': 17008, '이분법': 17009, '샬롯': 17010, '탄산수': 17011, '릭스': 17012, '선처': 17013, '쫌생': 17014, '더치': 17015, '죽빵': 17016, 'ㅂㅜ': 17017, '법조': 17018, '슬하': 17019, '쉣': 17020, '문화센터': 17021, '봄돈': 17022, '으루': 17023, '수이': 17024, '스피디': 17025, '학도': 17026, '돋굼': 17027, '난적': 17028, '비정': 17029, '극히': 17030, '문학인': 17031, '불평등': 17032, '폐쇠': 17033, '이심': 17034, '심장안쫄깃했': 17035, '미션임파서블': 17036, '어드밴쳐': 17037, '쭝국': 17038, '시들하다': 17039, '개늑시': 17040, '경스': 17041, '그사세': 17042, '다봣': 17043, '고성현': 17044, '멀뚱하다': 17045, '집주인': 17046, '없을껄': 17047, '이장면': 17048, '계좌': 17049, '몰려들다': 17050, '본체': 17051, '딕션': 17052, '번안': 17053, '메들리': 17054, '하란': 17055, '퍼준다': 17056, '모럴': 17057, '해저드': 17058, '후리다': 17059, 'ㅉㅏㄱ': 17060, '낙태': 17061, '삐었나봐': 17062, '자선단체': 17063, '최성은': 17064, '겉보기': 17065, '뷴': 17066, '씻기다': 17067, '윤회사상': 17068, '곤땅': 17069, '봄추': 17070, '뭐길': 17071, '접영': 17072, '월날': 17073, '놀수': 17074, '검토': 17075, '날조': 17076, '이마이': 17077, '화물': 17078, '타임즈': 17079, '주간': 17080, '따땃': 17081, '알쏭달쏭하다': 17082, '이랬는데': 17083, '개핵잼': 17084, '요단강': 17085, '피어': 17086, '가마솥': 17087, '길쭉길쭉': 17088, '엮었다': 17089, '배틀씬': 17090, '갸꿀잼갸': 17091, '개관': 17092, '첫등장': 17093, '관대': 17094, '다양성': 17095, 'ㄴㅈ': 17096, '벙커': 17097, '한판만': 17098, '드러눕다': 17099, '섭렵': 17100, '딘짜': 17101, '엘레베이터': 17102, '헛점': 17103, '액견중': 17104, '위례': 17105, '대관': 17106, '주사기': 17107, '부평': 17108, '도넛': 17109, '저주받다': 17110, '아리애스터': 17111, '평태': 17112, '몃': 17113, '달동': 17114, '사바': 17115, '하랑': 17116, '삼촌': 17117, '떡칠떄': 17118, 'ㄷㄷㄷㄷㄷㄷㄷㄷㄷㄷㄷ': 17119, '빌리버': 17120, '람다': 17121, '디킨슨': 17122, '낭독': 17123, '아릅답': 17124, '글것': 17125, '언해': 17126, '정형': 17127, '송두리째': 17128, '망가뜨렸으면': 17129, '지긋지긋': 17130, '수돗물': 17131, '생수': 17132, '대란': 17133, '더왜': 17134, '본얼티메이텀': 17135, '대후': 17136, '흐믓했': 17137, '츄': 17138, '리암': 17139, '리슨': 17140, '듯해': 17141, '엇슴': 17142, '택한건': 17143, '장혜진': 17144, '스테디': 17145, '민속': 17146, '보듬다': 17147, '서든': 17148, '버겁다': 17149, '허황': 17150, '려원': 17151, '음전': 17152, '라이플': 17153, '인플레': 17154, '대학원생': 17155, '장통': 17156, '발길': 17157, '인가가': 17158, '특정하다': 17159, '속도위반': 17160, '재밋자': 17161, '룸메이트': 17162, '슴가': 17163, '헝그리': 17164, '딧': 17165, '씬나다': 17166, '오케스트라': 17167, '길성': 17168, '아포칼립스': 17169, '븅': 17170, '말살': 17171, '설킨건': 17172, '조성도': 17173, '전수': 17174, '택하': 17175, '홍등가': 17176, '천박하다': 17177, '계승': 17178, '왕사': 17179, '이퀄리브리엄': 17180, '포비아': 17181, '또르르': 17182, '흉기': 17183, '불꽤': 17184, '구더기': 17185, '코낌': 17186, '어꺠': 17187, '공예': 17188, '연애시대': 17189, '상등': 17190, '화성인': 17191, '토랭': 17192, '지만원': 17193, '정겨운': 17194, '이재용': 17195, '대청제국': 17196, '군벌': 17197, '공산': 17198, '귀뚜라미': 17199, '핑도': 17200, '탁후': 17201, '유주': 17202, '게일': 17203, '리살': 17204, '마오': 17205, '소피아': 17206, '루르': 17207, '바람직하다': 17208, '허접스럽다': 17209, '억측': 17210, '아스러지다': 17211, '핵답답': 17212, '이지은': 17213, '김갑수': 17214, '쨋': 17215, '뭐랠까': 17216, '조만': 17217, '손수건': 17218, '낙타': 17219, '콧구멍': 17220, '원내': 17221, '무상함': 17222, '똥누': 17223, '통치': 17224, '화엄': 17225, '똥임': 17226, '배대슈': 17227, '콘텍트': 17228, '플라스틱': 17229, '버루': 17230, '폰셱했을때': 17231, '둣': 17232, '회랑': 17233, 'ㅣㅂㅏ': 17234, '딥슬립': 17235, '팬픽': 17236, '동물인지': 17237, '커엽습니': 17238, '리조': 17239, '열광': 17240, '배구': 17241, '쫄리기': 17242, '해짐': 17243, '콧김': 17244, '왓챠가': 17245, '걱정스럽다': 17246, '평함': 17247, '심위': 17248, '티라노': 17249, '설상가상': 17250, '푸른': 17251, '낙원': 17252, '호너': 17253, '협동': 17254, '성년': 17255, '벗': 17256, '원죄': 17257, '댜큐': 17258, '더디다': 17259, '거북목': 17260, '앙다물다': 17261, '괴이': 17262, '물롣': 17263, '액티비전': 17264, '체란': 17265, '무용담': 17266, '활짝': 17267, '흐어': 17268, '헤일': 17269, '젠틀': 17270, '장로': 17271, '너드': 17272, '매칭': 17273, '왜봣': 17274, '알리바이': 17275, '핏': 17276, '듯합': 17277, '피구': 17278, '통키': 17279, '크레센도': 17280, '밤늦다': 17281, '자정': 17282, '지짴': 17283, '화음': 17284, '아뵤오': 17285, '밀레': 17286, '고마치': 17287, '손버릇': 17288, '걸렀': 17289, '튼튼하다': 17290, '소나': 17291, '좋다잉': 17292, '촬영장': 17293, '것좀': 17294, '드가봐': 17295, '애묘': 17296, '정액': 17297, '씨앗': 17298, '유단자': 17299, '비구니': 17300, '읊어주': 17301, '뮬': 17302, '봣음': 17303, '뜬구름': 17304, '소국': 17305, '캐딜락': 17306, '링크': 17307, '운전대': 17308, '믜': 17309, '교시': 17310, '파먹다': 17311, '천진하다': 17312, '라니까': 17313, '곰팡이': 17314, '한걸음씩': 17315, '보드': 17316, '해법': 17317, 'ㅏㄹ': 17318, '일주': 17319, '나눳는지차': 17320, '파견': 17321, '명단': 17322, '직등': 17323, '아다리': 17324, '탁탁': 17325, '촬감': 17326, '레게': 17327, '중장': 17328, '전투력': 17329, '측정기': 17330, '칠무해': 17331, '킹킹': 17332, '킹콩': 17333, 'ㄹㄱㄴ': 17334, '비수': 17335, '지젤': 17336, '조문': 17337, '무르익': 17338, '헤드셋': 17339, '느꼇어': 17340, '애액': 17341, '박강': 17342, '추기': 17343, '재빨리': 17344, '환각제': 17345, '영어학원': 17346, '염원': 17347, '수구': 17348, '악용': 17349, '덴데': 17350, '알피': 17351, '웩': 17352, '노무': 17353, 'ㅆㄴ': 17354, '뿜뿜꼭': 17355, '향토': 17356, '새로운시작': 17357, '서론': 17358, '프랑스어': 17359, '중성': 17360, '기엽': 17361, '개욱김': 17362, '기념': 17363, '특별무대': 17364, '절세': 17365, '갓난': 17366, '생물': 17367, '감성돔': 17368, '에돔': 17369, '돌돔': 17370, '돗돔': 17371, '비리다': 17372, '눈뜨다': 17373, '개임': 17374, '재밋더': 17375, '변화무쌍하다': 17376, '쏟아내다': 17377, '탄창': 17378, '갈고': 17379, '팜므파탈': 17380, '낰임': 17381, '찡찡거리다': 17382, '거로': 17383, '스파르탄': 17384, '수저': 17385, '혈액': 17386, '응고': 17387, '랄라라': 17388, '남구': 17389, '죽겄': 17390, '드레': 17391, '곤볼': 17392, '살상': 17393, '목격': 17394, '시민군': 17395, '심양': 17396, '휘둘린': 17397, '내사': 17398, '이건희': 17399, '낚였네작': 17400, '주더': 17401, '최영희': 17402, '결투': 17403, '토도': 17404, '템': 17405, '영드': 17406, '원스어폰어타임': 17407, '피톤치드향': 17408, '가라테': 17409, '맘속': 17410, '의역': 17411, '견주었': 17412, '가원': 17413, '구태의연하다': 17414, '니놈': 17415, '대속': 17416, '극화': 17417, '용구성': 17418, '요조': 17419, '승연': 17420, '쥐게': 17421, '흐트러진다': 17422, '애국자': 17423, '젠데': 17424, '범람': 17425, '엄벅동이': 17426, '잼각': 17427, '디파': 17428, '다드': 17429, '쫄잼': 17430, '엽떡': 17431, '부쳣': 17432, '햇습': 17433, '추종자': 17434, '에일리언': 17435, '프레데터': 17436, '빅매치': 17437, '얼버무리다': 17438, '재롱': 17439, '조윤희': 17440, '눈갱': 17441, '분해': 17442, '요명': 17443, '공중씬': 17444, '무뢰한': 17445, '카운트다운': 17446, '정은채': 17447, '저쩌구': 17448, '더넌': 17449, '마귀': 17450, '낚엿다': 17451, '열등감': 17452, '긴지': 17453, '마시기': 17454, '뮬뤼': 17455, '허구성': 17456, '사필귀정': 17457, '초이스': 17458, '빈속': 17459, '미역국': 17460, '봉지': 17461, '도즈': 17462, '이단': 17463, '투하': 17464, '찬찬': 17465, '선방': 17466, '재배': 17467, '높낮이': 17468, '뻥임': 17469, '흑의': 17470, '힉스': 17471, '평인': 17472, '미니어쳐': 17473, '차지철': 17474, '성쇠': 17475, '서나': 17476, '주얼리': 17477, '실만': 17478, '마약상': 17479, '광장공포증': 17480, '차열': 17481, '일장': 17482, '부동산': 17483, '아릅답다': 17484, '썰물': 17485, '가솔린': 17486, '서킷': 17487, '조언': 17488, '버젓이': 17489, '더도': 17490, '이상일': 17491, '광년': 17492, '쟝르': 17493, '천재소년': 17494, '허심': 17495, '탄회': 17496, '박희순': 17497, '특화된': 17498, '청량감': 17499, '왓단거': 17500, '움키다': 17501, '요즈음': 17502, '파몬왕': 17503, '웁니': 17504, '엔터프라이즈': 17505, '미신': 17506, '좇았': 17507, '잔해': 17508, '특공대': 17509, '간에이': 17510, '참이슬': 17511, '빋아': 17512, '미러링': 17513, '기색': 17514, '충의': 17515, '갓플릭스': 17516, '자비롭다': 17517, '어쿠스틱': 17518, '반주': 17519, '완전무결': 17520, '유영': 17521, '산드라': 17522, '눈썹': 17523, '와전': 17524, '브릿': 17525, '갈구다': 17526, '허비하다': 17527, '근거리': 17528, '메이킹': 17529, '백미': 17530, '땟': 17531, '아성': 17532, '허졉': 17533, '애혀': 17534, '후우': 17535, 'ㅋㅋㅋㅋㅋㅋㅋㅋㅋㅋㅋㅋㅋㅋㅋㅋ': 17536, '밀러': 17537, '무당연기': 17538, '독수리': 17539, '파르르': 17540, '수조': 17541, '지게차': 17542, '깊숙이': 17543, '잠식': 17544, '개시발련': 17545, '존윅급': 17546, '아이엠': 17547, '제겐': 17548, '담비': 17549, '낚었네': 17550, 'ㅋㅋㅋㅋㅌㅋ': 17551, '가스나': 17552, '또또': 17553, '마직막': 17554, '참회': 17555, '금연': 17556, '속인': 17557, '아시안': 17558, '빈민': 17559, '비관': 17560, '송형국': 17561, '엮어가': 17562, '쌩': 17563, '드심멕켄지': 17564, '나탈리': 17565, '고령': 17566, '텀': 17567, '중하': 17568, '잊힌': 17569, '매겻는': 17570, '스섹아니': 17571, '꽝임': 17572, '야기도': 17573, '기말고사': 17574, '킬때': 17575, '스챤': 17576, '천안': 17577, '글로벌': 17578, '화살': 17579, '축구': 17580, '서스팬스': 17581, '희수': 17582, '짘': 17583, '막차': 17584, '케인': 17585, '클레': 17586, '개이버': 17587, '지헐': 17588, '재밋었음': 17589, '늦봄': 17590, '스윙': 17591, '스탄': 17592, '안토니오': 17593, '로스': 17594, '라틴재즈': 17595, '모독': 17596, '내부': 17597, '빠개질': 17598, '소셜': 17599, '밀레니엄': 17600, '리스베트': 17601, '히말라야': 17602, '흐규흐규': 17603, '역차별': 17604, '발리다': 17605, '거르세': 17606, '성애자': 17607, '음울': 17608, '응답': 17609, '아이폰': 17610, '신문기자': 17611, '엮겠다': 17612, '반짝거리다': 17613, '양반': 17614, '표명': 17615, '미디움': 17616, '레어': 17617, '바짓가랑이': 17618, '봄봄봄': 17619, '정우': 17620, '성미': 17621, '친김': 17622, '존낸쉬름': 17623, 'ㅇㄱㄹㅇ': 17624, '무후': 17625, '옜다': 17626, '가내': 17627, '연결하다': 17628, '날개': 17629, '가짐': 17630, '보셧는': 17631, '다작': 17632, '경계안스': 17633, '그겋': 17634, '간분': 17635, '매초': 17636, 'ㅇㅇㅇㅇ': 17637, '애뜻': 17638, '갱단': 17639, '소란': 17640, '취준생들': 17641, '고학년': 17642, '봄낮': 17643, '낮술': 17644, '만듬새': 17645, '다크서클': 17646, '른': 17647, '장본': 17648, '룸': 17649, '못생걌아': 17650, '졋으': 17651, '한무': 17652, '함흥': 17653, '려니': 17654, '대진': 17655, '가스총': 17656, '뽐뿌': 17657, '질옴': 17658, '망망': 17659, '이석형': 17660, '미짱': 17661, '쑥대밭': 17662, '바람바람': 17663, '파네': 17664, '젖소': 17665, '겨눈': 17666, '여진': 17667, '쫄긧쬘긧': 17668, '살로': 17669, '돔': 17670, '눈칫밥': 17671, '말증': 17672, '일절': 17673, '디캐프리오': 17674, '바랬음': 17675, '진여': 17676, '송운': 17677, '느랴': 17678, '레프': 17679, '난나': 17680, '정분': 17681, '잊지맙시': 17682, '트릭': 17683, '보글보글': 17684, '희색': 17685, '트랜스': 17686, '포팅': 17687, '대마시': 17688, '겁쟁이': 17689, '전만': 17690, '거르나보': 17691, '택할': 17692, '뿜었다': 17693, '파이어': 17694, '최고점': 17695, '쥬샨': 17696, '사면초가': 17697, '축약': 17698, '블랭킷들': 17699, '주무': 17700, '강우': 17701, '몄번': 17702, '올르락': 17703, '내리락': 17704, '강하니': 17705, '공무원': 17706, '정규직': 17707, '회사원': 17708, '불협화음': 17709, '영위': 17710, '초오': 17711, '얄개': 17712, '안면': 17713, '저리다': 17714, '만들랬': 17715, '하랬': 17716, '쬐다': 17717, '폐륜아': 17718, '휴머니스트': 17719, '다단계': 17720, '꼬임': 17721, '교대': 17722, '백프롭니': 17723, '상겻': 17724, '박도': 17725, '더냐': 17726, '왓챠등': 17727, '죄인': 17728, '햇기': 17729, '고정': 17730, '롹스타': 17731, '사이버포뮬러': 17732, '순차': 17733, '삿대질': 17734, '완화': 17735, '상업성': 17736, '무작위': 17737, '듬새': 17738, '보드랍다': 17739, '알반': 17740, '중졸': 17741, '농부가': 17742, '알도': 17743, '무념': 17744, '돌멩이': 17745, '세면': 17746, '걸럿다': 17747, '창작물': 17748, '언어의정원': 17749, '타투': 17750, '피어싱': 17751, '공포증': 17752, '상주고': 17753, '삘타': 17754, '뿌직뿌': 17755, '직함': 17756, '인민군': 17757, '연합군': 17758, '왜놈': 17759, '떼놈': 17760, '동족상잔': 17761, '점볼': 17762, '미카': 17763, '해성': 17764, '오십분': 17765, '쳣': 17766, '음개': 17767, '작두': 17768, '로열티': 17769, '브르스': 17770, '증인': 17771, '쐇어': 17772, '뙤양볕밑': 17773, '지난날': 17774, '잘해주다': 17775, 'ㅠㅠㅠㅜ': 17776, '다마고치': 17777, '전자기기': 17778, '구성진': 17779, '레잔': 17780, '유품': 17781, '쫑나': 17782, '직도': 17783, '볼드윈': 17784, '얘깃': 17785, '어쩌자': 17786, '알리스': 17787, '브러머': 17788, '어헝헝': 17789, '루카스필름': 17790, '문구로': 17791, '포로': 17792, '숨은그림찾기': 17793, '대장정': 17794, '엿먹': 17795, '멧도멧': 17796, '환생하다': 17797, '유지민': 17798, '분후': 17799, '떵꼬': 17800, '질시': 17801, '구석기': 17802, '배경영': 17803, '통신병': 17804, '경비': 17805, '술해': 17806, '라면서': 17807, '얻지': 17808, '공산품': 17809, '최고현': 17810, '느낌표': 17811, '아디오스': 17812, '뚜뚜뚜뚜': 17813, '리움': 17814, '눈폐': 17815, '대고모부': 17816, '넉넉하다': 17817, '어둑시': 17818, '대빵': 17819, '김시': 17820, '서러워지다': 17821, '라피': 17822, '서거': 17823, '추위': 17824, '노랫소리': 17825, '삽화': 17826, '특혜': 17827, '운남': 17828, '악플다다': 17829, '고관': 17830, '헐리우드영화': 17831, '다파티드': 17832, '면적': 17833, '재방': 17834, '모닝': 17835, '불타': 17836, '평자': 17837, '하마': 17838, '구치': 17839, '현자': 17840, '알프레드': 17841, '그리드': 17842, '밥솥': 17843, '금융위기': 17844, '급진': 17845, '미성': 17846, '채소': 17847, '불가항력': 17848, '살생': 17849, '비엔나': 17850, '페스티벌': 17851, '중량': 17852, '관조': 17853, '텔링능력': 17854, '봉씨': 17855, '샤': 17856, '운영체계': 17857, '제계': 17858, 'ㄲㅋㅋ': 17859, '캣우먼': 17860, '막대기': 17861, '미노': 17862, '민망': 17863, '나왓': 17864, '잠영': 17865, '간부': 17866, '낙담': 17867, '생활용품': 17868, '후계': 17869, '실재': 17870, '잔득폼': 17871, '들러리': 17872, '포디즘': 17873, '격렬하다': 17874, '브로맨스': 17875, '유화': 17876, '올드함': 17877, '번시': 17878, '혼술함': 17879, '헛된': 17880, '둏다': 17881, '여름철': 17882, '가람': 17883, '넷플용': 17884, '스웨': 17885, '계속계속': 17886, '이재': 17887, '경위': 17888, '이상철': 17889, '호실': 17890, '에소': 17891, '사이즈': 17892, '논증': 17893, '호호': 17894, '뭣같': 17895, '스켈레톤': 17896, '노블레스': 17897, '오블리주': 17898, '견제': 17899, '꿈틀': 17900, '라스베가스': 17901, '데프론': 17902, '비치': 17903, '부국': 17904, '제때': 17905, '제이크': 17906, '질렌할': 17907, '개중': 17908, '윙': 17909, '돌비': 17910, '과도기': 17911, '무언': 17912, '활성화': 17913, '조적': 17914, '뎆': 17915, '태주': 17916, '물말': 17917, '불한당': 17918, '배움': 17919, '강춯깁니': 17920, '갓첰': 17921, 'ㄹㄴㄷㄴㄱ': 17922, '사격씬': 17923, '바디랭기지': 17924, '줫': 17925, '개줫': 17926, '소파': 17927, '요도': 17928, '레퍼런스들': 17929, '운명론': 17930, 'ㅁㄴㅇㄹ': 17931, '잠항': 17932, '멱': 17933, '인비': 17934, '블맨': 17935, '스트레이트': 17936, '롴': 17937, '득실': 17938, '톰과춤': 17939, '윤상현': 17940, '사임': 17941, '폭죽': 17942, '부진': 17943, '헤퍼': 17944, '변주곡': 17945, '질코': 17946, '손에꼽는': 17947, '취했던': 17948, '뻥튀기': 17949, '김삼순': 17950, '열전': 17951, '무지랭이': 17952, '클린': 17953, '포슬포슬': 17954, '겸손': 17955, '은미': 17956, '잼댐': 17957, '마일리지': 17958, '무적자': 17959, '뻘뻘': 17960, '구장': 17961, '오드': 17962, '별론데': 17963, 'ㅆㅆㄹㄱ': 17964, '다자': 17965, '하강': 17966, '연전': 17967, '연후': 17968, '가업': 17969, '음감': 17970, '울궈': 17971, '라보': 17972, '스탈린': 17973, '시원섭섭하다': 17974, '오비다': 17975, '월호항': 17976, '달린다': 17977, '환영': 17978, '일거리': 17979, '련놈들': 17980, '손대다': 17981, '가나다': 17982, '뚤려': 17983, '엄첨': 17984, '젬': 17985, '알구': 17986, '드림걸즈': 17987, '몽구': 17988, '범접': 17989, '억만배': 17990, '섣불리': 17991, '포지션': 17992, '산족': 17993, '앏아': 17994, '가래': 17995, '월달': 17996, '청국장': 17997, '콩닥': 17998, '비계': 17999, '샌님': 18000, '요동치다': 18001, '의원': 18002, '수수께끼': 18003, '박유천': 18004, 'ㅋㅡㅋㅋ': 18005, '살아생전': 18006, 'ㅡㅠ': 18007, '패스트푸드': 18008, '고오': 18009, '사주': 18010, '씀': 18011, '모택동': 18012, '천안문': 18013, '간방': 18014, '긴머리': 18015, '포레': 18016, '꼬았다': 18017, '중얼거리다': 18018, '콤보': 18019, '김성규': 18020, '양파': 18021, '근년': 18022, '투캅스': 18023, '이성경': 18024, '하는둥마는둥': 18025, '주건': 18026, '빅토': 18027, '찔리다': 18028, '선체': 18029, '조은지': 18030, '청년회': 18031, '밀회': 18032, '속국': 18033, '어딘': 18034, '마뜩찮다': 18035, '대요': 18036, '목욕': 18037, '힐끗힐끗': 18038, '의성': 18039, '얹혀살다': 18040, '부탄가스': 18041, '부강': 18042, '와아': 18043, '다시없다': 18044, '은위빠들': 18045, '어여쁘다': 18046, '신덕': 18047, 'ㅡㅡㅜㅜㅠㅠㅣㅣ': 18048, '설날': 18049, '오백': 18050, '물질계': 18051, '타락': 18052, '뻔핵': 18053, '누울': 18054, '속임수': 18055, '덧글': 18056, '팔지마다': 18057, '맏': 18058, '김혜자': 18059, '흥했으몀': 18060, '청량하다': 18061, '올킬할': 18062, '봣습': 18063, '내용물': 18064, '눈물겨웟다앞': 18065, '리치': 18066, '카토': 18067, '제각기': 18068, '베이직': 18069, '주정': 18070, '전문용어': 18071, '애송이': 18072, '병원씬': 18073, '들쑥날쑥': 18074, '라비': 18075, '뭥닝': 18076, '얼점': 18077, '프레디': 18078, '머큐리': 18079, '재밋었습니': 18080, '카르텔': 18081, '아비규환': 18082, '거론': 18083, '친히': 18084, '흘륭': 18085, '우경': 18086, '귓속': 18087, '자극시키다': 18088, '판명': 18089, '이바지': 18090, '사하다': 18091, '국민성': 18092, '차젤레': 18093, '런영화': 18094, '잊혀졋겠': 18095, '재탕': 18096, '무병장수': 18097, '미쳣음': 18098, '자격지심': 18099, '넷이': 18100, '빈둥거리': 18101, '에고': 18102, '줄러': 18103, '주니': 18104, '다채로웠': 18105, '못거': 18106, '정시': 18107, '명사': 18108, '이지혜': 18109, '원아': 18110, '극닥전': 18111, '푸릇': 18112, 'ㅋㅋㅋㅋㅋㅋㅋㅋㅋㅋㅋㅋㅋㅋㅋㅋㅋㅋㅋㅋㅋㅋㅋㅋㅋㅋㅋ': 18113, '단명': 18114, '와인': 18115, '녹': 18116, '똥칠': 18117, '웃엇네뇨': 18118, '읎': 18119, '여름밤': 18120, '때임': 18121, '재밋구': 18122, '북해도': 18123, '윤희': 18124, '자고로': 18125, '개쩐닼': 18126, 'ㅋㅋㅋㅋㅋㅋㅋㅋㅋㅋㅋㅋㅋㅋㅋㅋㅋㅋ': 18127, '테릭': 18128, '그루브': 18129, '강호': 18130, '쿠엔티': 18131, '흉내쟁이': 18132, '별그대': 18133, '불친절': 18134, '쪼그리다': 18135, '씩씩거리다': 18136, '주온': 18137, '뭉개지': 18138, 'ㅇㅅㅇ': 18139, '스튜디오': 18140, '엎음': 18141, '머쉬니스트': 18142, '유튜': 18143, '브이': 18144, '와타나베': 18145, '꼿': 18146, '할로윈': 18147, '존윅가': 18148, '존못': 18149, '명연': 18150, '나왓으': 18151, '군복': 18152, '머신': 18153, '나부랭이': 18154, '연예': 18155, '입터': 18156, '컨텐': 18157, '새드앤딩': 18158, '차남': 18159, '대서양': 18160, '담론': 18161, '인물관계도': 18162, '반창고': 18163, '김승우': 18164, '회유': 18165, '살랑살랑': 18166, '이랗': 18167, '닥터스': 18168, '트레인': 18169, '치료받다': 18170, '스또리': 18171, '고삐': 18172, '심층': 18173, '표층': 18174, '여로': 18175, '최종': 18176, '편입': 18177, '엘리제궁': 18178, '남극': 18179, '오르탕스': 18180, '미덕': 18181, '순교자': 18182, '자극제': 18183, '앨리스': 18184, '남성향': 18185, '제정': 18186, '험하다': 18187, '왜케높': 18188, '허투른': 18189, 'ㅎㅎㅎㅎㅎㅎㅎㅎㅎㅎㅎㅎㅎㅎㅎㅎㅎㅎㅎㅎㅎㅎㅎㅎ': 18190, '출세': 18191, '알베르토': 18192, '불친철함': 18193, '디코딩': 18194, '뇌브': 18195, '선재': 18196, '졸뻔': 18197, '비툴': 18198, '한식': 18199, '은하': 18200, '지부': 18201, '와아아': 18202, '넥타이': 18203, '강강술래': 18204, '망고': 18205, '무마': 18206, '곱상하다': 18207, '란스': 18208, '아킬레스건': 18209, '재밋게봤': 18210, '일당': 18211, '쫙쫙': 18212, '킹카': 18213, '애왼': 18214, '걸알': 18215, '악세다': 18216, '용수': 18217, '준정': 18218, '재밌엇습니': 18219, '응축': 18220, '우러따': 18221, '일쑤': 18222, '하농': 18223, 'ㅠㅠㅠㅠㅠㅠㅠㅠㅠㅠㅠㅠ': 18224, '인역': 18225, '술자리': 18226, '궁금타': 18227, 'ㅋㅈㅋ': 18228, '중단': 18229, '종족': 18230, '몰리': 18231, '르세': 18232, '뜨금포텐': 18233, '잣댐': 18234, '색모': 18235, '파노라마': 18236, '이씨': 18237, '진해': 18238, '구민': 18239, '베이컨': 18240, '잘되지': 18241, '엔드크래딧': 18242, '슬리러': 18243, '깔보다': 18244, '말미': 18245, '웰시': 18246, '히어로즈': 18247, '유서': 18248, '단숨': 18249, '아님꽈': 18250, '난교': 18251, '스라이': 18252, '침식': 18253, '철길': 18254, '파쇄기': 18255, '드거': 18256, '영아': 18257, '번뜩이다': 18258, '깄': 18259, '니름': 18260}\n"
     ]
    }
   ],
   "source": [
    "print(tokenizer.word_index)"
   ]
  },
  {
   "cell_type": "code",
   "execution_count": 41,
   "metadata": {},
   "outputs": [],
   "source": [
    "threshold = 2 # 빈도수가 3회 미만은 제거\n",
    "total_cnt = len(tokenizer.word_index) # 단어의 수\n",
    "rare_cnt = 0 # 등장 빈도수가 threshold보다 작은 단어의 개수를 카운트\n",
    "total_freq = 0 # 훈련 데이터의 전체 단어 빈도수 총 합\n",
    "rare_freq = 0 # 등장 빈도수가 threshold보다 작은 단어의 등장 빈도수의 총 합\n",
    "\n",
    "# 단어와 빈도수의 쌍(pair)을 key와 value로 받는다.\n",
    "for key, value in tokenizer.word_counts.items():\n",
    "    total_freq = total_freq + value\n",
    "\n",
    "    # 단어의 등장 빈도수가 threshold보다 작으면\n",
    "    if(value < threshold):\n",
    "        rare_cnt = rare_cnt + 1\n",
    "        rare_freq = rare_freq + value"
   ]
  },
  {
   "cell_type": "code",
   "execution_count": 42,
   "metadata": {},
   "outputs": [
    {
     "name": "stdout",
     "output_type": "stream",
     "text": [
      "단어 집합(vocabulary)의 크기 : 18260\n",
      "등장 빈도가 1번 이하인 희귀 단어의 수: 7962\n",
      "단어 집합에서 희귀 단어의 비율: 43.60350492880614\n",
      "전체 등장 빈도에서 희귀 단어 등장 빈도 비율: 1.6806474355456298\n"
     ]
    }
   ],
   "source": [
    "print('단어 집합(vocabulary)의 크기 :',total_cnt)\n",
    "print('등장 빈도가 %s번 이하인 희귀 단어의 수: %s'%(threshold - 1, rare_cnt))\n",
    "print(\"단어 집합에서 희귀 단어의 비율:\", (rare_cnt / total_cnt)*100)\n",
    "print(\"전체 등장 빈도에서 희귀 단어 등장 빈도 비율:\", (rare_freq / total_freq)*100)"
   ]
  },
  {
   "cell_type": "code",
   "execution_count": 43,
   "metadata": {},
   "outputs": [
    {
     "name": "stdout",
     "output_type": "stream",
     "text": [
      "단어 집합의 크기 : 10299\n"
     ]
    }
   ],
   "source": [
    "vocab_size = total_cnt - rare_cnt + 1 # 전체 단어 개수 중 빈도수 2이하인 단어 개수는 제거. 0번 패딩 토큰을 고려하여 +1\n",
    "print('단어 집합의 크기 :',vocab_size)"
   ]
  },
  {
   "cell_type": "code",
   "execution_count": 46,
   "metadata": {},
   "outputs": [],
   "source": [
    "import pickle\n",
    "vocab_size = vocab_size\n",
    "\n",
    "with open('./save/vocab_size.p', 'wb') as file:    # james.p 파일을 바이너리 쓰기 모드(wb)로 열기\n",
    "    pickle.dump(vocab_size, file)"
   ]
  },
  {
   "cell_type": "code",
   "execution_count": 47,
   "metadata": {},
   "outputs": [],
   "source": [
    "# 토크나이저는 텍스트 시퀀스를 숫자 시퀀스로 변환하는 정수 인코딩 과정에서 \n",
    "# 이보다 큰 숫자가 부여된 단어들은 아예 계산하지 않음\n",
    "tokenizer = Tokenizer(vocab_size) \n",
    "tokenizer.fit_on_texts(X_train)\n",
    "X_train = tokenizer.texts_to_sequences(X_train)\n",
    "X_test = tokenizer.texts_to_sequences(X_test)"
   ]
  },
  {
   "cell_type": "code",
   "execution_count": 48,
   "metadata": {},
   "outputs": [
    {
     "name": "stdout",
     "output_type": "stream",
     "text": [
      "[[277, 404, 2460, 1090], [371, 5, 2083, 6, 90, 8, 393, 247, 1200, 676, 234, 3, 57, 3, 99, 197, 13, 3909, 24, 21, 79, 114, 2, 7, 151, 64, 63, 233, 8, 1141, 867, 17, 41, 962, 445, 77, 21, 975, 10, 2687, 310, 182, 37, 20], [5052, 51, 3245, 1397, 44, 69]]\n"
     ]
    }
   ],
   "source": [
    "print(X_train[:3])"
   ]
  },
  {
   "cell_type": "code",
   "execution_count": 49,
   "metadata": {},
   "outputs": [],
   "source": [
    "y_train = np.array(train_data['label'])\n",
    "y_test = np.array(test_data['label'])"
   ]
  },
  {
   "cell_type": "markdown",
   "metadata": {},
   "source": [
    "### 빈 샘플(Empty samples) 제거"
   ]
  },
  {
   "cell_type": "code",
   "execution_count": 50,
   "metadata": {},
   "outputs": [],
   "source": [
    "drop_train = [index for index, sentence in enumerate(X_train) if len(sentence) < 1]\n",
    "drop_test = [index for index, sentence in enumerate(X_test) if len(sentence) < 1]"
   ]
  },
  {
   "cell_type": "code",
   "execution_count": 51,
   "metadata": {},
   "outputs": [
    {
     "name": "stdout",
     "output_type": "stream",
     "text": [
      "23976\n",
      "23976\n"
     ]
    }
   ],
   "source": [
    "# 빈 샘플들을 제거\n",
    "X_train = np.delete(X_train, drop_train, axis=0)\n",
    "y_train = np.delete(y_train, drop_train, axis=0)\n",
    "print(len(X_train))\n",
    "print(len(y_train))"
   ]
  },
  {
   "cell_type": "code",
   "execution_count": 52,
   "metadata": {},
   "outputs": [
    {
     "name": "stdout",
     "output_type": "stream",
     "text": [
      "12595\n",
      "12595\n"
     ]
    }
   ],
   "source": [
    "X_test = np.delete(X_test, drop_test, axis=0)\n",
    "y_test = np.delete(y_test, drop_test, axis=0)\n",
    "print(len(X_test))\n",
    "print(len(y_test))"
   ]
  },
  {
   "cell_type": "code",
   "execution_count": 53,
   "metadata": {},
   "outputs": [],
   "source": [
    "np.save(\"./save/y_train.npy\", y_train)\n",
    "np.save(\"./save/y_test.npy\", y_test)"
   ]
  },
  {
   "cell_type": "markdown",
   "metadata": {},
   "source": [
    "### 패딩"
   ]
  },
  {
   "cell_type": "code",
   "execution_count": 60,
   "metadata": {},
   "outputs": [
    {
     "name": "stdout",
     "output_type": "stream",
     "text": [
      "리뷰의 최대 길이 : 50\n",
      "리뷰의 평균 길이 : 50.0\n"
     ]
    },
    {
     "data": {
      "image/png": "[encoded data removed]",
      "text/plain": [
       "<Figure size 432x288 with 1 Axes>"
      ]
     },
     "metadata": {
      "needs_background": "light"
     },
     "output_type": "display_data"
    }
   ],
   "source": [
    "print('리뷰의 최대 길이 :',max(len(l) for l in X_train))\n",
    "print('리뷰의 평균 길이 :',sum(map(len, X_train))/len(X_train))\n",
    "plt.hist([len(s) for s in X_train], bins=50)\n",
    "plt.xlabel('length of samples')\n",
    "plt.ylabel('number of samples')\n",
    "plt.show()"
   ]
  },
  {
   "cell_type": "code",
   "execution_count": 55,
   "metadata": {},
   "outputs": [],
   "source": [
    "# 전체 샘플 중 길이가 max_len 이하인 샘플의 비율이 몇 %인지 확인하는 함수\n",
    "def below_threshold_len(max_len, nested_list):\n",
    "    cnt = 0\n",
    "    for s in nested_list:\n",
    "        if(len(s) <= max_len):\n",
    "            cnt = cnt + 1\n",
    "    print('전체 샘플 중 길이가 %s 이하인 샘플의 비율: %s'%(max_len, (cnt / len(nested_list))*100))"
   ]
  },
  {
   "cell_type": "code",
   "execution_count": 59,
   "metadata": {},
   "outputs": [
    {
     "name": "stdout",
     "output_type": "stream",
     "text": [
      "전체 샘플 중 길이가 50 이하인 샘플의 비율: 100.0\n"
     ]
    }
   ],
   "source": [
    "max_len = 30\n",
    "below_threshold_len(max_len, X_train)"
   ]
  },
  {
   "cell_type": "code",
   "execution_count": 57,
   "metadata": {},
   "outputs": [],
   "source": [
    "X_train = pad_sequences(X_train, maxlen = max_len)\n",
    "X_test = pad_sequences(X_test, maxlen = max_len)"
   ]
  },
  {
   "cell_type": "code",
   "execution_count": 58,
   "metadata": {},
   "outputs": [],
   "source": [
    "np.save(\"./save/X_train.npy\", X_train)\n",
    "np.save(\"./save/X_test.npy\", X_test)"
   ]
  }
 ],
 "metadata": {
  "hide_input": false,
  "kernelspec": {
   "display_name": "Python 3",
   "language": "python",
   "name": "python3"
  },
  "language_info": {
   "codemirror_mode": {
    "name": "ipython",
    "version": 3
   },
   "file_extension": ".py",
   "mimetype": "text/x-python",
   "name": "python",
   "nbconvert_exporter": "python",
   "pygments_lexer": "ipython3",
   "version": "3.7.7"
  },
  "toc": {
   "base_numbering": 1,
   "nav_menu": {},
   "number_sections": true,
   "sideBar": true,
   "skip_h1_title": false,
   "title_cell": "Table of Contents",
   "title_sidebar": "Contents",
   "toc_cell": false,
   "toc_position": {},
   "toc_section_display": true,
   "toc_window_display": false
  },
  "varInspector": {
   "cols": {
    "lenName": 16,
    "lenType": 16,
    "lenVar": 40
   },
   "kernels_config": {
    "python": {
     "delete_cmd_postfix": "",
     "delete_cmd_prefix": "del ",
     "library": "var_list.py",
     "varRefreshCmd": "print(var_dic_list())"
    },
    "r": {
     "delete_cmd_postfix": ") ",
     "delete_cmd_prefix": "rm(",
     "library": "var_list.r",
     "varRefreshCmd": "cat(var_dic_list()) "
    }
   },
   "types_to_exclude": [
    "module",
    "function",
    "builtin_function_or_method",
    "instance",
    "_Feature"
   ],
   "window_display": false
  }
 },
 "nbformat": 4,
 "nbformat_minor": 4
}
