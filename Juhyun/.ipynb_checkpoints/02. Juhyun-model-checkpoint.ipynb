{
 "cells": [
  {
   "cell_type": "code",
   "execution_count": 1,
   "metadata": {},
   "outputs": [],
   "source": [
    "import pandas as pd\n",
    "import numpy as np\n",
    "import re\n",
    "import csv\n",
    "import pickle\n",
    "\n",
    "\n",
    "import urllib.request\n",
    "%matplotlib inline\n",
    "import matplotlib.pyplot as plt\n",
    "\n",
    "import tensorflow as tf\n",
    "from tensorflow.keras.preprocessing.text import Tokenizer\n",
    "from tensorflow.keras.preprocessing.sequence import pad_sequences\n",
    "from tensorflow.keras.callbacks import EarlyStopping, ModelCheckpoint\n",
    "from tensorflow.keras.optimizers import RMSprop, Adam\n",
    "\n",
    "from tensorflow.keras.layers import Input, Embedding, LSTM, Dense, Dropout, Conv1D, MaxPooling1D, Flatten\n",
    "from tensorflow.keras.models import Model, Sequential, load_model\n",
    "\n",
    "from konlpy.tag import Okt\n",
    "from sklearn.model_selection import train_test_split"
   ]
  },
  {
   "cell_type": "markdown",
   "metadata": {},
   "source": [
    "## LSTM으로 네이버 영화 리뷰 감성 분류"
   ]
  },
  {
   "cell_type": "code",
   "execution_count": 2,
   "metadata": {},
   "outputs": [],
   "source": [
    "seed = 0\n",
    "np.random.seed(3)\n",
    "tf.random.set_seed(3)"
   ]
  },
  {
   "cell_type": "code",
   "execution_count": 3,
   "metadata": {},
   "outputs": [],
   "source": [
    "X_train = np.load(\"./save/X_train.npy\")\n",
    "X_test = np.load(\"./save/X_test.npy\")\n",
    "y_train = np.load(\"./save/y_train.npy\")\n",
    "y_test = np.load(\"./save/y_test.npy\")\n",
    "with open('./save/vocab_size.p', 'rb') as file:\n",
    "    vocab_size = pickle.load(file)"
   ]
  },
  {
   "cell_type": "code",
   "execution_count": null,
   "metadata": {},
   "outputs": [],
   "source": [
    "\n"
   ]
  },
  {
   "cell_type": "code",
   "execution_count": 4,
   "metadata": {},
   "outputs": [
    {
     "name": "stdout",
     "output_type": "stream",
     "text": [
      "Model: \"model\"\n",
      "_________________________________________________________________\n",
      "Layer (type)                 Output Shape              Param #   \n",
      "=================================================================\n",
      "input_1 (InputLayer)         [(None, 30)]              0         \n",
      "_________________________________________________________________\n",
      "embedding (Embedding)        (None, 30, 100)           651300    \n",
      "_________________________________________________________________\n",
      "lstm (LSTM)                  (None, 100)               80400     \n",
      "_________________________________________________________________\n",
      "dropout (Dropout)            (None, 100)               0         \n",
      "_________________________________________________________________\n",
      "dense (Dense)                (None, 50)                5050      \n",
      "_________________________________________________________________\n",
      "dropout_1 (Dropout)          (None, 50)                0         \n",
      "_________________________________________________________________\n",
      "dense_1 (Dense)              (None, 1)                 51        \n",
      "=================================================================\n",
      "Total params: 736,801\n",
      "Trainable params: 736,801\n",
      "Non-trainable params: 0\n",
      "_________________________________________________________________\n"
     ]
    }
   ],
   "source": [
    "T = X_train.shape[1]\n",
    "i = Input(shape=(T,))\n",
    "\n",
    "x = Embedding(vocab_size, 100)(i)\n",
    "x = LSTM(100, dropout=0.2, recurrent_dropout=0.2)(x)\n",
    "x = Dropout(0.5)(x)\n",
    "x = Dense(50, activation='relu')(x)\n",
    "x = Dropout(0.5)(x)\n",
    "x = Dense(1, activation='sigmoid')(x)\n",
    "\n",
    "# x = Embedding(vocab_size, 100)(i)\n",
    "# x = LSTM(128, return_sequences=True)(x)\n",
    "# x = Dropout(0.25)(x)\n",
    "# x = LSTM(128)(x)\n",
    "# x = Dropout(0.25)(x)\n",
    "# x = Dense(1, activation='sigmoid')(x)\n",
    "\n",
    "model = Model(i, x)\n",
    "model.summary()"
   ]
  },
  {
   "cell_type": "code",
   "execution_count": 5,
   "metadata": {},
   "outputs": [],
   "source": [
    "es = EarlyStopping(monitor='val_loss', mode='min', verbose=1, patience=4)\n",
    "mc = ModelCheckpoint('best_model.h5', monitor='val_acc', mode='max', verbose=2, save_best_only=True)"
   ]
  },
  {
   "cell_type": "code",
   "execution_count": 6,
   "metadata": {},
   "outputs": [],
   "source": [
    "# model.compile(optimizer=RMSprop(lr=0.001,\n",
    "#                                 rho=0.9,\n",
    "#                                 epsilon=None,\n",
    "#                                 decay=0.0),\n",
    "#                loss=\"binary_crossentropy\",\n",
    "#                metrics=['acc'])\n",
    "\n",
    "model.compile(loss=\"binary_crossentropy\",\n",
    "              optimizer=Adam(lr=0.001,\n",
    "                             beta_1=0.5,\n",
    "                             beta_2=0.999, \n",
    "                             epsilon=None,\n",
    "                             decay=0.01,\n",
    "                             amsgrad=False),\n",
    "              metrics=[\"accuracy\"])\n"
   ]
  },
  {
   "cell_type": "code",
   "execution_count": 7,
   "metadata": {},
   "outputs": [],
   "source": [
    "# model.compile(loss=\"binary_crossentropy\", optimizer=Adam(lr=0.02), metrics=[\"accuracy\"])"
   ]
  },
  {
   "cell_type": "code",
   "execution_count": 8,
   "metadata": {},
   "outputs": [
    {
     "name": "stdout",
     "output_type": "stream",
     "text": [
      "Train on 6199 samples, validate on 1550 samples\n",
      "Epoch 1/7\n",
      "6192/6199 [============================>.] - ETA: 0s - loss: 0.5646 - accuracy: 0.7156WARNING:tensorflow:Can save best model only with val_acc available, skipping.\n",
      "6199/6199 [==============================] - 70s 11ms/sample - loss: 0.5648 - accuracy: 0.7154 - val_loss: 0.4461 - val_accuracy: 0.8084\n",
      "Epoch 2/7\n",
      "6192/6199 [============================>.] - ETA: 0s - loss: 0.3924 - accuracy: 0.8359WARNING:tensorflow:Can save best model only with val_acc available, skipping.\n",
      "6199/6199 [==============================] - 58s 9ms/sample - loss: 0.3923 - accuracy: 0.8359 - val_loss: 0.3863 - val_accuracy: 0.8265\n",
      "Epoch 3/7\n",
      "6192/6199 [============================>.] - ETA: 0s - loss: 0.3322 - accuracy: 0.8682WARNING:tensorflow:Can save best model only with val_acc available, skipping.\n",
      "6199/6199 [==============================] - 57s 9ms/sample - loss: 0.3320 - accuracy: 0.8684 - val_loss: 0.3769 - val_accuracy: 0.8342\n",
      "Epoch 4/7\n",
      "6192/6199 [============================>.] - ETA: 0s - loss: 0.3031 - accuracy: 0.8824WARNING:tensorflow:Can save best model only with val_acc available, skipping.\n",
      "6199/6199 [==============================] - 57s 9ms/sample - loss: 0.3032 - accuracy: 0.8824 - val_loss: 0.3733 - val_accuracy: 0.8316\n",
      "Epoch 5/7\n",
      "6192/6199 [============================>.] - ETA: 0s - loss: 0.2856 - accuracy: 0.8905WARNING:tensorflow:Can save best model only with val_acc available, skipping.\n",
      "6199/6199 [==============================] - 58s 9ms/sample - loss: 0.2856 - accuracy: 0.8905 - val_loss: 0.3745 - val_accuracy: 0.8329\n",
      "Epoch 6/7\n",
      "6192/6199 [============================>.] - ETA: 0s - loss: 0.2700 - accuracy: 0.8974WARNING:tensorflow:Can save best model only with val_acc available, skipping.\n",
      "6199/6199 [==============================] - 59s 9ms/sample - loss: 0.2700 - accuracy: 0.8972 - val_loss: 0.3796 - val_accuracy: 0.8348\n",
      "Epoch 7/7\n",
      "6192/6199 [============================>.] - ETA: 0s - loss: 0.2652 - accuracy: 0.9023WARNING:tensorflow:Can save best model only with val_acc available, skipping.\n",
      "6199/6199 [==============================] - 59s 9ms/sample - loss: 0.2655 - accuracy: 0.9021 - val_loss: 0.3778 - val_accuracy: 0.8303\n"
     ]
    }
   ],
   "source": [
    "history = model.fit(X_train, y_train, epochs=7, callbacks=[es, mc], batch_size=8, validation_split=0.2)"
   ]
  },
  {
   "cell_type": "code",
   "execution_count": 9,
   "metadata": {},
   "outputs": [],
   "source": [
    "model.save('best_model.h5')"
   ]
  },
  {
   "cell_type": "code",
   "execution_count": 10,
   "metadata": {},
   "outputs": [
    {
     "name": "stdout",
     "output_type": "stream",
     "text": [
      "4618/1 - 4s - loss: 0.3261 - accuracy: 0.8729\n",
      "\n",
      " 테스트 정확도: 0.8729\n"
     ]
    }
   ],
   "source": [
    "loaded_model = load_model('best_model.h5')\n",
    "print(\"\\n 테스트 정확도: %.4f\" % (loaded_model.evaluate(X_test, y_test, verbose=2)[1]))\n"
   ]
  },
  {
   "cell_type": "code",
   "execution_count": 11,
   "metadata": {},
   "outputs": [
    {
     "data": {
      "image/png": "[encoded data removed]",
      "text/plain": [
       "<Figure size 432x288 with 1 Axes>"
      ]
     },
     "metadata": {
      "needs_background": "light"
     },
     "output_type": "display_data"
    }
   ],
   "source": [
    "## 훈련의 손실치를 그래프에 표시\n",
    "plt.title('Loss')\n",
    "plt.plot(history.history['loss'], 'b', marker='.', label='loss')\n",
    "plt.plot(history.history['val_loss'], 'r', label='var_loss')\n",
    "plt.xlabel('Epochs')\n",
    "plt.ylabel('Loss')\n",
    "\n",
    "plt.legend()\n",
    "plt.grid(True)\n",
    "plt.show()"
   ]
  },
  {
   "cell_type": "code",
   "execution_count": null,
   "metadata": {},
   "outputs": [],
   "source": []
  },
  {
   "cell_type": "code",
   "execution_count": null,
   "metadata": {},
   "outputs": [],
   "source": []
  },
  {
   "cell_type": "code",
   "execution_count": null,
   "metadata": {},
   "outputs": [],
   "source": []
  },
  {
   "cell_type": "code",
   "execution_count": null,
   "metadata": {},
   "outputs": [],
   "source": []
  },
  {
   "cell_type": "code",
   "execution_count": null,
   "metadata": {},
   "outputs": [],
   "source": []
  }
 ],
 "metadata": {
  "hide_input": false,
  "kernelspec": {
   "display_name": "Python 3",
   "language": "python",
   "name": "python3"
  },
  "language_info": {
   "codemirror_mode": {
    "name": "ipython",
    "version": 3
   },
   "file_extension": ".py",
   "mimetype": "text/x-python",
   "name": "python",
   "nbconvert_exporter": "python",
   "pygments_lexer": "ipython3",
   "version": "3.7.7"
  },
  "toc": {
   "base_numbering": 1,
   "nav_menu": {},
   "number_sections": true,
   "sideBar": true,
   "skip_h1_title": false,
   "title_cell": "Table of Contents",
   "title_sidebar": "Contents",
   "toc_cell": false,
   "toc_position": {},
   "toc_section_display": true,
   "toc_window_display": false
  },
  "varInspector": {
   "cols": {
    "lenName": 16,
    "lenType": 16,
    "lenVar": 40
   },
   "kernels_config": {
    "python": {
     "delete_cmd_postfix": "",
     "delete_cmd_prefix": "del ",
     "library": "var_list.py",
     "varRefreshCmd": "print(var_dic_list())"
    },
    "r": {
     "delete_cmd_postfix": ") ",
     "delete_cmd_prefix": "rm(",
     "library": "var_list.r",
     "varRefreshCmd": "cat(var_dic_list()) "
    }
   },
   "types_to_exclude": [
    "module",
    "function",
    "builtin_function_or_method",
    "instance",
    "_Feature"
   ],
   "window_display": false
  }
 },
 "nbformat": 4,
 "nbformat_minor": 4
}
