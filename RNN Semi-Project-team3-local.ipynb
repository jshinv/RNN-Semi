{
 "cells": [
  {
   "cell_type": "code",
   "execution_count": 1,
   "metadata": {},
   "outputs": [],
   "source": [
    "import pandas as pd\n",
    "import urllib.request\n",
    "%matplotlib inline\n",
    "import matplotlib.pyplot as plt\n",
    "import re\n",
    "from konlpy.tag import Okt\n",
    "from tensorflow.keras.preprocessing.text import Tokenizer\n",
    "import numpy as np\n",
    "from tensorflow.keras.preprocessing.sequence import pad_sequences\n",
    "from sklearn.model_selection import train_test_split"
   ]
  },
  {
   "cell_type": "code",
   "execution_count": 2,
   "metadata": {},
   "outputs": [
    {
     "name": "stdout",
     "output_type": "stream",
     "text": [
      "(9250, 2)\n"
     ]
    },
    {
     "data": {
      "text/html": [
       "<div>\n",
       "<style scoped>\n",
       "    .dataframe tbody tr th:only-of-type {\n",
       "        vertical-align: middle;\n",
       "    }\n",
       "\n",
       "    .dataframe tbody tr th {\n",
       "        vertical-align: top;\n",
       "    }\n",
       "\n",
       "    .dataframe thead th {\n",
       "        text-align: right;\n",
       "    }\n",
       "</style>\n",
       "<table border=\"1\" class=\"dataframe\">\n",
       "  <thead>\n",
       "    <tr style=\"text-align: right;\">\n",
       "      <th></th>\n",
       "      <th>document</th>\n",
       "      <th>label</th>\n",
       "    </tr>\n",
       "  </thead>\n",
       "  <tbody>\n",
       "    <tr>\n",
       "      <th>0</th>\n",
       "      <td>이 분들 극한직업 10점 주시던 분들이죠?대한민국에서 이런 연출이나 배경 흔하지않았...</td>\n",
       "      <td>1</td>\n",
       "    </tr>\n",
       "    <tr>\n",
       "      <th>1</th>\n",
       "      <td>오래된 영화라서 별로 기대 안했는데 정말 재밌었네요ㅋㅋ 타짜 느낌의 스토리라 재밌게...</td>\n",
       "      <td>1</td>\n",
       "    </tr>\n",
       "    <tr>\n",
       "      <th>2</th>\n",
       "      <td>무슨 내용인지 모르겠어요</td>\n",
       "      <td>0</td>\n",
       "    </tr>\n",
       "    <tr>\n",
       "      <th>3</th>\n",
       "      <td>낮은 평점을 받을 영화는 아닌데... 왜케 낮은지.. 영상미, 연기, 긴장감. 이 ...</td>\n",
       "      <td>1</td>\n",
       "    </tr>\n",
       "    <tr>\n",
       "      <th>4</th>\n",
       "      <td>감독아 평생 속죄하면서 살아라 참고로 니가만든영화 재밌는거 1도없어</td>\n",
       "      <td>0</td>\n",
       "    </tr>\n",
       "  </tbody>\n",
       "</table>\n",
       "</div>"
      ],
      "text/plain": [
       "                                            document  label\n",
       "0  이 분들 극한직업 10점 주시던 분들이죠?대한민국에서 이런 연출이나 배경 흔하지않았...      1\n",
       "1  오래된 영화라서 별로 기대 안했는데 정말 재밌었네요ㅋㅋ 타짜 느낌의 스토리라 재밌게...      1\n",
       "2                                     무슨 내용인지 모르겠어요       0\n",
       "3  낮은 평점을 받을 영화는 아닌데... 왜케 낮은지.. 영상미, 연기, 긴장감. 이 ...      1\n",
       "4             감독아 평생 속죄하면서 살아라 참고로 니가만든영화 재밌는거 1도없어       0"
      ]
     },
     "execution_count": 2,
     "metadata": {},
     "output_type": "execute_result"
    }
   ],
   "source": [
    "data = pd.read_csv('./datasets/naver_movie_reviews_20200430.csv', index_col=0)\n",
    "data = data[['document', 'label']]\n",
    "print(data.shape)\n",
    "data.head()"
   ]
  },
  {
   "cell_type": "code",
   "execution_count": 3,
   "metadata": {},
   "outputs": [],
   "source": [
    "train_data, test_data = train_test_split(data, test_size=0.33, random_state=777)"
   ]
  },
  {
   "cell_type": "code",
   "execution_count": 4,
   "metadata": {},
   "outputs": [
    {
     "name": "stdout",
     "output_type": "stream",
     "text": [
      "훈련용 리뷰 개수 : 6197\n"
     ]
    }
   ],
   "source": [
    "print('훈련용 리뷰 개수 :',len(train_data)) # 훈련용 리뷰 개수 출력"
   ]
  },
  {
   "cell_type": "code",
   "execution_count": 5,
   "metadata": {},
   "outputs": [
    {
     "data": {
      "text/html": [
       "<div>\n",
       "<style scoped>\n",
       "    .dataframe tbody tr th:only-of-type {\n",
       "        vertical-align: middle;\n",
       "    }\n",
       "\n",
       "    .dataframe tbody tr th {\n",
       "        vertical-align: top;\n",
       "    }\n",
       "\n",
       "    .dataframe thead th {\n",
       "        text-align: right;\n",
       "    }\n",
       "</style>\n",
       "<table border=\"1\" class=\"dataframe\">\n",
       "  <thead>\n",
       "    <tr style=\"text-align: right;\">\n",
       "      <th></th>\n",
       "      <th>document</th>\n",
       "      <th>label</th>\n",
       "    </tr>\n",
       "  </thead>\n",
       "  <tbody>\n",
       "    <tr>\n",
       "      <th>3349</th>\n",
       "      <td>지금봐도야한거같아 2001년이었으면 얼마나파격적이었겠냐ㄷㄷㄷ</td>\n",
       "      <td>1</td>\n",
       "    </tr>\n",
       "    <tr>\n",
       "      <th>212</th>\n",
       "      <td>그냥 송위룡 얼굴이 개연성인데 뭘 더 바래여 잘생긴 얼굴 많이 써주세요</td>\n",
       "      <td>1</td>\n",
       "    </tr>\n",
       "    <tr>\n",
       "      <th>3297</th>\n",
       "      <td>동탄2신도시 사는 김병준씨의 인생사와 견주어봐도 박빙인 영화우리나라 영화사상 이런 ...</td>\n",
       "      <td>1</td>\n",
       "    </tr>\n",
       "    <tr>\n",
       "      <th>8636</th>\n",
       "      <td>다 좋은데 배우를 성우로 쓸 것 같으면 이순재정도는 해줘야지 더빙이 진짜 너무하네 ...</td>\n",
       "      <td>0</td>\n",
       "    </tr>\n",
       "    <tr>\n",
       "      <th>6497</th>\n",
       "      <td>넷플릭스로 보다가 꺼버림. 이걸 영화관에서 보고 있었다고 생각하니 끔찍...</td>\n",
       "      <td>0</td>\n",
       "    </tr>\n",
       "  </tbody>\n",
       "</table>\n",
       "</div>"
      ],
      "text/plain": [
       "                                               document  label\n",
       "3349                 지금봐도야한거같아 2001년이었으면 얼마나파격적이었겠냐ㄷㄷㄷ       1\n",
       "212            그냥 송위룡 얼굴이 개연성인데 뭘 더 바래여 잘생긴 얼굴 많이 써주세요       1\n",
       "3297  동탄2신도시 사는 김병준씨의 인생사와 견주어봐도 박빙인 영화우리나라 영화사상 이런 ...      1\n",
       "8636  다 좋은데 배우를 성우로 쓸 것 같으면 이순재정도는 해줘야지 더빙이 진짜 너무하네 ...      0\n",
       "6497        넷플릭스로 보다가 꺼버림. 이걸 영화관에서 보고 있었다고 생각하니 끔찍...       0"
      ]
     },
     "execution_count": 5,
     "metadata": {},
     "output_type": "execute_result"
    }
   ],
   "source": [
    "train_data[:5] # 상위 5개 출력"
   ]
  },
  {
   "cell_type": "code",
   "execution_count": 6,
   "metadata": {},
   "outputs": [
    {
     "name": "stdout",
     "output_type": "stream",
     "text": [
      "테스트용 리뷰 개수 : 3053\n"
     ]
    }
   ],
   "source": [
    "print('테스트용 리뷰 개수 :',len(test_data)) # 테스트용 리뷰 개수 출력"
   ]
  },
  {
   "cell_type": "code",
   "execution_count": 7,
   "metadata": {},
   "outputs": [
    {
     "data": {
      "text/html": [
       "<div>\n",
       "<style scoped>\n",
       "    .dataframe tbody tr th:only-of-type {\n",
       "        vertical-align: middle;\n",
       "    }\n",
       "\n",
       "    .dataframe tbody tr th {\n",
       "        vertical-align: top;\n",
       "    }\n",
       "\n",
       "    .dataframe thead th {\n",
       "        text-align: right;\n",
       "    }\n",
       "</style>\n",
       "<table border=\"1\" class=\"dataframe\">\n",
       "  <thead>\n",
       "    <tr style=\"text-align: right;\">\n",
       "      <th></th>\n",
       "      <th>document</th>\n",
       "      <th>label</th>\n",
       "    </tr>\n",
       "  </thead>\n",
       "  <tbody>\n",
       "    <tr>\n",
       "      <th>529</th>\n",
       "      <td>병맛같은 영화 ㅋ  내가 이걸 왜보고있지 하면서 끝까지봄</td>\n",
       "      <td>1</td>\n",
       "    </tr>\n",
       "    <tr>\n",
       "      <th>3174</th>\n",
       "      <td>무개념 딸 극혐...아오</td>\n",
       "      <td>1</td>\n",
       "    </tr>\n",
       "    <tr>\n",
       "      <th>3621</th>\n",
       "      <td>난 이런거 좋든데...</td>\n",
       "      <td>1</td>\n",
       "    </tr>\n",
       "    <tr>\n",
       "      <th>3573</th>\n",
       "      <td>NaN</td>\n",
       "      <td>1</td>\n",
       "    </tr>\n",
       "    <tr>\n",
       "      <th>8232</th>\n",
       "      <td>사람에게 필요없는 감정은 없다고 느꼈습니다. 특히 빙봉과 함께 지하에서 탈출하는 장...</td>\n",
       "      <td>1</td>\n",
       "    </tr>\n",
       "  </tbody>\n",
       "</table>\n",
       "</div>"
      ],
      "text/plain": [
       "                                               document  label\n",
       "529                    병맛같은 영화 ㅋ  내가 이걸 왜보고있지 하면서 끝까지봄       1\n",
       "3174                                     무개념 딸 극혐...아오       1\n",
       "3621                                      난 이런거 좋든데...       1\n",
       "3573                                                NaN      1\n",
       "8232  사람에게 필요없는 감정은 없다고 느꼈습니다. 특히 빙봉과 함께 지하에서 탈출하는 장...      1"
      ]
     },
     "execution_count": 7,
     "metadata": {},
     "output_type": "execute_result"
    }
   ],
   "source": [
    "test_data[:5]\n"
   ]
  },
  {
   "cell_type": "markdown",
   "metadata": {},
   "source": [
    "### Preprocessing"
   ]
  },
  {
   "cell_type": "code",
   "execution_count": 8,
   "metadata": {},
   "outputs": [
    {
     "data": {
      "text/plain": [
       "(5511, 2)"
      ]
     },
     "execution_count": 8,
     "metadata": {},
     "output_type": "execute_result"
    }
   ],
   "source": [
    "# 데이터 중복 확인\n",
    "train_data['document'].nunique(), train_data['label'].nunique()"
   ]
  },
  {
   "cell_type": "code",
   "execution_count": 9,
   "metadata": {},
   "outputs": [
    {
     "name": "stderr",
     "output_type": "stream",
     "text": [
      "C:\\Users\\YH\\Anaconda3\\envs\\rnn\\lib\\site-packages\\ipykernel_launcher.py:2: SettingWithCopyWarning: \n",
      "A value is trying to be set on a copy of a slice from a DataFrame\n",
      "\n",
      "See the caveats in the documentation: https://pandas.pydata.org/pandas-docs/stable/user_guide/indexing.html#returning-a-view-versus-a-copy\n",
      "  \n"
     ]
    }
   ],
   "source": [
    "# document 열에서 중복인 내용이 있다면 중복 제거\n",
    "train_data.drop_duplicates(subset=['document'], inplace=True) "
   ]
  },
  {
   "cell_type": "code",
   "execution_count": 10,
   "metadata": {},
   "outputs": [
    {
     "name": "stdout",
     "output_type": "stream",
     "text": [
      "총 샘플의 수 : 5512\n"
     ]
    }
   ],
   "source": [
    "print('총 샘플의 수 :',len(train_data))"
   ]
  },
  {
   "cell_type": "code",
   "execution_count": 11,
   "metadata": {},
   "outputs": [
    {
     "data": {
      "text/plain": [
       "<matplotlib.axes._subplots.AxesSubplot at 0x17d45dc1c18>"
      ]
     },
     "execution_count": 11,
     "metadata": {},
     "output_type": "execute_result"
    },
    {
     "data": {
      "image/png": "[encoded data removed]",
      "text/plain": [
       "<Figure size 432x288 with 1 Axes>"
      ]
     },
     "metadata": {
      "needs_background": "light"
     },
     "output_type": "display_data"
    }
   ],
   "source": [
    "train_data['label'].value_counts().plot(kind = 'bar')"
   ]
  },
  {
   "cell_type": "code",
   "execution_count": 12,
   "metadata": {},
   "outputs": [
    {
     "name": "stdout",
     "output_type": "stream",
     "text": [
      "   label  count\n",
      "0      0   1668\n",
      "1      1   3844\n"
     ]
    }
   ],
   "source": [
    "print(train_data.groupby('label').size().reset_index(name = 'count'))"
   ]
  },
  {
   "cell_type": "code",
   "execution_count": 13,
   "metadata": {},
   "outputs": [
    {
     "data": {
      "text/plain": [
       "1    3844\n",
       "0    1668\n",
       "Name: label, dtype: int64"
      ]
     },
     "execution_count": 13,
     "metadata": {},
     "output_type": "execute_result"
    }
   ],
   "source": [
    "train_data['label'].value_counts()"
   ]
  },
  {
   "cell_type": "code",
   "execution_count": 14,
   "metadata": {},
   "outputs": [
    {
     "name": "stdout",
     "output_type": "stream",
     "text": [
      "document    1\n",
      "label       0\n",
      "dtype: int64\n"
     ]
    }
   ],
   "source": [
    "print(train_data.isnull().sum())"
   ]
  },
  {
   "cell_type": "code",
   "execution_count": 15,
   "metadata": {},
   "outputs": [
    {
     "data": {
      "text/html": [
       "<div>\n",
       "<style scoped>\n",
       "    .dataframe tbody tr th:only-of-type {\n",
       "        vertical-align: middle;\n",
       "    }\n",
       "\n",
       "    .dataframe tbody tr th {\n",
       "        vertical-align: top;\n",
       "    }\n",
       "\n",
       "    .dataframe thead th {\n",
       "        text-align: right;\n",
       "    }\n",
       "</style>\n",
       "<table border=\"1\" class=\"dataframe\">\n",
       "  <thead>\n",
       "    <tr style=\"text-align: right;\">\n",
       "      <th></th>\n",
       "      <th>document</th>\n",
       "      <th>label</th>\n",
       "    </tr>\n",
       "  </thead>\n",
       "  <tbody>\n",
       "    <tr>\n",
       "      <th>5782</th>\n",
       "      <td>NaN</td>\n",
       "      <td>1</td>\n",
       "    </tr>\n",
       "  </tbody>\n",
       "</table>\n",
       "</div>"
      ],
      "text/plain": [
       "     document  label\n",
       "5782      NaN      1"
      ]
     },
     "execution_count": 15,
     "metadata": {},
     "output_type": "execute_result"
    }
   ],
   "source": [
    "train_data.loc[train_data.document.isnull()]"
   ]
  },
  {
   "cell_type": "code",
   "execution_count": 16,
   "metadata": {},
   "outputs": [
    {
     "name": "stdout",
     "output_type": "stream",
     "text": [
      "False\n",
      "5511\n"
     ]
    }
   ],
   "source": [
    "train_data = train_data.dropna(how = 'any') # Null 값이 존재하는 행 제거\n",
    "print(train_data.isnull().values.any()) # Null 값이 존재하는지 확인\n",
    "print(len(train_data))"
   ]
  },
  {
   "cell_type": "code",
   "execution_count": 17,
   "metadata": {},
   "outputs": [
    {
     "data": {
      "text/plain": [
       "'do you expect people to read the FAQ etc and actually accept hard atheism'"
      ]
     },
     "execution_count": 17,
     "metadata": {},
     "output_type": "execute_result"
    }
   ],
   "source": [
    "text = 'do!!! you expect... people~ to~ read~ the FAQ, etc. and actually accept hard~! atheism?@@'\n",
    "re.sub(r'[^a-zA-Z ]', '', text) #알파벳과 공백을 제외하고 모두 제거"
   ]
  },
  {
   "cell_type": "code",
   "execution_count": 18,
   "metadata": {},
   "outputs": [],
   "source": [
    "# https://www.unicode.org/charts/PDF/U3130.pdf\n",
    "# ㄱ ~ ㅎ: 3131 ~ 314E\n",
    "# ㅏ ~ ㅣ: 314F ~ 3163\n",
    "# https://www.unicode.org/charts/PDF/UAC00.pdf\n",
    "# 가 ~ 힣"
   ]
  },
  {
   "cell_type": "code",
   "execution_count": 19,
   "metadata": {},
   "outputs": [
    {
     "data": {
      "text/html": [
       "<div>\n",
       "<style scoped>\n",
       "    .dataframe tbody tr th:only-of-type {\n",
       "        vertical-align: middle;\n",
       "    }\n",
       "\n",
       "    .dataframe tbody tr th {\n",
       "        vertical-align: top;\n",
       "    }\n",
       "\n",
       "    .dataframe thead th {\n",
       "        text-align: right;\n",
       "    }\n",
       "</style>\n",
       "<table border=\"1\" class=\"dataframe\">\n",
       "  <thead>\n",
       "    <tr style=\"text-align: right;\">\n",
       "      <th></th>\n",
       "      <th>document</th>\n",
       "      <th>label</th>\n",
       "    </tr>\n",
       "  </thead>\n",
       "  <tbody>\n",
       "    <tr>\n",
       "      <th>3349</th>\n",
       "      <td>지금봐도야한거같아 년이었으면 얼마나파격적이었겠냐ㄷㄷㄷ</td>\n",
       "      <td>1</td>\n",
       "    </tr>\n",
       "    <tr>\n",
       "      <th>212</th>\n",
       "      <td>그냥 송위룡 얼굴이 개연성인데 뭘 더 바래여 잘생긴 얼굴 많이 써주세요</td>\n",
       "      <td>1</td>\n",
       "    </tr>\n",
       "    <tr>\n",
       "      <th>3297</th>\n",
       "      <td>동탄신도시 사는 김병준씨의 인생사와 견주어봐도 박빙인 영화우리나라 영화사상 이런 대...</td>\n",
       "      <td>1</td>\n",
       "    </tr>\n",
       "    <tr>\n",
       "      <th>8636</th>\n",
       "      <td>다 좋은데 배우를 성우로 쓸 것 같으면 이순재정도는 해줘야지 더빙이 진짜 너무하네 ...</td>\n",
       "      <td>0</td>\n",
       "    </tr>\n",
       "    <tr>\n",
       "      <th>6497</th>\n",
       "      <td>넷플릭스로 보다가 꺼버림 이걸 영화관에서 보고 있었다고 생각하니 끔찍</td>\n",
       "      <td>0</td>\n",
       "    </tr>\n",
       "  </tbody>\n",
       "</table>\n",
       "</div>"
      ],
      "text/plain": [
       "                                               document  label\n",
       "3349                     지금봐도야한거같아 년이었으면 얼마나파격적이었겠냐ㄷㄷㄷ       1\n",
       "212            그냥 송위룡 얼굴이 개연성인데 뭘 더 바래여 잘생긴 얼굴 많이 써주세요       1\n",
       "3297  동탄신도시 사는 김병준씨의 인생사와 견주어봐도 박빙인 영화우리나라 영화사상 이런 대...      1\n",
       "8636  다 좋은데 배우를 성우로 쓸 것 같으면 이순재정도는 해줘야지 더빙이 진짜 너무하네 ...      0\n",
       "6497            넷플릭스로 보다가 꺼버림 이걸 영화관에서 보고 있었다고 생각하니 끔찍       0"
      ]
     },
     "execution_count": 19,
     "metadata": {},
     "output_type": "execute_result"
    }
   ],
   "source": [
    "train_data['document'] = train_data['document'].str.replace(\"[^ㄱ-ㅎㅏ-ㅣ가-힣 ]\",\"\")\n",
    "# 한글과 공백을 제외하고 모두 제거\n",
    "train_data[:5]"
   ]
  },
  {
   "cell_type": "code",
   "execution_count": 20,
   "metadata": {},
   "outputs": [
    {
     "name": "stdout",
     "output_type": "stream",
     "text": [
      "document    0\n",
      "label       0\n",
      "dtype: int64\n"
     ]
    }
   ],
   "source": [
    "# 영어로만 작성된 리뷰도 삭제 됨\n",
    "train_data['document'].replace('', np.nan, inplace=True)\n",
    "print(train_data.isnull().sum())"
   ]
  },
  {
   "cell_type": "code",
   "execution_count": 21,
   "metadata": {},
   "outputs": [
    {
     "data": {
      "text/html": [
       "<div>\n",
       "<style scoped>\n",
       "    .dataframe tbody tr th:only-of-type {\n",
       "        vertical-align: middle;\n",
       "    }\n",
       "\n",
       "    .dataframe tbody tr th {\n",
       "        vertical-align: top;\n",
       "    }\n",
       "\n",
       "    .dataframe thead th {\n",
       "        text-align: right;\n",
       "    }\n",
       "</style>\n",
       "<table border=\"1\" class=\"dataframe\">\n",
       "  <thead>\n",
       "    <tr style=\"text-align: right;\">\n",
       "      <th></th>\n",
       "      <th>document</th>\n",
       "      <th>label</th>\n",
       "    </tr>\n",
       "  </thead>\n",
       "  <tbody>\n",
       "  </tbody>\n",
       "</table>\n",
       "</div>"
      ],
      "text/plain": [
       "Empty DataFrame\n",
       "Columns: [document, label]\n",
       "Index: []"
      ]
     },
     "execution_count": 21,
     "metadata": {},
     "output_type": "execute_result"
    }
   ],
   "source": [
    "train_data.loc[train_data.document.isnull()][:5]"
   ]
  },
  {
   "cell_type": "code",
   "execution_count": 22,
   "metadata": {},
   "outputs": [
    {
     "name": "stdout",
     "output_type": "stream",
     "text": [
      "5511\n"
     ]
    }
   ],
   "source": [
    "train_data = train_data.dropna(how = 'any')\n",
    "print(len(train_data))"
   ]
  },
  {
   "cell_type": "code",
   "execution_count": 23,
   "metadata": {
    "collapsed": true,
    "jupyter": {
     "outputs_hidden": true
    }
   },
   "outputs": [
    {
     "name": "stdout",
     "output_type": "stream",
     "text": [
      "전처리 후 테스트용 샘플의 개수 : 2692\n"
     ]
    },
    {
     "name": "stderr",
     "output_type": "stream",
     "text": [
      "C:\\Users\\YH\\Anaconda3\\envs\\rnn\\lib\\site-packages\\ipykernel_launcher.py:1: SettingWithCopyWarning: \n",
      "A value is trying to be set on a copy of a slice from a DataFrame\n",
      "\n",
      "See the caveats in the documentation: https://pandas.pydata.org/pandas-docs/stable/user_guide/indexing.html#returning-a-view-versus-a-copy\n",
      "  \"\"\"Entry point for launching an IPython kernel.\n",
      "C:\\Users\\YH\\Anaconda3\\envs\\rnn\\lib\\site-packages\\ipykernel_launcher.py:2: SettingWithCopyWarning: \n",
      "A value is trying to be set on a copy of a slice from a DataFrame.\n",
      "Try using .loc[row_indexer,col_indexer] = value instead\n",
      "\n",
      "See the caveats in the documentation: https://pandas.pydata.org/pandas-docs/stable/user_guide/indexing.html#returning-a-view-versus-a-copy\n",
      "  \n",
      "C:\\Users\\YH\\Anaconda3\\envs\\rnn\\lib\\site-packages\\pandas\\core\\generic.py:6746: SettingWithCopyWarning: \n",
      "A value is trying to be set on a copy of a slice from a DataFrame\n",
      "\n",
      "See the caveats in the documentation: https://pandas.pydata.org/pandas-docs/stable/user_guide/indexing.html#returning-a-view-versus-a-copy\n",
      "  self._update_inplace(new_data)\n"
     ]
    }
   ],
   "source": [
    "test_data.drop_duplicates(subset = ['document'], inplace=True) # document 열에서 중복인 내용이 있다면 중복 제거\n",
    "test_data['document'] = test_data['document'].str.replace(\"[^ㄱ-ㅎㅏ-ㅣ가-힣 ]\",\"\") # 정규 표현식 수행\n",
    "test_data['document'].replace('', np.nan, inplace=True) # 공백은 Null 값으로 변경\n",
    "test_data = test_data.dropna(how='any') # Null 값 제거\n",
    "print('전처리 후 테스트용 샘플의 개수 :',len(test_data))"
   ]
  },
  {
   "cell_type": "markdown",
   "metadata": {},
   "source": [
    "### Tokenization"
   ]
  },
  {
   "cell_type": "code",
   "execution_count": 24,
   "metadata": {},
   "outputs": [],
   "source": [
    "# 불용어 제거, 한국어의 조사, 접속사 등 -> 지속적으로 검토하면서 추가해서 삭제\n",
    "stopwords = ['의','가','이','은','들','는','좀','잘','걍','과','도','를','으로','자','에','와','한','하다']"
   ]
  },
  {
   "cell_type": "code",
   "execution_count": 25,
   "metadata": {},
   "outputs": [
    {
     "data": {
      "text/plain": [
       "['2000년', '이후', '최고', '의', '서스펜스', '...', '라고', '하다', ',', '이', '걸', '왜', '보다']"
      ]
     },
     "execution_count": 25,
     "metadata": {},
     "output_type": "execute_result"
    }
   ],
   "source": [
    "# 토큰화를 위한 형태소 분석기는 KoNLPy의 Okt\n",
    "okt = Okt()\n",
    "okt.morphs('2000년이후 최고의 서스펜스... 라고 했지만, 이걸 왜 봤을까', stem = True)"
   ]
  },
  {
   "cell_type": "code",
   "execution_count": 26,
   "metadata": {},
   "outputs": [],
   "source": [
    "# 불용어 제거\n",
    "# 형태소 토큰화\n",
    "X_train = []\n",
    "for sentence in train_data['document']:\n",
    "    temp_X = []\n",
    "    temp_X = okt.morphs(sentence, stem=True) # 토큰화\n",
    "    temp_X = [word for word in temp_X if not word in stopwords] # 불용어 제거\n",
    "    X_train.append(temp_X)"
   ]
  },
  {
   "cell_type": "code",
   "execution_count": 27,
   "metadata": {},
   "outputs": [
    {
     "name": "stdout",
     "output_type": "stream",
     "text": [
      "[['지금', '보다', '야하다', '같다', '년', '이다', '얼마나', '파격', '적', '이다', 'ㄷㄷㄷ'], ['그냥', '송', '위룡', '얼굴', '개연', '성', '인데', '뭘', '더', '바', '래', '여', '잘생기다', '얼굴', '많이', '써주다'], ['동탄신도시', '살다', '김병준', '씨', '인생', '사오다', '견주어봐', '박빙', '인', '영화', '우리나라', '영화사', '상', '이렇다', '대작', '없다', '눕다', '김정은', '발딱', '스게', '연출', '캐스팅', '스토리', '라인', '인간', '논', '없다', '우주선', '이영화', '담다', '우주', '로', '쏘다', '올리다']]\n"
     ]
    }
   ],
   "source": [
    "print(X_train[:3])"
   ]
  },
  {
   "cell_type": "code",
   "execution_count": 28,
   "metadata": {},
   "outputs": [],
   "source": [
    "X_test = []\n",
    "for sentence in test_data['document']:\n",
    "    temp_X = []\n",
    "    temp_X = okt.morphs(sentence, stem=True) # 토큰화\n",
    "    temp_X = [word for word in temp_X if not word in stopwords] # 불용어 제거\n",
    "    X_test.append(temp_X)"
   ]
  },
  {
   "cell_type": "code",
   "execution_count": 29,
   "metadata": {},
   "outputs": [],
   "source": [
    "### 정수 인코딩"
   ]
  },
  {
   "cell_type": "code",
   "execution_count": 30,
   "metadata": {},
   "outputs": [],
   "source": [
    "tokenizer = Tokenizer()\n",
    "tokenizer.fit_on_texts(X_train)"
   ]
  },
  {
   "cell_type": "code",
   "execution_count": 31,
   "metadata": {
    "collapsed": true,
    "jupyter": {
     "outputs_hidden": true
    }
   },
   "outputs": [
    {
     "name": "stdout",
     "output_type": "stream",
     "text": [
      "{'영화': 1, '보다': 2, '을': 3, '있다': 4, '없다': 5, '좋다': 6, '너무': 7, '이다': 8, '스토리': 9, '같다': 10, '다': 11, '연기': 12, '에서': 13, '되다': 14, '로': 15, '배우': 16, '아니다': 17, '재밌다': 18, '만': 19, '적': 20, '것': 21, '진짜': 22, '긴장감': 23, '않다': 24, '평점': 25, '생각': 26, '시간': 27, '나오다': 28, '그': 29, '점': 30, '만들다': 31, '안': 32, '못': 33, '연출': 34, '게': 35, '나': 36, '사람': 37, '인': 38, '자다': 39, '내': 40, '정말': 41, '까지': 42, '감독': 43, '왜': 44, '고': 45, '그냥': 46, '보고': 47, '수': 48, '더': 49, '들다': 50, '하고': 51, '때': 52, '액션': 53, '정도': 54, '최고': 55, '가다': 56, '모르다': 57, '거': 58, '말': 59, '이렇다': 60, '그렇다': 61, '싶다': 62, '많다': 63, '하나': 64, '오다': 65, '주다': 66, '볼': 67, '느낌': 68, '요': 69, '재미있다': 70, '그리고': 71, '아쉽다': 72, '저': 73, '네': 74, '사냥': 75, '많이': 76, '뭐': 77, 'ㅋㅋ': 78, '작품': 79, '장면': 80, '성': 81, '이렇게': 82, '아깝다': 83, '끝': 84, '중': 85, '알다': 86, '넷플릭스': 87, '분': 88, '처음': 89, '영': 90, '내용': 91, '임': 92, '개': 93, '사랑': 94, '마지막': 95, '걸': 96, '감동': 97, '개봉': 98, '한국': 99, '총': 100, '님': 101, '아': 102, 'ㅠㅠ': 103, '없이': 104, '느끼다': 105, '버리다': 106, '듯': 107, '감': 108, '인생': 109, '인데': 110, '먹다': 111, '받다': 112, '남다': 113, '몰입': 114, '지': 115, '주인공': 116, '부분': 117, '나다': 118, '다시': 119, '때문': 120, '개연': 121, '함': 122, '기': 123, '괜찮다': 124, '연기력': 125, '서': 126, '이해': 127, '맞다': 128, '되어다': 129, '배경': 130, '기대': 131, '라': 132, '하': 133, '영화관': 134, '두': 135, '재미': 136, '어떻다': 137, '부터': 138, '돈': 139, '해주다': 140, '처럼': 141, '이야기': 142, '안되다': 143, 'ㅋㅋㅋ': 144, '이나': 145, '근데': 146, '넘다': 147, '내내': 148, '편': 149, '면': 150, '긴장': 151, '영상': 152, '끄다': 153, '라고': 154, '꼭': 155, '지루하다': 156, '중간': 157, '년': 158, '에게': 159, '또': 160, '음악': 161, '난': 162, '라는': 163, '살다': 164, '결말': 165, '추천': 166, '뻔하다': 167, '이고': 168, '마음': 169, '화': 170, '극장': 171, '번': 172, '낮다': 173, '상미': 174, '당하다': 175, '좋아하다': 176, '끝나다': 177, '죽다': 178, '크다': 179, '보기': 180, '모든': 181, '지금': 182, '초반': 183, '기대하다': 184, '현실': 185, '별': 186, '대': 187, '줄': 188, '수준': 189, '내다': 190, '설정': 191, '높다': 192, '한국영': 193, '랑': 194, '보여주다': 195, '전': 196, '재미없다': 197, '이라': 198, '무슨': 199, '그래도': 200, '인지': 201, '우리': 202, '믿다': 203, 'ㅠ': 204, '표현': 205, '노잼': 206, '차다': 207, '건': 208, '개인': 209, '제': 210, '미치다': 211, '이제훈': 212, '말다': 213, '다른': 214, '명작': 215, '애': 216, '명': 217, '봄': 218, '뭔가': 219, '이건': 220, '대사': 221, '속': 222, '이유': 223, '쓰레기': 224, '알': 225, '자체': 226, '한번': 227, '이랑': 228, '모두': 229, '캐릭터': 230, '분위기': 231, '엔': 232, '코로나': 233, 'ㅎㅎ': 234, '급': 235, '돼다': 236, '소재': 237, '보이다': 238, '슬프다': 239, '무섭다': 240, '역시': 241, '일': 242, '별로': 243, '오랜': 244, '훌륭하다': 245, '답답하다': 246, '설명': 247, '여': 248, '인간': 249, '느껴지다': 250, '에는': 251, 'ㅋ': 252, '대한': 253, '테러': 254, '계속': 255, '나름': 256, '솔직하다': 257, '아름답다': 258, '조금': 259, '떨어지다': 260, '충분하다': 261, '이상': 262, '찍다': 263, '야': 264, '야하다': 265, '밖에': 266, '치다': 267, '위': 268, '감정': 269, '쓰다': 270, '신선하다': 271, '건지다': 272, '세상': 273, '앞': 274, '매력': 275, '눈': 276, '하지만': 277, '완전': 278, '극': 279, '이영화': 280, '전개': 281, '딱': 282, '이제': 283, '냐': 284, '보지': 285, '친구': 286, '넘치다': 287, '시대': 288, '이라고': 289, '연': 290, '가장': 291, '마다': 292, '지다': 293, '기억': 294, '최악': 295, '집': 296, '눈물': 297, '시작': 298, '몇': 299, '완벽하다': 300, '력': 301, '재다': 302, '니': 303, '미래': 304, '상황': 305, '해보다': 306, '네이버': 307, '허다': 308, '영화로': 309, '늘다': 310, '문제': 311, '모습': 312, '깊다': 313, '특히': 314, '집중': 315, '몰입도': 316, '엄청': 317, '감사하다': 318, '가슴': 319, '멋지다': 320, '후': 321, '한테': 322, '사실': 323, '아무': 324, '뭘': 325, '여운': 326, '본': 327, '가족': 328, '결국': 329, '같이': 330, '관객': 331, '빼다': 332, '평': 333, '요즘': 334, '감상': 335, '꾼': 336, '알바': 337, '여자': 338, '그렇게': 339, '이라는': 340, '간만': 341, '시키다': 342, '가지': 343, '인가': 344, '기분': 345, '타임': 346, '빠지다': 347, '실망': 348, '킬링타임': 349, '무엇': 350, '등': 351, '사회': 352, '인상': 353, '부족하다': 354, '그리다': 355, '죽이다': 356, '삶': 357, '우리나라': 358, '멋있다': 359, '남자': 360, '후반': 361, '파수': 362, '인물': 363, 'ㅋㅋㅋㅋ': 364, '살': 365, '작': 366, '이런': 367, '일본': 368, '제대로': 369, '디스토피아': 370, '놓다': 371, '이네': 372, '웃다': 373, '나라': 374, '따다': 375, '예쁘다': 376, '울다': 377, '놈': 378, '대단하다': 379, '지만': 380, '절대': 381, '얼굴': 382, '나쁘다': 383, '짜다': 384, '에도': 385, '반전': 386, '타다': 387, '스릴': 388, '이후': 389, '아주': 390, '대박': 391, '중반': 392, '장난': 393, '뭔': 394, '다르다': 395, '전혀': 396, '들이다': 397, '찾다': 398, '뿐': 399, '동안': 400, '얼마나': 401, '의미': 402, '다행': 403, '기다': 404, '어리다': 405, '시리즈': 406, '진심': 407, '아이': 408, '식': 409, '스릴러': 410, '떡밥': 411, '살리다': 412, '분들': 413, '시': 414, '신': 415, '평가': 416, '매우': 417, '해도': 418, '부': 419, '남기다': 420, '공포영화': 421, '용': 422, '풀다': 423, '소리': 424, '물': 425, '그래서': 426, '이지만': 427, '대해': 428, '전쟁': 429, '누구': 430, '댓글': 431, '움': 432, '자신': 433, '욕': 434, '잔잔하다': 435, '대다': 436, '놀라다': 437, '상': 438, '써다': 439, '잡다': 440, '제일': 441, '심장': 442, '제목': 443, '날': 444, '드리다': 445, '엔딩': 446, '함께': 447, '장르': 448, '이상하다': 449, '위해': 450, '남': 451, '귀엽다': 452, '어느': 453, '아프다': 454, '두다': 455, '전부': 456, '쉬다': 457, '담다': 458, '쏘다': 459, '씬': 460, '감성': 461, '오': 462, '전체': 463, '넷플': 464, '어울리다': 465, '기도': 466, '안타깝다': 467, '배우다': 468, '혼자': 469, '이란': 470, '라면': 471, '형': 472, '물론': 473, '손': 474, '액션영화': 475, '진실': 476, '뒤': 477, '꿈': 478, '구': 479, '걸리다': 480, '이번': 481, '씨': 482, '간': 483, '드라마': 484, '대한민국': 485, '공감': 486, '중국': 487, '존나': 488, '나가다': 489, '든': 490, '미국': 491, '이르다': 492, '어': 493, '여주': 494, '억': 495, '사운드': 496, '들어가다': 497, '역사': 498, '촬영': 499, '서다': 500, '기다리다': 501, '준': 502, '적다': 503, '당시': 504, '잊다': 505, '일단': 506, '망하다': 507, '힘': 508, '에서도': 509, '힘들다': 510, '생각나다': 511, '시나리오': 512, '소름': 513, '원작': 514, '햄': 515, 'ㅡㅡ': 516, '리얼': 517, '여기': 518, '아쉬움': 519, '점수': 520, '어설프다': 521, '얘기': 522, '유치하다': 523, '노래': 524, '반': 525, '에서는': 526, '시절': 527, '쓸다': 528, '엄청나다': 529, '다음': 530, '박정민': 531, '러닝': 532, '거기': 533, '데': 534, '따르다': 535, '말고': 536, '뛰어나다': 537, '보다는': 538, '순간': 539, '카메라': 540, '질': 541, '이지': 542, '떠나다': 543, '오히려': 544, 'ㅜㅜ': 545, '도대체': 546, '초': 547, '굳이': 548, '킬러': 549, '훨씬': 550, '그것': 551, '걸다': 552, '세계관': 553, '새롭다': 554, '또한': 555, '화가': 556, '그런': 557, '잔인하다': 558, '공포': 559, '토르': 560, '여성': 561, '제발': 562, '출연': 563, '여러': 564, '서로': 565, '넣다': 566, '재': 567, '가능하다': 568, '차라리': 569, '원': 570, '탄탄하다': 571, '갈다': 572, '후회': 573, '그대로': 574, '세': 575, '죽': 576, '등장': 577, '이야': 578, '따뜻하다': 579, '역대': 580, '최근': 581, '만나다': 582, '수작': 583, '엄마': 584, '나이': 585, '캐스팅': 586, '테이크': 587, '식이': 588, '필요하다': 589, '궁금하다': 590, '꽤': 591, '그게': 592, '아직도': 593, '어색하다': 594, '둘': 595, '선': 596, '엽문': 597, '사건': 598, '실제': 599, '터': 600, '자기': 601, '곳': 602, '세계': 603, '스럽다': 604, '그나마': 605, '화면': 606, '존재': 607, '편이': 608, '너': 609, '가볍다': 610, '속편': 611, '아무리': 612, '너무나': 613, '약간': 614, '일이': 615, '죽음': 616, 'ㅎ': 617, 'ㄹㅇ': 618, '터미네이터': 619, '바로': 620, '건가': 621, '생기다': 622, '웃기다': 623, '달다': 624, '돋다': 625, '잘생기다': 626, '더빙': 627, '만큼': 628, '쯤': 629, '맞추다': 630, '의도': 631, '쩔다': 632, '잼': 633, '쫄깃': 634, '에요': 635, '멀다': 636, '예상': 637, '니까': 638, '거지': 639, '해': 640, '비': 641, '누가': 642, '완성': 643, '그때': 644, '행복하다': 645, '깔다': 646, '싸우다': 647, '보단': 648, '도박장': 649, '제작': 650, '굉장하다': 651, '땀': 652, '포인트': 653, '비슷하다': 654, '기생충': 655, '비다': 656, '게임': 657, '클리셰': 658, '다소': 659, '오늘': 660, '관람': 661, '히': 662, '빨리': 663, '최우식': 664, '편집': 665, '리뷰': 666, '필요없다': 667, '단순하다': 668, '저런': 669, '짱': 670, '즐기다': 671, '그저': 672, '뜨다': 673, '박하다': 674, '싫다': 675, '배': 676, '똥': 677, '바라다': 678, '터지다': 679, '진부하다': 680, '어른': 681, '불편하다': 682, '힘드다': 683, '선택': 684, '되게': 685, '회수': 686, '주': 687, '볼때': 688, '역': 689, '술': 690, '아직': 691, '당': 692, '피': 693, '싸움': 694, '끝내다': 695, '잃다': 696, '뻔': 697, '년대': 698, '마무리': 699, '약하다': 700, '무조건': 701, '애니': 702, '요소': 703, '짧다': 704, '다운': 705, '저렇게': 706, '그걸': 707, '보': 708, '맘': 709, '청춘': 710, '티비': 711, '트롤': 712, '특유': 713, '이라도': 714, '새끼': 715, '이리': 716, '만점': 717, '조': 718, '심하다': 719, '양': 720, '살아가다': 721, '울': 722, '로맨스': 723, '아빠': 724, '이기다': 725, '인하다': 726, '라서': 727, '라도': 728, '현': 729, '새': 730, '코미디': 731, '보내다': 732, '상영': 733, '판': 734, '미도': 735, '우정': 736, '길다': 737, '이딴': 738, '충격': 739, '언제': 740, '에선': 741, '통해': 742, '대체': 743, '평범하다': 744, '나르다': 745, '정선': 746, '총기': 747, '행동': 748, '바': 749, '만들어지다': 750, '다만': 751, '온': 752, '경찰': 753, '인거': 754, '평론가': 755, '떨다': 756, '주연': 757, '더하다': 758, '발': 759, '거의': 760, '신파': 761, '시기': 762, '왕': 763, '휴': 764, '결론': 765, '싸다': 766, '화보': 767, '음': 768, '범죄': 769, '구성': 770, '올해': 771, '어렵다': 772, '가치': 773, '만으로도': 774, '한다는': 775, '바꾸다': 776, '이냐': 777, '교훈': 778, '며': 779, '심지어': 780, '명의': 781, '오지': 782, '만이': 783, '후속작': 784, '다니다': 785, '이름': 786, '먼저': 787, '취향': 788, '머리': 789, '갈수록': 790, '수도': 791, '밉다': 792, '진': 793, '불쌍하다': 794, '웃음': 795, '더럽다': 796, '줌': 797, '고민': 798, '오글거리다': 799, '정치': 800, '크게': 801, '지나다': 802, '상상': 803, '그러나': 804, '오락': 805, '그거': 806, '불다': 807, '강하다': 808, 'ㅜ': 809, '찾아보다': 810, '시도': 811, '인정': 812, '엉': 813, '조작': 814, '상당하다': 815, '한데': 816, '설레다': 817, '첨': 818, '포기': 819, '열': 820, '코믹': 821, '과정': 822, '타': 823, '의식': 824, '다가': 825, '최고다': 826, '자꾸': 827, '지리다': 828, '사다': 829, '이미': 830, '암': 831, '복수': 832, '질질': 833, '뭐라다': 834, '짐': 835, '존윅': 836, '어쩔': 837, '도망가다': 838, '산': 839, '추억': 840, '돌아가다': 841, '올리다': 842, '는걸': 843, '편하다': 844, '강추': 845, '확실하다': 846, '돋보이다': 847, '추격': 848, '아들': 849, '순': 850, '시즌': 851, '전쟁영화': 852, '잇다': 853, '에만': 854, '세월호': 855, '도망치다': 856, '영화인': 857, '돌리다': 858, '히어로': 859, '이정': 860, '잘만': 861, '류': 862, 'ㅠㅠㅠ': 863, '사': 864, '노력': 865, '발암': 866, '이병헌': 867, '안보': 868, '만의': 869, '머': 870, '아저씨': 871, '옛날': 872, '각자': 873, '맛': 874, '듣다': 875, '실감': 876, 'ㄷㄷ': 877, '구멍': 878, '실화': 879, '멍청하다': 880, '팬': 881, '떠오르다': 882, '그런데': 883, '분명': 884, '방식': 885, '후기': 886, '하루': 887, '웃기': 888, '스타일': 889, '안좋다': 890, '땜': 891, '쫓기다': 892, '법': 893, '무': 894, '예술': 895, '음향': 896, '글': 897, '국민': 898, '대로': 899, '흥행': 900, '몇번': 901, '연기자': 902, '색감': 903, '능력': 904, '각본': 905, '수가': 906, '단': 907, '불': 908, '갖다': 909, '거리': 910, '문': 911, '신나다': 912, '메세지': 913, '흥미롭다': 914, '이며': 915, '간다': 916, '느와르': 917, '이니': 918, '억지': 919, '흠': 920, '고맙다': 921, '씩': 922, '입': 923, '책': 924, '주제': 925, '척': 926, '더욱': 927, '소중하다': 928, '억지로': 929, '아버지': 930, '놓치다': 931, '롱': 932, '성은': 933, '깨다': 934, '젊다': 935, '만으로': 936, '실망하다': 937, '닿다': 938, '희생': 939, '다루다': 940, '외': 941, '까진': 942, '나서다': 943, '땐': 944, '답': 945, '평이': 946, '몸': 947, '읽다': 948, '짜증나다': 949, '란': 950, '한편': 951, '독특하다': 952, '다큐': 953, '미가': 954, '예고편': 955, '적당하다': 956, '닮다': 957, '의문': 958, '께': 959, '신기하다': 960, '디테일': 961, '역할': 962, '노': 963, '도시': 964, '슬픔': 965, '견자단': 966, '굿': 967, '정': 968, '봉준호': 969, '낫다': 970, '이제야': 971, '메시지': 972, '평생': 973, '짓': 974, '망작': 975, '냥': 976, '현재': 977, '박수': 978, '전반': 979, '거나': 980, '넘어가다': 981, '만에': 982, '본인': 983, '살짝': 984, '어이없다': 985, '까지는': 986, '필요': 987, '중요하다': 988, '만큼은': 989, '참고': 990, '넷': 991, '나머지': 992, '어이': 993, '도망': 994, '대화': 995, '당연하다': 996, '눈빛': 997, '항상': 998, '안재홍': 999, '모으다': 1000, '덕분': 1001, '소설': 1002, '누군가': 1003, '상상력': 1004, '겁나다': 1005, '방': 1006, '다가오다': 1007, '흘러가다': 1008, '결과': 1009, '관계': 1010, '좀더': 1011, '접': 1012, '판단': 1013, '때리다': 1014, '꿀잼': 1015, '강': 1016, '흥미진진': 1017, '딸': 1018, '노인': 1019, '제작비': 1020, '따라가다': 1021, '참신하다': 1022, '잡고': 1023, '소': 1024, '대만': 1025, '평소': 1026, '압도': 1027, '걱정': 1028, '무시': 1029, '숨다': 1030, '첫': 1031, '원래': 1032, '존잼': 1033, '애니메이션': 1034, '괜히': 1035, '아예': 1036, '갑자기': 1037, '이에요': 1038, '진행': 1039, '치고': 1040, '감다': 1041, '이하': 1042, '등장인물': 1043, '지키다': 1044, '당신': 1045, '애초': 1046, '빈약하다': 1047, '오래': 1048, '감각': 1049, '미안하다': 1050, '넘기다': 1051, '젤': 1052, '으로도': 1053, '원하다': 1054, '마저': 1055, '마치': 1056, '밤': 1057, '고구마': 1058, '수많다': 1059, '감탄': 1060, '깎다': 1061, '에게는': 1062, '이쁘다': 1063, '묻다': 1064, '라인': 1065, '너무하다': 1066, '가지다': 1067, '담배': 1068, '거슬리다': 1069, '끼다': 1070, '사용': 1071, '만하': 1072, '졸작': 1073, '자유': 1074, '쫓다': 1075, '맨': 1076, '과거': 1077, '망': 1078, '스러운': 1079, '지도': 1080, '조차': 1081, '롭고': 1082, '죄': 1083, '에겐': 1084, '분량': 1085, '매': 1086, '흘리다': 1087, '예': 1088, '케미': 1089, '영원하다': 1090, '년전': 1091, '관련': 1092, '심리': 1093, '던지다': 1094, '작다': 1095, '데리': 1096, '열리다': 1097, '걸작': 1098, '정신': 1099, '쓸데없이': 1100, '그렇다고': 1101, '대충': 1102, '이끌다': 1103, '각': 1104, '후속': 1105, '이어지다': 1106, '대부분': 1107, '즐겁다': 1108, '국내': 1109, '흐르다': 1110, '연결': 1111, '흥미': 1112, '청년': 1113, '조커': 1114, '겠다': 1115, '포스터': 1116, '작가': 1117, '악마': 1118, '동': 1119, '싫어하다': 1120, '흐름': 1121, '고생': 1122, '찌다': 1123, '아치': 1124, '어벤져스': 1125, 'ㅈㄴ': 1126, '참다': 1127, '점점': 1128, '바람': 1129, '커버': 1130, '위룡': 1131, '래': 1132, '형님': 1133, '오랫': 1134, '탈출': 1135, '심': 1136, '비교': 1137, '기본': 1138, '팔이': 1139, '소녀': 1140, '군대': 1141, '지나치다': 1142, '부족': 1143, '격전': 1144, '입장': 1145, '미화': 1146, '졸라': 1147, '뿌리다': 1148, '죠': 1149, '담기다': 1150, '분명하다': 1151, '무너지다': 1152, '날리다': 1153, '으로는': 1154, '기준': 1155, '혹시': 1156, '빛': 1157, '남편': 1158, '모': 1159, '목소리': 1160, '파': 1161, '으': 1162, '시원하다': 1163, '근': 1164, '그만': 1165, '그녀': 1166, '표정': 1167, '이시언': 1168, '내리다': 1169, '판타지': 1170, '길': 1171, '션': 1172, '일어나다': 1173, '드': 1174, '묘사': 1175, '기회': 1176, '다시다': 1177, '가능': 1178, '박정희': 1179, '화려하다': 1180, '어제': 1181, '장': 1182, '굳다': 1183, '차': 1184, '레알': 1185, '남녀': 1186, '통쾌하다': 1187, '가면': 1188, '박': 1189, '이라니': 1190, '들어오다': 1191, '숨': 1192, '밝히다': 1193, '계획': 1194, '예전': 1195, '전설': 1196, '태어나다': 1197, '흔하다': 1198, '사랑스럽다': 1199, '막히다': 1200, '상태': 1201, '총알': 1202, '낭비': 1203, '핵': 1204, '스럽게': 1205, '채우다': 1206, '나중': 1207, '관심': 1208, '재밋': 1209, '예요': 1210, '으로서': 1211, '자연': 1212, '성공하다': 1213, '런가': 1214, '대작': 1215, '욕먹다': 1216, '기법': 1217, '공': 1218, '까지만': 1219, '료': 1220, '유명하다': 1221, '오르다': 1222, '전도연': 1223, '스타워즈': 1224, '점주': 1225, '경제': 1226, '직접': 1227, '사라지다': 1228, '이기': 1229, '편도': 1230, '다양하다': 1231, '스포': 1232, '쪽': 1233, '여전하다': 1234, '주의': 1235, '왤케': 1236, '만은': 1237, '완벽': 1238, '울리다': 1239, '여서': 1240, '올라가다': 1241, '채': 1242, '보이': 1243, '어디': 1244, '끌다': 1245, '세다': 1246, '관': 1247, '존': 1248, '깔끔하다': 1249, '아마': 1250, '어디서': 1251, '꾸다': 1252, '발전': 1253, '조명': 1254, '지옥': 1255, '불친절하다': 1256, '피해자': 1257, '신경': 1258, '여러분': 1259, '윤성현': 1260, '시선': 1261, '그림': 1262, '겪다': 1263, '지겹다': 1264, '일으키다': 1265, '해석': 1266, '틀다': 1267, '눈물나다': 1268, '킬링': 1269, '천재': 1270, '감사': 1271, '희망': 1272, '번은': 1273, '및': 1274, '라라': 1275, '리': 1276, '날다': 1277, '반갑다': 1278, '자극': 1279, '디테': 1280, '잘못': 1281, '바다': 1282, '스크린': 1283, '효과': 1284, '망치다': 1285, '암튼': 1286, '얼': 1287, '지루함': 1288, '시점': 1289, '살아나다': 1290, '줍다': 1291, '쥐': 1292, '송': 1293, '높이다': 1294, '병원': 1295, '납득': 1296, '떼다': 1297, '무서움': 1298, '쥐다': 1299, '얼마': 1300, '랄': 1301, '엉망': 1302, '방금': 1303, '재앙': 1304, '성하다': 1305, '삼': 1306, '비판': 1307, '칭찬': 1308, '무비': 1309, '틈': 1310, '유쾌하다': 1311, '아픔': 1312, '낮': 1313, '이루다': 1314, '발견': 1315, '높아지다': 1316, '데리다': 1317, '삼류': 1318, '감히': 1319, '응원': 1320, '달': 1321, '마블': 1322, '개다': 1323, '남성': 1324, '폭': 1325, '반복': 1326, '섬세하다': 1327, '플렉스': 1328, '귀': 1329, '드물다': 1330, '악평': 1331, '로는': 1332, '백': 1333, '비극': 1334, '선동': 1335, '숨막히다': 1336, '서사': 1337, '그날': 1338, 'ㅇㅇ': 1339, '키': 1340, '봣': 1341, '우울하다': 1342, '공부': 1343, '용기': 1344, '부실하다': 1345, '외국': 1346, '잠시': 1347, '퀄리티': 1348, '군': 1349, '스트레스': 1350, '라니': 1351, '등등': 1352, '좀비': 1353, '그치다': 1354, '탑': 1355, '예산': 1356, '부부': 1357, '잠': 1358, '정서': 1359, '부모님': 1360, '계': 1361, '도전': 1362, '마냥': 1363, '벗어나다': 1364, '보통': 1365, '인도': 1366, '서스펜스': 1367, '피해': 1368, '짜임새': 1369, '용서': 1370, '경험': 1371, '마동석': 1372, '나아가다': 1373, '우주': 1374, '로써': 1375, '덜덜': 1376, '단어': 1377, '늙다': 1378, '형제': 1379, '쩐다': 1380, '무료': 1381, '갖추다': 1382, '검찰': 1383, '국가': 1384, '딱하다': 1385, '하나로': 1386, '그만큼': 1387, '근래': 1388, '국뽕': 1389, '빨': 1390, '맞서다': 1391, '상이': 1392, '우린': 1393, '만족': 1394, '버티다': 1395, '짜증': 1396, '어쩌면': 1397, '펑펑': 1398, '아련하다': 1399, '부럽다': 1400, '악플': 1401, '가깝다': 1402, '피다': 1403, '동화': 1404, '놀래다': 1405, '암울하다': 1406, '마약': 1407, '가끔': 1408, '조폭': 1409, '막': 1410, '갈등': 1411, '보아': 1412, '새벽': 1413, '이미지': 1414, '복선': 1415, '이재훈': 1416, '페미': 1417, '장국영': 1418, '덜': 1419, '안다': 1420, '식상하다': 1421, '성장': 1422, '맡다': 1423, '해외': 1424, '저리': 1425, '젠': 1426, '조연': 1427, '특징': 1428, '끼리': 1429, '과의': 1430, '유머': 1431, '낚시터': 1432, '화나다': 1433, '그린': 1434, '물이': 1435, '얻다': 1436, '불안하다': 1437, '빨갱이': 1438, '쫄려': 1439, '전투씬': 1440, '불구': 1441, '자식': 1442, '탓': 1443, '개꿀잼': 1444, '구도': 1445, '언제나': 1446, '휘': 1447, '우연히': 1448, '에서의': 1449, '역겹다': 1450, '위로': 1451, '이면': 1452, '익스': 1453, '트랙': 1454, '혹평': 1455, '째': 1456, '상처': 1457, '막판': 1458, '범인': 1459, '옆': 1460, '수고': 1461, '결혼': 1462, '풍자': 1463, '없어지다': 1464, '똑같다': 1465, '돌아오다': 1466, '드러나다': 1467, '성도': 1468, '고딩': 1469, '지는': 1470, 'ㅈ': 1471, '뛰다': 1472, '사냥꾼': 1473, '뜻': 1474, '입다': 1475, '달리다': 1476, '가보다': 1477, '이소룡': 1478, '목숨': 1479, '허무하다': 1480, '말함': 1481, '바뀌다': 1482, '요시': 1483, '보시': 1484, '과연': 1485, '이만': 1486, '이전': 1487, '스스로': 1488, '살인': 1489, 'ㅠㅠㅠㅠ': 1490, '으론': 1491, '아침': 1492, '시청': 1493, '자동차': 1494, '한심하다': 1495, '정부': 1496, '정권': 1497, '기적': 1498, 'ㅡ': 1499, '인가요': 1500, '말로': 1501, '분노': 1502, '저지르다': 1503, '두렵다': 1504, '돌려주다': 1505, '호불호': 1506, '무겁다': 1507, '점도': 1508, '드럽다': 1509, '로서': 1510, '한마디': 1511, '희다': 1512, '열심히': 1513, '숨기다': 1514, '여배우': 1515, '목': 1516, '왠만하다': 1517, '부로': 1518, '귀신': 1519, '어둡다': 1520, '팔': 1521, '지난': 1522, '이라서': 1523, '스럽지': 1524, '투자': 1525, '난리': 1526, '화중': 1527, '이용': 1528, '면서': 1529, '장이': 1530, '차별': 1531, '데이': 1532, '들어서다': 1533, '정리': 1534, '치': 1535, '동시': 1536, 'ㅎㅎㅎ': 1537, '배그': 1538, '티': 1539, '곡': 1540, '바라보다': 1541, '생활': 1542, '이래': 1543, '풀리다': 1544, '준비': 1545, '깜짝': 1546, '구석': 1547, '순삭': 1548, '결제': 1549, '관점': 1550, '부여': 1551, '대가': 1552, '증거': 1553, '시각': 1554, '일부러': 1555, '중후': 1556, '쫒다': 1557, '미장센': 1558, '의지': 1559, '호구': 1560, '표': 1561, '주변': 1562, '만족하다': 1563, '마르다': 1564, '메': 1565, '반드시': 1566, '대신': 1567, '단점': 1568, '자리': 1569, '헐리우드': 1570, '동네': 1571, '사고': 1572, '아무튼': 1573, '늘': 1574, '행복': 1575, '잠깐': 1576, '너무나도': 1577, '잊혀지다': 1578, '준석': 1579, '액션씬': 1580, '중학생': 1581, '중병': 1582, '한숨': 1583, '다치다': 1584, '자막': 1585, '뜬금': 1586, '년도': 1587, '장점': 1588, '만을': 1589, '끌': 1590, '자본': 1591, '해결': 1592, '으로써': 1593, '홍콩': 1594, '유지': 1595, '신분': 1596, '나타나다': 1597, '대의': 1598, '저러다': 1599, '로만': 1600, '무기': 1601, '주차장': 1602, '루즈': 1603, '완전하다': 1604, '제로': 1605, '군인': 1606, '누': 1607, '악당': 1608, '향': 1609, '털다': 1610, '주지': 1611, '착하다': 1612, '끊다': 1613, '응': 1614, '정상': 1615, '블랙': 1616, '무난': 1617, '미아': 1618, 'ㄷㄷㄷ': 1619, '마찬가지': 1620, '성공': 1621, '뒷': 1622, '하정우': 1623, '눈치': 1624, '체': 1625, '밝혀지다': 1626, '생': 1627, '두려움': 1628, '헐리웃': 1629, '소년': 1630, '호흡': 1631, '띵작': 1632, '정우성': 1633, '이어서': 1634, '총격': 1635, '워': 1636, '쓰이다': 1637, '엇': 1638, '좌빨': 1639, '잔뜩': 1640, '색다르다': 1641, '추': 1642, '실패하다': 1643, '괴물': 1644, '정체': 1645, '오열': 1646, '멈추다': 1647, '아이언맨': 1648, '별거': 1649, '줄다': 1650, '광고': 1651, '악역': 1652, '하늘': 1653, '체험': 1654, '따로': 1655, '종종': 1656, '톤': 1657, '덕': 1658, '섹시하다': 1659, '어쩌': 1660, '으로만': 1661, '첫사랑': 1662, '이상은': 1663, '단순': 1664, '차이': 1665, '때우다': 1666, '잖다': 1667, '긴박하다': 1668, '우려': 1669, '회': 1670, '말고는': 1671, '정의': 1672, '대결': 1673, '말씀': 1674, 'ㅅㅂ': 1675, '온갖': 1676, '난무': 1677, '케릭': 1678, '김재규': 1679, '벌써': 1680, '마스크': 1681, '정작': 1682, '방해': 1683, '유발': 1684, '끌리다': 1685, '지치다': 1686, '깨닫다': 1687, '공개': 1688, '조합': 1689, '와는': 1690, '추가': 1691, '구조': 1692, '거치다': 1693, '깊이': 1694, '갓': 1695, '변하다': 1696, '학생': 1697, '통': 1698, '여행': 1699, '진정하다': 1700, '비중': 1701, '베스트': 1702, '인기': 1703, '댓글알바': 1704, '꿈꾸다': 1705, '묻히다': 1706, '늦추다': 1707, '문재인': 1708, '캐': 1709, '정확하다': 1710, '스킵': 1711, '동물': 1712, '이선균': 1713, '힐링': 1714, '깨': 1715, '민주주의': 1716, '두번째': 1717, '금': 1718, '광주': 1719, '접다': 1720, '김': 1721, '전달': 1722, '다시금': 1723, '론': 1724, '몰다': 1725, '폭력': 1726, '우선': 1727, '세련되다': 1728, '처': 1729, '토': 1730, '핸드폰': 1731, '방법': 1732, '리즈': 1733, '해수': 1734, '천만': 1735, '그건': 1736, '용이': 1737, '어떠하다': 1738, '청소년': 1739, '관람객': 1740, '어거지': 1741, '기억나다': 1742, '순수하다': 1743, '붙이다': 1744, '의리': 1745, '특별하다': 1746, '잡히다': 1747, '타고': 1748, '용도': 1749, '볼거리': 1750, '빡치다': 1751, '대안': 1752, '연속': 1753, '여유': 1754, '마저도': 1755, '오브': 1756, '요리': 1757, '해내다': 1758, '올': 1759, '어떤': 1760, '와중': 1761, '친절하다': 1762, '애매하다': 1763, '뜨겁다': 1764, '컨셉': 1765, '저렇다': 1766, '타짜': 1767, '로운': 1768, '봣는데': 1769, '번째': 1770, '부르다': 1771, '안나': 1772, '아내': 1773, '빨다': 1774, '활용': 1775, '때매': 1776, '전형': 1777, '풋풋하다': 1778, '추하다': 1779, '뿐이다': 1780, '다섯': 1781, '정말로': 1782, '시민': 1783, '에게도': 1784, '어찌': 1785, '배다': 1786, '모자라다': 1787, '넘어서다': 1788, '최소': 1789, '미나': 1790, '잡': 1791, '강도': 1792, '보다도': 1793, '가방': 1794, '대감': 1795, '겨': 1796, '느리다': 1797, '상업': 1798, '언론': 1799, '흡입': 1800, '만약': 1801, '지구': 1802, '켜다': 1803, '키드': 1804, '고조': 1805, '감명': 1806, '우': 1807, '공짜': 1808, '소통': 1809, '신의': 1810, '어둠': 1811, '부재': 1812, '곧': 1813, '화끈하다': 1814, '훔치다': 1815, '짬뽕': 1816, 'ㅇ': 1817, '그럭저럭': 1818, '존경': 1819, '붙다': 1820, '짓다': 1821, '참혹하다': 1822, '쏟다': 1823, '웬디': 1824, '만들기': 1825, '메다': 1826, '초점': 1827, '세번': 1828, '기대다': 1829, '아무렇다': 1830, '과도': 1831, '딱이다': 1832, '폰': 1833, '찰떡': 1834, '인걸': 1835, '한참': 1836, '다그': 1837, '영화계': 1838, '청': 1839, '대가리': 1840, '호': 1841, '따지다': 1842, '짜이다': 1843, '너무도': 1844, '팀': 1845, '스케일': 1846, '복잡하다': 1847, '다한': 1848, '심심하다': 1849, '치가': 1850, '묘': 1851, '달라': 1852, '드네': 1853, '조용하다': 1854, '설마': 1855, '쫄리': 1856, '영환': 1857, '누르다': 1858, '호강': 1859, '제외': 1860, '규명': 1861, '단편영화': 1862, '확장': 1863, '루프': 1864, '빠르다': 1865, '조진웅': 1866, '주지훈': 1867, '안해': 1868, '의견': 1869, '떨리다': 1870, '일상': 1871, 'ㅠㅜ': 1872, '톰': 1873, '맡기다': 1874, '애쓰다': 1875, '절절': 1876, '만족스럽다': 1877, '공유': 1878, '키우다': 1879, '지경': 1880, '어머니': 1881, '위대하다': 1882, '클레멘타인': 1883, '출신': 1884, '두운': 1885, '혐오': 1886, '다리': 1887, '만화': 1888, '클라스': 1889, '도저히': 1890, '확인': 1891, '탕': 1892, '뚝뚝': 1893, '끊기다': 1894, '군더더기': 1895, '옷': 1896, '기승': 1897, '전결': 1898, '자주': 1899, '이혼': 1900, '욕심': 1901, '털': 1902, '아기': 1903, '펴다': 1904, '멱살': 1905, '들리다': 1906, '특이하다': 1907, '조직': 1908, '시체': 1909, '추다': 1910, '너희': 1911, '한국판': 1912, '초딩': 1913, '졸리다': 1914, '부끄럽다': 1915, '염두': 1916, '뭐임': 1917, '적절하다': 1918, '명품': 1919, '지원': 1920, '오래되다': 1921, '라운드': 1922, '뽑다': 1923, '선사': 1924, '혼나다': 1925, '그동안': 1926, '악의': 1927, '일품': 1928, '낳다': 1929, '폭발': 1930, '디지다': 1931, '가득하다': 1932, '조선': 1933, '불륜': 1934, '천국': 1935, '조사': 1936, '월': 1937, '짝': 1938, '맥': 1939, '최민식': 1940, '킹덤': 1941, '마디': 1942, '밀다': 1943, '언젠가': 1944, '진상': 1945, '고통': 1946, '짱깨': 1947, '박근혜': 1948, '트라우마': 1949, '연휴': 1950, '무언가': 1951, '프라이머리': 1952, '하나님': 1953, '여러가지': 1954, 'ㅉㅉ': 1955, '쓰래': 1956, '짠하다': 1957, '철': 1958, '간지': 1959, '성장하다': 1960, '문화': 1961, '마녀': 1962, '람보': 1963, '찾아오다': 1964, '녹다': 1965, '많아지다': 1966, '화의': 1967, '언': 1968, '와도': 1969, '숨소리': 1970, '배경음악': 1971, '씹다': 1972, '산만하다': 1973, '덤': 1974, '잠들다': 1975, '극도': 1976, '몫': 1977, '마케팅': 1978, '작화': 1979, '비주': 1980, '뎅': 1981, '지나가다': 1982, '극복': 1983, '랜드': 1984, '섬': 1985, '웹툰': 1986, '외할머니': 1987, '실력': 1988, '찍': 1989, '자라다': 1990, '단지': 1991, '베다': 1992, '오스카': 1993, '보라': 1994, '미모': 1995, '연성': 1996, '부리다': 1997, '권': 1998, '독재': 1999, '엿': 2000, '사상': 2001, '경': 2002, '착각': 2003, '위험하다': 2004, '성의': 2005, '줄거리': 2006, '유해진': 2007, '미소': 2008, '박진': 2009, '가득': 2010, '실험': 2011, '스타': 2012, '전세계': 2013, '겁니다': 2014, '할리우드': 2015, '일찍': 2016, '벌벌': 2017, '갈리다': 2018, '점줌': 2019, '제작자': 2020, '사기': 2021, '블랙코미디': 2022, '생략': 2023, '하여간': 2024, '한수': 2025, '최': 2026, '지르다': 2027, '기르다': 2028, '도르다': 2029, '카': 2030, '돌다': 2031, '기만': 2032, '게다가': 2033, '레옹': 2034, '명예': 2035, '병맛': 2036, '지브리': 2037, '뭣': 2038, '섞다': 2039, '무장': 2040, '방영': 2041, '코': 2042, '장소': 2043, '대중': 2044, '이여': 2045, '맺다': 2046, '연애': 2047, '와이프': 2048, '조정': 2049, '기획': 2050, '억지스럽다': 2051, '정보': 2052, '거부': 2053, '최대': 2054, '주말': 2055, '한몫': 2056, '선하다': 2057, '권력': 2058, '개도': 2059, '맛있다': 2060, '마주': 2061, '이자': 2062, '워낙': 2063, '지지': 2064, '순위': 2065, '감안': 2066, '모양': 2067, '충': 2068, '최선': 2069, '기태': 2070, '인게': 2071, '진지하다': 2072, '캐리': 2073, '열정': 2074, '와우': 2075, '나누다': 2076, '분기점': 2077, '이서': 2078, '놀랍다': 2079, '앵글': 2080, '크레딧': 2081, '크리스': 2082, '사투리': 2083, '바보': 2084, '어케': 2085, '철학': 2086, '과학': 2087, '폭망': 2088, '내면': 2089, '지우다': 2090, '세월': 2091, '기존': 2092, '미루다': 2093, '같잖다': 2094, '리메이크': 2095, '값': 2096, '반응': 2097, '부모': 2098, '상수': 2099, '운명': 2100, '내일': 2101, '성인': 2102, '아카데미': 2103, '술함': 2104, '왜곡': 2105, '치유': 2106, '토록': 2107, '까지도': 2108, '약': 2109, '먹히다': 2110, '껏': 2111, '흑인': 2112, '참으로': 2113, '케': 2114, '교과서': 2115, '전두환': 2116, '지하': 2117, '에바': 2118, '악': 2119, '매번': 2120, '반하다': 2121, '외우다': 2122, '실수': 2123, '복싱': 2124, '스': 2125, '보완': 2126, '처절하다': 2127, '형사': 2128, '집착': 2129, '독립영화': 2130, '반영': 2131, '이념': 2132, '책임': 2133, '사정': 2134, '즐거움': 2135, '한순간': 2136, '개성': 2137, '요새': 2138, '중심': 2139, '맨날': 2140, '사이': 2141, '범죄자': 2142, '덮다': 2143, '감옥': 2144, '촌스럽다': 2145, '찌질하다': 2146, '일반인': 2147, '긋다': 2148, '만난': 2149, '만도': 2150, '연관': 2151, '쫄보': 2152, '찾아내다': 2153, '비행기': 2154, '여기다': 2155, '매일': 2156, '중국인': 2157, '활약': 2158, '묵직하다': 2159, '앉다': 2160, '치히로': 2161, '구원': 2162, '도박': 2163, '한계': 2164, '거지같다': 2165, '어린시절': 2166, '달라지다': 2167, '한지': 2168, '구로': 2169, '무척': 2170, '곳곳': 2171, '긴박': 2172, '늦다': 2173, '동생': 2174, '세기': 2175, '밑': 2176, '비우다': 2177, '취급': 2178, '천': 2179, '졸다': 2180, '커서': 2181, '줄이다': 2182, '빛나다': 2183, '직업': 2184, '하이': 2185, '세바스찬': 2186, '돼지': 2187, '가요': 2188, '관계자': 2189, '리지': 2190, '휴대폰': 2191, '펼쳐지다': 2192, '회사': 2193, '고양이': 2194, '곱씹다': 2195, '고전': 2196, '떠들다': 2197, '멍': 2198, '재료': 2199, '미리': 2200, '비현실적': 2201, '굿굿': 2202, '천안함': 2203, '반성': 2204, '전편': 2205, '놀란': 2206, '디카프리오': 2207, '뜬금없이': 2208, '생생하다': 2209, '기쁨': 2210, '빠져들다': 2211, '전작': 2212, '풀': 2213, '깡패': 2214, '엔딩크레딧': 2215, '바르다': 2216, '거짓': 2217, '따위': 2218, '의외로': 2219, '나이키': 2220, '퓨마': 2221, '갑': 2222, '예측': 2223, '가게': 2224, '존잘': 2225, '유치': 2226, '억울하다': 2227, '부터는': 2228, '말투': 2229, '들어주다': 2230, '건물': 2231, '가기': 2232, '전문가': 2233, '채다': 2234, '왜케': 2235, '사람과': 2236, '거임': 2237, '나아지다': 2238, '좋아지다': 2239, '에서만': 2240, '피식': 2241, '절': 2242, '항': 2243, '확': 2244, '레드': 2245, '논': 2246, '성우': 2247, '이따위': 2248, '파다': 2249, '어쨌든': 2250, '배역': 2251, '옥': 2252, '이라고는': 2253, '방글라데시': 2254, '각색': 2255, '애기': 2256, '환자': 2257, '주위': 2258, '보고오다': 2259, '컷': 2260, '달달': 2261, '강렬하다': 2262, '현장': 2263, '겉': 2264, '독립': 2265, '불만': 2266, '국군': 2267, '드림': 2268, '나발': 2269, '부족함': 2270, '낮추다': 2271, '계시다': 2272, '쓴다': 2273, '속이다': 2274, '빵빵': 2275, '맥락': 2276, '앞뒤': 2277, '젊은이': 2278, '알리다': 2279, '뭉클하다': 2280, '잃어버리다': 2281, '벌다': 2282, '신세계': 2283, '부터가': 2284, '자하': 2285, 'ㅂㅅ': 2286, '해피': 2287, '암시': 2288, '함축': 2289, '전라도': 2290, '찬란하다': 2291, '어휴': 2292, '레전드': 2293, '미군': 2294, '피하': 2295, '할머니': 2296, '울면': 2297, '탄생': 2298, '무지': 2299, '최강': 2300, '각성': 2301, '도안': 2302, '직전': 2303, '린다': 2304, '끝내주다': 2305, '아오': 2306, '오프닝': 2307, '디': 2308, '씁쓸하다': 2309, '정직하다': 2310, '오랜만': 2311, '박평': 2312, '고작': 2313, '영향': 2314, '죄다': 2315, '어우러지다': 2316, '가야': 2317, '푹': 2318, '멜로': 2319, '소화': 2320, '장동': 2321, '김씨': 2322, '가뭄': 2323, '단비': 2324, '박다': 2325, '삭제': 2326, '감정이입': 2327, '깡': 2328, '어떻': 2329, '전해지다': 2330, '인척': 2331, '오직': 2332, '춤': 2333, '더불다': 2334, '빚': 2335, '인터뷰': 2336, '전의': 2337, '남발': 2338, '일부': 2339, '해안가': 2340, '고등학교': 2341, '익숙하다': 2342, '인류': 2343, '전하': 2344, '본능': 2345, '외면': 2346, '꽉': 2347, '혹': 2348, '재능': 2349, '호평': 2350, '그만하다': 2351, '배신': 2352, '확신': 2353, '마스터피스': 2354, '마': 2355, '조던': 2356, '똑똑하다': 2357, '손익': 2358, '잔': 2359, '반대': 2360, '객관': 2361, '대사도': 2362, '쭉': 2363, '런닝타임': 2364, '불안': 2365, '부산': 2366, '비용': 2367, '계산': 2368, '안함': 2369, '의하다': 2370, '심오하다': 2371, '보신': 2372, '교수': 2373, '편견': 2374, '밝혀내다': 2375, '동정': 2376, '놀다': 2377, '던데': 2378, '차이다': 2379, '벌어지다': 2380, '만남': 2381, '구나': 2382, '알차다': 2383, '찾기': 2384, '남아': 2385, '할리퀸': 2386, '호아킨': 2387, '껄': 2388, '고용': 2389, '던': 2390, '시위': 2391, '질감': 2392, '얘': 2393, '금방': 2394, '이기도': 2395, '찡하다': 2396, '세우다': 2397, '종교': 2398, '뉴스': 2399, '녹이다': 2400, '이영애': 2401, '빌리다': 2402, '경이': 2403, '쫌': 2404, '노예': 2405, '부디': 2406, '아악': 2407, '학교': 2408, '간첩': 2409, '손예진': 2410, '고등학생': 2411, '쿵후': 2412, '박살': 2413, '약자': 2414, '실패': 2415, '태도': 2416, '최소한': 2417, '끔찍하다': 2418, '고스': 2419, '프랑스': 2420, '투성이': 2421, '만큼의': 2422, '임용': 2423, '붕괴': 2424, '여정': 2425, '불필요하다': 2426, '조지': 2427, '목적': 2428, '애비': 2429, '범': 2430, '감추다': 2431, '지나': 2432, '적임': 2433, '막다': 2434, '수사': 2435, '사토': 2436, '윌스미스': 2437, '이니까': 2438, '훗날': 2439, '쉬': 2440, '방송': 2441, '안녕하다': 2442, '갱스터': 2443, '삼다': 2444, '자고': 2445, '서울': 2446, '종일': 2447, '면도': 2448, '추격씬': 2449, '겹': 2450, '옴': 2451, '떠올리다': 2452, '자격': 2453, '진정': 2454, '측면': 2455, '꺼': 2456, '배틀': 2457, '술래잡기': 2458, '헴스워스': 2459, '하니': 2460, '갠': 2461, '몇몇': 2462, '무모하다': 2463, '즉': 2464, '차례': 2465, '보나': 2466, '챙기다': 2467, '하드캐리': 2468, '본적': 2469, '보정': 2470, '보이지': 2471, '꾸역꾸역': 2472, '화영': 2473, '외모': 2474, '구리': 2475, '려고': 2476, '우한': 2477, '밖': 2478, '노리다': 2479, '찬': 2480, '거대': 2481, '자연스럽다': 2482, '로코': 2483, '신부': 2484, '저녁': 2485, '성별': 2486, '틴': 2487, '유튜브': 2488, '담': 2489, '병': 2490, '옳다': 2491, '비트': 2492, '자살': 2493, '부조리': 2494, '돌아보다': 2495, '주장': 2496, '이래서': 2497, '황정민': 2498, '나위': 2499, '편의': 2500, '사태': 2501, '여인': 2502, '경우': 2503, '초등학생': 2504, '주행': 2505, '내주다': 2506, '겨우': 2507, '된거': 2508, '께서': 2509, '운송': 2510, '머릿속': 2511, '불법': 2512, '수년': 2513, '범벅': 2514, '난해하다': 2515, '기쁘다': 2516, '자세하다': 2517, '영어': 2518, '짤': 2519, '평균': 2520, '받아들이다': 2521, '역사상': 2522, '실사': 2523, '년생': 2524, '플': 2525, '공간': 2526, '추리': 2527, '아끼다': 2528, '긴장도': 2529, '철저하다': 2530, '높이': 2531, '성룡': 2532, 'ㄷ': 2533, '승리': 2534, '방탄': 2535, '기술': 2536, 'ㅉ': 2537, '살기': 2538, '라인업': 2539, '니깐': 2540, '봉': 2541, '듬': 2542, '극한': 2543, '차리다': 2544, '차기작': 2545, '혼란': 2546, '헛': 2547, '용다': 2548, '살아오다': 2549, '카지노': 2550, '일반': 2551, '조승우': 2552, '움직이다': 2553, '생기': 2554, '설': 2555, '이던': 2556, '주가': 2557, '지식': 2558, '브랜드': 2559, '아디다스': 2560, '증명': 2561, '한자': 2562, '양심': 2563, '운': 2564, '어차피': 2565, '시가지': 2566, '왠지': 2567, '컬': 2568, '기전': 2569, '가져오다': 2570, '가하다': 2571, '지리': 2572, '민망하다': 2573, '희망이': 2574, '손발': 2575, '무고': 2576, '폐': 2577, '하와이': 2578, '생애': 2579, '다녀오다': 2580, '그립다': 2581, '꽃': 2582, '추격자': 2583, '임신': 2584, '좌파': 2585, '덥다': 2586, '쟤': 2587, '틀': 2588, '이보': 2589, '극장판': 2590, '영매': 2591, '빽': 2592, '패왕별희': 2593, '르': 2594, '최후': 2595, '즈': 2596, '투': 2597, '손색': 2598, '흘러나오다': 2599, '도와주다': 2600, '재즈': 2601, '뛰어넘다': 2602, '망가지다': 2603, '자신감': 2604, '어벤저스': 2605, '애가': 2606, '낚시': 2607, '매드': 2608, '학살': 2609, '화란': 2610, '틀어놓다': 2611, '선생': 2612, '이의': 2613, '영화사': 2614, '참여': 2615, '건데': 2616, '멋': 2617, '이외': 2618, '비싸다': 2619, '루소': 2620, '안정': 2621, '누리': 2622, '삶다': 2623, '듭니': 2624, '성냥': 2625, '재림': 2626, '날카롭다': 2627, '알맹이': 2628, '장악': 2629, '트리': 2630, '망치': 2631, '린': 2632, '징': 2633, '대치': 2634, '길거리': 2635, '일지': 2636, '노골': 2637, '클래식': 2638, '치밀다': 2639, '편안하다': 2640, '고뇌': 2641, '다나': 2642, '배급사': 2643, '후회되다': 2644, '정유미': 2645, '싸': 2646, '달러': 2647, '번만': 2648, '초능력': 2649, '근본': 2650, '서도': 2651, '그럴듯하다': 2652, '무의미하다': 2653, '리오': 2654, '욕망': 2655, '전투': 2656, '살인마': 2657, '팝콘': 2658, '어물': 2659, '진짜진짜': 2660, '모이다': 2661, '충실하다': 2662, '카리스마': 2663, '다라': 2664, '털리다': 2665, '다크나이트': 2666, '셋': 2667, '스릴러물': 2668, '납치': 2669, '강의': 2670, '최대한': 2671, '갑툭튀': 2672, '발생': 2673, '라이': 2674, '성적': 2675, '끼치다': 2676, '졸이다': 2677, '픽션': 2678, '별개': 2679, '주어지다': 2680, '열연': 2681, '물어보다': 2682, '짜내다': 2683, '되새기다': 2684, '깨물다': 2685, '늘어나다': 2686, '꼴': 2687, '넘사벽': 2688, '놀이': 2689, '신파극': 2690, '베댓': 2691, '또는': 2692, '자녀': 2693, '다해': 2694, '새록새록': 2695, '추적': 2696, '게뭐': 2697, '재난영화': 2698, '차원': 2699, '궁금증': 2700, '가능성': 2701, '한가지': 2702, '미술': 2703, '로라': 2704, '이든': 2705, '날씨': 2706, '세기말': 2707, '아이디어': 2708, '에이': 2709, '진하다': 2710, '성과': 2711, '쫄깃쫄깃': 2712, '소개': 2713, '화답': 2714, '핫': 2715, '의사': 2716, '꺼내다': 2717, '대하': 2718, '할아버지': 2719, '대조': 2720, '후유증': 2721, '타임머신': 2722, '어플': 2723, '로맨스영화': 2724, '개념': 2725, '기계': 2726, '스마트폰': 2727, '발휘': 2728, '비디오': 2729, '시간여행': 2730, '기발하다': 2731, '옹': 2732, '이구': 2733, '간결하다': 2734, '호갱': 2735, '지수': 2736, '쫄리면': 2737, '찝찝하다': 2738, '뒤늦다': 2739, '퀄': 2740, '훌쩍': 2741, '습': 2742, '피닉스': 2743, '끌어당기다': 2744, '정민': 2745, '페미니즘': 2746, '강아지': 2747, '갇히다': 2748, '물고기': 2749, '끊임없다': 2750, '내려오다': 2751, '자료': 2752, '데이터': 2753, '의심': 2754, '어딨다': 2755, '앵': 2756, '끝내': 2757, '누군지': 2758, '권상우': 2759, '언브레이커블': 2760, '멘트': 2761, '오랫동안': 2762, '하아': 2763, '전개도': 2764, '집다': 2765, '그러면': 2766, '든지': 2767, '메인': 2768, '가짜': 2769, '압': 2770, '달리': 2771, '앤': 2772, '풍경': 2773, '쇼': 2774, '공효진': 2775, '인종차별': 2776, '인들': 2777, '배우진': 2778, '군데': 2779, '로다주': 2780, '비유': 2781, '상징': 2782, '래야': 2783, '북한': 2784, '세력': 2785, '무한': 2786, '경의': 2787, '뚫리다': 2788, '언어': 2789, '브래드피트': 2790, '우아하다': 2791, '부자연스럽다': 2792, '폐허': 2793, '의아': 2794, '인간성': 2795, '보상': 2796, '지적': 2797, '라이어': 2798, '대놓고': 2799, '레이첼': 2800, '부다': 2801, '미필': 2802, '외로': 2803, '멍청이': 2804, '윤': 2805, '자가': 2806, '겨울왕국': 2807, '이나마': 2808, '졸리': 2809, '듣기': 2810, '펑크': 2811, '붉다': 2812, '풀이': 2813, '무능하다': 2814, '에나': 2815, '라기': 2816, '동심': 2817, '지내다': 2818, '통한': 2819, '맴': 2820, '찢다': 2821, '직원': 2822, '빌런': 2823, '검사': 2824, '도로': 2825, '쟁이': 2826, '활': 2827, '백배': 2828, '천배': 2829, '조화': 2830, '몰아치다': 2831, '송운화': 2832, '뒤통수': 2833, '올라오다': 2834, '물어': 2835, '포상': 2836, '나타내다': 2837, '자르다': 2838, '도중': 2839, '유일하다': 2840, '추측': 2841, '개구': 2842, '쌍둥이': 2843, '욕설': 2844, '죄송하다': 2845, '접근': 2846, '때로는': 2847, '결정': 2848, '뇌절': 2849, '명연기': 2850, '남친': 2851, '랩': 2852, '그간': 2853, '천식': 2854, '딸리다': 2855, '연상': 2856, '비추다': 2857, '엥': 2858, '수십': 2859, '과장': 2860, '낫': 2861, '기묘하다': 2862, '아역': 2863, '옮기다': 2864, '일도': 2865, '폐렴': 2866, '무릎': 2867, '고어': 2868, '고어영화': 2869, '굴복': 2870, '벌리다': 2871, '꿀잠': 2872, '장가': 2873, '빨갛다': 2874, '해봤다': 2875, '짓거리': 2876, '보고서': 2877, '건강하다': 2878, '동기': 2879, '명확하다': 2880, '젖다': 2881, '칼': 2882, '하울': 2883, '당장': 2884, '동해': 2885, '테레사': 2886, '햇': 2887, '대본': 2888, '버전': 2889, '이루어지다': 2890, '널': 2891, '지역': 2892, '단체': 2893, '이구나': 2894, '웅장': 2895, '연인': 2896, '스무살': 2897, '꼬리': 2898, '음식': 2899, '자도': 2900, '어떻든': 2901, '암흑': 2902, '인지도': 2903, '사서': 2904, '심각하다': 2905, '씌우다': 2906, '외국인': 2907, '한국인': 2908, '몸부림': 2909, '혹은': 2910, '명대사': 2911, '고르다': 2912, '벌이다': 2913, '태우다': 2914, '개판': 2915, '차지': 2916, '십': 2917, 'ㅐ': 2918, '불가': 2919, '봉작': 2920, '애틋하다': 2921, '싹': 2922, '논란': 2923, '베리': 2924, '윗': 2925, '앵거스': 2926, '마음속': 2927, '개쩜': 2928, '소식': 2929, '지네': 2930, '어지럽다': 2931, '거품': 2932, '버려진': 2933, '소스': 2934, '성함': 2935, '톰크루즈': 2936, '결코': 2937, '으로서의': 2938, '먼지': 2939, '블': 2940, '쩝': 2941, '소름끼치다': 2942, 'ㅅ': 2943, '집요하다': 2944, '표절': 2945, '생명': 2946, '부가': 2947, '프리퀄': 2948, '뚫다': 2949, '말아먹다': 2950, '쩌': 2951, '비난': 2952, '고증': 2953, '현대': 2954, '늘어지다': 2955, '하나요': 2956, '멘스': 2957, '간의': 2958, '오점': 2959, '끝판': 2960, '버금': 2961, '재미나': 2962, '과언': 2963, '영웅': 2964, '생존': 2965, '빌다': 2966, '띠': 2967, '반도': 2968, '집어넣다': 2969, '쫄아': 2970, '부하': 2971, '추구': 2972, '설득': 2973, '잠수함': 2974, '먹음': 2975, '요약': 2976, '훈훈하다': 2977, '허구': 2978, '믿음': 2979, '곡성': 2980, '그로': 2981, '빵': 2982, '김무열': 2983, '화장실': 2984, '수위': 2985, '부대': 2986, '흔적': 2987, '조잡하다': 2988, '수의': 2989, '뒤지다': 2990, '아웃': 2991, '적도': 2992, '피지': 2993, '색깔': 2994, '대륙': 2995, '마츠코': 2996, '미흡하다': 2997, '죄악': 2998, '세대': 2999, '종료': 3000, '이입': 3001, '바가지': 3002, '얼른': 3003, '나뉘다': 3004, '쌓이다': 3005, '뼈': 3006, '양산': 3007, '도둑': 3008, '무게': 3009, '격감': 3010, '자랑': 3011, '하얗다': 3012, '가정': 3013, '아르': 3014, '버': 3015, '도무지': 3016, '경극': 3017, '징징대다': 3018, '실종': 3019, '손해': 3020, '하여금': 3021, '서툴다': 3022, '선배': 3023, '공포물': 3024, '그래픽': 3025, '국적': 3026, '주기': 3027, '화이팅': 3028, '무리': 3029, '생동감': 3030, '신다': 3031, '나니': 3032, '땜시': 3033, 'ㄱ': 3034, '흠잡다': 3035, '썸': 3036, '행보': 3037, '내려놓다': 3038, '윅': 3039, '유행': 3040, '무대': 3041, '첨부': 3042, '망설이다': 3043, '덩어리': 3044, '케이팝': 3045, '안감': 3046, '모성애': 3047, '은근': 3048, '가리다': 3049, '개미': 3050, '마력': 3051, '평화': 3052, '설경구': 3053, '방황': 3054, '노아': 3055, '미드': 3056, '공허하다': 3057, '플러스': 3058, '작전': 3059, '낭만': 3060, '밥': 3061, 'ㅂㅈ': 3062, '포함': 3063, '절로': 3064, '겉멋': 3065, '환상': 3066, '모험': 3067, '한잔': 3068, '벨벳': 3069, '김구': 3070, '관객수': 3071, '외로움': 3072, '충성': 3073, '맥스': 3074, '파괴': 3075, '대립': 3076, '고리': 3077, '눕다': 3078, '천우희': 3079, '라고는': 3080, '의향': 3081, '야마': 3082, '라던가': 3083, '박찬욱': 3084, '나은': 3085, '디자인': 3086, '수상하다': 3087, '뮤지컬': 3088, '명도': 3089, '귀찮다': 3090, '웬만하다': 3091, '이득': 3092, '쿠키': 3093, '원빈': 3094, '브렌': 3095, '기훈': 3096, '지고': 3097, '씻다': 3098, '휴지': 3099, '반지': 3100, '내러티브': 3101, '울컥': 3102, '단연': 3103, '중이': 3104, '녀석': 3105, '패러디': 3106, '윌': 3107, '패': 3108, '난사': 3109, '폭탄': 3110, '거른다': 3111, '운동권': 3112, '운동': 3113, '민주화': 3114, '보안': 3115, '깨우치다': 3116, '아이큐': 3117, '노출': 3118, '은행': 3119, '이해도': 3120, '종류': 3121, '로맨틱': 3122, '날아다니다': 3123, '전범': 3124, '거북하다': 3125, '악행': 3126, '옹호': 3127, '또다른': 3128, '일본인': 3129, '고해': 3130, '갈릴': 3131, '프롤로그': 3132, '무방': 3133, '치고는': 3134, '무빙': 3135, '게이': 3136, '채널': 3137, '분만': 3138, '불쌍': 3139, '인피니티': 3140, '노스': 3141, '것임': 3142, '상큼': 3143, '판권': 3144, '도면': 3145, '실상': 3146, '튀어나오다': 3147, '기괴하다': 3148, '지켜보다': 3149, '캬': 3150, '깜놀': 3151, '김성철': 3152, '지점': 3153, '뇌리': 3154, '맥주': 3155, '깨부수다': 3156, '국산': 3157, '재수없다': 3158, '줄알': 3159, '평상시': 3160, '바라지': 3161, '저걸': 3162, '휩쓸다': 3163, '울림': 3164, '재현': 3165, '잔인함': 3166, '덜다': 3167, '걷다': 3168, '때깔': 3169, 'ㅣ': 3170, '헐다': 3171, '히트': 3172, '안도': 3173, '과소': 3174, '총격씬': 3175, '대통령': 3176, '부장': 3177, '교육': 3178, '깨달음': 3179, '연습': 3180, '수혜': 3181, '민폐': 3182, '녀': 3183, '역사왜곡': 3184, '좌': 3185, '성향': 3186, '처참하다': 3187, '담백하다': 3188, '넹': 3189, '노답': 3190, '속지': 3191, '찰리': 3192, '검다': 3193, '하자': 3194, '어쨋': 3195, '뿌리': 3196, '제자': 3197, '남자배우': 3198, '내놓다': 3199, '눈부시다': 3200, '매니아': 3201, '땡기다': 3202, '제니퍼': 3203, '추악하다': 3204, '민주당': 3205, '간단하다': 3206, '근접': 3207, '매체': 3208, '절반': 3209, '알바생': 3210, '재밋어': 3211, '끈': 3212, '본분': 3213, '림': 3214, '약속': 3215, '산업': 3216, '막상': 3217, '사귀다': 3218, '음모론': 3219, '선거': 3220, '웃': 3221, '세명': 3222, '개뿔': 3223, '까맣다': 3224, '잘살다': 3225, '웰': 3226, '메이드': 3227, '펭귄': 3228, '가을': 3229, '무술': 3230, '가도': 3231, '보람': 3232, '역다': 3233, '에게나': 3234, '헷갈리다': 3235, '빈틈': 3236, '그딴': 3237, '타인': 3238, '비롯': 3239, '연령': 3240, '옆집': 3241, '변태': 3242, '따름': 3243, '쩔': 3244, '애절하다': 3245, '여자친구': 3246, '흑역사': 3247, '앤드류': 3248, '커다랗다': 3249, '발상': 3250, '결실': 3251, '깨우다': 3252, '계기': 3253, '유사하다': 3254, '낚였다': 3255, '이뤄지다': 3256, '년후': 3257, '장사': 3258, '매기': 3259, '스칼렛': 3260, '요한슨': 3261, 'ㅔ': 3262, '외치다': 3263, '니당다': 3264, 'ㅎㅎㅎㅎ': 3265, '춤추다': 3266, '열광하다': 3267, '꿀': 3268, '분석': 3269, '대리': 3270, '뉴': 3271, '천장': 3272, '천천히': 3273, '들려오다': 3274, '파도': 3275, '거래': 3276, '도입': 3277, '번역': 3278, 'ㅜㅜㅜ': 3279, '킹스': 3280, '여당': 3281, '승부': 3282, '필수': 3283, '효과음': 3284, '작자': 3285, '큰일': 3286, '포스': 3287, '답답': 3288, '그다지': 3289, '크루즈': 3290, '틀리다': 3291, '실전': 3292, '나소': 3293, '인종': 3294, '인터넷': 3295, '신념': 3296, '쫀득': 3297, '데뷔': 3298, '시스템': 3299, '냉정하다': 3300, '뇌': 3301, '괴롭다': 3302, '뚝': 3303, '악하다': 3304, '천사': 3305, '상가': 3306, '둘리': 3307, '미우다': 3308, '폭동': 3309, '독재자': 3310, '환경': 3311, '정치인': 3312, '잡아내다': 3313, '팩트': 3314, '질주': 3315, '골': 3316, '악인': 3317, '아누': 3318, '행': 3319, '째다': 3320, '칠': 3321, '신의한수': 3322, '흑백': 3323, '다른사람': 3324, '맨인블랙': 3325, '건강': 3326, '광기': 3327, '싸이코패스': 3328, '성격': 3329, '한복': 3330, '부와': 3331, '몰카': 3332, 'ㅆㄹㄱ': 3333, '일진': 3334, '불쾌하다': 3335, '시원시원하다': 3336, '블록버스터': 3337, '스텝': 3338, '뜯다': 3339, '짱개': 3340, '아슬아슬하다': 3341, '한쪽': 3342, '집안': 3343, '주관': 3344, '시국': 3345, '툼레이더': 3346, '엉엉': 3347, 'ㅜㅠ': 3348, '씽': 3349, '파피': 3350, '배려': 3351, '콘서트': 3352, '슴': 3353, '일자리': 3354, '거야': 3355, '속상하다': 3356, '당당하다': 3357, '해소': 3358, '개개인': 3359, '오가다': 3360, '구현': 3361, '작용': 3362, '외다': 3363, '라지': 3364, '볼걸': 3365, '벅차오르다': 3366, '홍상수': 3367, '하필': 3368, '박해': 3369, '울음': 3370, '성숙하다': 3371, '대책': 3372, '지능': 3373, '인도영화': 3374, '파티': 3375, '드랙스': 3376, '접함': 3377, '도하': 3378, '로렌스': 3379, '개막': 3380, '낼': 3381, '랑은': 3382, '사극': 3383, '타령': 3384, '자전거': 3385, '시골': 3386, '상의': 3387, '벗다': 3388, '칸나': 3389, '상관없다': 3390, '차량': 3391, '하고는': 3392, '멀리': 3393, '명불허전': 3394, '유명배우': 3395, '소총': 3396, '경계': 3397, '안기다': 3398, '아마도': 3399, '반감': 3400, '문득': 3401, '푸다': 3402, '쥰': 3403, '다크': 3404, '년작': 3405, '받치다': 3406, '미로': 3407, '숨쉬다': 3408, '바라냐': 3409, '한두': 3410, '쉽다': 3411, '뽕': 3412, '만화영화': 3413, '갈래': 3414, '혼': 3415, '플롯': 3416, '재주': 3417, '피우다': 3418, '나열하다': 3419, '원인': 3420, '근거': 3421, '매년': 3422, '소녀시대': 3423, '정통': 3424, '은퇴': 3425, '어긋나다': 3426, '상식': 3427, '구분': 3428, '오버': 3429, '이안': 3430, '센스': 3431, '꽂히다': 3432, '급하다': 3433, '호텔': 3434, 'ㅈㄹ': 3435, '질리다': 3436, '치료': 3437, '완': 3438, '언급': 3439, '깔리다': 3440, '생뚱맞': 3441, '가사': 3442, '앞서다': 3443, '싸이코': 3444, '강동원': 3445, '카이': 3446, '껌': 3447, '특출나다': 3448, '물건': 3449, '특수': 3450, '구출': 3451, '이겠다': 3452, '샘': 3453, '경쾌하다': 3454, '띄우다': 3455, '알아보다': 3456, '디지털': 3457, '보편': 3458, '그리움': 3459, '더니': 3460, '밝다': 3461, '여기저기': 3462, '띄다': 3463, '한효주': 3464, '이따': 3465, '레이': 3466, '오토바이': 3467, '시동': 3468, '향수': 3469, '초록물고기': 3470, '태': 3471, '마크': 3472, '어쩌다': 3473, '맞먹다': 3474, '본전': 3475, '우와': 3476, '진창': 3477, '아줌마': 3478, '주고받다': 3479, '상대': 3480, '망각': 3481, '빙의': 3482, '아아': 3483, '어린이': 3484, '깃': 3485, '차승원': 3486, '출연자': 3487, '없애다': 3488, '산다': 3489, '추모': 3490, '마감': 3491, '옛': 3492, '곁': 3493, '현상': 3494, '효': 3495, '비록': 3496, '바이러스': 3497, '싱크로': 3498, '율': 3499, '씨발': 3500, '쪼': 3501, '쌍욕': 3502, '은폐': 3503, '엄폐': 3504, '선량하다': 3505, '지푸라기': 3506, '심정': 3507, '배정남': 3508, '뻥': 3509, '구호': 3510, '프레임': 3511, '반일': 3512, '드러내다': 3513, '불로': 3514, '대대': 3515, '뮤직비디오': 3516, '가량': 3517, '놀람': 3518, '자본주의': 3519, '회상': 3520, '깍': 3521, '하하': 3522, '내지': 3523, '안톤': 3524, '닥': 3525, '무참': 3526, '후딱': 3527, '사주다': 3528, '할렘': 3529, '섞이다': 3530, '바쁘다': 3531, '논리': 3532, '킬': 3533, '땡큐': 3534, '비쥬': 3535, '최고봉': 3536, '작동': 3537, '황금': 3538, '허무': 3539, '승희': 3540, '불가능하다': 3541, '엔딩씬': 3542, '하루하루': 3543, '숲': 3544, '리스': 3545, '극단': 3546, '지대': 3547, '잉': 3548, '업': 3549, '집합': 3550, '영웅본색': 3551, '초월': 3552, '민': 3553, '대학': 3554, '때론': 3555, '외롭다': 3556, '졸업': 3557, '급소': 3558, '경지': 3559, '와이': 3560, '정돈': 3561, '진영': 3562, '테이큰': 3563, '정화': 3564, '구리다': 3565, '행운': 3566, '신카이': 3567, '마코토': 3568, '홍보': 3569, '강조': 3570, '탁월하다': 3571, '영춘권': 3572, '쎄다': 3573, '커녕': 3574, '로그': 3575, '늘리다': 3576, '끼우다': 3577, '자동': 3578, '관리': 3579, '컴퓨터': 3580, '패러다임': 3581, '순식간': 3582, '입맛': 3583, '흔': 3584, '보임': 3585, 'ㅉㅉㅉ': 3586, '네플릭스': 3587, '열중': 3588, '후편': 3589, '은밀': 3590, '조온나': 3591, '친': 3592, '전이': 3593, '타이밍': 3594, '스케': 3595, '적나라하다': 3596, '발바닥': 3597, '피트': 3598, '쓸데없다': 3599, '라이언': 3600, '코인': 3601, '취소': 3602, '헌트': 3603, '사업': 3604, '에스': 3605, '분간': 3606, '웠': 3607, '수록': 3608, '연평해전': 3609, '가나': 3610, '끼': 3611, '손가락': 3612, '문신': 3613, '마주치다': 3614, '게속': 3615, '잔혹하다': 3616, '조인성': 3617, '샷': 3618, '위치': 3619, '상치': 3620, '각각': 3621, '헿': 3622, '희노애락': 3623, '시시하다': 3624, '깨달': 3625, '인정받다': 3626, '룩': 3627, '라미란': 3628, '익다': 3629, '야마자키': 3630, '켄토': 3631, '다려지다': 3632, '이슈': 3633, '텐데': 3634, '일방': 3635, '썩다': 3636, '전제': 3637, '마법': 3638, '조성하': 3639, '짜릿하다': 3640, '제라드': 3641, '만원': 3642, '청소': 3643, '가소롭다': 3644, '절대로': 3645, '결': 3646, '세심': 3647, '주인': 3648, '특성': 3649, '제주도': 3650, '시네마': 3651, '쪽팔리다': 3652, '감당': 3653, '김태희': 3654, '서양': 3655, '격투': 3656, '전락': 3657, '쫄깃하': 3658, '냄새': 3659, '힘겹다': 3660, '홀로': 3661, '헬': 3662, '루': 3663, 'ㅜㅜㅠ': 3664, '드립': 3665, '으로부터': 3666, '우울': 3667, '기타': 3668, '전율': 3669, '뽕짝': 3670, '오돌오돌': 3671, '캐릭': 3672, '대여': 3673, '불릿': 3674, '훌륭': 3675, '이러하다': 3676, '바탕': 3677, 'ㅂ': 3678, '테': 3679, '조국': 3680, '사진': 3681, '스파이': 3682, '구매': 3683, '안고': 3684, '거꾸로': 3685, '윤희': 3686, '인식': 3687, '각인': 3688, '어그': 3689, '무니': 3690, '김장': 3691, '구심': 3692, '솟다': 3693, '조끼': 3694, '찾아가다': 3695, '꽝': 3696, '고시생': 3697, '거고': 3698, '액션연기': 3699, '차태현': 3700, '귀가': 3701, '실소': 3702, '오마주': 3703, '서른': 3704, '가라': 3705, '특수부대': 3706, '권총': 3707, '만날': 3708, '데려오다': 3709, '에이미': 3710, '외계인': 3711, '지극히': 3712, '에서나': 3713, '상실': 3714, '줄기': 3715, '한장': 3716, '한텐': 3717, '려': 3718, '그렇지만': 3719, '헤어지다': 3720, '그닥': 3721, '흥': 3722, '꼬마': 3723, '종북': 3724, '스님': 3725, '수행': 3726, 'ㄴㄴ': 3727, '필': 3728, '부끄러움': 3729, '몇개': 3730, '멤버': 3731, '아이고': 3732, '가출': 3733, '형용': 3734, '뒷골목': 3735, '상우': 3736, '모가지': 3737, '어깨': 3738, '결심': 3739, '이종수': 3740, '속도': 3741, '임시완': 3742, '지독하다': 3743, '패기': 3744, '주신': 3745, '헌터': 3746, '처리': 3747, '전과': 3748, '거르': 3749, '뚜렷하다': 3750, '뒷모습': 3751, '뮤비': 3752, '도나': 3753, '아주아주': 3754, '프로': 3755, '임팩트': 3756, '벽': 3757, '에밀': 3758, '미야자키': 3759, '아포칼립토': 3760, '시너지': 3761, '다이하드': 3762, '에이리언': 3763, '타란티노': 3764, '다듬다': 3765, '거듭': 3766, '좌충우돌': 3767, '파이널': 3768, '티키타카': 3769, '마이너스': 3770, '미끼': 3771, '판매': 3772, '전략': 3773, '짐승': 3774, '배성우': 3775, '소지': 3776, '의심스럽다': 3777, '망상': 3778, '약혼자': 3779, '이별': 3780, '소비': 3781, '러시아': 3782, '뇌피셜': 3783, '업다': 3784, '꺼리다': 3785, '염력': 3786, '역활': 3787, '쟈': 3788, '스물': 3789, '이어도': 3790, '테러범': 3791, '조선족': 3792, '평론': 3793, '앗다': 3794, '절제': 3795, '물음표': 3796, '민수': 3797, '입장료': 3798, '물르다': 3799, '동막골': 3800, '아날로그': 3801, '쏟아지다': 3802, '진술': 3803, '젠장': 3804, '블룸': 3805, '하우스': 3806, '뺏다': 3807, '분장': 3808, '구경': 3809, '미국인': 3810, '재판': 3811, '허무맹랑': 3812, '황당': 3813, '트렌디': 3814, '조이다': 3815, '우희': 3816, '거짓말': 3817, '고요': 3818, '인방': 3819, '폭격': 3820, '잼남': 3821, '베드': 3822, '대학생': 3823, '원수': 3824, '개망작': 3825, '며칠': 3826, '질문': 3827, '연주': 3828, '한석규': 3829, '가르다': 3830, '간직': 3831, '이서진': 3832, '김지수': 3833, '뼈대': 3834, '닦다': 3835, '안남': 3836, '으로라도': 3837, '가라데': 3838, '충족': 3839, '사라': 3840, '질투': 3841, '일인': 3842, '키키': 3843, '긁다': 3844, '근무': 3845, '쿵푸': 3846, '공주': 3847, '사명': 3848, '쿵쾅': 3849, '고유': 3850, '스승': 3851, '재난': 3852, '파격': 3853, '써주다': 3854, '사오다': 3855, '우주선': 3856, '이순재': 3857, '내겐': 3858, '로망': 3859, '친숙하다': 3860, '진영화': 3861, '미남': 3862, '창작': 3863, '반면': 3864, '노랑': 3865, '흰색': 3866, '원색': 3867, '마흔': 3868, '위스키': 3869, '살벌하다': 3870, '다잡다': 3871, '루저': 3872, '썰다': 3873, '제왕': 3874, '브루스': 3875, '윌리스': 3876, '심장마비': 3877, '예매': 3878, '꽁': 3879, '심장쫄리': 3880, '무사': 3881, '누리다': 3882, '전환': 3883, '순서': 3884, '이쯤': 3885, '스미스': 3886, '알바인': 3887, '이라기': 3888, '다공': 3889, '기업': 3890, '중소기업': 3891, '렷': 3892, '김옥빈': 3893, '감수': 3894, '권위자': 3895, '끼들': 3896, '퇴보': 3897, '랜스': 3898, '김고은': 3899, '시간대': 3900, '무법천지': 3901, '티나': 3902, '특색': 3903, '공기': 3904, '형성': 3905, '한자리': 3906, '독보': 3907, '잘알다': 3908, '엇갈리다': 3909, '촣': 3910, '해드리다': 3911, '멘붕': 3912, '뒈지다': 3913, '에드': 3914, '십대': 3915, '낚': 3916, '류승룡': 3917, '석': 3918, '여자도': 3919, '저격': 3920, '멜로영화': 3921, '좌우': 3922, '논픽션': 3923, '검증': 3924, '좆': 3925, '색': 3926, '특': 3927, '날아가다': 3928, '오래도록': 3929, '다야': 3930, '고구려': 3931, 'ㅎㄷㄷ': 3932, '청불': 3933, '유지태': 3934, '삘': 3935, '톰과제리': 3936, '가까이': 3937, '멍하다': 3938, '캔': 3939, '은유': 3940, '한남': 3941, '부류': 3942, '가르치다': 3943, '꺼지다': 3944, '덩케르크': 3945, '밀리터리': 3946, '여친': 3947, '지루': 3948, '주저': 3949, '직장인': 3950, '주역': 3951, '에다': 3952, '막장드라마': 3953, '반격': 3954, '을해': 3955, '먹이다': 3956, '퇴마': 3957, '화평': 3958, '잡탕': 3959, '어찌나': 3960, '성취': 3961, '합': 3962, '시놉시스': 3963, '섹스': 3964, '하쿠': 3965, '빅': 3966, '절하': 3967, '안쓰럽다': 3968, '후보': 3969, '아무래도': 3970, '퀼': 3971, '위화': 3972, '비비다': 3973, '한가운데': 3974, '서서': 3975, '암살': 3976, '저예산영화': 3977, '도구': 3978, '민감하다': 3979, '뱅': 3980, '현빈': 3981, '나래': 3982, '애정': 3983, '주먹': 3984, '북': 3985, '바닥': 3986, '비행': 3987, '김주혁': 3988, '계절': 3989, '주네': 3990, '응팔': 3991, '부드럽다': 3992, '적응': 3993, '적응하다': 3994, '끝장': 3995, '품다': 3996, '파헤치다': 3997, '세도정치': 3998, '붙이': 3999, '정해진': 4000, '필립': 4001, '이모': 4002, '피로': 4003, '네티즌': 4004, '조장': 4005, '프로메테우스': 4006, '해지': 4007, '정당': 4008, '코리안': 4009, '사형': 4010, '소매치기': 4011, '콧물': 4012, '어디가': 4013, '얽히다': 4014, '일제강점기': 4015, '결과물': 4016, '소규모': 4017, '클럽': 4018, '스파이더맨': 4019, '신봉': 4020, '성폭행': 4021, '각종': 4022, '대상': 4023, '환': 4024, '쏠쏠하다': 4025, '숫자': 4026, '넷플리스': 4027, '구축': 4028, '종': 4029, '남지': 4030, '쫓아가다': 4031, '세계대전': 4032, '참전': 4033, '블레이드': 4034, '널리': 4035, '널다': 4036, '베키': 4037, '주변인': 4038, '맙시': 4039, '배린': 4040, '유한': 4041, '노소': 4042, '감빵': 4043, '장난없다': 4044, '쪼이다': 4045, '국제': 4046, '영화제': 4047, '복고': 4048, '김어준': 4049, '실행': 4050, '서극': 4051, '오라버니': 4052, '탁': 4053, '사전': 4054, '침대': 4055, '뒹굴': 4056, '키스': 4057, '대중성': 4058, '업적': 4059, '연연하다': 4060, '성해': 4061, '여윽시': 4062, '택': 4063, '일기장': 4064, '졸': 4065, '정신병': 4066, '착': 4067, '기울이다': 4068, '볼라': 4069, '가로': 4070, '사지': 4071, '밀려오다': 4072, '기부': 4073, '체감': 4074, '빗대다': 4075, '초장': 4076, '전화': 4077, '전단지': 4078, '어딘가': 4079, '저희': 4080, '필히': 4081, '나마': 4082, '무책임하다': 4083, '농락': 4084, '영화감독': 4085, '크리스찬': 4086, '베일': 4087, '재연': 4088, '물리학': 4089, '개발': 4090, '주로': 4091, '호기심': 4092, '거구': 4093, '나열': 4094, '집권': 4095, '형식': 4096, '데드풀': 4097, '짝퉁': 4098, '으리': 4099, '사르다': 4100, '리다': 4101, '선정': 4102, '수백': 4103, '불과하다': 4104, '러셀': 4105, '크로우': 4106, '특전사': 4107, '쓰러지다': 4108, '토마스': 4109, '물씬': 4110, '상관': 4111, '시사회': 4112, '도피': 4113, '남겨지다': 4114, '요하': 4115, '과잉': 4116, '개개': 4117, '한글': 4118, '창제': 4119, '평보': 4120, '명화': 4121, '리기': 4122, '헤엄': 4123, '중국어': 4124, '조리': 4125, '유익하다': 4126, '골든': 4127, '천하': 4128, '말리다': 4129, '적극': 4130, '화판': 4131, '적폐': 4132, '소유': 4133, '장비': 4134, '안전': 4135, '감싸다': 4136, '런닝': 4137, '오리': 4138, '쳐다보다': 4139, '포르노': 4140, '에로': 4141, '허세': 4142, '아놀드': 4143, '슈': 4144, '왈츠': 4145, '의상': 4146, 'ㅊㅊ': 4147, '쓰기': 4148, '하찮다': 4149, '극치': 4150, '흑우': 4151, '올려놓다': 4152, '엄호': 4153, '강약': 4154, '돌': 4155, '봉사': 4156, '앤더슨': 4157, '이해해': 4158, '절정': 4159, '범죄영화': 4160, '종교인': 4161, '묵묵하다': 4162, '순수': 4163, '예술가': 4164, '소드': 4165, '출동': 4166, '로세': 4167, '예수': 4168, '잘리다': 4169, '처단': 4170, '대남': 4171, '이승': 4172, '택시': 4173, '안방': 4174, '질리': 4175, '영광': 4176, '박히다': 4177, '트럼프': 4178, '년뒤': 4179, '에스티': 4180, '노래방': 4181, '살림': 4182, '공수도': 4183, '독일어': 4184, '케빈': 4185, '쫀득함': 4186, '파묻다': 4187, '수정': 4188, '도망자': 4189, '사로잡히다': 4190, '과격하다': 4191, '더욱더': 4192, '증': 4193, '조차도': 4194, '강시': 4195, '일색': 4196, '지름길': 4197, '발기다': 4198, '뭥미': 4199, '튀다': 4200, '벌새': 4201, '멀티': 4202, '승화': 4203, '당한': 4204, '각도': 4205, '대규모': 4206, '필자': 4207, '배후': 4208, '이라곤': 4209, '신음': 4210, '영국': 4211, '독일': 4212, '유럽': 4213, '아프리카': 4214, '허덕이다': 4215, '단물': 4216, '성당': 4217, '알라': 4218, '박멸': 4219, '런': 4220, '전적': 4221, '땐뽀': 4222, '백두산': 4223, '기진': 4224, '명성': 4225, '볼바': 4226, '테크노': 4227, 'ㅎㅅㅎ': 4228, '관계성': 4229, '타이': 4230, '졸귀': 4231, '월드': 4232, '부패': 4233, '가상': 4234, '예고': 4235, '상과': 4236, '엮어': 4237, '모정': 4238, '포': 4239, '뺨': 4240, '하수': 4241, '오웬': 4242, '처벌': 4243, '기여': 4244, '간지나다': 4245, '다투다': 4246, '몽글몽글하다': 4247, '진입': 4248, '아이러니': 4249, '개표': 4250, '폐지': 4251, '다수': 4252, '투표': 4253, '상세': 4254, '획': 4255, '박병': 4256, '괴이': 4257, '랍시고': 4258, '늘어놓다': 4259, '폭팔': 4260, '싱가포르': 4261, '기세': 4262, '진행형': 4263, '친하다': 4264, '뿌시': 4265, '고집': 4266, '대범하다': 4267, '팡': 4268, '감사히': 4269, '넌': 4270, '질도': 4271, '사죄': 4272, '빼놓다': 4273, '구림': 4274, '대박나다': 4275, '압축': 4276, '다점': 4277, '건아': 4278, '타이타닉': 4279, '모형': 4280, '핵심': 4281, '왕기': 4282, '노이즈마케팅': 4283, '미성년': 4284, '슈퍼': 4285, '건드리다': 4286, '패자': 4287, '침울하다': 4288, '희한하다': 4289, '해리포터': 4290, '패션': 4291, '두둥': 4292, '쏠': 4293, '개똥': 4294, '싫어지다': 4295, '올려주다': 4296, '보수': 4297, '조리돌림': 4298, '유아인': 4299, '두르다': 4300, '털이범': 4301, '밀': 4302, '하여튼': 4303, '일과': 4304, '표절의혹': 4305, '원도': 4306, '가격': 4307, '아수라': 4308, '류작': 4309, '거여': 4310, '쾌감': 4311, '알라딘': 4312, '지니': 4313, '자스민': 4314, '나오미': 4315, '여분': 4316, '구세주': 4317, '왓챠': 4318, '직': 4319, '모에': 4320, '에피소드': 4321, '미워하다': 4322, '동양인': 4323, '이대': 4324, '파란색': 4325, '도록': 4326, '고가': 4327, '내기': 4328, '선도': 4329, '합성': 4330, '재개': 4331, '봉하': 4332, '물들다': 4333, '남자친구': 4334, '끝임': 4335, '축복': 4336, '헤': 4337, '시인': 4338, '유명': 4339, '바치다': 4340, '도합': 4341, '연대': 4342, '아찔하다': 4343, '급감': 4344, '사가다': 4345, '천주교': 4346, '신자': 4347, '돌직구': 4348, '연작': 4349, '질병': 4350, '와의': 4351, '결별': 4352, '볼일': 4353, '발표': 4354, '죽지': 4355, '조준': 4356, '맷': 4357, '데이먼': 4358, '이를': 4359, '애도': 4360, '성경': 4361, '꼬맹이': 4362, '이웃': 4363, '소소하다': 4364, '중딩': 4365, '흡연': 4366, '기고': 4367, '스며들다': 4368, '매트릭스': 4369, '회의': 4370, '간호사': 4371, '가운데': 4372, '구려': 4373, '갚다': 4374, '능글맞다': 4375, '김영민': 4376, '생기지': 4377, '변화': 4378, '압권': 4379, '도감': 4380, '수주고': 4381, '드레스': 4382, '반신반의': 4383, '보태': 4384, '쿠': 4385, '알파': 4386, '치노': 4387, '순애보': 4388, '뉴욕': 4389, '압력': 4390, '아오이': 4391, '꿇다': 4392, '금수': 4393, '이형': 4394, '영화매니아': 4395, '테일러': 4396, '로지': 4397, '무려': 4398, '배드': 4399, '영혼': 4400, '귀요미': 4401, '넥플릭스': 4402, '김지영': 4403, '꾸준하다': 4404, '가만히': 4405, '자씨': 4406, '주옥': 4407, '가식': 4408, '중독': 4409, '징그럽다': 4410, '만배': 4411, '과는': 4412, '이신': 4413, '몽환': 4414, '동영상': 4415, '김남길': 4416, '하고프다': 4417, 'ㄴ': 4418, '외장하드': 4419, '마음먹다': 4420, '만듬': 4421, '분야': 4422, '성하': 4423, '앙': 4424, '파이란': 4425, '관광': 4426, '자존심': 4427, '노숙자': 4428, '혜택': 4429, '극혐': 4430, '뭉치다': 4431, '보스': 4432, '자랑스럽다': 4433, '영양가': 4434, '사이다': 4435, '행크스': 4436, '커지다': 4437, '부정부패': 4438, '극악': 4439, '글자': 4440, '강력': 4441, '미이라': 4442, '온전': 4443, '오기': 4444, '스태프': 4445, '면모': 4446, '찰지다': 4447, '족구': 4448, '멸종': 4449, '넘침': 4450, '대구': 4451, '핵폐기물': 4452, '탱크': 4453, '버러지': 4454, '어쩐지': 4455, '렉스': 4456, '갈수': 4457, '화합': 4458, '만세': 4459, '경상도': 4460, '수장': 4461, '우기': 4462, '불명': 4463, '모욕': 4464, '불사조': 4465, '이명박': 4466, '어필': 4467, '격': 4468, '직시': 4469, '네덜란드': 4470, '조건': 4471, '오뎅': 4472, '이성민': 4473, '서인': 4474, '만지다': 4475, '남아돌다': 4476, '낮짝': 4477, '내미다': 4478, '어의': 4479, '정교하다': 4480, '볼땐': 4481, '장식': 4482, '이명': 4483, '괜': 4484, '시험': 4485, '기간': 4486, '불가능': 4487, '빠': 4488, '영화개봉': 4489, '플레이': 4490, '비정상': 4491, '규격': 4492, '안달': 4493, '정상인': 4494, '으로가': 4495, '난민': 4496, '물자': 4497, '치부': 4498, '편향': 4499, '성범죄자': 4500, '떠벌리다': 4501, '명징함': 4502, '구마': 4503, '안수': 4504, '부마': 4505, '해대': 4506, '성령': 4507, '상병': 4508, '도움': 4509, '외출': 4510, '살펴보다': 4511, '공산주의': 4512, '부업': 4513, '느슨하다': 4514, '백수': 4515, '행위': 4516, '구르다': 4517, '염': 4518, '빼': 4519, '신실하다': 4520, '교회': 4521, '쓸쓸하다': 4522, '서러움': 4523, '오타쿠': 4524, '피어스': 4525, '전무': 4526, '지긋지긋하다': 4527, '디스': 4528, '비아': 4529, '여실히': 4530, '이도': 4531, '감기': 4532, 'ㅜㅠㅠ': 4533, '광대': 4534, '탄탄': 4535, '댓': 4536, '띵': 4537, '짜지다': 4538, '렉': 4539, '시장': 4540, '주제가': 4541, '불어오다': 4542, '이성': 4543, '제다이': 4544, '낭비하다': 4545, '유승호': 4546, '돈값': 4547, '하다못해': 4548, '이런저런': 4549, '인간관계': 4550, '안심': 4551, '크루소': 4552, '교감': 4553, '참신': 4554, '카메론': 4555, '컵': 4556, '투슬': 4557, '혼잡하다': 4558, '에서야': 4559, '카레': 4560, '능력자': 4561, '천만다행': 4562, '넘김': 4563, '가입': 4564, '음악감독': 4565, 'ㄱㅊ': 4566, '지배': 4567, '눈감다': 4568, '일수': 4569, '이태원': 4570, '다미': 4571, '신인': 4572, '신랑': 4573, '두근두근': 4574, '지속': 4575, '요구': 4576, '둑': 4577, '심다': 4578, '실존': 4579, '자로': 4580, '마담': 4581, '톡톡': 4582, '시청각': 4583, '인칭': 4584, '출발': 4585, '동료': 4586, '뛰어들다': 4587, '명과': 4588, '길이': 4589, '여태껏': 4590, '부제': 4591, '안무': 4592, '주성치': 4593, '음모': 4594, '무색': 4595, '분노하다': 4596, '장미': 4597, '쵸': 4598, '기자': 4599, '무간도': 4600, '본격': 4601, '수치': 4602, '월일': 4603, '사과': 4604, '베이비': 4605, '발리': 4606, '형편': 4607, '김민희': 4608, '육아': 4609, '아포칼립스': 4610, '되돌아보다': 4611, '따라오다': 4612, '호러': 4613, '공식': 4614, '쩌는데': 4615, '디즈니': 4616, '제주': 4617, '센터': 4618, '기록': 4619, '한낱': 4620, '걸치다': 4621, '해양사고': 4622, '향연': 4623, '장치': 4624, '똥망': 4625, '해선': 4626, '남다르다': 4627, '공존': 4628, '클로즈업': 4629, '비치다': 4630, '하디': 4631, '파고': 4632, '중점': 4633, '셋팅': 4634, '개그맨': 4635, '초대': 4636, '보존': 4637, '안전하다': 4638, '개츠비': 4639, '여름': 4640, '한동안': 4641, '화폐': 4642, '폭락': 4643, '슬럼': 4644, '에메랄드': 4645, '물다': 4646, '혁명': 4647, '완결': 4648, '어리둥절하다': 4649, '회차': 4650, '다임': 4651, '리라': 4652, '찍기': 4653, '변경': 4654, '곱다': 4655, '사투': 4656, '위상': 4657, '굴': 4658, '오온': 4659, '김전일': 4660, '인력': 4661, '그라샤': 4662, '금고': 4663, '일텐데': 4664, '허가윤': 4665, '가로막다': 4666, '중년': 4667, '시킴': 4668, '차분하다': 4669, '제자리': 4670, '유효하다': 4671, '나누어지다': 4672, '풍부하다': 4673, '의자': 4674, '히피': 4675, '페이트': 4676, '임무': 4677, '사랑받다': 4678, '어려움': 4679, '섭외': 4680, '수입': 4681, '스토리텔링': 4682, '회귀': 4683, '하드코어': 4684, '고마츠': 4685, '나나': 4686, '그림자': 4687, '연평도': 4688, '주민': 4689, '명복': 4690, '빙자': 4691, '엄복동': 4692, '턴': 4693, '겁': 4694, '나쁜사람': 4695, '장군': 4696, '징집': 4697, '서민': 4698, '지방': 4699, '곽경택': 4700, '비공': 4701, '수출': 4702, '알리': 4703, '존댓말': 4704, '흑': 4705, '작살': 4706, '천지': 4707, '아리': 4708, '베이스': 4709, '고소': 4710, '유투브': 4711, '영정': 4712, '펭수': 4713, '불참': 4714, '강남스타일': 4715, '빔': 4716, '대입': 4717, '가치관': 4718, '신앙': 4719, '표면': 4720, '뒷받침': 4721, '행방불명': 4722, '인연': 4723, '쫀쫀': 4724, '삽질': 4725, '그러하다': 4726, '개선': 4727, '맴도': 4728, '펜': 4729, '마돈나': 4730, '언니': 4731, '류승범': 4732, '상투': 4733, '얹다': 4734, '버틀러': 4735, '치네다': 4736, '아동': 4737, '거중': 4738, '수능': 4739, '연민': 4740, '도리': 4741, '운영': 4742, '김강우': 4743, '일어나지': 4744, '엑스트라': 4745, '킬빌': 4746, '최하': 4747, '헌': 4748, '살피': 4749, '그야말로': 4750, '송강호': 4751, '신나요': 4752, '소파': 4753, '바다로': 4754, '카리': 4755, '오로지': 4756, '힝': 4757, '누나': 4758, '악한': 4759, '하늘나라': 4760, '닉': 4761, '까지의': 4762, '흐흐': 4763, '저체온증': 4764, '늑대': 4765, '일어나서': 4766, '일어서다': 4767, '전도': 4768, '토실': 4769, '당황': 4770, '문성우': 4771, '헬조선': 4772, '레이크': 4773, '개끼': 4774, '다케시': 4775, '굵다': 4776, '꾸미다': 4777, '가버리다': 4778, '작작하다': 4779, '사연': 4780, '병기': 4781, '조각': 4782, '주작': 4783, '루피': 4784, '벌렁': 4785, '와즈다': 4786, '갈증': 4787, '계층': 4788, '파악': 4789, '주시': 4790, '멘탈': 4791, '마이': 4792, '대세': 4793, '이왕': 4794, '조마조마하다': 4795, '제보': 4796, '케이': 4797, '퍼': 4798, '배트맨': 4799, '인성': 4800, '에러': 4801, '강석우': 4802, '이미숙': 4803, '차안': 4804, '사장': 4805, '골로': 4806, '중구': 4807, '난방': 4808, '굿굿굿': 4809, '터키': 4810, '하고만': 4811, '그나저나': 4812, '점임': 4813, '소혜': 4814, '발성': 4815, '재밋게봣다': 4816, '담담하다': 4817, '쫄면': 4818, '빈약': 4819, '퇴근': 4820, '헨리': 4821, '몰리다': 4822, '토끼': 4823, '권장': 4824, '가슴속': 4825, '햐': 4826, '까지가': 4827, '여명': 4828, '유공': 4829, '어딜': 4830, '자만': 4831, '팔자': 4832, '광팬': 4833, '가세': 4834, '비평': 4835, '갱': 4836, '공화국': 4837, '연극': 4838, '노고': 4839, '군사': 4840, '주요': 4841, '보리': 4842, '김호중': 4843, '입증': 4844, '무도': 4845, '무미건조하다': 4846, '유아': 4847, '사람인': 4848, '겸손하다': 4849, '나혼자산다': 4850, '충만': 4851, '비리': 4852, '주목': 4853, '조정석': 4854, '무수': 4855, '죄값': 4856, '사치': 4857, '공범': 4858, '절박': 4859, '꼼꼼하다': 4860, '막막하다': 4861, '제작사': 4862, '오그라들다': 4863, '으으': 4864, '갸우뚱': 4865, '혐': 4866, '뵙다': 4867, '붕': 4868, '닼': 4869, '비포': 4870, '선라이즈': 4871, '선셋': 4872, '미드나잇': 4873, '혼신': 4874, '더럽히다': 4875, '이점': 4876, '잘맞다': 4877, '리듬': 4878, '이군': 4879, '시청자': 4880, '우롱': 4881, '히치콕': 4882, '막장': 4883, '틀니': 4884, '신천지': 4885, '개그': 4886, '도데': 4887, '불교': 4888, '존중': 4889, 'ㄱㄱ': 4890, '전문': 4891, '꼬': 4892, '로그인': 4893, '나머진': 4894, '말장난': 4895, '밍밍': 4896, '싱겁다': 4897, '파고들다': 4898, '승자': 4899, '열다': 4900, '미숙': 4901, '괴수': 4902, '로봇': 4903, '예언': 4904, '기반': 4905, '중장': 4906, '대장': 4907, '건네다': 4908, '정식': 4909, '유오성': 4910, '양념': 4911, '타일러': 4912, '연예인': 4913, '러브스토리': 4914, '존엄사': 4915, '코난': 4916, '얕다': 4917, '똥폼': 4918, '잡지': 4919, '사이드': 4920, '매다': 4921, '합의': 4922, '덩': 4923, '사시': 4924, '미제': 4925, '제법': 4926, '갠차다': 4927, '힘주다': 4928, '베네수엘라': 4929, '샤를': 4930, '테론': 4931, '아드레날린': 4932, '쌍': 4933, '입히다': 4934, '환전': 4935, '싸이버': 4936, '대칭': 4937, '구간': 4938, '바인': 4939, '이동휘': 4940, '꼽': 4941, '문제점': 4942, '권선': 4943, '징악': 4944, '토토': 4945, '버스': 4946, '엄지': 4947, '롤': 4948, '새다': 4949, '히로': 4950, '재생': 4951, '유령선': 4952, '클래스': 4953, '승': 4954, '발연기': 4955, '작위': 4956, '압박': 4957, '억압': 4958, '학원': 4959, '광활하다': 4960, '비참하다': 4961, '졸잼': 4962, '돌뼈': 4963, '오빠': 4964, '시궁창': 4965, '염정아': 4966, 'ㅇㅇㅇ': 4967, '딸아이': 4968, '입술': 4969, '주룩': 4970, '소용돌이': 4971, '풍': 4972, '큐': 4973, '리가': 4974, '홍보팀': 4975, '정지': 4976, '의료기기': 4977, '만수무강': 4978, '배속': 4979, '직후': 4980, '타치': 4981, '특전': 4982, '우뢰매': 4983, '멀쩡하다': 4984, '되살리다': 4985, '두고두고': 4986, '고기': 4987, '인크레더블': 4988, '오묘하다': 4989, '오잉': 4990, '한정': 4991, '노바': 4992, '파이다': 4993, '다다': 4994, '예정': 4995, '회상씬': 4996, '노이즈': 4997, '박사': 4998, '하루빨리': 4999, '봣습니': 5000, '투영': 5001, '난후': 5002, '급작': 5003, '최저': 5004, '자의': 5005, '창의성': 5006, '건너': 5007, '부딪히다': 5008, '찌르다': 5009, '미스': 5010, '쩌구': 5011, '덧': 5012, '스펙': 5013, '데미무어': 5014, '개암': 5015, '맘껏': 5016, '평행': 5017, '왜안': 5018, '파리': 5019, '유인': 5020, '슨': 5021, '일본도': 5022, '잡음': 5023, '힘내다': 5024, '미스터': 5025, '레벨': 5026, '견디다': 5027, '트': 5028, '잇몸': 5029, '맘대로': 5030, '근처': 5031, '스워스': 5032, '저만': 5033, '그대': 5034, '로다': 5035, '자마자': 5036, '후후': 5037, '고독': 5038, '상품': 5039, '까메오': 5040, '아기자기하다': 5041, '대다수': 5042, '버디': 5043, '용두사미': 5044, '세트': 5045, '송위룡': 5046, '조절': 5047, '아동학대': 5048, '대답': 5049, '우산': 5050, '치자': 5051, '가시': 5052, '앞서': 5053, '거니': 5054, '호주': 5055, '밤새': 5056, '공통': 5057, '슬링': 5058, '베트맨': 5059, '내려가다': 5060, '직하다': 5061, '서정': 5062, '균형': 5063, '일종': 5064, '삶속': 5065, '평화롭다': 5066, '한과': 5067, '욬': 5068, '한시': 5069, '미약': 5070, '공연': 5071, '오디션': 5072, '임금': 5073, '앨리': 5074, '진작': 5075, '위주': 5076, '호들갑': 5077, '꼽을수': 5078, '골고루': 5079, '미처': 5080, '뵈다': 5081, '전장': 5082, '사토시': 5083, '날짜': 5084, '미녀': 5085, '개봉일': 5086, '교전': 5087, '겸비': 5088, '가담': 5089, '멕시코': 5090, '드라마영화': 5091, '부탁드리다': 5092, '까먹다': 5093, '시그널': 5094, '트래블러': 5095, '진가': 5096, '음가': 5097, '라나': 5098, '포커스': 5099, '케바케': 5100, '경악': 5101, '부탁': 5102, '타협': 5103, '아역배우': 5104, '당일': 5105, '케루': 5106, '알아내다': 5107, '윤수': 5108, '두리': 5109, '떼': 5110, '소모': 5111, '민족': 5112, '인민군': 5113, '군복': 5114, '발도': 5115, '횟수': 5116, '뜻대로': 5117, '강감': 5118, '두루': 5119, '현우': 5120, '수현': 5121, '항복': 5122, '선의': 5123, '노무현': 5124, '낯설다': 5125, '가미': 5126, '마리옹': 5127, '꼬띠': 5128, '황금기': 5129, '갈망': 5130, '방탄복': 5131, '갈고': 5132, 'ㅏ': 5133, '연발': 5134, '친일': 5135, '언덕': 5136, '마을': 5137, '향기': 5138, '유전': 5139, '탕웨이': 5140, '닭': 5141, '상속': 5142, '실컷': 5143, '어처구니': 5144, '땅': 5145, '캡틴': 5146, '플래': 5147, '소환': 5148, '심심': 5149, '중뽕': 5150, '둘째': 5151, '체조': 5152, '심취': 5153, '부작': 5154, '시종일관': 5155, '애물': 5156, '데이빗': 5157, '핀처': 5158, '한창': 5159, 'ㅅㄲ': 5160, '명분': 5161, '아이덴티티': 5162, '실사판': 5163, '요인': 5164, '수두': 5165, '마인드': 5166, '할머님': 5167, '샬로': 5168, '아리다': 5169, '카페': 5170, '설다': 5171, '고수': 5172, '간신히': 5173, '우릴': 5174, '치중': 5175, '절감': 5176, '보물': 5177, '적군': 5178, '호랑이': 5179, '거들다': 5180, '확정': 5181, '푼': 5182, '수습': 5183, '우울증': 5184, '고독감': 5185, '클루니': 5186, '린지': 5187, '타고나다': 5188, '깨끗이': 5189, '가안': 5190, '이광수': 5191, '순정만화': 5192, '나무': 5193, '고도': 5194, '진주만': 5195, '원자폭탄': 5196, '타입': 5197, '사양': 5198, '나눠지다': 5199, '유정': 5200, '국어': 5201, '인호': 5202, '인하': 5203, '딴': 5204, '김정민': 5205, '죄책감': 5206, '부실': 5207, '아하': 5208, '평온하다': 5209, '김윤석': 5210, '무어': 5211, '하든': 5212, '전혜진': 5213, '어가': 5214, '저지': 5215, '스트릿': 5216, '점왜': 5217, '한우': 5218, '백투더퓨처': 5219, '임마': 5220, '정재': 5221, '고연': 5222, '오유': 5223, '답변': 5224, '선생님': 5225, '지향': 5226, '썰렁하다': 5227, '베토벤': 5228, '얼간이': 5229, '서서히': 5230, '세종': 5231, '개코': 5232, '정이': 5233, '손꼽다': 5234, '특공대': 5235, 'ㅇㅈㄹ': 5236, '조그만': 5237, '안거': 5238, '황': 5239, '광량': 5240, '려니': 5241, '애교': 5242, '적어도': 5243, '오픈': 5244, '보증': 5245, '노리': 5246, '여럿': 5247, '햇습니': 5248, '시원': 5249, '스피커': 5250, '히죽': 5251, '다카': 5252, '각기': 5253, '우상': 5254, '단절': 5255, '안주': 5256, '대학교': 5257, '잔인': 5258, '퇴장': 5259, '아우르다': 5260, '이스트': 5261, '웬': 5262, '도둑질': 5263, '모자': 5264, '거장': 5265, '씝': 5266, '아이맥스': 5267, '비밀': 5268, '첩보물': 5269, '개방': 5270, '전역': 5271, '정면': 5272, '김래원': 5273, '찌푸리다': 5274, '그러니까': 5275, '수리': 5276, '판이': 5277, '괜춘': 5278, '바램': 5279, '들이키다': 5280, '올블랙': 5281, '캐비어': 5282, '백년': 5283, '가해자': 5284, '한씬': 5285, '출현': 5286, '슈퍼맨': 5287, '명절': 5288, '직장': 5289, '선천': 5290, '쿄쿄': 5291, '보너스': 5292, '콜': 5293, '일관': 5294, '마땅하다': 5295, '고개': 5296, '밀리다': 5297, '차갑다': 5298, '컬러': 5299, '졸업생': 5300, '유료': 5301, '올바르다': 5302, '불편': 5303, '일상생활': 5304, '글쎄': 5305, '따라서': 5306, '브래드': 5307, '참사': 5308, '어수선하다': 5309, '스미다': 5310, '알아채다': 5311, '친해지다': 5312, '경호원': 5313, '달려가다': 5314, '았': 5315, '챙': 5316, '제임스': 5317, '김일성': 5318, '가시다': 5319, '마도카': 5320, '처키': 5321, '김선아': 5322, '넣기': 5323, '다니엘': 5324, '신작': 5325, '오토봇': 5326, '출근': 5327, '허용': 5328, '햇음': 5329, '포장': 5330, '케이스': 5331, 'ㄷㄷㄷㅈ': 5332, '재밋다': 5333, '캡': 5334, '훨': 5335, '썸머': 5336, '대출': 5337, '남한': 5338, '줄리': 5339, '라든가': 5340, '부스럼': 5341, '소장': 5342, '헛웃음': 5343, '위기': 5344, '하므다': 5345, '관대하다': 5346, '밀수': 5347, '그레이드': 5348, '양쪽': 5349, '맞닿다': 5350, '절망': 5351, '눈물샘': 5352, '소지섭': 5353, '동탄신도시': 5354, '김병준': 5355, '견주어봐': 5356, '박빙': 5357, '김정은': 5358, '발딱': 5359, '스게': 5360, '롱샷': 5361, '분리수거': 5362, '켄': 5363, '입덕': 5364, '꿰': 5365, '서태지': 5366, '류임': 5367, '올드보이': 5368, '프로덕션': 5369, '티임': 5370, '분홍': 5371, '빨강': 5372, '까뜨린느': 5373, '드뇌브': 5374, '산책': 5375, '순례': 5376, '심은하': 5377, '임개': 5378, '눈꼽만치': 5379, '일해': 5380, '어울림': 5381, '쥴': 5382, '존내': 5383, '루지': 5384, '홍콩영화': 5385, '대마시': 5386, '고추': 5387, '오이': 5388, '으엌': 5389, '딱어': 5390, '어브': 5391, '뮤직': 5392, '애니매이션': 5393, '고귀하다': 5394, '가치판단': 5395, '구조도': 5396, '흐미': 5397, '고소공포증': 5398, '당첨': 5399, '둘러싸다': 5400, '웍': 5401, '꽁냥꽁': 5402, '미니': 5403, '역량': 5404, '컴퓨터게임': 5405, '모던': 5406, '페어': 5407, '상당': 5408, '재밋는데': 5409, '학생운동': 5410, '됫다': 5411, '주사파': 5412, '산사': 5413, '방송국': 5414, '고치': 5415, '국정원': 5416, '너트': 5417, '해이': 5418, '민노총': 5419, '전교조': 5420, '상공': 5421, '가트': 5422, '포드': 5423, '안티': 5424, '영진': 5425, '레이싱': 5426, '책임자': 5427, '분무기': 5428, '헛돈': 5429, '정해': 5430, '황폐': 5431, '희소가치': 5432, '치안': 5433, '이자나': 5434, '깍지': 5435, '울렁거리다': 5436, '텐텐': 5437, '텐': 5438, '조윤희': 5439, '여념': 5440, '힙함': 5441, 'ㄷㄷㄷㄷ': 5442, '감점': 5443, '간원': 5444, '절도': 5445, '파멸하다': 5446, '명시': 5447, '속임수': 5448, '동원': 5449, '지은': 5450, '낱낱': 5451, '초아': 5452, '산사나무': 5453, '아닌뒙': 5454, '앞세우다': 5455, '방울': 5456, '에이즈': 5457, '서명': 5458, '식다': 5459, '가람': 5460, '말쟁이': 5461, '속출': 5462, '화일': 5463, '휘재': 5464, '재석': 5465, '삼총사': 5466, '너구리': 5467, '졸귀탱': 5468, '해피해피': 5469, '오드리햅번': 5470, '최상': 5471, '티피': 5472, '날림': 5473, '태양빛': 5474, '아래': 5475, '이교도': 5476, '환하다': 5477, '주먹질': 5478, '감독판': 5479, '유의': 5480, '점좀': 5481, '초등생': 5482, '기차': 5483, '릴리': 5484, '스카프': 5485, '게르': 5486, '와웅': 5487, '다분': 5488, '홰': 5489, '투명인간': 5490, '상도': 5491, '황홀하다': 5492, '사나이': 5493, '끊어지다': 5494, '정신과': 5495, '느낌표': 5496, '하이라이트': 5497, '아수라도': 5498, '위산': 5499, '역류': 5500, '독창': 5501, '사요나라': 5502, '재밋는': 5503, '발단': 5504, '줄러': 5505, '기갑': 5506, '커뮤니티': 5507, '헴식이': 5508, '올인': 5509, '끄나풀': 5510, '란디프': 5511, '떡': 5512, '머선': 5513, '한판': 5514, '원자력': 5515, '각심': 5516, '띵짝임': 5517, '산악': 5518, '유괴': 5519, '잘나다': 5520, '여우주연상': 5521, '마초': 5522, '섹시': 5523, '무국': 5524, '적의': 5525, '효자': 5526, '가져가다': 5527, '어두컴컴': 5528, '축축하다': 5529, '미쟝센': 5530, '할리웃': 5531, '잣': 5532, '국보': 5533, '얘넨': 5534, '참조': 5535, '왜저': 5536, '해전': 5537, 'ㅠㅡㅠ': 5538, '자꾸만': 5539, '간신': 5540, '섹': 5541, '넼': 5542, '썅': 5543, '수지': 5544, '점클로젯': 5545, '겅겅': 5546, '장키': 5547, '무예': 5548, '히스토리': 5549, '아바타': 5550, '접해': 5551, '똑바로': 5552, '중앙': 5553, '녹취본': 5554, '중정': 5555, '검색': 5556, '네네': 5557, '방성훈': 5558, '해유': 5559, '추락': 5560, '여성인권': 5561, '인권': 5562, '해방': 5563, '퀸스': 5564, '정사씬': 5565, '입틀막함': 5566, '욧': 5567, '고여': 5568, '올리비아': 5569, '헤집다': 5570, '찬양': 5571, '사보': 5572, '상반': 5573, '유연하다': 5574, '포근하다': 5575, '비몽': 5576, '몽': 5577, '해주': 5578, '거제도': 5579, '체질': 5580, '발짝': 5581, '내딛다': 5582, '대명천지': 5583, '원한': 5584, '가뜩이나': 5585, '말종': 5586, '놨다': 5587, '신하': 5588, '달아나다': 5589, '왕릉': 5590, '선왕': 5591, '조상': 5592, '얹히다': 5593, '조종': 5594, '김독': 5595, '안티팬': 5596, '먹기': 5597, '보이시': 5598, '금시': 5599, '해애': 5600, '야야': 5601, 'ㅑ': 5602, '셰': 5603, '호프': 5604, '줫': 5605, '데이비드': 5606, '유기물질': 5607, '순전하다': 5608, '지엠': 5609, '지림쫄깃쫄깃': 5610, '답시고': 5611, '순진하다': 5612, '삭': 5613, '기출': 5614, '부들부들': 5615, '각하': 5616, '폄훼': 5617, '넷플용': 5618, '보급': 5619, '김부': 5620, '영구': 5621, '땡': 5622, '칠이': 5623, '설킨건': 5624, '촉망': 5625, '그로테스크': 5626, '스트립': 5627, '로페즈': 5628, '피터': 5629, '파커': 5630, '광신도': 5631, '더듬다': 5632, '성추행': 5633, '상호': 5634, '해고': 5635, '요원': 5636, '감시': 5637, '중시': 5638, '어처구니없다': 5639, '막강': 5640, '자동소총': 5641, '치트키': 5642, '산탄총': 5643, '부리면': 5644, '절명': 5645, '여유롭다': 5646, '활자': 5647, '상언': 5648, '악플다다': 5649, '고관': 5650, '모로': 5651, '훠': 5652, '얼씬': 5653, '분류': 5654, '러너': 5655, '심각해지다': 5656, '탄도': 5657, '동윤': 5658, '범일': 5659, '짱짱': 5660, '어리둥절': 5661, '판단력': 5662, '러브': 5663, '낮아지다': 5664, '루이자': 5665, '그다음': 5666, '관능': 5667, '위악': 5668, '떠밀다': 5669, '아이유': 5670, '난자': 5671, '정철': 5672, '여느': 5673, '반죽': 5674, '디자이너': 5675, '입시': 5676, '수도권': 5677, '행정': 5678, '학과': 5679, '진학': 5680, '취미': 5681, '늦어지다': 5682, '비긴즈': 5683, '인스타': 5684, '장물': 5685, '국회의원선거': 5686, '제기': 5687, '연재': 5688, '오감': 5689, '국영': 5690, '머스': 5691, '주르륵': 5692, '불리다': 5693, '쾌거': 5694, '자시다': 5695, '재밋네': 5696, '에이스': 5697, '덕후': 5698, '벨포트': 5699, '안팔': 5700, '죽겄': 5701, '파이터': 5702, '관여': 5703, '자임': 5704, '진수': 5705, '격투씬': 5706, '카체이싱': 5707, '메가폰': 5708, '햄스워스': 5709, '사이비': 5710, '코드': 5711, '통쾌': 5712, '후퇴': 5713, '일일': 5714, '킹벤져스': 5715, '꽉쥐': 5716, '흔듬': 5717, '판테라': 5718, '씨디': 5719, '뒷목잡다': 5720, '삼촌': 5721, '문화센터': 5722, '호소': 5723, '철처': 5724, '무신': 5725, '다가가다': 5726, '쌀쌀': 5727, '얼어붙다': 5728, '대차다': 5729, '가상현실': 5730, '격세지감': 5731, '차후': 5732, '수학': 5733, '동작': 5734, '아뭏튼': 5735, '라이트급': 5736, 'ㄹㅔ': 5737, '런타임': 5738, '로간': 5739, '유추': 5740, '산재': 5741, '바랬으': 5742, '즐감': 5743, '전문용어': 5744, '요다음': 5745, '증오': 5746, '민좆': 5747, '장기': 5748, '걸레': 5749, '오르페': 5750, '지인': 5751, '무거워': 5752, '가만': 5753, '오타': 5754, '취한': 5755, '평태': 5756, '희롱': 5757, '재물': 5758, '거시': 5759, '채홍': 5760, '그니까': 5761, '적인걸': 5762, '뺴': 5763, '뚱뚱하다': 5764, '대변': 5765, '투척': 5766, '통계': 5767, '스탈린': 5768, '쫄깃쫄깃해': 5769, '볼뻔': 5770, '풀어지다': 5771, '픽픽': 5772, '웨인': 5773, '초등': 5774, '탠': 5775, '페이스북': 5776, '에든': 5777, '오니': 5778, '군중': 5779, '묵음': 5780, '애정결핍': 5781, '리플': 5782, '빼어나다': 5783, '콘텐츠': 5784, '무보수': 5785, '핥다': 5786, '전생': 5787, '닥터': 5788, '피신': 5789, '세종대왕': 5790, '장영실': 5791, '다섯손가락': 5792, '엑소시즘': 5793, '고요함': 5794, '물결': 5795, '파르르': 5796, '수조': 5797, '맴돌다': 5798, '지게차': 5799, '조금씩': 5800, '깊숙이': 5801, '잠식': 5802, '닷': 5803, '도루': 5804, '마무': 5805, '문외한': 5806, '쏙쏙빼박': 5807, '추출': 5808, '합리': 5809, '어우': 5810, '오우': 5811, '능가': 5812, '나돌다': 5813, '고속': 5814, '봤슴': 5815, '서클': 5816, '임기': 5817, '통합': 5818, '예기': 5819, '결판': 5820, '김동욱': 5821, '먹이사슬': 5822, '커플': 5823, '수칙': 5824, '깜빡': 5825, '봄돈': 5826, '으루': 5827, '양으로': 5828, '쫄딱': 5829, '거액': 5830, '양호': 5831, '이이경': 5832, '정준호': 5833, '게점': 5834, '부엌': 5835, '라디오': 5836, '존쿠': 5837, '삭이다': 5838, '배심원': 5839, '박혜수': 5840, '코끼리': 5841, '난이도': 5842, '신건': 5843, '꼼수': 5844, '슬래셔': 5845, '젠더': 5846, '이민자': 5847, '빈부격차': 5848, '멸종위기': 5849, '트로피': 5850, '황색언론': 5851, '보도': 5852, '송승헌': 5853, '데크': 5854, '러하': 5855, '이석형': 5856, '제인': 5857, '놨': 5858, '데니': 5859, '공동체': 5860, '박명수': 5861, '어록': 5862, '매너': 5863, '폴': 5864, '매그놀리아': 5865, '넘버': 5866, '영화제작': 5867, '쒯': 5868, '출근길': 5869, '난감': 5870, '한술': 5871, '이라고도': 5872, '일구다': 5873, '괜스레': 5874, '어버이날': 5875, '입금': 5876, '완료': 5877, '껏습니': 5878, '유일': 5879, '인삼': 5880, '장수': 5881, '해당': 5882, '아일랜드': 5883, '로버트': 5884, '드니': 5885, '체중': 5886, '체격': 5887, '패시': 5888, '진출': 5889, '단면': 5890, '인용': 5891, '달래': 5892, '색조': 5893, '아지': 5894, '세이': 5895, '좌편향': 5896, '반대쪽': 5897, '성역': 5898, '작업': 5899, '김광주': 5900, '북조선': 5901, '노동당': 5902, '부서': 5903, '훈장': 5904, '난리치다': 5905, '북핵': 5906, '통일한국': 5907, '국방력': 5908, '군사정권': 5909, '무너': 5910, '노태우': 5911, '좌익': 5912, '건국': 5913, '평화협정': 5914, '보상금': 5915, '재건': 5916, '빼박': 5917, '원피스': 5918, '공백': 5919, '광란': 5920, '활주': 5921, '쩐국민': 5922, '될껄': 5923, '조은지': 5924, '청년회': 5925, '밀회': 5926, '하나같이': 5927, '쇠': 5928, '쪼가리': 5929, '퉁': 5930, '일주일': 5931, '에야': 5932, '후시': 5933, '녹음': 5934, '별천지': 5935, '폭우': 5936, '댄스씬': 5937, '탭댄스': 5938, '듬볼': 5939, '만회': 5940, '이규형': 5941, '쉬샤오둥': 5942, '튜브': 5943, '타이슨': 5944, '챔피언': 5945, '구라': 5946, '띄우기': 5947, '프랑스어': 5948, '태양': 5949, '중성': 5950, '엇냐': 5951, '어이구': 5952, '페이': 5953, '시가': 5954, '구태여': 5955, '귀결': 5956, '짜르': 5957, '콩닥콩닥': 5958, '가산': 5959, '동네형': 5960, '푸근하다': 5961, '비탄': 5962, '밀덕': 5963, '바이블': 5964, '갈리': 5965, '파멸': 5966, '부도': 5967, '부도수표': 5968, '개꿀딱꿀재므': 5969, '연우': 5970, '족두리': 5971, '아시아': 5972, '멋대로': 5973, '통통': 5974, '데이트': 5975, '만요': 5976, '관습': 5977, '똑': 5978, '메기': 5979, '얼척': 5980, '개존잼': 5981, '희망고문': 5982, '비법': 5983, '다기': 5984, '가여웠': 5985, '란생': 5986, '땍띠컬한': 5987, '오차': 5988, '현란하다': 5989, '다이나믹': 5990, '벨기에': 5991, '이탈리아': 5992, '덕택': 5993, '가난': 5994, '내전': 5995, '못지않다': 5996, '짠물': 5997, '노틀담': 5998, '모금': 5999, '꼬락서니': 6000, '이슬람': 6001, '타락': 6002, '종결': 6003, '하드디스크': 6004, '리벤지': 6005, '귀퉁이': 6006, '이지나': 6007, '명연': 6008, '롯': 6009, '짊어질': 6010, '치열하다': 6011, '불성실하다': 6012, '원동력': 6013, '급임': 6014, '록': 6015, '저스트': 6016, '여왕': 6017, '브랜치': 6018, '벤츠': 6019, '바브': 6020, '다이아몬드': 6021, '투어': 6022, '퍼포먼스': 6023, '셋업': 6024, '에서만큼은': 6025, '했슴': 6026, '참나': 6027, '창': 6028, '천벌': 6029, '다관': 6030, '법성': 6031, '폭행': 6032, '솜방망이': 6033, '딩클스': 6034, '평정': 6035, '이인': 6036, '황당하다': 6037, '웬수': 6038, '금도': 6039, '왓챠등': 6040, '호각': 6041, '같은뎈': 6042, '장벽': 6043, '반발': 6044, '혈안': 6045, '암만': 6046, '일벌': 6047, '쫄아야짘': 6048, '전자': 6049, '사전투표': 6050, '총동원': 6051, '초집': 6052, '빠뜨리다': 6053, '꼽히다': 6054, '어서': 6055, '이방인': 6056, '몹시': 6057, '맥퀸': 6058, '동선': 6059, '젖가슴': 6060, '궤변': 6061, '짜깁다': 6062, '렌트': 6063, '이재': 6064, '경위': 6065, '단디': 6066, '최상급': 6067, '합치다': 6068, '빨게': 6069, '피나': 6070, '잼있슴': 6071, '가두다': 6072, '선입견': 6073, '대담하다': 6074, '으스대': 6075, '금은': 6076, '두두': 6077, '토요일': 6078, '시끄럽다': 6079, '세얼간이': 6080, '마이네임': 6081, '즈칸': 6082, '특정하다': 6083, '짝사랑': 6084, '카메론디아즈': 6085, '고함': 6086, '밈': 6087, '사골': 6088, '곰탕': 6089, '용감': 6090, '비툴': 6091, '어진': 6092, '타케루': 6093, '무표정': 6094, '마틴': 6095, '검시관': 6096, '판사': 6097, '박아': 6098, '크러시': 6099, '개싸움': 6100, '다년': 6101, '빅픽쳐': 6102, '디렉팅': 6103, '타격': 6104, '소문나다': 6105, '작정': 6106, '반지의제왕': 6107, '강인하다': 6108, '요점': 6109, '준열씌': 6110, '지아': 6111, '여지': 6112, '얼땡': 6113, '보균자': 6114, '자빠지다': 6115, '헬기': 6116, '드가': 6117, '배타': 6118, '외삼촌': 6119, '투니버스': 6120, '이누야샤': 6121, '계세': 6122, '굴레': 6123, '속박': 6124, '하시모토': 6125, '안타': 6126, '윈터': 6127, '솔져': 6128, '투탑': 6129, '물량투입': 6130, '독채': 6131, '인관': 6132, '격리': 6133, '전파': 6134, '패배': 6135, '송원': 6136, '텔레포트': 6137, '야채': 6138, '또첨': 6139, '짜장면': 6140, '천원': 6141, '후루룩': 6142, '쌩뚱맞고': 6143, '남정': 6144, '불침번': 6145, '길가': 6146, '죽빵': 6147, 'ㅗ': 6148, '만인': 6149, '부수': 6150, '거만': 6151, '사이코패스': 6152, '여담': 6153, '제대': 6154, '항하': 6155, '방향성': 6156, '저쩃': 6157, '반미': 6158, '김혜수': 6159, '안내': 6160, '추상': 6161, '여자라서': 6162, '미셸': 6163, '자서전': 6164, '용납': 6165, '혀': 6166, '하향': 6167, '다지': 6168, '입국': 6169, '일환': 6170, '외쿡인': 6171, '엄': 6172, '나요': 6173, '물귀신': 6174, '데보': 6175, '자격루': 6176, '김치': 6177, '워리어': 6178, '년치': 6179, '체크': 6180, '스콧': 6181, '반백': 6182, '맥도먼드': 6183, '시상식': 6184, '쉐이프': 6185, '워터': 6186, '크롤': 6187, '스포트라이트': 6188, '전등': 6189, '잘봣습니': 6190, '실라': 6191, '추론': 6192, '미만': 6193, '가망': 6194, '중고': 6195, '내보내다': 6196, '연식': 6197, '튜닝': 6198, '할로겐': 6199, '라이트': 6200, '교체': 6201, '성차별': 6202, '줜': 6203, '장이지': 6204, '막말': 6205, '이세': 6206, '개호갱임': 6207, '문짝': 6208, '달치': 6209, '복원': 6210, '배부르다': 6211, '딥': 6212, '단언컨대': 6213, '하위': 6214, '재단': 6215, '엉뚱하다': 6216, '중공군': 6217, '모글': 6218, '라빈': 6219, '왕창': 6220, '쉽쥬': 6221, '유출': 6222, '해치다': 6223, '데번셔': 6224, '돌격': 6225, '광경': 6226, '없음왜케': 6227, '년내': 6228, '평이하다': 6229, '폭풍': 6230, '호쾌': 6231, '두드러지다': 6232, '주요한': 6233, '서곡': 6234, '본론': 6235, '의학': 6236, '포멧': 6237, '선구자': 6238, '제시': 6239, '빈곤': 6240, '시로': 6241, '초래': 6242, '장난스럽다': 6243, '기인': 6244, '정무문': 6245, '배급': 6246, '빈민가': 6247, '노튼': 6248, '곤지암': 6249, '시커멓다': 6250, '핏덩': 6251, '캘리': 6252, '토데': 6253, '오금': 6254, '또잉': 6255, '민공': 6256, '뷁': 6257, '부터의': 6258, '동아리': 6259, '처음봣': 6260, '걸돈': 6261, '간파': 6262, '곁가지': 6263, '칼라': 6264, '당췌': 6265, '황태자': 6266, '약혼녀': 6267, '한소리': 6268, '다도': 6269, '이퀄리브리엄': 6270, '댕': 6271, '갈기': 6272, '무적': 6273, '들어맞다': 6274, '대고': 6275, '예외': 6276, '유혈': 6277, '낭자': 6278, '버무린': 6279, '바텐더': 6280, '담뱃불': 6281, '바랬을까그': 6282, '어도': 6283, '음중': 6284, '마못': 6285, '똥줄': 6286, '소풍': 6287, '맴돔각': 6288, '주사기': 6289, '좇': 6290, '로움': 6291, '떨어뜨리다': 6292, '난걸': 6293, '바랬는데': 6294, '요추': 6295, '플레이스테이션': 6296, '이연걸': 6297, '보디가드': 6298, '조미료': 6299, '디져트': 6300, '안성맞춤': 6301, '맘속': 6302, '윤종빈': 6303, '일리': 6304, '워쇼스키': 6305, '토비': 6306, '맥과이어': 6307, '편집증': 6308, '드투킬': 6309, '그러므로': 6310, '불성': 6311, '설임': 6312, '짜릿': 6313, '리브': 6314, '뭐합': 6315, '텐션': 6316, '파스': 6317, '스스': 6318, '핏': 6319, '오호': 6320, '엘리': 6321, '총살': 6322, '농도': 6323, '쿠쿠': 6324, '어른스럽다': 6325, '콜릴파렐': 6326, '데스티네이션': 6327, '파장': 6328, '필모': 6329, '젠틀': 6330, '장로': 6331, '너드': 6332, '매칭': 6333, '학원물': 6334, '혼동': 6335, '타임즈': 6336, '주간': 6337, '이남': 6338, '특명': 6339, '어벤저': 6340, '오사원': 6341, '뎃글알바': 6342, '건젔을지': 6343, '에까지': 6344, '유우': 6345, '똥파리': 6346, '깜빵': 6347, '제혁': 6348, '어후': 6349, '봣으': 6350, '초첨': 6351, '왜구': 6352, '선박': 6353, '규모': 6354, '일루미나티': 6355, '로소': 6356, '섀끼들': 6357, '승리자': 6358, '마리안': 6359, '록웰': 6360, '처칠': 6361, '팔고': 6362, '히틀러': 6363, '체임': 6364, '우중충하다': 6365, '불면증': 6366, '협의': 6367, '공로상': 6368, '공수': 6369, '처가': 6370, '협곡': 6371, '와드': 6372, '꼴통': 6373, '문어': 6374, '몬만': 6375, '갯벌': 6376, '무조': 6377, '껀': 6378, '내생': 6379, '깃털': 6380, '매끈하다': 6381, '뻐덕뻐': 6382, '부어': 6383, '출품': 6384, '방울방울': 6385, '희진': 6386, '위트': 6387, '호감': 6388, '털털': 6389, '개똥망': 6390, '셈': 6391, '장용': 6392, '폭포수': 6393, '유창하다': 6394, '탱': 6395, '쫄이면': 6396, '실사영화': 6397, '참극': 6398, '콜레라': 6399, '하지맙시': 6400, '프롬': 6401, '홈': 6402, '첨밀밀': 6403, '시시비비': 6404, '모레': 6405, '예순': 6406, '나리': 6407, '갖힌': 6408, '사고력': 6409, '파서': 6410, '엄두': 6411, '생채기': 6412, '소금': 6413, '도살': 6414, '거북': 6415, '락덕들': 6416, '헤치다': 6417, '오슽': 6418, '스콜피온스': 6419, '할배': 6420, '른다': 6421, '료초': 6422, '존예': 6423, '김아중': 6424, '마사미': 6425, '영화배우': 6426, '쫌더': 6427, '간접': 6428, '장진영': 6429, '에릭': 6430, '사티': 6431, '월스트리트': 6432, '엉터리': 6433, '심박수': 6434, '평레기들': 6435, '영악': 6436, '간략하다': 6437, '해변': 6438, '걔네': 6439, '채운': 6440, '하사': 6441, '설리': 6442, '허드슨': 6443, '부기': 6444, '딜레마': 6445, '군사작전': 6446, '그른': 6447, '뻑뻑': 6448, '최성은': 6449, '상쇄': 6450, '장려': 6451, '요란하다': 6452, '빅토': 6453, '찔리다': 6454, '나앉다': 6455, '엠버': 6456, '허드': 6457, '오른': 6458, '하나둘셋': 6459, '습관': 6460, '스나이퍼': 6461, '간절하다': 6462, '니콜': 6463, '손에꼽는': 6464, '뭡': 6465, '물란': 6466, '승전': 6467, '이십': 6468, '사업가': 6469, '철두철미': 6470, '모성': 6471, '부채': 6472, '거절': 6473, '딜칠땐': 6474, '쫘악': 6475, '삿다': 6476, '왓능': 6477, '임저': 6478, '헌법': 6479, '사회주의': 6480, '악플러': 6481, '막심': 6482, '심폐소생술': 6483, '금연': 6484, '정은지': 6485, '광장': 6486, '안봣다': 6487, '봣다': 6488, '어드밴쳐': 6489, '헐크': 6490, '북유럽': 6491, '신화': 6492, '장난꾸러기': 6493, '헬라': 6494, '쫓겨나다': 6495, '마일로': 6496, '디아즈': 6497, '불량하다': 6498, '추세': 6499, '기적처럼': 6500, '미스터리': 6501, '마침내': 6502, '들려주다': 6503, '교육영화': 6504, '학교폭력': 6505, '기성세대': 6506, '네러티브': 6507, '비중좀높혔으': 6508, '해감': 6509, '릴': 6510, '팔다': 6511, '일렬': 6512, '빠따질': 6513, '김대중': 6514, '기름': 6515, '타이어': 6516, '번호판': 6517, '대처': 6518, '도구로': 6519, '쿨타임': 6520, '돌때': 6521, '위원회': 6522, '세금': 6523, '삥땅': 6524, '날수': 6525, '리빙': 6526, '라스베가스': 6527, '정자': 6528, '김구라': 6529, '김희선': 6530, '전면': 6531, '김현주': 6532, '매초': 6533, '쪼꼬': 6534, '신아': 6535, '암스테르담': 6536, '꼽을': 6537, '앵무새': 6538, '준치': 6539, '태식': 6540, '교사': 6541, '어줍다': 6542, '생일': 6543, '으앙': 6544, '생물': 6545, '감성돔': 6546, '에돔': 6547, '돌돔': 6548, '돗돔': 6549, '비리다': 6550, '간이': 6551, '탕탕': 6552, '조성아': 6553, '기용': 6554, '주기도': 6555, '노현희': 6556, '면상': 6557, '엘리베이터': 6558, '버튼': 6559, '개썪었슴': 6560, '앰블런스': 6561, '콩닥': 6562, '분의': 6563, '식초': 6564, '열자': 6565, '얘깃': 6566, '미쳣따': 6567, '벌': 6568, '사악하다': 6569, '보탠다': 6570, '쪼금': 6571, '수춘': 6572, '중국영화': 6573, '대회': 6574, '열두': 6575, '비니': 6576, '그랑프리': 6577, '수아': 6578, '매너리즘': 6579, '자칫': 6580, '간단명료': 6581, '스토': 6582, '구욷': 6583, '아닠': 6584, '어쩌란거': 6585, '이거지': 6586, '우수하다': 6587, '게시판': 6588, '연호': 6589, '무지하다': 6590, '전남편': 6591, '용돈': 6592, '아르바이트': 6593, '불안정하다': 6594, '혼돈': 6595, '쇼타': 6596, '뛰어내리다': 6597, '통념': 6598, '볼때집': 6599, '볼때재': 6600, '저릿하다': 6601, '우즈': 6602, '잡아먹다': 6603, '장의사': 6604, '후배': 6605, '지기': 6606, '주둔': 6607, '물품': 6608, '국': 6609, '경제성': 6610, '치졸하다': 6611, '스시': 6612, '일본여행': 6613, '본연': 6614, '베트남': 6615, '이라크': 6616, '리폼': 6617, '저항': 6618, '개척': 6619, '판타스틱': 6620, '밀도': 6621, '일로': 6622, '조재현': 6623, '다다르다': 6624, '올레': 6625, '자지': 6626, '햇님': 6627, '먹방': 6628, '무한리필': 6629, '순차': 6630, '삿대질': 6631, '늪': 6632, '지우개': 6633, '사제': 6634, '괴성': 6635, '몸싸움': 6636, '예식': 6637, '싹둑싹둑': 6638, '군번': 6639, '편지': 6640, '군가': 6641, '선임': 6642, '관등': 6643, '성명': 6644, '금요일': 6645, '내무': 6646, '사열': 6647, '중대': 6648, '설문조사': 6649, '중대장': 6650, '쫄지마': 6651, '캠프': 6652, '평일': 6653, '영화음악': 6654, '확임함': 6655, '해충': 6656, '피시방': 6657, '차도': 6658, '운전': 6659, '함흥': 6660, '코끝': 6661, '서비스': 6662, '비호': 6663, '사냥개': 6664, '꼬꼬': 6665, '군데군데': 6666, '겁쟁이': 6667, '비약': 6668, '전만': 6669, '자잘하다': 6670, '무정부상태': 6671, '은혜': 6672, '주심': 6673, '대국민': 6674, '요전': 6675, '돈셜': 6676, '리박사': 6677, '흐트러짐없는': 6678, '언행': 6679, '확행': 6680, '도화': 6681, '손잡다': 6682, '네오': 6683, '넓어지다': 6684, '뒤로': 6685, '곤욕': 6686, '무한도전': 6687, '경매': 6688, '김송': 6689, '쩖': 6690, '땡땡': 6691, '나기': 6692, '분추': 6693, '게릴라': 6694, '걸스': 6695, '캔두': 6696, '기해': 6697, '프리미엄': 6698, '어간': 6699, '퉤퉷': 6700, '채미': 6701, '고의': 6702, '침몰': 6703, '이자벨': 6704, '토피': 6705, '계급': 6706, '돌아다니다': 6707, '궁합': 6708, '사주팔자': 6709, '상급': 6710, '힐러': 6711, '타용': 6712, '이러니': 6713, '망나니': 6714, '액션스탯': 6715, '유탄발사기': 6716, '반찬': 6717, '영역': 6718, '남고': 6719, '가라앉다': 6720, '안젤리나': 6721, '였음': 6722, '숟가락': 6723, '미묘하다': 6724, '기능': 6725, '페이소스': 6726, '왕가위': 6727, '양조위': 6728, '장만옥': 6729, '채색': 6730, '페르소나': 6731, '어느덧다': 6732, '재밎': 6733, '차차': 6734, '시놉': 6735, '쫄리는맛': 6736, '천하다': 6737, '기다림': 6738, '신뢰': 6739, '가박': 6740, '진중하다': 6741, '넷상': 6742, '몸소': 6743, '고니': 6744, '위버': 6745, '명쾌하다': 6746, '으로서는': 6747, '하류': 6748, '대전': 6749, '무리수': 6750, '식음': 6751, 'ㅆㅑㅇㄴ': 6752, '에피': 6753, '소망': 6754, '부의': 6755, '넘버원': 6756, '쫄깃했음': 6757, '보삼': 6758, '쫄깃함': 6759, '이본': 6760, '똥맛': 6761, '조만간': 6762, 'ㅊㅋㅊㅋ': 6763, '다다다': 6764, '크랭크': 6765, '았음': 6766, '정가': 6767, '데스': 6768, '사운드트랙': 6769, '흑백영화': 6770, '웨스': 6771, '프렌치': 6772, '디스패치': 6773, '나와랏': 6774, '다간': 6775, '고음': 6776, '중과': 6777, '수다': 6778, '차라': 6779, '미쳤슴': 6780, '정적': 6781, '땔수': 6782, '백윤식': 6783, '재희': 6784, '쥰내': 6785, '엌': 6786, '싸늘하다': 6787, '수용': 6788, '개지': 6789, '촬영감독': 6790, '로안': 6791, '자아': 6792, '마술': 6793, '부활': 6794, '각본가': 6795, '중학교': 6796, '비디오테잎': 6797, '동식물': 6798, '엽기': 6799, '인신공격': 6800, '짬': 6801, '폐쇄된': 6802, '들보': 6803, '세용': 6804, '힛트했': 6805, '박보영': 6806, '김영광': 6807, '범주': 6808, '해난사고': 6809, '으응': 6810, 'ㅇㄱ': 6811, '금지': 6812, '가처분': 6813, '신청': 6814, '수트': 6815, '비밀번호': 6816, '고급스럽다': 6817, '자유분방하다': 6818, '레몬': 6819, '사탕': 6820, '피아노': 6821, '론데': 6822, '브라질': 6823, '발달': 6824, '양상': 6825, '온화하다': 6826, '싸움판': 6827, '끓다': 6828, '일본군': 6829, '명장': 6830, '추리물': 6831, '명탐정': 6832, '역작': 6833, '유인원': 6834, '열등감': 6835, 'ㅉㄲ': 6836, '묘미': 6837, '개밥': 6838, '대일': 6839, '어지간하다': 6840, '어뢰': 6841, '좌초설': 6842, '지하철': 6843, '탓입': 6844, '소행': 6845, '방패': 6846, '도의': 6847, '그릇되다': 6848, '엄정화': 6849, '박서준': 6850, '육수': 6851, '폐기': 6852, '혹자': 6853, '유호정': 6854, 'ㄱㅅ': 6855, '구먼': 6856, '디파티드': 6857, '문화생활': 6858, '맑은': 6859, '봄꿈': 6860, '쫄깃할': 6861, '순리': 6862, '크리스탈': 6863, '간증': 6864, '얘길': 6865, '이탈리아인': 6866, '리프': 6867, '레시': 6868, '유역비': 6869, '비둘기': 6870, '라고도': 6871, '용산': 6872, '말기': 6873, '망고': 6874, '무마': 6875, '전무하다': 6876, '고대': 6877, '븅': 6878, '팼다구': 6879, '글구': 6880, '복귀': 6881, '미완성': 6882, '퀄부작': 6883, '한솔': 6884, '램': 6885, '데이지': 6886, '리들리': 6887, '송신': 6888, '저장': 6889, '가려지다': 6890, '국회': 6891, '숨지다': 6892, '아야': 6893, '마구': 6894, '막발': 6895, '최신': 6896, '매혹': 6897, '마음대로': 6898, '휘두르다': 6899, '노멀': 6900, '애처롭다': 6901, '호러물': 6902, '이해력': 6903, '워킹데드': 6904, '스틸': 6905, '구시대': 6906, '무심하다': 6907, '울보': 6908, '악착같이': 6909, '친절': 6910, '부여잡다': 6911, '헤어스타일': 6912, '힙': 6913, '좌좀': 6914, '홍어': 6915, '천년': 6916, '만년': 6917, '슬로우모션': 6918, '잭': 6919, '스나이더': 6920, '낙하산': 6921, '에란겔': 6922, '흩어지다': 6923, '날아오다': 6924, '비명': 6925, '강력하다': 6926, '리방': 6927, '동조': 6928, '겨누': 6929, '겨울': 6930, '통증': 6931, '레오': 6932, '뺑반': 6933, '테크': 6934, '전세': 6935, '이민': 6936, '소용없다': 6937, '비급': 6938, '금보': 6939, '군사정변': 6940, '동지': 6941, '일본어': 6942, '하는둥': 6943, '극본': 6944, '조윤숙': 6945, '오이디푸스': 6946, '오래오래': 6947, '정신병원': 6948, '좇다': 6949, '시언': 6950, '짝짝': 6951, '카톡': 6952, '재회': 6953, '권한': 6954, '삼국지': 6955, '견주었': 6956, '일가': 6957, '사마': 6958, '룬': 6959, '현직': 6960, '임상병리사': 6961, '최애영': 6962, '기사': 6963, '방이': 6964, '굵직하다': 6965, '방심하다': 6966, '커리어': 6967, '이중성': 6968, '개티즌들': 6969, '원컷씬': 6970, '이틀': 6971, '이세영': 6972, '안정감': 6973, '이펙트': 6974, '굴러가다': 6975, '드심멕켄지': 6976, '나탈리': 6977, '아가': 6978, '스팅': 6979, '고령': 6980, '노장': 6981, '최거': 6982, '호동': 6983, '까짘': 6984, '여자애': 6985, '경치': 6986, '동요': 6987, '배경음': 6988, '등지': 6989, '섕각': 6990, '라스트': 6991, '부자': 6992, '민호': 6993, '깨끗하다': 6994, '본성': 6995, '탐구': 6996, '메트로': 6997, '찰스': 6998, '맨슨': 6999, '샤론': 7000, '데이즈': 7001, '브레드': 7002, '히치하이커': 7003, '수석': 7004, '멘타': 7005, '코너': 7006, '일병': 7007, '완수': 7008, '퍼시픽림': 7009, '차이나': 7010, '사스': 7011, '뭐시': 7012, '델고와': 7013, '미션': 7014, '임파': 7015, '에딘': 7016, '제이슨': 7017, '용가리': 7018, '모조리': 7019, '마왕': 7020, '이리샤': 7021, '낮잠': 7022, '머물다': 7023, '호연': 7024, '구역': 7025, '반작용': 7026, '악수': 7027, '폭포': 7028, '스크랩': 7029, '피곤하다': 7030, '가족사': 7031, '인구': 7032, '같이나': 7033, '다이아': 7034, '사파이어': 7035, '보석': 7036, '알갱이': 7037, '알까기': 7038, '구체': 7039, '퇴보하다': 7040, '반의': 7041, '난생': 7042, '신민아': 7043, '띨빵': 7044, '굿임': 7045, '순직': 7046, '장병': 7047, '광구': 7048, '자부': 7049, '상어': 7050, '경비': 7051, '술해': 7052, '라면서': 7053, '얻지': 7054, '억이': 7055, '곱상하다': 7056, '란스': 7057, '득': 7058, '어김없이': 7059, '아킬레스건': 7060, '관성': 7061, '표시': 7062, '진의': 7063, '신라': 7064, '아마존': 7065, '쇼생': 7066, '교도소': 7067, '부르짖다': 7068, '쫓아내다': 7069, '목걸이': 7070, '애지중지': 7071, '쓱': 7072, '코웃음': 7073, '뉴트': 7074, '치우치다': 7075, '첨으로': 7076, '반려동물': 7077, '노출하다': 7078, '앞날': 7079, '붉은빛': 7080, '투명하다': 7081, '문근영': 7082, '재아': 7083, '이배': 7084, '새삼': 7085, '잠수병': 7086, '스티븐': 7087, '스필버그': 7088, '오해해': 7089, '휴먼': 7090, '그토록': 7091, '방대하다': 7092, '헤헿': 7093, '평끌': 7094, '봤엄': 7095, '쪼끔': 7096, '자증': 7097, '잠영': 7098, '간부': 7099, '삐': 7100, '린데': 7101, '감우성': 7102, '아려': 7103, '자밌': 7104, '낮누': 7105, '맹점': 7106, '고발': 7107, '궈': 7108, '홀랜드': 7109, 'ㅋㄹㄴ': 7110, '사표': 7111, '털땐': 7112, '쫓아오다': 7113, '랬': 7114, '난데없이': 7115, '펠퍼틴': 7116, '수퍼맨': 7117, '오비완': 7118, '아나킨': 7119, '광선검': 7120, '정은채': 7121, '중국사': 7122, '중드': 7123, '중영': 7124, '헝디엔': 7125, '곳임': 7126, '차이나다': 7127, '표던': 7128, '성장기': 7129, '왕따': 7130, '니코': 7131, '영활': 7132, '고품격': 7133, '행해지다': 7134, '흥겹다': 7135, '짐살': 7136, '드림웍스': 7137, '모범': 7138, '릭스': 7139, '유일신': 7140, '지저분하다': 7141, '강요': 7142, '스포츠': 7143, '악질': 7144, '묵비권': 7145, '유리하다': 7146, '쿠니': 7147, '유형': 7148, '치사하다': 7149, '종파': 7150, '정신없이': 7151, '어부지리': 7152, '에게만': 7153, '무교': 7154, '간판': 7155, '하느님': 7156, '피토': 7157, '좁다': 7158, '수상': 7159, '애묘': 7160, '오래간만': 7161, '부쩍': 7162, '힘쓰다': 7163, '절때': 7164, '초도': 7165, '잠듬': 7166, '윤상현': 7167, '사임': 7168, '불량': 7169, '폭죽': 7170, '지게': 7171, '여하튼': 7172, '어머': 7173, '표독': 7174, '것좀': 7175, '미국영화': 7176, '배짱': 7177, '승인': 7178, '특별출연': 7179, '독립운동': 7180, '일제': 7181, '순응': 7182, '여태': 7183, '캡사이신': 7184, '쫄깃쫄': 7185, '이대로': 7186, '일분': 7187, '평타': 7188, '에소': 7189, '쌔': 7190, '찌': 7191, '두발': 7192, '능지처참': 7193, '방뇨': 7194, '담력': 7195, '쩡쩡하다': 7196, '시퀀스': 7197, '싱그럽다': 7198, '심슨': 7199, '아이돌스타': 7200, '애국심': 7201, '싸이': 7202, '은평': 7203, '제압': 7204, '썰리다': 7205, '숨보': 7206, '당선': 7207, '해군기지': 7208, '건설': 7209, '다듬어지다': 7210, '혼영': 7211, '복합': 7212, '유년기': 7213, '잊힌': 7214, '돌이키다': 7215, '성폭력': 7216, '스톰': 7217, '트루퍼': 7218, '예비역': 7219, '오도': 7220, '사단': 7221, '어이넚엇': 7222, '재믹게봄': 7223, '뒷이야기': 7224, '트와일라잇': 7225, '편중': 7226, '브레이': 7227, '킹': 7228, '존꿀잼': 7229, '죄수': 7230, '탁하다': 7231, '곸': 7232, '꿀잼작': 7233, '아버': 7234, '부녀': 7235, '퀴즈': 7236, '낭': 7237, '크리스틴': 7238, '부추기다': 7239, '파라': 7240, '미르': 7241, '매그니토': 7242, '묠디르': 7243, '고급': 7244, '풀림': 7245, '재밋었을까': 7246, '소굴': 7247, '볼리우드': 7248, '뭄바이': 7249, '감쪽': 7250, '오토릭샤': 7251, '살찐': 7252, '무질서': 7253, '당기다': 7254, '잔득폼': 7255, '만주': 7256, '겟': 7257, '진연희': 7258, '디워': 7259, '번영': 7260, '인지부조화': 7261, '저능': 7262, '두기': 7263, '실천': 7264, '마피아': 7265, '가문': 7266, '모노노케': 7267, '대들다': 7268, '긍정': 7269, '드디어': 7270, '쇼파': 7271, '블리': 7272, '트와이스': 7273, '모니터': 7274, '제거': 7275, '뱉다': 7276, '바랬던': 7277, '에그': 7278, '로튼토마토': 7279, '포털': 7280, '어리숙하다': 7281, '똘똘치': 7282, '니놈': 7283, '낚인듯': 7284, '팝': 7285, '인형': 7286, '익숙해지다': 7287, '면역': 7288, '요법': 7289, '청문회': 7290, '방증임': 7291, '후려치다': 7292, '개새': 7293, '작성': 7294, '소송': 7295, '요란': 7296, '로케': 7297, '배우자': 7298, '개화': 7299, '어보': 7300, '데킬러': 7301, '배꼽': 7302, '루치': 7303, '로우': 7304, '기어': 7305, '미정': 7306, '콤': 7307, '깝': 7308, '치면': 7309, '토네이도': 7310, '자이로드롭': 7311, '거림': 7312, '좀비랜드': 7313, '더블': 7314, '탭': 7315, '직할': 7316, '사이버': 7317, '짜파게티': 7318, '중파': 7319, '엘리트': 7320, '파국': 7321, '국한': 7322, '탄흔': 7323, '직격탄': 7324, '잔당': 7325, '좌지우지': 7326, '지혜': 7327, '보탤': 7328, '유가족': 7329, '생존자': 7330, '고통스럽다': 7331, '박차': 7332, '탈탈': 7333, '브라보': 7334, '잎': 7335, '아포': 7336, '클립스': 7337, '결합': 7338, '일간': 7339, '가슴앓이': 7340, '총포': 7341, '어찌어찌': 7342, '적히다': 7343, '쩜': 7344, '화점': 7345, 'ㅏㄹ': 7346, '미달': 7347, '고충': 7348, '개꿀': 7349, '고교시절': 7350, '벌판': 7351, '장고': 7352, '곁들이다': 7353, '싸구려': 7354, '끌어안다': 7355, '법적': 7356, '분쟁': 7357, '청와대': 7358, '저해': 7359, '선입견를': 7360, '악랄하다': 7361, '직선': 7362, '냄비': 7363, '우르르': 7364, '기필코': 7365, '어어': 7366, '소매': 7367, '위선': 7368, '머뭇거리다': 7369, '졸지': 7370, '난링구': 7371, '얌': 7372, '폐륜아': 7373, '휴머니스트': 7374, '무심코': 7375, '라기보다는': 7376, '별미': 7377, '딩씬': 7378, '고백': 7379, '안성기': 7380, '즈음': 7381, '둘러쌓다': 7382, '돌진': 7383, '아른': 7384, '거림니': 7385, '먹이': 7386, '사슬': 7387, '경찰차': 7388, '따로따로': 7389, '리스크': 7390, '리턴': 7391, '아바': 7392, '느님': 7393, '므': 7394, '세이브': 7395, 'ㅇㅈ': 7396, '가스총': 7397, '뽐뿌': 7398, '질옴': 7399, '착오': 7400, '컨텐츠': 7401, '둣': 7402, '뿌듯하다': 7403, '안남다': 7404, '중력': 7405, '나연': 7406, '눈높이': 7407, '댄싱': 7408, '인내': 7409, '레즈비언': 7410, '곱': 7411, '애인': 7412, '스치다': 7413, '튀어': 7414, '김희애': 7415, '주름': 7416, '본심': 7417, '병아리': 7418, '솔스쿼드': 7419, '인스쿼드': 7420, '길들이다': 7421, '호러영화': 7422, '망토': 7423, '쥐어박다': 7424, '심장쫄깃': 7425, '지침': 7426, '나오니': 7427, '버블경제': 7428, '융': 7429, '흐': 7430, '단조롭다': 7431, '남자라면': 7432, '샘물': 7433, '아난다': 7434, '욤': 7435, '유투': 7436, '핑계': 7437, '삼지': 7438, '감덩': 7439, '반환': 7440, '이구만': 7441, '스키': 7442, '나른하다': 7443, '보이스': 7444, '블펜': 7445, '파견': 7446, '차오르다': 7447, '명단': 7448, '관료': 7449, '직등': 7450, '말씀드리다': 7451, '감방': 7452, '나레이션': 7453, '복수심': 7454, '헀으': 7455, '가위': 7456, '밀고': 7457, '예의': 7458, '추정': 7459, '루키들': 7460, '부트캠프': 7461, '옥상': 7462, '최초': 7463, '뮤': 7464, '팬티': 7465, '여건': 7466, '폄훼하': 7467, '본영': 7468, '구가': 7469, '이창환': 7470, '이진수': 7471, '쥐색': 7472, '소나기': 7473, '살이': 7474, '톡특': 7475, '자문': 7476, '경솔하다': 7477, '단발': 7478, '템포': 7479, '오만하다': 7480, '훼손': 7481, '성찰': 7482, '서사시': 7483, '군상': 7484, '참담하다': 7485, '당혹하다': 7486, '교차': 7487, '트바': 7488, '로티': 7489, '여론': 7490, '관해': 7491, '알리바이': 7492, '측': 7493, '자작': 7494, '애완': 7495, '리액션': 7496, '경력': 7497, '납치사건': 7498, '살육': 7499, '무성': 7500, '인형극': 7501, '어불성설': 7502, '치우다': 7503, '미저리': 7504, '인가가': 7505, '층': 7506, '읍음': 7507, '똥꼬': 7508, '적격입니': 7509, '개쌉재밋다': 7510, '튀기다': 7511, '이엘리야': 7512, '크리': 7513, '영화리뷰': 7514, '학도': 7515, '놀이터': 7516, '치르다': 7517, '쇼핑': 7518, '낯선': 7519, '병들다': 7520, '무관심': 7521, '방관': 7522, '어기다': 7523, '이기주의': 7524, '개인주의': 7525, '경종': 7526, '회복하다': 7527, '황룡': 7528, '위너': 7529, '개망': 7530, '면제': 7531, '자의식': 7532, '또또': 7533, '멜론': 7534, '망인': 7535, '섹슈얼': 7536, '테러리스트': 7537, '흐믓했': 7538, '한반도': 7539, '변국': 7540, '정세': 7541, '성찬': 7542, '온건': 7543, '직관': 7544, '땅크': 7545, '일베': 7546, '라이즈': 7547, '스카이워커': 7548, '초창': 7549, '전통': 7550, '성소수자': 7551, '키스신': 7552, '바이': 7553, '날뻔': 7554, '흡족하다': 7555, '운빨': 7556, '꺄르르': 7557, '베': 7558, '환불': 7559, '요청': 7560, '풍선': 7561, '내공': 7562, '픽': 7563, '호혜중님': 7564, '늘씬하다': 7565, '알프레드': 7566, '그리드': 7567, '버그': 7568, '품위': 7569, '최저임금': 7570, '인질': 7571, '예수님': 7572, '흐트러진다': 7573, '깨빡': 7574, '흔드': 7575, '가카': 7576, '취': 7577, '진성': 7578, '플하': 7579, '백퍼': 7580, '열매': 7581, '조성': 7582, '문장': 7583, '고행': 7584, '는바': 7585, '만드': 7586, '꼬치꼬치': 7587, '바리': 7588, '깍이다': 7589, '라이플': 7590, '인플레': 7591, '기초': 7592, '해안': 7593, '음향효과': 7594, '상임': 7595, '메이': 7596, '이정화': 7597, '신들리다': 7598, '깨지다': 7599, '싱크': 7600, '글타': 7601, '후대': 7602, '감신': 7603, '장황하다': 7604, '옵션': 7605, '스노우': 7606, '버루': 7607, '잡기': 7608, '반짝': 7609, '여전': 7610, '어짜': 7611, '합류': 7612, '자유도': 7613, '획일': 7614, '화표': 7615, '예상외': 7616, '성지순례': 7617, '계시': 7618, '도쿄올림픽': 7619, '대공황': 7620, '각지': 7621, '에너지': 7622, '아키': 7623, '핵에너지': 7624, '흉': 7625, '흉하다': 7626, '최신영': 7627, '이기선': 7628, '사류': 7629, '한국말': 7630, '레게': 7631, '전투력': 7632, '측정기': 7633, '칠무해': 7634, '킹킹': 7635, '킹콩': 7636, 'ㄹㄱㄴ': 7637, '적절': 7638, '진지': 7639, '단단하다': 7640, '부서지다': 7641, '야구공': 7642, '언터쳐블': 7643, '랄랄라': 7644, '랄라': 7645, '선악': 7646, '백성': 7647, '폐쇠': 7648, '내뱉다': 7649, '오그': 7650, '신체': 7651, '부각시키다': 7652, '여행가': 7653, '방부제': 7654, 'ㅋㄱ': 7655, '흘': 7656, '다재': 7657, '밋': 7658, '더보': 7659, '나타': 7660, '내려다보다': 7661, '살인의추억': 7662, '유분수': 7663, '갈팡질팡': 7664, '똥덩어리': 7665, '나영': 7666, '무당': 7667, '어꺠': 7668, '공예': 7669, '미러': 7670, '일만': 7671, '쌈': 7672, '슬람': 7673, '장편': 7674, '뇨': 7675, '실생활': 7676, '몬스터': 7677, '진부': 7678, '시리': 7679, '야동': 7680, '물의': 7681, '대학가': 7682, '장난스런키스': 7683, '정신차리다': 7684, '그이': 7685, '칠면조': 7686, '디트로이트': 7687, '솟구치다': 7688, '소문': 7689, 'ㅜㅜㅠㅠ': 7690, '유난히': 7691, '서글퍼지다': 7692, '무덤': 7693, '평전': 7694, '볼륨': 7695, '통화': 7696, '떡락해': 7697, '번화가': 7698, '골목': 7699, '겁내': 7700, '예비군': 7701, '쩌리': 7702, '글렀': 7703, '깔깔': 7704, '멜로디': 7705, '영화광': 7706, '무심': 7707, '만분': 7708, '용무': 7709, '외제차': 7710, '재밋게봄': 7711, '이정재': 7712, '노가다': 7713, '김석': 7714, '존망': 7715, '적용': 7716, '쟁쟁': 7717, '오합지졸': 7718, '쉬리': 7719, '가차': 7720, '학습': 7721, '왼쪽': 7722, '점퍼': 7723, '로랑': 7724, '호기': 7725, '듀오': 7726, '임점': 7727, '밸런스': 7728, '진실하다': 7729, '김상진': 7730, '연합': 7731, '엮었다': 7732, '배틀씬': 7733, '꼴깞들': 7734, '느그': 7735, '불사신': 7736, '멋쟁이': 7737, '똥망작': 7738, '난또': 7739, '샅': 7740, '무협': 7741, '에끼': 7742, '낼름': 7743, '광': 7744, '어쩌다가': 7745, '수사물': 7746, '감초': 7747, '주류': 7748, 'ㅠㅠㅜ': 7749, '검심': 7750, '루킹': 7751, '고서': 7752, '하등': 7753, '중요': 7754, '지척': 7755, '거대하다': 7756, '좇는': 7757, '내레이션': 7758, '바로미터': 7759, '대거': 7760, '말죽거리잔혹사': 7761, '엄숙하다': 7762, '숭고하다': 7763, '괴': 7764, '중학': 7765, '씌레귀': 7766, '퉤': 7767, '이로써': 7768, '피디': 7769, '장단점': 7770, '낙담': 7771, '나올걱': 7772, '중화권': 7773, '메우다': 7774, '서든어택': 7775, '조센징': 7776, '탈수': 7777, '상남자': 7778, '그지같다': 7779, '공상': 7780, '꼬으는데': 7781, '트위스트': 7782, '꽈배기': 7783, '백과사전': 7784, '무력': 7785, '화하다': 7786, '철남이': 7787, '츠키': 7788, '모토': 7789, '신야': 7790, '고안': 7791, '캣는데': 7792, '첫번쨰': 7793, '위태해': 7794, '성욕': 7795, '피어': 7796, '노출씬': 7797, '한개': 7798, '대혁명': 7799, '전후': 7800, '고초': 7801, '시련': 7802, '전성기': 7803, '은색': 7804, '땀남꿀잼편': 7805, '물롱': 7806, '견줄만함근': 7807, '박새별': 7808, '붙잡다': 7809, '앉히다': 7810, '실명': 7811, '대성통곡': 7812, '뤽': 7813, '베송': 7814, '사이비과학': 7815, '박신양': 7816, '빈국': 7817, '심호흡': 7818, '이음': 7819, '임지연': 7820, '차례차례': 7821, '인후': 7822, '머그': 7823, '쓸모': 7824, '찢어지다': 7825, '씨부리다': 7826, '뚱땡이': 7827, '엘리시움': 7828, '빨르다': 7829, '하이큐': 7830, '에프': 7831, '사쿠사': 7832, '후쿠로': 7833, '득점': 7834, '맘애': 7835, '일직': 7836, '톱': 7837, '투신': 7838, '적기가': 7839, '재방송': 7840, '쏜다': 7841, '페르시아': 7842, '스파르타': 7843, '봉화': 7844, '가보리': 7845, '깽깽': 7846, '트리플': 7847, '프런티어': 7848, '유통': 7849, '떄리다': 7850, '퐐': 7851, '진일': 7852, '부치다': 7853, '벌떡': 7854, '한층': 7855, '허쉬': 7856, '고자': 7857, '퇴색': 7858, '음울하다': 7859, '징감': 7860, '쩔어요': 7861, '맛깔나다': 7862, '넷플오': 7863, '배틀로얄': 7864, '패턴': 7865, '숨은띵작': 7866, '조음': 7867, '수동': 7868, '배제': 7869, '어르다': 7870, '불란서': 7871, '임대룸': 7872, '푸른': 7873, '정원': 7874, '선방': 7875, '탈출씬': 7876, '이프': 7877, '미쉘': 7878, '현준': 7879, '허성': 7880, '시야': 7881, '음보': 7882, 'ㅁㅊㄷ': 7883, '등록': 7884, '보탬': 7885, '전지': 7886, '당사자': 7887, '이기심': 7888, '숙면': 7889, '신비': 7890, '크리스토퍼': 7891, '얼핏': 7892, '파워': 7893, '가병': 7894, '맥시': 7895, '갱단': 7896, '핵사': 7897, '니나': 7898, '나와라': 7899, '만해': 7900, '클로이': 7901, 'ㅗㅗ': 7902, '멸': 7903, '이동': 7904, '목격자': 7905, '보관': 7906, '면은': 7907, '봣거든': 7908, '재밋엇어': 7909, '조롱': 7910, '어두워지다': 7911, '함정': 7912, '몰랏는데': 7913, '충분': 7914, '시르다': 7915, '팬클럽': 7916, '지상': 7917, '의중': 7918, '패스': 7919, '워후': 7920, '비상': 7921, '벨': 7922, '개체': 7923, '상주고': 7924, '로주': 7925, '배은망덕': 7926, '의료': 7927, '응급실': 7928, '실금': 7929, '기미': 7930, '어부': 7931, '협박': 7932, '초때': 7933, '삥': 7934, '군생활': 7935, '나들이': 7936, '덤덤하다': 7937, '므흣하': 7938, '유감': 7939, '물정': 7940, '만치': 7941, '멀어지다': 7942, '부들': 7943, '사필귀정': 7944, '삭막하다': 7945, '쫄깃쫄깃하': 7946, '김향기': 7947, '정당하다': 7948, '레스토랑': 7949, '휘황': 7950, '애매': 7951, '리도': 7952, '부라': 7953, '줏대': 7954, '이빨': 7955, '매직': 7956, '머임': 7957, '풍족하다': 7958, '난재밋게봄': 7959, '큐브': 7960, '델': 7961, '장애인': 7962, '억만장자': 7963, '헹': 7964, '글라이더': 7965, '인양': 7966, '항해사': 7967, '노트': 7968, '스테': 7969, '빌라이': 7970, '목표': 7971, '우여곡절': 7972, '방위': 7973, '전국': 7974, '주체': 7975, '오징어': 7976, '네이팜탄': 7977, '회복': 7978, '고릴라': 7979, '소리내다': 7980, '조심': 7981, '셀': 7982, '거미': 7983, '도마뱀': 7984, '브리': 7985, '싸가지': 7986, '사무엘': 7987, '잭슨': 7988, '폼': 7989, '방탄소년단': 7990, '용의자': 7991, '애먼': 7992, '이치': 7993, '사카모토': 7994, '황제': 7995, '로렌': 7996, '예술인': 7997, '터주': 7998, 'ㅋㄹㅋ': 7999, '신중하다': 8000, '수당': 8001, '지갑': 8002, '겸직': 8003, '포트': 8004, '나이트': 8005, '슈팅게임': 8006, '욕구': 8007, '삘받아': 8008, '토악질': 8009, '치매': 8010, '퇴화': 8011, '계약': 8012, '기울어지다': 8013, '운동장': 8014, '감수성': 8015, '할당': 8016, '제의': 8017, '첫날': 8018, '정신건강': 8019, '후련하다': 8020, '존낸쉬름': 8021, '페북': 8022, '떠가다': 8023, '둠칫둠칫': 8024, '롹': 8025, '검': 8026, '쉐어': 8027, '현대인': 8028, '복기': 8029, '드나들다': 8030, '식료품점': 8031, '살포시': 8032, '어루만지다': 8033, '빗겨': 8034, '이노': 8035, '퐝당하': 8036, '조엘': 8037, '킨너': 8038, '필생': 8039, '폴란드': 8040, '아따': 8041, '패곤': 8042, '베네딕트': 8043, '가의': 8044, '늘어서다': 8045, '세밀': 8046, '똥찬': 8047, '선샤인': 8048, '마리화나': 8049, '계산기': 8050, '용해': 8051, '핵탄두': 8052, '여부': 8053, '기타등등': 8054, '귀로': 8055, '탐지': 8056, '닦달': 8057, '막눈': 8058, '리트리버': 8059, '놀래기': 8060, '홀로몬': 8061, '연하다': 8062, '스포일러': 8063, '쥐락펴락합니': 8064, '경쟁': 8065, '로보트': 8066, '욘두': 8067, '꾸릿꾸릿': 8068, '롤러더비': 8069, '맑음': 8070, '소녀가장': 8071, '꾀': 8072, '매매': 8073, '게다': 8074, '한적': 8075, '부드라운': 8076, '인신공양': 8077, '광대버섯': 8078, '전방': 8079, '한때': 8080, '괴로움': 8081, '사기꾼': 8082, '판두': 8083, '너와나': 8084, '히스': 8085, '초등학교': 8086, '고학년': 8087, '봄낮': 8088, '마련': 8089, '들먹이다': 8090, '초대형': 8091, '생체': 8092, '합작': 8093, '가성': 8094, '맹활약': 8095, '말고도': 8096, '한물가다': 8097, '대우': 8098, '개엽겹누': 8099, '싸잡다': 8100, '쥬': 8101, '이영환': 8102, '영홥니': 8103, '익스트': 8104, '랜션': 8105, '스크림': 8106, '꽃처럼': 8107, '전술': 8108, '설치다': 8109, '컴백': 8110, '서리': 8111, '독전': 8112, '심해': 8113, '미미하다': 8114, '팍': 8115, '잔잔': 8116, '인조인간': 8117, '초인': 8118, '수배': 8119, '왜턴거': 8120, '주안': 8121, '들여다보다': 8122, '연구': 8123, '그레타': 8124, '거윅': 8125, '거두다': 8126, '발족': 8127, '한결같다': 8128, '임수정': 8129, '애잔하다': 8130, '섹시뽀짝': 8131, '말미': 8132, '부랄': 8133, '람사': 8134, '의기': 8135, '투합': 8136, '샵': 8137, '탈영': 8138, '아메리칸': 8139, '장애물': 8140, '트릭': 8141, '존잼존잼': 8142, '줸': 8143, '평남': 8144, '만용': 8145, '결백': 8146, '관철': 8147, '안질리다': 8148, '둠칫둠칫둠칫둠칫': 8149, '별점왤케': 8150, '호의': 8151, '빵터지다': 8152, '지짴': 8153, '쫄리는듯': 8154, '실리다': 8155, '부조': 8156, '납골당': 8157, '내장': 8158, '지류': 8159, '비긴': 8160, '어게인': 8161, '마자': 8162, '싹싹': 8163, '도서관': 8164, '집앞': 8165, '경적': 8166, '데려가다': 8167, '잠기': 8168, '유증': 8169, '셔젤': 8170, '플래쉬': 8171, '꽉차다': 8172, '부잣집': 8173, '일본만화': 8174, '청아': 8175, '포심': 8176, '일제사격': 8177, '기일': 8178, '가입자': 8179, '육중': 8180, '거창하다': 8181, '원화': 8182, '파탄': 8183, '노조': 8184, '얌전하다': 8185, '노년': 8186, '부유하다': 8187, '청혼': 8188, '미망인': 8189, '꼬박꼬박': 8190, '손절': 8191, '룸메이트': 8192, '파라다이스': 8193, '슴가': 8194, '눈부심': 8195, '썻는': 8196, '폭소': 8197, '몸매': 8198, '담당': 8199, '그제야': 8200, '나타남': 8201, '나현희': 8202, '굿굿굿굿굿굿': 8203, '부러': 8204, '함장': 8205, '게리': 8206, '바스': 8207, '캐틀링': 8208, '포탑': 8209, '방어': 8210, '뒤틀리다': 8211, '살생': 8212, '참이슬': 8213, '빋아': 8214, '공무원': 8215, '대망': 8216, '소림축구': 8217, '토니': 8218, '로컬': 8219, '감개': 8220, '무량': 8221, '함박': 8222, '색기': 8223, '영지': 8224, '슬럼프': 8225, '음침': 8226, '구성은': 8227, '편안': 8228, '락트롤': 8229, '일곱': 8230, '무차별': 8231, '고찰': 8232, '투숙': 8233, '객': 8234, '스킨스': 8235, '앤워': 8236, '구리지': 8237, '츠': 8238, '마부': 8239, '임도': 8240, '날조': 8241, '우리네': 8242, '할리데이비슨': 8243, '야수': 8244, '데코': 8245, '로나': 8246, '서해': 8247, '잊지맙시': 8248, '변모': 8249, '발악': 8250, '최동훈': 8251, '에로드': 8252, '라마': 8253, '개쩌는데': 8254, '설레임': 8255, '꿈결': 8256, '쏠땐': 8257, '잘해야': 8258, '견착': 8259, '급발진': 8260, '반적': 8261, '군납': 8262, '럭키': 8263, '랄것': 8264, '모름': 8265, '든든하다': 8266, '동남아': 8267, '역사영화': 8268, '제제': 8269, '이장면': 8270, '주입': 8271, '차열': 8272, '누굴': 8273, '짦': 8274, '반박': 8275, '매탄': 8276, '홍금보': 8277, '태극권': 8278, '만종': 8279, '진국곤': 8280, '파랑': 8281, '도화선': 8282, '레': 8283, '평작': 8284, '운전사': 8285, '남산': 8286, '공통점': 8287, '환타지': 8288, '경제력': 8289, '지도자': 8290, '공이': 8291, '과를': 8292, '부풀리다': 8293, '컴플렉스': 8294, '분탕질': 8295, '게말': 8296, '좋앜': 8297, '이시영': 8298, '방한': 8299, '쭈꾸미': 8300, '난젛': 8301, '낙태': 8302, 'ㅜㅜㅜㅜ': 8303, '도달': 8304, '국봉': 8305, '전직': 8306, '용병': 8307, '수녀': 8308, '이역': 8309, '만리': 8310, '깜둥이': 8311, '영재': 8312, '직진': 8313, '마음가짐': 8314, '좋다잉': 8315, '이지은': 8316, '김갑수': 8317, '용훈': 8318, '젓': 8319, '만상': 8320, '심마': 8321, '휼륭하다': 8322, '찜': 8323, '남도': 8324, '노무': 8325, '원일': 8326, '뿜는': 8327, '반석': 8328, '색채': 8329, '비겁하다': 8330, '쪼잔하': 8331, '거름': 8332, '소재지': 8333, '무선': 8334, '몰래': 8335, '떳떳하다': 8336, '내야': 8337, '고저': 8338, '하그': 8339, '에여': 8340, '괴담': 8341, '업데이트': 8342, '차지철': 8343, '더러': 8344, '졸음': 8345, '저기': 8346, '엔딩크레디트': 8347, '쿡': 8348, '질라': 8349, '삼고': 8350, '유품': 8351, '그까짓': 8352, '지불': 8353, '살인자': 8354, '폐기물': 8355, '쫑나': 8356, '플럭스': 8357, '하씨': 8358, '재촉': 8359, '마당': 8360, '도발': 8361, '치료받다': 8362, '스또리': 8363, '고삐': 8364, '날뛰다': 8365, '좀해': 8366, '찍지마라': 8367, '수갑': 8368, '엄습': 8369, '논술': 8370, '걷어차다': 8371, '주된': 8372, '오비': 8373, '유사': 8374, '풍기다': 8375, '즙': 8376, '몽땅': 8377, '절규': 8378, '아타': 8379, '후손': 8380, '평안하다': 8381, '뇌임': 8382, '시간이동': 8383, '날것': 8384, '러블리': 8385, '주의자': 8386, '스타로드': 8387, '만가': 8388, '어이없이': 8389, '퍼지다': 8390, '털보': 8391, '밥상': 8392, '결핍': 8393, '마일': 8394, '카나': 8395, '댠': 8396, '도토': 8397, '후의': 8398, '텍스트': 8399, '후일담': 8400, '사계절': 8401, '김태': 8402, '세영': 8403, '주씨': 8404, '아우': 8405, '왜케평점': 8406, '강남': 8407, '레오나르도': 8408, '빠순이': 8409, '집단': 8410, '군부': 8411, '후예': 8412, '통닭': 8413, '잡아당기다': 8414, '대인': 8415, '아가씨': 8416, '아이엠': 8417, '제겐': 8418, '목함': 8419, '김수환': 8420, '추기경': 8421, '고향': 8422, '정경': 8423, '답지': 8424, '헤아리다': 8425, '마음씨': 8426, '모루': 8427, '수듄': 8428, '준걸': 8429, '대유': 8430, '로스트': 8431, '더스트': 8432, '성문': 8433, '제출': 8434, '석고': 8435, '대죄': 8436, '소마': 8437, '안내면': 8438, '샤말란': 8439, '식스센스': 8440, '강박증': 8441, '해프닝': 8442, '애프터어스': 8443, '에어': 8444, '블라블라': 8445, '그늘': 8446, '전심': 8447, '보듬다': 8448, '솔져스': 8449, '설마설마': 8450, '파이트클럽': 8451, '연달': 8452, '갱신': 8453, '박한별': 8454, '송지효': 8455, '화질': 8456, '쪼려': 8457, '돌고래': 8458, '고질라': 8459, '소피아': 8460, '루르': 8461, '좇지': 8462, '바닷가': 8463, '수영': 8464, '오디오': 8465, '지드': 8466, '레잔': 8467, '요술': 8468, '만화가': 8469, '화만': 8470, '모이': 8471, '완젼': 8472, '손나은': 8473, '탐욕': 8474, '공룡': 8475, '통제': 8476, '맞짱': 8477, '뜰': 8478, '적수': 8479, '과시': 8480, '거짓말쟁이': 8481, '만두': 8482, '플래쉬몹': 8483, '나빠지다': 8484, '마여': 8485, '몹': 8486, '셋째': 8487, '천조국': 8488, '초청': 8489, '쪼그라들다': 8490, '프레이저': 8491, '뺨칠': 8492, '근간': 8493, '끈기': 8494, '오멘': 8495, '이벤트': 8496, '니스': 8497, '샘닐': 8498, '흙': 8499, '드레곤': 8500, '퀘스트': 8501, '나로': 8502, '유저': 8503, '씬시티': 8504, '창의력': 8505, '신데렐라': 8506, '핀트': 8507, '못자다': 8508, '에게서': 8509, '볼껄': 8510, '아키라': 8511, '윤발': 8512, '막내': 8513, 'ㄱㅏㅣ': 8514, '애플렉': 8515, '톡톡하다': 8516, '할애비': 8517, '옹박': 8518, '태국': 8519, '무의식': 8520, '틀어막다': 8521, '어둑하다': 8522, '조루': 8523, '화초': 8524, 'ㄲ': 8525, '뿌': 8526, '트랜스포머': 8527, '개줫': 8528, '넘어뜨리다': 8529, '부정선거': 8530, '들르다': 8531, '응징': 8532, '완존': 8533, '폭망폭망': 8534, '불의': 8535, '진리': 8536, '무력감': 8537, '격하': 8538, '즘': 8539, '안녕': 8540, '무능력하다': 8541, '악덕': 8542, '만드길': 8543, '이천희': 8544, '로드': 8545, '태평하다': 8546, '승혜': 8547, '목수': 8548, '흥분하다': 8549, '지영': 8550, '혈세': 8551, '다인': 8552, '재인': 8553, '김선': 8554, '저격수': 8555, '옷벗다': 8556, '남색': 8557, '로마': 8558, '도자기': 8559, '상향': 8560, '한도': 8561, '지그': 8562, '피칠갑': 8563, '카우보이': 8564, '평등': 8565, '추악': 8566, '유': 8567, '씨줄': 8568, '날줄': 8569, '밥말': 8570, '고아성': 8571, '쫄림': 8572, '브금': 8573, '천명': 8574, '우주해적': 8575, '식인': 8576, '원숭이': 8577, '돌이': 8578, '뭐짘': 8579, '쉈': 8580, '나란하다': 8581, '부조화': 8582, '달팽이': 8583, '빼앗기다': 8584, '중얼거리다': 8585, '고정관념': 8586, '벅차다': 8587, '해병대': 8588, '교관': 8589, '야심': 8590, '지끈': 8591, '거릴': 8592, '민주': 8593, '노총': 8594, '투쟁': 8595, '어땟을까': 8596, '애송이': 8597, '병원씬': 8598, '들쑥날쑥': 8599, '달이': 8600, '최대로': 8601, '어쉬운': 8602, '무리다': 8603, '엠': 8604, '말다툼': 8605, 'ㅌㅋㅋㅋ': 8606, '네이비씰': 8607, '레인저': 8608, '소수': 8609, '연한': 8610, 'ㅡㅡㅜㅜㅠㅠㅣㅣ': 8611, '툴리역': 8612, '켄지': 8613, '보셧는': 8614, '카테고리': 8615, '다작': 8616, '눈알': 8617, '경계안스': 8618, '그겋': 8619, '긴런닝타임': 8620, '간분': 8621, '배상금': 8622, '공격': 8623, '병사': 8624, '전사': 8625, '유족': 8626, '해제': 8627, '우스꽝스럽다': 8628, '평글': 8629, '순이': 8630, '개핵': 8631, '화병': 8632, '심근경색': 8633, '리하나': 8634, '통일': 8635, '진짴': 8636, '가정폭력': 8637, '넌덜': 8638, '로마시대': 8639, '잔인성': 8640, '유별나다': 8641, '출구': 8642, '세팅': 8643, '시댁': 8644, '친정': 8645, '신비하다': 8646, '살때': 8647, '분동': 8648, '으로의': 8649, '전지현': 8650, '대목': 8651, '자아내다': 8652, '릿': 8653, '각목': 8654, '괜츈': 8655, '전기': 8656, '상한': 8657, '넙치': 8658, '침': 8659, '유재': 8660, '모호': 8661, '미래세': 8662, '모호하다': 8663, '지젤': 8664, '기성': 8665, '영화배급사': 8666, '긴지': 8667, '은방울꽃': 8668, '노랗다': 8669, '부레': 8670, '오무라이스': 8671, '때때로': 8672, '불공평하다': 8673, '윤여정': 8674, '유영': 8675, '침체': 8676, '산드라': 8677, '블록': 8678, '불한당': 8679, '중박': 8680, '쾌락': 8681, '빗나가다': 8682, '떄': 8683, '휴가': 8684, '사이버펑크': 8685, '바하': 8686, '히프': 8687, '백미': 8688, '기저귀': 8689, '차고': 8690, '하드보일드': 8691, '바임': 8692, '심장쫄깃해': 8693, '다음생': 8694, '총성': 8695, '사격': 8696, '하듯': 8697, '대비': 8698, '촘촘히': 8699, '토막': 8700, '찌릴때': 8701, 'ㅋㄱㅋㅋ': 8702, '성훈': 8703, '잘샹김': 8704, '융합': 8705, '책상': 8706, '신비롭다': 8707, '수없이': 8708, '혹독하다': 8709, '짙다': 8710, '소가': 8711, '스토리보드': 8712, '라든지': 8713, '데자뷰': 8714, '증발': 8715, '우화': 8716, '이기만': 8717, '유망': 8718, '재능기부': 8719, '미첬다': 8720, '역사스페셜': 8721, '에로물': 8722, '김민재': 8723, 'ㅌㅋ': 8724, '백인호': 8725, '매치': 8726, '머리색': 8727, '짓함': 8728, '테스트': 8729, '휴식': 8730, '초콜릿': 8731, '상자': 8732, '습작': 8733, '거참': 8734, '안봤슴': 8735, '쯧쯧': 8736, '쯧': 8737, '미코': 8738, '회로': 8739, '이유진': 8740, '넋': 8741, 'ㅓ': 8742, 'ㅓㅇ': 8743, '헝헝헝': 8744, '헝으어흐': 8745, '헣': 8746, '헝헝': 8747, 'ㅜㅡㅜ': 8748, '끈끈': 8749, '훅': 8750, '대체로': 8751, '각오': 8752, '벌이': 8753, '블럭버스터': 8754, '절실': 8755, '결단': 8756, '원가': 8757, '함보': 8758, '낮술': 8759, '만듬새': 8760, '사구조': 8761, '망신': 8762, '창피해': 8763, '기량': 8764, '현지': 8765, '특급': 8766, '가려진': 8767, '조여정': 8768, '과감': 8769, '서너': 8770, '젤위': 8771, '일생': 8772, '일부분': 8773, '원체': 8774, '연개': 8775, '술집': 8776, '화거': 8777, '색상': 8778, '원활하다': 8779, '못햇': 8780, '은줄': 8781, '아이즈': 8782, '메카': 8783, '성대결절': 8784, '종이': 8785, '배린눈': 8786, '고소하다': 8787, '투시': 8788, '연내': 8789, '산화': 8790, '소린': 8791, '스워드': 8792, '차기': 8793, '첩보': 8794, '개낚였네이': 8795, '갤런': 8796, '대딩': 8797, '뉘집': 8798, '껄껄': 8799, '내비': 8800, '촴': 8801, '칼춤': 8802, '뷰티': 8803, '전정': 8804, '미국빠': 8805, '앓이': 8806, '봄맞이': 8807, '절벽': 8808, '대갈': 8809, '실제식': 8810, '강한사': 8811, '람': 8812, '한없이': 8813, '간담': 8814, '우수': 8815, '회랑': 8816, '휘둘': 8817, '인간미': 8818, '트릴로지': 8819, '열광': 8820, '유산': 8821, '터미널': 8822, '코만도': 8823, '정의감': 8824, '위인': 8825, '성실하다': 8826, '만족도': 8827, '성현': 8828, '애답': 8829, '시월애': 8830, '멸망': 8831, '꼼짝': 8832, '스탭': 8833, '망할뻔봣': 8834, '지노': 8835, '부각': 8836, '아까웟다': 8837, '읍': 8838, '울궈': 8839, '라보': 8840, '정도껏해': 8841, '후방': 8842, '괴롭힘': 8843, '아작': 8844, '재우다': 8845, '게뭘': 8846, '캐붕': 8847, '라울': 8848, '파로': 8849, '로이': 8850, '곤곡': 8851, '물리다': 8852, '에드워드': 8853, '어렴풋하다': 8854, '평안': 8855, '텀': 8856, '중하': 8857, '쫄깃했는걸': 8858, '뷴': 8859, '일대기': 8860, '건장하다': 8861, '반항': 8862, '저혈압': 8863, '희미하다': 8864, '리스트': 8865, '틱': 8866, '낭독': 8867, '훈제': 8868, '개쫄림': 8869, '개볼': 8870, '김우식': 8871, '긍적적': 8872, '공원': 8873, '귀머거리': 8874, '음악가': 8875, '괴팍': 8876, '스런': 8877, '괴팍하다': 8878, '미술가': 8879, '고흐': 8880, '작곡': 8881, '짜증스럽다': 8882, '생산': 8883, '잠재우다': 8884, '차카': 8885, '게살': 8886, '쉰': 8887, '찡찡대다': 8888, '추척': 8889, '쏙': 8890, '누지': 8891, '닥치고': 8892, '달도': 8893, '스틸러': 8894, '심쿵': 8895, '안습': 8896, '윤제문': 8897, '개똥이': 8898, '헤매다': 8899, '눌린': 8900, '터뜨리다': 8901, '자빠빈건': 8902, '호갱짓': 8903, '시켯으': 8904, '싫어졋다': 8905, '초보자': 8906, '감탄사': 8907, '실': 8908, '허준호': 8909, '뭉클': 8910, '장각': 8911, '타가': 8912, '더디다': 8913, '러팔로': 8914, '거북목': 8915, '앙다물다': 8916, '진보': 8917, '몰두하다': 8918, '극소': 8919, '축척': 8920, '함속': 8921, '요동': 8922, '파가': 8923, '해시': 8924, '결벽증': 8925, '암치료': 8926, '대초': 8927, '잼잇어욬': 8928, '미사일': 8929, '종말': 8930, '밋었': 8931, '던걸': 8932, '까불다': 8933, '읭': 8934, '훈련': 8935, '생소하다': 8936, '격동': 8937, '화전': 8938, '좇았': 8939, 'ㅁㅊ': 8940, '가난하다': 8941, '한탄': 8942, '도쿄': 8943, '대지진': 8944, '잔해': 8945, '간에이': 8946, '연대기': 8947, '가발': 8948, '근사하다': 8949, '승민': 8950, '고치다': 8951, '떼거지': 8952, '감임': 8953, '투쁠': 8954, '사료': 8955, '숨쉬기': 8956, '개활지': 8957, '반추': 8958, '혼술': 8959, '구만': 8960, '뭣같다': 8961, '근접촬영': 8962, '치이다': 8963, '송위룡송운화': 8964, '풀기': 8965, '벌렁벌렁': 8966, '드릅': 8967, '수식어': 8968, '줄평': 8969, '다행하다': 8970, '자구': 8971, '반개': 8972, '바둥거린거': 8973, '타코야끼': 8974, '클릭': 8975, '두목': 8976, '달콤하다': 8977, '마담류': 8978, '홀': 8979, '악녀': 8980, '호혜중': 8981, '겁나씡': 8982, '내적': 8983, '흥이': 8984, '할리': 8985, '반올림': 8986, '기로': 8987, '송하윤': 8988, '거덜날': 8989, '프라이버시': 8990, '성형': 8991, '재탕하다': 8992, '헝그리': 8993, '콜린': 8994, '파렐': 8995, '번의': 8996, '영화정보': 8997, '마구마구': 8998, '뛰어오다': 8999, '다금바리': 9000, '매운탕': 9001, '끓이다': 9002, '듯디테일': 9003, '활보': 9004, '고착': 9005, '발버둥치다': 9006, '총대': 9007, '유임': 9008, '닥치다': 9009, '김승우': 9010, '물풍선': 9011, '첫등장': 9012, '리얼리즘': 9013, '오늘날': 9014, '공항': 9015, '세수': 9016, '굶어죽엇을듯': 9017, '어딧': 9018, '타이틀': 9019, '어유': 9020, '먀': 9021, '아토': 9022, '믹': 9023, '블론드': 9024, '스카이폴': 9025, '만큼만': 9026, '잘나오다': 9027, '의항': 9028, '스르': 9029, '트라이앵글': 9030, '헥터': 9031, '하루키': 9032, '알알이': 9033, '북해도': 9034, '아른거리다': 9035, '가수': 9036, '저번': 9037, '장엄하다': 9038, '관왕': 9039, '항공기': 9040, '욱일기': 9041, '우기다': 9042, '근원': 9043, '유열': 9044, '음악앨범': 9045, '대기': 9046, '마커': 9047, '차만': 9048, '터침': 9049, '일주': 9050, '심장안쫄깃했': 9051, '미션임파서블': 9052, '인화': 9053, '원본': 9054, '인슽하': 9055, '으헝헝': 9056, '맹수': 9057, '사법고시': 9058, '합격': 9059, '백프로': 9060, '파이어로': 9061, '블랙호크': 9062, '해설': 9063, '물임': 9064, '거해': 9065, '인사': 9066, '니콜라스': 9067, '진껀': 9068, '풋내기': 9069, '사활': 9070, '따윈': 9071, '간혹': 9072, '똑같이': 9073, '적함': 9074, '외딴': 9075, '엔드게임': 9076, '뽀삐': 9077, '눈갱': 9078, '분해': 9079, '자유롭다': 9080, '나비': 9081, '덫': 9082, '화류': 9083, '만렙': 9084, '신지': 9085, '한일': 9086, '재탕': 9087, '무병장수': 9088, '아싑': 9089, '횽': 9090, '롸잇': 9091, '모시다': 9092, '죽겠네': 9093, '초한지': 9094, '리즈시절': 9095, '구입': 9096, '똥은': 9097, '다분하다': 9098, '체적': 9099, '였슴': 9100, '통함': 9101, '타키': 9102, '이제껏': 9103, '남동생': 9104, '귀하다': 9105, '엔뇬': 9106, '렛뇨르': 9107, '독하다': 9108, '되찾다': 9109, '백만': 9110, '밍': 9111, '세실리아': 9112, '제안': 9113, '미네': 9114, '도아': 9115, '프랑수아': 9116, '시빌': 9117, '소박하다': 9118, '연배': 9119, '음주운전': 9120, '딸년': 9121, '목욕': 9122, '힐끗힐끗': 9123, '트집': 9124, '지니다': 9125, '존속': 9126, '좇는다': 9127, '실미도': 9128, '전력': 9129, '앓다': 9130, '울적하다': 9131, '비버': 9132, '혜원': 9133, '투자자': 9134, '완존꿀잼': 9135, '이불': 9136, '일견': 9137, '거석': 9138, '솔': 9139, '찍히다': 9140, '맛보다': 9141, '펼치다': 9142, '정점': 9143, '핀': 9144, '넹개띵': 9145, '낑기다': 9146, '피고': 9147, '눙': 9148, '의욕': 9149, '툭툭': 9150, '유입': 9151, '그물': 9152, '망은': 9153, '촘촘하': 9154, '주축': 9155, '총공격': 9156, '팬층': 9157, '마다의': 9158, '재결합': 9159, '가족영화': 9160, '슬렁슬렁': 9161, '다짜고짜': 9162, '꽥꽥': 9163, '정녕': 9164, '남학생': 9165, '공책': 9166, '끄적': 9167, '가다가': 9168, '합법': 9169, '흉내': 9170, '어여쁘다': 9171, '시드': 9172, '슬으슨리시뷰슈': 9173, '라사': 9174, '혀셤': 9175, '호퍼': 9176, '선입견들': 9177, '무뎌': 9178, '이리저리': 9179, '배고프다': 9180, '외전': 9181, 'ㅇㅋ': 9182, '트롯': 9183, '여도': 9184, '번뜩이다': 9185, '천추': 9186, 'ㅂㄷㅂㄷ': 9187, '프로젝터': 9188, '아니렀': 9189, '순하다': 9190, '감흥': 9191, '횐': 9192, '드라이브': 9193, '허탈하다': 9194, '컨테이전': 9195, '일말': 9196, '침식': 9197, '해질녘': 9198, '무렵': 9199, '본얼티메이텀': 9200, '씻기다': 9201, '윤회사상': 9202, '곤땅': 9203, '봄추': 9204, '하트': 9205, '스즈미': 9206, '하루히': 9207, '소실': 9208, '가스': 9209, '팅': 9210, '유래': 9211, '오이지': 9212, '대성': 9213, '인재': 9214, '돈벌이': 9215, '수단': 9216, '면회': 9217, '외박': 9218, '인터스텔라': 9219, '구성요소': 9220, '제품': 9221, '불매': 9222, '미개하다': 9223, '돌파': 9224, '하란': 9225, '퍼준다': 9226, '모럴': 9227, '해저드': 9228, '열거': 9229, '임시': 9230, '올드팬': 9231, '목마름': 9232, '채드웍': 9233, '불렛': 9234, '눈쌀': 9235, '쭈욱': 9236, '해오다': 9237, '간촐하': 9238, '뺴곤': 9239, '못만듬': 9240, '나용': 9241, '연변': 9242, '쫄': 9243, '열한시': 9244, '무작정': 9245, '나비효과': 9246, '영영': 9247, '우울함': 9248, '둘러대다': 9249, '자릿수': 9250, '측정': 9251, '라니깐': 9252, '툐': 9253, '어눌하다': 9254, '업햄': 9255, '변명': 9256, '농': 9257, '업자': 9258, '중남미': 9259, '댄스': 9260, 'ㅡㅡㅡㅡ': 9261, '꼰대들땜': 9262, '의존': 9263, '기강': 9264, '말금': 9265, '유람': 9266, '윤승아': 9267, '다솔': 9268, '파이어': 9269, '워킹': 9270, '리플리': 9271, '뉴트구': 9272, '개멋': 9273, '거린': 9274, '시한': 9275, '이랑은': 9276, '이예': 9277, '하물며': 9278, '흥얼': 9279, '흥얼거리다': 9280, '캣우먼': 9281, '막대기': 9282, '로부터': 9283, '마는': 9284, '차곡차곡': 9285, '사진첩': 9286, '세분': 9287, '감자칩': 9288, '놀랏어': 9289, '윌슨': 9290, '울부짖다': 9291, '가사도': 9292, '우리말': 9293, '선명하다': 9294, '워치': 9295, '보컬': 9296, '국뽕거': 9297, '암담하다': 9298, '지스토리': 9299, '빨간색': 9300, '초록색': 9301, '노란색': 9302, '단색': 9303, '하이힐': 9304, '그라스': 9305, '술병': 9306, '승무원': 9307, '양보': 9308, '생사': 9309, '고락': 9310, '수명': 9311, '안팍': 9312, '우월하다': 9313, '액견중': 9314, '버겁다': 9315, '반기다': 9316, '어촌': 9317, '다집': 9318, '선전': 9319, '기류': 9320, '간사': 9321, '보살': 9322, '프레': 9323, '목사': 9324, '무었': 9325, '택할까': 9326, '노르웨이': 9327, '멋찜': 9328, '마야문명': 9329, '생물체': 9330, '원리': 9331, '자연환경': 9332, '문명': 9333, '스페인': 9334, '함선': 9335, '침략': 9336, '단편': 9337, '간식': 9338, '그러기에': 9339, '마커스': 9340, '마이크': 9341, '프로필': 9342, '훌룡': 9343, '느꼇': 9344, '원료': 9345, '장안': 9346, '로리': 9347, '에다가': 9348, '가루': 9349, '살살': 9350, '임진왜란': 9351, '정유재란': 9352, '징비록': 9353, '토왜': 9354, '베충': 9355, '아이언': 9356, '자이언트': 9357, '주책': 9358, '어째서': 9359, '방향': 9360, '김순자': 9361, '면전': 9362, '맘충': 9363, '발언권': 9364, '내분비계': 9365, '아유': 9366, 'ㅜㅅ': 9367, '예멘': 9368, '탄핵': 9369, '중단': 9370, '종족': 9371, '맥콜': 9372, '간지럽다': 9373, '고난': 9374, '진화': 9375, '참모': 9376, '쓰리스타': 9377, '중화사상': 9378, '울프': 9379, '과제': 9380, '내신': 9381, '원망': 9382, '키이라': 9383, '나이틀리': 9384, '간격': 9385, '띨빵하': 9386, '얼다': 9387, '도배': 9388, '다발': 9389, '잘나가다': 9390, '솔로': 9391, '출중하다': 9392, '징역': 9393, '따른': 9394, '엇어': 9395, '짯': 9396, '가죽': 9397, '치밀하다': 9398, '고영상': 9399, '다날': 9400, '걸어오다': 9401, '타잔': 9402, '뱡': 9403, '끄덕이다': 9404, '디게': 9405, '알뜰하다': 9406, '쏠때': 9407, '액기스': 9408, '원샷': 9409, '임자': 9410, '유부': 9411, '안대': 9412, '향후': 9413, '판별': 9414, '래서': 9415, '아파트': 9416, '무자비하다': 9417, '슈팅': 9418, '황금곰상': 9419, '카시노': 9420, '사족': 9421, '시들시들': 9422, '손오공': 9423, '마차': 9424, '흐뭇하다': 9425, '독자': 9426, '마블리': 9427, '팬텀': 9428, 'ㅜㅁㅠ': 9429, '청주': 9430, '맥거핀': 9431, '허허': 9432, '도슨': 9433, '이마이': 9434, '고퀄리티곸': 9435, '버닝': 9436, '고려': 9437, '라며': 9438, '마치다': 9439, '더러워지다': 9440, '판치다': 9441, '구글': 9442, '야후': 9443, '포털사이트': 9444, '티어': 9445, '가랜다': 9446, '기이': 9447, '특선영화': 9448, '남미': 9449, '상쇄하': 9450, '젠비': 9451, '하차': 9452, '로저': 9453, '본드': 9454, '사자': 9455, 'ㅠㅜㅠㅠ': 9456, '정봉': 9457, '자타공인': 9458, '충무로': 9459, '뚜껑': 9460, '발롬': 9461, '겜': 9462, '가용': 9463, '태블릿': 9464, '부시다': 9465, '전기영': 9466, '던뎅': 9467, '미러링': 9468, '기색': 9469, '부정': 9470, '충의': 9471, '실체': 9472, '갈이': 9473, '쿨': 9474, '백작': 9475, '감응': 9476, '주력': 9477, '해커': 9478, '탈주': 9479, '넓다': 9480, '후벼파다': 9481, '해양': 9482, '교통사고': 9483, '고이': 9484, '집념': 9485, '집의': 9486, '소박': 9487, '사유': 9488, '폐닭': 9489, '소의': 9490, '호밀': 9491, '밭': 9492, '탈': 9493, '천진난만하다': 9494, '통역': 9495, '발음': 9496, '통금': 9497, '환원': 9498, '오전': 9499, '계엄': 9500, '철수': 9501, '탈북자': 9502, '강제': 9503, '북송': 9504, '편의점': 9505, '안드': 9506, '초라하다': 9507, '편차': 9508, '타이탄': 9509, '경제위기': 9510, '박하': 9511, '영화에서처럼': 9512, '베풀다': 9513, '금융위기': 9514, '쾅쾅': 9515, '굴려': 9516, '스캇': 9517, '창피하다': 9518, '제사': 9519, '입사': 9520, '버릇': 9521, '도용': 9522, '사의': 9523, '불치': 9524, '야합': 9525, '영화포스터': 9526, 'ㅆㅂ': 9527, '꼬아놓': 9528, '빙고': 9529, '켜': 9530, '윤리학': 9531, '뉴비': 9532, '학': 9533, '란걸': 9534, '로티플': 9535, '수표로': 9536, '애하': 9537, '좆망': 9538, '넷플로봐': 9539, '콩트': 9540, '돌변': 9541, '턱': 9542, '찬합': 9543, '무궁무진': 9544, '기원': 9545, '미비': 9546, '포유': 9547, '최우': 9548, '선적': 9549, '노트북': 9550, '태주': 9551, '물말': 9552, '이또': 9553, '는가': 9554, '유신정권': 9555, '태극기': 9556, '집회': 9557, '문세광': 9558, '황상': 9559, '선녀': 9560, 'ㅠㅋ': 9561, '작대기': 9562, '임박': 9563, '딜량': 9564, '어나': 9565, '신앙고백': 9566, '전도사': 9567, '맘졸': 9568, '불우하다': 9569, '사소하다': 9570, '추적자': 9571, '경찰권': 9572, '상부': 9573, '패배하다': 9574, '떠나가다': 9575, '숨가쁘다': 9576, '나불대다': 9577, '움직': 9578, '허공': 9579, '위협': 9580, '단일': 9581, '청원': 9582, '상냥하다': 9583, '심판': 9584, '이뭐병': 9585, '험하다': 9586, '횡': 9587, '남아나다': 9588, '썻': 9589, '가필드': 9590, '과극': 9591, '구별': 9592, '조율': 9593, '새내기': 9594, '제훈': 9595, '사춘기': 9596, 'ㅋㅋㅎ': 9597, '훼': 9598, '이크': 9599, '동아': 9600, '가지런하다': 9601, '콩': 9602, '경고': 9603, '크리스마스': 9604, '식당': 9605, '셜리': 9606, '리암': 9607, '리슨': 9608, '듯해': 9609, '어거스트': 9610, '파이프': 9611, '오르간': 9612, '엘레': 9613, '근다': 9614, '잠항': 9615, '매트': 9616, '끝없이': 9617, '그래비티': 9618, '견주어': 9619, '객기': 9620, '치의': 9621, '안터': 9622, '장시': 9623, '쥑': 9624, '번지르르': 9625, '복판': 9626, '탄창': 9627, '아이피': 9628, '앗': 9629, '덴젤': 9630, '워싱턴': 9631, '아우라': 9632, '후광': 9633, '뿜어져': 9634, '로고': 9635, '무무': 9636, '저저': 9637, '확고하다': 9638, '세친구': 9639, '란초': 9640, '이등병': 9641, '실속': 9642, '형언': 9643, '먹고살다': 9644, '해지니': 9645, '자손': 9646, '진국': 9647, '파워레인저': 9648, '놨어': 9649, '아디오스': 9650, '뚜뚜뚜뚜': 9651, '페이즈': 9652, '디딤돌': 9653, '조선전쟁': 9654, '수송': 9655, '기뢰': 9656, '코스프레': 9657, '색체': 9658, '게이고': 9659, '명인': 9660, '제공': 9661, '여겨지다': 9662, '라플라스': 9663, '법칙': 9664, '구형': 9665, '띄엄띄엄': 9666, '대면': 9667, '견제': 9668, '화물': 9669, '털때': 9670, '한인': 9671, '걔': 9672, '남은자': 9673, '어리석음': 9674, '임창정': 9675, '롯데': 9676, '유전병': 9677, '랴': 9678, '바로크': 9679, '직감': 9680, '우회': 9681, '철갑': 9682, '사례': 9683, '개폭망': 9684, '지금껏': 9685, '감성지수': 9686, '오비다': 9687, '언스토퍼블': 9688, '뱀파이어': 9689, '마사지': 9690, '똘망똘망': 9691, '데이브': 9692, '바티스타': 9693, '더더': 9694, '낚였네': 9695, '명곡': 9696, '대머리': 9697, '잘뽑다': 9698, '쓰레기통': 9699, '냉장고': 9700, '마늘': 9701, '너넨': 9702, '갑작스럽다': 9703, '미학': 9704, '멜로드라마': 9705, '헝거게임': 9706, '블러디': 9707, '조로': 9708, '힘차다': 9709, '시스': 9710, '흡': 9711, '라곤': 9712, '호박고구마': 9713, '티키딤': 9714, '박성웅': 9715, '이수민': 9716, '수채화': 9717, '여대생': 9718, '이연희': 9719, '필름': 9720, '아이언하이드': 9721, '베틀': 9722, '턱턱': 9723, '이웃집': 9724, '등잔': 9725, '둘러보다': 9726, '갈비뼈': 9727, '부러지다': 9728, '붕대': 9729, '영업': 9730, '쫄깃해': 9731, '봤슈': 9732, '개쩔': 9733, '믄': 9734, '줄라': 9735, '홈쇼핑': 9736, '으로만은': 9737, '피날레': 9738, '데이비': 9739, '존스': 9740, '젊음': 9741, '샘때': 9742, '다큐멘터리': 9743, '법도': 9744, '성희롱': 9745, '애산': 9746, '두세': 9747, '억배': 9748, '멎다': 9749, '오마쥬': 9750, '부턴': 9751, '리틀빅': 9752, '현명하다': 9753, '어메이징': 9754, '왕호': 9755, '미스틱': 9756, '둥': 9757, '엑스맨': 9758, '길가메시': 9759, '아무나': 9760, '야기도': 9761, '만우절': 9762, '장궈룽': 9763, '비보': 9764, '동성애': 9765, '헴': 9766, '조심스럽다': 9767, '백인': 9768, '금발': 9769, '홧김': 9770, '사채': 9771, '업잔': 9772, '랏': 9773, '니야': 9774, '휘둘려': 9775, '천억': 9776, '말임': 9777, '꼴다': 9778, '박일': 9779, '왜냐면': 9780, '덜하다': 9781, '오물': 9782, '실시간': 9783, '검색어': 9784, '에서와': 9785, '조명등': 9786, '헬보이': 9787, '엇음': 9788, '머신': 9789, '톰과춤': 9790, '어장': 9791, '반한': 9792, '우후죽순': 9793, '브르스': 9794, '증인': 9795, '쐇어': 9796, '왘': 9797, '존잼임': 9798, '권력자': 9799, '정해지다': 9800, '갑지': 9801, '진자': 9802, '담보': 9803, '뻥튀기': 9804, '기득권': 9805, '주머니': 9806, '출금': 9807, '굽신굽신': 9808, '별수': 9809, '빚갑': 9810, '대기업': 9811, '한솓밥': 9812, '여의도': 9813, '빌붙다': 9814, '마침': 9815, '왠': 9816, '안목': 9817, '뭍힐': 9818, '만연하다': 9819, '나무라다': 9820, '잡아가다': 9821, '지평': 9822, '넓히다': 9823, '영화니': 9824, '코멘트': 9825, '문선명': 9826, '유도': 9827, '매끄럽다': 9828, '극찬': 9829, '우뢰': 9830, '공산당': 9831, '검열': 9832, '잡혀가다': 9833, '일본해': 9834, '표기': 9835, '업글': 9836, '안경': 9837, '치명': 9838, '속인': 9839, '일기': 9840, '의결': 9841, '공조': 9842, '고본': 9843, '변호인': 9844, '고지식하다': 9845, '숭유억불정책': 9846, '탄압': 9847, '듀티': 9848, '리부트': 9849, '열쇠': 9850, '빠앗다': 9851, '진짝': 9852, '정답': 9853, '에혀': 9854, '도니': 9855, '허리우드': 9856, '최민수': 9857, '잭니콜슨': 9858, '텅빈': 9859, '간간히': 9860, '아영': 9861, '만듭시': 9862, '레디에이터': 9863, '산성': 9864, '용임': 9865, '코앞': 9866, '개검': 9867, '자전차': 9868, '복': 9869, '동이': 9870, '정글': 9871, '러': 9872, '피들스틱': 9873, '진짜사나이': 9874, '스탭들': 9875, '퀸': 9876, 'ㅠㅅㅠ': 9877, '고진부': 9878, '창조': 9879, '노선': 9880, '연출가': 9881, '방가': 9882, '유쾌': 9883, '상쾌': 9884, '끝물': 9885, '년초': 9886, '멘더스': 9887, '역쉬': 9888, '컨디뉴': 9889, '어스': 9890, '기기': 9891, '눈가': 9892, '틈타다': 9893, '타의': 9894, '상기': 9895, '매개': 9896, '루실': 9897, '샹들리에': 9898, '똘똘': 9899, '싸매다': 9900, '린아': 9901, '니지': 9902, '문맹': 9903, '선지': 9904, '가오': 9905, '대원': 9906, '엽': 9907, '자단': 9908, '팝송': 9909, '그땐': 9910, '삐삐': 9911, '공중전화': 9912, '찾아다니다': 9913, '고모': 9914, '젛문': 9915, '가바': 9916, '반짝반짝하다': 9917, '요강': 9918, '빠일것': 9919, '꿋꿋하다': 9920, '금새': 9921, '배리': 9922, '요정': 9923, '개폭망작': 9924, '기사도': 9925, '함부로': 9926, '과대': 9927, '그랫': 9928, '단행본': 9929, '못마땅하다': 9930, '누드': 9931, '어리석다': 9932, '돌림': 9933, '잠결': 9934, '월말': 9935, '잠자다': 9936, '뛰어다니다': 9937, '도덕': 9938, '사탄': 9939, '거더': 9940, '욍화': 9941, '자제': 9942, '무명': 9943, '하비에르': 9944, '바르뎀': 9945, '착실하다': 9946, '살피다': 9947, '페미니스트': 9948, '자칭': 9949, '모처럼': 9950, '씀': 9951, '영문': 9952, '한국어': 9953, '아버님': 9954, '흔들다': 9955, '이태임': 9956, '베드씬': 9957, '불안감': 9958, '동동': 9959, '개궁금': 9960, '저변': 9961, '사리': 9962, '유토피아': 9963, '이보영': 9964, '클린': 9965, '우드': 9966, '연태': 9967, '추강': 9968, '곤': 9969, '백억': 9970, '힐난': 9971, '사납다': 9972, '밸붕': 9973, '대군': 9974, '가히': 9975, '추앙': 9976, '트럭': 9977, '대반': 9978, '흡족': 9979, '아이돌': 9980, '더군다나': 9981, '토이': 9982, '기트': 9983, '눈요기': 9984, '소수점': 9985, '회주': 9986, '그루브': 9987, '단무지': 9988, '후라이드': 9989, '건내다': 9990, '밀당': 9991, '버무러진': 9992, '총사': 9993, '그릇': 9994, '허둥지둥': 9995, '넘어지다': 9996, '아가리': 9997, '용의': 9998, '설계': 9999, '흐리다': 10000, '주샨': 10001, '잼임': 10002, '인공': 10003, '군중심리': 10004, '즐비하다': 10005, '가물가물': 10006, '밋밋하다': 10007, '고르이다': 10008, '감격': 10009, 'ㅠㅜㅜ': 10010, '눈살': 10011, '이어폰': 10012, '유독': 10013, '듯함': 10014, '가극장': 10015, '나루토': 10016, '딸내미': 10017, '배때': 10018, '갈라': 10019, '창자': 10020, '후르': 10021, '륵': 10022, '움직임': 10023, '감미롭다': 10024, '이태호': 10025, '의외': 10026, '하영': 10027, '어쩜': 10028, '어떡하다': 10029, '칠하다': 10030, '뻘뻘': 10031, '구장': 10032, '오드': 10033, '왜왜': 10034, '불모': 10035, '불러일으키다': 10036, '남상미': 10037, '하드': 10038, '연합군': 10039, '왜놈': 10040, '떼놈': 10041, '동족상잔': 10042, '매도': 10043, '월요일': 10044, '졍': 10045, '진진': 10046, '꿀잼햄': 10047, '저렴하다': 10048, '사자후': 10049, '징징거리다': 10050, '안치': 10051, '존윅급': 10052, '초콜릿공장': 10053, '용한': 10054, '재밋었음': 10055, '온몸': 10056, '베이직': 10057, '뭐해': 10058, '순딩순딩': 10059, '거렸음': 10060, '해피엔딩': 10061, '옄': 10062, '부러워하다': 10063, '동경': 10064, '소위': 10065, '쫄린다': 10066, '맞닥뜨렸': 10067, '피폐': 10068, '일치': 10069, '할갑다': 10070, '사려': 10071, '줄어들다': 10072, '꼬이다': 10073, '최적': 10074, '이청준': 10075, '빰빰빰': 10076, '어색': 10077, '할껄': 10078, '씌': 10079, '변질': 10080, '고간': 10081, '잔행': 10082, '아련감성': 10083, '꺄': 10084, '늬': 10085, '작년': 10086, '호화': 10087, '매가': 10088, '박스': 10089, '헬렌': 10090, '캐다': 10091, '설리반': 10092, '인도판': 10093, '맞이': 10094, '관문': 10095, '불씨': 10096, '잉태': 10097, '선물': 10098, '신성하다': 10099, '성스럽다': 10100, '뚫어지다': 10101, '졋': 10102, '무상함': 10103, '스푼': 10104, '화산폭발': 10105, '흡사하다': 10106, '저주': 10107, '강화': 10108, '위압': 10109, '재화': 10110, '연결하다': 10111, '중립': 10112, '싸우지마': 10113, '철민': 10114, '에세이': 10115, '리얼스틸': 10116, '콤비': 10117, '잠입': 10118, '두서': 10119, '상대방': 10120, '드레드': 10121, '비슷': 10122, 'ㅠㅜㅜㅜ': 10123, '콜맨': 10124, '블루베리': 10125, '전전긍긍': 10126, '고심': 10127, '시대극': 10128, '씬들': 10129, '팽팽': 10130, '막스': 10131, '박희순': 10132, '특화된': 10133, '무진장': 10134, '양양': 10135, '고속도로': 10136, '아우토반': 10137, '최종병기': 10138, '야만': 10139, '언더그라운드': 10140, '잊어얄듯': 10141, '폭도': 10142, '탈취': 10143, '사망': 10144, '죽여주다': 10145, '데스노트': 10146, '마려운': 10147, '사이즈': 10148, '학적': 10149, '어드벤쳐': 10150, '이마': 10151, '궁금': 10152, '시뻘겋다': 10153, '잘잘': 10154, '기럭지': 10155, '범행': 10156, '늠': 10157, '짤막하다': 10158, '난잼': 10159, '헤드샷': 10160}\n"
     ]
    }
   ],
   "source": [
    "print(tokenizer.word_index)"
   ]
  },
  {
   "cell_type": "code",
   "execution_count": 32,
   "metadata": {},
   "outputs": [],
   "source": [
    "threshold = 3 # 빈도수가 3회 미만은 제거\n",
    "total_cnt = len(tokenizer.word_index) # 단어의 수\n",
    "rare_cnt = 0 # 등장 빈도수가 threshold보다 작은 단어의 개수를 카운트\n",
    "total_freq = 0 # 훈련 데이터의 전체 단어 빈도수 총 합\n",
    "rare_freq = 0 # 등장 빈도수가 threshold보다 작은 단어의 등장 빈도수의 총 합\n",
    "\n",
    "# 단어와 빈도수의 쌍(pair)을 key와 value로 받는다.\n",
    "for key, value in tokenizer.word_counts.items():\n",
    "    total_freq = total_freq + value\n",
    "\n",
    "    # 단어의 등장 빈도수가 threshold보다 작으면\n",
    "    if(value < threshold):\n",
    "        rare_cnt = rare_cnt + 1\n",
    "        rare_freq = rare_freq + value"
   ]
  },
  {
   "cell_type": "code",
   "execution_count": 33,
   "metadata": {},
   "outputs": [
    {
     "name": "stdout",
     "output_type": "stream",
     "text": [
      "단어 집합(vocabulary)의 크기 : 10160\n",
      "등장 빈도가 2번 이하인 희귀 단어의 수: 6308\n",
      "단어 집합에서 희귀 단어의 비율: 62.08661417322835\n",
      "전체 등장 빈도에서 희귀 단어 등장 빈도 비율: 7.336872269460234\n"
     ]
    }
   ],
   "source": [
    "print('단어 집합(vocabulary)의 크기 :',total_cnt)\n",
    "print('등장 빈도가 %s번 이하인 희귀 단어의 수: %s'%(threshold - 1, rare_cnt))\n",
    "print(\"단어 집합에서 희귀 단어의 비율:\", (rare_cnt / total_cnt)*100)\n",
    "print(\"전체 등장 빈도에서 희귀 단어 등장 빈도 비율:\", (rare_freq / total_freq)*100)"
   ]
  },
  {
   "cell_type": "code",
   "execution_count": 34,
   "metadata": {},
   "outputs": [
    {
     "name": "stdout",
     "output_type": "stream",
     "text": [
      "단어 집합의 크기 : 3853\n"
     ]
    }
   ],
   "source": [
    "vocab_size = total_cnt - rare_cnt + 1 # 전체 단어 개수 중 빈도수 2이하인 단어 개수는 제거. 0번 패딩 토큰을 고려하여 +1\n",
    "print('단어 집합의 크기 :',vocab_size)"
   ]
  },
  {
   "cell_type": "code",
   "execution_count": 35,
   "metadata": {},
   "outputs": [],
   "source": [
    "# 토크나이저는 텍스트 시퀀스를 숫자 시퀀스로 변환하는 정수 인코딩 과정에서 \n",
    "# 이보다 큰 숫자가 부여된 단어들은 아예 계산하지 않음\n",
    "tokenizer = Tokenizer(vocab_size) \n",
    "tokenizer.fit_on_texts(X_train)\n",
    "X_train = tokenizer.texts_to_sequences(X_train)\n",
    "X_test = tokenizer.texts_to_sequences(X_test)"
   ]
  },
  {
   "cell_type": "code",
   "execution_count": 36,
   "metadata": {},
   "outputs": [
    {
     "name": "stdout",
     "output_type": "stream",
     "text": [
      "[[182, 2, 265, 10, 158, 8, 401, 20, 8, 1619], [46, 1293, 1131, 382, 121, 81, 110, 325, 49, 749, 1132, 248, 626, 382, 76], [164, 482, 109, 38, 1, 358, 2614, 438, 60, 1215, 5, 3078, 34, 586, 9, 1065, 249, 2246, 5, 280, 458, 1374, 15, 459, 842]]\n"
     ]
    }
   ],
   "source": [
    "print(X_train[:3])"
   ]
  },
  {
   "cell_type": "code",
   "execution_count": 37,
   "metadata": {},
   "outputs": [],
   "source": [
    "y_train = np.array(train_data['label'])\n",
    "y_test = np.array(test_data['label'])"
   ]
  },
  {
   "cell_type": "markdown",
   "metadata": {},
   "source": [
    "### 빈 샘플(Empty samples) 제거"
   ]
  },
  {
   "cell_type": "code",
   "execution_count": 38,
   "metadata": {},
   "outputs": [],
   "source": [
    "drop_train = [index for index, sentence in enumerate(X_train) if len(sentence) < 1]\n",
    "drop_test = [index for index, sentence in enumerate(X_test) if len(sentence) < 1]"
   ]
  },
  {
   "cell_type": "code",
   "execution_count": 39,
   "metadata": {},
   "outputs": [
    {
     "name": "stdout",
     "output_type": "stream",
     "text": [
      "5468\n",
      "5468\n"
     ]
    }
   ],
   "source": [
    "# 빈 샘플들을 제거\n",
    "X_train = np.delete(X_train, drop_train, axis=0)\n",
    "y_train = np.delete(y_train, drop_train, axis=0)\n",
    "print(len(X_train))\n",
    "print(len(y_train))"
   ]
  },
  {
   "cell_type": "code",
   "execution_count": 40,
   "metadata": {},
   "outputs": [
    {
     "name": "stdout",
     "output_type": "stream",
     "text": [
      "2671\n",
      "2671\n"
     ]
    }
   ],
   "source": [
    "X_test = np.delete(X_test, drop_test, axis=0)\n",
    "y_test = np.delete(y_test, drop_test, axis=0)\n",
    "print(len(X_test))\n",
    "print(len(y_test))"
   ]
  },
  {
   "cell_type": "markdown",
   "metadata": {},
   "source": [
    "### 패딩"
   ]
  },
  {
   "cell_type": "code",
   "execution_count": 41,
   "metadata": {},
   "outputs": [
    {
     "name": "stdout",
     "output_type": "stream",
     "text": [
      "리뷰의 최대 길이 : 302\n",
      "리뷰의 평균 길이 : 18.036942209217266\n"
     ]
    },
    {
     "data": {
      "image/png": "[encoded data removed]",
      "text/plain": [
       "<Figure size 432x288 with 1 Axes>"
      ]
     },
     "metadata": {
      "needs_background": "light"
     },
     "output_type": "display_data"
    }
   ],
   "source": [
    "print('리뷰의 최대 길이 :',max(len(l) for l in X_train))\n",
    "print('리뷰의 평균 길이 :',sum(map(len, X_train))/len(X_train))\n",
    "plt.hist([len(s) for s in X_train], bins=50)\n",
    "plt.xlabel('length of samples')\n",
    "plt.ylabel('number of samples')\n",
    "plt.show()"
   ]
  },
  {
   "cell_type": "code",
   "execution_count": 42,
   "metadata": {},
   "outputs": [],
   "source": [
    "# 전체 샘플 중 길이가 max_len 이하인 샘플의 비율이 몇 %인지 확인하는 함수\n",
    "def below_threshold_len(max_len, nested_list):\n",
    "  cnt = 0\n",
    "  for s in nested_list:\n",
    "    if(len(s) <= max_len):\n",
    "        cnt = cnt + 1\n",
    "  print('전체 샘플 중 길이가 %s 이하인 샘플의 비율: %s'%(max_len, (cnt / len(nested_list))*100))"
   ]
  },
  {
   "cell_type": "code",
   "execution_count": 43,
   "metadata": {},
   "outputs": [
    {
     "name": "stdout",
     "output_type": "stream",
     "text": [
      "전체 샘플 중 길이가 30 이하인 샘플의 비율: 85.1865398683248\n"
     ]
    }
   ],
   "source": [
    "max_len = 30\n",
    "below_threshold_len(max_len, X_train)"
   ]
  },
  {
   "cell_type": "code",
   "execution_count": 44,
   "metadata": {},
   "outputs": [],
   "source": [
    "X_train = pad_sequences(X_train, maxlen = max_len)\n",
    "X_test = pad_sequences(X_test, maxlen = max_len)"
   ]
  },
  {
   "cell_type": "markdown",
   "metadata": {},
   "source": [
    "## LSTM으로 네이버 영화 리뷰 감성 분류"
   ]
  },
  {
   "cell_type": "code",
   "execution_count": 45,
   "metadata": {},
   "outputs": [],
   "source": [
    "from tensorflow.keras.layers import Input, Embedding, LSTM, Dense, Dropout\n",
    "from tensorflow.keras.models import Sequential\n",
    "from tensorflow.keras.models import Model, load_model\n",
    "from tensorflow.keras.callbacks import EarlyStopping, ModelCheckpoint"
   ]
  },
  {
   "cell_type": "code",
   "execution_count": 46,
   "metadata": {},
   "outputs": [
    {
     "name": "stdout",
     "output_type": "stream",
     "text": [
      "Model: \"model\"\n",
      "_________________________________________________________________\n",
      "Layer (type)                 Output Shape              Param #   \n",
      "=================================================================\n",
      "input_1 (InputLayer)         [(None, 30)]              0         \n",
      "_________________________________________________________________\n",
      "embedding (Embedding)        (None, 30, 100)           385300    \n",
      "_________________________________________________________________\n",
      "lstm (LSTM)                  (None, 128)               117248    \n",
      "_________________________________________________________________\n",
      "dense (Dense)                (None, 1)                 129       \n",
      "=================================================================\n",
      "Total params: 502,677\n",
      "Trainable params: 502,677\n",
      "Non-trainable params: 0\n",
      "_________________________________________________________________\n"
     ]
    }
   ],
   "source": [
    "T = X_train.shape[1]\n",
    "from tensorflow.keras.layers import Input, Embedding, LSTM, Dense\n",
    "from tensorflow.keras.models import Model\n",
    "i = Input(shape=(T,))\n",
    "x = Embedding(vocab_size, 100)(i)\n",
    "x = LSTM(128)(x)\n",
    "x = Dense(1, activation='sigmoid')(x)\n",
    "model = Model(i, x)\n",
    "model.summary()"
   ]
  },
  {
   "cell_type": "code",
   "execution_count": 47,
   "metadata": {},
   "outputs": [
    {
     "data": {
      "text/plain": [
       "30"
      ]
     },
     "execution_count": 47,
     "metadata": {},
     "output_type": "execute_result"
    }
   ],
   "source": [
    "X_train.shape[1]"
   ]
  },
  {
   "cell_type": "code",
   "execution_count": 48,
   "metadata": {},
   "outputs": [],
   "source": [
    "# 검증 데이터 손실(val_loss)이 증가하면, 과적합 징후\n",
    "# 검증 데이터 손실이 4회 증가하면 학습을 조기 종료(Early Stopping)\n",
    "# 검증 데이터의 정확도(val_acc)가 이전보다 좋아질 경우에만 모델을 저장\n",
    "es = EarlyStopping(monitor='val_loss', mode='min', verbose=1, patience=4)\n",
    "mc = ModelCheckpoint('best_model.h5', monitor='val_acc', mode='max', \n",
    "                     verbose=1, save_best_only=True)"
   ]
  },
  {
   "cell_type": "code",
   "execution_count": null,
   "metadata": {},
   "outputs": [
    {
     "name": "stdout",
     "output_type": "stream",
     "text": [
      "Train on 4374 samples, validate on 1094 samples\n",
      "Epoch 1/15\n",
      "4320/4374 [============================>.] - ETA: 0s - loss: 0.5657 - accuracy: 0.7102WARNING:tensorflow:Can save best model only with val_acc available, skipping.\n",
      "4374/4374 [==============================] - 6s 1ms/sample - loss: 0.5637 - accuracy: 0.7112 - val_loss: 0.4086 - val_accuracy: 0.8117\n",
      "Epoch 2/15\n",
      "4320/4374 [============================>.] - ETA: 0s - loss: 0.3231 - accuracy: 0.8720WARNING:tensorflow:Can save best model only with val_acc available, skipping.\n",
      "4374/4374 [==============================] - 4s 985us/sample - loss: 0.3222 - accuracy: 0.8722 - val_loss: 0.3878 - val_accuracy: 0.8227\n",
      "Epoch 3/15\n",
      "4320/4374 [============================>.] - ETA: 0s - loss: 0.2116 - accuracy: 0.9199WARNING:tensorflow:Can save best model only with val_acc available, skipping.\n",
      "4374/4374 [==============================] - 4s 1ms/sample - loss: 0.2127 - accuracy: 0.9191 - val_loss: 0.4399 - val_accuracy: 0.8254\n",
      "Epoch 4/15\n",
      "4320/4374 [============================>.] - ETA: 0s - loss: 0.1497 - accuracy: 0.9456WARNING:tensorflow:Can save best model only with val_acc available, skipping.\n",
      "4374/4374 [==============================] - 5s 1ms/sample - loss: 0.1515 - accuracy: 0.9449 - val_loss: 0.4894 - val_accuracy: 0.8190\n",
      "Epoch 5/15\n",
      "1800/4374 [===========>..................] - ETA: 2s - loss: 0.0878 - accuracy: 0.9722"
     ]
    }
   ],
   "source": [
    "model.compile(optimizer='adam', loss='binary_crossentropy', metrics=['accuracy'])\n",
    "history = model.fit(X_train, y_train, epochs=15, \n",
    "                    callbacks=[es, mc], batch_size=60, validation_split=0.2)"
   ]
  },
  {
   "cell_type": "code",
   "execution_count": null,
   "metadata": {},
   "outputs": [],
   "source": [
    "# loaded_model = load_model('best_model.h5')\n",
    "# print(\"\\n 테스트 정확도: %.4f\" % (loaded_model.evaluate(X_test, y_test)[1]))\n",
    "print(\"\\n 테스트 정확도: %.4f\" % (model.evaluate(X_test, y_test)[1]))"
   ]
  },
  {
   "cell_type": "code",
   "execution_count": null,
   "metadata": {},
   "outputs": [],
   "source": []
  }
 ],
 "metadata": {
  "hide_input": false,
  "kernelspec": {
   "display_name": "Python 3",
   "language": "python",
   "name": "python3"
  },
  "language_info": {
   "codemirror_mode": {
    "name": "ipython",
    "version": 3
   },
   "file_extension": ".py",
   "mimetype": "text/x-python",
   "name": "python",
   "nbconvert_exporter": "python",
   "pygments_lexer": "ipython3",
   "version": "3.7.7"
  },
  "toc": {
   "base_numbering": 1,
   "nav_menu": {},
   "number_sections": true,
   "sideBar": true,
   "skip_h1_title": false,
   "title_cell": "Table of Contents",
   "title_sidebar": "Contents",
   "toc_cell": false,
   "toc_position": {},
   "toc_section_display": true,
   "toc_window_display": false
  },
  "varInspector": {
   "cols": {
    "lenName": 16,
    "lenType": 16,
    "lenVar": 40
   },
   "kernels_config": {
    "python": {
     "delete_cmd_postfix": "",
     "delete_cmd_prefix": "del ",
     "library": "var_list.py",
     "varRefreshCmd": "print(var_dic_list())"
    },
    "r": {
     "delete_cmd_postfix": ") ",
     "delete_cmd_prefix": "rm(",
     "library": "var_list.r",
     "varRefreshCmd": "cat(var_dic_list()) "
    }
   },
   "types_to_exclude": [
    "module",
    "function",
    "builtin_function_or_method",
    "instance",
    "_Feature"
   ],
   "window_display": false
  }
 },
 "nbformat": 4,
 "nbformat_minor": 4
}
