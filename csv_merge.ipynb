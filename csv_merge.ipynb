{
 "cells": [
  {
   "cell_type": "code",
   "execution_count": 1,
   "metadata": {},
   "outputs": [],
   "source": [
    "import requests\n",
    "from bs4 import BeautifulSoup\n",
    "import pandas as pd\n",
    "\n",
    "import glob\n",
    "import os"
   ]
  },
  {
   "cell_type": "markdown",
   "metadata": {},
   "source": [
    "# CSV파일 병합하고 중복제거하기"
   ]
  },
  {
   "cell_type": "code",
   "execution_count": 2,
   "metadata": {},
   "outputs": [],
   "source": [
    "input_file = r'datasets/' # csv파일들이 있는 디렉토리 위치\n",
    "output_file = r'datasets/naver_movie_all.csv' # 병합하고 저장하려는 파일명\n",
    "\n",
    "# glob함수로 sales_로 시작하는 파일들을 모은다\n",
    "allFile_list = glob.glob(os.path.join(input_file, 'naver_movie_reviews_*'))\n",
    "\n",
    "# 읽어 들인 csv파일 내용을 저장할 빈 리스트를 하나 만든다\n",
    "allData = []\n",
    "\n",
    "for file in allFile_list:\n",
    "    df = pd.read_csv(file) # for구문으로 csv파일들을 읽어 들인다\n",
    "    allData.append(df) # 빈 리스트에 읽어 들인 내용을 추가한다\n",
    "\n",
    "# concat함수를 이용해서 리스트의 내용을 병합\n",
    "dataCombine = pd.concat(allData, axis=0, ignore_index=True)\n",
    "\n",
    "# axis=0은 수직으로 병합함. axis=1은 수평. ignore_index=True는 인데스 값이 기존 순서를 무시하고 순서대로 정렬되도록 한다.\n",
    "# to_csv함수로 저장한다. 인데스를 빼려면 False로 설정\n",
    "\n",
    "\n",
    "dataCombine.to_csv(output_file, index=False)"
   ]
  },
  {
   "cell_type": "code",
   "execution_count": 3,
   "metadata": {},
   "outputs": [],
   "source": [
    "data = pd.read_csv(\"datasets/naver_movie_all.csv\")\n",
    "data = pd.DataFrame(data, columns=[\"num\", \"document\", \"star\", \"label\"])\n",
    "data = data.drop([\"num\"], axis=1)"
   ]
  },
  {
   "cell_type": "code",
   "execution_count": 4,
   "metadata": {},
   "outputs": [
    {
     "data": {
      "text/html": [
       "<div>\n",
       "<style scoped>\n",
       "    .dataframe tbody tr th:only-of-type {\n",
       "        vertical-align: middle;\n",
       "    }\n",
       "\n",
       "    .dataframe tbody tr th {\n",
       "        vertical-align: top;\n",
       "    }\n",
       "\n",
       "    .dataframe thead th {\n",
       "        text-align: right;\n",
       "    }\n",
       "</style>\n",
       "<table border=\"1\" class=\"dataframe\">\n",
       "  <thead>\n",
       "    <tr style=\"text-align: right;\">\n",
       "      <th></th>\n",
       "      <th>document</th>\n",
       "      <th>star</th>\n",
       "      <th>label</th>\n",
       "    </tr>\n",
       "  </thead>\n",
       "  <tbody>\n",
       "    <tr>\n",
       "      <th>1</th>\n",
       "      <td>아이들과 정말 재밌게봤어요~</td>\n",
       "      <td>10</td>\n",
       "      <td>1.0</td>\n",
       "    </tr>\n",
       "    <tr>\n",
       "      <th>2</th>\n",
       "      <td>NaN</td>\n",
       "      <td>NaN</td>\n",
       "      <td>NaN</td>\n",
       "    </tr>\n",
       "    <tr>\n",
       "      <th>3</th>\n",
       "      <td>진부한 스토리가 예상되고 넷플릭스의 수많은 저질 작품들, 또 나오는 크리스 햄스워스...</td>\n",
       "      <td>10</td>\n",
       "      <td>1.0</td>\n",
       "    </tr>\n",
       "    <tr>\n",
       "      <th>4</th>\n",
       "      <td>팝콘 먹으러 영화관온거 같음....아.. 맞다.. 푹 자서 내용이 기억이 안나네?</td>\n",
       "      <td>1</td>\n",
       "      <td>0.0</td>\n",
       "    </tr>\n",
       "    <tr>\n",
       "      <th>5</th>\n",
       "      <td>훌륭합니다. 몰입하게 되는 영화</td>\n",
       "      <td>10</td>\n",
       "      <td>1.0</td>\n",
       "    </tr>\n",
       "    <tr>\n",
       "      <th>...</th>\n",
       "      <td>...</td>\n",
       "      <td>...</td>\n",
       "      <td>...</td>\n",
       "    </tr>\n",
       "    <tr>\n",
       "      <th>9246</th>\n",
       "      <td>NaN</td>\n",
       "      <td>NaN</td>\n",
       "      <td>NaN</td>\n",
       "    </tr>\n",
       "    <tr>\n",
       "      <th>9247</th>\n",
       "      <td>여러분, 시간은 돈입니다. 보지마세요.</td>\n",
       "      <td>1</td>\n",
       "      <td>0.0</td>\n",
       "    </tr>\n",
       "    <tr>\n",
       "      <th>9248</th>\n",
       "      <td>대세 배우들을 똥에 비벼놨네</td>\n",
       "      <td>1</td>\n",
       "      <td>0.0</td>\n",
       "    </tr>\n",
       "    <tr>\n",
       "      <th>9249</th>\n",
       "      <td>삶과 죽음이란것에 대해 한번 곱씹어 보게 만드는 영화 특히 정확히 기억은 안나지만 ...</td>\n",
       "      <td>9</td>\n",
       "      <td>1.0</td>\n",
       "    </tr>\n",
       "    <tr>\n",
       "      <th>9250</th>\n",
       "      <td>그냥 가벼운 맘으로 엄청 웃었다ㅋㅋ</td>\n",
       "      <td>9</td>\n",
       "      <td>1.0</td>\n",
       "    </tr>\n",
       "  </tbody>\n",
       "</table>\n",
       "<p>9250 rows × 3 columns</p>\n",
       "</div>"
      ],
      "text/plain": [
       "                                               document star  label\n",
       "1                                      아이들과 정말 재밌게봤어요~    10    1.0\n",
       "2                                                   NaN  NaN    NaN\n",
       "3     진부한 스토리가 예상되고 넷플릭스의 수많은 저질 작품들, 또 나오는 크리스 햄스워스...   10    1.0\n",
       "4        팝콘 먹으러 영화관온거 같음....아.. 맞다.. 푹 자서 내용이 기억이 안나네?     1    0.0\n",
       "5                                    훌륭합니다. 몰입하게 되는 영화    10    1.0\n",
       "...                                                 ...  ...    ...\n",
       "9246                                                NaN  NaN    NaN\n",
       "9247                             여러분, 시간은 돈입니다. 보지마세요.     1    0.0\n",
       "9248                                   대세 배우들을 똥에 비벼놨네     1    0.0\n",
       "9249  삶과 죽음이란것에 대해 한번 곱씹어 보게 만드는 영화 특히 정확히 기억은 안나지만 ...    9    1.0\n",
       "9250                               그냥 가벼운 맘으로 엄청 웃었다ㅋㅋ     9    1.0\n",
       "\n",
       "[9250 rows x 3 columns]"
      ]
     },
     "execution_count": 4,
     "metadata": {},
     "output_type": "execute_result"
    }
   ],
   "source": [
    "# null값이 있는지 확인하고 없애버린다\n",
    "# data['document'].isnull().sum()\n",
    "\n",
    "data = data.dropna(how='any')\n",
    "data['document'].nunique()\n",
    "data.reindex(range(1,len(df)+1))"
   ]
  }
 ],
 "metadata": {
  "hide_input": false,
  "kernelspec": {
   "display_name": "Python 3",
   "language": "python",
   "name": "python3"
  },
  "language_info": {
   "codemirror_mode": {
    "name": "ipython",
    "version": 3
   },
   "file_extension": ".py",
   "mimetype": "text/x-python",
   "name": "python",
   "nbconvert_exporter": "python",
   "pygments_lexer": "ipython3",
   "version": "3.7.7"
  },
  "toc": {
   "base_numbering": 1,
   "nav_menu": {},
   "number_sections": true,
   "sideBar": true,
   "skip_h1_title": false,
   "title_cell": "Table of Contents",
   "title_sidebar": "Contents",
   "toc_cell": false,
   "toc_position": {},
   "toc_section_display": true,
   "toc_window_display": false
  },
  "varInspector": {
   "cols": {
    "lenName": 16,
    "lenType": 16,
    "lenVar": 40
   },
   "kernels_config": {
    "python": {
     "delete_cmd_postfix": "",
     "delete_cmd_prefix": "del ",
     "library": "var_list.py",
     "varRefreshCmd": "print(var_dic_list())"
    },
    "r": {
     "delete_cmd_postfix": ") ",
     "delete_cmd_prefix": "rm(",
     "library": "var_list.r",
     "varRefreshCmd": "cat(var_dic_list()) "
    }
   },
   "types_to_exclude": [
    "module",
    "function",
    "builtin_function_or_method",
    "instance",
    "_Feature"
   ],
   "window_display": false
  }
 },
 "nbformat": 4,
 "nbformat_minor": 4
}
